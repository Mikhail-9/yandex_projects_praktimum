{
 "cells": [
  {
   "cell_type": "markdown",
   "metadata": {},
   "source": [
    "# Исследование надёжности заёмщиков\n",
    "\n",
    "Заказчик — кредитный отдел банка. Нужно разобраться, влияет ли семейное положение и количество детей клиента на факт погашения кредита в срок. Входные данные от банка — статистика о платёжеспособности клиентов.\n",
    "\n",
    "**Сформулируем и ответим на следующие вопросы**\n",
    "- Есть ли зависимость между наличием детей и возвратом кредита в срок?\n",
    "- Есть ли зависимость между семейным положением и возвратом кредита в срок?\n",
    "- Есть ли зависимость между уровнем дохода и возвратом кредита в срок?\n",
    "- Как разные цели кредита влияют на его возврат в срок?\n",
    "\n",
    "Результаты исследования будут учтены при построении модели **кредитного скоринга** — специальной системы, которая оценивает способность потенциального заёмщика вернуть кредит банку."
   ]
  },
  {
   "cell_type": "markdown",
   "metadata": {
    "toc": true
   },
   "source": [
    "<h1>Содержание<span class=\"tocSkip\"></span></h1>\n",
    "<div class=\"toc\"><ul class=\"toc-item\"><li><span><a href=\"#Загрузка-и-предобработка-данных\" data-toc-modified-id=\"Загрузка-и-предобработка-данных-1\"><span class=\"toc-item-num\">1&nbsp;&nbsp;</span>Загрузка и предобработка данных</a></span></li><li><span><a href=\"#Предобработка-данных\" data-toc-modified-id=\"Предобработка-данных-2\"><span class=\"toc-item-num\">2&nbsp;&nbsp;</span>Предобработка данных</a></span><ul class=\"toc-item\"><li><span><a href=\"#Обработка-пропусков-и-крайних-значений\" data-toc-modified-id=\"Обработка-пропусков-и-крайних-значений-2.1\"><span class=\"toc-item-num\">2.1&nbsp;&nbsp;</span>Обработка пропусков и крайних значений</a></span></li><li><span><a href=\"#Замена-типа-данных\" data-toc-modified-id=\"Замена-типа-данных-2.2\"><span class=\"toc-item-num\">2.2&nbsp;&nbsp;</span>Замена типа данных</a></span></li><li><span><a href=\"#Обработка-дубликатов\" data-toc-modified-id=\"Обработка-дубликатов-2.3\"><span class=\"toc-item-num\">2.3&nbsp;&nbsp;</span>Обработка дубликатов</a></span></li><li><span><a href=\"#Лемматизация\" data-toc-modified-id=\"Лемматизация-2.4\"><span class=\"toc-item-num\">2.4&nbsp;&nbsp;</span>Лемматизация</a></span></li><li><span><a href=\"#Категоризация-данных\" data-toc-modified-id=\"Категоризация-данных-2.5\"><span class=\"toc-item-num\">2.5&nbsp;&nbsp;</span>Категоризация данных</a></span></li></ul></li><li><span><a href=\"#Ответим-на-вопросы-исследования.\" data-toc-modified-id=\"Ответим-на-вопросы-исследования.-3\"><span class=\"toc-item-num\">3&nbsp;&nbsp;</span>Ответим на вопросы исследования.</a></span></li><li><span><a href=\"#Общий-вывод\" data-toc-modified-id=\"Общий-вывод-4\"><span class=\"toc-item-num\">4&nbsp;&nbsp;</span>Общий вывод</a></span></li></ul></div>"
   ]
  },
  {
   "cell_type": "markdown",
   "metadata": {},
   "source": [
    "## Загрузка и предобработка данных"
   ]
  },
  {
   "cell_type": "code",
   "execution_count": 26,
   "metadata": {
    "scrolled": true
   },
   "outputs": [],
   "source": [
    "import pandas as pd\n",
    "from pymystem3 import Mystem"
   ]
  },
  {
   "cell_type": "code",
   "execution_count": 27,
   "metadata": {},
   "outputs": [
    {
     "name": "stdout",
     "output_type": "stream",
     "text": [
      "<class 'pandas.core.frame.DataFrame'>\n",
      "RangeIndex: 21525 entries, 0 to 21524\n",
      "Data columns (total 12 columns):\n",
      " #   Column            Non-Null Count  Dtype  \n",
      "---  ------            --------------  -----  \n",
      " 0   children          21525 non-null  int64  \n",
      " 1   days_employed     19351 non-null  float64\n",
      " 2   dob_years         21525 non-null  int64  \n",
      " 3   education         21525 non-null  object \n",
      " 4   education_id      21525 non-null  int64  \n",
      " 5   family_status     21525 non-null  object \n",
      " 6   family_status_id  21525 non-null  int64  \n",
      " 7   gender            21525 non-null  object \n",
      " 8   income_type       21525 non-null  object \n",
      " 9   debt              21525 non-null  int64  \n",
      " 10  total_income      19351 non-null  float64\n",
      " 11  purpose           21525 non-null  object \n",
      "dtypes: float64(2), int64(5), object(5)\n",
      "memory usage: 2.0+ MB\n"
     ]
    },
    {
     "data": {
      "text/html": [
       "<div>\n",
       "<style scoped>\n",
       "    .dataframe tbody tr th:only-of-type {\n",
       "        vertical-align: middle;\n",
       "    }\n",
       "\n",
       "    .dataframe tbody tr th {\n",
       "        vertical-align: top;\n",
       "    }\n",
       "\n",
       "    .dataframe thead th {\n",
       "        text-align: right;\n",
       "    }\n",
       "</style>\n",
       "<table border=\"1\" class=\"dataframe\">\n",
       "  <thead>\n",
       "    <tr style=\"text-align: right;\">\n",
       "      <th></th>\n",
       "      <th>children</th>\n",
       "      <th>days_employed</th>\n",
       "      <th>dob_years</th>\n",
       "      <th>education</th>\n",
       "      <th>education_id</th>\n",
       "      <th>family_status</th>\n",
       "      <th>family_status_id</th>\n",
       "      <th>gender</th>\n",
       "      <th>income_type</th>\n",
       "      <th>debt</th>\n",
       "      <th>total_income</th>\n",
       "      <th>purpose</th>\n",
       "    </tr>\n",
       "  </thead>\n",
       "  <tbody>\n",
       "    <tr>\n",
       "      <th>0</th>\n",
       "      <td>1</td>\n",
       "      <td>-8437.673028</td>\n",
       "      <td>42</td>\n",
       "      <td>высшее</td>\n",
       "      <td>0</td>\n",
       "      <td>женат / замужем</td>\n",
       "      <td>0</td>\n",
       "      <td>F</td>\n",
       "      <td>сотрудник</td>\n",
       "      <td>0</td>\n",
       "      <td>253875.639453</td>\n",
       "      <td>покупка жилья</td>\n",
       "    </tr>\n",
       "    <tr>\n",
       "      <th>1</th>\n",
       "      <td>1</td>\n",
       "      <td>-4024.803754</td>\n",
       "      <td>36</td>\n",
       "      <td>среднее</td>\n",
       "      <td>1</td>\n",
       "      <td>женат / замужем</td>\n",
       "      <td>0</td>\n",
       "      <td>F</td>\n",
       "      <td>сотрудник</td>\n",
       "      <td>0</td>\n",
       "      <td>112080.014102</td>\n",
       "      <td>приобретение автомобиля</td>\n",
       "    </tr>\n",
       "    <tr>\n",
       "      <th>2</th>\n",
       "      <td>0</td>\n",
       "      <td>-5623.422610</td>\n",
       "      <td>33</td>\n",
       "      <td>Среднее</td>\n",
       "      <td>1</td>\n",
       "      <td>женат / замужем</td>\n",
       "      <td>0</td>\n",
       "      <td>M</td>\n",
       "      <td>сотрудник</td>\n",
       "      <td>0</td>\n",
       "      <td>145885.952297</td>\n",
       "      <td>покупка жилья</td>\n",
       "    </tr>\n",
       "    <tr>\n",
       "      <th>3</th>\n",
       "      <td>3</td>\n",
       "      <td>-4124.747207</td>\n",
       "      <td>32</td>\n",
       "      <td>среднее</td>\n",
       "      <td>1</td>\n",
       "      <td>женат / замужем</td>\n",
       "      <td>0</td>\n",
       "      <td>M</td>\n",
       "      <td>сотрудник</td>\n",
       "      <td>0</td>\n",
       "      <td>267628.550329</td>\n",
       "      <td>дополнительное образование</td>\n",
       "    </tr>\n",
       "    <tr>\n",
       "      <th>4</th>\n",
       "      <td>0</td>\n",
       "      <td>340266.072047</td>\n",
       "      <td>53</td>\n",
       "      <td>среднее</td>\n",
       "      <td>1</td>\n",
       "      <td>гражданский брак</td>\n",
       "      <td>1</td>\n",
       "      <td>F</td>\n",
       "      <td>пенсионер</td>\n",
       "      <td>0</td>\n",
       "      <td>158616.077870</td>\n",
       "      <td>сыграть свадьбу</td>\n",
       "    </tr>\n",
       "    <tr>\n",
       "      <th>...</th>\n",
       "      <td>...</td>\n",
       "      <td>...</td>\n",
       "      <td>...</td>\n",
       "      <td>...</td>\n",
       "      <td>...</td>\n",
       "      <td>...</td>\n",
       "      <td>...</td>\n",
       "      <td>...</td>\n",
       "      <td>...</td>\n",
       "      <td>...</td>\n",
       "      <td>...</td>\n",
       "      <td>...</td>\n",
       "    </tr>\n",
       "    <tr>\n",
       "      <th>21520</th>\n",
       "      <td>1</td>\n",
       "      <td>-4529.316663</td>\n",
       "      <td>43</td>\n",
       "      <td>среднее</td>\n",
       "      <td>1</td>\n",
       "      <td>гражданский брак</td>\n",
       "      <td>1</td>\n",
       "      <td>F</td>\n",
       "      <td>компаньон</td>\n",
       "      <td>0</td>\n",
       "      <td>224791.862382</td>\n",
       "      <td>операции с жильем</td>\n",
       "    </tr>\n",
       "    <tr>\n",
       "      <th>21521</th>\n",
       "      <td>0</td>\n",
       "      <td>343937.404131</td>\n",
       "      <td>67</td>\n",
       "      <td>среднее</td>\n",
       "      <td>1</td>\n",
       "      <td>женат / замужем</td>\n",
       "      <td>0</td>\n",
       "      <td>F</td>\n",
       "      <td>пенсионер</td>\n",
       "      <td>0</td>\n",
       "      <td>155999.806512</td>\n",
       "      <td>сделка с автомобилем</td>\n",
       "    </tr>\n",
       "    <tr>\n",
       "      <th>21522</th>\n",
       "      <td>1</td>\n",
       "      <td>-2113.346888</td>\n",
       "      <td>38</td>\n",
       "      <td>среднее</td>\n",
       "      <td>1</td>\n",
       "      <td>гражданский брак</td>\n",
       "      <td>1</td>\n",
       "      <td>M</td>\n",
       "      <td>сотрудник</td>\n",
       "      <td>1</td>\n",
       "      <td>89672.561153</td>\n",
       "      <td>недвижимость</td>\n",
       "    </tr>\n",
       "    <tr>\n",
       "      <th>21523</th>\n",
       "      <td>3</td>\n",
       "      <td>-3112.481705</td>\n",
       "      <td>38</td>\n",
       "      <td>среднее</td>\n",
       "      <td>1</td>\n",
       "      <td>женат / замужем</td>\n",
       "      <td>0</td>\n",
       "      <td>M</td>\n",
       "      <td>сотрудник</td>\n",
       "      <td>1</td>\n",
       "      <td>244093.050500</td>\n",
       "      <td>на покупку своего автомобиля</td>\n",
       "    </tr>\n",
       "    <tr>\n",
       "      <th>21524</th>\n",
       "      <td>2</td>\n",
       "      <td>-1984.507589</td>\n",
       "      <td>40</td>\n",
       "      <td>среднее</td>\n",
       "      <td>1</td>\n",
       "      <td>женат / замужем</td>\n",
       "      <td>0</td>\n",
       "      <td>F</td>\n",
       "      <td>сотрудник</td>\n",
       "      <td>0</td>\n",
       "      <td>82047.418899</td>\n",
       "      <td>на покупку автомобиля</td>\n",
       "    </tr>\n",
       "  </tbody>\n",
       "</table>\n",
       "<p>21525 rows × 12 columns</p>\n",
       "</div>"
      ],
      "text/plain": [
       "       children  days_employed  dob_years education  education_id  \\\n",
       "0             1   -8437.673028         42    высшее             0   \n",
       "1             1   -4024.803754         36   среднее             1   \n",
       "2             0   -5623.422610         33   Среднее             1   \n",
       "3             3   -4124.747207         32   среднее             1   \n",
       "4             0  340266.072047         53   среднее             1   \n",
       "...         ...            ...        ...       ...           ...   \n",
       "21520         1   -4529.316663         43   среднее             1   \n",
       "21521         0  343937.404131         67   среднее             1   \n",
       "21522         1   -2113.346888         38   среднее             1   \n",
       "21523         3   -3112.481705         38   среднее             1   \n",
       "21524         2   -1984.507589         40   среднее             1   \n",
       "\n",
       "          family_status  family_status_id gender income_type  debt  \\\n",
       "0       женат / замужем                 0      F   сотрудник     0   \n",
       "1       женат / замужем                 0      F   сотрудник     0   \n",
       "2       женат / замужем                 0      M   сотрудник     0   \n",
       "3       женат / замужем                 0      M   сотрудник     0   \n",
       "4      гражданский брак                 1      F   пенсионер     0   \n",
       "...                 ...               ...    ...         ...   ...   \n",
       "21520  гражданский брак                 1      F   компаньон     0   \n",
       "21521   женат / замужем                 0      F   пенсионер     0   \n",
       "21522  гражданский брак                 1      M   сотрудник     1   \n",
       "21523   женат / замужем                 0      M   сотрудник     1   \n",
       "21524   женат / замужем                 0      F   сотрудник     0   \n",
       "\n",
       "        total_income                       purpose  \n",
       "0      253875.639453                 покупка жилья  \n",
       "1      112080.014102       приобретение автомобиля  \n",
       "2      145885.952297                 покупка жилья  \n",
       "3      267628.550329    дополнительное образование  \n",
       "4      158616.077870               сыграть свадьбу  \n",
       "...              ...                           ...  \n",
       "21520  224791.862382             операции с жильем  \n",
       "21521  155999.806512          сделка с автомобилем  \n",
       "21522   89672.561153                  недвижимость  \n",
       "21523  244093.050500  на покупку своего автомобиля  \n",
       "21524   82047.418899         на покупку автомобиля  \n",
       "\n",
       "[21525 rows x 12 columns]"
      ]
     },
     "metadata": {},
     "output_type": "display_data"
    }
   ],
   "source": [
    "f_scoring = pd.read_csv('')\n",
    "f_scoring.info()\n",
    "display(f_scoring)"
   ]
  },
  {
   "cell_type": "markdown",
   "metadata": {},
   "source": [
    "**Поиск аномальных значений**"
   ]
  },
  {
   "cell_type": "code",
   "execution_count": 28,
   "metadata": {},
   "outputs": [
    {
     "data": {
      "text/plain": [
       "array([42, 36, 33, 32, 53, 27, 43, 50, 35, 41, 40, 65, 54, 56, 26, 48, 24,\n",
       "       21, 57, 67, 28, 63, 62, 47, 34, 68, 25, 31, 30, 20, 49, 37, 45, 61,\n",
       "       64, 44, 52, 46, 23, 38, 39, 51,  0, 59, 29, 60, 55, 58, 71, 22, 73,\n",
       "       66, 69, 19, 72, 70, 74, 75], dtype=int64)"
      ]
     },
     "execution_count": 28,
     "metadata": {},
     "output_type": "execute_result"
    }
   ],
   "source": [
    "f_scoring['dob_years'].unique()"
   ]
  },
  {
   "cell_type": "code",
   "execution_count": 29,
   "metadata": {},
   "outputs": [
    {
     "data": {
      "text/plain": [
       "array(['F', 'M', 'XNA'], dtype=object)"
      ]
     },
     "execution_count": 29,
     "metadata": {},
     "output_type": "execute_result"
    }
   ],
   "source": [
    "f_scoring['gender'].unique()"
   ]
  },
  {
   "cell_type": "code",
   "execution_count": 30,
   "metadata": {},
   "outputs": [
    {
     "data": {
      "text/plain": [
       "array([ 1,  0,  3,  2, -1,  4, 20,  5], dtype=int64)"
      ]
     },
     "execution_count": 30,
     "metadata": {},
     "output_type": "execute_result"
    }
   ],
   "source": [
    "f_scoring['children'].unique()"
   ]
  },
  {
   "cell_type": "markdown",
   "metadata": {},
   "source": [
    "* Пропуски в столбцах days_employed, total_income\n",
    "* В столбце days_employed встречаются отрицательные значения, выбросы значений в разы превосходящие возможные\n",
    "* В столбце education встречается разный регистр\n",
    "* В столбцах days_epmloyed, total_income лишняя точность, мешает восприятию данных.\n",
    "* В столбцах 'dob_years', 'gender', 'children' обнаружены аномальные значения."
   ]
  },
  {
   "cell_type": "markdown",
   "metadata": {},
   "source": [
    "# Вывод\n",
    "* Нужна предобработка"
   ]
  },
  {
   "cell_type": "markdown",
   "metadata": {},
   "source": [
    "## Предобработка данных"
   ]
  },
  {
   "cell_type": "markdown",
   "metadata": {},
   "source": [
    "### Обработка пропусков и крайних значений"
   ]
  },
  {
   "cell_type": "markdown",
   "metadata": {},
   "source": [
    "**Посчитаем количество аномальных значений в 'dob_years' & 'gendre'**"
   ]
  },
  {
   "cell_type": "code",
   "execution_count": 31,
   "metadata": {},
   "outputs": [
    {
     "data": {
      "text/plain": [
       "children            101\n",
       "days_employed        91\n",
       "dob_years           101\n",
       "education           101\n",
       "education_id        101\n",
       "family_status       101\n",
       "family_status_id    101\n",
       "gender              101\n",
       "income_type         101\n",
       "debt                101\n",
       "total_income         91\n",
       "purpose             101\n",
       "dtype: int64"
      ]
     },
     "execution_count": 31,
     "metadata": {},
     "output_type": "execute_result"
    }
   ],
   "source": [
    "f_scoring[f_scoring['dob_years'] == 0].count()"
   ]
  },
  {
   "cell_type": "code",
   "execution_count": 32,
   "metadata": {},
   "outputs": [
    {
     "data": {
      "text/plain": [
       "children            1\n",
       "days_employed       1\n",
       "dob_years           1\n",
       "education           1\n",
       "education_id        1\n",
       "family_status       1\n",
       "family_status_id    1\n",
       "gender              1\n",
       "income_type         1\n",
       "debt                1\n",
       "total_income        1\n",
       "purpose             1\n",
       "dtype: int64"
      ]
     },
     "execution_count": 32,
     "metadata": {},
     "output_type": "execute_result"
    }
   ],
   "source": [
    "f_scoring[f_scoring['gender'] == 'XNA'].count()"
   ]
  },
  {
   "cell_type": "code",
   "execution_count": 33,
   "metadata": {},
   "outputs": [
    {
     "data": {
      "text/plain": [
       "children            76\n",
       "days_employed       67\n",
       "dob_years           76\n",
       "education           76\n",
       "education_id        76\n",
       "family_status       76\n",
       "family_status_id    76\n",
       "gender              76\n",
       "income_type         76\n",
       "debt                76\n",
       "total_income        67\n",
       "purpose             76\n",
       "dtype: int64"
      ]
     },
     "execution_count": 33,
     "metadata": {},
     "output_type": "execute_result"
    }
   ],
   "source": [
    "f_scoring[f_scoring['children'] == 20].count()"
   ]
  },
  {
   "cell_type": "markdown",
   "metadata": {},
   "source": [
    "Количество значений невелико, принебрегём ими оставив в таком виде."
   ]
  },
  {
   "cell_type": "markdown",
   "metadata": {},
   "source": [
    "**Заменим отрицательные значения, на значения по модулю.**"
   ]
  },
  {
   "cell_type": "code",
   "execution_count": 34,
   "metadata": {},
   "outputs": [],
   "source": [
    "f_scoring['days_employed'] = abs(f_scoring['days_employed'])"
   ]
  },
  {
   "cell_type": "markdown",
   "metadata": {},
   "source": [
    "**Посчитаем заведомо неприемлемые значения, примем за границу количество дней которые человек работает с 18 до 62,5 лет**"
   ]
  },
  {
   "cell_type": "code",
   "execution_count": 35,
   "metadata": {},
   "outputs": [
    {
     "data": {
      "text/plain": [
       "children            3449\n",
       "days_employed       3449\n",
       "dob_years           3449\n",
       "education           3449\n",
       "education_id        3449\n",
       "family_status       3449\n",
       "family_status_id    3449\n",
       "gender              3449\n",
       "income_type         3449\n",
       "debt                3449\n",
       "total_income        3449\n",
       "purpose             3449\n",
       "dtype: int64"
      ]
     },
     "execution_count": 35,
     "metadata": {},
     "output_type": "execute_result"
    }
   ],
   "source": [
    "f_scoring[f_scoring['days_employed'] > 16242].count()"
   ]
  },
  {
   "cell_type": "markdown",
   "metadata": {},
   "source": [
    "* больше 15%, удаление не подходит, обработаем эти значения\n",
    "* изучив таблицу предположим, что указанные значения это отклонения от истинных на два порядка, приведем их к прежнему виду.\n"
   ]
  },
  {
   "cell_type": "code",
   "execution_count": 36,
   "metadata": {},
   "outputs": [],
   "source": [
    "f_scoring.loc[(f_scoring['days_employed'] > 16242), 'days_employed'] = f_scoring['days_employed']/100"
   ]
  },
  {
   "cell_type": "markdown",
   "metadata": {},
   "source": [
    "**Проверка**"
   ]
  },
  {
   "cell_type": "code",
   "execution_count": 37,
   "metadata": {},
   "outputs": [
    {
     "data": {
      "text/plain": [
       "children            0\n",
       "days_employed       0\n",
       "dob_years           0\n",
       "education           0\n",
       "education_id        0\n",
       "family_status       0\n",
       "family_status_id    0\n",
       "gender              0\n",
       "income_type         0\n",
       "debt                0\n",
       "total_income        0\n",
       "purpose             0\n",
       "dtype: int64"
      ]
     },
     "execution_count": 37,
     "metadata": {},
     "output_type": "execute_result"
    }
   ],
   "source": [
    "f_scoring[f_scoring['days_employed'] > 16242].count()"
   ]
  },
  {
   "cell_type": "code",
   "execution_count": 38,
   "metadata": {},
   "outputs": [
    {
     "data": {
      "text/html": [
       "<div>\n",
       "<style scoped>\n",
       "    .dataframe tbody tr th:only-of-type {\n",
       "        vertical-align: middle;\n",
       "    }\n",
       "\n",
       "    .dataframe tbody tr th {\n",
       "        vertical-align: top;\n",
       "    }\n",
       "\n",
       "    .dataframe thead th {\n",
       "        text-align: right;\n",
       "    }\n",
       "</style>\n",
       "<table border=\"1\" class=\"dataframe\">\n",
       "  <thead>\n",
       "    <tr style=\"text-align: right;\">\n",
       "      <th></th>\n",
       "      <th>children</th>\n",
       "      <th>days_employed</th>\n",
       "      <th>dob_years</th>\n",
       "      <th>education</th>\n",
       "      <th>education_id</th>\n",
       "      <th>family_status</th>\n",
       "      <th>family_status_id</th>\n",
       "      <th>gender</th>\n",
       "      <th>income_type</th>\n",
       "      <th>debt</th>\n",
       "      <th>total_income</th>\n",
       "      <th>purpose</th>\n",
       "    </tr>\n",
       "  </thead>\n",
       "  <tbody>\n",
       "    <tr>\n",
       "      <th>0</th>\n",
       "      <td>1</td>\n",
       "      <td>8437.673028</td>\n",
       "      <td>42</td>\n",
       "      <td>высшее</td>\n",
       "      <td>0</td>\n",
       "      <td>женат / замужем</td>\n",
       "      <td>0</td>\n",
       "      <td>F</td>\n",
       "      <td>сотрудник</td>\n",
       "      <td>0</td>\n",
       "      <td>253875.639453</td>\n",
       "      <td>покупка жилья</td>\n",
       "    </tr>\n",
       "    <tr>\n",
       "      <th>1</th>\n",
       "      <td>1</td>\n",
       "      <td>4024.803754</td>\n",
       "      <td>36</td>\n",
       "      <td>среднее</td>\n",
       "      <td>1</td>\n",
       "      <td>женат / замужем</td>\n",
       "      <td>0</td>\n",
       "      <td>F</td>\n",
       "      <td>сотрудник</td>\n",
       "      <td>0</td>\n",
       "      <td>112080.014102</td>\n",
       "      <td>приобретение автомобиля</td>\n",
       "    </tr>\n",
       "    <tr>\n",
       "      <th>2</th>\n",
       "      <td>0</td>\n",
       "      <td>5623.422610</td>\n",
       "      <td>33</td>\n",
       "      <td>Среднее</td>\n",
       "      <td>1</td>\n",
       "      <td>женат / замужем</td>\n",
       "      <td>0</td>\n",
       "      <td>M</td>\n",
       "      <td>сотрудник</td>\n",
       "      <td>0</td>\n",
       "      <td>145885.952297</td>\n",
       "      <td>покупка жилья</td>\n",
       "    </tr>\n",
       "    <tr>\n",
       "      <th>3</th>\n",
       "      <td>3</td>\n",
       "      <td>4124.747207</td>\n",
       "      <td>32</td>\n",
       "      <td>среднее</td>\n",
       "      <td>1</td>\n",
       "      <td>женат / замужем</td>\n",
       "      <td>0</td>\n",
       "      <td>M</td>\n",
       "      <td>сотрудник</td>\n",
       "      <td>0</td>\n",
       "      <td>267628.550329</td>\n",
       "      <td>дополнительное образование</td>\n",
       "    </tr>\n",
       "    <tr>\n",
       "      <th>4</th>\n",
       "      <td>0</td>\n",
       "      <td>3402.660720</td>\n",
       "      <td>53</td>\n",
       "      <td>среднее</td>\n",
       "      <td>1</td>\n",
       "      <td>гражданский брак</td>\n",
       "      <td>1</td>\n",
       "      <td>F</td>\n",
       "      <td>пенсионер</td>\n",
       "      <td>0</td>\n",
       "      <td>158616.077870</td>\n",
       "      <td>сыграть свадьбу</td>\n",
       "    </tr>\n",
       "    <tr>\n",
       "      <th>...</th>\n",
       "      <td>...</td>\n",
       "      <td>...</td>\n",
       "      <td>...</td>\n",
       "      <td>...</td>\n",
       "      <td>...</td>\n",
       "      <td>...</td>\n",
       "      <td>...</td>\n",
       "      <td>...</td>\n",
       "      <td>...</td>\n",
       "      <td>...</td>\n",
       "      <td>...</td>\n",
       "      <td>...</td>\n",
       "    </tr>\n",
       "    <tr>\n",
       "      <th>21520</th>\n",
       "      <td>1</td>\n",
       "      <td>4529.316663</td>\n",
       "      <td>43</td>\n",
       "      <td>среднее</td>\n",
       "      <td>1</td>\n",
       "      <td>гражданский брак</td>\n",
       "      <td>1</td>\n",
       "      <td>F</td>\n",
       "      <td>компаньон</td>\n",
       "      <td>0</td>\n",
       "      <td>224791.862382</td>\n",
       "      <td>операции с жильем</td>\n",
       "    </tr>\n",
       "    <tr>\n",
       "      <th>21521</th>\n",
       "      <td>0</td>\n",
       "      <td>3439.374041</td>\n",
       "      <td>67</td>\n",
       "      <td>среднее</td>\n",
       "      <td>1</td>\n",
       "      <td>женат / замужем</td>\n",
       "      <td>0</td>\n",
       "      <td>F</td>\n",
       "      <td>пенсионер</td>\n",
       "      <td>0</td>\n",
       "      <td>155999.806512</td>\n",
       "      <td>сделка с автомобилем</td>\n",
       "    </tr>\n",
       "    <tr>\n",
       "      <th>21522</th>\n",
       "      <td>1</td>\n",
       "      <td>2113.346888</td>\n",
       "      <td>38</td>\n",
       "      <td>среднее</td>\n",
       "      <td>1</td>\n",
       "      <td>гражданский брак</td>\n",
       "      <td>1</td>\n",
       "      <td>M</td>\n",
       "      <td>сотрудник</td>\n",
       "      <td>1</td>\n",
       "      <td>89672.561153</td>\n",
       "      <td>недвижимость</td>\n",
       "    </tr>\n",
       "    <tr>\n",
       "      <th>21523</th>\n",
       "      <td>3</td>\n",
       "      <td>3112.481705</td>\n",
       "      <td>38</td>\n",
       "      <td>среднее</td>\n",
       "      <td>1</td>\n",
       "      <td>женат / замужем</td>\n",
       "      <td>0</td>\n",
       "      <td>M</td>\n",
       "      <td>сотрудник</td>\n",
       "      <td>1</td>\n",
       "      <td>244093.050500</td>\n",
       "      <td>на покупку своего автомобиля</td>\n",
       "    </tr>\n",
       "    <tr>\n",
       "      <th>21524</th>\n",
       "      <td>2</td>\n",
       "      <td>1984.507589</td>\n",
       "      <td>40</td>\n",
       "      <td>среднее</td>\n",
       "      <td>1</td>\n",
       "      <td>женат / замужем</td>\n",
       "      <td>0</td>\n",
       "      <td>F</td>\n",
       "      <td>сотрудник</td>\n",
       "      <td>0</td>\n",
       "      <td>82047.418899</td>\n",
       "      <td>на покупку автомобиля</td>\n",
       "    </tr>\n",
       "  </tbody>\n",
       "</table>\n",
       "<p>21525 rows × 12 columns</p>\n",
       "</div>"
      ],
      "text/plain": [
       "       children  days_employed  dob_years education  education_id  \\\n",
       "0             1    8437.673028         42    высшее             0   \n",
       "1             1    4024.803754         36   среднее             1   \n",
       "2             0    5623.422610         33   Среднее             1   \n",
       "3             3    4124.747207         32   среднее             1   \n",
       "4             0    3402.660720         53   среднее             1   \n",
       "...         ...            ...        ...       ...           ...   \n",
       "21520         1    4529.316663         43   среднее             1   \n",
       "21521         0    3439.374041         67   среднее             1   \n",
       "21522         1    2113.346888         38   среднее             1   \n",
       "21523         3    3112.481705         38   среднее             1   \n",
       "21524         2    1984.507589         40   среднее             1   \n",
       "\n",
       "          family_status  family_status_id gender income_type  debt  \\\n",
       "0       женат / замужем                 0      F   сотрудник     0   \n",
       "1       женат / замужем                 0      F   сотрудник     0   \n",
       "2       женат / замужем                 0      M   сотрудник     0   \n",
       "3       женат / замужем                 0      M   сотрудник     0   \n",
       "4      гражданский брак                 1      F   пенсионер     0   \n",
       "...                 ...               ...    ...         ...   ...   \n",
       "21520  гражданский брак                 1      F   компаньон     0   \n",
       "21521   женат / замужем                 0      F   пенсионер     0   \n",
       "21522  гражданский брак                 1      M   сотрудник     1   \n",
       "21523   женат / замужем                 0      M   сотрудник     1   \n",
       "21524   женат / замужем                 0      F   сотрудник     0   \n",
       "\n",
       "        total_income                       purpose  \n",
       "0      253875.639453                 покупка жилья  \n",
       "1      112080.014102       приобретение автомобиля  \n",
       "2      145885.952297                 покупка жилья  \n",
       "3      267628.550329    дополнительное образование  \n",
       "4      158616.077870               сыграть свадьбу  \n",
       "...              ...                           ...  \n",
       "21520  224791.862382             операции с жильем  \n",
       "21521  155999.806512          сделка с автомобилем  \n",
       "21522   89672.561153                  недвижимость  \n",
       "21523  244093.050500  на покупку своего автомобиля  \n",
       "21524   82047.418899         на покупку автомобиля  \n",
       "\n",
       "[21525 rows x 12 columns]"
      ]
     },
     "metadata": {},
     "output_type": "display_data"
    }
   ],
   "source": [
    "display(f_scoring)"
   ]
  },
  {
   "cell_type": "markdown",
   "metadata": {},
   "source": [
    "**Посчитаем пропуски**"
   ]
  },
  {
   "cell_type": "code",
   "execution_count": 39,
   "metadata": {},
   "outputs": [
    {
     "data": {
      "text/plain": [
       "children               0\n",
       "days_employed       2174\n",
       "dob_years              0\n",
       "education              0\n",
       "education_id           0\n",
       "family_status          0\n",
       "family_status_id       0\n",
       "gender                 0\n",
       "income_type            0\n",
       "debt                   0\n",
       "total_income        2174\n",
       "purpose                0\n",
       "dtype: int64"
      ]
     },
     "execution_count": 39,
     "metadata": {},
     "output_type": "execute_result"
    }
   ],
   "source": [
    "f_scoring.isna().sum()"
   ]
  },
  {
   "cell_type": "markdown",
   "metadata": {},
   "source": [
    " **Заменим значения на медианное**"
   ]
  },
  {
   "cell_type": "code",
   "execution_count": 40,
   "metadata": {},
   "outputs": [],
   "source": [
    "f_scoring['days_employed'] = f_scoring['days_employed'].fillna(f_scoring['days_employed'].median())"
   ]
  },
  {
   "cell_type": "code",
   "execution_count": 41,
   "metadata": {},
   "outputs": [],
   "source": [
    "f_scoring['total_income'] = f_scoring['total_income'].fillna(f_scoring['total_income'].median())"
   ]
  },
  {
   "cell_type": "markdown",
   "metadata": {},
   "source": [
    "**Проверка**"
   ]
  },
  {
   "cell_type": "code",
   "execution_count": 42,
   "metadata": {},
   "outputs": [
    {
     "data": {
      "text/plain": [
       "children            0\n",
       "days_employed       0\n",
       "dob_years           0\n",
       "education           0\n",
       "education_id        0\n",
       "family_status       0\n",
       "family_status_id    0\n",
       "gender              0\n",
       "income_type         0\n",
       "debt                0\n",
       "total_income        0\n",
       "purpose             0\n",
       "dtype: int64"
      ]
     },
     "execution_count": 42,
     "metadata": {},
     "output_type": "execute_result"
    }
   ],
   "source": [
    "f_scoring.isna().sum()"
   ]
  },
  {
   "cell_type": "markdown",
   "metadata": {},
   "source": [
    "# Вывод"
   ]
  },
  {
   "cell_type": "markdown",
   "metadata": {},
   "source": [
    "10% процентов пропусков это много для удаления, данные числовые, поэтому заменили пропуски на медиану, предварительно уменьшив влияние крайних значений.Пропуски возникли в столбцах без которых кредиты не выдают,а если выдают то это кредиты по двум документам, т.о. самое вероятное это кредиты выданные по двум документам."
   ]
  },
  {
   "cell_type": "markdown",
   "metadata": {},
   "source": [
    "### Замена типа данных"
   ]
  },
  {
   "cell_type": "markdown",
   "metadata": {},
   "source": [
    "**Заменим вещественный тип на целый**"
   ]
  },
  {
   "cell_type": "code",
   "execution_count": 43,
   "metadata": {},
   "outputs": [],
   "source": [
    "f_scoring['days_employed'] = f_scoring['days_employed'].astype('int')"
   ]
  },
  {
   "cell_type": "code",
   "execution_count": 44,
   "metadata": {},
   "outputs": [],
   "source": [
    "f_scoring['total_income'] = f_scoring['total_income'].astype('int')"
   ]
  },
  {
   "cell_type": "markdown",
   "metadata": {},
   "source": [
    "**Проверка**"
   ]
  },
  {
   "cell_type": "code",
   "execution_count": 45,
   "metadata": {
    "scrolled": true
   },
   "outputs": [
    {
     "data": {
      "text/plain": [
       "children             int64\n",
       "days_employed        int32\n",
       "dob_years            int64\n",
       "education           object\n",
       "education_id         int64\n",
       "family_status       object\n",
       "family_status_id     int64\n",
       "gender              object\n",
       "income_type         object\n",
       "debt                 int64\n",
       "total_income         int32\n",
       "purpose             object\n",
       "dtype: object"
      ]
     },
     "execution_count": 45,
     "metadata": {},
     "output_type": "execute_result"
    }
   ],
   "source": [
    "f_scoring.dtypes"
   ]
  },
  {
   "cell_type": "markdown",
   "metadata": {},
   "source": [
    "**Приведем к нижнему регистру**"
   ]
  },
  {
   "cell_type": "code",
   "execution_count": 46,
   "metadata": {},
   "outputs": [],
   "source": [
    "f_scoring['education'] = f_scoring['education'].str.lower()"
   ]
  },
  {
   "cell_type": "markdown",
   "metadata": {},
   "source": [
    "# Вывод"
   ]
  },
  {
   "cell_type": "markdown",
   "metadata": {},
   "source": [
    "Мы молодцы, отлично заменили вещественные данные на целочисленные, приведя логику и восприятие в порядок, привели строки в колонке к нижнему регистру."
   ]
  },
  {
   "cell_type": "markdown",
   "metadata": {},
   "source": [
    "### Обработка дубликатов"
   ]
  },
  {
   "cell_type": "markdown",
   "metadata": {},
   "source": [
    "**Узнаем размер таблицы до изменений**"
   ]
  },
  {
   "cell_type": "code",
   "execution_count": 47,
   "metadata": {},
   "outputs": [
    {
     "data": {
      "text/plain": [
       "(21525, 12)"
      ]
     },
     "execution_count": 47,
     "metadata": {},
     "output_type": "execute_result"
    }
   ],
   "source": [
    "f_scoring.shape"
   ]
  },
  {
   "cell_type": "markdown",
   "metadata": {},
   "source": [
    "**Поиск дубликатов**"
   ]
  },
  {
   "cell_type": "code",
   "execution_count": 48,
   "metadata": {},
   "outputs": [
    {
     "data": {
      "text/plain": [
       "71"
      ]
     },
     "execution_count": 48,
     "metadata": {},
     "output_type": "execute_result"
    }
   ],
   "source": [
    "f_scoring.duplicated().sum()"
   ]
  },
  {
   "cell_type": "markdown",
   "metadata": {},
   "source": [
    "**Сохраним чистую таблицу в новой переменной удалив дубликаты**"
   ]
  },
  {
   "cell_type": "code",
   "execution_count": 49,
   "metadata": {},
   "outputs": [],
   "source": [
    "f_scoring_clear = f_scoring.drop_duplicates().reset_index(drop=True)"
   ]
  },
  {
   "cell_type": "markdown",
   "metadata": {},
   "source": [
    "**Проверка**"
   ]
  },
  {
   "cell_type": "code",
   "execution_count": 50,
   "metadata": {},
   "outputs": [
    {
     "data": {
      "text/plain": [
       "0"
      ]
     },
     "execution_count": 50,
     "metadata": {},
     "output_type": "execute_result"
    }
   ],
   "source": [
    "f_scoring_clear.duplicated().sum()"
   ]
  },
  {
   "cell_type": "markdown",
   "metadata": {},
   "source": [
    "**Размер после изменений всё сработало коректно**"
   ]
  },
  {
   "cell_type": "code",
   "execution_count": 51,
   "metadata": {},
   "outputs": [
    {
     "data": {
      "text/plain": [
       "(21454, 12)"
      ]
     },
     "execution_count": 51,
     "metadata": {},
     "output_type": "execute_result"
    }
   ],
   "source": [
    "f_scoring_clear.shape"
   ]
  },
  {
   "cell_type": "markdown",
   "metadata": {},
   "source": [
    "# Вывод"
   ]
  },
  {
   "cell_type": "markdown",
   "metadata": {},
   "source": [
    "Дубликаты удалены."
   ]
  },
  {
   "cell_type": "markdown",
   "metadata": {},
   "source": [
    "### Лемматизация"
   ]
  },
  {
   "cell_type": "markdown",
   "metadata": {},
   "source": [
    "**Вернём список уникальных значений**"
   ]
  },
  {
   "cell_type": "code",
   "execution_count": 52,
   "metadata": {},
   "outputs": [
    {
     "name": "stdout",
     "output_type": "stream",
     "text": [
      "['покупка жилья' 'приобретение автомобиля' 'дополнительное образование'\n",
      " 'сыграть свадьбу' 'операции с жильем' 'образование'\n",
      " 'на проведение свадьбы' 'покупка жилья для семьи' 'покупка недвижимости'\n",
      " 'покупка коммерческой недвижимости' 'покупка жилой недвижимости'\n",
      " 'строительство собственной недвижимости' 'недвижимость'\n",
      " 'строительство недвижимости' 'на покупку подержанного автомобиля'\n",
      " 'на покупку своего автомобиля' 'операции с коммерческой недвижимостью'\n",
      " 'строительство жилой недвижимости' 'жилье'\n",
      " 'операции со своей недвижимостью' 'автомобили' 'заняться образованием'\n",
      " 'сделка с подержанным автомобилем' 'получение образования' 'автомобиль'\n",
      " 'свадьба' 'получение дополнительного образования' 'покупка своего жилья'\n",
      " 'операции с недвижимостью' 'получение высшего образования'\n",
      " 'свой автомобиль' 'сделка с автомобилем' 'профильное образование'\n",
      " 'высшее образование' 'покупка жилья для сдачи' 'на покупку автомобиля'\n",
      " 'ремонт жилью' 'заняться высшим образованием']\n"
     ]
    }
   ],
   "source": [
    "text = f_scoring_clear['purpose'].unique()\n",
    "print(text)"
   ]
  },
  {
   "cell_type": "markdown",
   "metadata": {},
   "source": [
    "**Выделим леммы, посчитаем по частоте упоминания**"
   ]
  },
  {
   "cell_type": "code",
   "execution_count": 53,
   "metadata": {},
   "outputs": [
    {
     "name": "stdout",
     "output_type": "stream",
     "text": [
      "Counter({' ': 96, 'покупка': 10, 'недвижимость': 10, 'автомобиль': 9, 'образование': 9, 'жилье': 7, 'с': 5, 'операция': 4, 'на': 4, 'свой': 4, 'свадьба': 3, 'строительство': 3, 'получение': 3, 'высокий': 3, 'дополнительный': 2, 'для': 2, 'коммерческий': 2, 'жилой': 2, 'подержать': 2, 'заниматься': 2, 'сделка': 2, 'приобретение': 1, 'сыграть': 1, 'проведение': 1, 'семья': 1, 'собственный': 1, 'со': 1, 'профильный': 1, 'сдача': 1, 'ремонт': 1, '\\n': 1})\n"
     ]
    }
   ],
   "source": [
    "m = Mystem()\n",
    "from collections import Counter\n",
    "lemmas = m.lemmatize(\" \".join([str(_) for _ in text]))\n",
    "print(Counter(lemmas))\n",
    "\n"
   ]
  },
  {
   "cell_type": "markdown",
   "metadata": {},
   "source": [
    "# Вывод <a id='lemma'></a>"
   ]
  },
  {
   "cell_type": "markdown",
   "metadata": {},
   "source": [
    "В целях категоризации выделим четыре категории по ключям в словах\n",
    "* realty - ['недвижимост', 'жил']\n",
    "* wedding - ['свадьб']\n",
    "* avto - ['авто']\n",
    "* education ['образован']"
   ]
  },
  {
   "cell_type": "markdown",
   "metadata": {},
   "source": [
    "### Категоризация данных"
   ]
  },
  {
   "cell_type": "markdown",
   "metadata": {},
   "source": [
    "###### Дети"
   ]
  },
  {
   "cell_type": "markdown",
   "metadata": {},
   "source": [
    "**Разобьем на группы по количеству детей 0,1,2,3 и больше.**"
   ]
  },
  {
   "cell_type": "code",
   "execution_count": 54,
   "metadata": {},
   "outputs": [
    {
     "data": {
      "text/html": [
       "<div>\n",
       "<style scoped>\n",
       "    .dataframe tbody tr th:only-of-type {\n",
       "        vertical-align: middle;\n",
       "    }\n",
       "\n",
       "    .dataframe tbody tr th {\n",
       "        vertical-align: top;\n",
       "    }\n",
       "\n",
       "    .dataframe thead th {\n",
       "        text-align: right;\n",
       "    }\n",
       "</style>\n",
       "<table border=\"1\" class=\"dataframe\">\n",
       "  <thead>\n",
       "    <tr style=\"text-align: right;\">\n",
       "      <th></th>\n",
       "      <th>children</th>\n",
       "      <th>days_employed</th>\n",
       "      <th>dob_years</th>\n",
       "      <th>education</th>\n",
       "      <th>education_id</th>\n",
       "      <th>family_status</th>\n",
       "      <th>family_status_id</th>\n",
       "      <th>gender</th>\n",
       "      <th>income_type</th>\n",
       "      <th>debt</th>\n",
       "      <th>total_income</th>\n",
       "      <th>purpose</th>\n",
       "      <th>cat_child</th>\n",
       "    </tr>\n",
       "  </thead>\n",
       "  <tbody>\n",
       "    <tr>\n",
       "      <th>0</th>\n",
       "      <td>1</td>\n",
       "      <td>8437</td>\n",
       "      <td>42</td>\n",
       "      <td>высшее</td>\n",
       "      <td>0</td>\n",
       "      <td>женат / замужем</td>\n",
       "      <td>0</td>\n",
       "      <td>F</td>\n",
       "      <td>сотрудник</td>\n",
       "      <td>0</td>\n",
       "      <td>253875</td>\n",
       "      <td>покупка жилья</td>\n",
       "      <td>один ребёнок</td>\n",
       "    </tr>\n",
       "    <tr>\n",
       "      <th>1</th>\n",
       "      <td>1</td>\n",
       "      <td>4024</td>\n",
       "      <td>36</td>\n",
       "      <td>среднее</td>\n",
       "      <td>1</td>\n",
       "      <td>женат / замужем</td>\n",
       "      <td>0</td>\n",
       "      <td>F</td>\n",
       "      <td>сотрудник</td>\n",
       "      <td>0</td>\n",
       "      <td>112080</td>\n",
       "      <td>приобретение автомобиля</td>\n",
       "      <td>один ребёнок</td>\n",
       "    </tr>\n",
       "    <tr>\n",
       "      <th>2</th>\n",
       "      <td>0</td>\n",
       "      <td>5623</td>\n",
       "      <td>33</td>\n",
       "      <td>среднее</td>\n",
       "      <td>1</td>\n",
       "      <td>женат / замужем</td>\n",
       "      <td>0</td>\n",
       "      <td>M</td>\n",
       "      <td>сотрудник</td>\n",
       "      <td>0</td>\n",
       "      <td>145885</td>\n",
       "      <td>покупка жилья</td>\n",
       "      <td>нет детей</td>\n",
       "    </tr>\n",
       "    <tr>\n",
       "      <th>3</th>\n",
       "      <td>3</td>\n",
       "      <td>4124</td>\n",
       "      <td>32</td>\n",
       "      <td>среднее</td>\n",
       "      <td>1</td>\n",
       "      <td>женат / замужем</td>\n",
       "      <td>0</td>\n",
       "      <td>M</td>\n",
       "      <td>сотрудник</td>\n",
       "      <td>0</td>\n",
       "      <td>267628</td>\n",
       "      <td>дополнительное образование</td>\n",
       "      <td>многодетная</td>\n",
       "    </tr>\n",
       "    <tr>\n",
       "      <th>4</th>\n",
       "      <td>0</td>\n",
       "      <td>3402</td>\n",
       "      <td>53</td>\n",
       "      <td>среднее</td>\n",
       "      <td>1</td>\n",
       "      <td>гражданский брак</td>\n",
       "      <td>1</td>\n",
       "      <td>F</td>\n",
       "      <td>пенсионер</td>\n",
       "      <td>0</td>\n",
       "      <td>158616</td>\n",
       "      <td>сыграть свадьбу</td>\n",
       "      <td>нет детей</td>\n",
       "    </tr>\n",
       "  </tbody>\n",
       "</table>\n",
       "</div>"
      ],
      "text/plain": [
       "   children  days_employed  dob_years education  education_id  \\\n",
       "0         1           8437         42    высшее             0   \n",
       "1         1           4024         36   среднее             1   \n",
       "2         0           5623         33   среднее             1   \n",
       "3         3           4124         32   среднее             1   \n",
       "4         0           3402         53   среднее             1   \n",
       "\n",
       "      family_status  family_status_id gender income_type  debt  total_income  \\\n",
       "0   женат / замужем                 0      F   сотрудник     0        253875   \n",
       "1   женат / замужем                 0      F   сотрудник     0        112080   \n",
       "2   женат / замужем                 0      M   сотрудник     0        145885   \n",
       "3   женат / замужем                 0      M   сотрудник     0        267628   \n",
       "4  гражданский брак                 1      F   пенсионер     0        158616   \n",
       "\n",
       "                      purpose     cat_child  \n",
       "0               покупка жилья  один ребёнок  \n",
       "1     приобретение автомобиля  один ребёнок  \n",
       "2               покупка жилья     нет детей  \n",
       "3  дополнительное образование   многодетная  \n",
       "4             сыграть свадьбу     нет детей  "
      ]
     },
     "execution_count": 54,
     "metadata": {},
     "output_type": "execute_result"
    }
   ],
   "source": [
    "def cat_child(children):\n",
    "    if children == 0:\n",
    "        return 'нет детей'\n",
    "    if children == 1:\n",
    "        return 'один ребёнок'\n",
    "    if children == 2:\n",
    "        return 'два ребенка'\n",
    "    return 'многодетная'\n",
    "f_scoring_clear['cat_child'] = f_scoring['children'].apply(cat_child)\n",
    "f_scoring_clear.head()"
   ]
  },
  {
   "cell_type": "code",
   "execution_count": 55,
   "metadata": {
    "scrolled": true
   },
   "outputs": [
    {
     "data": {
      "text/html": [
       "<div>\n",
       "<style scoped>\n",
       "    .dataframe tbody tr th:only-of-type {\n",
       "        vertical-align: middle;\n",
       "    }\n",
       "\n",
       "    .dataframe tbody tr th {\n",
       "        vertical-align: top;\n",
       "    }\n",
       "\n",
       "    .dataframe thead th {\n",
       "        text-align: right;\n",
       "    }\n",
       "</style>\n",
       "<table border=\"1\" class=\"dataframe\">\n",
       "  <thead>\n",
       "    <tr style=\"text-align: right;\">\n",
       "      <th></th>\n",
       "      <th>cat_child</th>\n",
       "      <th>debt</th>\n",
       "    </tr>\n",
       "  </thead>\n",
       "  <tbody>\n",
       "    <tr>\n",
       "      <th>0</th>\n",
       "      <td>два ребенка</td>\n",
       "      <td>162</td>\n",
       "    </tr>\n",
       "    <tr>\n",
       "      <th>1</th>\n",
       "      <td>многодетная</td>\n",
       "      <td>44</td>\n",
       "    </tr>\n",
       "    <tr>\n",
       "      <th>2</th>\n",
       "      <td>нет детей</td>\n",
       "      <td>1141</td>\n",
       "    </tr>\n",
       "    <tr>\n",
       "      <th>3</th>\n",
       "      <td>один ребёнок</td>\n",
       "      <td>394</td>\n",
       "    </tr>\n",
       "  </tbody>\n",
       "</table>\n",
       "</div>"
      ],
      "text/plain": [
       "      cat_child  debt\n",
       "0   два ребенка   162\n",
       "1   многодетная    44\n",
       "2     нет детей  1141\n",
       "3  один ребёнок   394"
      ]
     },
     "execution_count": 55,
     "metadata": {},
     "output_type": "execute_result"
    }
   ],
   "source": [
    "f_scoring_clear.groupby('cat_child')['debt'].sum().reset_index()"
   ]
  },
  {
   "cell_type": "markdown",
   "metadata": {},
   "source": [
    "# Семейное положение"
   ]
  },
  {
   "cell_type": "code",
   "execution_count": 56,
   "metadata": {},
   "outputs": [
    {
     "name": "stdout",
     "output_type": "stream",
     "text": [
      "   debt     family_status\n",
      "0     0   женат / замужем\n",
      "1     0   женат / замужем\n",
      "2     0   женат / замужем\n",
      "3     0   женат / замужем\n",
      "4     0  гражданский брак\n",
      "           family_status  family_status_id\n",
      "0        женат / замужем                 0\n",
      "1       гражданский брак                 1\n",
      "2         вдовец / вдова                 2\n",
      "3              в разводе                 3\n",
      "4  Не женат / не замужем                 4\n"
     ]
    }
   ],
   "source": [
    "family_log = f_scoring_clear[['debt','family_status']]\n",
    "print(family_log.head())\n",
    "famaly_dict = f_scoring_clear[['family_status','family_status_id']]\n",
    "famaly_dict = famaly_dict.drop_duplicates().reset_index(drop=True)\n",
    "print(famaly_dict.head())\n"
   ]
  },
  {
   "cell_type": "code",
   "execution_count": 57,
   "metadata": {},
   "outputs": [
    {
     "name": "stdout",
     "output_type": "stream",
     "text": [
      "                       debt\n",
      "family_status              \n",
      "женат / замужем         931\n",
      "гражданский брак        388\n",
      "Не женат / не замужем   274\n",
      "в разводе                85\n",
      "вдовец / вдова           63\n"
     ]
    }
   ],
   "source": [
    "print(family_log.groupby('family_status').sum().sort_values(by='debt',ascending=False).head())"
   ]
  },
  {
   "cell_type": "markdown",
   "metadata": {},
   "source": [
    "# Уровень дохода"
   ]
  },
  {
   "cell_type": "markdown",
   "metadata": {},
   "source": [
    "* **Разобьём общий доход на терцили**"
   ]
  },
  {
   "cell_type": "code",
   "execution_count": 58,
   "metadata": {},
   "outputs": [
    {
     "data": {
      "text/html": [
       "<div>\n",
       "<style scoped>\n",
       "    .dataframe tbody tr th:only-of-type {\n",
       "        vertical-align: middle;\n",
       "    }\n",
       "\n",
       "    .dataframe tbody tr th {\n",
       "        vertical-align: top;\n",
       "    }\n",
       "\n",
       "    .dataframe thead th {\n",
       "        text-align: right;\n",
       "    }\n",
       "</style>\n",
       "<table border=\"1\" class=\"dataframe\">\n",
       "  <thead>\n",
       "    <tr style=\"text-align: right;\">\n",
       "      <th></th>\n",
       "      <th>children</th>\n",
       "      <th>days_employed</th>\n",
       "      <th>dob_years</th>\n",
       "      <th>education</th>\n",
       "      <th>education_id</th>\n",
       "      <th>family_status</th>\n",
       "      <th>family_status_id</th>\n",
       "      <th>gender</th>\n",
       "      <th>income_type</th>\n",
       "      <th>debt</th>\n",
       "      <th>total_income</th>\n",
       "      <th>purpose</th>\n",
       "      <th>cat_child</th>\n",
       "      <th>level_income</th>\n",
       "    </tr>\n",
       "  </thead>\n",
       "  <tbody>\n",
       "    <tr>\n",
       "      <th>0</th>\n",
       "      <td>1</td>\n",
       "      <td>8437</td>\n",
       "      <td>42</td>\n",
       "      <td>высшее</td>\n",
       "      <td>0</td>\n",
       "      <td>женат / замужем</td>\n",
       "      <td>0</td>\n",
       "      <td>F</td>\n",
       "      <td>сотрудник</td>\n",
       "      <td>0</td>\n",
       "      <td>253875</td>\n",
       "      <td>покупка жилья</td>\n",
       "      <td>один ребёнок</td>\n",
       "      <td>high_income</td>\n",
       "    </tr>\n",
       "    <tr>\n",
       "      <th>1</th>\n",
       "      <td>1</td>\n",
       "      <td>4024</td>\n",
       "      <td>36</td>\n",
       "      <td>среднее</td>\n",
       "      <td>1</td>\n",
       "      <td>женат / замужем</td>\n",
       "      <td>0</td>\n",
       "      <td>F</td>\n",
       "      <td>сотрудник</td>\n",
       "      <td>0</td>\n",
       "      <td>112080</td>\n",
       "      <td>приобретение автомобиля</td>\n",
       "      <td>один ребёнок</td>\n",
       "      <td>low_income</td>\n",
       "    </tr>\n",
       "    <tr>\n",
       "      <th>2</th>\n",
       "      <td>0</td>\n",
       "      <td>5623</td>\n",
       "      <td>33</td>\n",
       "      <td>среднее</td>\n",
       "      <td>1</td>\n",
       "      <td>женат / замужем</td>\n",
       "      <td>0</td>\n",
       "      <td>M</td>\n",
       "      <td>сотрудник</td>\n",
       "      <td>0</td>\n",
       "      <td>145885</td>\n",
       "      <td>покупка жилья</td>\n",
       "      <td>нет детей</td>\n",
       "      <td>medium_incom</td>\n",
       "    </tr>\n",
       "    <tr>\n",
       "      <th>3</th>\n",
       "      <td>3</td>\n",
       "      <td>4124</td>\n",
       "      <td>32</td>\n",
       "      <td>среднее</td>\n",
       "      <td>1</td>\n",
       "      <td>женат / замужем</td>\n",
       "      <td>0</td>\n",
       "      <td>M</td>\n",
       "      <td>сотрудник</td>\n",
       "      <td>0</td>\n",
       "      <td>267628</td>\n",
       "      <td>дополнительное образование</td>\n",
       "      <td>многодетная</td>\n",
       "      <td>high_income</td>\n",
       "    </tr>\n",
       "    <tr>\n",
       "      <th>4</th>\n",
       "      <td>0</td>\n",
       "      <td>3402</td>\n",
       "      <td>53</td>\n",
       "      <td>среднее</td>\n",
       "      <td>1</td>\n",
       "      <td>гражданский брак</td>\n",
       "      <td>1</td>\n",
       "      <td>F</td>\n",
       "      <td>пенсионер</td>\n",
       "      <td>0</td>\n",
       "      <td>158616</td>\n",
       "      <td>сыграть свадьбу</td>\n",
       "      <td>нет детей</td>\n",
       "      <td>medium_incom</td>\n",
       "    </tr>\n",
       "  </tbody>\n",
       "</table>\n",
       "</div>"
      ],
      "text/plain": [
       "   children  days_employed  dob_years education  education_id  \\\n",
       "0         1           8437         42    высшее             0   \n",
       "1         1           4024         36   среднее             1   \n",
       "2         0           5623         33   среднее             1   \n",
       "3         3           4124         32   среднее             1   \n",
       "4         0           3402         53   среднее             1   \n",
       "\n",
       "      family_status  family_status_id gender income_type  debt  total_income  \\\n",
       "0   женат / замужем                 0      F   сотрудник     0        253875   \n",
       "1   женат / замужем                 0      F   сотрудник     0        112080   \n",
       "2   женат / замужем                 0      M   сотрудник     0        145885   \n",
       "3   женат / замужем                 0      M   сотрудник     0        267628   \n",
       "4  гражданский брак                 1      F   пенсионер     0        158616   \n",
       "\n",
       "                      purpose     cat_child  level_income  \n",
       "0               покупка жилья  один ребёнок   high_income  \n",
       "1     приобретение автомобиля  один ребёнок    low_income  \n",
       "2               покупка жилья     нет детей  medium_incom  \n",
       "3  дополнительное образование   многодетная   high_income  \n",
       "4             сыграть свадьбу     нет детей  medium_incom  "
      ]
     },
     "execution_count": 58,
     "metadata": {},
     "output_type": "execute_result"
    }
   ],
   "source": [
    "income_labels = ['low_income', 'medium_incom', 'high_income']\n",
    "f_scoring_clear['level_income'] = pd.qcut(f_scoring['total_income'], q=3, labels=income_labels)\n",
    "f_scoring_clear.head()"
   ]
  },
  {
   "cell_type": "code",
   "execution_count": 59,
   "metadata": {},
   "outputs": [
    {
     "data": {
      "text/html": [
       "<div>\n",
       "<style scoped>\n",
       "    .dataframe tbody tr th:only-of-type {\n",
       "        vertical-align: middle;\n",
       "    }\n",
       "\n",
       "    .dataframe tbody tr th {\n",
       "        vertical-align: top;\n",
       "    }\n",
       "\n",
       "    .dataframe thead th {\n",
       "        text-align: right;\n",
       "    }\n",
       "</style>\n",
       "<table border=\"1\" class=\"dataframe\">\n",
       "  <thead>\n",
       "    <tr style=\"text-align: right;\">\n",
       "      <th></th>\n",
       "      <th>level_income</th>\n",
       "      <th>debt</th>\n",
       "    </tr>\n",
       "  </thead>\n",
       "  <tbody>\n",
       "    <tr>\n",
       "      <th>0</th>\n",
       "      <td>low_income</td>\n",
       "      <td>551</td>\n",
       "    </tr>\n",
       "    <tr>\n",
       "      <th>1</th>\n",
       "      <td>medium_incom</td>\n",
       "      <td>624</td>\n",
       "    </tr>\n",
       "    <tr>\n",
       "      <th>2</th>\n",
       "      <td>high_income</td>\n",
       "      <td>566</td>\n",
       "    </tr>\n",
       "  </tbody>\n",
       "</table>\n",
       "</div>"
      ],
      "text/plain": [
       "   level_income  debt\n",
       "0    low_income   551\n",
       "1  medium_incom   624\n",
       "2   high_income   566"
      ]
     },
     "execution_count": 59,
     "metadata": {},
     "output_type": "execute_result"
    }
   ],
   "source": [
    "f_scoring_clear.groupby('level_income')['debt'].sum().reset_index()"
   ]
  },
  {
   "cell_type": "markdown",
   "metadata": {},
   "source": [
    "# Цели кредита"
   ]
  },
  {
   "cell_type": "markdown",
   "metadata": {},
   "source": [
    "* **Возьмём ключи из [лемматизации](#lemma)**"
   ]
  },
  {
   "cell_type": "code",
   "execution_count": 60,
   "metadata": {
    "scrolled": false
   },
   "outputs": [
    {
     "data": {
      "text/html": [
       "<div>\n",
       "<style scoped>\n",
       "    .dataframe tbody tr th:only-of-type {\n",
       "        vertical-align: middle;\n",
       "    }\n",
       "\n",
       "    .dataframe tbody tr th {\n",
       "        vertical-align: top;\n",
       "    }\n",
       "\n",
       "    .dataframe thead th {\n",
       "        text-align: right;\n",
       "    }\n",
       "</style>\n",
       "<table border=\"1\" class=\"dataframe\">\n",
       "  <thead>\n",
       "    <tr style=\"text-align: right;\">\n",
       "      <th></th>\n",
       "      <th>children</th>\n",
       "      <th>days_employed</th>\n",
       "      <th>dob_years</th>\n",
       "      <th>education</th>\n",
       "      <th>education_id</th>\n",
       "      <th>family_status</th>\n",
       "      <th>family_status_id</th>\n",
       "      <th>gender</th>\n",
       "      <th>income_type</th>\n",
       "      <th>debt</th>\n",
       "      <th>total_income</th>\n",
       "      <th>purpose</th>\n",
       "      <th>cat_child</th>\n",
       "      <th>level_income</th>\n",
       "      <th>cat_purpose</th>\n",
       "    </tr>\n",
       "  </thead>\n",
       "  <tbody>\n",
       "    <tr>\n",
       "      <th>0</th>\n",
       "      <td>1</td>\n",
       "      <td>8437</td>\n",
       "      <td>42</td>\n",
       "      <td>высшее</td>\n",
       "      <td>0</td>\n",
       "      <td>женат / замужем</td>\n",
       "      <td>0</td>\n",
       "      <td>F</td>\n",
       "      <td>сотрудник</td>\n",
       "      <td>0</td>\n",
       "      <td>253875</td>\n",
       "      <td>покупка жилья</td>\n",
       "      <td>один ребёнок</td>\n",
       "      <td>high_income</td>\n",
       "      <td>wedding</td>\n",
       "    </tr>\n",
       "    <tr>\n",
       "      <th>1</th>\n",
       "      <td>1</td>\n",
       "      <td>4024</td>\n",
       "      <td>36</td>\n",
       "      <td>среднее</td>\n",
       "      <td>1</td>\n",
       "      <td>женат / замужем</td>\n",
       "      <td>0</td>\n",
       "      <td>F</td>\n",
       "      <td>сотрудник</td>\n",
       "      <td>0</td>\n",
       "      <td>112080</td>\n",
       "      <td>приобретение автомобиля</td>\n",
       "      <td>один ребёнок</td>\n",
       "      <td>low_income</td>\n",
       "      <td>avto</td>\n",
       "    </tr>\n",
       "    <tr>\n",
       "      <th>2</th>\n",
       "      <td>0</td>\n",
       "      <td>5623</td>\n",
       "      <td>33</td>\n",
       "      <td>среднее</td>\n",
       "      <td>1</td>\n",
       "      <td>женат / замужем</td>\n",
       "      <td>0</td>\n",
       "      <td>M</td>\n",
       "      <td>сотрудник</td>\n",
       "      <td>0</td>\n",
       "      <td>145885</td>\n",
       "      <td>покупка жилья</td>\n",
       "      <td>нет детей</td>\n",
       "      <td>medium_incom</td>\n",
       "      <td>wedding</td>\n",
       "    </tr>\n",
       "    <tr>\n",
       "      <th>3</th>\n",
       "      <td>3</td>\n",
       "      <td>4124</td>\n",
       "      <td>32</td>\n",
       "      <td>среднее</td>\n",
       "      <td>1</td>\n",
       "      <td>женат / замужем</td>\n",
       "      <td>0</td>\n",
       "      <td>M</td>\n",
       "      <td>сотрудник</td>\n",
       "      <td>0</td>\n",
       "      <td>267628</td>\n",
       "      <td>дополнительное образование</td>\n",
       "      <td>многодетная</td>\n",
       "      <td>high_income</td>\n",
       "      <td>education</td>\n",
       "    </tr>\n",
       "    <tr>\n",
       "      <th>4</th>\n",
       "      <td>0</td>\n",
       "      <td>3402</td>\n",
       "      <td>53</td>\n",
       "      <td>среднее</td>\n",
       "      <td>1</td>\n",
       "      <td>гражданский брак</td>\n",
       "      <td>1</td>\n",
       "      <td>F</td>\n",
       "      <td>пенсионер</td>\n",
       "      <td>0</td>\n",
       "      <td>158616</td>\n",
       "      <td>сыграть свадьбу</td>\n",
       "      <td>нет детей</td>\n",
       "      <td>medium_incom</td>\n",
       "      <td>wedding</td>\n",
       "    </tr>\n",
       "  </tbody>\n",
       "</table>\n",
       "</div>"
      ],
      "text/plain": [
       "   children  days_employed  dob_years education  education_id  \\\n",
       "0         1           8437         42    высшее             0   \n",
       "1         1           4024         36   среднее             1   \n",
       "2         0           5623         33   среднее             1   \n",
       "3         3           4124         32   среднее             1   \n",
       "4         0           3402         53   среднее             1   \n",
       "\n",
       "      family_status  family_status_id gender income_type  debt  total_income  \\\n",
       "0   женат / замужем                 0      F   сотрудник     0        253875   \n",
       "1   женат / замужем                 0      F   сотрудник     0        112080   \n",
       "2   женат / замужем                 0      M   сотрудник     0        145885   \n",
       "3   женат / замужем                 0      M   сотрудник     0        267628   \n",
       "4  гражданский брак                 1      F   пенсионер     0        158616   \n",
       "\n",
       "                      purpose     cat_child  level_income cat_purpose  \n",
       "0               покупка жилья  один ребёнок   high_income     wedding  \n",
       "1     приобретение автомобиля  один ребёнок    low_income        avto  \n",
       "2               покупка жилья     нет детей  medium_incom     wedding  \n",
       "3  дополнительное образование   многодетная   high_income   education  \n",
       "4             сыграть свадьбу     нет детей  medium_incom     wedding  "
      ]
     },
     "execution_count": 60,
     "metadata": {},
     "output_type": "execute_result"
    }
   ],
   "source": [
    "def cat_purpose(purpose):\n",
    "    if (('недвижимост') or ('жил')) in purpose:\n",
    "        return 'realty'\n",
    "    if 'авто' in purpose:\n",
    "        return 'avto'\n",
    "    if 'образован' in purpose:\n",
    "        return 'education'\n",
    "    return 'wedding'\n",
    " \n",
    "f_scoring_clear['cat_purpose'] = f_scoring_clear['purpose'].apply(cat_purpose)\n",
    "f_scoring_clear.head()"
   ]
  },
  {
   "cell_type": "code",
   "execution_count": 61,
   "metadata": {},
   "outputs": [
    {
     "data": {
      "text/html": [
       "<div>\n",
       "<style scoped>\n",
       "    .dataframe tbody tr th:only-of-type {\n",
       "        vertical-align: middle;\n",
       "    }\n",
       "\n",
       "    .dataframe tbody tr th {\n",
       "        vertical-align: top;\n",
       "    }\n",
       "\n",
       "    .dataframe thead th {\n",
       "        text-align: right;\n",
       "    }\n",
       "</style>\n",
       "<table border=\"1\" class=\"dataframe\">\n",
       "  <thead>\n",
       "    <tr style=\"text-align: right;\">\n",
       "      <th></th>\n",
       "      <th>cat_purpose</th>\n",
       "      <th>debt</th>\n",
       "    </tr>\n",
       "  </thead>\n",
       "  <tbody>\n",
       "    <tr>\n",
       "      <th>0</th>\n",
       "      <td>avto</td>\n",
       "      <td>403</td>\n",
       "    </tr>\n",
       "    <tr>\n",
       "      <th>1</th>\n",
       "      <td>education</td>\n",
       "      <td>370</td>\n",
       "    </tr>\n",
       "    <tr>\n",
       "      <th>2</th>\n",
       "      <td>realty</td>\n",
       "      <td>474</td>\n",
       "    </tr>\n",
       "    <tr>\n",
       "      <th>3</th>\n",
       "      <td>wedding</td>\n",
       "      <td>494</td>\n",
       "    </tr>\n",
       "  </tbody>\n",
       "</table>\n",
       "</div>"
      ],
      "text/plain": [
       "  cat_purpose  debt\n",
       "0        avto   403\n",
       "1   education   370\n",
       "2      realty   474\n",
       "3     wedding   494"
      ]
     },
     "execution_count": 61,
     "metadata": {},
     "output_type": "execute_result"
    }
   ],
   "source": [
    "f_scoring_clear.groupby('cat_purpose')['debt'].sum().reset_index()"
   ]
  },
  {
   "cell_type": "markdown",
   "metadata": {},
   "source": [
    "**Вывод**"
   ]
  },
  {
   "cell_type": "markdown",
   "metadata": {},
   "source": [
    "Провели категоризацию по трем признакам."
   ]
  },
  {
   "cell_type": "markdown",
   "metadata": {},
   "source": [
    "## Ответим на вопросы исследования."
   ]
  },
  {
   "cell_type": "markdown",
   "metadata": {},
   "source": [
    "**Есть ли зависимость между наличием детей и возвратом кредита в срок?**"
   ]
  },
  {
   "cell_type": "code",
   "execution_count": 62,
   "metadata": {},
   "outputs": [
    {
     "data": {
      "text/plain": [
       "<AxesSubplot:xlabel='cat_child', ylabel='debt'>"
      ]
     },
     "execution_count": 62,
     "metadata": {},
     "output_type": "execute_result"
    },
    {
     "data": {
      "image/png": "[encoded data removed]",
      "text/plain": [
       "<Figure size 432x288 with 1 Axes>"
      ]
     },
     "metadata": {
      "needs_background": "light"
     },
     "output_type": "display_data"
    }
   ],
   "source": [
    "import seaborn as sns\n",
    "sns.barplot(x='cat_child', y='debt', data=f_scoring_clear.groupby('cat_child')['debt'].sum().reset_index())"
   ]
  },
  {
   "cell_type": "markdown",
   "metadata": {},
   "source": [
    "**Вывод**"
   ]
  },
  {
   "cell_type": "markdown",
   "metadata": {},
   "source": [
    "Да есть. В семьях без детей не возвращают кредит в 26,6 раз чаще, чем в многодетных семьях, в 5,5 раз чаще чем в семье с двумя детьми и в 2,6 раза чаще чем в семьях с одним ребенком."
   ]
  },
  {
   "cell_type": "markdown",
   "metadata": {},
   "source": [
    "- Есть ли зависимость между семейным положением и возвратом кредита в срок?"
   ]
  },
  {
   "cell_type": "code",
   "execution_count": 63,
   "metadata": {},
   "outputs": [
    {
     "name": "stdout",
     "output_type": "stream",
     "text": [
      "                       debt\n",
      "family_status              \n",
      "женат / замужем         931\n",
      "гражданский брак        388\n",
      "Не женат / не замужем   274\n",
      "в разводе                85\n",
      "вдовец / вдова           63\n"
     ]
    }
   ],
   "source": [
    "print(family_log.groupby('family_status').sum().sort_values(by='debt',ascending=False).head())"
   ]
  },
  {
   "cell_type": "markdown",
   "metadata": {},
   "source": [
    "**Вывод**"
   ]
  },
  {
   "cell_type": "markdown",
   "metadata": {},
   "source": [
    "Да женатые/замужнии склонны не возвращать кредиты в 2,4 раза чаще чем в гражданском браке..."
   ]
  },
  {
   "cell_type": "markdown",
   "metadata": {},
   "source": [
    "**Есть ли зависимость между уровнем дохода и возвратом кредита в срок?**"
   ]
  },
  {
   "cell_type": "code",
   "execution_count": 64,
   "metadata": {},
   "outputs": [
    {
     "data": {
      "text/plain": [
       "<AxesSubplot:xlabel='level_income', ylabel='debt'>"
      ]
     },
     "execution_count": 64,
     "metadata": {},
     "output_type": "execute_result"
    },
    {
     "data": {
      "image/png": "[encoded data removed]",
      "text/plain": [
       "<Figure size 432x288 with 1 Axes>"
      ]
     },
     "metadata": {
      "needs_background": "light"
     },
     "output_type": "display_data"
    }
   ],
   "source": [
    "sns.barplot(x='level_income', y='debt', data=f_scoring_clear.groupby('level_income')['debt'].sum().reset_index())"
   ]
  },
  {
   "cell_type": "markdown",
   "metadata": {},
   "source": [
    "**Вывод**"
   ]
  },
  {
   "cell_type": "markdown",
   "metadata": {},
   "source": [
    "Зависимость минимальна, значения изменяются в пределах 0,0025 от выборки."
   ]
  },
  {
   "cell_type": "markdown",
   "metadata": {},
   "source": [
    "**Как разные цели кредита влияют на его возврат в срок?**"
   ]
  },
  {
   "cell_type": "code",
   "execution_count": 65,
   "metadata": {},
   "outputs": [
    {
     "data": {
      "text/plain": [
       "<AxesSubplot:xlabel='cat_purpose', ylabel='debt'>"
      ]
     },
     "execution_count": 65,
     "metadata": {},
     "output_type": "execute_result"
    },
    {
     "data": {
      "image/png": "[encoded data removed]",
      "text/plain": [
       "<Figure size 432x288 with 1 Axes>"
      ]
     },
     "metadata": {
      "needs_background": "light"
     },
     "output_type": "display_data"
    }
   ],
   "source": [
    "sns.barplot(x='cat_purpose', y='debt', data=f_scoring_clear.groupby('cat_purpose')['debt'].sum().reset_index())"
   ]
  },
  {
   "cell_type": "markdown",
   "metadata": {},
   "source": [
    "**Вывод**"
   ]
  },
  {
   "cell_type": "markdown",
   "metadata": {},
   "source": [
    "Цели кредита не влияют на уровень не возврата, который составляет пять из тысячи."
   ]
  },
  {
   "cell_type": "markdown",
   "metadata": {},
   "source": [
    "## Общий вывод"
   ]
  },
  {
   "cell_type": "markdown",
   "metadata": {},
   "source": [
    "Проанализировав исходные данные я пришел к следущим выводам.\n",
    "\n",
    "В части полонты и достоверности сведений есть проблемы технического/логического плана в выгружаемых \n",
    "столбцах в порядке возрастания по важности:\n",
    "* 'gendre' - единичная некоректная запись\n",
    "* 'education' - используется разный регистр\n",
    "* 'total_income' - неверный формат поменять с float64 на int, пропуски предположительно из-за кредитов по двум документам\n",
    "* 'days_employed' - неверный формат поменять с float64 на int, пропуски предположительно из-за кредитов по двум документам,\n",
    "  15% значений отличаются на два порядка от оригинальных.\n",
    "###### рекомендации - согласовать форму выгрузки\n",
    "\n",
    "После преобработки данных лемматизировал строковые значения для категоризации целей кридитования и выявления закономерностей\n",
    "согласно поступившим запросам. Исследовав категоризованные данные, сгрупировал их по искомым целям и ответил на вопросы поставленные перед исследованием.\n",
    "\n",
    "*  Есть ли зависимость между наличием детей и возвратом кредита в срок?\n",
    "  \n",
    "   Да есть. В семьях без детей не возвращают кредит в 26,6 раз чаще, чем в многодетных семьях, в 5,5 раз чаще чем в семье с        двумя детьми и в 2,6 раза чаще чем в семьях с одним ребенком.\n",
    "   \n",
    "  \n",
    "*  Есть ли зависимость между семейным положением и возвратом кредита в срок?\n",
    "  \n",
    "   Да женатые/замужнии склонны не возвращать кредиты в 2,4 раза чаще чем в гражданском браке.\n",
    "   \n",
    "  \n",
    "*  Есть ли зависимость между уровнем дохода и возвратом кредита в срок?\n",
    "\n",
    "   Зависимость минимальна, значения изменяются в пределах 0,0025 от выборки.\n",
    "   \n",
    "  \n",
    "*  Как разные цели кредита влияют на его возврат в срок?\n",
    "\n",
    "   Цели кредита минимально влияют на уровень не возврата, который составляет пять из тысячи.\n",
    "###### Вывод - применить полученые данные в скоринг системе"
   ]
  },
  {
   "cell_type": "code",
   "execution_count": null,
   "metadata": {},
   "outputs": [],
   "source": []
  },
  {
   "cell_type": "code",
   "execution_count": null,
   "metadata": {},
   "outputs": [],
   "source": []
  }
 ],
 "metadata": {
  "ExecuteTimeLog": [
   {
    "duration": 1219,
    "start_time": "2021-12-09T05:39:29.566Z"
   },
   {
    "duration": 59,
    "start_time": "2021-12-09T05:39:39.479Z"
   },
   {
    "duration": 77,
    "start_time": "2021-12-09T06:07:25.295Z"
   },
   {
    "duration": 68,
    "start_time": "2021-12-09T06:22:09.440Z"
   },
   {
    "duration": 71,
    "start_time": "2021-12-09T06:23:03.640Z"
   },
   {
    "duration": 67,
    "start_time": "2021-12-09T06:24:12.029Z"
   },
   {
    "duration": 78,
    "start_time": "2021-12-09T06:29:13.512Z"
   },
   {
    "duration": 75,
    "start_time": "2021-12-09T07:41:15.907Z"
   },
   {
    "duration": 310,
    "start_time": "2021-12-09T07:42:02.016Z"
   },
   {
    "duration": 300,
    "start_time": "2021-12-09T07:46:19.002Z"
   },
   {
    "duration": 74,
    "start_time": "2021-12-09T07:46:40.488Z"
   },
   {
    "duration": 10,
    "start_time": "2021-12-09T07:48:25.054Z"
   },
   {
    "duration": 75,
    "start_time": "2021-12-09T08:07:24.001Z"
   },
   {
    "duration": 10,
    "start_time": "2021-12-09T08:07:32.052Z"
   },
   {
    "duration": 5,
    "start_time": "2021-12-09T08:10:00.677Z"
   },
   {
    "duration": 5,
    "start_time": "2021-12-09T08:10:10.700Z"
   },
   {
    "duration": 11,
    "start_time": "2021-12-09T08:10:54.598Z"
   },
   {
    "duration": 11,
    "start_time": "2021-12-09T08:12:38.440Z"
   },
   {
    "duration": 5,
    "start_time": "2021-12-09T08:12:51.194Z"
   },
   {
    "duration": 10,
    "start_time": "2021-12-09T08:12:51.593Z"
   },
   {
    "duration": 4,
    "start_time": "2021-12-09T08:22:54.521Z"
   },
   {
    "duration": 13,
    "start_time": "2021-12-09T08:27:00.075Z"
   },
   {
    "duration": 6514,
    "start_time": "2021-12-09T08:27:19.313Z"
   },
   {
    "duration": 682,
    "start_time": "2021-12-09T08:27:25.150Z"
   },
   {
    "duration": 5,
    "start_time": "2021-12-09T08:28:22.923Z"
   },
   {
    "duration": 14,
    "start_time": "2021-12-09T08:28:24.281Z"
   },
   {
    "duration": 315,
    "start_time": "2021-12-09T08:28:44.661Z"
   },
   {
    "duration": 5,
    "start_time": "2021-12-09T08:29:12.344Z"
   },
   {
    "duration": 6,
    "start_time": "2021-12-09T08:29:45.506Z"
   },
   {
    "duration": 17,
    "start_time": "2021-12-09T08:33:01.379Z"
   },
   {
    "duration": 32,
    "start_time": "2021-12-09T08:34:31.577Z"
   },
   {
    "duration": 15,
    "start_time": "2021-12-09T08:35:04.959Z"
   },
   {
    "duration": 15,
    "start_time": "2021-12-09T08:35:12.735Z"
   },
   {
    "duration": 32,
    "start_time": "2021-12-09T08:35:13.510Z"
   },
   {
    "duration": 17,
    "start_time": "2021-12-09T08:35:18.231Z"
   },
   {
    "duration": 15,
    "start_time": "2021-12-09T08:36:38.314Z"
   },
   {
    "duration": 33,
    "start_time": "2021-12-09T08:36:44.522Z"
   },
   {
    "duration": 16,
    "start_time": "2021-12-09T08:36:46.544Z"
   },
   {
    "duration": 72,
    "start_time": "2021-12-09T08:36:52.311Z"
   },
   {
    "duration": 11,
    "start_time": "2021-12-09T08:36:52.385Z"
   },
   {
    "duration": 5,
    "start_time": "2021-12-09T08:36:52.398Z"
   },
   {
    "duration": 4,
    "start_time": "2021-12-09T08:36:52.405Z"
   },
   {
    "duration": 9,
    "start_time": "2021-12-09T08:36:52.411Z"
   },
   {
    "duration": 4,
    "start_time": "2021-12-09T08:36:52.422Z"
   },
   {
    "duration": 35,
    "start_time": "2021-12-09T08:36:52.428Z"
   },
   {
    "duration": 6,
    "start_time": "2021-12-09T08:36:52.465Z"
   },
   {
    "duration": 16,
    "start_time": "2021-12-09T08:36:52.473Z"
   },
   {
    "duration": 31,
    "start_time": "2021-12-09T08:36:52.490Z"
   },
   {
    "duration": 15,
    "start_time": "2021-12-09T08:36:52.523Z"
   },
   {
    "duration": 14,
    "start_time": "2021-12-09T08:40:26.943Z"
   },
   {
    "duration": 31,
    "start_time": "2021-12-09T08:40:27.937Z"
   },
   {
    "duration": 16,
    "start_time": "2021-12-09T08:40:29.877Z"
   },
   {
    "duration": 12,
    "start_time": "2021-12-09T08:41:19.675Z"
   },
   {
    "duration": 18,
    "start_time": "2021-12-09T08:42:22.512Z"
   },
   {
    "duration": 17,
    "start_time": "2021-12-09T08:42:23.910Z"
   },
   {
    "duration": 356,
    "start_time": "2021-12-09T08:43:02.301Z"
   },
   {
    "duration": 241,
    "start_time": "2021-12-09T08:43:09.144Z"
   },
   {
    "duration": 241,
    "start_time": "2021-12-09T08:43:29.239Z"
   },
   {
    "duration": 6,
    "start_time": "2021-12-09T08:43:54.147Z"
   },
   {
    "duration": 24,
    "start_time": "2021-12-09T08:49:04.386Z"
   },
   {
    "duration": 18,
    "start_time": "2021-12-09T08:49:30.807Z"
   },
   {
    "duration": 21,
    "start_time": "2021-12-09T08:51:53.951Z"
   },
   {
    "duration": 27,
    "start_time": "2021-12-09T08:52:14.599Z"
   },
   {
    "duration": 24,
    "start_time": "2021-12-09T08:52:31.469Z"
   },
   {
    "duration": 23,
    "start_time": "2021-12-09T08:52:52.828Z"
   },
   {
    "duration": 25,
    "start_time": "2021-12-09T08:53:08.492Z"
   },
   {
    "duration": 26,
    "start_time": "2021-12-09T08:53:19.197Z"
   },
   {
    "duration": 39,
    "start_time": "2021-12-09T08:53:37.566Z"
   },
   {
    "duration": 23,
    "start_time": "2021-12-09T08:54:05.985Z"
   },
   {
    "duration": 6,
    "start_time": "2021-12-09T08:57:08.809Z"
   },
   {
    "duration": 5,
    "start_time": "2021-12-09T08:59:42.795Z"
   },
   {
    "duration": 5,
    "start_time": "2021-12-09T08:59:47.624Z"
   },
   {
    "duration": 9,
    "start_time": "2021-12-09T09:03:29.633Z"
   },
   {
    "duration": 9,
    "start_time": "2021-12-09T09:05:27.338Z"
   },
   {
    "duration": 8,
    "start_time": "2021-12-09T09:05:46.512Z"
   },
   {
    "duration": 4,
    "start_time": "2021-12-09T09:07:35.653Z"
   },
   {
    "duration": 9,
    "start_time": "2021-12-09T09:07:37.792Z"
   },
   {
    "duration": 364,
    "start_time": "2021-12-09T09:12:14.079Z"
   },
   {
    "duration": 18,
    "start_time": "2021-12-09T09:15:38.903Z"
   },
   {
    "duration": 9,
    "start_time": "2021-12-09T09:16:06.910Z"
   },
   {
    "duration": 4,
    "start_time": "2021-12-09T09:16:14.826Z"
   },
   {
    "duration": 10,
    "start_time": "2021-12-09T09:16:15.257Z"
   },
   {
    "duration": 17,
    "start_time": "2021-12-09T09:16:15.857Z"
   },
   {
    "duration": 10,
    "start_time": "2021-12-09T09:16:16.300Z"
   },
   {
    "duration": 20,
    "start_time": "2021-12-09T09:22:11.941Z"
   },
   {
    "duration": 19,
    "start_time": "2021-12-09T09:23:25.177Z"
   },
   {
    "duration": 10,
    "start_time": "2021-12-09T09:23:38.563Z"
   },
   {
    "duration": 18,
    "start_time": "2021-12-09T09:24:18.051Z"
   },
   {
    "duration": 19,
    "start_time": "2021-12-09T09:25:25.759Z"
   },
   {
    "duration": 9,
    "start_time": "2021-12-09T09:25:27.582Z"
   },
   {
    "duration": 77,
    "start_time": "2021-12-09T09:27:40.588Z"
   },
   {
    "duration": 4,
    "start_time": "2021-12-09T09:36:49.685Z"
   },
   {
    "duration": 10,
    "start_time": "2021-12-09T09:36:50.299Z"
   },
   {
    "duration": 244,
    "start_time": "2021-12-09T09:48:21.847Z"
   },
   {
    "duration": 10,
    "start_time": "2021-12-09T09:48:35.116Z"
   },
   {
    "duration": 8,
    "start_time": "2021-12-09T09:48:47.817Z"
   },
   {
    "duration": 22,
    "start_time": "2021-12-09T09:49:32.114Z"
   },
   {
    "duration": 22,
    "start_time": "2021-12-09T09:50:16.036Z"
   },
   {
    "duration": 8,
    "start_time": "2021-12-09T09:51:19.899Z"
   },
   {
    "duration": 11,
    "start_time": "2021-12-09T09:52:08.054Z"
   },
   {
    "duration": 5,
    "start_time": "2021-12-09T09:52:40.343Z"
   },
   {
    "duration": 5,
    "start_time": "2021-12-09T09:52:54.465Z"
   },
   {
    "duration": 77,
    "start_time": "2021-12-09T09:53:09.506Z"
   },
   {
    "duration": 4,
    "start_time": "2021-12-09T09:53:09.585Z"
   },
   {
    "duration": 10,
    "start_time": "2021-12-09T09:53:09.590Z"
   },
   {
    "duration": 8,
    "start_time": "2021-12-09T09:53:09.603Z"
   },
   {
    "duration": 8,
    "start_time": "2021-12-09T09:53:09.612Z"
   },
   {
    "duration": 52,
    "start_time": "2021-12-09T09:53:09.622Z"
   },
   {
    "duration": 11,
    "start_time": "2021-12-09T09:53:09.675Z"
   },
   {
    "duration": 6,
    "start_time": "2021-12-09T09:53:09.688Z"
   },
   {
    "duration": 9,
    "start_time": "2021-12-09T09:53:09.696Z"
   },
   {
    "duration": 16,
    "start_time": "2021-12-09T09:53:09.707Z"
   },
   {
    "duration": 4,
    "start_time": "2021-12-09T09:53:09.726Z"
   },
   {
    "duration": 35,
    "start_time": "2021-12-09T09:53:09.732Z"
   },
   {
    "duration": 14,
    "start_time": "2021-12-09T09:53:09.769Z"
   },
   {
    "duration": 20,
    "start_time": "2021-12-09T09:53:09.785Z"
   },
   {
    "duration": 21,
    "start_time": "2021-12-09T09:53:09.807Z"
   },
   {
    "duration": 39,
    "start_time": "2021-12-09T09:53:09.830Z"
   },
   {
    "duration": 76,
    "start_time": "2021-12-09T09:53:35.880Z"
   },
   {
    "duration": 14,
    "start_time": "2021-12-09T11:32:05.886Z"
   },
   {
    "duration": 15,
    "start_time": "2021-12-09T11:33:47.235Z"
   },
   {
    "duration": 17,
    "start_time": "2021-12-09T11:33:51.480Z"
   },
   {
    "duration": 18,
    "start_time": "2021-12-09T11:33:53.188Z"
   },
   {
    "duration": 7,
    "start_time": "2021-12-09T11:49:47.785Z"
   },
   {
    "duration": 5,
    "start_time": "2021-12-09T12:19:27.210Z"
   },
   {
    "duration": 5,
    "start_time": "2021-12-09T12:19:44.797Z"
   },
   {
    "duration": 281,
    "start_time": "2021-12-09T12:22:15.483Z"
   },
   {
    "duration": 238,
    "start_time": "2021-12-09T12:24:50.554Z"
   },
   {
    "duration": 245,
    "start_time": "2021-12-09T12:28:57.514Z"
   },
   {
    "duration": 286,
    "start_time": "2021-12-09T12:31:29.614Z"
   },
   {
    "duration": 3762,
    "start_time": "2021-12-09T12:31:57.989Z"
   },
   {
    "duration": 3755,
    "start_time": "2021-12-09T12:32:08.495Z"
   },
   {
    "duration": 3718,
    "start_time": "2021-12-09T12:32:59.667Z"
   },
   {
    "duration": 259,
    "start_time": "2021-12-09T12:40:20.144Z"
   },
   {
    "duration": 254,
    "start_time": "2021-12-09T12:40:33.144Z"
   },
   {
    "duration": 78,
    "start_time": "2021-12-09T12:42:06.440Z"
   },
   {
    "duration": 6,
    "start_time": "2021-12-09T12:43:38.808Z"
   },
   {
    "duration": 99,
    "start_time": "2021-12-09T12:44:15.044Z"
   },
   {
    "duration": 83,
    "start_time": "2021-12-09T12:44:29.919Z"
   },
   {
    "duration": 84,
    "start_time": "2021-12-09T12:45:12.194Z"
   },
   {
    "duration": 902,
    "start_time": "2021-12-09T12:47:00.475Z"
   },
   {
    "duration": 669,
    "start_time": "2021-12-09T12:48:10.070Z"
   },
   {
    "duration": 4,
    "start_time": "2021-12-09T14:34:22.516Z"
   },
   {
    "duration": 5,
    "start_time": "2021-12-09T14:34:51.670Z"
   },
   {
    "duration": 4,
    "start_time": "2021-12-09T14:35:26.237Z"
   },
   {
    "duration": 31,
    "start_time": "2021-12-09T14:37:56.523Z"
   },
   {
    "duration": 81,
    "start_time": "2021-12-09T14:38:34.108Z"
   },
   {
    "duration": 4,
    "start_time": "2021-12-09T14:38:34.192Z"
   },
   {
    "duration": 18,
    "start_time": "2021-12-09T14:38:34.200Z"
   },
   {
    "duration": 20,
    "start_time": "2021-12-09T14:38:34.220Z"
   },
   {
    "duration": 12,
    "start_time": "2021-12-09T14:38:34.242Z"
   },
   {
    "duration": 37,
    "start_time": "2021-12-09T14:38:34.256Z"
   },
   {
    "duration": 31,
    "start_time": "2021-12-09T14:38:34.295Z"
   },
   {
    "duration": 12,
    "start_time": "2021-12-09T14:38:34.328Z"
   },
   {
    "duration": 30,
    "start_time": "2021-12-09T14:38:34.343Z"
   },
   {
    "duration": 18,
    "start_time": "2021-12-09T14:38:34.376Z"
   },
   {
    "duration": 24,
    "start_time": "2021-12-09T14:38:34.396Z"
   },
   {
    "duration": 26,
    "start_time": "2021-12-09T14:38:34.422Z"
   },
   {
    "duration": 27,
    "start_time": "2021-12-09T14:38:34.449Z"
   },
   {
    "duration": 40,
    "start_time": "2021-12-09T14:38:34.478Z"
   },
   {
    "duration": 25,
    "start_time": "2021-12-09T14:38:34.519Z"
   },
   {
    "duration": 34,
    "start_time": "2021-12-09T14:38:34.546Z"
   },
   {
    "duration": 21,
    "start_time": "2021-12-09T14:38:34.582Z"
   },
   {
    "duration": 7,
    "start_time": "2021-12-09T14:38:34.604Z"
   },
   {
    "duration": 748,
    "start_time": "2021-12-09T14:38:34.612Z"
   },
   {
    "duration": 29,
    "start_time": "2021-12-09T14:38:35.362Z"
   },
   {
    "duration": 28,
    "start_time": "2021-12-09T14:39:29.441Z"
   },
   {
    "duration": 29,
    "start_time": "2021-12-09T14:39:47.508Z"
   },
   {
    "duration": 4,
    "start_time": "2021-12-09T14:40:09.996Z"
   },
   {
    "duration": 5,
    "start_time": "2021-12-09T14:40:44.133Z"
   },
   {
    "duration": 26,
    "start_time": "2021-12-09T14:41:23.671Z"
   },
   {
    "duration": 26,
    "start_time": "2021-12-09T14:41:53.051Z"
   },
   {
    "duration": 30,
    "start_time": "2021-12-09T15:06:06.040Z"
   },
   {
    "duration": 28,
    "start_time": "2021-12-09T15:08:24.984Z"
   },
   {
    "duration": 288,
    "start_time": "2021-12-09T15:49:30.306Z"
   },
   {
    "duration": 8,
    "start_time": "2021-12-09T15:55:25.180Z"
   },
   {
    "duration": 10,
    "start_time": "2021-12-09T15:57:52.444Z"
   },
   {
    "duration": 788,
    "start_time": "2021-12-09T16:13:43.112Z"
   },
   {
    "duration": 138,
    "start_time": "2021-12-09T16:21:09.594Z"
   },
   {
    "duration": 276,
    "start_time": "2021-12-09T16:22:36.956Z"
   },
   {
    "duration": 151,
    "start_time": "2021-12-09T16:22:44.735Z"
   },
   {
    "duration": 1750,
    "start_time": "2021-12-09T16:29:37.015Z"
   },
   {
    "duration": 248,
    "start_time": "2021-12-09T16:29:59.722Z"
   },
   {
    "duration": 6,
    "start_time": "2021-12-09T16:30:20.042Z"
   },
   {
    "duration": 240,
    "start_time": "2021-12-09T16:30:34.546Z"
   },
   {
    "duration": 9,
    "start_time": "2021-12-09T16:30:51.947Z"
   },
   {
    "duration": 12,
    "start_time": "2021-12-09T16:32:50.420Z"
   },
   {
    "duration": 171,
    "start_time": "2021-12-09T16:33:10.107Z"
   },
   {
    "duration": 162,
    "start_time": "2021-12-09T16:35:26.261Z"
   },
   {
    "duration": 11,
    "start_time": "2021-12-09T16:36:55.529Z"
   },
   {
    "duration": 95,
    "start_time": "2021-12-09T17:00:21.719Z"
   },
   {
    "duration": 158,
    "start_time": "2021-12-09T17:00:29.928Z"
   },
   {
    "duration": 8,
    "start_time": "2021-12-09T17:08:54.978Z"
   },
   {
    "duration": 8,
    "start_time": "2021-12-09T17:09:39.183Z"
   },
   {
    "duration": 27,
    "start_time": "2021-12-09T17:09:55.406Z"
   },
   {
    "duration": 19,
    "start_time": "2021-12-09T17:10:26.287Z"
   },
   {
    "duration": 19,
    "start_time": "2021-12-09T17:10:45.521Z"
   },
   {
    "duration": 15,
    "start_time": "2021-12-09T17:11:44.147Z"
   },
   {
    "duration": 19,
    "start_time": "2021-12-09T17:12:56.500Z"
   },
   {
    "duration": 83,
    "start_time": "2021-12-09T17:13:17.458Z"
   },
   {
    "duration": 18,
    "start_time": "2021-12-09T17:13:44.725Z"
   },
   {
    "duration": 11,
    "start_time": "2021-12-09T17:13:50.128Z"
   },
   {
    "duration": 257,
    "start_time": "2021-12-09T17:14:31.531Z"
   },
   {
    "duration": 84,
    "start_time": "2021-12-09T17:15:09.106Z"
   },
   {
    "duration": 4,
    "start_time": "2021-12-09T17:15:09.192Z"
   },
   {
    "duration": 14,
    "start_time": "2021-12-09T17:15:09.197Z"
   },
   {
    "duration": 7,
    "start_time": "2021-12-09T17:15:09.213Z"
   },
   {
    "duration": 7,
    "start_time": "2021-12-09T17:15:09.222Z"
   },
   {
    "duration": 48,
    "start_time": "2021-12-09T17:15:09.230Z"
   },
   {
    "duration": 12,
    "start_time": "2021-12-09T17:15:09.280Z"
   },
   {
    "duration": 5,
    "start_time": "2021-12-09T17:15:09.294Z"
   },
   {
    "duration": 7,
    "start_time": "2021-12-09T17:15:09.302Z"
   },
   {
    "duration": 11,
    "start_time": "2021-12-09T17:15:09.311Z"
   },
   {
    "duration": 8,
    "start_time": "2021-12-09T17:15:09.324Z"
   },
   {
    "duration": 29,
    "start_time": "2021-12-09T17:15:09.334Z"
   },
   {
    "duration": 6,
    "start_time": "2021-12-09T17:15:09.366Z"
   },
   {
    "duration": 18,
    "start_time": "2021-12-09T17:15:09.374Z"
   },
   {
    "duration": 22,
    "start_time": "2021-12-09T17:15:09.393Z"
   },
   {
    "duration": 21,
    "start_time": "2021-12-09T17:15:09.417Z"
   },
   {
    "duration": 18,
    "start_time": "2021-12-09T17:15:09.464Z"
   },
   {
    "duration": 7,
    "start_time": "2021-12-09T17:15:09.485Z"
   },
   {
    "duration": 764,
    "start_time": "2021-12-09T17:15:09.494Z"
   },
   {
    "duration": 21,
    "start_time": "2021-12-09T17:15:10.264Z"
   },
   {
    "duration": 24,
    "start_time": "2021-12-09T17:15:10.286Z"
   },
   {
    "duration": 18,
    "start_time": "2021-12-09T17:15:10.313Z"
   },
   {
    "duration": 392,
    "start_time": "2021-12-09T17:15:10.333Z"
   },
   {
    "duration": 1448,
    "start_time": "2021-12-09T17:15:09.279Z"
   },
   {
    "duration": 1446,
    "start_time": "2021-12-09T17:15:09.282Z"
   },
   {
    "duration": 5,
    "start_time": "2021-12-09T17:15:34.632Z"
   },
   {
    "duration": 20,
    "start_time": "2021-12-09T17:16:36.868Z"
   },
   {
    "duration": 13,
    "start_time": "2021-12-09T17:16:37.991Z"
   },
   {
    "duration": 8,
    "start_time": "2021-12-09T17:16:48.778Z"
   },
   {
    "duration": 33,
    "start_time": "2021-12-09T17:17:08.391Z"
   },
   {
    "duration": 9,
    "start_time": "2021-12-09T17:17:09.195Z"
   },
   {
    "duration": 11,
    "start_time": "2021-12-09T17:17:46.337Z"
   },
   {
    "duration": 261,
    "start_time": "2021-12-09T17:26:02.307Z"
   },
   {
    "duration": 6504,
    "start_time": "2021-12-09T17:27:07.113Z"
   },
   {
    "duration": 7643,
    "start_time": "2021-12-09T17:27:34.013Z"
   },
   {
    "duration": 6610,
    "start_time": "2021-12-09T17:27:52.843Z"
   },
   {
    "duration": 256,
    "start_time": "2021-12-09T17:28:24.119Z"
   },
   {
    "duration": 98,
    "start_time": "2021-12-09T17:30:24.816Z"
   },
   {
    "duration": 3,
    "start_time": "2021-12-09T17:30:59.580Z"
   },
   {
    "duration": 321,
    "start_time": "2021-12-09T17:31:18.895Z"
   },
   {
    "duration": 253,
    "start_time": "2021-12-09T17:32:00.089Z"
   },
   {
    "duration": 21,
    "start_time": "2021-12-09T17:32:18.101Z"
   },
   {
    "duration": 6,
    "start_time": "2021-12-09T17:34:16.570Z"
   },
   {
    "duration": 18,
    "start_time": "2021-12-09T17:34:34.004Z"
   },
   {
    "duration": 19,
    "start_time": "2021-12-09T17:34:59.522Z"
   },
   {
    "duration": 18,
    "start_time": "2021-12-09T17:35:42.113Z"
   },
   {
    "duration": 6,
    "start_time": "2021-12-09T17:35:52.107Z"
   },
   {
    "duration": 13,
    "start_time": "2021-12-09T17:48:11.947Z"
   },
   {
    "duration": 153,
    "start_time": "2021-12-09T17:51:35.914Z"
   },
   {
    "duration": 16,
    "start_time": "2021-12-09T17:56:45.224Z"
   },
   {
    "duration": 262,
    "start_time": "2021-12-09T17:56:58.025Z"
   },
   {
    "duration": 82,
    "start_time": "2021-12-09T17:57:26.460Z"
   },
   {
    "duration": 153,
    "start_time": "2021-12-09T17:57:43.897Z"
   },
   {
    "duration": 151,
    "start_time": "2021-12-09T17:59:47.734Z"
   },
   {
    "duration": 159,
    "start_time": "2021-12-09T18:04:00.226Z"
   },
   {
    "duration": 1531,
    "start_time": "2021-12-09T18:29:17.509Z"
   },
   {
    "duration": 7306,
    "start_time": "2021-12-09T18:29:21.378Z"
   },
   {
    "duration": 1545,
    "start_time": "2021-12-09T18:31:35.398Z"
   },
   {
    "duration": 79,
    "start_time": "2021-12-09T18:32:00.818Z"
   },
   {
    "duration": 4,
    "start_time": "2021-12-09T18:32:00.900Z"
   },
   {
    "duration": 28,
    "start_time": "2021-12-09T18:32:00.907Z"
   },
   {
    "duration": 13,
    "start_time": "2021-12-09T18:32:00.937Z"
   },
   {
    "duration": 10,
    "start_time": "2021-12-09T18:32:00.952Z"
   },
   {
    "duration": 138,
    "start_time": "2021-12-09T18:32:00.964Z"
   },
   {
    "duration": 63,
    "start_time": "2021-12-09T18:32:01.104Z"
   },
   {
    "duration": 12,
    "start_time": "2021-12-09T18:32:01.170Z"
   },
   {
    "duration": 10,
    "start_time": "2021-12-09T18:32:01.184Z"
   },
   {
    "duration": 24,
    "start_time": "2021-12-09T18:32:01.196Z"
   },
   {
    "duration": 51,
    "start_time": "2021-12-09T18:32:01.222Z"
   },
   {
    "duration": 16,
    "start_time": "2021-12-09T18:32:01.275Z"
   },
   {
    "duration": 23,
    "start_time": "2021-12-09T18:32:01.293Z"
   },
   {
    "duration": 31,
    "start_time": "2021-12-09T18:32:01.318Z"
   },
   {
    "duration": 56,
    "start_time": "2021-12-09T18:32:01.351Z"
   },
   {
    "duration": 20,
    "start_time": "2021-12-09T18:32:01.410Z"
   },
   {
    "duration": 24,
    "start_time": "2021-12-09T18:32:01.432Z"
   },
   {
    "duration": 6,
    "start_time": "2021-12-09T18:32:01.458Z"
   },
   {
    "duration": 730,
    "start_time": "2021-12-09T18:32:01.466Z"
   },
   {
    "duration": 22,
    "start_time": "2021-12-09T18:32:02.198Z"
   },
   {
    "duration": 29,
    "start_time": "2021-12-09T18:32:02.222Z"
   },
   {
    "duration": 19,
    "start_time": "2021-12-09T18:32:02.253Z"
   },
   {
    "duration": 1545,
    "start_time": "2021-12-09T18:32:07.188Z"
   },
   {
    "duration": 1544,
    "start_time": "2021-12-09T18:32:07.190Z"
   },
   {
    "duration": 1544,
    "start_time": "2021-12-09T18:32:07.191Z"
   },
   {
    "duration": 1543,
    "start_time": "2021-12-09T18:32:07.193Z"
   },
   {
    "duration": 1543,
    "start_time": "2021-12-09T18:32:07.194Z"
   },
   {
    "duration": 1542,
    "start_time": "2021-12-09T18:32:07.196Z"
   },
   {
    "duration": 1542,
    "start_time": "2021-12-09T18:32:07.197Z"
   },
   {
    "duration": 1541,
    "start_time": "2021-12-09T18:32:07.199Z"
   },
   {
    "duration": 1545,
    "start_time": "2021-12-09T18:32:17.496Z"
   },
   {
    "duration": 5947,
    "start_time": "2021-12-09T18:32:22.297Z"
   },
   {
    "duration": 7724,
    "start_time": "2021-12-09T18:32:56.456Z"
   },
   {
    "duration": 6562,
    "start_time": "2021-12-09T18:33:44.588Z"
   },
   {
    "duration": 12,
    "start_time": "2021-12-09T18:34:55.445Z"
   },
   {
    "duration": 89,
    "start_time": "2021-12-09T18:41:41.027Z"
   },
   {
    "duration": 12,
    "start_time": "2021-12-09T18:42:09.436Z"
   },
   {
    "duration": 3,
    "start_time": "2021-12-09T18:44:25.010Z"
   },
   {
    "duration": 256,
    "start_time": "2021-12-09T18:44:37.487Z"
   },
   {
    "duration": 255,
    "start_time": "2021-12-09T18:44:52.752Z"
   },
   {
    "duration": 14,
    "start_time": "2021-12-09T18:51:15.313Z"
   },
   {
    "duration": 77,
    "start_time": "2021-12-09T18:51:53.607Z"
   },
   {
    "duration": 75,
    "start_time": "2021-12-09T18:52:51.192Z"
   },
   {
    "duration": 188,
    "start_time": "2021-12-09T19:04:01.852Z"
   },
   {
    "duration": 14,
    "start_time": "2021-12-09T19:04:44.629Z"
   },
   {
    "duration": 14,
    "start_time": "2021-12-09T19:04:56.857Z"
   },
   {
    "duration": 13,
    "start_time": "2021-12-09T19:05:07.311Z"
   },
   {
    "duration": 12,
    "start_time": "2021-12-09T19:07:15.337Z"
   },
   {
    "duration": 84,
    "start_time": "2021-12-09T19:07:32.678Z"
   },
   {
    "duration": 122,
    "start_time": "2021-12-09T19:10:14.789Z"
   },
   {
    "duration": 85,
    "start_time": "2021-12-09T19:11:38.297Z"
   },
   {
    "duration": 246,
    "start_time": "2021-12-09T19:16:20.928Z"
   },
   {
    "duration": 13,
    "start_time": "2021-12-09T19:16:34.424Z"
   },
   {
    "duration": 90,
    "start_time": "2021-12-09T19:17:19.810Z"
   },
   {
    "duration": 7,
    "start_time": "2021-12-09T19:17:55.758Z"
   },
   {
    "duration": 15,
    "start_time": "2021-12-09T19:18:59.092Z"
   },
   {
    "duration": 9,
    "start_time": "2021-12-09T19:19:17.237Z"
   },
   {
    "duration": 9,
    "start_time": "2021-12-09T19:20:05.722Z"
   },
   {
    "duration": 15,
    "start_time": "2021-12-09T19:20:44.746Z"
   },
   {
    "duration": 9,
    "start_time": "2021-12-09T19:20:48.132Z"
   },
   {
    "duration": 24,
    "start_time": "2021-12-09T19:21:23.649Z"
   },
   {
    "duration": 21,
    "start_time": "2021-12-09T19:22:11.433Z"
   },
   {
    "duration": 327,
    "start_time": "2021-12-09T19:22:31.087Z"
   },
   {
    "duration": 9,
    "start_time": "2021-12-09T19:22:37.384Z"
   },
   {
    "duration": 9,
    "start_time": "2021-12-09T19:23:13.758Z"
   },
   {
    "duration": 10,
    "start_time": "2021-12-09T19:24:10.289Z"
   },
   {
    "duration": 228,
    "start_time": "2021-12-09T19:25:30.352Z"
   },
   {
    "duration": 268,
    "start_time": "2021-12-09T19:27:00.505Z"
   },
   {
    "duration": 272,
    "start_time": "2021-12-09T19:28:11.707Z"
   },
   {
    "duration": 291,
    "start_time": "2021-12-09T19:29:47.870Z"
   },
   {
    "duration": 315,
    "start_time": "2021-12-09T19:30:03.891Z"
   },
   {
    "duration": 257,
    "start_time": "2021-12-09T19:30:57.310Z"
   },
   {
    "duration": 91,
    "start_time": "2021-12-09T19:31:42.800Z"
   },
   {
    "duration": 4,
    "start_time": "2021-12-09T19:31:42.894Z"
   },
   {
    "duration": 29,
    "start_time": "2021-12-09T19:31:42.901Z"
   },
   {
    "duration": 18,
    "start_time": "2021-12-09T19:31:42.933Z"
   },
   {
    "duration": 14,
    "start_time": "2021-12-09T19:31:42.953Z"
   },
   {
    "duration": 31,
    "start_time": "2021-12-09T19:31:42.969Z"
   },
   {
    "duration": 40,
    "start_time": "2021-12-09T19:31:43.002Z"
   },
   {
    "duration": 19,
    "start_time": "2021-12-09T19:31:43.044Z"
   },
   {
    "duration": 22,
    "start_time": "2021-12-09T19:31:43.065Z"
   },
   {
    "duration": 27,
    "start_time": "2021-12-09T19:31:43.089Z"
   },
   {
    "duration": 20,
    "start_time": "2021-12-09T19:31:43.118Z"
   },
   {
    "duration": 24,
    "start_time": "2021-12-09T19:31:43.140Z"
   },
   {
    "duration": 15,
    "start_time": "2021-12-09T19:31:43.166Z"
   },
   {
    "duration": 39,
    "start_time": "2021-12-09T19:31:43.183Z"
   },
   {
    "duration": 39,
    "start_time": "2021-12-09T19:31:43.224Z"
   },
   {
    "duration": 27,
    "start_time": "2021-12-09T19:31:43.266Z"
   },
   {
    "duration": 22,
    "start_time": "2021-12-09T19:31:43.296Z"
   },
   {
    "duration": 6,
    "start_time": "2021-12-09T19:31:43.320Z"
   },
   {
    "duration": 741,
    "start_time": "2021-12-09T19:31:43.328Z"
   },
   {
    "duration": 21,
    "start_time": "2021-12-09T19:31:44.071Z"
   },
   {
    "duration": 35,
    "start_time": "2021-12-09T19:31:44.094Z"
   },
   {
    "duration": 29,
    "start_time": "2021-12-09T19:31:44.131Z"
   },
   {
    "duration": 19,
    "start_time": "2021-12-09T19:31:44.164Z"
   },
   {
    "duration": 35,
    "start_time": "2021-12-09T19:31:44.185Z"
   },
   {
    "duration": 18,
    "start_time": "2021-12-09T19:31:44.222Z"
   },
   {
    "duration": 57,
    "start_time": "2021-12-09T19:31:44.242Z"
   },
   {
    "duration": 18,
    "start_time": "2021-12-09T19:31:44.301Z"
   },
   {
    "duration": 191,
    "start_time": "2021-12-09T19:31:44.321Z"
   },
   {
    "duration": 255,
    "start_time": "2021-12-09T19:31:44.514Z"
   },
   {
    "duration": 1641,
    "start_time": "2021-12-09T19:31:43.130Z"
   },
   {
    "duration": 1641,
    "start_time": "2021-12-09T19:31:43.131Z"
   },
   {
    "duration": 315,
    "start_time": "2021-12-09T19:31:50.821Z"
   },
   {
    "duration": 258,
    "start_time": "2021-12-09T19:32:28.892Z"
   },
   {
    "duration": 11,
    "start_time": "2021-12-09T19:33:13.801Z"
   },
   {
    "duration": 283,
    "start_time": "2021-12-09T19:33:35.439Z"
   },
   {
    "duration": 259,
    "start_time": "2021-12-09T19:34:12.236Z"
   },
   {
    "duration": 10,
    "start_time": "2021-12-09T19:35:32.928Z"
   },
   {
    "duration": 145,
    "start_time": "2021-12-09T19:38:25.969Z"
   },
   {
    "duration": 10,
    "start_time": "2021-12-09T19:38:31.764Z"
   },
   {
    "duration": 146,
    "start_time": "2021-12-09T19:38:33.715Z"
   },
   {
    "duration": 151,
    "start_time": "2021-12-09T19:38:35.767Z"
   },
   {
    "duration": 10,
    "start_time": "2021-12-09T19:45:26.935Z"
   },
   {
    "duration": 4,
    "start_time": "2021-12-09T19:48:38.995Z"
   },
   {
    "duration": 4,
    "start_time": "2021-12-09T19:48:40.160Z"
   },
   {
    "duration": 6,
    "start_time": "2021-12-09T19:48:42.116Z"
   },
   {
    "duration": 17,
    "start_time": "2021-12-09T19:49:21.770Z"
   },
   {
    "duration": 6,
    "start_time": "2021-12-09T19:50:48.157Z"
   },
   {
    "duration": 709,
    "start_time": "2021-12-09T19:51:36.212Z"
   },
   {
    "duration": 22,
    "start_time": "2021-12-09T19:51:50.086Z"
   },
   {
    "duration": 11,
    "start_time": "2021-12-09T19:51:53.623Z"
   },
   {
    "duration": 15,
    "start_time": "2021-12-09T19:51:57.280Z"
   },
   {
    "duration": 10,
    "start_time": "2021-12-09T19:51:57.789Z"
   },
   {
    "duration": 18,
    "start_time": "2021-12-09T19:52:01.050Z"
   },
   {
    "duration": 12,
    "start_time": "2021-12-09T19:52:01.515Z"
   },
   {
    "duration": 22,
    "start_time": "2021-12-09T19:52:05.032Z"
   },
   {
    "duration": 10,
    "start_time": "2021-12-09T19:52:05.632Z"
   },
   {
    "duration": 22,
    "start_time": "2021-12-09T20:02:04.531Z"
   },
   {
    "duration": 25,
    "start_time": "2021-12-09T20:04:06.688Z"
   },
   {
    "duration": 11,
    "start_time": "2021-12-09T20:04:11.434Z"
   },
   {
    "duration": 157,
    "start_time": "2021-12-09T20:04:15.663Z"
   },
   {
    "duration": 12,
    "start_time": "2021-12-09T20:04:17.927Z"
   },
   {
    "duration": 139,
    "start_time": "2021-12-09T20:04:20.171Z"
   },
   {
    "duration": 144,
    "start_time": "2021-12-09T20:04:22.121Z"
   },
   {
    "duration": 66,
    "start_time": "2021-12-10T10:39:15.618Z"
   },
   {
    "duration": 368,
    "start_time": "2021-12-10T11:49:02.000Z"
   },
   {
    "duration": 914,
    "start_time": "2021-12-10T11:49:10.209Z"
   },
   {
    "duration": 5,
    "start_time": "2021-12-10T11:49:11.126Z"
   },
   {
    "duration": 14,
    "start_time": "2021-12-10T11:49:11.134Z"
   },
   {
    "duration": 11,
    "start_time": "2021-12-10T11:49:11.151Z"
   },
   {
    "duration": 10,
    "start_time": "2021-12-10T11:49:11.165Z"
   },
   {
    "duration": 72,
    "start_time": "2021-12-10T11:49:11.178Z"
   },
   {
    "duration": 23,
    "start_time": "2021-12-10T11:49:11.253Z"
   },
   {
    "duration": 6,
    "start_time": "2021-12-10T11:49:11.280Z"
   },
   {
    "duration": 34,
    "start_time": "2021-12-10T11:49:11.289Z"
   },
   {
    "duration": 14,
    "start_time": "2021-12-10T11:49:11.325Z"
   },
   {
    "duration": 6,
    "start_time": "2021-12-10T11:49:11.342Z"
   },
   {
    "duration": 8,
    "start_time": "2021-12-10T11:49:11.350Z"
   },
   {
    "duration": 8,
    "start_time": "2021-12-10T11:49:11.360Z"
   },
   {
    "duration": 61,
    "start_time": "2021-12-10T11:49:11.370Z"
   },
   {
    "duration": 28,
    "start_time": "2021-12-10T11:49:11.434Z"
   },
   {
    "duration": 58,
    "start_time": "2021-12-10T11:49:11.465Z"
   },
   {
    "duration": 33,
    "start_time": "2021-12-10T11:49:11.526Z"
   },
   {
    "duration": 8,
    "start_time": "2021-12-10T11:49:11.562Z"
   },
   {
    "duration": 917,
    "start_time": "2021-12-10T11:49:11.574Z"
   },
   {
    "duration": 41,
    "start_time": "2021-12-10T11:49:12.493Z"
   },
   {
    "duration": 29,
    "start_time": "2021-12-10T11:49:12.538Z"
   },
   {
    "duration": 25,
    "start_time": "2021-12-10T11:49:12.570Z"
   },
   {
    "duration": 15,
    "start_time": "2021-12-10T11:49:12.623Z"
   },
   {
    "duration": 363,
    "start_time": "2021-12-10T11:49:12.640Z"
   },
   {
    "duration": 388,
    "start_time": "2021-12-10T11:49:12.617Z"
   },
   {
    "duration": 387,
    "start_time": "2021-12-10T11:49:12.620Z"
   },
   {
    "duration": 386,
    "start_time": "2021-12-10T11:49:12.622Z"
   },
   {
    "duration": 386,
    "start_time": "2021-12-10T11:49:12.623Z"
   },
   {
    "duration": 386,
    "start_time": "2021-12-10T11:49:12.625Z"
   },
   {
    "duration": 385,
    "start_time": "2021-12-10T11:49:12.627Z"
   },
   {
    "duration": 384,
    "start_time": "2021-12-10T11:49:12.629Z"
   },
   {
    "duration": 24,
    "start_time": "2021-12-10T11:53:31.852Z"
   },
   {
    "duration": 22,
    "start_time": "2021-12-10T11:53:40.057Z"
   },
   {
    "duration": 22,
    "start_time": "2021-12-10T11:53:46.768Z"
   },
   {
    "duration": 26,
    "start_time": "2021-12-10T11:53:48.625Z"
   },
   {
    "duration": 23,
    "start_time": "2021-12-10T11:53:49.459Z"
   },
   {
    "duration": 122,
    "start_time": "2021-12-10T11:54:04.416Z"
   },
   {
    "duration": 5,
    "start_time": "2021-12-10T11:54:04.541Z"
   },
   {
    "duration": 13,
    "start_time": "2021-12-10T11:54:04.549Z"
   },
   {
    "duration": 8,
    "start_time": "2021-12-10T11:54:04.565Z"
   },
   {
    "duration": 8,
    "start_time": "2021-12-10T11:54:04.575Z"
   },
   {
    "duration": 70,
    "start_time": "2021-12-10T11:54:04.586Z"
   },
   {
    "duration": 17,
    "start_time": "2021-12-10T11:54:04.658Z"
   },
   {
    "duration": 5,
    "start_time": "2021-12-10T11:54:04.678Z"
   },
   {
    "duration": 38,
    "start_time": "2021-12-10T11:54:04.687Z"
   },
   {
    "duration": 14,
    "start_time": "2021-12-10T11:54:04.729Z"
   },
   {
    "duration": 6,
    "start_time": "2021-12-10T11:54:04.746Z"
   },
   {
    "duration": 6,
    "start_time": "2021-12-10T11:54:04.755Z"
   },
   {
    "duration": 9,
    "start_time": "2021-12-10T11:54:04.763Z"
   },
   {
    "duration": 61,
    "start_time": "2021-12-10T11:54:04.774Z"
   },
   {
    "duration": 36,
    "start_time": "2021-12-10T11:54:04.838Z"
   },
   {
    "duration": 48,
    "start_time": "2021-12-10T11:54:04.876Z"
   },
   {
    "duration": 21,
    "start_time": "2021-12-10T11:54:04.926Z"
   },
   {
    "duration": 6,
    "start_time": "2021-12-10T11:54:04.949Z"
   },
   {
    "duration": 926,
    "start_time": "2021-12-10T11:54:04.957Z"
   },
   {
    "duration": 39,
    "start_time": "2021-12-10T11:54:05.886Z"
   },
   {
    "duration": 18,
    "start_time": "2021-12-10T11:54:05.927Z"
   },
   {
    "duration": 16,
    "start_time": "2021-12-10T11:54:05.947Z"
   },
   {
    "duration": 12,
    "start_time": "2021-12-10T11:54:05.966Z"
   },
   {
    "duration": 394,
    "start_time": "2021-12-10T11:54:05.981Z"
   },
   {
    "duration": 397,
    "start_time": "2021-12-10T11:54:05.981Z"
   },
   {
    "duration": 394,
    "start_time": "2021-12-10T11:54:05.985Z"
   },
   {
    "duration": 394,
    "start_time": "2021-12-10T11:54:05.987Z"
   },
   {
    "duration": 389,
    "start_time": "2021-12-10T11:54:05.993Z"
   },
   {
    "duration": 389,
    "start_time": "2021-12-10T11:54:05.995Z"
   },
   {
    "duration": 388,
    "start_time": "2021-12-10T11:54:05.997Z"
   },
   {
    "duration": 386,
    "start_time": "2021-12-10T11:54:06.000Z"
   },
   {
    "duration": 23,
    "start_time": "2021-12-10T11:57:59.910Z"
   },
   {
    "duration": 116,
    "start_time": "2021-12-10T11:58:19.224Z"
   },
   {
    "duration": 5,
    "start_time": "2021-12-10T11:58:19.343Z"
   },
   {
    "duration": 13,
    "start_time": "2021-12-10T11:58:19.351Z"
   },
   {
    "duration": 8,
    "start_time": "2021-12-10T11:58:19.367Z"
   },
   {
    "duration": 48,
    "start_time": "2021-12-10T11:58:19.377Z"
   },
   {
    "duration": 36,
    "start_time": "2021-12-10T11:58:19.427Z"
   },
   {
    "duration": 13,
    "start_time": "2021-12-10T11:58:19.466Z"
   },
   {
    "duration": 5,
    "start_time": "2021-12-10T11:58:19.484Z"
   },
   {
    "duration": 36,
    "start_time": "2021-12-10T11:58:19.492Z"
   },
   {
    "duration": 21,
    "start_time": "2021-12-10T11:58:19.530Z"
   },
   {
    "duration": 5,
    "start_time": "2021-12-10T11:58:19.553Z"
   },
   {
    "duration": 9,
    "start_time": "2021-12-10T11:58:19.560Z"
   },
   {
    "duration": 30,
    "start_time": "2021-12-10T11:58:19.572Z"
   },
   {
    "duration": 35,
    "start_time": "2021-12-10T11:58:19.605Z"
   },
   {
    "duration": 22,
    "start_time": "2021-12-10T11:58:19.642Z"
   },
   {
    "duration": 25,
    "start_time": "2021-12-10T11:58:19.666Z"
   },
   {
    "duration": 42,
    "start_time": "2021-12-10T11:58:19.693Z"
   },
   {
    "duration": 7,
    "start_time": "2021-12-10T11:58:19.737Z"
   },
   {
    "duration": 983,
    "start_time": "2021-12-10T11:58:19.746Z"
   },
   {
    "duration": 29,
    "start_time": "2021-12-10T11:58:20.732Z"
   },
   {
    "duration": 18,
    "start_time": "2021-12-10T11:58:20.764Z"
   },
   {
    "duration": 52,
    "start_time": "2021-12-10T11:58:20.784Z"
   },
   {
    "duration": 12,
    "start_time": "2021-12-10T11:58:20.841Z"
   },
   {
    "duration": 569,
    "start_time": "2021-12-10T11:58:20.856Z"
   },
   {
    "duration": 396,
    "start_time": "2021-12-10T11:58:21.031Z"
   },
   {
    "duration": 395,
    "start_time": "2021-12-10T11:58:21.034Z"
   },
   {
    "duration": 392,
    "start_time": "2021-12-10T11:58:21.038Z"
   },
   {
    "duration": 389,
    "start_time": "2021-12-10T11:58:21.042Z"
   },
   {
    "duration": 389,
    "start_time": "2021-12-10T11:58:21.044Z"
   },
   {
    "duration": 388,
    "start_time": "2021-12-10T11:58:21.046Z"
   },
   {
    "duration": 387,
    "start_time": "2021-12-10T11:58:21.048Z"
   },
   {
    "duration": 362,
    "start_time": "2021-12-10T12:02:08.131Z"
   },
   {
    "duration": 26,
    "start_time": "2021-12-10T12:02:26.078Z"
   },
   {
    "duration": 9521,
    "start_time": "2021-12-10T12:06:41.793Z"
   },
   {
    "duration": 413,
    "start_time": "2021-12-10T12:07:20.821Z"
   },
   {
    "duration": 7,
    "start_time": "2021-12-10T12:07:26.204Z"
   },
   {
    "duration": 269,
    "start_time": "2021-12-10T12:09:04.088Z"
   },
   {
    "duration": 6,
    "start_time": "2021-12-10T12:09:20.645Z"
   },
   {
    "duration": 8,
    "start_time": "2021-12-10T12:09:28.223Z"
   },
   {
    "duration": 7,
    "start_time": "2021-12-10T12:09:39.921Z"
   },
   {
    "duration": 6,
    "start_time": "2021-12-10T12:56:50.916Z"
   },
   {
    "duration": 6,
    "start_time": "2021-12-10T12:57:55.556Z"
   },
   {
    "duration": 7,
    "start_time": "2021-12-10T12:58:11.846Z"
   },
   {
    "duration": 10,
    "start_time": "2021-12-10T13:00:24.250Z"
   },
   {
    "duration": 11,
    "start_time": "2021-12-10T13:00:59.891Z"
   },
   {
    "duration": 12,
    "start_time": "2021-12-10T13:01:44.269Z"
   },
   {
    "duration": 8,
    "start_time": "2021-12-10T13:03:13.303Z"
   },
   {
    "duration": 11,
    "start_time": "2021-12-10T13:04:11.608Z"
   },
   {
    "duration": 38,
    "start_time": "2021-12-10T13:14:22.675Z"
   },
   {
    "duration": 42,
    "start_time": "2021-12-10T13:14:23.510Z"
   },
   {
    "duration": 38,
    "start_time": "2021-12-10T13:14:23.908Z"
   },
   {
    "duration": 6,
    "start_time": "2021-12-10T13:14:38.115Z"
   },
   {
    "duration": 8,
    "start_time": "2021-12-10T13:14:38.587Z"
   },
   {
    "duration": 10,
    "start_time": "2021-12-10T13:14:42.203Z"
   },
   {
    "duration": 12,
    "start_time": "2021-12-10T13:14:42.671Z"
   },
   {
    "duration": 5,
    "start_time": "2021-12-10T13:14:45.075Z"
   },
   {
    "duration": 9,
    "start_time": "2021-12-10T13:14:45.493Z"
   },
   {
    "duration": 9,
    "start_time": "2021-12-10T13:14:48.960Z"
   },
   {
    "duration": 9,
    "start_time": "2021-12-10T13:14:49.645Z"
   },
   {
    "duration": 39,
    "start_time": "2021-12-10T13:14:51.003Z"
   },
   {
    "duration": 12,
    "start_time": "2021-12-10T13:14:52.305Z"
   },
   {
    "duration": 5,
    "start_time": "2021-12-10T13:14:55.510Z"
   },
   {
    "duration": 5,
    "start_time": "2021-12-10T13:14:56.170Z"
   },
   {
    "duration": 12,
    "start_time": "2021-12-10T13:14:57.715Z"
   },
   {
    "duration": 5,
    "start_time": "2021-12-10T13:15:02.900Z"
   },
   {
    "duration": 5,
    "start_time": "2021-12-10T13:15:03.445Z"
   },
   {
    "duration": 7,
    "start_time": "2021-12-10T13:15:03.991Z"
   },
   {
    "duration": 18,
    "start_time": "2021-12-10T13:15:04.574Z"
   },
   {
    "duration": 25,
    "start_time": "2021-12-10T13:15:13.808Z"
   },
   {
    "duration": 28,
    "start_time": "2021-12-10T13:15:14.584Z"
   },
   {
    "duration": 24,
    "start_time": "2021-12-10T13:15:15.020Z"
   },
   {
    "duration": 22,
    "start_time": "2021-12-10T13:15:23.966Z"
   },
   {
    "duration": 22,
    "start_time": "2021-12-10T13:16:08.004Z"
   },
   {
    "duration": 20,
    "start_time": "2021-12-10T13:16:10.166Z"
   },
   {
    "duration": 5,
    "start_time": "2021-12-10T13:17:03.979Z"
   },
   {
    "duration": 97,
    "start_time": "2021-12-10T13:17:17.498Z"
   },
   {
    "duration": 29,
    "start_time": "2021-12-10T13:17:17.598Z"
   },
   {
    "duration": 7,
    "start_time": "2021-12-10T13:17:17.630Z"
   },
   {
    "duration": 12,
    "start_time": "2021-12-10T13:17:17.641Z"
   },
   {
    "duration": 15,
    "start_time": "2021-12-10T13:17:17.655Z"
   },
   {
    "duration": 52,
    "start_time": "2021-12-10T13:17:17.673Z"
   },
   {
    "duration": 13,
    "start_time": "2021-12-10T13:17:17.727Z"
   },
   {
    "duration": 8,
    "start_time": "2021-12-10T13:17:17.743Z"
   },
   {
    "duration": 9,
    "start_time": "2021-12-10T13:17:17.753Z"
   },
   {
    "duration": 76,
    "start_time": "2021-12-10T13:17:17.764Z"
   },
   {
    "duration": 13,
    "start_time": "2021-12-10T13:17:17.842Z"
   },
   {
    "duration": 5,
    "start_time": "2021-12-10T13:17:17.858Z"
   },
   {
    "duration": 6,
    "start_time": "2021-12-10T13:17:17.865Z"
   },
   {
    "duration": 12,
    "start_time": "2021-12-10T13:17:17.873Z"
   },
   {
    "duration": 38,
    "start_time": "2021-12-10T13:17:17.887Z"
   },
   {
    "duration": 6,
    "start_time": "2021-12-10T13:17:17.927Z"
   },
   {
    "duration": 11,
    "start_time": "2021-12-10T13:17:17.936Z"
   },
   {
    "duration": 23,
    "start_time": "2021-12-10T13:17:17.949Z"
   },
   {
    "duration": 51,
    "start_time": "2021-12-10T13:17:17.975Z"
   },
   {
    "duration": 4,
    "start_time": "2021-12-10T13:17:18.028Z"
   },
   {
    "duration": 31,
    "start_time": "2021-12-10T13:17:18.034Z"
   },
   {
    "duration": 19,
    "start_time": "2021-12-10T13:17:18.068Z"
   },
   {
    "duration": 32,
    "start_time": "2021-12-10T13:17:18.091Z"
   },
   {
    "duration": 887,
    "start_time": "2021-12-10T13:17:18.126Z"
   },
   {
    "duration": 31,
    "start_time": "2021-12-10T13:17:19.016Z"
   },
   {
    "duration": 19,
    "start_time": "2021-12-10T13:17:19.050Z"
   },
   {
    "duration": 16,
    "start_time": "2021-12-10T13:17:19.072Z"
   },
   {
    "duration": 42,
    "start_time": "2021-12-10T13:17:19.091Z"
   },
   {
    "duration": 25,
    "start_time": "2021-12-10T13:17:19.136Z"
   },
   {
    "duration": 14,
    "start_time": "2021-12-10T13:17:19.163Z"
   },
   {
    "duration": 65,
    "start_time": "2021-12-10T13:17:19.180Z"
   },
   {
    "duration": 19,
    "start_time": "2021-12-10T13:17:19.248Z"
   },
   {
    "duration": 984,
    "start_time": "2021-12-10T13:17:19.269Z"
   },
   {
    "duration": 12,
    "start_time": "2021-12-10T13:17:20.256Z"
   },
   {
    "duration": 249,
    "start_time": "2021-12-10T13:17:20.271Z"
   },
   {
    "duration": 237,
    "start_time": "2021-12-10T13:17:20.524Z"
   },
   {
    "duration": 5,
    "start_time": "2021-12-10T13:22:17.194Z"
   },
   {
    "duration": 6,
    "start_time": "2021-12-10T13:23:33.182Z"
   },
   {
    "duration": 99,
    "start_time": "2021-12-10T13:23:38.685Z"
   },
   {
    "duration": 5,
    "start_time": "2021-12-10T13:23:38.787Z"
   },
   {
    "duration": 6,
    "start_time": "2021-12-10T13:23:38.823Z"
   },
   {
    "duration": 12,
    "start_time": "2021-12-10T13:23:38.832Z"
   },
   {
    "duration": 11,
    "start_time": "2021-12-10T13:23:38.846Z"
   },
   {
    "duration": 5,
    "start_time": "2021-12-10T13:23:38.860Z"
   },
   {
    "duration": 58,
    "start_time": "2021-12-10T13:23:38.867Z"
   },
   {
    "duration": 8,
    "start_time": "2021-12-10T13:23:38.929Z"
   },
   {
    "duration": 8,
    "start_time": "2021-12-10T13:23:38.940Z"
   },
   {
    "duration": 82,
    "start_time": "2021-12-10T13:23:38.951Z"
   },
   {
    "duration": 12,
    "start_time": "2021-12-10T13:23:39.036Z"
   },
   {
    "duration": 7,
    "start_time": "2021-12-10T13:23:39.051Z"
   },
   {
    "duration": 8,
    "start_time": "2021-12-10T13:23:39.060Z"
   },
   {
    "duration": 12,
    "start_time": "2021-12-10T13:23:39.071Z"
   },
   {
    "duration": 41,
    "start_time": "2021-12-10T13:23:39.086Z"
   },
   {
    "duration": 7,
    "start_time": "2021-12-10T13:23:39.130Z"
   },
   {
    "duration": 10,
    "start_time": "2021-12-10T13:23:39.140Z"
   },
   {
    "duration": 19,
    "start_time": "2021-12-10T13:23:39.153Z"
   },
   {
    "duration": 6,
    "start_time": "2021-12-10T13:23:39.175Z"
   },
   {
    "duration": 59,
    "start_time": "2021-12-10T13:23:39.183Z"
   },
   {
    "duration": 4,
    "start_time": "2021-12-10T13:23:39.245Z"
   },
   {
    "duration": 32,
    "start_time": "2021-12-10T13:23:39.252Z"
   },
   {
    "duration": 32,
    "start_time": "2021-12-10T13:23:39.324Z"
   },
   {
    "duration": 6,
    "start_time": "2021-12-10T13:23:39.360Z"
   },
   {
    "duration": 10,
    "start_time": "2021-12-10T13:23:39.369Z"
   },
   {
    "duration": 995,
    "start_time": "2021-12-10T13:23:39.382Z"
   },
   {
    "duration": 44,
    "start_time": "2021-12-10T13:23:40.381Z"
   },
   {
    "duration": 20,
    "start_time": "2021-12-10T13:23:40.427Z"
   },
   {
    "duration": 18,
    "start_time": "2021-12-10T13:23:40.450Z"
   },
   {
    "duration": 13,
    "start_time": "2021-12-10T13:23:40.470Z"
   },
   {
    "duration": 27,
    "start_time": "2021-12-10T13:23:40.524Z"
   },
   {
    "duration": 14,
    "start_time": "2021-12-10T13:23:40.553Z"
   },
   {
    "duration": 59,
    "start_time": "2021-12-10T13:23:40.569Z"
   },
   {
    "duration": 21,
    "start_time": "2021-12-10T13:23:40.631Z"
   },
   {
    "duration": 269,
    "start_time": "2021-12-10T13:23:40.654Z"
   },
   {
    "duration": 14,
    "start_time": "2021-12-10T13:23:40.925Z"
   },
   {
    "duration": 251,
    "start_time": "2021-12-10T13:23:40.941Z"
   },
   {
    "duration": 247,
    "start_time": "2021-12-10T13:23:41.194Z"
   },
   {
    "duration": 5,
    "start_time": "2021-12-10T13:32:15.906Z"
   },
   {
    "duration": 98,
    "start_time": "2021-12-10T13:32:34.380Z"
   },
   {
    "duration": 6,
    "start_time": "2021-12-10T13:32:34.481Z"
   },
   {
    "duration": 38,
    "start_time": "2021-12-10T13:32:34.491Z"
   },
   {
    "duration": 12,
    "start_time": "2021-12-10T13:32:34.533Z"
   },
   {
    "duration": 17,
    "start_time": "2021-12-10T13:32:34.548Z"
   },
   {
    "duration": 8,
    "start_time": "2021-12-10T13:32:34.569Z"
   },
   {
    "duration": 57,
    "start_time": "2021-12-10T13:32:34.580Z"
   },
   {
    "duration": 9,
    "start_time": "2021-12-10T13:32:34.639Z"
   },
   {
    "duration": 9,
    "start_time": "2021-12-10T13:32:34.653Z"
   },
   {
    "duration": 143,
    "start_time": "2021-12-10T13:32:34.665Z"
   },
   {
    "duration": 18,
    "start_time": "2021-12-10T13:32:34.811Z"
   },
   {
    "duration": 12,
    "start_time": "2021-12-10T13:32:34.832Z"
   },
   {
    "duration": 11,
    "start_time": "2021-12-10T13:32:34.846Z"
   },
   {
    "duration": 17,
    "start_time": "2021-12-10T13:32:34.859Z"
   },
   {
    "duration": 4,
    "start_time": "2021-12-10T13:32:34.879Z"
   },
   {
    "duration": 6,
    "start_time": "2021-12-10T13:32:34.922Z"
   },
   {
    "duration": 9,
    "start_time": "2021-12-10T13:32:34.931Z"
   },
   {
    "duration": 23,
    "start_time": "2021-12-10T13:32:34.942Z"
   },
   {
    "duration": 7,
    "start_time": "2021-12-10T13:32:34.967Z"
   },
   {
    "duration": 74,
    "start_time": "2021-12-10T13:32:34.977Z"
   },
   {
    "duration": 36,
    "start_time": "2021-12-10T13:32:35.053Z"
   },
   {
    "duration": 51,
    "start_time": "2021-12-10T13:32:35.092Z"
   },
   {
    "duration": 6,
    "start_time": "2021-12-10T13:32:35.146Z"
   },
   {
    "duration": 18,
    "start_time": "2021-12-10T13:32:35.154Z"
   },
   {
    "duration": 1021,
    "start_time": "2021-12-10T13:32:35.174Z"
   },
   {
    "duration": 40,
    "start_time": "2021-12-10T13:32:36.198Z"
   },
   {
    "duration": 18,
    "start_time": "2021-12-10T13:32:36.244Z"
   },
   {
    "duration": 17,
    "start_time": "2021-12-10T13:32:36.265Z"
   },
   {
    "duration": 40,
    "start_time": "2021-12-10T13:32:36.284Z"
   },
   {
    "duration": 26,
    "start_time": "2021-12-10T13:32:36.326Z"
   },
   {
    "duration": 11,
    "start_time": "2021-12-10T13:32:36.354Z"
   },
   {
    "duration": 58,
    "start_time": "2021-12-10T13:32:36.367Z"
   },
   {
    "duration": 20,
    "start_time": "2021-12-10T13:32:36.427Z"
   },
   {
    "duration": 254,
    "start_time": "2021-12-10T13:32:36.449Z"
   },
   {
    "duration": 17,
    "start_time": "2021-12-10T13:32:36.706Z"
   },
   {
    "duration": 240,
    "start_time": "2021-12-10T13:32:36.726Z"
   },
   {
    "duration": 234,
    "start_time": "2021-12-10T13:32:36.968Z"
   },
   {
    "duration": 27,
    "start_time": "2021-12-10T13:33:01.213Z"
   },
   {
    "duration": 31,
    "start_time": "2021-12-10T13:33:04.513Z"
   },
   {
    "duration": 28,
    "start_time": "2021-12-10T13:33:05.305Z"
   },
   {
    "duration": 6,
    "start_time": "2021-12-10T13:33:06.369Z"
   },
   {
    "duration": 6,
    "start_time": "2021-12-10T13:33:10.750Z"
   },
   {
    "duration": 7,
    "start_time": "2021-12-10T13:34:11.992Z"
   },
   {
    "duration": 16,
    "start_time": "2021-12-10T13:34:29.745Z"
   },
   {
    "duration": 28,
    "start_time": "2021-12-10T13:35:39.556Z"
   },
   {
    "duration": 13,
    "start_time": "2021-12-10T13:35:51.569Z"
   },
   {
    "duration": 30,
    "start_time": "2021-12-10T13:36:29.282Z"
   },
   {
    "duration": 14,
    "start_time": "2021-12-10T13:36:36.384Z"
   },
   {
    "duration": 221,
    "start_time": "2021-12-10T13:37:32.340Z"
   },
   {
    "duration": 226,
    "start_time": "2021-12-10T13:40:44.201Z"
   },
   {
    "duration": 240,
    "start_time": "2021-12-10T13:40:57.616Z"
   },
   {
    "duration": 30,
    "start_time": "2021-12-10T13:46:25.264Z"
   },
   {
    "duration": 5,
    "start_time": "2021-12-10T13:46:32.364Z"
   },
   {
    "duration": 25,
    "start_time": "2021-12-10T13:46:33.034Z"
   },
   {
    "duration": 29,
    "start_time": "2021-12-10T13:46:34.244Z"
   },
   {
    "duration": 26,
    "start_time": "2021-12-10T13:46:35.753Z"
   },
   {
    "duration": 5,
    "start_time": "2021-12-10T13:46:36.396Z"
   },
   {
    "duration": 99,
    "start_time": "2021-12-10T15:01:01.295Z"
   },
   {
    "duration": 31,
    "start_time": "2021-12-10T15:01:01.396Z"
   },
   {
    "duration": 20,
    "start_time": "2021-12-10T15:01:01.430Z"
   },
   {
    "duration": 31,
    "start_time": "2021-12-10T15:01:01.452Z"
   },
   {
    "duration": 19,
    "start_time": "2021-12-10T15:01:01.485Z"
   },
   {
    "duration": 17,
    "start_time": "2021-12-10T15:01:01.507Z"
   },
   {
    "duration": 24,
    "start_time": "2021-12-10T15:01:01.526Z"
   },
   {
    "duration": 11,
    "start_time": "2021-12-10T15:01:01.552Z"
   },
   {
    "duration": 21,
    "start_time": "2021-12-10T15:01:01.566Z"
   },
   {
    "duration": 56,
    "start_time": "2021-12-10T15:01:01.590Z"
   },
   {
    "duration": 13,
    "start_time": "2021-12-10T15:01:01.649Z"
   },
   {
    "duration": 23,
    "start_time": "2021-12-10T15:01:01.664Z"
   },
   {
    "duration": 12,
    "start_time": "2021-12-10T15:01:01.689Z"
   },
   {
    "duration": 23,
    "start_time": "2021-12-10T15:01:01.703Z"
   },
   {
    "duration": 5,
    "start_time": "2021-12-10T15:01:01.728Z"
   },
   {
    "duration": 11,
    "start_time": "2021-12-10T15:01:01.735Z"
   },
   {
    "duration": 8,
    "start_time": "2021-12-10T15:01:01.748Z"
   },
   {
    "duration": 18,
    "start_time": "2021-12-10T15:01:01.759Z"
   },
   {
    "duration": 8,
    "start_time": "2021-12-10T15:01:01.779Z"
   },
   {
    "duration": 53,
    "start_time": "2021-12-10T15:01:01.789Z"
   },
   {
    "duration": 22,
    "start_time": "2021-12-10T15:01:01.845Z"
   },
   {
    "duration": 20,
    "start_time": "2021-12-10T15:01:01.869Z"
   },
   {
    "duration": 34,
    "start_time": "2021-12-10T15:01:01.891Z"
   },
   {
    "duration": 8,
    "start_time": "2021-12-10T15:01:01.927Z"
   },
   {
    "duration": 889,
    "start_time": "2021-12-10T15:01:01.937Z"
   },
   {
    "duration": 28,
    "start_time": "2021-12-10T15:01:02.829Z"
   },
   {
    "duration": 349,
    "start_time": "2021-12-10T15:01:02.862Z"
   },
   {
    "duration": 638,
    "start_time": "2021-12-10T15:01:02.577Z"
   },
   {
    "duration": 635,
    "start_time": "2021-12-10T15:01:02.582Z"
   },
   {
    "duration": 634,
    "start_time": "2021-12-10T15:01:02.585Z"
   },
   {
    "duration": 633,
    "start_time": "2021-12-10T15:01:02.588Z"
   },
   {
    "duration": 634,
    "start_time": "2021-12-10T15:01:02.590Z"
   },
   {
    "duration": 628,
    "start_time": "2021-12-10T15:01:02.598Z"
   },
   {
    "duration": 624,
    "start_time": "2021-12-10T15:01:02.604Z"
   },
   {
    "duration": 624,
    "start_time": "2021-12-10T15:01:02.606Z"
   },
   {
    "duration": 624,
    "start_time": "2021-12-10T15:01:02.608Z"
   },
   {
    "duration": 625,
    "start_time": "2021-12-10T15:01:02.610Z"
   },
   {
    "duration": 5,
    "start_time": "2021-12-10T15:03:27.520Z"
   },
   {
    "duration": 27,
    "start_time": "2021-12-10T15:03:28.175Z"
   },
   {
    "duration": 27,
    "start_time": "2021-12-10T15:03:28.778Z"
   },
   {
    "duration": 25,
    "start_time": "2021-12-10T15:03:29.305Z"
   },
   {
    "duration": 4,
    "start_time": "2021-12-10T15:03:29.831Z"
   },
   {
    "duration": 14,
    "start_time": "2021-12-10T15:05:03.969Z"
   },
   {
    "duration": 109,
    "start_time": "2021-12-10T15:05:16.639Z"
   },
   {
    "duration": 5,
    "start_time": "2021-12-10T15:05:16.751Z"
   },
   {
    "duration": 25,
    "start_time": "2021-12-10T15:05:16.759Z"
   },
   {
    "duration": 18,
    "start_time": "2021-12-10T15:05:16.786Z"
   },
   {
    "duration": 23,
    "start_time": "2021-12-10T15:05:16.806Z"
   },
   {
    "duration": 13,
    "start_time": "2021-12-10T15:05:16.831Z"
   },
   {
    "duration": 22,
    "start_time": "2021-12-10T15:05:16.846Z"
   },
   {
    "duration": 37,
    "start_time": "2021-12-10T15:05:16.872Z"
   },
   {
    "duration": 14,
    "start_time": "2021-12-10T15:05:16.912Z"
   },
   {
    "duration": 33,
    "start_time": "2021-12-10T15:05:16.928Z"
   },
   {
    "duration": 16,
    "start_time": "2021-12-10T15:05:16.964Z"
   },
   {
    "duration": 15,
    "start_time": "2021-12-10T15:05:16.982Z"
   },
   {
    "duration": 23,
    "start_time": "2021-12-10T15:05:17.000Z"
   },
   {
    "duration": 20,
    "start_time": "2021-12-10T15:05:17.025Z"
   },
   {
    "duration": 19,
    "start_time": "2021-12-10T15:05:17.047Z"
   },
   {
    "duration": 23,
    "start_time": "2021-12-10T15:05:17.068Z"
   },
   {
    "duration": 29,
    "start_time": "2021-12-10T15:05:17.094Z"
   },
   {
    "duration": 39,
    "start_time": "2021-12-10T15:05:17.125Z"
   },
   {
    "duration": 6,
    "start_time": "2021-12-10T15:05:17.166Z"
   },
   {
    "duration": 52,
    "start_time": "2021-12-10T15:05:17.174Z"
   },
   {
    "duration": 23,
    "start_time": "2021-12-10T15:05:17.228Z"
   },
   {
    "duration": 20,
    "start_time": "2021-12-10T15:05:17.254Z"
   },
   {
    "duration": 8,
    "start_time": "2021-12-10T15:05:17.279Z"
   },
   {
    "duration": 36,
    "start_time": "2021-12-10T15:05:17.290Z"
   },
   {
    "duration": 920,
    "start_time": "2021-12-10T15:05:17.329Z"
   },
   {
    "duration": 28,
    "start_time": "2021-12-10T15:05:18.252Z"
   },
   {
    "duration": 296,
    "start_time": "2021-12-10T15:05:18.282Z"
   },
   {
    "duration": 651,
    "start_time": "2021-12-10T15:05:17.929Z"
   },
   {
    "duration": 651,
    "start_time": "2021-12-10T15:05:17.932Z"
   },
   {
    "duration": 649,
    "start_time": "2021-12-10T15:05:17.935Z"
   },
   {
    "duration": 648,
    "start_time": "2021-12-10T15:05:17.937Z"
   },
   {
    "duration": 648,
    "start_time": "2021-12-10T15:05:17.939Z"
   },
   {
    "duration": 637,
    "start_time": "2021-12-10T15:05:17.951Z"
   },
   {
    "duration": 636,
    "start_time": "2021-12-10T15:05:17.953Z"
   },
   {
    "duration": 635,
    "start_time": "2021-12-10T15:05:17.956Z"
   },
   {
    "duration": 633,
    "start_time": "2021-12-10T15:05:17.959Z"
   },
   {
    "duration": 632,
    "start_time": "2021-12-10T15:05:17.961Z"
   },
   {
    "duration": 441,
    "start_time": "2021-12-10T15:05:36.519Z"
   },
   {
    "duration": 301,
    "start_time": "2021-12-10T15:05:39.548Z"
   },
   {
    "duration": 299,
    "start_time": "2021-12-10T15:06:11.150Z"
   },
   {
    "duration": 26,
    "start_time": "2021-12-10T15:06:40.968Z"
   },
   {
    "duration": 19,
    "start_time": "2021-12-10T15:06:42.658Z"
   },
   {
    "duration": 112,
    "start_time": "2021-12-10T15:09:35.537Z"
   },
   {
    "duration": 7,
    "start_time": "2021-12-10T15:09:35.652Z"
   },
   {
    "duration": 8,
    "start_time": "2021-12-10T15:09:35.662Z"
   },
   {
    "duration": 16,
    "start_time": "2021-12-10T15:09:35.673Z"
   },
   {
    "duration": 41,
    "start_time": "2021-12-10T15:09:35.692Z"
   },
   {
    "duration": 14,
    "start_time": "2021-12-10T15:09:35.735Z"
   },
   {
    "duration": 16,
    "start_time": "2021-12-10T15:09:35.751Z"
   },
   {
    "duration": 7,
    "start_time": "2021-12-10T15:09:35.771Z"
   },
   {
    "duration": 9,
    "start_time": "2021-12-10T15:09:35.782Z"
   },
   {
    "duration": 57,
    "start_time": "2021-12-10T15:09:35.793Z"
   },
   {
    "duration": 12,
    "start_time": "2021-12-10T15:09:35.852Z"
   },
   {
    "duration": 5,
    "start_time": "2021-12-10T15:09:35.866Z"
   },
   {
    "duration": 6,
    "start_time": "2021-12-10T15:09:35.874Z"
   },
   {
    "duration": 48,
    "start_time": "2021-12-10T15:09:35.882Z"
   },
   {
    "duration": 6,
    "start_time": "2021-12-10T15:09:35.932Z"
   },
   {
    "duration": 10,
    "start_time": "2021-12-10T15:09:35.941Z"
   },
   {
    "duration": 10,
    "start_time": "2021-12-10T15:09:35.953Z"
   },
   {
    "duration": 22,
    "start_time": "2021-12-10T15:09:35.965Z"
   },
   {
    "duration": 35,
    "start_time": "2021-12-10T15:09:35.989Z"
   },
   {
    "duration": 22,
    "start_time": "2021-12-10T15:09:36.026Z"
   },
   {
    "duration": 24,
    "start_time": "2021-12-10T15:09:36.050Z"
   },
   {
    "duration": 53,
    "start_time": "2021-12-10T15:09:36.076Z"
   },
   {
    "duration": 5,
    "start_time": "2021-12-10T15:09:36.134Z"
   },
   {
    "duration": 11,
    "start_time": "2021-12-10T15:09:36.142Z"
   },
   {
    "duration": 974,
    "start_time": "2021-12-10T15:09:36.155Z"
   },
   {
    "duration": 29,
    "start_time": "2021-12-10T15:09:37.132Z"
   },
   {
    "duration": 20,
    "start_time": "2021-12-10T15:09:37.163Z"
   },
   {
    "duration": 47,
    "start_time": "2021-12-10T15:09:37.185Z"
   },
   {
    "duration": 11,
    "start_time": "2021-12-10T15:09:37.235Z"
   },
   {
    "duration": 26,
    "start_time": "2021-12-10T15:09:37.249Z"
   },
   {
    "duration": 48,
    "start_time": "2021-12-10T15:09:37.277Z"
   },
   {
    "duration": 33,
    "start_time": "2021-12-10T15:09:37.327Z"
   },
   {
    "duration": 25,
    "start_time": "2021-12-10T15:09:37.363Z"
   },
   {
    "duration": 282,
    "start_time": "2021-12-10T15:09:37.390Z"
   },
   {
    "duration": 12,
    "start_time": "2021-12-10T15:09:37.675Z"
   },
   {
    "duration": 244,
    "start_time": "2021-12-10T15:09:37.690Z"
   },
   {
    "duration": 272,
    "start_time": "2021-12-10T15:09:37.936Z"
   },
   {
    "duration": 268,
    "start_time": "2021-12-11T15:13:54.894Z"
   },
   {
    "duration": 277,
    "start_time": "2021-12-11T15:14:13.992Z"
   },
   {
    "duration": 231,
    "start_time": "2021-12-11T15:14:50.217Z"
   },
   {
    "duration": 670,
    "start_time": "2021-12-11T15:14:56.883Z"
   },
   {
    "duration": 4,
    "start_time": "2021-12-11T15:14:57.555Z"
   },
   {
    "duration": 6,
    "start_time": "2021-12-11T15:14:57.563Z"
   },
   {
    "duration": 8,
    "start_time": "2021-12-11T15:14:57.571Z"
   },
   {
    "duration": 12,
    "start_time": "2021-12-11T15:14:57.581Z"
   },
   {
    "duration": 5,
    "start_time": "2021-12-11T15:14:57.595Z"
   },
   {
    "duration": 11,
    "start_time": "2021-12-11T15:14:57.602Z"
   },
   {
    "duration": 46,
    "start_time": "2021-12-11T15:14:57.617Z"
   },
   {
    "duration": 8,
    "start_time": "2021-12-11T15:14:57.665Z"
   },
   {
    "duration": 21,
    "start_time": "2021-12-11T15:14:57.675Z"
   },
   {
    "duration": 16,
    "start_time": "2021-12-11T15:14:57.698Z"
   },
   {
    "duration": 5,
    "start_time": "2021-12-11T15:14:57.717Z"
   },
   {
    "duration": 39,
    "start_time": "2021-12-11T15:14:57.724Z"
   },
   {
    "duration": 12,
    "start_time": "2021-12-11T15:14:57.765Z"
   },
   {
    "duration": 5,
    "start_time": "2021-12-11T15:14:57.779Z"
   },
   {
    "duration": 7,
    "start_time": "2021-12-11T15:14:57.786Z"
   },
   {
    "duration": 8,
    "start_time": "2021-12-11T15:14:57.794Z"
   },
   {
    "duration": 315,
    "start_time": "2021-12-11T15:14:57.803Z"
   },
   {
    "duration": 1296,
    "start_time": "2021-12-11T15:14:56.825Z"
   },
   {
    "duration": 1294,
    "start_time": "2021-12-11T15:14:56.828Z"
   },
   {
    "duration": 1289,
    "start_time": "2021-12-11T15:14:56.835Z"
   },
   {
    "duration": 1287,
    "start_time": "2021-12-11T15:14:56.838Z"
   },
   {
    "duration": 1286,
    "start_time": "2021-12-11T15:14:56.840Z"
   },
   {
    "duration": 1286,
    "start_time": "2021-12-11T15:14:56.842Z"
   },
   {
    "duration": 1285,
    "start_time": "2021-12-11T15:14:56.844Z"
   },
   {
    "duration": 1280,
    "start_time": "2021-12-11T15:14:56.850Z"
   },
   {
    "duration": 1278,
    "start_time": "2021-12-11T15:14:56.853Z"
   },
   {
    "duration": 1277,
    "start_time": "2021-12-11T15:14:56.855Z"
   },
   {
    "duration": 1277,
    "start_time": "2021-12-11T15:14:56.857Z"
   },
   {
    "duration": 1276,
    "start_time": "2021-12-11T15:14:56.859Z"
   },
   {
    "duration": 1276,
    "start_time": "2021-12-11T15:14:56.861Z"
   },
   {
    "duration": 1271,
    "start_time": "2021-12-11T15:14:56.867Z"
   },
   {
    "duration": 1269,
    "start_time": "2021-12-11T15:14:56.870Z"
   },
   {
    "duration": 1269,
    "start_time": "2021-12-11T15:14:56.872Z"
   },
   {
    "duration": 1268,
    "start_time": "2021-12-11T15:14:56.874Z"
   },
   {
    "duration": 1268,
    "start_time": "2021-12-11T15:14:56.875Z"
   },
   {
    "duration": 1266,
    "start_time": "2021-12-11T15:14:56.879Z"
   },
   {
    "duration": 75,
    "start_time": "2021-12-11T15:16:23.650Z"
   },
   {
    "duration": 12,
    "start_time": "2021-12-11T15:16:29.589Z"
   },
   {
    "duration": 4,
    "start_time": "2021-12-11T15:17:14.780Z"
   },
   {
    "duration": 17,
    "start_time": "2021-12-11T15:17:17.448Z"
   },
   {
    "duration": 20,
    "start_time": "2021-12-11T15:17:18.811Z"
   },
   {
    "duration": 16,
    "start_time": "2021-12-11T15:17:21.086Z"
   },
   {
    "duration": 4,
    "start_time": "2021-12-11T15:17:22.330Z"
   },
   {
    "duration": 12,
    "start_time": "2021-12-11T15:18:42.863Z"
   },
   {
    "duration": 6,
    "start_time": "2021-12-11T15:19:56.256Z"
   },
   {
    "duration": 13,
    "start_time": "2021-12-11T15:21:33.263Z"
   },
   {
    "duration": 7,
    "start_time": "2021-12-11T15:22:06.382Z"
   },
   {
    "duration": 70,
    "start_time": "2021-12-11T15:23:30.457Z"
   },
   {
    "duration": 4,
    "start_time": "2021-12-11T15:23:30.529Z"
   },
   {
    "duration": 31,
    "start_time": "2021-12-11T15:23:30.535Z"
   },
   {
    "duration": 7,
    "start_time": "2021-12-11T15:23:30.568Z"
   },
   {
    "duration": 16,
    "start_time": "2021-12-11T15:23:30.576Z"
   },
   {
    "duration": 37,
    "start_time": "2021-12-11T15:23:30.593Z"
   },
   {
    "duration": 20,
    "start_time": "2021-12-11T15:23:30.632Z"
   },
   {
    "duration": 27,
    "start_time": "2021-12-11T15:23:30.653Z"
   },
   {
    "duration": 19,
    "start_time": "2021-12-11T15:23:30.683Z"
   },
   {
    "duration": 12,
    "start_time": "2021-12-11T15:23:30.704Z"
   },
   {
    "duration": 11,
    "start_time": "2021-12-11T15:23:30.718Z"
   },
   {
    "duration": 32,
    "start_time": "2021-12-11T15:23:30.731Z"
   },
   {
    "duration": 23,
    "start_time": "2021-12-11T15:23:30.765Z"
   },
   {
    "duration": 11,
    "start_time": "2021-12-11T15:23:30.789Z"
   },
   {
    "duration": 17,
    "start_time": "2021-12-11T15:23:30.802Z"
   },
   {
    "duration": 16,
    "start_time": "2021-12-11T15:23:30.821Z"
   },
   {
    "duration": 8,
    "start_time": "2021-12-11T15:23:30.838Z"
   },
   {
    "duration": 16,
    "start_time": "2021-12-11T15:23:30.847Z"
   },
   {
    "duration": 9,
    "start_time": "2021-12-11T15:23:30.865Z"
   },
   {
    "duration": 24,
    "start_time": "2021-12-11T15:23:30.876Z"
   },
   {
    "duration": 9,
    "start_time": "2021-12-11T15:23:30.902Z"
   },
   {
    "duration": 26,
    "start_time": "2021-12-11T15:23:30.912Z"
   },
   {
    "duration": 20,
    "start_time": "2021-12-11T15:23:30.940Z"
   },
   {
    "duration": 15,
    "start_time": "2021-12-11T15:23:30.962Z"
   },
   {
    "duration": 4,
    "start_time": "2021-12-11T15:23:30.978Z"
   },
   {
    "duration": 14,
    "start_time": "2021-12-11T15:23:30.983Z"
   },
   {
    "duration": 660,
    "start_time": "2021-12-11T15:23:31.001Z"
   },
   {
    "duration": 19,
    "start_time": "2021-12-11T15:23:31.664Z"
   },
   {
    "duration": 14,
    "start_time": "2021-12-11T15:23:31.685Z"
   },
   {
    "duration": 12,
    "start_time": "2021-12-11T15:23:31.700Z"
   },
   {
    "duration": 8,
    "start_time": "2021-12-11T15:23:31.714Z"
   },
   {
    "duration": 56,
    "start_time": "2021-12-11T15:23:31.724Z"
   },
   {
    "duration": 10,
    "start_time": "2021-12-11T15:23:31.782Z"
   },
   {
    "duration": 31,
    "start_time": "2021-12-11T15:23:31.794Z"
   },
   {
    "duration": 46,
    "start_time": "2021-12-11T15:23:31.827Z"
   },
   {
    "duration": 1031,
    "start_time": "2021-12-11T15:23:31.875Z"
   },
   {
    "duration": 13,
    "start_time": "2021-12-11T15:23:32.909Z"
   },
   {
    "duration": 151,
    "start_time": "2021-12-11T15:23:32.924Z"
   },
   {
    "duration": 149,
    "start_time": "2021-12-11T15:23:33.077Z"
   },
   {
    "duration": 82,
    "start_time": "2021-12-11T15:33:39.868Z"
   }
  ],
  "kernelspec": {
   "display_name": "Python 3 (ipykernel)",
   "language": "python",
   "name": "python3"
  },
  "language_info": {
   "codemirror_mode": {
    "name": "ipython",
    "version": 3
   },
   "file_extension": ".py",
   "mimetype": "text/x-python",
   "name": "python",
   "nbconvert_exporter": "python",
   "pygments_lexer": "ipython3",
   "version": "3.9.7"
  },
  "toc": {
   "base_numbering": 1,
   "nav_menu": {},
   "number_sections": true,
   "sideBar": true,
   "skip_h1_title": true,
   "title_cell": "Содержание",
   "title_sidebar": "Содержание",
   "toc_cell": true,
   "toc_position": {
    "height": "calc(100% - 180px)",
    "left": "10px",
    "top": "150px",
    "width": "283.993px"
   },
   "toc_section_display": true,
   "toc_window_display": true
  }
 },
 "nbformat": 4,
 "nbformat_minor": 2
}
