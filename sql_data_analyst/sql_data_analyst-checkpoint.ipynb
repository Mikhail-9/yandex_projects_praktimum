{
 "cells": [
  {
   "cell_type": "markdown",
   "id": "2c3522a3",
   "metadata": {
    "toc": true
   },
   "source": [
    "<h1>Table of Contents<span class=\"tocSkip\"></span></h1>\n",
    "<div class=\"toc\"><ul class=\"toc-item\"><li><span><a href=\"#Нам-нужно-проанализировать-данные-о-фондах-и-инвестициях-и-написать-запросы-к-базе.\" data-toc-modified-id=\"Нам-нужно-проанализировать-данные-о-фондах-и-инвестициях-и-написать-запросы-к-базе.-1\"><span class=\"toc-item-num\">1&nbsp;&nbsp;</span>Нам нужно проанализировать данные о фондах и инвестициях и написать запросы к базе.</a></span><ul class=\"toc-item\"><li><span><a href=\"#СХЕМА-базы-данных\" data-toc-modified-id=\"СХЕМА-базы-данных-1.1\"><span class=\"toc-item-num\">1.1&nbsp;&nbsp;</span>СХЕМА базы данных</a></span></li><li><span><a href=\"#Подсчет-закрытых-компаний\" data-toc-modified-id=\"Подсчет-закрытых-компаний-1.2\"><span class=\"toc-item-num\">1.2&nbsp;&nbsp;</span>Подсчет закрытых компаний</a></span></li><li><span><a href=\"#Отобразить-количество-привлечённых-средств-для-новостных-компаний-США.-Используем-данные-из-таблицы-company.-Отсортируем-таблицу-по-убыванию-значений-в-поле-funding_total.\" data-toc-modified-id=\"Отобразить-количество-привлечённых-средств-для-новостных-компаний-США.-Используем-данные-из-таблицы-company.-Отсортируем-таблицу-по-убыванию-значений-в-поле-funding_total.-1.3\"><span class=\"toc-item-num\">1.3&nbsp;&nbsp;</span>Отобразить количество привлечённых средств для новостных компаний США. Используем данные из таблицы company. Отсортируем таблицу по убыванию значений в поле funding_total.</a></span></li></ul></li></ul></div>"
   ]
  },
  {
   "cell_type": "markdown",
   "id": "05b4b882",
   "metadata": {},
   "source": [
    "### Нам нужно проанализировать данные о фондах и инвестициях и написать запросы к базе."
   ]
  },
  {
   "cell_type": "markdown",
   "id": "0d049513",
   "metadata": {},
   "source": [
    "#### СХЕМА базы данных"
   ]
  },
  {
   "cell_type": "markdown",
   "id": "9240f3d2",
   "metadata": {},
   "source": [
    "![](\\Users\\bogda\\Desktop\\yandex_projects_praktimum\\sql_data_analyst\\13_border2880_1628581406.png)"
   ]
  },
  {
   "cell_type": "markdown",
   "id": "4744bad0",
   "metadata": {},
   "source": [
    "#### Подсчет закрытых компаний"
   ]
  },
  {
   "cell_type": "markdown",
   "id": "5e9b34eb",
   "metadata": {},
   "source": [
    "```\n",
    "SELECT COUNT(status)\n",
    "FROM company\n",
    "WHERE status = 'closed'\n",
    "```"
   ]
  },
  {
   "cell_type": "markdown",
   "id": "585a856f",
   "metadata": {},
   "source": [
    "#### Отобразить количество привлечённых средств для новостных компаний США. Используем данные из таблицы company. Отсортируем таблицу по убыванию значений в поле funding_total."
   ]
  },
  {
   "cell_type": "code",
   "execution_count": null,
   "id": "4487b28f",
   "metadata": {},
   "outputs": [],
   "source": []
  }
 ],
 "metadata": {
  "kernelspec": {
   "display_name": "Python 3 (ipykernel)",
   "language": "python",
   "name": "python3"
  },
  "language_info": {
   "codemirror_mode": {
    "name": "ipython",
    "version": 3
   },
   "file_extension": ".py",
   "mimetype": "text/x-python",
   "name": "python",
   "nbconvert_exporter": "python",
   "pygments_lexer": "ipython3",
   "version": "3.9.7"
  },
  "toc": {
   "base_numbering": 1,
   "nav_menu": {},
   "number_sections": true,
   "sideBar": true,
   "skip_h1_title": false,
   "title_cell": "Table of Contents",
   "title_sidebar": "Contents",
   "toc_cell": true,
   "toc_position": {},
   "toc_section_display": true,
   "toc_window_display": true
  }
 },
 "nbformat": 4,
 "nbformat_minor": 5
}
