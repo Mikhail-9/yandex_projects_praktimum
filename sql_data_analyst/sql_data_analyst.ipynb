{
 "cells": [
  {
   "cell_type": "markdown",
   "id": "dad87f32",
   "metadata": {
    "toc": true
   },
   "source": [
    "<h1>Table of Contents<span class=\"tocSkip\"></span></h1>\n",
    "<div class=\"toc\"><ul class=\"toc-item\"><li><span><a href=\"#Нам-нужно-проанализировать-данные-о-фондах-и-инвестициях-и-написать-запросы-к-базе.\" data-toc-modified-id=\"Нам-нужно-проанализировать-данные-о-фондах-и-инвестициях-и-написать-запросы-к-базе.-1\"><span class=\"toc-item-num\">1&nbsp;&nbsp;</span>Нам нужно проанализировать данные о фондах и инвестициях и написать запросы к базе.</a></span><ul class=\"toc-item\"><li><span><a href=\"#СХЕМА-базы-данных\" data-toc-modified-id=\"СХЕМА-базы-данных-1.1\"><span class=\"toc-item-num\">1.1&nbsp;&nbsp;</span>СХЕМА базы данных</a></span></li><li><span><a href=\"#Подсчет-закрытых-компаний\" data-toc-modified-id=\"Подсчет-закрытых-компаний-1.2\"><span class=\"toc-item-num\">1.2&nbsp;&nbsp;</span>Подсчет закрытых компаний</a></span></li><li><span><a href=\"#Отобразить-количество-привлечённых-средств-для-новостных-компаний-США.-Используем-данные-из-таблицы-company.-Отсортируем-таблицу-по-убыванию-значений-в-поле-funding_total.\" data-toc-modified-id=\"Отобразить-количество-привлечённых-средств-для-новостных-компаний-США.-Используем-данные-из-таблицы-company.-Отсортируем-таблицу-по-убыванию-значений-в-поле-funding_total.-1.3\"><span class=\"toc-item-num\">1.3&nbsp;&nbsp;</span>Отобразить количество привлечённых средств для новостных компаний США. Используем данные из таблицы company. Отсортируем таблицу по убыванию значений в поле funding_total.</a></span></li></ul></li></ul></div>"
   ]
  },
  {
   "cell_type": "markdown",
   "id": "0f12f97f",
   "metadata": {},
   "source": [
    "### Нам нужно проанализировать данные о фондах и инвестициях и написать запросы к базе."
   ]
  },
  {
   "cell_type": "markdown",
   "id": "ed76d166",
   "metadata": {},
   "source": [
    "#### СХЕМА базы данных"
   ]
  },
  {
   "cell_type": "code",
   "execution_count": null,
   "id": "8f98fa99",
   "metadata": {},
   "outputs": [],
   "source": []
  },
  {
   "cell_type": "markdown",
   "id": "57cdfc0d",
   "metadata": {},
   "source": [
    "![](C:\\Users\\bogda\\Desktop\\yandex_projects_praktimum\\sql_data_analyst\\13_border2880_1628581406.png)"
   ]
  },
  {
   "cell_type": "markdown",
   "id": "58f7bd0c",
   "metadata": {},
   "source": [
    "#### Подсчет закрытых компаний"
   ]
  },
  {
   "cell_type": "markdown",
   "id": "add1fd92",
   "metadata": {},
   "source": [
    "```\n",
    "SELECT COUNT(status)\n",
    "FROM company\n",
    "WHERE status = 'closed'\n",
    "```"
   ]
  },
  {
   "cell_type": "markdown",
   "id": "a1105164",
   "metadata": {},
   "source": [
    "#### Отобразить количество привлечённых средств для новостных компаний США. Используем данные из таблицы company. Отсортируем таблицу по убыванию значений в поле funding_total."
   ]
  },
  {
   "cell_type": "code",
   "execution_count": null,
   "id": "ef855bd6",
   "metadata": {},
   "outputs": [],
   "source": []
  }
 ],
 "metadata": {
  "kernelspec": {
   "display_name": "Python 3 (ipykernel)",
   "language": "python",
   "name": "python3"
  },
  "language_info": {
   "codemirror_mode": {
    "name": "ipython",
    "version": 3
   },
   "file_extension": ".py",
   "mimetype": "text/x-python",
   "name": "python",
   "nbconvert_exporter": "python",
   "pygments_lexer": "ipython3",
   "version": "3.9.7"
  },
  "toc": {
   "base_numbering": 1,
   "nav_menu": {},
   "number_sections": true,
   "sideBar": true,
   "skip_h1_title": false,
   "title_cell": "Table of Contents",
   "title_sidebar": "Contents",
   "toc_cell": true,
   "toc_position": {},
   "toc_section_display": true,
   "toc_window_display": true
  }
 },
 "nbformat": 4,
 "nbformat_minor": 5
}
