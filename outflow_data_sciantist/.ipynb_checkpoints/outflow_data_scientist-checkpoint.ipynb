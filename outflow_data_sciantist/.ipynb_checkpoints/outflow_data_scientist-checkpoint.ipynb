{
 "cells": [
  {
   "cell_type": "markdown",
   "id": "ca1d718d",
   "metadata": {
    "toc": true
   },
   "source": [
    "<h1>Содержание<span class=\"tocSkip\"></span></h1>\n",
    "<div class=\"toc\"><ul class=\"toc-item\"><li><span><a href=\"#Введение\" data-toc-modified-id=\"Введение-1\"><span class=\"toc-item-num\">1&nbsp;&nbsp;</span>Введение</a></span></li><li><span><a href=\"#Предобработка,-подготовка-признаков.\" data-toc-modified-id=\"Предобработка,-подготовка-признаков.-2\"><span class=\"toc-item-num\">2&nbsp;&nbsp;</span>Предобработка, подготовка признаков.</a></span><ul class=\"toc-item\"><li><span><a href=\"#Вывод\" data-toc-modified-id=\"Вывод-2.1\"><span class=\"toc-item-num\">2.1&nbsp;&nbsp;</span>Вывод</a></span></li></ul></li><li><span><a href=\"#Моделирование-на-несбалансированных-данных\" data-toc-modified-id=\"Моделирование-на-несбалансированных-данных-3\"><span class=\"toc-item-num\">3&nbsp;&nbsp;</span>Моделирование на несбалансированных данных</a></span><ul class=\"toc-item\"><li><span><a href=\"#Применим-модель-Дерева-решений.\" data-toc-modified-id=\"Применим-модель-Дерева-решений.-3.1\"><span class=\"toc-item-num\">3.1&nbsp;&nbsp;</span>Применим модель Дерева решений.</a></span></li><li><span><a href=\"#Применим-модель-Случайный-лес\" data-toc-modified-id=\"Применим-модель-Случайный-лес-3.2\"><span class=\"toc-item-num\">3.2&nbsp;&nbsp;</span>Применим модель Случайный лес</a></span></li><li><span><a href=\"#Применим-модель-Логистическая-регрессия\" data-toc-modified-id=\"Применим-модель-Логистическая-регрессия-3.3\"><span class=\"toc-item-num\">3.3&nbsp;&nbsp;</span>Применим модель Логистическая регрессия</a></span></li><li><span><a href=\"#Проверим-лучшую-модель-на-тестовой-выборке\" data-toc-modified-id=\"Проверим-лучшую-модель-на-тестовой-выборке-3.4\"><span class=\"toc-item-num\">3.4&nbsp;&nbsp;</span>Проверим лучшую модель на тестовой выборке</a></span></li><li><span><a href=\"#Проверим-лучшую-модель-на-адекватность-рассчитав-площадь-под-ROC-кривой\" data-toc-modified-id=\"Проверим-лучшую-модель-на-адекватность-рассчитав-площадь-под-ROC-кривой-3.5\"><span class=\"toc-item-num\">3.5&nbsp;&nbsp;</span>Проверим лучшую модель на адекватность рассчитав площадь под ROC кривой</a></span></li><li><span><a href=\"#Проверим-баланс-данных\" data-toc-modified-id=\"Проверим-баланс-данных-3.6\"><span class=\"toc-item-num\">3.6&nbsp;&nbsp;</span>Проверим баланс данных</a></span></li><li><span><a href=\"#Вывод\" data-toc-modified-id=\"Вывод-3.7\"><span class=\"toc-item-num\">3.7&nbsp;&nbsp;</span>Вывод</a></span></li></ul></li><li><span><a href=\"#Моделирование-на-сбалансированных-данных\" data-toc-modified-id=\"Моделирование-на-сбалансированных-данных-4\"><span class=\"toc-item-num\">4&nbsp;&nbsp;</span>Моделирование на сбалансированных данных</a></span><ul class=\"toc-item\"><li><span><a href=\"#Используем-изменение-порога\" data-toc-modified-id=\"Используем-изменение-порога-4.1\"><span class=\"toc-item-num\">4.1&nbsp;&nbsp;</span>Используем изменение порога</a></span></li><li><span><a href=\"#Вывод\" data-toc-modified-id=\"Вывод-4.2\"><span class=\"toc-item-num\">4.2&nbsp;&nbsp;</span>Вывод</a></span></li></ul></li><li><span><a href=\"#Используем-метод-масштабирования-SMOTE-для-устранения-дисбаланса.\" data-toc-modified-id=\"Используем-метод-масштабирования-SMOTE-для-устранения-дисбаланса.-5\"><span class=\"toc-item-num\">5&nbsp;&nbsp;</span>Используем метод масштабирования SMOTE для устранения дисбаланса.</a></span><ul class=\"toc-item\"><li><span><a href=\"#Вывод\" data-toc-modified-id=\"Вывод-5.1\"><span class=\"toc-item-num\">5.1&nbsp;&nbsp;</span>Вывод</a></span></li></ul></li><li><span><a href=\"#Используем-масштабирование-StandardScaler\" data-toc-modified-id=\"Используем-масштабирование-StandardScaler-6\"><span class=\"toc-item-num\">6&nbsp;&nbsp;</span>Используем масштабирование StandardScaler</a></span><ul class=\"toc-item\"><li><span><a href=\"#Вывод\" data-toc-modified-id=\"Вывод-6.1\"><span class=\"toc-item-num\">6.1&nbsp;&nbsp;</span>Вывод</a></span></li></ul></li><li><span><a href=\"#Применим-методы-upsampling--и-downsampling\" data-toc-modified-id=\"Применим-методы-upsampling--и-downsampling-7\"><span class=\"toc-item-num\">7&nbsp;&nbsp;</span>Применим методы upsampling  и downsampling</a></span><ul class=\"toc-item\"><li><span><a href=\"#Вывод\" data-toc-modified-id=\"Вывод-7.1\"><span class=\"toc-item-num\">7.1&nbsp;&nbsp;</span>Вывод</a></span></li></ul></li><li><span><a href=\"#Используем-сбалансированныёй-режим-классификатора-на-тестовой-выборке.\" data-toc-modified-id=\"Используем-сбалансированныёй-режим-классификатора-на-тестовой-выборке.-8\"><span class=\"toc-item-num\">8&nbsp;&nbsp;</span>Используем сбалансированныёй режим классификатора на тестовой выборке.</a></span><ul class=\"toc-item\"><li><span><a href=\"#Вывод\" data-toc-modified-id=\"Вывод-8.1\"><span class=\"toc-item-num\">8.1&nbsp;&nbsp;</span>Вывод</a></span></li></ul></li><li><span><a href=\"#Исследуем-зависимость-признаков-для-события.\" data-toc-modified-id=\"Исследуем-зависимость-признаков-для-события.-9\"><span class=\"toc-item-num\">9&nbsp;&nbsp;</span>Исследуем зависимость признаков для события.</a></span><ul class=\"toc-item\"><li><span><a href=\"#Вывод\" data-toc-modified-id=\"Вывод-9.1\"><span class=\"toc-item-num\">9.1&nbsp;&nbsp;</span>Вывод</a></span></li></ul></li><li><span><a href=\"#Вывод\" data-toc-modified-id=\"Вывод-10\"><span class=\"toc-item-num\">10&nbsp;&nbsp;</span>Вывод</a></span></li></ul></div>"
   ]
  },
  {
   "cell_type": "markdown",
   "id": "575dff2d",
   "metadata": {},
   "source": [
    "# Прогнозирование оттока клиентов финансовой организации.\n",
    "## Введение \n",
    "**Из «Бета-Банка» стали уходить клиенты. Каждый месяц. Немного, но заметно. Банковские маркетологи посчитали: сохранять текущих клиентов дешевле, чем привлекать новых.Я спрогнозирую, уйдёт клиент из банка в ближайшее время или нет. Мне предоставлены исторические данные о поведении клиентов и расторжении договоров с банком.**"
   ]
  },
  {
   "cell_type": "markdown",
   "id": "c49aac0f",
   "metadata": {},
   "source": [
    "<h1>Содержание<span class=\"tocSkip\"></span></h1>\n",
    "<div class=\"toc\"><ul class=\"toc-item\"><li><span><a href=\"#Введение\" data-toc-modified-id=\"Введение-1\"><span class=\"toc-item-num\">1&nbsp;&nbsp;</span>Введение</a></span></li><li><span><a href=\"#Предобработка,-подготовка-признаков.\" data-toc-modified-id=\"Предобработка,-подготовка-признаков.-2\"><span class=\"toc-item-num\">2&nbsp;&nbsp;</span>Предобработка, подготовка признаков.</a></span><ul class=\"toc-item\"><li><span><a href=\"#Вывод\" data-toc-modified-id=\"Вывод-2.1\"><span class=\"toc-item-num\">2.1&nbsp;&nbsp;</span>Вывод</a></span></li></ul></li><li><span><a href=\"#Моделирование-на-несбалансированных-данных\" data-toc-modified-id=\"Моделирование-на-несбалансированных-данных-3\"><span class=\"toc-item-num\">3&nbsp;&nbsp;</span>Моделирование на несбалансированных данных</a></span><ul class=\"toc-item\"><li><span><a href=\"#Применим-модель-Дерева-решений.\" data-toc-modified-id=\"Применим-модель-Дерева-решений.-3.1\"><span class=\"toc-item-num\">3.1&nbsp;&nbsp;</span>Применим модель Дерева решений.</a></span></li><li><span><a href=\"#Применим-модель-Случайный-лес\" data-toc-modified-id=\"Применим-модель-Случайный-лес-3.2\"><span class=\"toc-item-num\">3.2&nbsp;&nbsp;</span>Применим модель Случайный лес</a></span></li><li><span><a href=\"#Применим-модель-Логистическая-регрессия\" data-toc-modified-id=\"Применим-модель-Логистическая-регрессия-3.3\"><span class=\"toc-item-num\">3.3&nbsp;&nbsp;</span>Применим модель Логистическая регрессия</a></span></li><li><span><a href=\"#Проверим-лучшую-модель-на-тестовой-выборке\" data-toc-modified-id=\"Проверим-лучшую-модель-на-тестовой-выборке-3.4\"><span class=\"toc-item-num\">3.4&nbsp;&nbsp;</span>Проверим лучшую модель на тестовой выборке</a></span></li><li><span><a href=\"#Проверим-лучшую-модель-на-адекватность-рассчитав-площадь-под-ROC-кривой\" data-toc-modified-id=\"Проверим-лучшую-модель-на-адекватность-рассчитав-площадь-под-ROC-кривой-3.5\"><span class=\"toc-item-num\">3.5&nbsp;&nbsp;</span>Проверим лучшую модель на адекватность рассчитав площадь под ROC кривой</a></span></li><li><span><a href=\"#Проверим-баланс-данных\" data-toc-modified-id=\"Проверим-баланс-данных-3.6\"><span class=\"toc-item-num\">3.6&nbsp;&nbsp;</span>Проверим баланс данных</a></span></li><li><span><a href=\"#Вывод\" data-toc-modified-id=\"Вывод-3.7\"><span class=\"toc-item-num\">3.7&nbsp;&nbsp;</span>Вывод</a></span></li></ul></li><li><span><a href=\"#Моделирование-на-сбалансированных-данных\" data-toc-modified-id=\"Моделирование-на-сбалансированных-данных-4\"><span class=\"toc-item-num\">4&nbsp;&nbsp;</span>Моделирование на сбалансированных данных</a></span><ul class=\"toc-item\"><li><span><a href=\"#Используем-изменение-порога\" data-toc-modified-id=\"Используем-изменение-порога-4.1\"><span class=\"toc-item-num\">4.1&nbsp;&nbsp;</span>Используем изменение порога</a></span></li><li><span><a href=\"#Вывод\" data-toc-modified-id=\"Вывод-4.2\"><span class=\"toc-item-num\">4.2&nbsp;&nbsp;</span>Вывод</a></span></li></ul></li><li><span><a href=\"#Используем-метод-масштабирования-SMOTE-для-устранения-дисбаланса.\" data-toc-modified-id=\"Используем-метод-масштабирования-SMOTE-для-устранения-дисбаланса.-5\"><span class=\"toc-item-num\">5&nbsp;&nbsp;</span>Используем метод масштабирования SMOTE для устранения дисбаланса.</a></span><ul class=\"toc-item\"><li><span><a href=\"#Вывод\" data-toc-modified-id=\"Вывод-5.1\"><span class=\"toc-item-num\">5.1&nbsp;&nbsp;</span>Вывод</a></span></li></ul></li><li><span><a href=\"#Используем-масштабирование-StandardScaler\" data-toc-modified-id=\"Используем-масштабирование-StandardScaler-6\"><span class=\"toc-item-num\">6&nbsp;&nbsp;</span>Используем масштабирование StandardScaler</a></span><ul class=\"toc-item\"><li><span><a href=\"#Вывод\" data-toc-modified-id=\"Вывод-6.1\"><span class=\"toc-item-num\">6.1&nbsp;&nbsp;</span>Вывод</a></span></li></ul></li><li><span><a href=\"#Применим-методы-upsampling--и-downsampling\" data-toc-modified-id=\"Применим-методы-upsampling--и-downsampling-7\"><span class=\"toc-item-num\">7&nbsp;&nbsp;</span>Применим методы upsampling  и downsampling</a></span><ul class=\"toc-item\"><li><span><a href=\"#Вывод\" data-toc-modified-id=\"Вывод-7.1\"><span class=\"toc-item-num\">7.1&nbsp;&nbsp;</span>Вывод</a></span></li></ul></li><li><span><a href=\"#Используем-сбалансированныёй-режим-классификатора-на-тестовой-выборке.\" data-toc-modified-id=\"Используем-сбалансированныёй-режим-классификатора-на-тестовой-выборке.-8\"><span class=\"toc-item-num\">8&nbsp;&nbsp;</span>Используем сбалансированныёй режим классификатора на тестовой выборке.</a></span><ul class=\"toc-item\"><li><span><a href=\"#Вывод\" data-toc-modified-id=\"Вывод-8.1\"><span class=\"toc-item-num\">8.1&nbsp;&nbsp;</span>Вывод</a></span></li></ul></li><li><span><a href=\"#Исследуем-зависимость-признаков-для-события.\" data-toc-modified-id=\"Исследуем-зависимость-признаков-для-события.-9\"><span class=\"toc-item-num\">9&nbsp;&nbsp;</span>Исследуем зависимость признаков для события.</a></span><ul class=\"toc-item\"><li><span><a href=\"#Вывод\" data-toc-modified-id=\"Вывод-9.1\"><span class=\"toc-item-num\">9.1&nbsp;&nbsp;</span>Вывод</a></span></li></ul></li><li><span><a href=\"#Вывод\" data-toc-modified-id=\"Вывод-10\"><span class=\"toc-item-num\">10&nbsp;&nbsp;</span>Вывод</a></span></li></ul></div>"
   ]
  },
  {
   "cell_type": "code",
   "execution_count": 68,
   "id": "5f6c4709",
   "metadata": {},
   "outputs": [],
   "source": [
    "#conda install -c conda-forge imbalanced-learn\n",
    "#pip install -U imbalanced-learn"
   ]
  },
  {
   "cell_type": "code",
   "execution_count": 69,
   "id": "911ea896",
   "metadata": {},
   "outputs": [],
   "source": [
    "import pandas as pd\n",
    "import numpy as np\n",
    "import matplotlib.pyplot as plt\n",
    "from sklearn.model_selection import train_test_split \n",
    "from sklearn.tree import DecisionTreeClassifier\n",
    "from sklearn.ensemble import RandomForestClassifier\n",
    "from sklearn.linear_model import LogisticRegression\n",
    "from sklearn.metrics import f1_score\n",
    "from sklearn.metrics import roc_auc_score\n",
    "from sklearn.preprocessing import StandardScaler\n",
    "from sklearn.utils import shuffle\n",
    "from sklearn.metrics import precision_score, recall_score\n",
    "from imblearn.over_sampling import BorderlineSMOTE"
   ]
  },
  {
   "cell_type": "code",
   "execution_count": 70,
   "id": "a8cdd877",
   "metadata": {},
   "outputs": [],
   "source": [
    "try:\n",
    "    outflow = pd.read_csv('/Users/bogda/anaconda3/projects/praktikum/project6_ottok_klientov/Churn.csv')\n",
    "except FileNotFoundError as e:\n",
    "    print(e)\n",
    "    outflow = pd.read_csv('/datasets/Churn.csv')"
   ]
  },
  {
   "cell_type": "markdown",
   "id": "bec4456d",
   "metadata": {},
   "source": [
    "## Предобработка, подготовка признаков."
   ]
  },
  {
   "cell_type": "code",
   "execution_count": 71,
   "id": "d3bd9e2e",
   "metadata": {},
   "outputs": [
    {
     "data": {
      "text/html": [
       "<div>\n",
       "<style scoped>\n",
       "    .dataframe tbody tr th:only-of-type {\n",
       "        vertical-align: middle;\n",
       "    }\n",
       "\n",
       "    .dataframe tbody tr th {\n",
       "        vertical-align: top;\n",
       "    }\n",
       "\n",
       "    .dataframe thead th {\n",
       "        text-align: right;\n",
       "    }\n",
       "</style>\n",
       "<table border=\"1\" class=\"dataframe\">\n",
       "  <thead>\n",
       "    <tr style=\"text-align: right;\">\n",
       "      <th></th>\n",
       "      <th>RowNumber</th>\n",
       "      <th>CustomerId</th>\n",
       "      <th>Surname</th>\n",
       "      <th>CreditScore</th>\n",
       "      <th>Geography</th>\n",
       "      <th>Gender</th>\n",
       "      <th>Age</th>\n",
       "      <th>Tenure</th>\n",
       "      <th>Balance</th>\n",
       "      <th>NumOfProducts</th>\n",
       "      <th>HasCrCard</th>\n",
       "      <th>IsActiveMember</th>\n",
       "      <th>EstimatedSalary</th>\n",
       "      <th>Exited</th>\n",
       "    </tr>\n",
       "  </thead>\n",
       "  <tbody>\n",
       "    <tr>\n",
       "      <th>0</th>\n",
       "      <td>1</td>\n",
       "      <td>15634602</td>\n",
       "      <td>Hargrave</td>\n",
       "      <td>619</td>\n",
       "      <td>France</td>\n",
       "      <td>Female</td>\n",
       "      <td>42</td>\n",
       "      <td>2.0</td>\n",
       "      <td>0.00</td>\n",
       "      <td>1</td>\n",
       "      <td>1</td>\n",
       "      <td>1</td>\n",
       "      <td>101348.88</td>\n",
       "      <td>1</td>\n",
       "    </tr>\n",
       "    <tr>\n",
       "      <th>1</th>\n",
       "      <td>2</td>\n",
       "      <td>15647311</td>\n",
       "      <td>Hill</td>\n",
       "      <td>608</td>\n",
       "      <td>Spain</td>\n",
       "      <td>Female</td>\n",
       "      <td>41</td>\n",
       "      <td>1.0</td>\n",
       "      <td>83807.86</td>\n",
       "      <td>1</td>\n",
       "      <td>0</td>\n",
       "      <td>1</td>\n",
       "      <td>112542.58</td>\n",
       "      <td>0</td>\n",
       "    </tr>\n",
       "    <tr>\n",
       "      <th>2</th>\n",
       "      <td>3</td>\n",
       "      <td>15619304</td>\n",
       "      <td>Onio</td>\n",
       "      <td>502</td>\n",
       "      <td>France</td>\n",
       "      <td>Female</td>\n",
       "      <td>42</td>\n",
       "      <td>8.0</td>\n",
       "      <td>159660.80</td>\n",
       "      <td>3</td>\n",
       "      <td>1</td>\n",
       "      <td>0</td>\n",
       "      <td>113931.57</td>\n",
       "      <td>1</td>\n",
       "    </tr>\n",
       "    <tr>\n",
       "      <th>3</th>\n",
       "      <td>4</td>\n",
       "      <td>15701354</td>\n",
       "      <td>Boni</td>\n",
       "      <td>699</td>\n",
       "      <td>France</td>\n",
       "      <td>Female</td>\n",
       "      <td>39</td>\n",
       "      <td>1.0</td>\n",
       "      <td>0.00</td>\n",
       "      <td>2</td>\n",
       "      <td>0</td>\n",
       "      <td>0</td>\n",
       "      <td>93826.63</td>\n",
       "      <td>0</td>\n",
       "    </tr>\n",
       "    <tr>\n",
       "      <th>4</th>\n",
       "      <td>5</td>\n",
       "      <td>15737888</td>\n",
       "      <td>Mitchell</td>\n",
       "      <td>850</td>\n",
       "      <td>Spain</td>\n",
       "      <td>Female</td>\n",
       "      <td>43</td>\n",
       "      <td>2.0</td>\n",
       "      <td>125510.82</td>\n",
       "      <td>1</td>\n",
       "      <td>1</td>\n",
       "      <td>1</td>\n",
       "      <td>79084.10</td>\n",
       "      <td>0</td>\n",
       "    </tr>\n",
       "    <tr>\n",
       "      <th>5</th>\n",
       "      <td>6</td>\n",
       "      <td>15574012</td>\n",
       "      <td>Chu</td>\n",
       "      <td>645</td>\n",
       "      <td>Spain</td>\n",
       "      <td>Male</td>\n",
       "      <td>44</td>\n",
       "      <td>8.0</td>\n",
       "      <td>113755.78</td>\n",
       "      <td>2</td>\n",
       "      <td>1</td>\n",
       "      <td>0</td>\n",
       "      <td>149756.71</td>\n",
       "      <td>1</td>\n",
       "    </tr>\n",
       "    <tr>\n",
       "      <th>6</th>\n",
       "      <td>7</td>\n",
       "      <td>15592531</td>\n",
       "      <td>Bartlett</td>\n",
       "      <td>822</td>\n",
       "      <td>France</td>\n",
       "      <td>Male</td>\n",
       "      <td>50</td>\n",
       "      <td>7.0</td>\n",
       "      <td>0.00</td>\n",
       "      <td>2</td>\n",
       "      <td>1</td>\n",
       "      <td>1</td>\n",
       "      <td>10062.80</td>\n",
       "      <td>0</td>\n",
       "    </tr>\n",
       "    <tr>\n",
       "      <th>7</th>\n",
       "      <td>8</td>\n",
       "      <td>15656148</td>\n",
       "      <td>Obinna</td>\n",
       "      <td>376</td>\n",
       "      <td>Germany</td>\n",
       "      <td>Female</td>\n",
       "      <td>29</td>\n",
       "      <td>4.0</td>\n",
       "      <td>115046.74</td>\n",
       "      <td>4</td>\n",
       "      <td>1</td>\n",
       "      <td>0</td>\n",
       "      <td>119346.88</td>\n",
       "      <td>1</td>\n",
       "    </tr>\n",
       "    <tr>\n",
       "      <th>8</th>\n",
       "      <td>9</td>\n",
       "      <td>15792365</td>\n",
       "      <td>He</td>\n",
       "      <td>501</td>\n",
       "      <td>France</td>\n",
       "      <td>Male</td>\n",
       "      <td>44</td>\n",
       "      <td>4.0</td>\n",
       "      <td>142051.07</td>\n",
       "      <td>2</td>\n",
       "      <td>0</td>\n",
       "      <td>1</td>\n",
       "      <td>74940.50</td>\n",
       "      <td>0</td>\n",
       "    </tr>\n",
       "    <tr>\n",
       "      <th>9</th>\n",
       "      <td>10</td>\n",
       "      <td>15592389</td>\n",
       "      <td>H?</td>\n",
       "      <td>684</td>\n",
       "      <td>France</td>\n",
       "      <td>Male</td>\n",
       "      <td>27</td>\n",
       "      <td>2.0</td>\n",
       "      <td>134603.88</td>\n",
       "      <td>1</td>\n",
       "      <td>1</td>\n",
       "      <td>1</td>\n",
       "      <td>71725.73</td>\n",
       "      <td>0</td>\n",
       "    </tr>\n",
       "  </tbody>\n",
       "</table>\n",
       "</div>"
      ],
      "text/plain": [
       "   RowNumber  CustomerId   Surname  CreditScore Geography  Gender  Age  \\\n",
       "0          1    15634602  Hargrave          619    France  Female   42   \n",
       "1          2    15647311      Hill          608     Spain  Female   41   \n",
       "2          3    15619304      Onio          502    France  Female   42   \n",
       "3          4    15701354      Boni          699    France  Female   39   \n",
       "4          5    15737888  Mitchell          850     Spain  Female   43   \n",
       "5          6    15574012       Chu          645     Spain    Male   44   \n",
       "6          7    15592531  Bartlett          822    France    Male   50   \n",
       "7          8    15656148    Obinna          376   Germany  Female   29   \n",
       "8          9    15792365        He          501    France    Male   44   \n",
       "9         10    15592389        H?          684    France    Male   27   \n",
       "\n",
       "   Tenure    Balance  NumOfProducts  HasCrCard  IsActiveMember  \\\n",
       "0     2.0       0.00              1          1               1   \n",
       "1     1.0   83807.86              1          0               1   \n",
       "2     8.0  159660.80              3          1               0   \n",
       "3     1.0       0.00              2          0               0   \n",
       "4     2.0  125510.82              1          1               1   \n",
       "5     8.0  113755.78              2          1               0   \n",
       "6     7.0       0.00              2          1               1   \n",
       "7     4.0  115046.74              4          1               0   \n",
       "8     4.0  142051.07              2          0               1   \n",
       "9     2.0  134603.88              1          1               1   \n",
       "\n",
       "   EstimatedSalary  Exited  \n",
       "0        101348.88       1  \n",
       "1        112542.58       0  \n",
       "2        113931.57       1  \n",
       "3         93826.63       0  \n",
       "4         79084.10       0  \n",
       "5        149756.71       1  \n",
       "6         10062.80       0  \n",
       "7        119346.88       1  \n",
       "8         74940.50       0  \n",
       "9         71725.73       0  "
      ]
     },
     "execution_count": 71,
     "metadata": {},
     "output_type": "execute_result"
    }
   ],
   "source": [
    "outflow.head(10)"
   ]
  },
  {
   "cell_type": "code",
   "execution_count": 72,
   "id": "24e86765",
   "metadata": {},
   "outputs": [
    {
     "name": "stdout",
     "output_type": "stream",
     "text": [
      "<class 'pandas.core.frame.DataFrame'>\n",
      "RangeIndex: 10000 entries, 0 to 9999\n",
      "Data columns (total 14 columns):\n",
      " #   Column           Non-Null Count  Dtype  \n",
      "---  ------           --------------  -----  \n",
      " 0   RowNumber        10000 non-null  int64  \n",
      " 1   CustomerId       10000 non-null  int64  \n",
      " 2   Surname          10000 non-null  object \n",
      " 3   CreditScore      10000 non-null  int64  \n",
      " 4   Geography        10000 non-null  object \n",
      " 5   Gender           10000 non-null  object \n",
      " 6   Age              10000 non-null  int64  \n",
      " 7   Tenure           9091 non-null   float64\n",
      " 8   Balance          10000 non-null  float64\n",
      " 9   NumOfProducts    10000 non-null  int64  \n",
      " 10  HasCrCard        10000 non-null  int64  \n",
      " 11  IsActiveMember   10000 non-null  int64  \n",
      " 12  EstimatedSalary  10000 non-null  float64\n",
      " 13  Exited           10000 non-null  int64  \n",
      "dtypes: float64(3), int64(8), object(3)\n",
      "memory usage: 1.1+ MB\n"
     ]
    }
   ],
   "source": [
    "outflow.info()"
   ]
  },
  {
   "cell_type": "code",
   "execution_count": 73,
   "id": "6f441fd0",
   "metadata": {},
   "outputs": [],
   "source": [
    "outflow_raw = outflow"
   ]
  },
  {
   "cell_type": "markdown",
   "id": "eb045dbd",
   "metadata": {},
   "source": [
    "**Заменим пропуски на медиану**"
   ]
  },
  {
   "cell_type": "code",
   "execution_count": 74,
   "id": "1c134f72",
   "metadata": {},
   "outputs": [],
   "source": [
    "outflow_raw['Tenure'] = outflow_raw['Tenure'].fillna(outflow_raw['Tenure'].median())\n"
   ]
  },
  {
   "cell_type": "code",
   "execution_count": 75,
   "id": "1708976b",
   "metadata": {},
   "outputs": [
    {
     "data": {
      "text/plain": [
       "RowNumber          0\n",
       "CustomerId         0\n",
       "Surname            0\n",
       "CreditScore        0\n",
       "Geography          0\n",
       "Gender             0\n",
       "Age                0\n",
       "Tenure             0\n",
       "Balance            0\n",
       "NumOfProducts      0\n",
       "HasCrCard          0\n",
       "IsActiveMember     0\n",
       "EstimatedSalary    0\n",
       "Exited             0\n",
       "dtype: int64"
      ]
     },
     "execution_count": 75,
     "metadata": {},
     "output_type": "execute_result"
    }
   ],
   "source": [
    "outflow_raw.isna().sum()"
   ]
  },
  {
   "cell_type": "markdown",
   "id": "8e891c57",
   "metadata": {},
   "source": [
    "**Удалим неинформативные признаки**"
   ]
  },
  {
   "cell_type": "code",
   "execution_count": 76,
   "id": "73213911",
   "metadata": {},
   "outputs": [],
   "source": [
    "outflow_raw = outflow_raw.drop(['RowNumber', 'CustomerId', 'Surname'], axis=1)"
   ]
  },
  {
   "cell_type": "markdown",
   "id": "67b0d665",
   "metadata": {},
   "source": [
    "**Применим прямое кодирование**"
   ]
  },
  {
   "cell_type": "code",
   "execution_count": 77,
   "id": "1144c9c0",
   "metadata": {},
   "outputs": [
    {
     "data": {
      "text/html": [
       "<div>\n",
       "<style scoped>\n",
       "    .dataframe tbody tr th:only-of-type {\n",
       "        vertical-align: middle;\n",
       "    }\n",
       "\n",
       "    .dataframe tbody tr th {\n",
       "        vertical-align: top;\n",
       "    }\n",
       "\n",
       "    .dataframe thead th {\n",
       "        text-align: right;\n",
       "    }\n",
       "</style>\n",
       "<table border=\"1\" class=\"dataframe\">\n",
       "  <thead>\n",
       "    <tr style=\"text-align: right;\">\n",
       "      <th></th>\n",
       "      <th>CreditScore</th>\n",
       "      <th>Age</th>\n",
       "      <th>Tenure</th>\n",
       "      <th>Balance</th>\n",
       "      <th>NumOfProducts</th>\n",
       "      <th>HasCrCard</th>\n",
       "      <th>IsActiveMember</th>\n",
       "      <th>EstimatedSalary</th>\n",
       "      <th>Exited</th>\n",
       "      <th>Geography_Germany</th>\n",
       "      <th>Geography_Spain</th>\n",
       "      <th>Gender_Male</th>\n",
       "    </tr>\n",
       "  </thead>\n",
       "  <tbody>\n",
       "    <tr>\n",
       "      <th>0</th>\n",
       "      <td>619</td>\n",
       "      <td>42</td>\n",
       "      <td>2.0</td>\n",
       "      <td>0.00</td>\n",
       "      <td>1</td>\n",
       "      <td>1</td>\n",
       "      <td>1</td>\n",
       "      <td>101348.88</td>\n",
       "      <td>1</td>\n",
       "      <td>0</td>\n",
       "      <td>0</td>\n",
       "      <td>0</td>\n",
       "    </tr>\n",
       "    <tr>\n",
       "      <th>1</th>\n",
       "      <td>608</td>\n",
       "      <td>41</td>\n",
       "      <td>1.0</td>\n",
       "      <td>83807.86</td>\n",
       "      <td>1</td>\n",
       "      <td>0</td>\n",
       "      <td>1</td>\n",
       "      <td>112542.58</td>\n",
       "      <td>0</td>\n",
       "      <td>0</td>\n",
       "      <td>1</td>\n",
       "      <td>0</td>\n",
       "    </tr>\n",
       "    <tr>\n",
       "      <th>2</th>\n",
       "      <td>502</td>\n",
       "      <td>42</td>\n",
       "      <td>8.0</td>\n",
       "      <td>159660.80</td>\n",
       "      <td>3</td>\n",
       "      <td>1</td>\n",
       "      <td>0</td>\n",
       "      <td>113931.57</td>\n",
       "      <td>1</td>\n",
       "      <td>0</td>\n",
       "      <td>0</td>\n",
       "      <td>0</td>\n",
       "    </tr>\n",
       "    <tr>\n",
       "      <th>3</th>\n",
       "      <td>699</td>\n",
       "      <td>39</td>\n",
       "      <td>1.0</td>\n",
       "      <td>0.00</td>\n",
       "      <td>2</td>\n",
       "      <td>0</td>\n",
       "      <td>0</td>\n",
       "      <td>93826.63</td>\n",
       "      <td>0</td>\n",
       "      <td>0</td>\n",
       "      <td>0</td>\n",
       "      <td>0</td>\n",
       "    </tr>\n",
       "    <tr>\n",
       "      <th>4</th>\n",
       "      <td>850</td>\n",
       "      <td>43</td>\n",
       "      <td>2.0</td>\n",
       "      <td>125510.82</td>\n",
       "      <td>1</td>\n",
       "      <td>1</td>\n",
       "      <td>1</td>\n",
       "      <td>79084.10</td>\n",
       "      <td>0</td>\n",
       "      <td>0</td>\n",
       "      <td>1</td>\n",
       "      <td>0</td>\n",
       "    </tr>\n",
       "    <tr>\n",
       "      <th>...</th>\n",
       "      <td>...</td>\n",
       "      <td>...</td>\n",
       "      <td>...</td>\n",
       "      <td>...</td>\n",
       "      <td>...</td>\n",
       "      <td>...</td>\n",
       "      <td>...</td>\n",
       "      <td>...</td>\n",
       "      <td>...</td>\n",
       "      <td>...</td>\n",
       "      <td>...</td>\n",
       "      <td>...</td>\n",
       "    </tr>\n",
       "    <tr>\n",
       "      <th>9995</th>\n",
       "      <td>771</td>\n",
       "      <td>39</td>\n",
       "      <td>5.0</td>\n",
       "      <td>0.00</td>\n",
       "      <td>2</td>\n",
       "      <td>1</td>\n",
       "      <td>0</td>\n",
       "      <td>96270.64</td>\n",
       "      <td>0</td>\n",
       "      <td>0</td>\n",
       "      <td>0</td>\n",
       "      <td>1</td>\n",
       "    </tr>\n",
       "    <tr>\n",
       "      <th>9996</th>\n",
       "      <td>516</td>\n",
       "      <td>35</td>\n",
       "      <td>10.0</td>\n",
       "      <td>57369.61</td>\n",
       "      <td>1</td>\n",
       "      <td>1</td>\n",
       "      <td>1</td>\n",
       "      <td>101699.77</td>\n",
       "      <td>0</td>\n",
       "      <td>0</td>\n",
       "      <td>0</td>\n",
       "      <td>1</td>\n",
       "    </tr>\n",
       "    <tr>\n",
       "      <th>9997</th>\n",
       "      <td>709</td>\n",
       "      <td>36</td>\n",
       "      <td>7.0</td>\n",
       "      <td>0.00</td>\n",
       "      <td>1</td>\n",
       "      <td>0</td>\n",
       "      <td>1</td>\n",
       "      <td>42085.58</td>\n",
       "      <td>1</td>\n",
       "      <td>0</td>\n",
       "      <td>0</td>\n",
       "      <td>0</td>\n",
       "    </tr>\n",
       "    <tr>\n",
       "      <th>9998</th>\n",
       "      <td>772</td>\n",
       "      <td>42</td>\n",
       "      <td>3.0</td>\n",
       "      <td>75075.31</td>\n",
       "      <td>2</td>\n",
       "      <td>1</td>\n",
       "      <td>0</td>\n",
       "      <td>92888.52</td>\n",
       "      <td>1</td>\n",
       "      <td>1</td>\n",
       "      <td>0</td>\n",
       "      <td>1</td>\n",
       "    </tr>\n",
       "    <tr>\n",
       "      <th>9999</th>\n",
       "      <td>792</td>\n",
       "      <td>28</td>\n",
       "      <td>5.0</td>\n",
       "      <td>130142.79</td>\n",
       "      <td>1</td>\n",
       "      <td>1</td>\n",
       "      <td>0</td>\n",
       "      <td>38190.78</td>\n",
       "      <td>0</td>\n",
       "      <td>0</td>\n",
       "      <td>0</td>\n",
       "      <td>0</td>\n",
       "    </tr>\n",
       "  </tbody>\n",
       "</table>\n",
       "<p>10000 rows × 12 columns</p>\n",
       "</div>"
      ],
      "text/plain": [
       "      CreditScore  Age  Tenure    Balance  NumOfProducts  HasCrCard  \\\n",
       "0             619   42     2.0       0.00              1          1   \n",
       "1             608   41     1.0   83807.86              1          0   \n",
       "2             502   42     8.0  159660.80              3          1   \n",
       "3             699   39     1.0       0.00              2          0   \n",
       "4             850   43     2.0  125510.82              1          1   \n",
       "...           ...  ...     ...        ...            ...        ...   \n",
       "9995          771   39     5.0       0.00              2          1   \n",
       "9996          516   35    10.0   57369.61              1          1   \n",
       "9997          709   36     7.0       0.00              1          0   \n",
       "9998          772   42     3.0   75075.31              2          1   \n",
       "9999          792   28     5.0  130142.79              1          1   \n",
       "\n",
       "      IsActiveMember  EstimatedSalary  Exited  Geography_Germany  \\\n",
       "0                  1        101348.88       1                  0   \n",
       "1                  1        112542.58       0                  0   \n",
       "2                  0        113931.57       1                  0   \n",
       "3                  0         93826.63       0                  0   \n",
       "4                  1         79084.10       0                  0   \n",
       "...              ...              ...     ...                ...   \n",
       "9995               0         96270.64       0                  0   \n",
       "9996               1        101699.77       0                  0   \n",
       "9997               1         42085.58       1                  0   \n",
       "9998               0         92888.52       1                  1   \n",
       "9999               0         38190.78       0                  0   \n",
       "\n",
       "      Geography_Spain  Gender_Male  \n",
       "0                   0            0  \n",
       "1                   1            0  \n",
       "2                   0            0  \n",
       "3                   0            0  \n",
       "4                   1            0  \n",
       "...               ...          ...  \n",
       "9995                0            1  \n",
       "9996                0            1  \n",
       "9997                0            0  \n",
       "9998                0            1  \n",
       "9999                0            0  \n",
       "\n",
       "[10000 rows x 12 columns]"
      ]
     },
     "execution_count": 77,
     "metadata": {},
     "output_type": "execute_result"
    }
   ],
   "source": [
    "outflow_raw = pd.get_dummies(outflow_raw, drop_first=True)\n",
    "outflow_raw"
   ]
  },
  {
   "cell_type": "code",
   "execution_count": 78,
   "id": "bde86f3c",
   "metadata": {},
   "outputs": [
    {
     "data": {
      "text/html": [
       "<div>\n",
       "<style scoped>\n",
       "    .dataframe tbody tr th:only-of-type {\n",
       "        vertical-align: middle;\n",
       "    }\n",
       "\n",
       "    .dataframe tbody tr th {\n",
       "        vertical-align: top;\n",
       "    }\n",
       "\n",
       "    .dataframe thead th {\n",
       "        text-align: right;\n",
       "    }\n",
       "</style>\n",
       "<table border=\"1\" class=\"dataframe\">\n",
       "  <thead>\n",
       "    <tr style=\"text-align: right;\">\n",
       "      <th></th>\n",
       "      <th>count</th>\n",
       "      <th>mean</th>\n",
       "      <th>std</th>\n",
       "      <th>min</th>\n",
       "      <th>25%</th>\n",
       "      <th>50%</th>\n",
       "      <th>75%</th>\n",
       "      <th>max</th>\n",
       "    </tr>\n",
       "  </thead>\n",
       "  <tbody>\n",
       "    <tr>\n",
       "      <th>CreditScore</th>\n",
       "      <td>10000.0</td>\n",
       "      <td>650.528800</td>\n",
       "      <td>96.653299</td>\n",
       "      <td>350.00</td>\n",
       "      <td>584.00</td>\n",
       "      <td>652.000</td>\n",
       "      <td>718.0000</td>\n",
       "      <td>850.00</td>\n",
       "    </tr>\n",
       "    <tr>\n",
       "      <th>Age</th>\n",
       "      <td>10000.0</td>\n",
       "      <td>38.921800</td>\n",
       "      <td>10.487806</td>\n",
       "      <td>18.00</td>\n",
       "      <td>32.00</td>\n",
       "      <td>37.000</td>\n",
       "      <td>44.0000</td>\n",
       "      <td>92.00</td>\n",
       "    </tr>\n",
       "    <tr>\n",
       "      <th>Tenure</th>\n",
       "      <td>10000.0</td>\n",
       "      <td>4.997900</td>\n",
       "      <td>2.760010</td>\n",
       "      <td>0.00</td>\n",
       "      <td>3.00</td>\n",
       "      <td>5.000</td>\n",
       "      <td>7.0000</td>\n",
       "      <td>10.00</td>\n",
       "    </tr>\n",
       "    <tr>\n",
       "      <th>Balance</th>\n",
       "      <td>10000.0</td>\n",
       "      <td>76485.889288</td>\n",
       "      <td>62397.405202</td>\n",
       "      <td>0.00</td>\n",
       "      <td>0.00</td>\n",
       "      <td>97198.540</td>\n",
       "      <td>127644.2400</td>\n",
       "      <td>250898.09</td>\n",
       "    </tr>\n",
       "    <tr>\n",
       "      <th>NumOfProducts</th>\n",
       "      <td>10000.0</td>\n",
       "      <td>1.530200</td>\n",
       "      <td>0.581654</td>\n",
       "      <td>1.00</td>\n",
       "      <td>1.00</td>\n",
       "      <td>1.000</td>\n",
       "      <td>2.0000</td>\n",
       "      <td>4.00</td>\n",
       "    </tr>\n",
       "    <tr>\n",
       "      <th>HasCrCard</th>\n",
       "      <td>10000.0</td>\n",
       "      <td>0.705500</td>\n",
       "      <td>0.455840</td>\n",
       "      <td>0.00</td>\n",
       "      <td>0.00</td>\n",
       "      <td>1.000</td>\n",
       "      <td>1.0000</td>\n",
       "      <td>1.00</td>\n",
       "    </tr>\n",
       "    <tr>\n",
       "      <th>IsActiveMember</th>\n",
       "      <td>10000.0</td>\n",
       "      <td>0.515100</td>\n",
       "      <td>0.499797</td>\n",
       "      <td>0.00</td>\n",
       "      <td>0.00</td>\n",
       "      <td>1.000</td>\n",
       "      <td>1.0000</td>\n",
       "      <td>1.00</td>\n",
       "    </tr>\n",
       "    <tr>\n",
       "      <th>EstimatedSalary</th>\n",
       "      <td>10000.0</td>\n",
       "      <td>100090.239881</td>\n",
       "      <td>57510.492818</td>\n",
       "      <td>11.58</td>\n",
       "      <td>51002.11</td>\n",
       "      <td>100193.915</td>\n",
       "      <td>149388.2475</td>\n",
       "      <td>199992.48</td>\n",
       "    </tr>\n",
       "    <tr>\n",
       "      <th>Exited</th>\n",
       "      <td>10000.0</td>\n",
       "      <td>0.203700</td>\n",
       "      <td>0.402769</td>\n",
       "      <td>0.00</td>\n",
       "      <td>0.00</td>\n",
       "      <td>0.000</td>\n",
       "      <td>0.0000</td>\n",
       "      <td>1.00</td>\n",
       "    </tr>\n",
       "    <tr>\n",
       "      <th>Geography_Germany</th>\n",
       "      <td>10000.0</td>\n",
       "      <td>0.250900</td>\n",
       "      <td>0.433553</td>\n",
       "      <td>0.00</td>\n",
       "      <td>0.00</td>\n",
       "      <td>0.000</td>\n",
       "      <td>1.0000</td>\n",
       "      <td>1.00</td>\n",
       "    </tr>\n",
       "    <tr>\n",
       "      <th>Geography_Spain</th>\n",
       "      <td>10000.0</td>\n",
       "      <td>0.247700</td>\n",
       "      <td>0.431698</td>\n",
       "      <td>0.00</td>\n",
       "      <td>0.00</td>\n",
       "      <td>0.000</td>\n",
       "      <td>0.0000</td>\n",
       "      <td>1.00</td>\n",
       "    </tr>\n",
       "    <tr>\n",
       "      <th>Gender_Male</th>\n",
       "      <td>10000.0</td>\n",
       "      <td>0.545700</td>\n",
       "      <td>0.497932</td>\n",
       "      <td>0.00</td>\n",
       "      <td>0.00</td>\n",
       "      <td>1.000</td>\n",
       "      <td>1.0000</td>\n",
       "      <td>1.00</td>\n",
       "    </tr>\n",
       "  </tbody>\n",
       "</table>\n",
       "</div>"
      ],
      "text/plain": [
       "                     count           mean           std     min       25%  \\\n",
       "CreditScore        10000.0     650.528800     96.653299  350.00    584.00   \n",
       "Age                10000.0      38.921800     10.487806   18.00     32.00   \n",
       "Tenure             10000.0       4.997900      2.760010    0.00      3.00   \n",
       "Balance            10000.0   76485.889288  62397.405202    0.00      0.00   \n",
       "NumOfProducts      10000.0       1.530200      0.581654    1.00      1.00   \n",
       "HasCrCard          10000.0       0.705500      0.455840    0.00      0.00   \n",
       "IsActiveMember     10000.0       0.515100      0.499797    0.00      0.00   \n",
       "EstimatedSalary    10000.0  100090.239881  57510.492818   11.58  51002.11   \n",
       "Exited             10000.0       0.203700      0.402769    0.00      0.00   \n",
       "Geography_Germany  10000.0       0.250900      0.433553    0.00      0.00   \n",
       "Geography_Spain    10000.0       0.247700      0.431698    0.00      0.00   \n",
       "Gender_Male        10000.0       0.545700      0.497932    0.00      0.00   \n",
       "\n",
       "                          50%          75%        max  \n",
       "CreditScore           652.000     718.0000     850.00  \n",
       "Age                    37.000      44.0000      92.00  \n",
       "Tenure                  5.000       7.0000      10.00  \n",
       "Balance             97198.540  127644.2400  250898.09  \n",
       "NumOfProducts           1.000       2.0000       4.00  \n",
       "HasCrCard               1.000       1.0000       1.00  \n",
       "IsActiveMember          1.000       1.0000       1.00  \n",
       "EstimatedSalary    100193.915  149388.2475  199992.48  \n",
       "Exited                  0.000       0.0000       1.00  \n",
       "Geography_Germany       0.000       1.0000       1.00  \n",
       "Geography_Spain         0.000       0.0000       1.00  \n",
       "Gender_Male             1.000       1.0000       1.00  "
      ]
     },
     "execution_count": 78,
     "metadata": {},
     "output_type": "execute_result"
    }
   ],
   "source": [
    "outflow_raw.describe().T"
   ]
  },
  {
   "cell_type": "markdown",
   "id": "0ad1c4bc",
   "metadata": {},
   "source": [
    "### Вывод\n",
    "**Изучил данные. Столбцы RowNumber, CustomerId, Surname не несут смысловой нагрузки для целей исследования - удалил. Столбец Tenure имеет пропуски, заполнил медианными. Столбцы Geography, Gender привёл к численным методом one - hot encoding.**"
   ]
  },
  {
   "cell_type": "markdown",
   "id": "a5d1a678",
   "metadata": {},
   "source": [
    "## Моделирование на несбалансированных данных"
   ]
  },
  {
   "cell_type": "markdown",
   "id": "a62e7f55",
   "metadata": {},
   "source": [
    "**Разобьем на выборки**"
   ]
  },
  {
   "cell_type": "code",
   "execution_count": 79,
   "id": "b5e25e5d",
   "metadata": {},
   "outputs": [],
   "source": [
    "target = outflow_raw['Exited']\n",
    "features = outflow_raw.drop(['Exited'] , axis=1)\n",
    "features_train_valid, features_valid, target_train_valid, target_valid = train_test_split(\n",
    "    features, target, test_size=0.15, random_state=12345)\n",
    "features_train, features_test, target_train, target_test = train_test_split(\n",
    "    features_train_valid, target_train_valid, test_size=0.2, random_state=12345)\n"
   ]
  },
  {
   "cell_type": "markdown",
   "id": "b281d834",
   "metadata": {},
   "source": [
    "**Проверим правильность разбиения**"
   ]
  },
  {
   "cell_type": "code",
   "execution_count": 80,
   "id": "f98ca53b",
   "metadata": {},
   "outputs": [
    {
     "data": {
      "text/html": [
       "<div>\n",
       "<style scoped>\n",
       "    .dataframe tbody tr th:only-of-type {\n",
       "        vertical-align: middle;\n",
       "    }\n",
       "\n",
       "    .dataframe tbody tr th {\n",
       "        vertical-align: top;\n",
       "    }\n",
       "\n",
       "    .dataframe thead th {\n",
       "        text-align: right;\n",
       "    }\n",
       "</style>\n",
       "<table border=\"1\" class=\"dataframe\">\n",
       "  <thead>\n",
       "    <tr style=\"text-align: right;\">\n",
       "      <th></th>\n",
       "      <th>CreditScore</th>\n",
       "      <th>Age</th>\n",
       "      <th>Tenure</th>\n",
       "      <th>Balance</th>\n",
       "      <th>NumOfProducts</th>\n",
       "      <th>HasCrCard</th>\n",
       "      <th>IsActiveMember</th>\n",
       "      <th>EstimatedSalary</th>\n",
       "      <th>Geography_Germany</th>\n",
       "      <th>Geography_Spain</th>\n",
       "      <th>Gender_Male</th>\n",
       "    </tr>\n",
       "  </thead>\n",
       "  <tbody>\n",
       "    <tr>\n",
       "      <th>1662</th>\n",
       "      <td>695</td>\n",
       "      <td>40</td>\n",
       "      <td>7.0</td>\n",
       "      <td>139022.24</td>\n",
       "      <td>1</td>\n",
       "      <td>0</td>\n",
       "      <td>1</td>\n",
       "      <td>193383.13</td>\n",
       "      <td>1</td>\n",
       "      <td>0</td>\n",
       "      <td>1</td>\n",
       "    </tr>\n",
       "    <tr>\n",
       "      <th>6693</th>\n",
       "      <td>637</td>\n",
       "      <td>27</td>\n",
       "      <td>5.0</td>\n",
       "      <td>128940.24</td>\n",
       "      <td>1</td>\n",
       "      <td>1</td>\n",
       "      <td>0</td>\n",
       "      <td>46786.92</td>\n",
       "      <td>0</td>\n",
       "      <td>0</td>\n",
       "      <td>1</td>\n",
       "    </tr>\n",
       "    <tr>\n",
       "      <th>2922</th>\n",
       "      <td>685</td>\n",
       "      <td>34</td>\n",
       "      <td>6.0</td>\n",
       "      <td>83264.28</td>\n",
       "      <td>1</td>\n",
       "      <td>0</td>\n",
       "      <td>0</td>\n",
       "      <td>9663.28</td>\n",
       "      <td>0</td>\n",
       "      <td>1</td>\n",
       "      <td>1</td>\n",
       "    </tr>\n",
       "    <tr>\n",
       "      <th>7430</th>\n",
       "      <td>606</td>\n",
       "      <td>35</td>\n",
       "      <td>0.0</td>\n",
       "      <td>135984.15</td>\n",
       "      <td>2</td>\n",
       "      <td>1</td>\n",
       "      <td>0</td>\n",
       "      <td>186778.89</td>\n",
       "      <td>0</td>\n",
       "      <td>0</td>\n",
       "      <td>0</td>\n",
       "    </tr>\n",
       "    <tr>\n",
       "      <th>9484</th>\n",
       "      <td>813</td>\n",
       "      <td>30</td>\n",
       "      <td>1.0</td>\n",
       "      <td>116416.94</td>\n",
       "      <td>1</td>\n",
       "      <td>0</td>\n",
       "      <td>1</td>\n",
       "      <td>85808.22</td>\n",
       "      <td>1</td>\n",
       "      <td>0</td>\n",
       "      <td>1</td>\n",
       "    </tr>\n",
       "    <tr>\n",
       "      <th>...</th>\n",
       "      <td>...</td>\n",
       "      <td>...</td>\n",
       "      <td>...</td>\n",
       "      <td>...</td>\n",
       "      <td>...</td>\n",
       "      <td>...</td>\n",
       "      <td>...</td>\n",
       "      <td>...</td>\n",
       "      <td>...</td>\n",
       "      <td>...</td>\n",
       "      <td>...</td>\n",
       "    </tr>\n",
       "    <tr>\n",
       "      <th>1891</th>\n",
       "      <td>584</td>\n",
       "      <td>37</td>\n",
       "      <td>1.0</td>\n",
       "      <td>0.00</td>\n",
       "      <td>2</td>\n",
       "      <td>1</td>\n",
       "      <td>1</td>\n",
       "      <td>180363.56</td>\n",
       "      <td>0</td>\n",
       "      <td>0</td>\n",
       "      <td>0</td>\n",
       "    </tr>\n",
       "    <tr>\n",
       "      <th>36</th>\n",
       "      <td>490</td>\n",
       "      <td>31</td>\n",
       "      <td>3.0</td>\n",
       "      <td>145260.23</td>\n",
       "      <td>1</td>\n",
       "      <td>0</td>\n",
       "      <td>1</td>\n",
       "      <td>114066.77</td>\n",
       "      <td>0</td>\n",
       "      <td>1</td>\n",
       "      <td>1</td>\n",
       "    </tr>\n",
       "    <tr>\n",
       "      <th>9393</th>\n",
       "      <td>670</td>\n",
       "      <td>43</td>\n",
       "      <td>9.0</td>\n",
       "      <td>111677.88</td>\n",
       "      <td>1</td>\n",
       "      <td>1</td>\n",
       "      <td>0</td>\n",
       "      <td>178827.30</td>\n",
       "      <td>1</td>\n",
       "      <td>0</td>\n",
       "      <td>1</td>\n",
       "    </tr>\n",
       "    <tr>\n",
       "      <th>207</th>\n",
       "      <td>618</td>\n",
       "      <td>34</td>\n",
       "      <td>5.0</td>\n",
       "      <td>134954.53</td>\n",
       "      <td>1</td>\n",
       "      <td>1</td>\n",
       "      <td>1</td>\n",
       "      <td>151954.39</td>\n",
       "      <td>0</td>\n",
       "      <td>0</td>\n",
       "      <td>1</td>\n",
       "    </tr>\n",
       "    <tr>\n",
       "      <th>7499</th>\n",
       "      <td>609</td>\n",
       "      <td>71</td>\n",
       "      <td>6.0</td>\n",
       "      <td>113317.10</td>\n",
       "      <td>1</td>\n",
       "      <td>1</td>\n",
       "      <td>0</td>\n",
       "      <td>108258.22</td>\n",
       "      <td>1</td>\n",
       "      <td>0</td>\n",
       "      <td>0</td>\n",
       "    </tr>\n",
       "  </tbody>\n",
       "</table>\n",
       "<p>6800 rows × 11 columns</p>\n",
       "</div>"
      ],
      "text/plain": [
       "      CreditScore  Age  Tenure    Balance  NumOfProducts  HasCrCard  \\\n",
       "1662          695   40     7.0  139022.24              1          0   \n",
       "6693          637   27     5.0  128940.24              1          1   \n",
       "2922          685   34     6.0   83264.28              1          0   \n",
       "7430          606   35     0.0  135984.15              2          1   \n",
       "9484          813   30     1.0  116416.94              1          0   \n",
       "...           ...  ...     ...        ...            ...        ...   \n",
       "1891          584   37     1.0       0.00              2          1   \n",
       "36            490   31     3.0  145260.23              1          0   \n",
       "9393          670   43     9.0  111677.88              1          1   \n",
       "207           618   34     5.0  134954.53              1          1   \n",
       "7499          609   71     6.0  113317.10              1          1   \n",
       "\n",
       "      IsActiveMember  EstimatedSalary  Geography_Germany  Geography_Spain  \\\n",
       "1662               1        193383.13                  1                0   \n",
       "6693               0         46786.92                  0                0   \n",
       "2922               0          9663.28                  0                1   \n",
       "7430               0        186778.89                  0                0   \n",
       "9484               1         85808.22                  1                0   \n",
       "...              ...              ...                ...              ...   \n",
       "1891               1        180363.56                  0                0   \n",
       "36                 1        114066.77                  0                1   \n",
       "9393               0        178827.30                  1                0   \n",
       "207                1        151954.39                  0                0   \n",
       "7499               0        108258.22                  1                0   \n",
       "\n",
       "      Gender_Male  \n",
       "1662            1  \n",
       "6693            1  \n",
       "2922            1  \n",
       "7430            0  \n",
       "9484            1  \n",
       "...           ...  \n",
       "1891            0  \n",
       "36              1  \n",
       "9393            1  \n",
       "207             1  \n",
       "7499            0  \n",
       "\n",
       "[6800 rows x 11 columns]"
      ]
     },
     "execution_count": 80,
     "metadata": {},
     "output_type": "execute_result"
    }
   ],
   "source": [
    "features_train"
   ]
  },
  {
   "cell_type": "code",
   "execution_count": 81,
   "id": "f26e9837",
   "metadata": {},
   "outputs": [
    {
     "data": {
      "text/html": [
       "<div>\n",
       "<style scoped>\n",
       "    .dataframe tbody tr th:only-of-type {\n",
       "        vertical-align: middle;\n",
       "    }\n",
       "\n",
       "    .dataframe tbody tr th {\n",
       "        vertical-align: top;\n",
       "    }\n",
       "\n",
       "    .dataframe thead th {\n",
       "        text-align: right;\n",
       "    }\n",
       "</style>\n",
       "<table border=\"1\" class=\"dataframe\">\n",
       "  <thead>\n",
       "    <tr style=\"text-align: right;\">\n",
       "      <th></th>\n",
       "      <th>CreditScore</th>\n",
       "      <th>Age</th>\n",
       "      <th>Tenure</th>\n",
       "      <th>Balance</th>\n",
       "      <th>NumOfProducts</th>\n",
       "      <th>HasCrCard</th>\n",
       "      <th>IsActiveMember</th>\n",
       "      <th>EstimatedSalary</th>\n",
       "      <th>Geography_Germany</th>\n",
       "      <th>Geography_Spain</th>\n",
       "      <th>Gender_Male</th>\n",
       "    </tr>\n",
       "  </thead>\n",
       "  <tbody>\n",
       "    <tr>\n",
       "      <th>7867</th>\n",
       "      <td>640</td>\n",
       "      <td>46</td>\n",
       "      <td>3.0</td>\n",
       "      <td>0.00</td>\n",
       "      <td>1</td>\n",
       "      <td>1</td>\n",
       "      <td>1</td>\n",
       "      <td>156260.08</td>\n",
       "      <td>0</td>\n",
       "      <td>1</td>\n",
       "      <td>0</td>\n",
       "    </tr>\n",
       "    <tr>\n",
       "      <th>1402</th>\n",
       "      <td>757</td>\n",
       "      <td>29</td>\n",
       "      <td>8.0</td>\n",
       "      <td>130306.49</td>\n",
       "      <td>1</td>\n",
       "      <td>1</td>\n",
       "      <td>0</td>\n",
       "      <td>77469.38</td>\n",
       "      <td>0</td>\n",
       "      <td>0</td>\n",
       "      <td>1</td>\n",
       "    </tr>\n",
       "    <tr>\n",
       "      <th>8606</th>\n",
       "      <td>807</td>\n",
       "      <td>42</td>\n",
       "      <td>5.0</td>\n",
       "      <td>0.00</td>\n",
       "      <td>2</td>\n",
       "      <td>1</td>\n",
       "      <td>1</td>\n",
       "      <td>74900.90</td>\n",
       "      <td>0</td>\n",
       "      <td>1</td>\n",
       "      <td>1</td>\n",
       "    </tr>\n",
       "    <tr>\n",
       "      <th>8885</th>\n",
       "      <td>668</td>\n",
       "      <td>45</td>\n",
       "      <td>4.0</td>\n",
       "      <td>102486.21</td>\n",
       "      <td>2</td>\n",
       "      <td>1</td>\n",
       "      <td>1</td>\n",
       "      <td>158379.25</td>\n",
       "      <td>0</td>\n",
       "      <td>1</td>\n",
       "      <td>1</td>\n",
       "    </tr>\n",
       "    <tr>\n",
       "      <th>6494</th>\n",
       "      <td>699</td>\n",
       "      <td>28</td>\n",
       "      <td>7.0</td>\n",
       "      <td>0.00</td>\n",
       "      <td>2</td>\n",
       "      <td>1</td>\n",
       "      <td>1</td>\n",
       "      <td>22684.78</td>\n",
       "      <td>0</td>\n",
       "      <td>0</td>\n",
       "      <td>1</td>\n",
       "    </tr>\n",
       "    <tr>\n",
       "      <th>...</th>\n",
       "      <td>...</td>\n",
       "      <td>...</td>\n",
       "      <td>...</td>\n",
       "      <td>...</td>\n",
       "      <td>...</td>\n",
       "      <td>...</td>\n",
       "      <td>...</td>\n",
       "      <td>...</td>\n",
       "      <td>...</td>\n",
       "      <td>...</td>\n",
       "      <td>...</td>\n",
       "    </tr>\n",
       "    <tr>\n",
       "      <th>3379</th>\n",
       "      <td>803</td>\n",
       "      <td>45</td>\n",
       "      <td>7.0</td>\n",
       "      <td>0.00</td>\n",
       "      <td>2</td>\n",
       "      <td>1</td>\n",
       "      <td>1</td>\n",
       "      <td>128378.04</td>\n",
       "      <td>0</td>\n",
       "      <td>1</td>\n",
       "      <td>0</td>\n",
       "    </tr>\n",
       "    <tr>\n",
       "      <th>4617</th>\n",
       "      <td>812</td>\n",
       "      <td>24</td>\n",
       "      <td>5.0</td>\n",
       "      <td>0.00</td>\n",
       "      <td>2</td>\n",
       "      <td>1</td>\n",
       "      <td>1</td>\n",
       "      <td>156906.15</td>\n",
       "      <td>0</td>\n",
       "      <td>0</td>\n",
       "      <td>1</td>\n",
       "    </tr>\n",
       "    <tr>\n",
       "      <th>8530</th>\n",
       "      <td>808</td>\n",
       "      <td>33</td>\n",
       "      <td>2.0</td>\n",
       "      <td>103516.87</td>\n",
       "      <td>1</td>\n",
       "      <td>1</td>\n",
       "      <td>0</td>\n",
       "      <td>113907.80</td>\n",
       "      <td>0</td>\n",
       "      <td>0</td>\n",
       "      <td>0</td>\n",
       "    </tr>\n",
       "    <tr>\n",
       "      <th>7223</th>\n",
       "      <td>799</td>\n",
       "      <td>31</td>\n",
       "      <td>9.0</td>\n",
       "      <td>154586.92</td>\n",
       "      <td>1</td>\n",
       "      <td>0</td>\n",
       "      <td>1</td>\n",
       "      <td>88604.89</td>\n",
       "      <td>1</td>\n",
       "      <td>0</td>\n",
       "      <td>1</td>\n",
       "    </tr>\n",
       "    <tr>\n",
       "      <th>7573</th>\n",
       "      <td>481</td>\n",
       "      <td>37</td>\n",
       "      <td>8.0</td>\n",
       "      <td>0.00</td>\n",
       "      <td>2</td>\n",
       "      <td>1</td>\n",
       "      <td>0</td>\n",
       "      <td>44215.86</td>\n",
       "      <td>0</td>\n",
       "      <td>1</td>\n",
       "      <td>0</td>\n",
       "    </tr>\n",
       "  </tbody>\n",
       "</table>\n",
       "<p>1500 rows × 11 columns</p>\n",
       "</div>"
      ],
      "text/plain": [
       "      CreditScore  Age  Tenure    Balance  NumOfProducts  HasCrCard  \\\n",
       "7867          640   46     3.0       0.00              1          1   \n",
       "1402          757   29     8.0  130306.49              1          1   \n",
       "8606          807   42     5.0       0.00              2          1   \n",
       "8885          668   45     4.0  102486.21              2          1   \n",
       "6494          699   28     7.0       0.00              2          1   \n",
       "...           ...  ...     ...        ...            ...        ...   \n",
       "3379          803   45     7.0       0.00              2          1   \n",
       "4617          812   24     5.0       0.00              2          1   \n",
       "8530          808   33     2.0  103516.87              1          1   \n",
       "7223          799   31     9.0  154586.92              1          0   \n",
       "7573          481   37     8.0       0.00              2          1   \n",
       "\n",
       "      IsActiveMember  EstimatedSalary  Geography_Germany  Geography_Spain  \\\n",
       "7867               1        156260.08                  0                1   \n",
       "1402               0         77469.38                  0                0   \n",
       "8606               1         74900.90                  0                1   \n",
       "8885               1        158379.25                  0                1   \n",
       "6494               1         22684.78                  0                0   \n",
       "...              ...              ...                ...              ...   \n",
       "3379               1        128378.04                  0                1   \n",
       "4617               1        156906.15                  0                0   \n",
       "8530               0        113907.80                  0                0   \n",
       "7223               1         88604.89                  1                0   \n",
       "7573               0         44215.86                  0                1   \n",
       "\n",
       "      Gender_Male  \n",
       "7867            0  \n",
       "1402            1  \n",
       "8606            1  \n",
       "8885            1  \n",
       "6494            1  \n",
       "...           ...  \n",
       "3379            0  \n",
       "4617            1  \n",
       "8530            0  \n",
       "7223            1  \n",
       "7573            0  \n",
       "\n",
       "[1500 rows x 11 columns]"
      ]
     },
     "execution_count": 81,
     "metadata": {},
     "output_type": "execute_result"
    }
   ],
   "source": [
    "features_valid"
   ]
  },
  {
   "cell_type": "code",
   "execution_count": 82,
   "id": "7ba607a3",
   "metadata": {
    "scrolled": true
   },
   "outputs": [
    {
     "data": {
      "text/html": [
       "<div>\n",
       "<style scoped>\n",
       "    .dataframe tbody tr th:only-of-type {\n",
       "        vertical-align: middle;\n",
       "    }\n",
       "\n",
       "    .dataframe tbody tr th {\n",
       "        vertical-align: top;\n",
       "    }\n",
       "\n",
       "    .dataframe thead th {\n",
       "        text-align: right;\n",
       "    }\n",
       "</style>\n",
       "<table border=\"1\" class=\"dataframe\">\n",
       "  <thead>\n",
       "    <tr style=\"text-align: right;\">\n",
       "      <th></th>\n",
       "      <th>CreditScore</th>\n",
       "      <th>Age</th>\n",
       "      <th>Tenure</th>\n",
       "      <th>Balance</th>\n",
       "      <th>NumOfProducts</th>\n",
       "      <th>HasCrCard</th>\n",
       "      <th>IsActiveMember</th>\n",
       "      <th>EstimatedSalary</th>\n",
       "      <th>Geography_Germany</th>\n",
       "      <th>Geography_Spain</th>\n",
       "      <th>Gender_Male</th>\n",
       "    </tr>\n",
       "  </thead>\n",
       "  <tbody>\n",
       "    <tr>\n",
       "      <th>5113</th>\n",
       "      <td>754</td>\n",
       "      <td>47</td>\n",
       "      <td>1.0</td>\n",
       "      <td>185513.67</td>\n",
       "      <td>1</td>\n",
       "      <td>1</td>\n",
       "      <td>0</td>\n",
       "      <td>27438.83</td>\n",
       "      <td>0</td>\n",
       "      <td>0</td>\n",
       "      <td>0</td>\n",
       "    </tr>\n",
       "    <tr>\n",
       "      <th>418</th>\n",
       "      <td>643</td>\n",
       "      <td>46</td>\n",
       "      <td>6.0</td>\n",
       "      <td>0.00</td>\n",
       "      <td>2</td>\n",
       "      <td>0</td>\n",
       "      <td>0</td>\n",
       "      <td>106781.59</td>\n",
       "      <td>0</td>\n",
       "      <td>0</td>\n",
       "      <td>0</td>\n",
       "    </tr>\n",
       "    <tr>\n",
       "      <th>2710</th>\n",
       "      <td>634</td>\n",
       "      <td>37</td>\n",
       "      <td>1.0</td>\n",
       "      <td>89696.84</td>\n",
       "      <td>2</td>\n",
       "      <td>1</td>\n",
       "      <td>1</td>\n",
       "      <td>193179.88</td>\n",
       "      <td>1</td>\n",
       "      <td>0</td>\n",
       "      <td>1</td>\n",
       "    </tr>\n",
       "    <tr>\n",
       "      <th>5000</th>\n",
       "      <td>834</td>\n",
       "      <td>68</td>\n",
       "      <td>9.0</td>\n",
       "      <td>130169.27</td>\n",
       "      <td>2</td>\n",
       "      <td>0</td>\n",
       "      <td>1</td>\n",
       "      <td>93112.20</td>\n",
       "      <td>1</td>\n",
       "      <td>0</td>\n",
       "      <td>0</td>\n",
       "    </tr>\n",
       "    <tr>\n",
       "      <th>3760</th>\n",
       "      <td>835</td>\n",
       "      <td>38</td>\n",
       "      <td>7.0</td>\n",
       "      <td>86824.09</td>\n",
       "      <td>1</td>\n",
       "      <td>0</td>\n",
       "      <td>0</td>\n",
       "      <td>175905.97</td>\n",
       "      <td>0</td>\n",
       "      <td>1</td>\n",
       "      <td>1</td>\n",
       "    </tr>\n",
       "    <tr>\n",
       "      <th>...</th>\n",
       "      <td>...</td>\n",
       "      <td>...</td>\n",
       "      <td>...</td>\n",
       "      <td>...</td>\n",
       "      <td>...</td>\n",
       "      <td>...</td>\n",
       "      <td>...</td>\n",
       "      <td>...</td>\n",
       "      <td>...</td>\n",
       "      <td>...</td>\n",
       "      <td>...</td>\n",
       "    </tr>\n",
       "    <tr>\n",
       "      <th>1173</th>\n",
       "      <td>478</td>\n",
       "      <td>36</td>\n",
       "      <td>5.0</td>\n",
       "      <td>92363.30</td>\n",
       "      <td>2</td>\n",
       "      <td>1</td>\n",
       "      <td>0</td>\n",
       "      <td>44912.70</td>\n",
       "      <td>0</td>\n",
       "      <td>1</td>\n",
       "      <td>0</td>\n",
       "    </tr>\n",
       "    <tr>\n",
       "      <th>6138</th>\n",
       "      <td>477</td>\n",
       "      <td>47</td>\n",
       "      <td>9.0</td>\n",
       "      <td>144900.58</td>\n",
       "      <td>1</td>\n",
       "      <td>1</td>\n",
       "      <td>0</td>\n",
       "      <td>61315.37</td>\n",
       "      <td>0</td>\n",
       "      <td>0</td>\n",
       "      <td>1</td>\n",
       "    </tr>\n",
       "    <tr>\n",
       "      <th>5978</th>\n",
       "      <td>586</td>\n",
       "      <td>41</td>\n",
       "      <td>3.0</td>\n",
       "      <td>63873.56</td>\n",
       "      <td>1</td>\n",
       "      <td>1</td>\n",
       "      <td>0</td>\n",
       "      <td>83753.64</td>\n",
       "      <td>0</td>\n",
       "      <td>1</td>\n",
       "      <td>1</td>\n",
       "    </tr>\n",
       "    <tr>\n",
       "      <th>8722</th>\n",
       "      <td>621</td>\n",
       "      <td>35</td>\n",
       "      <td>7.0</td>\n",
       "      <td>87619.29</td>\n",
       "      <td>1</td>\n",
       "      <td>1</td>\n",
       "      <td>0</td>\n",
       "      <td>143.34</td>\n",
       "      <td>0</td>\n",
       "      <td>0</td>\n",
       "      <td>1</td>\n",
       "    </tr>\n",
       "    <tr>\n",
       "      <th>6782</th>\n",
       "      <td>585</td>\n",
       "      <td>55</td>\n",
       "      <td>10.0</td>\n",
       "      <td>106415.57</td>\n",
       "      <td>3</td>\n",
       "      <td>1</td>\n",
       "      <td>1</td>\n",
       "      <td>122960.98</td>\n",
       "      <td>0</td>\n",
       "      <td>0</td>\n",
       "      <td>1</td>\n",
       "    </tr>\n",
       "  </tbody>\n",
       "</table>\n",
       "<p>1700 rows × 11 columns</p>\n",
       "</div>"
      ],
      "text/plain": [
       "      CreditScore  Age  Tenure    Balance  NumOfProducts  HasCrCard  \\\n",
       "5113          754   47     1.0  185513.67              1          1   \n",
       "418           643   46     6.0       0.00              2          0   \n",
       "2710          634   37     1.0   89696.84              2          1   \n",
       "5000          834   68     9.0  130169.27              2          0   \n",
       "3760          835   38     7.0   86824.09              1          0   \n",
       "...           ...  ...     ...        ...            ...        ...   \n",
       "1173          478   36     5.0   92363.30              2          1   \n",
       "6138          477   47     9.0  144900.58              1          1   \n",
       "5978          586   41     3.0   63873.56              1          1   \n",
       "8722          621   35     7.0   87619.29              1          1   \n",
       "6782          585   55    10.0  106415.57              3          1   \n",
       "\n",
       "      IsActiveMember  EstimatedSalary  Geography_Germany  Geography_Spain  \\\n",
       "5113               0         27438.83                  0                0   \n",
       "418                0        106781.59                  0                0   \n",
       "2710               1        193179.88                  1                0   \n",
       "5000               1         93112.20                  1                0   \n",
       "3760               0        175905.97                  0                1   \n",
       "...              ...              ...                ...              ...   \n",
       "1173               0         44912.70                  0                1   \n",
       "6138               0         61315.37                  0                0   \n",
       "5978               0         83753.64                  0                1   \n",
       "8722               0           143.34                  0                0   \n",
       "6782               1        122960.98                  0                0   \n",
       "\n",
       "      Gender_Male  \n",
       "5113            0  \n",
       "418             0  \n",
       "2710            1  \n",
       "5000            0  \n",
       "3760            1  \n",
       "...           ...  \n",
       "1173            0  \n",
       "6138            1  \n",
       "5978            1  \n",
       "8722            1  \n",
       "6782            1  \n",
       "\n",
       "[1700 rows x 11 columns]"
      ]
     },
     "execution_count": 82,
     "metadata": {},
     "output_type": "execute_result"
    }
   ],
   "source": [
    "features_test"
   ]
  },
  {
   "cell_type": "markdown",
   "id": "dc7de4ec",
   "metadata": {},
   "source": [
    "### Применим модель Дерева решений."
   ]
  },
  {
   "cell_type": "code",
   "execution_count": 83,
   "id": "c5ee4447",
   "metadata": {
    "scrolled": true
   },
   "outputs": [
    {
     "name": "stdout",
     "output_type": "stream",
     "text": [
      "F1 наилучшей модели Случайного леса на валидационной выборке: 0.5836575875486381 : best_depth = 5\n"
     ]
    }
   ],
   "source": [
    "best_model = None\n",
    "best_result = 0\n",
    "best_depth = 0\n",
    "for depth in range(1, 100):\n",
    "    model = DecisionTreeClassifier(random_state=12345, max_depth=depth)\n",
    "    model.fit(features_train, target_train)\n",
    "    predictions_valid = model.predict(features_valid)\n",
    "    result = f1_score(target_valid, predictions_valid)\n",
    "    if result > best_result:\n",
    "        best_model = model\n",
    "        best_result = result\n",
    "        best_depth = depth\n",
    "print(\"F1 наилучшей модели Случайного леса на валидационной выборке:\", best_result, ': ', end='')\n",
    "print('best_depth =', best_depth)"
   ]
  },
  {
   "cell_type": "markdown",
   "id": "b94bf894",
   "metadata": {},
   "source": [
    "### Применим модель Случайный лес"
   ]
  },
  {
   "cell_type": "code",
   "execution_count": 84,
   "id": "0aade3c3",
   "metadata": {},
   "outputs": [
    {
     "name": "stdout",
     "output_type": "stream",
     "text": [
      "F1 наилучшей модели Случайного леса на валидационной выборке: 0.588469184890656 est= 55\n"
     ]
    }
   ],
   "source": [
    "best_model1 = None\n",
    "best_result = 0\n",
    "best_est = 0\n",
    "for est in range(1, 100):\n",
    "    model1 = RandomForestClassifier(random_state=12345, n_estimators=est) \n",
    "    model1.fit(features_train, target_train)\n",
    "    predictions_valid = model1.predict(features_valid)\n",
    "    result = f1_score(target_valid, predictions_valid) \n",
    "    if result > best_result:\n",
    "        best_model1 = model1\n",
    "        best_result = result\n",
    "        best_est = est\n",
    "\n",
    "print(\"F1 наилучшей модели Случайного леса на валидационной выборке:\", best_result, 'est=', best_est)\n"
   ]
  },
  {
   "cell_type": "markdown",
   "id": "693d9336",
   "metadata": {},
   "source": [
    "### Применим модель Логистическая регрессия"
   ]
  },
  {
   "cell_type": "code",
   "execution_count": 85,
   "id": "c832a976",
   "metadata": {
    "scrolled": true
   },
   "outputs": [
    {
     "name": "stdout",
     "output_type": "stream",
     "text": [
      "F1 модели Логистической регрессии на валидационной выборке: 0.5661914460285132\n"
     ]
    }
   ],
   "source": [
    "model = LogisticRegression(random_state=12345, solver='liblinear') \n",
    "model.fit(features_train, target_train)\n",
    "predfictions_valid = model.predict(features_valid)\n",
    "result = f1_score(target_valid, predictions_valid) \n",
    "\n",
    "print(\"F1 модели Логистической регрессии на валидационной выборке:\", result)"
   ]
  },
  {
   "cell_type": "markdown",
   "id": "8d855a5b",
   "metadata": {},
   "source": [
    "### Проверим лучшую модель на тестовой выборке"
   ]
  },
  {
   "cell_type": "code",
   "execution_count": 86,
   "id": "37a98012",
   "metadata": {},
   "outputs": [
    {
     "data": {
      "text/plain": [
       "0.6068965517241378"
      ]
     },
     "execution_count": 86,
     "metadata": {},
     "output_type": "execute_result"
    }
   ],
   "source": [
    "modelt = RandomForestClassifier(random_state=12345, n_estimators=55) \n",
    "modelt.fit(features_train, target_train)\n",
    "predictions_test = modelt.predict(features_test)\n",
    "resultt = f1_score(target_test, predictions_test)\n",
    "resultt"
   ]
  },
  {
   "cell_type": "markdown",
   "id": "03dcb432",
   "metadata": {},
   "source": [
    "### Проверим лучшую модель на адекватность рассчитав площадь под ROC кривой"
   ]
  },
  {
   "cell_type": "code",
   "execution_count": 87,
   "id": "08f49e1a",
   "metadata": {},
   "outputs": [
    {
     "data": {
      "text/plain": [
       "0.8546564299216559"
      ]
     },
     "execution_count": 87,
     "metadata": {},
     "output_type": "execute_result"
    }
   ],
   "source": [
    "probabilities_valid = modelt.predict_proba(features_valid)\n",
    "probabilities_one_valid = probabilities_valid[:, 1]\n",
    "\n",
    "auc_roc = roc_auc_score(target_valid, probabilities_one_valid)\n",
    "auc_roc"
   ]
  },
  {
   "cell_type": "markdown",
   "id": "78494542",
   "metadata": {},
   "source": [
    "### Проверим баланс данных"
   ]
  },
  {
   "cell_type": "code",
   "execution_count": 88,
   "id": "ef8b28e4",
   "metadata": {},
   "outputs": [
    {
     "data": {
      "text/plain": [
       "2037"
      ]
     },
     "execution_count": 88,
     "metadata": {},
     "output_type": "execute_result"
    }
   ],
   "source": [
    "(target == 1).sum()"
   ]
  },
  {
   "cell_type": "markdown",
   "id": "bed15d12",
   "metadata": {},
   "source": [
    "**20% положительных маркеров, данные не сбалансированы**"
   ]
  },
  {
   "cell_type": "markdown",
   "id": "49168b97",
   "metadata": {},
   "source": [
    "### Вывод \n",
    "**Лучшая F1 метрика на сырых валидационных данных у модели RandomForestClassifier = 0.59 при est = 55, auc_roc = 0.85. На тестовых данных F1 = 0.61, имеем дисбаланс данных**"
   ]
  },
  {
   "cell_type": "markdown",
   "id": "f71569e7",
   "metadata": {},
   "source": [
    "## Моделирование на сбалансированных данных\n",
    "**используя различные методы улучшу результаты метрик.**"
   ]
  },
  {
   "cell_type": "markdown",
   "id": "11d6e60c",
   "metadata": {},
   "source": [
    "### Используем изменение порога"
   ]
  },
  {
   "cell_type": "code",
   "execution_count": 108,
   "id": "82217593",
   "metadata": {},
   "outputs": [
    {
     "name": "stdout",
     "output_type": "stream",
     "text": [
      "Порог = 0.30 | F1 = 0.590\n",
      "Порог = 0.32 | F1 = 0.600\n",
      "Порог = 0.34 | F1 = 0.596\n",
      "Порог = 0.36 | F1 = 0.603\n",
      "Порог = 0.38 | F1 = 0.604\n",
      "Порог = 0.40 | F1 = 0.609\n",
      "Порог = 0.42 | F1 = 0.605\n",
      "Порог = 0.44 | F1 = 0.611\n",
      "Порог = 0.46 | F1 = 0.616\n",
      "Порог = 0.48 | F1 = 0.613\n",
      "Порог = 0.50 | F1 = 0.601\n",
      "Порог = 0.52 | F1 = 0.595\n",
      "Порог = 0.54 | F1 = 0.583\n",
      "Порог = 0.56 | F1 = 0.575\n",
      "Порог = 0.58 | F1 = 0.555\n",
      "Порог = 0.60 | F1 = 0.559\n",
      "Порог = 0.62 | F1 = 0.540\n",
      "Порог = 0.64 | F1 = 0.522\n",
      "Порог = 0.66 | F1 = 0.511\n",
      "Порог = 0.68 | F1 = 0.498\n",
      "Порог = 0.70 | F1 = 0.475\n",
      "Порог = 0.72 | F1 = 0.455\n",
      "Порог = 0.74 | F1 = 0.442\n",
      "Порог = 0.76 | F1 = 0.438\n",
      "Порог = 0.78 | F1 = 0.404\n",
      "Порог = 0.80 | F1 = 0.388\n",
      "Порог = 0.82 | F1 = 0.363\n",
      "Порог = 0.84 | F1 = 0.335\n",
      "Порог = 0.86 | F1 = 0.323\n",
      "Порог = 0.88 | F1 = 0.273\n",
      "Порог = 0.90 | F1 = 0.205\n"
     ]
    }
   ],
   "source": [
    "models = RandomForestClassifier(random_state=12345, n_estimators=55) \n",
    "models.fit(features_train, target_train)\n",
    "probabilities_valid = model.predict_proba(features_valid)\n",
    "probabilities_one_valid = probabilities_valid[:, 1]\n",
    "\n",
    "for threshold in np.arange(0.3, 0.9, 0.02):\n",
    "    predictions_valid = probabilities_one_valid > threshold \n",
    "    results = f1_score(target_valid, predictions_valid) \n",
    "\n",
    "    print(\"Порог = {:.2f} | F1 = {:.3f}\".format(\n",
    "        threshold, results))"
   ]
  },
  {
   "cell_type": "markdown",
   "id": "a1fdf2d0",
   "metadata": {},
   "source": [
    "**Лучший результат F1=0.611 при пороге 0.40 на валидационной выборке**"
   ]
  },
  {
   "cell_type": "code",
   "execution_count": 90,
   "id": "c8fb227c",
   "metadata": {},
   "outputs": [
    {
     "name": "stdout",
     "output_type": "stream",
     "text": [
      "F1 наилучшей модели Случайного леса на тестовой выборке: 0.647239263803681 est 0\n"
     ]
    }
   ],
   "source": [
    "best_model = None\n",
    "best_result = 0\n",
    "best_est = 0\n",
    "for est in range(1, 100):\n",
    "    model = RandomForestClassifier(random_state=12345, n_estimators=est) \n",
    "    model.fit(features_train, target_train)\n",
    "    threshold = 0.40\n",
    "    predicted_proba = model.predict_proba(features_test)\n",
    "    predicted = (predicted_proba [:,1] > threshold).astype('int')\n",
    "    result = f1_score(target_test, predicted)\n",
    "    if result > best_result:\n",
    "        best_model = model\n",
    "        best_result = result\n",
    "        best_ext = est\n",
    "print(\"F1 наилучшей модели Случайного леса на тестовой выборке:\", best_result, 'est', best_est)"
   ]
  },
  {
   "cell_type": "markdown",
   "id": "16048032",
   "metadata": {},
   "source": [
    "### Вывод\n",
    "**На тестовой выборке при пороге 0,40, F1 - 0,64 имеем улучшение к F1 - 0,60 на несбалансированных данных**"
   ]
  },
  {
   "cell_type": "markdown",
   "id": "b508e367",
   "metadata": {},
   "source": [
    "## Используем метод масштабирования SMOTE для устранения дисбаланса."
   ]
  },
  {
   "cell_type": "code",
   "execution_count": 91,
   "id": "c869fb3a",
   "metadata": {},
   "outputs": [
    {
     "data": {
      "text/plain": [
       "5431"
      ]
     },
     "execution_count": 91,
     "metadata": {},
     "output_type": "execute_result"
    }
   ],
   "source": [
    "features_resampled, target_resampled = BorderlineSMOTE().fit_resample(features_train, target_train)\n",
    "(target_resampled == 1).sum()"
   ]
  },
  {
   "cell_type": "code",
   "execution_count": 92,
   "id": "c9bcd854",
   "metadata": {},
   "outputs": [
    {
     "data": {
      "text/plain": [
       "0.6068965517241378"
      ]
     },
     "execution_count": 92,
     "metadata": {},
     "output_type": "execute_result"
    }
   ],
   "source": [
    "model = RandomForestClassifier(random_state=12345, n_estimators=55) \n",
    "model.fit(features_resampled, target_resampled)\n",
    "predictions_test = modelt.predict(features_test)\n",
    "resultt = f1_score(target_test, predictions_test)\n",
    "resultt"
   ]
  },
  {
   "cell_type": "code",
   "execution_count": 93,
   "id": "593a00fd",
   "metadata": {},
   "outputs": [
    {
     "name": "stdout",
     "output_type": "stream",
     "text": [
      "Порог = 0.30 | F1 = 0.553\n",
      "Порог = 0.32 | F1 = 0.558\n",
      "Порог = 0.34 | F1 = 0.560\n",
      "Порог = 0.36 | F1 = 0.567\n",
      "Порог = 0.38 | F1 = 0.567\n",
      "Порог = 0.40 | F1 = 0.576\n",
      "Порог = 0.42 | F1 = 0.568\n",
      "Порог = 0.44 | F1 = 0.558\n",
      "Порог = 0.46 | F1 = 0.558\n",
      "Порог = 0.48 | F1 = 0.563\n",
      "Порог = 0.50 | F1 = 0.560\n",
      "Порог = 0.52 | F1 = 0.550\n",
      "Порог = 0.54 | F1 = 0.549\n",
      "Порог = 0.56 | F1 = 0.555\n",
      "Порог = 0.58 | F1 = 0.552\n",
      "Порог = 0.60 | F1 = 0.539\n",
      "Порог = 0.62 | F1 = 0.541\n",
      "Порог = 0.64 | F1 = 0.528\n",
      "Порог = 0.66 | F1 = 0.518\n",
      "Порог = 0.68 | F1 = 0.511\n",
      "Порог = 0.70 | F1 = 0.514\n",
      "Порог = 0.72 | F1 = 0.504\n",
      "Порог = 0.74 | F1 = 0.468\n",
      "Порог = 0.76 | F1 = 0.452\n",
      "Порог = 0.78 | F1 = 0.427\n"
     ]
    }
   ],
   "source": [
    "models = RandomForestClassifier(random_state=12345, n_estimators=55) \n",
    "models.fit(features_resampled, target_resampled)\n",
    "probabilities_valid = model.predict_proba(features_valid)\n",
    "probabilities_one_valid = probabilities_valid[:, 1]\n",
    "for threshold in np.arange(0.3, 0.8, 0.02):\n",
    "    predictions_valid = probabilities_one_valid > threshold \n",
    "    results = f1_score(target_valid, predictions_valid) \n",
    "\n",
    "    print(\"Порог = {:.2f} | F1 = {:.3f}\".format(\n",
    "        threshold, results))"
   ]
  },
  {
   "cell_type": "markdown",
   "id": "cb601453",
   "metadata": {},
   "source": [
    "**Порог 0.40 и F1 0.575 текущие показатели, совместим перебалансированные данные на тестовой выборке.**"
   ]
  },
  {
   "cell_type": "code",
   "execution_count": 94,
   "id": "055f0511",
   "metadata": {},
   "outputs": [
    {
     "name": "stdout",
     "output_type": "stream",
     "text": [
      "F1 наилучшей модели Случайного леса на тестовой выборке: 0.6083916083916084 est 0\n"
     ]
    }
   ],
   "source": [
    "best_model = None\n",
    "best_result = 0\n",
    "best_est = 0\n",
    "for est in range(1, 100):\n",
    "    model = RandomForestClassifier(random_state=12345, n_estimators=est) \n",
    "    model.fit(features_resampled, target_resampled)\n",
    "    threshold = 0.40\n",
    "    predicted_proba = model.predict_proba(features_test)\n",
    "    predicted = (predicted_proba [:,1] >= threshold).astype('int')\n",
    "    result = f1_score(target_test, predicted)\n",
    "    if result > best_result:\n",
    "        best_model = model\n",
    "        best_result = result\n",
    "        best_ext = est\n",
    "print(\"F1 наилучшей модели Случайного леса на тестовой выборке:\", best_result, 'est', best_est)"
   ]
  },
  {
   "cell_type": "markdown",
   "id": "dccd5f7a",
   "metadata": {},
   "source": [
    "### Вывод\n",
    "**Результат хуже несбалансированной выборки**"
   ]
  },
  {
   "cell_type": "markdown",
   "id": "65a025ec",
   "metadata": {},
   "source": [
    "## Используем масштабирование StandardScaler"
   ]
  },
  {
   "cell_type": "code",
   "execution_count": 95,
   "id": "5f61e3ad",
   "metadata": {
    "scrolled": true
   },
   "outputs": [
    {
     "data": {
      "text/plain": [
       "array([[ 0.45649285,  0.10460407,  0.72830418, ...,  1.72866127,\n",
       "        -0.57916157,  0.92459867],\n",
       "       [-0.14596455, -1.12849362,  0.00378243, ..., -0.57848233,\n",
       "        -0.57916157,  0.92459867],\n",
       "       [ 0.35262088, -0.46451794,  0.3660433 , ..., -0.57848233,\n",
       "         1.7266339 ,  0.92459867],\n",
       "       ...,\n",
       "       [ 0.19681293,  0.38916507,  1.45282592, ...,  1.72866127,\n",
       "        -0.57916157,  0.92459867],\n",
       "       [-0.34332129, -0.46451794,  0.00378243, ..., -0.57848233,\n",
       "        -0.57916157,  0.92459867],\n",
       "       [-0.43680605,  3.04506778,  0.3660433 , ...,  1.72866127,\n",
       "        -0.57916157, -1.08155033]])"
      ]
     },
     "execution_count": 95,
     "metadata": {},
     "output_type": "execute_result"
    }
   ],
   "source": [
    "pd.options.mode.chained_assignment = None\n",
    "scaler = StandardScaler()\n",
    "scaler.fit(features_train)\n",
    "features_train_scaled = scaler.transform(features_train)\n",
    "features_valid_scaled = scaler.transform(features_valid)\n",
    "features_test_scaled = scaler.transform(features_test)\n",
    "features_train_scaled\n"
   ]
  },
  {
   "cell_type": "markdown",
   "id": "c11eaaed",
   "metadata": {},
   "source": [
    "**Дерево решений**"
   ]
  },
  {
   "cell_type": "code",
   "execution_count": 96,
   "id": "5387a240",
   "metadata": {},
   "outputs": [
    {
     "name": "stdout",
     "output_type": "stream",
     "text": [
      "F1 наилучшей модели Случайного леса на валидационной выборке: 0.5836575875486381 : best_depth = 5\n"
     ]
    }
   ],
   "source": [
    "best_model = None\n",
    "best_result = 0\n",
    "best_depth = 0\n",
    "for depth in range(1, 100):\n",
    "    model = DecisionTreeClassifier(random_state=12345, max_depth=depth)\n",
    "    model.fit(features_train_scaled, target_train)\n",
    "    predictions_valid = model.predict(features_valid_scaled)\n",
    "    result = f1_score(target_valid, predictions_valid)\n",
    "    if result > best_result:\n",
    "        best_model = model\n",
    "        best_result = result\n",
    "        best_depth = depth\n",
    "print(\"F1 наилучшей модели Случайного леса на валидационной выборке:\", best_result, ': ', end='')\n",
    "print('best_depth =', best_depth)"
   ]
  },
  {
   "cell_type": "markdown",
   "id": "09022b86",
   "metadata": {},
   "source": [
    "**Случайный лес**"
   ]
  },
  {
   "cell_type": "code",
   "execution_count": 97,
   "id": "8f92a184",
   "metadata": {},
   "outputs": [
    {
     "name": "stdout",
     "output_type": "stream",
     "text": [
      "F1 наилучшей модели Случайного леса на валидационной масштабированной выборке: 0.5836575875486381 est= 55\n"
     ]
    }
   ],
   "source": [
    "best_models = None\n",
    "best_results = 0\n",
    "best_ests = 0\n",
    "best_depth = 0\n",
    "for est in range(1, 100):\n",
    "    models = RandomForestClassifier(random_state=12345, n_estimators=est) \n",
    "    models.fit(features_train_scaled, target_train)\n",
    "    predictions_valid = models.predict(features_valid_scaled)\n",
    "    results = f1_score(target_valid, predictions_valid) \n",
    "    if results > best_results:\n",
    "        best_models = models\n",
    "        best_results = results\n",
    "        best_est = est\n",
    "        best_depth = depth\n",
    "\n",
    "print(\"F1 наилучшей модели Случайного леса на валидационной масштабированной выборке:\",\n",
    "      best_result, 'est=', best_est)"
   ]
  },
  {
   "cell_type": "code",
   "execution_count": 98,
   "id": "f776c1f9",
   "metadata": {},
   "outputs": [
    {
     "data": {
      "text/plain": [
       "0.6020761245674741"
      ]
     },
     "execution_count": 98,
     "metadata": {},
     "output_type": "execute_result"
    }
   ],
   "source": [
    "models = RandomForestClassifier(random_state=12345, n_estimators=55) \n",
    "models.fit(features_train_scaled, target_train)\n",
    "predictions_valid = models.predict(features_test_scaled)\n",
    "results = f1_score(target_test, predictions_valid)\n",
    "results"
   ]
  },
  {
   "cell_type": "markdown",
   "id": "feca7ffa",
   "metadata": {},
   "source": [
    "**Логистическая регрессия**"
   ]
  },
  {
   "cell_type": "code",
   "execution_count": 99,
   "id": "796af098",
   "metadata": {},
   "outputs": [
    {
     "name": "stdout",
     "output_type": "stream",
     "text": [
      "F1 модели Логистической регрессии на валидационной выборке: 0.30361445783132535\n"
     ]
    }
   ],
   "source": [
    "model = LogisticRegression(random_state=12345, solver='liblinear') \n",
    "model.fit(features_train_scaled, target_train)\n",
    "predictions_valid = model.predict(features_valid_scaled)\n",
    "result = f1_score(target_valid, predictions_valid) \n",
    "\n",
    "print(\"F1 модели Логистической регрессии на валидационной выборке:\", result)"
   ]
  },
  {
   "cell_type": "markdown",
   "id": "e1a1dd96",
   "metadata": {},
   "source": [
    "### Вывод\n",
    "**Масштабирование методом StandardScaler к улучшению не привело. А логистическая регрессия показала ухудшение метрики.**"
   ]
  },
  {
   "cell_type": "markdown",
   "id": "6457e04e",
   "metadata": {},
   "source": [
    "## Применим методы upsampling  и downsampling"
   ]
  },
  {
   "cell_type": "markdown",
   "id": "50537574",
   "metadata": {},
   "source": [
    "**upsampling**"
   ]
  },
  {
   "cell_type": "code",
   "execution_count": 100,
   "id": "25b0637b",
   "metadata": {},
   "outputs": [
    {
     "name": "stdout",
     "output_type": "stream",
     "text": [
      "F1: 0.6017699115044248\n"
     ]
    }
   ],
   "source": [
    "def upsample(features, target, repeat):\n",
    "    features_zeros = features[target == 0]\n",
    "    features_ones = features[target == 1]\n",
    "    target_zeros = target[target == 0]\n",
    "    target_ones = target[target == 1]\n",
    "\n",
    "    features_upsampled = pd.concat([features_zeros] + [features_ones] * repeat)\n",
    "    target_upsampled = pd.concat([target_zeros] + [target_ones] * repeat)\n",
    "    \n",
    "    features_upsampled, target_upsampled = shuffle(\n",
    "        features_upsampled, target_upsampled, random_state=12345)\n",
    "    \n",
    "    return features_upsampled, target_upsampled\n",
    "\n",
    "features_upsampled, target_upsampled = upsample(features_train, target_train, 10)\n",
    " \n",
    "model = RandomForestClassifier(random_state=12345, n_estimators=55) \n",
    "model.fit(features_upsampled, target_upsampled)\n",
    "predicted_valid = model.predict(features_valid)\n",
    "\n",
    "print(\"F1:\", f1_score(target_valid, predicted_valid))"
   ]
  },
  {
   "cell_type": "code",
   "execution_count": 111,
   "id": "b1271626",
   "metadata": {},
   "outputs": [
    {
     "data": {
      "text/plain": [
       "0.6277602523659306"
      ]
     },
     "execution_count": 111,
     "metadata": {},
     "output_type": "execute_result"
    }
   ],
   "source": [
    "modelt = RandomForestClassifier(random_state=12345, n_estimators=55) \n",
    "modelt.fit(features_upsampled, target_upsampled)\n",
    "predictions_test = modelt.predict(features_test)\n",
    "resultt = f1_score(target_test, predictions_test)\n",
    "resultt"
   ]
  },
  {
   "cell_type": "markdown",
   "id": "1701e18d",
   "metadata": {},
   "source": [
    "**Совместим upsampling и изменение порога**"
   ]
  },
  {
   "cell_type": "code",
   "execution_count": 112,
   "id": "ffde58b6",
   "metadata": {},
   "outputs": [
    {
     "name": "stdout",
     "output_type": "stream",
     "text": [
      "Порог = 0.30 | F1 = 0.592\n",
      "Порог = 0.32 | F1 = 0.591\n",
      "Порог = 0.34 | F1 = 0.606\n",
      "Порог = 0.36 | F1 = 0.601\n",
      "Порог = 0.38 | F1 = 0.611\n",
      "Порог = 0.40 | F1 = 0.616\n",
      "Порог = 0.42 | F1 = 0.616\n",
      "Порог = 0.44 | F1 = 0.611\n",
      "Порог = 0.46 | F1 = 0.607\n",
      "Порог = 0.48 | F1 = 0.598\n",
      "Порог = 0.50 | F1 = 0.602\n",
      "Порог = 0.52 | F1 = 0.602\n",
      "Порог = 0.54 | F1 = 0.602\n",
      "Порог = 0.56 | F1 = 0.592\n",
      "Порог = 0.58 | F1 = 0.580\n",
      "Порог = 0.60 | F1 = 0.551\n",
      "Порог = 0.62 | F1 = 0.537\n",
      "Порог = 0.64 | F1 = 0.522\n",
      "Порог = 0.66 | F1 = 0.511\n",
      "Порог = 0.68 | F1 = 0.505\n",
      "Порог = 0.70 | F1 = 0.497\n",
      "Порог = 0.72 | F1 = 0.477\n",
      "Порог = 0.74 | F1 = 0.465\n",
      "Порог = 0.76 | F1 = 0.457\n",
      "Порог = 0.78 | F1 = 0.447\n"
     ]
    }
   ],
   "source": [
    "modelt = RandomForestClassifier(random_state=12345, n_estimators=55) \n",
    "modelt.fit(features_upsampled, target_upsampled)\n",
    "probabilities_valid = modelt.predict_proba(features_valid)\n",
    "probabilities_one_valid = probabilities_valid[:, 1]\n",
    "for threshold in np.arange(0.3, 0.8, 0.02):\n",
    "    predictions_valid = probabilities_one_valid > threshold \n",
    "    results = f1_score(target_valid, predictions_valid) \n",
    "\n",
    "    print(\"Порог = {:.2f} | F1 = {:.3f}\".format(\n",
    "        threshold, results))"
   ]
  },
  {
   "cell_type": "code",
   "execution_count": 113,
   "id": "6383e86c",
   "metadata": {},
   "outputs": [
    {
     "name": "stdout",
     "output_type": "stream",
     "text": [
      "F1 наилучшей модели Случайного леса на тестовой выборке: 0.6488651535380507 est 0\n"
     ]
    }
   ],
   "source": [
    "best_model = None\n",
    "best_result = 0\n",
    "best_est = 0\n",
    "for est in range(1, 100):\n",
    "    modelt = RandomForestClassifier(random_state=12345, n_estimators=est) \n",
    "    modelt.fit(features_upsampled, target_upsampled)\n",
    "    threshold = 0.40\n",
    "    predicted_proba = modelt.predict_proba(features_test)\n",
    "    predicted = (predicted_proba [:,1] > threshold).astype('int')\n",
    "    result = f1_score(target_test, predicted)\n",
    "    if result > best_result:\n",
    "        best_model = model\n",
    "        best_result = result\n",
    "        best_ext = est\n",
    "print(\"F1 наилучшей модели Случайного леса на тестовой выборке:\", best_result, 'est', best_est)"
   ]
  },
  {
   "cell_type": "markdown",
   "id": "99d190d9",
   "metadata": {},
   "source": [
    "### Вывод\n",
    "**Получил улучшение F1 к несбалансированной выборке, на тестовой выборке до 0.65.**"
   ]
  },
  {
   "cell_type": "markdown",
   "id": "ffa99b21",
   "metadata": {},
   "source": [
    "## Используем сбалансированныёй режим классификатора на тестовой выборке."
   ]
  },
  {
   "cell_type": "code",
   "execution_count": 102,
   "id": "1f2cc15e",
   "metadata": {},
   "outputs": [
    {
     "data": {
      "text/plain": [
       "0.5909090909090908"
      ]
     },
     "execution_count": 102,
     "metadata": {},
     "output_type": "execute_result"
    }
   ],
   "source": [
    "modelb = RandomForestClassifier(random_state=12345, n_estimators=55, class_weight='balanced') \n",
    "modelb.fit(features_train, target_train)\n",
    "predictions_test = modelb.predict(features_test)\n",
    "resultb = f1_score(target_test, predictions_test)\n",
    "resultb"
   ]
  },
  {
   "cell_type": "code",
   "execution_count": 103,
   "id": "27379f2c",
   "metadata": {},
   "outputs": [
    {
     "data": {
      "text/plain": [
       "0.8498981824278826"
      ]
     },
     "execution_count": 103,
     "metadata": {},
     "output_type": "execute_result"
    }
   ],
   "source": [
    "probabilities_valid = modelb.predict_proba(features_valid)\n",
    "probabilities_one_valid = probabilities_valid[:, 1]\n",
    "auc_roc = roc_auc_score(target_valid, probabilities_one_valid)\n",
    "auc_roc"
   ]
  },
  {
   "cell_type": "markdown",
   "id": "9d9194f5",
   "metadata": {},
   "source": [
    "### Вывод\n",
    "**Балансировка на адекватность модели не повлияла, auc_roc почти не изменился, сбалансированный режим к улучшению не привёл.**"
   ]
  },
  {
   "cell_type": "markdown",
   "id": "af7bbff4",
   "metadata": {},
   "source": [
    "## Исследуем зависимость признаков для события."
   ]
  },
  {
   "cell_type": "code",
   "execution_count": 114,
   "id": "3470d9d4",
   "metadata": {},
   "outputs": [
    {
     "name": "stdout",
     "output_type": "stream",
     "text": [
      "Feature: 0, Score: 0.14358\n",
      "Feature: 1, Score: 0.23935\n",
      "Feature: 2, Score: 0.08563\n",
      "Feature: 3, Score: 0.14972\n",
      "Feature: 4, Score: 0.11198\n",
      "Feature: 5, Score: 0.02015\n",
      "Feature: 6, Score: 0.03414\n",
      "Feature: 7, Score: 0.15212\n",
      "Feature: 8, Score: 0.02608\n",
      "Feature: 9, Score: 0.01541\n",
      "Feature: 10, Score: 0.02183\n"
     ]
    },
    {
     "data": {
      "image/png": "[encoded data removed]",
      "text/plain": [
       "<Figure size 432x288 with 1 Axes>"
      ]
     },
     "metadata": {
      "needs_background": "light"
     },
     "output_type": "display_data"
    }
   ],
   "source": [
    "importance = modelt.feature_importances_\n",
    "\n",
    "for i,v in enumerate(importance):\n",
    "    print('Feature: %0d, Score: %.5f' % (i,v))\n",
    "\n",
    "plt.bar([x for x in range(len(importance))], importance)\n",
    "plt.show()"
   ]
  },
  {
   "cell_type": "markdown",
   "id": "e87d5cc8",
   "metadata": {},
   "source": [
    "### Вывод\n",
    "**Полученные данные можно использовать для концентрации на наиболее важных параметрах сервиса, для уменьшения оттока клиентов.**"
   ]
  },
  {
   "cell_type": "markdown",
   "id": "1953f6c4",
   "metadata": {},
   "source": [
    "## Вывод\n",
    "**Имея исторические данные по оттоку клиентов, провёл моделирование прогнозной модели по оттоку будущих. Применив методы по работе с класификацией выбрал случайный лес как ниаиболее эффективный. Применил масштабирование, улучшений не дало. Метод dawnsampling показал свою непригодность как и использование сбалансированного режима классификатора. Хорошие результаты показал метод upsamplinga в сочетании с классификатором RandomForestClassifier при показателе est=55 удалось получить на тестовой выборке значение метрики F1 = 0.63, лучший результат дал подбор порога с upsamplingom 0.40 c F1 - 0,65, дополнительно построен график важности признаков для последующего анализа.**"
   ]
  }
 ],
 "metadata": {
  "kernelspec": {
   "display_name": "Python 3 (ipykernel)",
   "language": "python",
   "name": "python3"
  },
  "language_info": {
   "codemirror_mode": {
    "name": "ipython",
    "version": 3
   },
   "file_extension": ".py",
   "mimetype": "text/x-python",
   "name": "python",
   "nbconvert_exporter": "python",
   "pygments_lexer": "ipython3",
   "version": "3.9.7"
  },
  "toc": {
   "base_numbering": 1,
   "nav_menu": {},
   "number_sections": true,
   "sideBar": true,
   "skip_h1_title": true,
   "title_cell": "Содержание",
   "title_sidebar": "Содержание",
   "toc_cell": true,
   "toc_position": {
    "height": "calc(100% - 180px)",
    "left": "10px",
    "top": "150px",
    "width": "287.326px"
   },
   "toc_section_display": true,
   "toc_window_display": true
  }
 },
 "nbformat": 4,
 "nbformat_minor": 5
}
