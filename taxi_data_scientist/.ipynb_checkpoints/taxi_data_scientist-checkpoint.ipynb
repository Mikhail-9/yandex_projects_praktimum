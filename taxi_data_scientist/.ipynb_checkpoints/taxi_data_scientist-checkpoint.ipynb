{
 "cells": [
  {
   "cell_type": "markdown",
   "metadata": {
    "toc": true
   },
   "source": [
    "<h1>Содержание<span class=\"tocSkip\"></span></h1>\n",
    "<div class=\"toc\"><ul class=\"toc-item\"><li><span><a href=\"#Подготовка\" data-toc-modified-id=\"Подготовка-1\"><span class=\"toc-item-num\">1&nbsp;&nbsp;</span>Подготовка</a></span></li><li><span><a href=\"#Анализ\" data-toc-modified-id=\"Анализ-2\"><span class=\"toc-item-num\">2&nbsp;&nbsp;</span>Анализ</a></span><ul class=\"toc-item\"><li><span><a href=\"#Вывод\" data-toc-modified-id=\"Вывод-2.1\"><span class=\"toc-item-num\">2.1&nbsp;&nbsp;</span>Вывод</a></span></li></ul></li><li><span><a href=\"#Обучение\" data-toc-modified-id=\"Обучение-3\"><span class=\"toc-item-num\">3&nbsp;&nbsp;</span>Обучение</a></span><ul class=\"toc-item\"><li><span><a href=\"#Линейная-регрессия\" data-toc-modified-id=\"Линейная-регрессия-3.1\"><span class=\"toc-item-num\">3.1&nbsp;&nbsp;</span>Линейная регрессия</a></span></li><li><span><a href=\"#CatBoost\" data-toc-modified-id=\"CatBoost-3.2\"><span class=\"toc-item-num\">3.2&nbsp;&nbsp;</span>CatBoost</a></span></li><li><span><a href=\"#LightGBM\" data-toc-modified-id=\"LightGBM-3.3\"><span class=\"toc-item-num\">3.3&nbsp;&nbsp;</span>LightGBM</a></span></li></ul></li><li><span><a href=\"#Тестирование\" data-toc-modified-id=\"Тестирование-4\"><span class=\"toc-item-num\">4&nbsp;&nbsp;</span>Тестирование</a></span><ul class=\"toc-item\"><li><span><a href=\"#Линейная-регрессия\" data-toc-modified-id=\"Линейная-регрессия-4.1\"><span class=\"toc-item-num\">4.1&nbsp;&nbsp;</span>Линейная регрессия</a></span></li><li><span><a href=\"#Catboost\" data-toc-modified-id=\"Catboost-4.2\"><span class=\"toc-item-num\">4.2&nbsp;&nbsp;</span>Catboost</a></span></li><li><span><a href=\"#LightGBM\" data-toc-modified-id=\"LightGBM-4.3\"><span class=\"toc-item-num\">4.3&nbsp;&nbsp;</span>LightGBM</a></span></li><li><span><a href=\"#Вывод-лучшее-предсказание-даёт-модель-LightBGM\" data-toc-modified-id=\"Вывод-лучшее-предсказание-даёт-модель-LightBGM-4.4\"><span class=\"toc-item-num\">4.4&nbsp;&nbsp;</span>Вывод лучшее предсказание даёт модель LightBGM</a></span></li><li><span><a href=\"#Построим-график-сравнения-предсказания-лучшей-модели-и-таргета-на-тесте.\" data-toc-modified-id=\"Построим-график-сравнения-предсказания-лучшей-модели-и-таргета-на-тесте.-4.5\"><span class=\"toc-item-num\">4.5&nbsp;&nbsp;</span>Построим график сравнения предсказания лучшей модели и таргета на тесте.</a></span></li><li><span><a href=\"#Вывод\" data-toc-modified-id=\"Вывод-4.6\"><span class=\"toc-item-num\">4.6&nbsp;&nbsp;</span>Вывод</a></span></li></ul></li></ul></div>"
   ]
  },
  {
   "cell_type": "markdown",
   "metadata": {},
   "source": [
    "#  Прогнозирование заказов такси"
   ]
  },
  {
   "cell_type": "markdown",
   "metadata": {},
   "source": [
    "Компания «Чётенькое такси» собрала исторические данные о заказах такси в аэропортах. Чтобы привлекать больше водителей в период пиковой нагрузки,мне нужно спрогнозировать количество заказов такси на следующий час. Построю модель для такого предсказания.\n",
    "\n",
    "Получим значение метрики *RMSE* на тестовой выборке не больше 48.\n",
    "\n",
    "План работы:\n",
    "\n",
    "1. Загружу данные и выполню их ресемплирование по одному часу.\n",
    "2. Проанализирую данные.\n",
    "3. Обучу разные модели с различными гиперпараметрами. Сделаю тестовую выборку размером 10% от исходных данных.\n",
    "4. Проверю данные на тестовой выборке и сделаю выводы.\n"
   ]
  },
  {
   "cell_type": "markdown",
   "metadata": {},
   "source": [
    "## Подготовка"
   ]
  },
  {
   "cell_type": "code",
   "execution_count": 1,
   "metadata": {},
   "outputs": [],
   "source": [
    "import pandas as pd\n",
    "import numpy as np\n",
    "from sklearn.model_selection import train_test_split\n",
    "from sklearn.metrics import mean_squared_error\n",
    "from sklearn.metrics import r2_score\n",
    "import lightgbm as lgb\n",
    "from sklearn.preprocessing import OrdinalEncoder\n",
    "from catboost import CatBoostRegressor\n",
    "import time\n",
    "from sklearn.model_selection import GridSearchCV\n",
    "from sklearn.preprocessing import OneHotEncoder\n",
    "from sklearn.linear_model import LinearRegression\n",
    "from sklearn.model_selection import cross_val_score\n",
    "from statsmodels.tsa.seasonal import seasonal_decompose\n",
    "import matplotlib.pyplot as plt\n",
    "from sklearn.model_selection import TimeSeriesSplit"
   ]
  },
  {
   "cell_type": "code",
   "execution_count": 2,
   "metadata": {},
   "outputs": [],
   "source": [
    "try:\n",
    "    taxi = pd.read_csv(\n",
    "        '/Users/bogda/anaconda3/projects/praktikum/project10_taxi/taxi.csv'\n",
    "    ,index_col=[0], parse_dates=[0])\n",
    "except FileNotFoundError as e:\n",
    "    print(e)\n",
    "    taxi = pd.read_csv('/datasets/taxi.csv', index_col=[0], parse_dates=[0])"
   ]
  },
  {
   "cell_type": "code",
   "execution_count": 3,
   "metadata": {},
   "outputs": [
    {
     "name": "stdout",
     "output_type": "stream",
     "text": [
      "<class 'pandas.core.frame.DataFrame'>\n",
      "DatetimeIndex: 26496 entries, 2018-03-01 00:00:00 to 2018-08-31 23:50:00\n",
      "Data columns (total 1 columns):\n",
      " #   Column      Non-Null Count  Dtype\n",
      "---  ------      --------------  -----\n",
      " 0   num_orders  26496 non-null  int64\n",
      "dtypes: int64(1)\n",
      "memory usage: 414.0 KB\n"
     ]
    }
   ],
   "source": [
    "taxi.info()"
   ]
  },
  {
   "cell_type": "markdown",
   "metadata": {},
   "source": [
    "**Отсортируем и проведем ресемплирование до необходимой длины интервала в один час**"
   ]
  },
  {
   "cell_type": "code",
   "execution_count": 4,
   "metadata": {},
   "outputs": [],
   "source": [
    "taxi.sort_index(inplace=True)\n",
    "taxi_res1h = taxi.resample('1H').sum()"
   ]
  },
  {
   "cell_type": "markdown",
   "metadata": {},
   "source": [
    "## Анализ"
   ]
  },
  {
   "cell_type": "markdown",
   "metadata": {},
   "source": [
    "**Декомпозируем временной ряд**"
   ]
  },
  {
   "cell_type": "code",
   "execution_count": 5,
   "metadata": {},
   "outputs": [
    {
     "data": {
      "text/html": [
       "<div>\n",
       "<style scoped>\n",
       "    .dataframe tbody tr th:only-of-type {\n",
       "        vertical-align: middle;\n",
       "    }\n",
       "\n",
       "    .dataframe tbody tr th {\n",
       "        vertical-align: top;\n",
       "    }\n",
       "\n",
       "    .dataframe thead th {\n",
       "        text-align: right;\n",
       "    }\n",
       "</style>\n",
       "<table border=\"1\" class=\"dataframe\">\n",
       "  <thead>\n",
       "    <tr style=\"text-align: right;\">\n",
       "      <th></th>\n",
       "      <th>num_orders</th>\n",
       "    </tr>\n",
       "    <tr>\n",
       "      <th>datetime</th>\n",
       "      <th></th>\n",
       "    </tr>\n",
       "  </thead>\n",
       "  <tbody>\n",
       "    <tr>\n",
       "      <th>2018-03-01 00:00:00</th>\n",
       "      <td>124</td>\n",
       "    </tr>\n",
       "    <tr>\n",
       "      <th>2018-03-01 01:00:00</th>\n",
       "      <td>85</td>\n",
       "    </tr>\n",
       "    <tr>\n",
       "      <th>2018-03-01 02:00:00</th>\n",
       "      <td>71</td>\n",
       "    </tr>\n",
       "    <tr>\n",
       "      <th>2018-03-01 03:00:00</th>\n",
       "      <td>66</td>\n",
       "    </tr>\n",
       "    <tr>\n",
       "      <th>2018-03-01 04:00:00</th>\n",
       "      <td>43</td>\n",
       "    </tr>\n",
       "    <tr>\n",
       "      <th>...</th>\n",
       "      <td>...</td>\n",
       "    </tr>\n",
       "    <tr>\n",
       "      <th>2018-08-31 19:00:00</th>\n",
       "      <td>136</td>\n",
       "    </tr>\n",
       "    <tr>\n",
       "      <th>2018-08-31 20:00:00</th>\n",
       "      <td>154</td>\n",
       "    </tr>\n",
       "    <tr>\n",
       "      <th>2018-08-31 21:00:00</th>\n",
       "      <td>159</td>\n",
       "    </tr>\n",
       "    <tr>\n",
       "      <th>2018-08-31 22:00:00</th>\n",
       "      <td>223</td>\n",
       "    </tr>\n",
       "    <tr>\n",
       "      <th>2018-08-31 23:00:00</th>\n",
       "      <td>205</td>\n",
       "    </tr>\n",
       "  </tbody>\n",
       "</table>\n",
       "<p>4416 rows × 1 columns</p>\n",
       "</div>"
      ],
      "text/plain": [
       "                     num_orders\n",
       "datetime                       \n",
       "2018-03-01 00:00:00         124\n",
       "2018-03-01 01:00:00          85\n",
       "2018-03-01 02:00:00          71\n",
       "2018-03-01 03:00:00          66\n",
       "2018-03-01 04:00:00          43\n",
       "...                         ...\n",
       "2018-08-31 19:00:00         136\n",
       "2018-08-31 20:00:00         154\n",
       "2018-08-31 21:00:00         159\n",
       "2018-08-31 22:00:00         223\n",
       "2018-08-31 23:00:00         205\n",
       "\n",
       "[4416 rows x 1 columns]"
      ]
     },
     "execution_count": 5,
     "metadata": {},
     "output_type": "execute_result"
    }
   ],
   "source": [
    "taxi_res1h"
   ]
  },
  {
   "cell_type": "code",
   "execution_count": 6,
   "metadata": {},
   "outputs": [],
   "source": [
    "decomposed = seasonal_decompose(taxi_res1h)"
   ]
  },
  {
   "cell_type": "code",
   "execution_count": 7,
   "metadata": {},
   "outputs": [
    {
     "data": {
      "text/plain": [
       "<AxesSubplot:xlabel='datetime'>"
      ]
     },
     "execution_count": 7,
     "metadata": {},
     "output_type": "execute_result"
    },
    {
     "data": {
      "image/png": "[encoded data removed]",
      "text/plain": [
       "<Figure size 432x288 with 1 Axes>"
      ]
     },
     "metadata": {
      "needs_background": "light"
     },
     "output_type": "display_data"
    }
   ],
   "source": [
    "decomposed.trend.plot()"
   ]
  },
  {
   "cell_type": "code",
   "execution_count": 8,
   "metadata": {},
   "outputs": [
    {
     "data": {
      "text/plain": [
       "<AxesSubplot:xlabel='datetime'>"
      ]
     },
     "execution_count": 8,
     "metadata": {},
     "output_type": "execute_result"
    },
    {
     "data": {
      "image/png": "[encoded data removed]",
      "text/plain": [
       "<Figure size 432x288 with 1 Axes>"
      ]
     },
     "metadata": {
      "needs_background": "light"
     },
     "output_type": "display_data"
    }
   ],
   "source": [
    "decomposed.seasonal['2018-08-01':'2018-08-07'].plot()"
   ]
  },
  {
   "cell_type": "code",
   "execution_count": 9,
   "metadata": {},
   "outputs": [
    {
     "data": {
      "text/plain": [
       "<AxesSubplot:xlabel='datetime'>"
      ]
     },
     "execution_count": 9,
     "metadata": {},
     "output_type": "execute_result"
    },
    {
     "data": {
      "image/png": "[encoded data removed]",
      "text/plain": [
       "<Figure size 432x288 with 1 Axes>"
      ]
     },
     "metadata": {
      "needs_background": "light"
     },
     "output_type": "display_data"
    }
   ],
   "source": [
    "decomposed.seasonal['2018-08-01':'2018-08-02'].plot()"
   ]
  },
  {
   "cell_type": "markdown",
   "metadata": {},
   "source": [
    "###  Вывод\n",
    "**Наблюдаем восходящий тренд увеличения количества дневных заказов со временем. Сезонность на недельном срезе показывает внутрисуточную закономерность пик заказов приходится на ночное время спад на утро.**"
   ]
  },
  {
   "cell_type": "markdown",
   "metadata": {},
   "source": [
    "## Обучение"
   ]
  },
  {
   "cell_type": "markdown",
   "metadata": {},
   "source": [
    "**Создадим признаки**"
   ]
  },
  {
   "cell_type": "code",
   "execution_count": 10,
   "metadata": {},
   "outputs": [],
   "source": [
    "\n",
    "def make_features(taxi_res1h, max_lag, rolling_mean_size, inplace):\n",
    "    taxi_res1h['dayofweek'] = taxi_res1h.index.dayofweek\n",
    "    taxi_res1h['hour'] = taxi_res1h.index.hour\n",
    "    \n",
    "    for lag in range(1, max_lag + 1):\n",
    "        taxi_res1h['lag_{}'.format(lag)] = taxi_res1h['num_orders'].shift(lag)\n",
    "        \n",
    "    taxi_res1h['rolling_mean'] = taxi_res1h['num_orders'].shift().rolling(rolling_mean_size).mean()"
   ]
  },
  {
   "cell_type": "code",
   "execution_count": 11,
   "metadata": {},
   "outputs": [],
   "source": [
    "make_features(taxi_res1h, 1, 24, inplace=True)"
   ]
  },
  {
   "cell_type": "code",
   "execution_count": 12,
   "metadata": {
    "scrolled": true
   },
   "outputs": [
    {
     "data": {
      "text/html": [
       "<div>\n",
       "<style scoped>\n",
       "    .dataframe tbody tr th:only-of-type {\n",
       "        vertical-align: middle;\n",
       "    }\n",
       "\n",
       "    .dataframe tbody tr th {\n",
       "        vertical-align: top;\n",
       "    }\n",
       "\n",
       "    .dataframe thead th {\n",
       "        text-align: right;\n",
       "    }\n",
       "</style>\n",
       "<table border=\"1\" class=\"dataframe\">\n",
       "  <thead>\n",
       "    <tr style=\"text-align: right;\">\n",
       "      <th></th>\n",
       "      <th>num_orders</th>\n",
       "      <th>dayofweek</th>\n",
       "      <th>hour</th>\n",
       "      <th>lag_1</th>\n",
       "      <th>rolling_mean</th>\n",
       "    </tr>\n",
       "    <tr>\n",
       "      <th>datetime</th>\n",
       "      <th></th>\n",
       "      <th></th>\n",
       "      <th></th>\n",
       "      <th></th>\n",
       "      <th></th>\n",
       "    </tr>\n",
       "  </thead>\n",
       "  <tbody>\n",
       "    <tr>\n",
       "      <th>2018-03-01 00:00:00</th>\n",
       "      <td>124</td>\n",
       "      <td>3</td>\n",
       "      <td>0</td>\n",
       "      <td>NaN</td>\n",
       "      <td>NaN</td>\n",
       "    </tr>\n",
       "    <tr>\n",
       "      <th>2018-03-01 01:00:00</th>\n",
       "      <td>85</td>\n",
       "      <td>3</td>\n",
       "      <td>1</td>\n",
       "      <td>124.0</td>\n",
       "      <td>NaN</td>\n",
       "    </tr>\n",
       "    <tr>\n",
       "      <th>2018-03-01 02:00:00</th>\n",
       "      <td>71</td>\n",
       "      <td>3</td>\n",
       "      <td>2</td>\n",
       "      <td>85.0</td>\n",
       "      <td>NaN</td>\n",
       "    </tr>\n",
       "    <tr>\n",
       "      <th>2018-03-01 03:00:00</th>\n",
       "      <td>66</td>\n",
       "      <td>3</td>\n",
       "      <td>3</td>\n",
       "      <td>71.0</td>\n",
       "      <td>NaN</td>\n",
       "    </tr>\n",
       "    <tr>\n",
       "      <th>2018-03-01 04:00:00</th>\n",
       "      <td>43</td>\n",
       "      <td>3</td>\n",
       "      <td>4</td>\n",
       "      <td>66.0</td>\n",
       "      <td>NaN</td>\n",
       "    </tr>\n",
       "    <tr>\n",
       "      <th>...</th>\n",
       "      <td>...</td>\n",
       "      <td>...</td>\n",
       "      <td>...</td>\n",
       "      <td>...</td>\n",
       "      <td>...</td>\n",
       "    </tr>\n",
       "    <tr>\n",
       "      <th>2018-08-31 19:00:00</th>\n",
       "      <td>136</td>\n",
       "      <td>4</td>\n",
       "      <td>19</td>\n",
       "      <td>207.0</td>\n",
       "      <td>164.875000</td>\n",
       "    </tr>\n",
       "    <tr>\n",
       "      <th>2018-08-31 20:00:00</th>\n",
       "      <td>154</td>\n",
       "      <td>4</td>\n",
       "      <td>20</td>\n",
       "      <td>136.0</td>\n",
       "      <td>167.541667</td>\n",
       "    </tr>\n",
       "    <tr>\n",
       "      <th>2018-08-31 21:00:00</th>\n",
       "      <td>159</td>\n",
       "      <td>4</td>\n",
       "      <td>21</td>\n",
       "      <td>154.0</td>\n",
       "      <td>168.041667</td>\n",
       "    </tr>\n",
       "    <tr>\n",
       "      <th>2018-08-31 22:00:00</th>\n",
       "      <td>223</td>\n",
       "      <td>4</td>\n",
       "      <td>22</td>\n",
       "      <td>159.0</td>\n",
       "      <td>166.416667</td>\n",
       "    </tr>\n",
       "    <tr>\n",
       "      <th>2018-08-31 23:00:00</th>\n",
       "      <td>205</td>\n",
       "      <td>4</td>\n",
       "      <td>23</td>\n",
       "      <td>223.0</td>\n",
       "      <td>169.125000</td>\n",
       "    </tr>\n",
       "  </tbody>\n",
       "</table>\n",
       "<p>4416 rows × 5 columns</p>\n",
       "</div>"
      ],
      "text/plain": [
       "                     num_orders  dayofweek  hour  lag_1  rolling_mean\n",
       "datetime                                                             \n",
       "2018-03-01 00:00:00         124          3     0    NaN           NaN\n",
       "2018-03-01 01:00:00          85          3     1  124.0           NaN\n",
       "2018-03-01 02:00:00          71          3     2   85.0           NaN\n",
       "2018-03-01 03:00:00          66          3     3   71.0           NaN\n",
       "2018-03-01 04:00:00          43          3     4   66.0           NaN\n",
       "...                         ...        ...   ...    ...           ...\n",
       "2018-08-31 19:00:00         136          4    19  207.0    164.875000\n",
       "2018-08-31 20:00:00         154          4    20  136.0    167.541667\n",
       "2018-08-31 21:00:00         159          4    21  154.0    168.041667\n",
       "2018-08-31 22:00:00         223          4    22  159.0    166.416667\n",
       "2018-08-31 23:00:00         205          4    23  223.0    169.125000\n",
       "\n",
       "[4416 rows x 5 columns]"
      ]
     },
     "execution_count": 12,
     "metadata": {},
     "output_type": "execute_result"
    }
   ],
   "source": [
    "taxi_res1h"
   ]
  },
  {
   "cell_type": "markdown",
   "metadata": {},
   "source": [
    "**Разобьем на тестовую и учебную выборки**"
   ]
  },
  {
   "cell_type": "code",
   "execution_count": 13,
   "metadata": {},
   "outputs": [],
   "source": [
    "train, test = train_test_split(taxi_res1h, shuffle=False, test_size=0.1, random_state=77)"
   ]
  },
  {
   "cell_type": "markdown",
   "metadata": {},
   "source": [
    "**Проверим размерность выборок**"
   ]
  },
  {
   "cell_type": "code",
   "execution_count": 14,
   "metadata": {},
   "outputs": [
    {
     "data": {
      "text/plain": [
       "0.8999094202898551"
      ]
     },
     "execution_count": 14,
     "metadata": {},
     "output_type": "execute_result"
    }
   ],
   "source": [
    "len(train) / len(taxi_res1h)"
   ]
  },
  {
   "cell_type": "code",
   "execution_count": 15,
   "metadata": {},
   "outputs": [
    {
     "data": {
      "text/plain": [
       "0.10009057971014493"
      ]
     },
     "execution_count": 15,
     "metadata": {},
     "output_type": "execute_result"
    }
   ],
   "source": [
    "len(test) / len(taxi_res1h)"
   ]
  },
  {
   "cell_type": "markdown",
   "metadata": {},
   "source": [
    "**Удалим пропущенные значения**"
   ]
  },
  {
   "cell_type": "code",
   "execution_count": 16,
   "metadata": {},
   "outputs": [],
   "source": [
    "train = train.dropna()"
   ]
  },
  {
   "cell_type": "code",
   "execution_count": 17,
   "metadata": {},
   "outputs": [],
   "source": [
    "features_train = train.drop(['num_orders'], axis=1)"
   ]
  },
  {
   "cell_type": "code",
   "execution_count": 18,
   "metadata": {},
   "outputs": [],
   "source": [
    "features_test = test.drop(['num_orders'], axis=1)"
   ]
  },
  {
   "cell_type": "code",
   "execution_count": 19,
   "metadata": {},
   "outputs": [],
   "source": [
    "target_train = train['num_orders']"
   ]
  },
  {
   "cell_type": "code",
   "execution_count": 20,
   "metadata": {},
   "outputs": [],
   "source": [
    "target_test = test['num_orders']"
   ]
  },
  {
   "cell_type": "markdown",
   "metadata": {},
   "source": [
    "### Линейная регрессия"
   ]
  },
  {
   "cell_type": "code",
   "execution_count": 21,
   "metadata": {},
   "outputs": [],
   "source": [
    "model_r = LinearRegression()"
   ]
  },
  {
   "cell_type": "code",
   "execution_count": 22,
   "metadata": {},
   "outputs": [
    {
     "data": {
      "text/plain": [
       "LinearRegression()"
      ]
     },
     "execution_count": 22,
     "metadata": {},
     "output_type": "execute_result"
    }
   ],
   "source": [
    "model_r.fit(features_train, target_train)"
   ]
  },
  {
   "cell_type": "markdown",
   "metadata": {},
   "source": [
    "### CatBoost"
   ]
  },
  {
   "cell_type": "code",
   "execution_count": 23,
   "metadata": {},
   "outputs": [],
   "source": [
    "train_c, valid_c = train_test_split(taxi_res1h, shuffle=False, test_size=0.2, random_state=77)\n",
    "valid_c, test_c = train_test_split(valid_c, shuffle=False, test_size=0.5, random_state=77)"
   ]
  },
  {
   "cell_type": "code",
   "execution_count": 24,
   "metadata": {},
   "outputs": [],
   "source": [
    "train_c = train_c.dropna()\n",
    "valid_c = valid_c.dropna()"
   ]
  },
  {
   "cell_type": "code",
   "execution_count": 25,
   "metadata": {},
   "outputs": [],
   "source": [
    "features_train_c = train_c.drop(['num_orders'], axis=1)"
   ]
  },
  {
   "cell_type": "code",
   "execution_count": 26,
   "metadata": {},
   "outputs": [],
   "source": [
    "features_valid_c = valid_c.drop(['num_orders'], axis=1)"
   ]
  },
  {
   "cell_type": "code",
   "execution_count": 27,
   "metadata": {},
   "outputs": [],
   "source": [
    "features_test_c = test_c.drop(['num_orders'], axis=1)"
   ]
  },
  {
   "cell_type": "code",
   "execution_count": 28,
   "metadata": {},
   "outputs": [],
   "source": [
    "target_train_c = train_c['num_orders']"
   ]
  },
  {
   "cell_type": "code",
   "execution_count": 29,
   "metadata": {},
   "outputs": [],
   "source": [
    "target_valid_c = valid_c['num_orders']"
   ]
  },
  {
   "cell_type": "code",
   "execution_count": 30,
   "metadata": {},
   "outputs": [],
   "source": [
    "target_test_c = test_c['num_orders']"
   ]
  },
  {
   "cell_type": "code",
   "execution_count": 31,
   "metadata": {},
   "outputs": [
    {
     "data": {
      "text/plain": [
       "0.7943840579710145"
      ]
     },
     "execution_count": 31,
     "metadata": {},
     "output_type": "execute_result"
    }
   ],
   "source": [
    "len(train_c) / len(taxi_res1h)"
   ]
  },
  {
   "cell_type": "code",
   "execution_count": 32,
   "metadata": {},
   "outputs": [
    {
     "data": {
      "text/plain": [
       "0.10009057971014493"
      ]
     },
     "execution_count": 32,
     "metadata": {},
     "output_type": "execute_result"
    }
   ],
   "source": [
    "len(valid_c) / len(taxi_res1h)"
   ]
  },
  {
   "cell_type": "code",
   "execution_count": 33,
   "metadata": {},
   "outputs": [
    {
     "data": {
      "text/plain": [
       "0.10009057971014493"
      ]
     },
     "execution_count": 33,
     "metadata": {},
     "output_type": "execute_result"
    }
   ],
   "source": [
    "len(test_c) / len(taxi_res1h)"
   ]
  },
  {
   "cell_type": "code",
   "execution_count": 34,
   "metadata": {},
   "outputs": [],
   "source": [
    "# результаты кода ниже {'max_depth': 6, 'n_estimators': 901}, \n",
    "# но т.к. очень уж он долдго работает, закоментировал его"
   ]
  },
  {
   "cell_type": "code",
   "execution_count": 35,
   "metadata": {},
   "outputs": [],
   "source": [
    "#param_boost = {'n_estimators': range(1, 1500, 300),\n",
    "             # 'max_depth': range(1, 35, 5)}"
   ]
  },
  {
   "cell_type": "code",
   "execution_count": 36,
   "metadata": {},
   "outputs": [],
   "source": [
    "#tscv = TimeSeriesSplit()"
   ]
  },
  {
   "cell_type": "code",
   "execution_count": 37,
   "metadata": {},
   "outputs": [],
   "source": [
    "#model_c = CatBoostRegressor()"
   ]
  },
  {
   "cell_type": "code",
   "execution_count": 38,
   "metadata": {},
   "outputs": [],
   "source": [
    "#grid_c = GridSearchCV(model_c, param_grid=param_boost, scoring='neg_root_mean_squared_error',\n",
    "  #                 n_jobs=-1, cv=tscv)"
   ]
  },
  {
   "cell_type": "code",
   "execution_count": 39,
   "metadata": {},
   "outputs": [],
   "source": [
    "#grid_c.fit(features_train_c, target_train_c )"
   ]
  },
  {
   "cell_type": "code",
   "execution_count": 40,
   "metadata": {},
   "outputs": [],
   "source": [
    "#grid_c.best_params_"
   ]
  },
  {
   "cell_type": "code",
   "execution_count": 41,
   "metadata": {},
   "outputs": [],
   "source": [
    "#print('RMSE', grid_c.best_score_ * -1)"
   ]
  },
  {
   "cell_type": "markdown",
   "metadata": {},
   "source": [
    "### LightGBM"
   ]
  },
  {
   "cell_type": "code",
   "execution_count": 42,
   "metadata": {},
   "outputs": [],
   "source": [
    "booster = lgb.LGBMRegressor()"
   ]
  },
  {
   "cell_type": "code",
   "execution_count": 43,
   "metadata": {},
   "outputs": [],
   "source": [
    "param_boost = {'n_estimators': range(1, 1500, 300),\n",
    "              'max_depth': range(1, 35, 5)}"
   ]
  },
  {
   "cell_type": "code",
   "execution_count": 44,
   "metadata": {},
   "outputs": [],
   "source": [
    "tscv = TimeSeriesSplit()"
   ]
  },
  {
   "cell_type": "code",
   "execution_count": 45,
   "metadata": {},
   "outputs": [],
   "source": [
    "grid = GridSearchCV(booster, param_grid=param_boost, scoring='neg_root_mean_squared_error',\n",
    "                   n_jobs=-1, cv=tscv)"
   ]
  },
  {
   "cell_type": "code",
   "execution_count": 46,
   "metadata": {},
   "outputs": [
    {
     "data": {
      "text/plain": [
       "GridSearchCV(cv=TimeSeriesSplit(gap=0, max_train_size=None, n_splits=5, test_size=None),\n",
       "             estimator=LGBMRegressor(), n_jobs=-1,\n",
       "             param_grid={'max_depth': range(1, 35, 5),\n",
       "                         'n_estimators': range(1, 1500, 300)},\n",
       "             scoring='neg_root_mean_squared_error')"
      ]
     },
     "execution_count": 46,
     "metadata": {},
     "output_type": "execute_result"
    }
   ],
   "source": [
    "grid.fit(features_train_c, target_train_c )"
   ]
  },
  {
   "cell_type": "code",
   "execution_count": 47,
   "metadata": {},
   "outputs": [
    {
     "data": {
      "text/plain": [
       "{'max_depth': 6, 'n_estimators': 301}"
      ]
     },
     "execution_count": 47,
     "metadata": {},
     "output_type": "execute_result"
    }
   ],
   "source": [
    "grid.best_params_"
   ]
  },
  {
   "cell_type": "code",
   "execution_count": 48,
   "metadata": {},
   "outputs": [
    {
     "name": "stdout",
     "output_type": "stream",
     "text": [
      "RMSE 25.036319152189144\n"
     ]
    }
   ],
   "source": [
    "print('RMSE', grid.best_score_ * -1)"
   ]
  },
  {
   "cell_type": "markdown",
   "metadata": {},
   "source": [
    "## Тестирование"
   ]
  },
  {
   "cell_type": "markdown",
   "metadata": {},
   "source": [
    "### Линейная регрессия"
   ]
  },
  {
   "cell_type": "code",
   "execution_count": 49,
   "metadata": {},
   "outputs": [],
   "source": [
    "pred_test = model_r.predict(features_test)"
   ]
  },
  {
   "cell_type": "code",
   "execution_count": 50,
   "metadata": {},
   "outputs": [
    {
     "name": "stdout",
     "output_type": "stream",
     "text": [
      "RMSE 51.19408067165248\n"
     ]
    }
   ],
   "source": [
    "print('RMSE', mean_squared_error(target_test, pred_test) ** 0.5)"
   ]
  },
  {
   "cell_type": "markdown",
   "metadata": {},
   "source": [
    "### Catboost"
   ]
  },
  {
   "cell_type": "code",
   "execution_count": 51,
   "metadata": {},
   "outputs": [],
   "source": [
    "model_c = CatBoostRegressor(max_depth=6, n_estimators=901)"
   ]
  },
  {
   "cell_type": "code",
   "execution_count": 52,
   "metadata": {},
   "outputs": [
    {
     "name": "stdout",
     "output_type": "stream",
     "text": [
      "Learning rate set to 0.062332\n",
      "0:\tlearn: 34.8236386\ttest: 56.8191378\tbest: 56.8191378 (0)\ttotal: 154ms\tremaining: 2m 18s\n",
      "1:\tlearn: 33.8875809\ttest: 55.5851522\tbest: 55.5851522 (1)\ttotal: 156ms\tremaining: 1m 10s\n",
      "2:\tlearn: 33.1732750\ttest: 54.7309940\tbest: 54.7309940 (2)\ttotal: 159ms\tremaining: 47.5s\n",
      "3:\tlearn: 32.3383202\ttest: 53.7347244\tbest: 53.7347244 (3)\ttotal: 161ms\tremaining: 36.1s\n",
      "4:\tlearn: 31.6185657\ttest: 52.6076617\tbest: 52.6076617 (4)\ttotal: 163ms\tremaining: 29.2s\n",
      "5:\tlearn: 30.8890184\ttest: 51.4897533\tbest: 51.4897533 (5)\ttotal: 164ms\tremaining: 24.5s\n",
      "6:\tlearn: 30.3415152\ttest: 50.8351335\tbest: 50.8351335 (6)\ttotal: 166ms\tremaining: 21.1s\n",
      "7:\tlearn: 29.7406884\ttest: 49.8071333\tbest: 49.8071333 (7)\ttotal: 167ms\tremaining: 18.6s\n",
      "8:\tlearn: 29.2176410\ttest: 48.9960059\tbest: 48.9960059 (8)\ttotal: 168ms\tremaining: 16.7s\n",
      "9:\tlearn: 28.7777766\ttest: 48.3325313\tbest: 48.3325313 (9)\ttotal: 169ms\tremaining: 15.1s\n",
      "10:\tlearn: 28.3634697\ttest: 47.8269902\tbest: 47.8269902 (10)\ttotal: 171ms\tremaining: 13.8s\n",
      "11:\tlearn: 27.9946309\ttest: 47.1709722\tbest: 47.1709722 (11)\ttotal: 172ms\tremaining: 12.7s\n",
      "12:\tlearn: 27.5479835\ttest: 46.5265605\tbest: 46.5265605 (12)\ttotal: 173ms\tremaining: 11.8s\n",
      "13:\tlearn: 27.2231116\ttest: 45.9055659\tbest: 45.9055659 (13)\ttotal: 174ms\tremaining: 11.1s\n",
      "14:\tlearn: 26.8642805\ttest: 45.3920864\tbest: 45.3920864 (14)\ttotal: 176ms\tremaining: 10.4s\n",
      "15:\tlearn: 26.5472809\ttest: 44.9166152\tbest: 44.9166152 (15)\ttotal: 177ms\tremaining: 9.79s\n",
      "16:\tlearn: 26.2850897\ttest: 44.6365192\tbest: 44.6365192 (16)\ttotal: 179ms\tremaining: 9.3s\n",
      "17:\tlearn: 26.0542148\ttest: 44.2618336\tbest: 44.2618336 (17)\ttotal: 180ms\tremaining: 8.84s\n",
      "18:\tlearn: 25.7863541\ttest: 43.9130224\tbest: 43.9130224 (18)\ttotal: 182ms\tremaining: 8.44s\n",
      "19:\tlearn: 25.5784594\ttest: 43.5288710\tbest: 43.5288710 (19)\ttotal: 183ms\tremaining: 8.07s\n",
      "20:\tlearn: 25.3497658\ttest: 43.2163430\tbest: 43.2163430 (20)\ttotal: 185ms\tremaining: 7.74s\n",
      "21:\tlearn: 25.1452700\ttest: 42.8135782\tbest: 42.8135782 (21)\ttotal: 186ms\tremaining: 7.43s\n",
      "22:\tlearn: 24.9429993\ttest: 42.3676663\tbest: 42.3676663 (22)\ttotal: 187ms\tremaining: 7.16s\n",
      "23:\tlearn: 24.8160569\ttest: 42.0249969\tbest: 42.0249969 (23)\ttotal: 189ms\tremaining: 6.9s\n",
      "24:\tlearn: 24.6974087\ttest: 41.7624768\tbest: 41.7624768 (24)\ttotal: 190ms\tremaining: 6.67s\n",
      "25:\tlearn: 24.5943778\ttest: 41.5426534\tbest: 41.5426534 (25)\ttotal: 192ms\tremaining: 6.45s\n",
      "26:\tlearn: 24.4325183\ttest: 41.2314370\tbest: 41.2314370 (26)\ttotal: 193ms\tremaining: 6.25s\n",
      "27:\tlearn: 24.3314198\ttest: 41.0174038\tbest: 41.0174038 (27)\ttotal: 195ms\tremaining: 6.06s\n",
      "28:\tlearn: 24.1849755\ttest: 40.7041752\tbest: 40.7041752 (28)\ttotal: 196ms\tremaining: 5.89s\n",
      "29:\tlearn: 24.1105280\ttest: 40.5555370\tbest: 40.5555370 (29)\ttotal: 197ms\tremaining: 5.73s\n",
      "30:\tlearn: 23.9596715\ttest: 40.3210751\tbest: 40.3210751 (30)\ttotal: 199ms\tremaining: 5.57s\n",
      "31:\tlearn: 23.8483072\ttest: 40.0430044\tbest: 40.0430044 (31)\ttotal: 200ms\tremaining: 5.43s\n",
      "32:\tlearn: 23.7692173\ttest: 39.8235610\tbest: 39.8235610 (32)\ttotal: 201ms\tremaining: 5.29s\n",
      "33:\tlearn: 23.6579001\ttest: 39.5362452\tbest: 39.5362452 (33)\ttotal: 202ms\tremaining: 5.16s\n",
      "34:\tlearn: 23.5538500\ttest: 39.3556079\tbest: 39.3556079 (34)\ttotal: 204ms\tremaining: 5.04s\n",
      "35:\tlearn: 23.4770105\ttest: 39.2045019\tbest: 39.2045019 (35)\ttotal: 205ms\tremaining: 4.93s\n",
      "36:\tlearn: 23.3592804\ttest: 39.0018772\tbest: 39.0018772 (36)\ttotal: 206ms\tremaining: 4.82s\n",
      "37:\tlearn: 23.2926217\ttest: 38.8991927\tbest: 38.8991927 (37)\ttotal: 208ms\tremaining: 4.71s\n",
      "38:\tlearn: 23.2414884\ttest: 38.8015400\tbest: 38.8015400 (38)\ttotal: 209ms\tremaining: 4.62s\n",
      "39:\tlearn: 23.1604708\ttest: 38.6690902\tbest: 38.6690902 (39)\ttotal: 210ms\tremaining: 4.53s\n",
      "40:\tlearn: 23.0973727\ttest: 38.5136377\tbest: 38.5136377 (40)\ttotal: 212ms\tremaining: 4.44s\n",
      "41:\tlearn: 23.0284629\ttest: 38.4332720\tbest: 38.4332720 (41)\ttotal: 213ms\tremaining: 4.36s\n",
      "42:\tlearn: 22.9646188\ttest: 38.2502090\tbest: 38.2502090 (42)\ttotal: 214ms\tremaining: 4.28s\n",
      "43:\tlearn: 22.9142819\ttest: 38.1180338\tbest: 38.1180338 (43)\ttotal: 215ms\tremaining: 4.2s\n",
      "44:\tlearn: 22.8461223\ttest: 37.9445781\tbest: 37.9445781 (44)\ttotal: 217ms\tremaining: 4.12s\n",
      "45:\tlearn: 22.8027484\ttest: 37.8767893\tbest: 37.8767893 (45)\ttotal: 218ms\tremaining: 4.05s\n",
      "46:\tlearn: 22.7490431\ttest: 37.6521994\tbest: 37.6521994 (46)\ttotal: 219ms\tremaining: 3.99s\n",
      "47:\tlearn: 22.6951744\ttest: 37.5434286\tbest: 37.5434286 (47)\ttotal: 221ms\tremaining: 3.92s\n",
      "48:\tlearn: 22.6625216\ttest: 37.4319102\tbest: 37.4319102 (48)\ttotal: 222ms\tremaining: 3.86s\n",
      "49:\tlearn: 22.5960849\ttest: 37.2464848\tbest: 37.2464848 (49)\ttotal: 224ms\tremaining: 3.81s\n",
      "50:\tlearn: 22.5343361\ttest: 37.1662698\tbest: 37.1662698 (50)\ttotal: 225ms\tremaining: 3.75s\n",
      "51:\tlearn: 22.4905941\ttest: 37.0766131\tbest: 37.0766131 (51)\ttotal: 226ms\tremaining: 3.7s\n",
      "52:\tlearn: 22.4508899\ttest: 36.9298962\tbest: 36.9298962 (52)\ttotal: 228ms\tremaining: 3.65s\n",
      "53:\tlearn: 22.3994617\ttest: 36.7883803\tbest: 36.7883803 (53)\ttotal: 229ms\tremaining: 3.59s\n",
      "54:\tlearn: 22.3471199\ttest: 36.5536931\tbest: 36.5536931 (54)\ttotal: 230ms\tremaining: 3.54s\n",
      "55:\tlearn: 22.2797466\ttest: 36.4099170\tbest: 36.4099170 (55)\ttotal: 232ms\tremaining: 3.5s\n",
      "56:\tlearn: 22.2505523\ttest: 36.3603236\tbest: 36.3603236 (56)\ttotal: 233ms\tremaining: 3.45s\n",
      "57:\tlearn: 22.2127589\ttest: 36.3212786\tbest: 36.3212786 (57)\ttotal: 234ms\tremaining: 3.4s\n",
      "58:\tlearn: 22.1742349\ttest: 36.1717913\tbest: 36.1717913 (58)\ttotal: 236ms\tremaining: 3.36s\n",
      "59:\tlearn: 22.1394607\ttest: 36.1146439\tbest: 36.1146439 (59)\ttotal: 237ms\tremaining: 3.32s\n",
      "60:\tlearn: 22.0999181\ttest: 36.0146556\tbest: 36.0146556 (60)\ttotal: 238ms\tremaining: 3.28s\n",
      "61:\tlearn: 22.0707886\ttest: 35.9775767\tbest: 35.9775767 (61)\ttotal: 239ms\tremaining: 3.24s\n",
      "62:\tlearn: 22.0500266\ttest: 35.9348956\tbest: 35.9348956 (62)\ttotal: 241ms\tremaining: 3.2s\n",
      "63:\tlearn: 22.0291808\ttest: 35.9016920\tbest: 35.9016920 (63)\ttotal: 242ms\tremaining: 3.17s\n",
      "64:\tlearn: 21.9726167\ttest: 35.6940758\tbest: 35.6940758 (64)\ttotal: 243ms\tremaining: 3.13s\n",
      "65:\tlearn: 21.9140118\ttest: 35.6166578\tbest: 35.6166578 (65)\ttotal: 245ms\tremaining: 3.09s\n",
      "66:\tlearn: 21.8641327\ttest: 35.4963395\tbest: 35.4963395 (66)\ttotal: 246ms\tremaining: 3.06s\n",
      "67:\tlearn: 21.8343709\ttest: 35.4453719\tbest: 35.4453719 (67)\ttotal: 247ms\tremaining: 3.03s\n",
      "68:\tlearn: 21.8198140\ttest: 35.4240441\tbest: 35.4240441 (68)\ttotal: 248ms\tremaining: 2.99s\n",
      "69:\tlearn: 21.7774891\ttest: 35.3514059\tbest: 35.3514059 (69)\ttotal: 250ms\tremaining: 2.96s\n",
      "70:\tlearn: 21.7624584\ttest: 35.3236912\tbest: 35.3236912 (70)\ttotal: 251ms\tremaining: 2.93s\n",
      "71:\tlearn: 21.7191668\ttest: 35.2886723\tbest: 35.2886723 (71)\ttotal: 252ms\tremaining: 2.9s\n",
      "72:\tlearn: 21.6884178\ttest: 35.2283194\tbest: 35.2283194 (72)\ttotal: 253ms\tremaining: 2.87s\n",
      "73:\tlearn: 21.6511641\ttest: 35.1087920\tbest: 35.1087920 (73)\ttotal: 255ms\tremaining: 2.85s\n",
      "74:\tlearn: 21.6013725\ttest: 34.9954128\tbest: 34.9954128 (74)\ttotal: 256ms\tremaining: 2.82s\n",
      "75:\tlearn: 21.5679037\ttest: 34.8820394\tbest: 34.8820394 (75)\ttotal: 257ms\tremaining: 2.79s\n",
      "76:\tlearn: 21.5168827\ttest: 34.8198186\tbest: 34.8198186 (76)\ttotal: 258ms\tremaining: 2.76s\n",
      "77:\tlearn: 21.4768174\ttest: 34.7740189\tbest: 34.7740189 (77)\ttotal: 260ms\tremaining: 2.74s\n",
      "78:\tlearn: 21.4523105\ttest: 34.7736133\tbest: 34.7736133 (78)\ttotal: 261ms\tremaining: 2.71s\n",
      "79:\tlearn: 21.4089055\ttest: 34.7203602\tbest: 34.7203602 (79)\ttotal: 262ms\tremaining: 2.69s\n",
      "80:\tlearn: 21.3695127\ttest: 34.6868835\tbest: 34.6868835 (80)\ttotal: 263ms\tremaining: 2.67s\n",
      "81:\tlearn: 21.3554302\ttest: 34.5862684\tbest: 34.5862684 (81)\ttotal: 265ms\tremaining: 2.64s\n",
      "82:\tlearn: 21.3225978\ttest: 34.5449220\tbest: 34.5449220 (82)\ttotal: 266ms\tremaining: 2.62s\n",
      "83:\tlearn: 21.2829042\ttest: 34.5054039\tbest: 34.5054039 (83)\ttotal: 267ms\tremaining: 2.6s\n",
      "84:\tlearn: 21.2381292\ttest: 34.4454261\tbest: 34.4454261 (84)\ttotal: 268ms\tremaining: 2.58s\n",
      "85:\tlearn: 21.2102729\ttest: 34.4212713\tbest: 34.4212713 (85)\ttotal: 270ms\tremaining: 2.56s\n",
      "86:\tlearn: 21.1809000\ttest: 34.4034376\tbest: 34.4034376 (86)\ttotal: 271ms\tremaining: 2.54s\n",
      "87:\tlearn: 21.1496773\ttest: 34.3605894\tbest: 34.3605894 (87)\ttotal: 272ms\tremaining: 2.52s\n",
      "88:\tlearn: 21.1278299\ttest: 34.3231345\tbest: 34.3231345 (88)\ttotal: 273ms\tremaining: 2.5s\n",
      "89:\tlearn: 21.1068762\ttest: 34.3049305\tbest: 34.3049305 (89)\ttotal: 275ms\tremaining: 2.48s\n",
      "90:\tlearn: 21.0711833\ttest: 34.2620233\tbest: 34.2620233 (90)\ttotal: 276ms\tremaining: 2.46s\n",
      "91:\tlearn: 21.0452586\ttest: 34.2235337\tbest: 34.2235337 (91)\ttotal: 277ms\tremaining: 2.44s\n",
      "92:\tlearn: 21.0284341\ttest: 34.1916006\tbest: 34.1916006 (92)\ttotal: 278ms\tremaining: 2.42s\n",
      "93:\tlearn: 21.0141761\ttest: 34.1647304\tbest: 34.1647304 (93)\ttotal: 280ms\tremaining: 2.4s\n",
      "94:\tlearn: 20.9849067\ttest: 34.0926189\tbest: 34.0926189 (94)\ttotal: 281ms\tremaining: 2.38s\n",
      "95:\tlearn: 20.9608523\ttest: 34.0757923\tbest: 34.0757923 (95)\ttotal: 282ms\tremaining: 2.37s\n",
      "96:\tlearn: 20.9277691\ttest: 34.0313312\tbest: 34.0313312 (96)\ttotal: 283ms\tremaining: 2.35s\n",
      "97:\tlearn: 20.8972139\ttest: 33.9841548\tbest: 33.9841548 (97)\ttotal: 285ms\tremaining: 2.33s\n",
      "98:\tlearn: 20.8765398\ttest: 33.9802769\tbest: 33.9802769 (98)\ttotal: 286ms\tremaining: 2.32s\n",
      "99:\tlearn: 20.8590523\ttest: 33.9620547\tbest: 33.9620547 (99)\ttotal: 287ms\tremaining: 2.3s\n",
      "100:\tlearn: 20.8330287\ttest: 33.9591788\tbest: 33.9591788 (100)\ttotal: 288ms\tremaining: 2.28s\n",
      "101:\tlearn: 20.8048992\ttest: 33.9285935\tbest: 33.9285935 (101)\ttotal: 290ms\tremaining: 2.27s\n",
      "102:\tlearn: 20.7841079\ttest: 33.8444159\tbest: 33.8444159 (102)\ttotal: 291ms\tremaining: 2.25s\n",
      "103:\tlearn: 20.7598953\ttest: 33.8237853\tbest: 33.8237853 (103)\ttotal: 292ms\tremaining: 2.24s\n",
      "104:\tlearn: 20.7442906\ttest: 33.8173257\tbest: 33.8173257 (104)\ttotal: 294ms\tremaining: 2.23s\n",
      "105:\tlearn: 20.7300997\ttest: 33.7862471\tbest: 33.7862471 (105)\ttotal: 295ms\tremaining: 2.21s\n",
      "106:\tlearn: 20.6975358\ttest: 33.7204076\tbest: 33.7204076 (106)\ttotal: 296ms\tremaining: 2.2s\n",
      "107:\tlearn: 20.6705301\ttest: 33.6795643\tbest: 33.6795643 (107)\ttotal: 297ms\tremaining: 2.18s\n",
      "108:\tlearn: 20.6601306\ttest: 33.6938161\tbest: 33.6795643 (107)\ttotal: 299ms\tremaining: 2.17s\n",
      "109:\tlearn: 20.6352691\ttest: 33.6094898\tbest: 33.6094898 (109)\ttotal: 300ms\tremaining: 2.16s\n",
      "110:\tlearn: 20.6116934\ttest: 33.5620921\tbest: 33.5620921 (110)\ttotal: 301ms\tremaining: 2.14s\n",
      "111:\tlearn: 20.5974996\ttest: 33.5206108\tbest: 33.5206108 (111)\ttotal: 303ms\tremaining: 2.13s\n",
      "112:\tlearn: 20.5655837\ttest: 33.4980611\tbest: 33.4980611 (112)\ttotal: 304ms\tremaining: 2.12s\n",
      "113:\tlearn: 20.5440585\ttest: 33.4144760\tbest: 33.4144760 (113)\ttotal: 305ms\tremaining: 2.11s\n",
      "114:\tlearn: 20.5121700\ttest: 33.3954358\tbest: 33.3954358 (114)\ttotal: 306ms\tremaining: 2.09s\n",
      "115:\tlearn: 20.4794511\ttest: 33.3645675\tbest: 33.3645675 (115)\ttotal: 308ms\tremaining: 2.08s\n",
      "116:\tlearn: 20.4672502\ttest: 33.3744358\tbest: 33.3645675 (115)\ttotal: 309ms\tremaining: 2.07s\n",
      "117:\tlearn: 20.4465624\ttest: 33.3773932\tbest: 33.3645675 (115)\ttotal: 310ms\tremaining: 2.06s\n",
      "118:\tlearn: 20.4251168\ttest: 33.3508514\tbest: 33.3508514 (118)\ttotal: 312ms\tremaining: 2.05s\n",
      "119:\tlearn: 20.4114170\ttest: 33.3087597\tbest: 33.3087597 (119)\ttotal: 313ms\tremaining: 2.04s\n",
      "120:\tlearn: 20.3864027\ttest: 33.2525782\tbest: 33.2525782 (120)\ttotal: 314ms\tremaining: 2.02s\n",
      "121:\tlearn: 20.3610957\ttest: 33.2466120\tbest: 33.2466120 (121)\ttotal: 315ms\tremaining: 2.01s\n",
      "122:\tlearn: 20.3447732\ttest: 33.2200256\tbest: 33.2200256 (122)\ttotal: 317ms\tremaining: 2s\n",
      "123:\tlearn: 20.3228600\ttest: 33.2010320\tbest: 33.2010320 (123)\ttotal: 318ms\tremaining: 1.99s\n",
      "124:\tlearn: 20.3039971\ttest: 33.1789087\tbest: 33.1789087 (124)\ttotal: 319ms\tremaining: 1.98s\n",
      "125:\tlearn: 20.2850150\ttest: 33.1600661\tbest: 33.1600661 (125)\ttotal: 321ms\tremaining: 1.97s\n",
      "126:\tlearn: 20.2637326\ttest: 33.1346788\tbest: 33.1346788 (126)\ttotal: 322ms\tremaining: 1.96s\n",
      "127:\tlearn: 20.2482675\ttest: 33.0301139\tbest: 33.0301139 (127)\ttotal: 323ms\tremaining: 1.95s\n",
      "128:\tlearn: 20.2311139\ttest: 32.9997876\tbest: 32.9997876 (128)\ttotal: 324ms\tremaining: 1.94s\n",
      "129:\tlearn: 20.2007682\ttest: 32.9993340\tbest: 32.9993340 (129)\ttotal: 326ms\tremaining: 1.93s\n",
      "130:\tlearn: 20.1745294\ttest: 32.9773142\tbest: 32.9773142 (130)\ttotal: 327ms\tremaining: 1.92s\n",
      "131:\tlearn: 20.1456129\ttest: 32.9144852\tbest: 32.9144852 (131)\ttotal: 329ms\tremaining: 1.92s\n",
      "132:\tlearn: 20.1413962\ttest: 32.9113068\tbest: 32.9113068 (132)\ttotal: 330ms\tremaining: 1.9s\n",
      "133:\tlearn: 20.1140877\ttest: 32.8948258\tbest: 32.8948258 (133)\ttotal: 331ms\tremaining: 1.89s\n",
      "134:\tlearn: 20.0957135\ttest: 32.8154527\tbest: 32.8154527 (134)\ttotal: 332ms\tremaining: 1.89s\n",
      "135:\tlearn: 20.0914433\ttest: 32.8184967\tbest: 32.8154527 (134)\ttotal: 334ms\tremaining: 1.88s\n",
      "136:\tlearn: 20.0640017\ttest: 32.7934977\tbest: 32.7934977 (136)\ttotal: 335ms\tremaining: 1.87s\n",
      "137:\tlearn: 20.0425349\ttest: 32.7738261\tbest: 32.7738261 (137)\ttotal: 337ms\tremaining: 1.86s\n",
      "138:\tlearn: 20.0230717\ttest: 32.7500998\tbest: 32.7500998 (138)\ttotal: 338ms\tremaining: 1.85s\n",
      "139:\tlearn: 19.9905211\ttest: 32.7320670\tbest: 32.7320670 (139)\ttotal: 340ms\tremaining: 1.85s\n",
      "140:\tlearn: 19.9680997\ttest: 32.7262108\tbest: 32.7262108 (140)\ttotal: 341ms\tremaining: 1.84s\n",
      "141:\tlearn: 19.9530269\ttest: 32.7255713\tbest: 32.7255713 (141)\ttotal: 343ms\tremaining: 1.83s\n",
      "142:\tlearn: 19.9373622\ttest: 32.6450507\tbest: 32.6450507 (142)\ttotal: 344ms\tremaining: 1.82s\n",
      "143:\tlearn: 19.9253070\ttest: 32.6646768\tbest: 32.6450507 (142)\ttotal: 346ms\tremaining: 1.82s\n",
      "144:\tlearn: 19.9032299\ttest: 32.6266668\tbest: 32.6266668 (144)\ttotal: 347ms\tremaining: 1.81s\n",
      "145:\tlearn: 19.8867605\ttest: 32.5834520\tbest: 32.5834520 (145)\ttotal: 349ms\tremaining: 1.8s\n",
      "146:\tlearn: 19.8786881\ttest: 32.5326963\tbest: 32.5326963 (146)\ttotal: 350ms\tremaining: 1.8s\n",
      "147:\tlearn: 19.8685890\ttest: 32.5491323\tbest: 32.5326963 (146)\ttotal: 352ms\tremaining: 1.79s\n",
      "148:\tlearn: 19.8524238\ttest: 32.5497684\tbest: 32.5326963 (146)\ttotal: 353ms\tremaining: 1.78s\n",
      "149:\tlearn: 19.8376204\ttest: 32.5055464\tbest: 32.5055464 (149)\ttotal: 354ms\tremaining: 1.77s\n",
      "150:\tlearn: 19.8278235\ttest: 32.4975185\tbest: 32.4975185 (150)\ttotal: 356ms\tremaining: 1.77s\n",
      "151:\tlearn: 19.8111621\ttest: 32.4839710\tbest: 32.4839710 (151)\ttotal: 357ms\tremaining: 1.76s\n",
      "152:\tlearn: 19.7967080\ttest: 32.4840658\tbest: 32.4839710 (151)\ttotal: 358ms\tremaining: 1.75s\n",
      "153:\tlearn: 19.7916565\ttest: 32.4971550\tbest: 32.4839710 (151)\ttotal: 360ms\tremaining: 1.74s\n",
      "154:\tlearn: 19.7819896\ttest: 32.5222514\tbest: 32.4839710 (151)\ttotal: 361ms\tremaining: 1.74s\n",
      "155:\tlearn: 19.7657521\ttest: 32.5267634\tbest: 32.4839710 (151)\ttotal: 362ms\tremaining: 1.73s\n",
      "156:\tlearn: 19.7433070\ttest: 32.4929528\tbest: 32.4839710 (151)\ttotal: 364ms\tremaining: 1.72s\n",
      "157:\tlearn: 19.7267389\ttest: 32.4743584\tbest: 32.4743584 (157)\ttotal: 365ms\tremaining: 1.72s\n",
      "158:\tlearn: 19.7100329\ttest: 32.4379489\tbest: 32.4379489 (158)\ttotal: 367ms\tremaining: 1.71s\n",
      "159:\tlearn: 19.7028272\ttest: 32.4623091\tbest: 32.4379489 (158)\ttotal: 368ms\tremaining: 1.7s\n",
      "160:\tlearn: 19.6895778\ttest: 32.4502339\tbest: 32.4379489 (158)\ttotal: 369ms\tremaining: 1.7s\n",
      "161:\tlearn: 19.6814157\ttest: 32.4153781\tbest: 32.4153781 (161)\ttotal: 371ms\tremaining: 1.69s\n",
      "162:\tlearn: 19.6618611\ttest: 32.4099052\tbest: 32.4099052 (162)\ttotal: 372ms\tremaining: 1.68s\n",
      "163:\tlearn: 19.6464354\ttest: 32.2994446\tbest: 32.2994446 (163)\ttotal: 373ms\tremaining: 1.68s\n",
      "164:\tlearn: 19.6255444\ttest: 32.2845406\tbest: 32.2845406 (164)\ttotal: 375ms\tremaining: 1.67s\n",
      "165:\tlearn: 19.6153700\ttest: 32.2620747\tbest: 32.2620747 (165)\ttotal: 376ms\tremaining: 1.67s\n",
      "166:\tlearn: 19.5958094\ttest: 32.2178838\tbest: 32.2178838 (166)\ttotal: 377ms\tremaining: 1.66s\n",
      "167:\tlearn: 19.5852333\ttest: 32.2199303\tbest: 32.2178838 (166)\ttotal: 379ms\tremaining: 1.65s\n",
      "168:\tlearn: 19.5744179\ttest: 32.1442984\tbest: 32.1442984 (168)\ttotal: 380ms\tremaining: 1.65s\n",
      "169:\tlearn: 19.5631960\ttest: 32.1273848\tbest: 32.1273848 (169)\ttotal: 382ms\tremaining: 1.64s\n",
      "170:\tlearn: 19.5502079\ttest: 32.1144805\tbest: 32.1144805 (170)\ttotal: 383ms\tremaining: 1.63s\n",
      "171:\tlearn: 19.5385338\ttest: 32.1246383\tbest: 32.1144805 (170)\ttotal: 384ms\tremaining: 1.63s\n",
      "172:\tlearn: 19.5260064\ttest: 32.1210874\tbest: 32.1144805 (170)\ttotal: 385ms\tremaining: 1.62s\n",
      "173:\tlearn: 19.5112854\ttest: 32.1313354\tbest: 32.1144805 (170)\ttotal: 387ms\tremaining: 1.61s\n",
      "174:\tlearn: 19.4930802\ttest: 32.0585162\tbest: 32.0585162 (174)\ttotal: 388ms\tremaining: 1.61s\n",
      "175:\tlearn: 19.4702911\ttest: 32.0297781\tbest: 32.0297781 (175)\ttotal: 389ms\tremaining: 1.6s\n",
      "176:\tlearn: 19.4582012\ttest: 32.0143975\tbest: 32.0143975 (176)\ttotal: 391ms\tremaining: 1.6s\n",
      "177:\tlearn: 19.4385552\ttest: 31.9623074\tbest: 31.9623074 (177)\ttotal: 392ms\tremaining: 1.59s\n",
      "178:\tlearn: 19.4178899\ttest: 31.9041079\tbest: 31.9041079 (178)\ttotal: 393ms\tremaining: 1.58s\n",
      "179:\tlearn: 19.4107586\ttest: 31.9117836\tbest: 31.9041079 (178)\ttotal: 394ms\tremaining: 1.58s\n",
      "180:\tlearn: 19.4030244\ttest: 31.8697685\tbest: 31.8697685 (180)\ttotal: 396ms\tremaining: 1.57s\n",
      "181:\tlearn: 19.3898893\ttest: 31.8809400\tbest: 31.8697685 (180)\ttotal: 397ms\tremaining: 1.57s\n",
      "182:\tlearn: 19.3779593\ttest: 31.8139284\tbest: 31.8139284 (182)\ttotal: 398ms\tremaining: 1.56s\n",
      "183:\tlearn: 19.3615007\ttest: 31.8178453\tbest: 31.8139284 (182)\ttotal: 399ms\tremaining: 1.56s\n",
      "184:\tlearn: 19.3499942\ttest: 31.8304617\tbest: 31.8139284 (182)\ttotal: 401ms\tremaining: 1.55s\n",
      "185:\tlearn: 19.3354304\ttest: 31.7787549\tbest: 31.7787549 (185)\ttotal: 402ms\tremaining: 1.54s\n",
      "186:\tlearn: 19.3235505\ttest: 31.7747137\tbest: 31.7747137 (186)\ttotal: 403ms\tremaining: 1.54s\n",
      "187:\tlearn: 19.3105426\ttest: 31.7780865\tbest: 31.7747137 (186)\ttotal: 404ms\tremaining: 1.53s\n",
      "188:\tlearn: 19.3001743\ttest: 31.7069405\tbest: 31.7069405 (188)\ttotal: 406ms\tremaining: 1.53s\n",
      "189:\tlearn: 19.2949787\ttest: 31.7201984\tbest: 31.7069405 (188)\ttotal: 407ms\tremaining: 1.52s\n",
      "190:\tlearn: 19.2899239\ttest: 31.7383419\tbest: 31.7069405 (188)\ttotal: 408ms\tremaining: 1.52s\n",
      "191:\tlearn: 19.2759127\ttest: 31.7089308\tbest: 31.7069405 (188)\ttotal: 410ms\tremaining: 1.51s\n",
      "192:\tlearn: 19.2612071\ttest: 31.7130107\tbest: 31.7069405 (188)\ttotal: 411ms\tremaining: 1.51s\n",
      "193:\tlearn: 19.2568903\ttest: 31.7059027\tbest: 31.7059027 (193)\ttotal: 412ms\tremaining: 1.5s\n",
      "194:\tlearn: 19.2379582\ttest: 31.6707211\tbest: 31.6707211 (194)\ttotal: 413ms\tremaining: 1.5s\n",
      "195:\tlearn: 19.2251289\ttest: 31.5932200\tbest: 31.5932200 (195)\ttotal: 414ms\tremaining: 1.49s\n",
      "196:\tlearn: 19.2173068\ttest: 31.6078148\tbest: 31.5932200 (195)\ttotal: 416ms\tremaining: 1.49s\n",
      "197:\tlearn: 19.2050631\ttest: 31.5285989\tbest: 31.5285989 (197)\ttotal: 417ms\tremaining: 1.48s\n",
      "198:\tlearn: 19.1897806\ttest: 31.5296422\tbest: 31.5285989 (197)\ttotal: 418ms\tremaining: 1.48s\n",
      "199:\tlearn: 19.1790557\ttest: 31.5404476\tbest: 31.5285989 (197)\ttotal: 420ms\tremaining: 1.47s\n",
      "200:\tlearn: 19.1660335\ttest: 31.5005768\tbest: 31.5005768 (200)\ttotal: 421ms\tremaining: 1.47s\n",
      "201:\tlearn: 19.1588690\ttest: 31.4989454\tbest: 31.4989454 (201)\ttotal: 422ms\tremaining: 1.46s\n",
      "202:\tlearn: 19.1537330\ttest: 31.5239650\tbest: 31.4989454 (201)\ttotal: 423ms\tremaining: 1.46s\n",
      "203:\tlearn: 19.1424958\ttest: 31.5188357\tbest: 31.4989454 (201)\ttotal: 425ms\tremaining: 1.45s\n",
      "204:\tlearn: 19.1169761\ttest: 31.5014516\tbest: 31.4989454 (201)\ttotal: 426ms\tremaining: 1.45s\n",
      "205:\tlearn: 19.0902166\ttest: 31.4653510\tbest: 31.4653510 (205)\ttotal: 427ms\tremaining: 1.44s\n",
      "206:\tlearn: 19.0775416\ttest: 31.4059482\tbest: 31.4059482 (206)\ttotal: 429ms\tremaining: 1.44s\n",
      "207:\tlearn: 19.0587591\ttest: 31.3894811\tbest: 31.3894811 (207)\ttotal: 430ms\tremaining: 1.43s\n",
      "208:\tlearn: 19.0500427\ttest: 31.4058035\tbest: 31.3894811 (207)\ttotal: 431ms\tremaining: 1.43s\n",
      "209:\tlearn: 19.0424246\ttest: 31.4052977\tbest: 31.3894811 (207)\ttotal: 432ms\tremaining: 1.42s\n",
      "210:\tlearn: 19.0339881\ttest: 31.4051284\tbest: 31.3894811 (207)\ttotal: 433ms\tremaining: 1.42s\n",
      "211:\tlearn: 19.0202129\ttest: 31.4005818\tbest: 31.3894811 (207)\ttotal: 435ms\tremaining: 1.41s\n",
      "212:\tlearn: 19.0106289\ttest: 31.3853971\tbest: 31.3853971 (212)\ttotal: 436ms\tremaining: 1.41s\n",
      "213:\tlearn: 19.0022464\ttest: 31.3481318\tbest: 31.3481318 (213)\ttotal: 437ms\tremaining: 1.4s\n",
      "214:\tlearn: 18.9955915\ttest: 31.3610192\tbest: 31.3481318 (213)\ttotal: 438ms\tremaining: 1.4s\n",
      "215:\tlearn: 18.9782305\ttest: 31.3408351\tbest: 31.3408351 (215)\ttotal: 440ms\tremaining: 1.39s\n",
      "216:\tlearn: 18.9739549\ttest: 31.3602175\tbest: 31.3408351 (215)\ttotal: 441ms\tremaining: 1.39s\n",
      "217:\tlearn: 18.9629155\ttest: 31.3643585\tbest: 31.3408351 (215)\ttotal: 442ms\tremaining: 1.39s\n",
      "218:\tlearn: 18.9537339\ttest: 31.3564922\tbest: 31.3408351 (215)\ttotal: 443ms\tremaining: 1.38s\n",
      "219:\tlearn: 18.9446488\ttest: 31.3703902\tbest: 31.3408351 (215)\ttotal: 445ms\tremaining: 1.38s\n",
      "220:\tlearn: 18.9372355\ttest: 31.3774863\tbest: 31.3408351 (215)\ttotal: 446ms\tremaining: 1.37s\n",
      "221:\tlearn: 18.9229714\ttest: 31.3590370\tbest: 31.3408351 (215)\ttotal: 447ms\tremaining: 1.37s\n",
      "222:\tlearn: 18.9167941\ttest: 31.3475207\tbest: 31.3408351 (215)\ttotal: 448ms\tremaining: 1.36s\n",
      "223:\tlearn: 18.8993809\ttest: 31.3326595\tbest: 31.3326595 (223)\ttotal: 450ms\tremaining: 1.36s\n",
      "224:\tlearn: 18.8889187\ttest: 31.3182045\tbest: 31.3182045 (224)\ttotal: 451ms\tremaining: 1.35s\n",
      "225:\tlearn: 18.8737155\ttest: 31.3024223\tbest: 31.3024223 (225)\ttotal: 452ms\tremaining: 1.35s\n",
      "226:\tlearn: 18.8669239\ttest: 31.3247229\tbest: 31.3024223 (225)\ttotal: 454ms\tremaining: 1.35s\n",
      "227:\tlearn: 18.8534632\ttest: 31.3275691\tbest: 31.3024223 (225)\ttotal: 455ms\tremaining: 1.34s\n",
      "228:\tlearn: 18.8415620\ttest: 31.2935274\tbest: 31.2935274 (228)\ttotal: 456ms\tremaining: 1.34s\n",
      "229:\tlearn: 18.8258503\ttest: 31.2729714\tbest: 31.2729714 (229)\ttotal: 457ms\tremaining: 1.33s\n",
      "230:\tlearn: 18.8149231\ttest: 31.2775246\tbest: 31.2729714 (229)\ttotal: 459ms\tremaining: 1.33s\n",
      "231:\tlearn: 18.8084634\ttest: 31.2768302\tbest: 31.2729714 (229)\ttotal: 460ms\tremaining: 1.32s\n",
      "232:\tlearn: 18.7924445\ttest: 31.2884697\tbest: 31.2729714 (229)\ttotal: 461ms\tremaining: 1.32s\n",
      "233:\tlearn: 18.7797991\ttest: 31.2761153\tbest: 31.2729714 (229)\ttotal: 462ms\tremaining: 1.32s\n",
      "234:\tlearn: 18.7603333\ttest: 31.2621065\tbest: 31.2621065 (234)\ttotal: 464ms\tremaining: 1.31s\n",
      "235:\tlearn: 18.7547622\ttest: 31.2721787\tbest: 31.2621065 (234)\ttotal: 465ms\tremaining: 1.31s\n",
      "236:\tlearn: 18.7474686\ttest: 31.2851878\tbest: 31.2621065 (234)\ttotal: 466ms\tremaining: 1.3s\n",
      "237:\tlearn: 18.7401641\ttest: 31.2884180\tbest: 31.2621065 (234)\ttotal: 467ms\tremaining: 1.3s\n",
      "238:\tlearn: 18.7329621\ttest: 31.3054127\tbest: 31.2621065 (234)\ttotal: 468ms\tremaining: 1.3s\n",
      "239:\tlearn: 18.7277117\ttest: 31.3180714\tbest: 31.2621065 (234)\ttotal: 470ms\tremaining: 1.29s\n",
      "240:\tlearn: 18.7204415\ttest: 31.3132569\tbest: 31.2621065 (234)\ttotal: 471ms\tremaining: 1.29s\n",
      "241:\tlearn: 18.7087609\ttest: 31.3153486\tbest: 31.2621065 (234)\ttotal: 472ms\tremaining: 1.28s\n",
      "242:\tlearn: 18.7003400\ttest: 31.3062773\tbest: 31.2621065 (234)\ttotal: 473ms\tremaining: 1.28s\n",
      "243:\tlearn: 18.6902299\ttest: 31.2954265\tbest: 31.2621065 (234)\ttotal: 475ms\tremaining: 1.28s\n",
      "244:\tlearn: 18.6789048\ttest: 31.2859744\tbest: 31.2621065 (234)\ttotal: 476ms\tremaining: 1.27s\n",
      "245:\tlearn: 18.6732095\ttest: 31.2900770\tbest: 31.2621065 (234)\ttotal: 477ms\tremaining: 1.27s\n",
      "246:\tlearn: 18.6663956\ttest: 31.3056372\tbest: 31.2621065 (234)\ttotal: 478ms\tremaining: 1.27s\n",
      "247:\tlearn: 18.6434056\ttest: 31.2637565\tbest: 31.2621065 (234)\ttotal: 480ms\tremaining: 1.26s\n",
      "248:\tlearn: 18.6342879\ttest: 31.2729329\tbest: 31.2621065 (234)\ttotal: 481ms\tremaining: 1.26s\n",
      "249:\tlearn: 18.6238511\ttest: 31.2578217\tbest: 31.2578217 (249)\ttotal: 482ms\tremaining: 1.25s\n",
      "250:\tlearn: 18.6171730\ttest: 31.2323215\tbest: 31.2323215 (250)\ttotal: 484ms\tremaining: 1.25s\n",
      "251:\tlearn: 18.6058516\ttest: 31.2237556\tbest: 31.2237556 (251)\ttotal: 485ms\tremaining: 1.25s\n",
      "252:\tlearn: 18.5948170\ttest: 31.1880912\tbest: 31.1880912 (252)\ttotal: 486ms\tremaining: 1.24s\n",
      "253:\tlearn: 18.5827322\ttest: 31.1699769\tbest: 31.1699769 (253)\ttotal: 487ms\tremaining: 1.24s\n",
      "254:\tlearn: 18.5606550\ttest: 31.1534769\tbest: 31.1534769 (254)\ttotal: 489ms\tremaining: 1.24s\n",
      "255:\tlearn: 18.5436597\ttest: 31.1427587\tbest: 31.1427587 (255)\ttotal: 490ms\tremaining: 1.23s\n",
      "256:\tlearn: 18.5261872\ttest: 31.1271558\tbest: 31.1271558 (256)\ttotal: 491ms\tremaining: 1.23s\n",
      "257:\tlearn: 18.5196153\ttest: 31.1215801\tbest: 31.1215801 (257)\ttotal: 492ms\tremaining: 1.23s\n",
      "258:\tlearn: 18.5170668\ttest: 31.1297234\tbest: 31.1215801 (257)\ttotal: 494ms\tremaining: 1.22s\n",
      "259:\tlearn: 18.5096474\ttest: 31.1214267\tbest: 31.1214267 (259)\ttotal: 495ms\tremaining: 1.22s\n",
      "260:\tlearn: 18.5035773\ttest: 31.1213259\tbest: 31.1213259 (260)\ttotal: 496ms\tremaining: 1.22s\n",
      "261:\tlearn: 18.4890982\ttest: 31.1040178\tbest: 31.1040178 (261)\ttotal: 497ms\tremaining: 1.21s\n",
      "262:\tlearn: 18.4776583\ttest: 31.0955153\tbest: 31.0955153 (262)\ttotal: 499ms\tremaining: 1.21s\n",
      "263:\tlearn: 18.4705776\ttest: 31.0893694\tbest: 31.0893694 (263)\ttotal: 501ms\tremaining: 1.21s\n",
      "264:\tlearn: 18.4577929\ttest: 31.1023493\tbest: 31.0893694 (263)\ttotal: 502ms\tremaining: 1.21s\n",
      "265:\tlearn: 18.4459445\ttest: 31.0824956\tbest: 31.0824956 (265)\ttotal: 504ms\tremaining: 1.2s\n",
      "266:\tlearn: 18.4363158\ttest: 31.0453552\tbest: 31.0453552 (266)\ttotal: 505ms\tremaining: 1.2s\n",
      "267:\tlearn: 18.4222819\ttest: 31.0319997\tbest: 31.0319997 (267)\ttotal: 507ms\tremaining: 1.2s\n",
      "268:\tlearn: 18.4169777\ttest: 31.0213198\tbest: 31.0213198 (268)\ttotal: 508ms\tremaining: 1.19s\n",
      "269:\tlearn: 18.4066018\ttest: 31.0165125\tbest: 31.0165125 (269)\ttotal: 510ms\tremaining: 1.19s\n",
      "270:\tlearn: 18.3956135\ttest: 31.0108344\tbest: 31.0108344 (270)\ttotal: 511ms\tremaining: 1.19s\n",
      "271:\tlearn: 18.3802592\ttest: 31.0019036\tbest: 31.0019036 (271)\ttotal: 512ms\tremaining: 1.18s\n",
      "272:\tlearn: 18.3698977\ttest: 30.9849945\tbest: 30.9849945 (272)\ttotal: 513ms\tremaining: 1.18s\n",
      "273:\tlearn: 18.3647409\ttest: 30.9827771\tbest: 30.9827771 (273)\ttotal: 515ms\tremaining: 1.18s\n",
      "274:\tlearn: 18.3561161\ttest: 30.9741214\tbest: 30.9741214 (274)\ttotal: 516ms\tremaining: 1.17s\n",
      "275:\tlearn: 18.3434116\ttest: 30.9750204\tbest: 30.9741214 (274)\ttotal: 517ms\tremaining: 1.17s\n",
      "276:\tlearn: 18.3245487\ttest: 30.9627104\tbest: 30.9627104 (276)\ttotal: 519ms\tremaining: 1.17s\n",
      "277:\tlearn: 18.3140111\ttest: 30.9684446\tbest: 30.9627104 (276)\ttotal: 520ms\tremaining: 1.17s\n",
      "278:\tlearn: 18.3072199\ttest: 30.9617329\tbest: 30.9617329 (278)\ttotal: 521ms\tremaining: 1.16s\n",
      "279:\tlearn: 18.2968954\ttest: 30.9513765\tbest: 30.9513765 (279)\ttotal: 523ms\tremaining: 1.16s\n",
      "280:\tlearn: 18.2875707\ttest: 30.9334935\tbest: 30.9334935 (280)\ttotal: 524ms\tremaining: 1.16s\n",
      "281:\tlearn: 18.2805780\ttest: 30.9224456\tbest: 30.9224456 (281)\ttotal: 525ms\tremaining: 1.15s\n",
      "282:\tlearn: 18.2667678\ttest: 30.9203620\tbest: 30.9203620 (282)\ttotal: 527ms\tremaining: 1.15s\n",
      "283:\tlearn: 18.2456356\ttest: 30.9053383\tbest: 30.9053383 (283)\ttotal: 528ms\tremaining: 1.15s\n",
      "284:\tlearn: 18.2419678\ttest: 30.9116769\tbest: 30.9053383 (283)\ttotal: 529ms\tremaining: 1.14s\n",
      "285:\tlearn: 18.2269842\ttest: 30.9077316\tbest: 30.9053383 (283)\ttotal: 530ms\tremaining: 1.14s\n",
      "286:\tlearn: 18.2184579\ttest: 30.8871133\tbest: 30.8871133 (286)\ttotal: 532ms\tremaining: 1.14s\n",
      "287:\tlearn: 18.2131494\ttest: 30.8886241\tbest: 30.8871133 (286)\ttotal: 533ms\tremaining: 1.13s\n",
      "288:\tlearn: 18.1965837\ttest: 30.8696528\tbest: 30.8696528 (288)\ttotal: 534ms\tremaining: 1.13s\n",
      "289:\tlearn: 18.1869047\ttest: 30.8414074\tbest: 30.8414074 (289)\ttotal: 535ms\tremaining: 1.13s\n",
      "290:\tlearn: 18.1834163\ttest: 30.8349539\tbest: 30.8349539 (290)\ttotal: 537ms\tremaining: 1.12s\n",
      "291:\tlearn: 18.1693776\ttest: 30.8197613\tbest: 30.8197613 (291)\ttotal: 538ms\tremaining: 1.12s\n",
      "292:\tlearn: 18.1648003\ttest: 30.8186664\tbest: 30.8186664 (292)\ttotal: 539ms\tremaining: 1.12s\n",
      "293:\tlearn: 18.1610101\ttest: 30.8340000\tbest: 30.8186664 (292)\ttotal: 541ms\tremaining: 1.12s\n",
      "294:\tlearn: 18.1502674\ttest: 30.7857953\tbest: 30.7857953 (294)\ttotal: 542ms\tremaining: 1.11s\n",
      "295:\tlearn: 18.1417416\ttest: 30.7844336\tbest: 30.7844336 (295)\ttotal: 543ms\tremaining: 1.11s\n",
      "296:\tlearn: 18.1346201\ttest: 30.7732000\tbest: 30.7732000 (296)\ttotal: 544ms\tremaining: 1.11s\n",
      "297:\tlearn: 18.1287209\ttest: 30.7668253\tbest: 30.7668253 (297)\ttotal: 546ms\tremaining: 1.1s\n",
      "298:\tlearn: 18.1198052\ttest: 30.7610757\tbest: 30.7610757 (298)\ttotal: 547ms\tremaining: 1.1s\n",
      "299:\tlearn: 18.1129247\ttest: 30.7622235\tbest: 30.7610757 (298)\ttotal: 548ms\tremaining: 1.1s\n",
      "300:\tlearn: 18.1046051\ttest: 30.7711179\tbest: 30.7610757 (298)\ttotal: 550ms\tremaining: 1.09s\n",
      "301:\tlearn: 18.0985722\ttest: 30.7687469\tbest: 30.7610757 (298)\ttotal: 551ms\tremaining: 1.09s\n",
      "302:\tlearn: 18.0835697\ttest: 30.7554141\tbest: 30.7554141 (302)\ttotal: 552ms\tremaining: 1.09s\n",
      "303:\tlearn: 18.0771008\ttest: 30.7508687\tbest: 30.7508687 (303)\ttotal: 554ms\tremaining: 1.09s\n",
      "304:\tlearn: 18.0768402\ttest: 30.7585484\tbest: 30.7508687 (303)\ttotal: 555ms\tremaining: 1.08s\n",
      "305:\tlearn: 18.0701026\ttest: 30.7588704\tbest: 30.7508687 (303)\ttotal: 556ms\tremaining: 1.08s\n",
      "306:\tlearn: 18.0654689\ttest: 30.7679607\tbest: 30.7508687 (303)\ttotal: 558ms\tremaining: 1.08s\n",
      "307:\tlearn: 18.0551876\ttest: 30.7387110\tbest: 30.7387110 (307)\ttotal: 559ms\tremaining: 1.08s\n",
      "308:\tlearn: 18.0478586\ttest: 30.7330309\tbest: 30.7330309 (308)\ttotal: 560ms\tremaining: 1.07s\n",
      "309:\tlearn: 18.0413411\ttest: 30.7294078\tbest: 30.7294078 (309)\ttotal: 561ms\tremaining: 1.07s\n",
      "310:\tlearn: 18.0300991\ttest: 30.7266444\tbest: 30.7266444 (310)\ttotal: 563ms\tremaining: 1.07s\n",
      "311:\tlearn: 18.0223021\ttest: 30.7384157\tbest: 30.7266444 (310)\ttotal: 564ms\tremaining: 1.06s\n",
      "312:\tlearn: 18.0114435\ttest: 30.7366277\tbest: 30.7266444 (310)\ttotal: 565ms\tremaining: 1.06s\n",
      "313:\tlearn: 18.0033058\ttest: 30.7447793\tbest: 30.7266444 (310)\ttotal: 567ms\tremaining: 1.06s\n",
      "314:\tlearn: 17.9938333\ttest: 30.7412869\tbest: 30.7266444 (310)\ttotal: 568ms\tremaining: 1.06s\n",
      "315:\tlearn: 17.9868711\ttest: 30.7448591\tbest: 30.7266444 (310)\ttotal: 569ms\tremaining: 1.05s\n",
      "316:\tlearn: 17.9774218\ttest: 30.7609720\tbest: 30.7266444 (310)\ttotal: 570ms\tremaining: 1.05s\n",
      "317:\tlearn: 17.9709839\ttest: 30.7632971\tbest: 30.7266444 (310)\ttotal: 572ms\tremaining: 1.05s\n",
      "318:\tlearn: 17.9613119\ttest: 30.7549587\tbest: 30.7266444 (310)\ttotal: 573ms\tremaining: 1.04s\n",
      "319:\tlearn: 17.9554341\ttest: 30.7287150\tbest: 30.7266444 (310)\ttotal: 574ms\tremaining: 1.04s\n",
      "320:\tlearn: 17.9450480\ttest: 30.7361609\tbest: 30.7266444 (310)\ttotal: 575ms\tremaining: 1.04s\n",
      "321:\tlearn: 17.9348676\ttest: 30.7309163\tbest: 30.7266444 (310)\ttotal: 576ms\tremaining: 1.04s\n",
      "322:\tlearn: 17.9272564\ttest: 30.7305676\tbest: 30.7266444 (310)\ttotal: 578ms\tremaining: 1.03s\n",
      "323:\tlearn: 17.9195775\ttest: 30.7275156\tbest: 30.7266444 (310)\ttotal: 579ms\tremaining: 1.03s\n",
      "324:\tlearn: 17.9127993\ttest: 30.7107624\tbest: 30.7107624 (324)\ttotal: 580ms\tremaining: 1.03s\n",
      "325:\tlearn: 17.8980786\ttest: 30.6784247\tbest: 30.6784247 (325)\ttotal: 582ms\tremaining: 1.02s\n",
      "326:\tlearn: 17.8834184\ttest: 30.6657272\tbest: 30.6657272 (326)\ttotal: 583ms\tremaining: 1.02s\n",
      "327:\tlearn: 17.8759381\ttest: 30.6590542\tbest: 30.6590542 (327)\ttotal: 584ms\tremaining: 1.02s\n",
      "328:\tlearn: 17.8608235\ttest: 30.6435189\tbest: 30.6435189 (328)\ttotal: 586ms\tremaining: 1.02s\n",
      "329:\tlearn: 17.8463356\ttest: 30.6438647\tbest: 30.6435189 (328)\ttotal: 587ms\tremaining: 1.01s\n",
      "330:\tlearn: 17.8371622\ttest: 30.6404772\tbest: 30.6404772 (330)\ttotal: 588ms\tremaining: 1.01s\n",
      "331:\tlearn: 17.8320866\ttest: 30.6438119\tbest: 30.6404772 (330)\ttotal: 589ms\tremaining: 1.01s\n",
      "332:\tlearn: 17.8264850\ttest: 30.6470077\tbest: 30.6404772 (330)\ttotal: 591ms\tremaining: 1.01s\n",
      "333:\tlearn: 17.8205537\ttest: 30.6464404\tbest: 30.6404772 (330)\ttotal: 592ms\tremaining: 1s\n",
      "334:\tlearn: 17.8099168\ttest: 30.6397940\tbest: 30.6397940 (334)\ttotal: 593ms\tremaining: 1s\n",
      "335:\tlearn: 17.8088474\ttest: 30.6513327\tbest: 30.6397940 (334)\ttotal: 594ms\tremaining: 1000ms\n",
      "336:\tlearn: 17.8039300\ttest: 30.6573874\tbest: 30.6397940 (334)\ttotal: 596ms\tremaining: 997ms\n",
      "337:\tlearn: 17.7967797\ttest: 30.6584025\tbest: 30.6397940 (334)\ttotal: 597ms\tremaining: 994ms\n",
      "338:\tlearn: 17.7905617\ttest: 30.6619788\tbest: 30.6397940 (334)\ttotal: 598ms\tremaining: 992ms\n",
      "339:\tlearn: 17.7831629\ttest: 30.6526012\tbest: 30.6397940 (334)\ttotal: 600ms\tremaining: 989ms\n",
      "340:\tlearn: 17.7779902\ttest: 30.6463433\tbest: 30.6397940 (334)\ttotal: 601ms\tremaining: 987ms\n",
      "341:\tlearn: 17.7660079\ttest: 30.6384357\tbest: 30.6384357 (341)\ttotal: 602ms\tremaining: 984ms\n",
      "342:\tlearn: 17.7551108\ttest: 30.6427087\tbest: 30.6384357 (341)\ttotal: 603ms\tremaining: 981ms\n",
      "343:\tlearn: 17.7512976\ttest: 30.6285157\tbest: 30.6285157 (343)\ttotal: 605ms\tremaining: 979ms\n",
      "344:\tlearn: 17.7439526\ttest: 30.6306205\tbest: 30.6285157 (343)\ttotal: 606ms\tremaining: 976ms\n",
      "345:\tlearn: 17.7370652\ttest: 30.6310285\tbest: 30.6285157 (343)\ttotal: 607ms\tremaining: 974ms\n",
      "346:\tlearn: 17.7294632\ttest: 30.6218290\tbest: 30.6218290 (346)\ttotal: 608ms\tremaining: 971ms\n",
      "347:\tlearn: 17.7232667\ttest: 30.6368161\tbest: 30.6218290 (346)\ttotal: 610ms\tremaining: 969ms\n",
      "348:\tlearn: 17.7111124\ttest: 30.6233235\tbest: 30.6218290 (346)\ttotal: 611ms\tremaining: 967ms\n",
      "349:\tlearn: 17.7024226\ttest: 30.6252516\tbest: 30.6218290 (346)\ttotal: 612ms\tremaining: 964ms\n",
      "350:\tlearn: 17.6932255\ttest: 30.6419077\tbest: 30.6218290 (346)\ttotal: 614ms\tremaining: 962ms\n",
      "351:\tlearn: 17.6850133\ttest: 30.6208148\tbest: 30.6208148 (351)\ttotal: 615ms\tremaining: 959ms\n",
      "352:\tlearn: 17.6680593\ttest: 30.6395539\tbest: 30.6208148 (351)\ttotal: 616ms\tremaining: 957ms\n",
      "353:\tlearn: 17.6606137\ttest: 30.6201870\tbest: 30.6201870 (353)\ttotal: 617ms\tremaining: 954ms\n",
      "354:\tlearn: 17.6511640\ttest: 30.6217234\tbest: 30.6201870 (353)\ttotal: 619ms\tremaining: 952ms\n",
      "355:\tlearn: 17.6407911\ttest: 30.6186191\tbest: 30.6186191 (355)\ttotal: 620ms\tremaining: 949ms\n",
      "356:\tlearn: 17.6373521\ttest: 30.5966279\tbest: 30.5966279 (356)\ttotal: 621ms\tremaining: 947ms\n",
      "357:\tlearn: 17.6262535\ttest: 30.6079881\tbest: 30.5966279 (356)\ttotal: 622ms\tremaining: 944ms\n",
      "358:\tlearn: 17.6200113\ttest: 30.5921538\tbest: 30.5921538 (358)\ttotal: 624ms\tremaining: 942ms\n",
      "359:\tlearn: 17.6131383\ttest: 30.5834393\tbest: 30.5834393 (359)\ttotal: 625ms\tremaining: 939ms\n",
      "360:\tlearn: 17.6018226\ttest: 30.5959420\tbest: 30.5834393 (359)\ttotal: 626ms\tremaining: 937ms\n",
      "361:\tlearn: 17.5928187\ttest: 30.5920652\tbest: 30.5834393 (359)\ttotal: 628ms\tremaining: 935ms\n",
      "362:\tlearn: 17.5871310\ttest: 30.5899761\tbest: 30.5834393 (359)\ttotal: 629ms\tremaining: 932ms\n",
      "363:\tlearn: 17.5870170\ttest: 30.5936108\tbest: 30.5834393 (359)\ttotal: 630ms\tremaining: 930ms\n",
      "364:\tlearn: 17.5802580\ttest: 30.5953683\tbest: 30.5834393 (359)\ttotal: 632ms\tremaining: 927ms\n",
      "365:\tlearn: 17.5743468\ttest: 30.5888704\tbest: 30.5834393 (359)\ttotal: 633ms\tremaining: 925ms\n",
      "366:\tlearn: 17.5619212\ttest: 30.5800249\tbest: 30.5800249 (366)\ttotal: 634ms\tremaining: 923ms\n",
      "367:\tlearn: 17.5568147\ttest: 30.5765885\tbest: 30.5765885 (367)\ttotal: 635ms\tremaining: 920ms\n",
      "368:\tlearn: 17.5517213\ttest: 30.5839627\tbest: 30.5765885 (367)\ttotal: 636ms\tremaining: 918ms\n",
      "369:\tlearn: 17.5479194\ttest: 30.5675933\tbest: 30.5675933 (369)\ttotal: 638ms\tremaining: 915ms\n",
      "370:\tlearn: 17.5411259\ttest: 30.5637401\tbest: 30.5637401 (370)\ttotal: 639ms\tremaining: 913ms\n",
      "371:\tlearn: 17.5357473\ttest: 30.5676749\tbest: 30.5637401 (370)\ttotal: 640ms\tremaining: 910ms\n",
      "372:\tlearn: 17.5320454\ttest: 30.5661906\tbest: 30.5637401 (370)\ttotal: 641ms\tremaining: 908ms\n",
      "373:\tlearn: 17.5259345\ttest: 30.5606749\tbest: 30.5606749 (373)\ttotal: 643ms\tremaining: 906ms\n",
      "374:\tlearn: 17.5236158\ttest: 30.5638022\tbest: 30.5606749 (373)\ttotal: 644ms\tremaining: 903ms\n",
      "375:\tlearn: 17.5099080\ttest: 30.5584905\tbest: 30.5584905 (375)\ttotal: 645ms\tremaining: 901ms\n",
      "376:\tlearn: 17.5008457\ttest: 30.5570519\tbest: 30.5570519 (376)\ttotal: 646ms\tremaining: 899ms\n",
      "377:\tlearn: 17.4952354\ttest: 30.5578748\tbest: 30.5570519 (376)\ttotal: 648ms\tremaining: 896ms\n",
      "378:\tlearn: 17.4915734\ttest: 30.5541770\tbest: 30.5541770 (378)\ttotal: 649ms\tremaining: 894ms\n",
      "379:\tlearn: 17.4850246\ttest: 30.5454926\tbest: 30.5454926 (379)\ttotal: 650ms\tremaining: 891ms\n",
      "380:\tlearn: 17.4801277\ttest: 30.5415431\tbest: 30.5415431 (380)\ttotal: 652ms\tremaining: 889ms\n",
      "381:\tlearn: 17.4723991\ttest: 30.5377066\tbest: 30.5377066 (381)\ttotal: 653ms\tremaining: 887ms\n",
      "382:\tlearn: 17.4640327\ttest: 30.5341448\tbest: 30.5341448 (382)\ttotal: 654ms\tremaining: 885ms\n",
      "383:\tlearn: 17.4570698\ttest: 30.5356069\tbest: 30.5341448 (382)\ttotal: 655ms\tremaining: 882ms\n",
      "384:\tlearn: 17.4505619\ttest: 30.5272258\tbest: 30.5272258 (384)\ttotal: 657ms\tremaining: 880ms\n",
      "385:\tlearn: 17.4425852\ttest: 30.5264001\tbest: 30.5264001 (385)\ttotal: 658ms\tremaining: 878ms\n",
      "386:\tlearn: 17.4393363\ttest: 30.5114504\tbest: 30.5114504 (386)\ttotal: 659ms\tremaining: 875ms\n",
      "387:\tlearn: 17.4279918\ttest: 30.5122543\tbest: 30.5114504 (386)\ttotal: 660ms\tremaining: 873ms\n",
      "388:\tlearn: 17.4146763\ttest: 30.4999790\tbest: 30.4999790 (388)\ttotal: 662ms\tremaining: 871ms\n",
      "389:\tlearn: 17.4074821\ttest: 30.4998347\tbest: 30.4998347 (389)\ttotal: 663ms\tremaining: 869ms\n",
      "390:\tlearn: 17.4001490\ttest: 30.4988015\tbest: 30.4988015 (390)\ttotal: 664ms\tremaining: 866ms\n",
      "391:\tlearn: 17.3960319\ttest: 30.5097934\tbest: 30.4988015 (390)\ttotal: 666ms\tremaining: 864ms\n",
      "392:\tlearn: 17.3922472\ttest: 30.5017186\tbest: 30.4988015 (390)\ttotal: 667ms\tremaining: 862ms\n",
      "393:\tlearn: 17.3856016\ttest: 30.5015838\tbest: 30.4988015 (390)\ttotal: 668ms\tremaining: 860ms\n",
      "394:\tlearn: 17.3789115\ttest: 30.4795326\tbest: 30.4795326 (394)\ttotal: 670ms\tremaining: 858ms\n",
      "395:\tlearn: 17.3738098\ttest: 30.4792525\tbest: 30.4792525 (395)\ttotal: 671ms\tremaining: 856ms\n",
      "396:\tlearn: 17.3709007\ttest: 30.4752328\tbest: 30.4752328 (396)\ttotal: 673ms\tremaining: 854ms\n",
      "397:\tlearn: 17.3642955\ttest: 30.4864720\tbest: 30.4752328 (396)\ttotal: 674ms\tremaining: 852ms\n",
      "398:\tlearn: 17.3563180\ttest: 30.4999962\tbest: 30.4752328 (396)\ttotal: 675ms\tremaining: 849ms\n",
      "399:\tlearn: 17.3457064\ttest: 30.4797709\tbest: 30.4752328 (396)\ttotal: 677ms\tremaining: 847ms\n",
      "400:\tlearn: 17.3401275\ttest: 30.4789513\tbest: 30.4752328 (396)\ttotal: 678ms\tremaining: 845ms\n",
      "401:\tlearn: 17.3329644\ttest: 30.4828667\tbest: 30.4752328 (396)\ttotal: 679ms\tremaining: 843ms\n",
      "402:\tlearn: 17.3246717\ttest: 30.4984072\tbest: 30.4752328 (396)\ttotal: 681ms\tremaining: 841ms\n",
      "403:\tlearn: 17.3170815\ttest: 30.4550790\tbest: 30.4550790 (403)\ttotal: 682ms\tremaining: 839ms\n",
      "404:\tlearn: 17.3063887\ttest: 30.4411949\tbest: 30.4411949 (404)\ttotal: 683ms\tremaining: 837ms\n",
      "405:\tlearn: 17.3010447\ttest: 30.4480362\tbest: 30.4411949 (404)\ttotal: 685ms\tremaining: 835ms\n",
      "406:\tlearn: 17.2891800\ttest: 30.4437882\tbest: 30.4411949 (404)\ttotal: 686ms\tremaining: 833ms\n",
      "407:\tlearn: 17.2826090\ttest: 30.4346558\tbest: 30.4346558 (407)\ttotal: 687ms\tremaining: 830ms\n",
      "408:\tlearn: 17.2735097\ttest: 30.4356316\tbest: 30.4346558 (407)\ttotal: 689ms\tremaining: 828ms\n",
      "409:\tlearn: 17.2629460\ttest: 30.4267554\tbest: 30.4267554 (409)\ttotal: 690ms\tremaining: 826ms\n",
      "410:\tlearn: 17.2568464\ttest: 30.4224895\tbest: 30.4224895 (410)\ttotal: 691ms\tremaining: 824ms\n",
      "411:\tlearn: 17.2440652\ttest: 30.4198085\tbest: 30.4198085 (411)\ttotal: 693ms\tremaining: 822ms\n",
      "412:\tlearn: 17.2323796\ttest: 30.4160716\tbest: 30.4160716 (412)\ttotal: 694ms\tremaining: 820ms\n",
      "413:\tlearn: 17.2254572\ttest: 30.4085926\tbest: 30.4085926 (413)\ttotal: 695ms\tremaining: 818ms\n",
      "414:\tlearn: 17.2134800\ttest: 30.3844004\tbest: 30.3844004 (414)\ttotal: 696ms\tremaining: 816ms\n",
      "415:\tlearn: 17.2064484\ttest: 30.3768351\tbest: 30.3768351 (415)\ttotal: 698ms\tremaining: 813ms\n",
      "416:\tlearn: 17.1980517\ttest: 30.3808204\tbest: 30.3768351 (415)\ttotal: 699ms\tremaining: 811ms\n",
      "417:\tlearn: 17.1876278\ttest: 30.3776589\tbest: 30.3768351 (415)\ttotal: 700ms\tremaining: 809ms\n",
      "418:\tlearn: 17.1825032\ttest: 30.3780931\tbest: 30.3768351 (415)\ttotal: 702ms\tremaining: 807ms\n",
      "419:\tlearn: 17.1752246\ttest: 30.3785177\tbest: 30.3768351 (415)\ttotal: 703ms\tremaining: 805ms\n",
      "420:\tlearn: 17.1702901\ttest: 30.3883558\tbest: 30.3768351 (415)\ttotal: 704ms\tremaining: 803ms\n",
      "421:\tlearn: 17.1581913\ttest: 30.3842898\tbest: 30.3768351 (415)\ttotal: 705ms\tremaining: 801ms\n",
      "422:\tlearn: 17.1544201\ttest: 30.3889852\tbest: 30.3768351 (415)\ttotal: 707ms\tremaining: 799ms\n",
      "423:\tlearn: 17.1480397\ttest: 30.3876734\tbest: 30.3768351 (415)\ttotal: 708ms\tremaining: 797ms\n",
      "424:\tlearn: 17.1400685\ttest: 30.3896535\tbest: 30.3768351 (415)\ttotal: 709ms\tremaining: 794ms\n",
      "425:\tlearn: 17.1365916\ttest: 30.3900097\tbest: 30.3768351 (415)\ttotal: 711ms\tremaining: 792ms\n",
      "426:\tlearn: 17.1272453\ttest: 30.3854955\tbest: 30.3768351 (415)\ttotal: 712ms\tremaining: 791ms\n",
      "427:\tlearn: 17.1209144\ttest: 30.3853946\tbest: 30.3768351 (415)\ttotal: 714ms\tremaining: 789ms\n",
      "428:\tlearn: 17.1164894\ttest: 30.3623674\tbest: 30.3623674 (428)\ttotal: 715ms\tremaining: 787ms\n",
      "429:\tlearn: 17.1076733\ttest: 30.3576531\tbest: 30.3576531 (429)\ttotal: 716ms\tremaining: 784ms\n",
      "430:\tlearn: 17.1004118\ttest: 30.3561218\tbest: 30.3561218 (430)\ttotal: 717ms\tremaining: 782ms\n",
      "431:\tlearn: 17.0950429\ttest: 30.3533685\tbest: 30.3533685 (431)\ttotal: 719ms\tremaining: 780ms\n",
      "432:\tlearn: 17.0867643\ttest: 30.3541147\tbest: 30.3533685 (431)\ttotal: 720ms\tremaining: 778ms\n",
      "433:\tlearn: 17.0803468\ttest: 30.3570132\tbest: 30.3533685 (431)\ttotal: 722ms\tremaining: 776ms\n",
      "434:\tlearn: 17.0732358\ttest: 30.3545035\tbest: 30.3533685 (431)\ttotal: 723ms\tremaining: 775ms\n",
      "435:\tlearn: 17.0664307\ttest: 30.3478999\tbest: 30.3478999 (435)\ttotal: 724ms\tremaining: 773ms\n",
      "436:\tlearn: 17.0600636\ttest: 30.3325114\tbest: 30.3325114 (436)\ttotal: 726ms\tremaining: 771ms\n",
      "437:\tlearn: 17.0485851\ttest: 30.3264633\tbest: 30.3264633 (437)\ttotal: 727ms\tremaining: 769ms\n",
      "438:\tlearn: 17.0354437\ttest: 30.3351718\tbest: 30.3264633 (437)\ttotal: 728ms\tremaining: 767ms\n",
      "439:\tlearn: 17.0240350\ttest: 30.3284268\tbest: 30.3264633 (437)\ttotal: 730ms\tremaining: 764ms\n",
      "440:\tlearn: 17.0176558\ttest: 30.3217983\tbest: 30.3217983 (440)\ttotal: 731ms\tremaining: 762ms\n",
      "441:\tlearn: 17.0124549\ttest: 30.3245101\tbest: 30.3217983 (440)\ttotal: 732ms\tremaining: 760ms\n",
      "442:\tlearn: 17.0062285\ttest: 30.2860076\tbest: 30.2860076 (442)\ttotal: 734ms\tremaining: 758ms\n",
      "443:\tlearn: 17.0030132\ttest: 30.2837776\tbest: 30.2837776 (443)\ttotal: 735ms\tremaining: 756ms\n",
      "444:\tlearn: 16.9987849\ttest: 30.2916550\tbest: 30.2837776 (443)\ttotal: 736ms\tremaining: 754ms\n",
      "445:\tlearn: 16.9978477\ttest: 30.2954910\tbest: 30.2837776 (443)\ttotal: 737ms\tremaining: 752ms\n",
      "446:\tlearn: 16.9930473\ttest: 30.2909023\tbest: 30.2837776 (443)\ttotal: 739ms\tremaining: 750ms\n",
      "447:\tlearn: 16.9870736\ttest: 30.2753657\tbest: 30.2753657 (447)\ttotal: 740ms\tremaining: 748ms\n",
      "448:\tlearn: 16.9806306\ttest: 30.2687671\tbest: 30.2687671 (448)\ttotal: 741ms\tremaining: 746ms\n",
      "449:\tlearn: 16.9758684\ttest: 30.2757172\tbest: 30.2687671 (448)\ttotal: 742ms\tremaining: 744ms\n",
      "450:\tlearn: 16.9711697\ttest: 30.2695848\tbest: 30.2687671 (448)\ttotal: 744ms\tremaining: 742ms\n",
      "451:\tlearn: 16.9613260\ttest: 30.2830981\tbest: 30.2687671 (448)\ttotal: 745ms\tremaining: 740ms\n",
      "452:\tlearn: 16.9550820\ttest: 30.2769246\tbest: 30.2687671 (448)\ttotal: 746ms\tremaining: 738ms\n",
      "453:\tlearn: 16.9502522\ttest: 30.2781621\tbest: 30.2687671 (448)\ttotal: 748ms\tremaining: 736ms\n",
      "454:\tlearn: 16.9472052\ttest: 30.2799274\tbest: 30.2687671 (448)\ttotal: 749ms\tremaining: 734ms\n",
      "455:\tlearn: 16.9443580\ttest: 30.2777836\tbest: 30.2687671 (448)\ttotal: 750ms\tremaining: 732ms\n",
      "456:\tlearn: 16.9390037\ttest: 30.2956442\tbest: 30.2687671 (448)\ttotal: 751ms\tremaining: 730ms\n",
      "457:\tlearn: 16.9353675\ttest: 30.3124459\tbest: 30.2687671 (448)\ttotal: 753ms\tremaining: 728ms\n",
      "458:\tlearn: 16.9266732\ttest: 30.2951056\tbest: 30.2687671 (448)\ttotal: 754ms\tremaining: 726ms\n",
      "459:\tlearn: 16.9198718\ttest: 30.3054236\tbest: 30.2687671 (448)\ttotal: 755ms\tremaining: 724ms\n",
      "460:\tlearn: 16.9108469\ttest: 30.3033068\tbest: 30.2687671 (448)\ttotal: 756ms\tremaining: 722ms\n",
      "461:\tlearn: 16.9022725\ttest: 30.3009519\tbest: 30.2687671 (448)\ttotal: 758ms\tremaining: 720ms\n",
      "462:\tlearn: 16.8934371\ttest: 30.3033653\tbest: 30.2687671 (448)\ttotal: 759ms\tremaining: 718ms\n",
      "463:\tlearn: 16.8861828\ttest: 30.3014006\tbest: 30.2687671 (448)\ttotal: 760ms\tremaining: 716ms\n",
      "464:\tlearn: 16.8795485\ttest: 30.2994362\tbest: 30.2687671 (448)\ttotal: 761ms\tremaining: 714ms\n",
      "465:\tlearn: 16.8723635\ttest: 30.2946869\tbest: 30.2687671 (448)\ttotal: 763ms\tremaining: 712ms\n",
      "466:\tlearn: 16.8648150\ttest: 30.2801624\tbest: 30.2687671 (448)\ttotal: 764ms\tremaining: 710ms\n",
      "467:\tlearn: 16.8573017\ttest: 30.2847731\tbest: 30.2687671 (448)\ttotal: 765ms\tremaining: 708ms\n",
      "468:\tlearn: 16.8538832\ttest: 30.2806386\tbest: 30.2687671 (448)\ttotal: 766ms\tremaining: 706ms\n",
      "469:\tlearn: 16.8467808\ttest: 30.2818522\tbest: 30.2687671 (448)\ttotal: 768ms\tremaining: 704ms\n",
      "470:\tlearn: 16.8365397\ttest: 30.2765488\tbest: 30.2687671 (448)\ttotal: 769ms\tremaining: 702ms\n",
      "471:\tlearn: 16.8335120\ttest: 30.2838882\tbest: 30.2687671 (448)\ttotal: 770ms\tremaining: 700ms\n",
      "472:\tlearn: 16.8266951\ttest: 30.2879229\tbest: 30.2687671 (448)\ttotal: 772ms\tremaining: 698ms\n",
      "473:\tlearn: 16.8149687\ttest: 30.2716125\tbest: 30.2687671 (448)\ttotal: 773ms\tremaining: 696ms\n",
      "474:\tlearn: 16.8079259\ttest: 30.2680705\tbest: 30.2680705 (474)\ttotal: 774ms\tremaining: 694ms\n",
      "475:\tlearn: 16.8006468\ttest: 30.2519115\tbest: 30.2519115 (475)\ttotal: 775ms\tremaining: 692ms\n",
      "476:\tlearn: 16.7959679\ttest: 30.2505998\tbest: 30.2505998 (476)\ttotal: 777ms\tremaining: 690ms\n",
      "477:\tlearn: 16.7871100\ttest: 30.2525377\tbest: 30.2505998 (476)\ttotal: 778ms\tremaining: 688ms\n",
      "478:\tlearn: 16.7842377\ttest: 30.2344606\tbest: 30.2344606 (478)\ttotal: 779ms\tremaining: 686ms\n",
      "479:\tlearn: 16.7779166\ttest: 30.2345732\tbest: 30.2344606 (478)\ttotal: 780ms\tremaining: 685ms\n",
      "480:\tlearn: 16.7653430\ttest: 30.2101345\tbest: 30.2101345 (480)\ttotal: 782ms\tremaining: 683ms\n",
      "481:\tlearn: 16.7598582\ttest: 30.2037118\tbest: 30.2037118 (481)\ttotal: 783ms\tremaining: 681ms\n",
      "482:\tlearn: 16.7518141\ttest: 30.1998441\tbest: 30.1998441 (482)\ttotal: 784ms\tremaining: 679ms\n",
      "483:\tlearn: 16.7470568\ttest: 30.2033422\tbest: 30.1998441 (482)\ttotal: 786ms\tremaining: 677ms\n",
      "484:\tlearn: 16.7406813\ttest: 30.1905316\tbest: 30.1905316 (484)\ttotal: 787ms\tremaining: 675ms\n",
      "485:\tlearn: 16.7333209\ttest: 30.1854866\tbest: 30.1854866 (485)\ttotal: 788ms\tremaining: 673ms\n",
      "486:\tlearn: 16.7291662\ttest: 30.1862456\tbest: 30.1854866 (485)\ttotal: 789ms\tremaining: 671ms\n",
      "487:\tlearn: 16.7233140\ttest: 30.1804380\tbest: 30.1804380 (487)\ttotal: 791ms\tremaining: 669ms\n",
      "488:\tlearn: 16.7126245\ttest: 30.1871267\tbest: 30.1804380 (487)\ttotal: 792ms\tremaining: 667ms\n",
      "489:\tlearn: 16.7037972\ttest: 30.1873954\tbest: 30.1804380 (487)\ttotal: 793ms\tremaining: 665ms\n",
      "490:\tlearn: 16.7007237\ttest: 30.1874209\tbest: 30.1804380 (487)\ttotal: 794ms\tremaining: 663ms\n",
      "491:\tlearn: 16.6972267\ttest: 30.1867119\tbest: 30.1804380 (487)\ttotal: 796ms\tremaining: 662ms\n",
      "492:\tlearn: 16.6898191\ttest: 30.1928378\tbest: 30.1804380 (487)\ttotal: 797ms\tremaining: 660ms\n",
      "493:\tlearn: 16.6834099\ttest: 30.1943150\tbest: 30.1804380 (487)\ttotal: 799ms\tremaining: 658ms\n",
      "494:\tlearn: 16.6716771\ttest: 30.1772306\tbest: 30.1772306 (494)\ttotal: 800ms\tremaining: 656ms\n",
      "495:\tlearn: 16.6682253\ttest: 30.1765689\tbest: 30.1765689 (495)\ttotal: 801ms\tremaining: 654ms\n",
      "496:\tlearn: 16.6593127\ttest: 30.1795275\tbest: 30.1765689 (495)\ttotal: 802ms\tremaining: 652ms\n",
      "497:\tlearn: 16.6524614\ttest: 30.1610878\tbest: 30.1610878 (497)\ttotal: 804ms\tremaining: 650ms\n",
      "498:\tlearn: 16.6436054\ttest: 30.1217623\tbest: 30.1217623 (498)\ttotal: 805ms\tremaining: 649ms\n",
      "499:\tlearn: 16.6380419\ttest: 30.1123640\tbest: 30.1123640 (499)\ttotal: 806ms\tremaining: 647ms\n",
      "500:\tlearn: 16.6323781\ttest: 30.1100665\tbest: 30.1100665 (500)\ttotal: 808ms\tremaining: 645ms\n",
      "501:\tlearn: 16.6233165\ttest: 30.1213233\tbest: 30.1100665 (500)\ttotal: 809ms\tremaining: 643ms\n",
      "502:\tlearn: 16.6193317\ttest: 30.1093982\tbest: 30.1093982 (502)\ttotal: 810ms\tremaining: 641ms\n",
      "503:\tlearn: 16.6177899\ttest: 30.1172521\tbest: 30.1093982 (502)\ttotal: 811ms\tremaining: 639ms\n",
      "504:\tlearn: 16.6113304\ttest: 30.1063283\tbest: 30.1063283 (504)\ttotal: 813ms\tremaining: 637ms\n",
      "505:\tlearn: 16.6056278\ttest: 30.1041752\tbest: 30.1041752 (505)\ttotal: 814ms\tremaining: 635ms\n",
      "506:\tlearn: 16.6019077\ttest: 30.1011581\tbest: 30.1011581 (506)\ttotal: 815ms\tremaining: 633ms\n",
      "507:\tlearn: 16.5962415\ttest: 30.1012022\tbest: 30.1011581 (506)\ttotal: 816ms\tremaining: 632ms\n",
      "508:\tlearn: 16.5911122\ttest: 30.0904654\tbest: 30.0904654 (508)\ttotal: 818ms\tremaining: 630ms\n",
      "509:\tlearn: 16.5880633\ttest: 30.0921960\tbest: 30.0904654 (508)\ttotal: 819ms\tremaining: 628ms\n",
      "510:\tlearn: 16.5851963\ttest: 30.0915831\tbest: 30.0904654 (508)\ttotal: 820ms\tremaining: 626ms\n",
      "511:\tlearn: 16.5750643\ttest: 30.0944716\tbest: 30.0904654 (508)\ttotal: 821ms\tremaining: 624ms\n",
      "512:\tlearn: 16.5634693\ttest: 30.0781644\tbest: 30.0781644 (512)\ttotal: 823ms\tremaining: 622ms\n",
      "513:\tlearn: 16.5593904\ttest: 30.0650406\tbest: 30.0650406 (513)\ttotal: 824ms\tremaining: 620ms\n",
      "514:\tlearn: 16.5534967\ttest: 30.0683145\tbest: 30.0650406 (513)\ttotal: 825ms\tremaining: 619ms\n",
      "515:\tlearn: 16.5496253\ttest: 30.0662992\tbest: 30.0650406 (513)\ttotal: 827ms\tremaining: 617ms\n",
      "516:\tlearn: 16.5482697\ttest: 30.0573882\tbest: 30.0573882 (516)\ttotal: 828ms\tremaining: 615ms\n",
      "517:\tlearn: 16.5460515\ttest: 30.0569132\tbest: 30.0569132 (517)\ttotal: 830ms\tremaining: 613ms\n",
      "518:\tlearn: 16.5415129\ttest: 30.0546353\tbest: 30.0546353 (518)\ttotal: 831ms\tremaining: 612ms\n",
      "519:\tlearn: 16.5353632\ttest: 30.0572114\tbest: 30.0546353 (518)\ttotal: 832ms\tremaining: 610ms\n",
      "520:\tlearn: 16.5297064\ttest: 30.0357709\tbest: 30.0357709 (520)\ttotal: 834ms\tremaining: 608ms\n",
      "521:\tlearn: 16.5260552\ttest: 30.0354590\tbest: 30.0354590 (521)\ttotal: 835ms\tremaining: 606ms\n",
      "522:\tlearn: 16.5171574\ttest: 30.0296387\tbest: 30.0296387 (522)\ttotal: 836ms\tremaining: 604ms\n",
      "523:\tlearn: 16.5119768\ttest: 30.0304066\tbest: 30.0296387 (522)\ttotal: 837ms\tremaining: 602ms\n",
      "524:\tlearn: 16.5020512\ttest: 30.0346146\tbest: 30.0296387 (522)\ttotal: 839ms\tremaining: 601ms\n",
      "525:\tlearn: 16.4943567\ttest: 30.0378948\tbest: 30.0296387 (522)\ttotal: 840ms\tremaining: 599ms\n",
      "526:\tlearn: 16.4928880\ttest: 30.0405323\tbest: 30.0296387 (522)\ttotal: 841ms\tremaining: 597ms\n",
      "527:\tlearn: 16.4881468\ttest: 30.0402511\tbest: 30.0296387 (522)\ttotal: 842ms\tremaining: 595ms\n",
      "528:\tlearn: 16.4804376\ttest: 30.0425809\tbest: 30.0296387 (522)\ttotal: 844ms\tremaining: 593ms\n",
      "529:\tlearn: 16.4802343\ttest: 30.0383644\tbest: 30.0296387 (522)\ttotal: 845ms\tremaining: 591ms\n",
      "530:\tlearn: 16.4762947\ttest: 30.0415978\tbest: 30.0296387 (522)\ttotal: 846ms\tremaining: 590ms\n",
      "531:\tlearn: 16.4734465\ttest: 30.0372315\tbest: 30.0296387 (522)\ttotal: 847ms\tremaining: 588ms\n",
      "532:\tlearn: 16.4697004\ttest: 30.0341183\tbest: 30.0296387 (522)\ttotal: 849ms\tremaining: 586ms\n",
      "533:\tlearn: 16.4662831\ttest: 30.0418176\tbest: 30.0296387 (522)\ttotal: 850ms\tremaining: 584ms\n",
      "534:\tlearn: 16.4604757\ttest: 30.0435646\tbest: 30.0296387 (522)\ttotal: 851ms\tremaining: 582ms\n",
      "535:\tlearn: 16.4560147\ttest: 30.0433422\tbest: 30.0296387 (522)\ttotal: 853ms\tremaining: 581ms\n",
      "536:\tlearn: 16.4521397\ttest: 30.0285104\tbest: 30.0285104 (536)\ttotal: 854ms\tremaining: 579ms\n",
      "537:\tlearn: 16.4437962\ttest: 30.0284721\tbest: 30.0284721 (537)\ttotal: 855ms\tremaining: 577ms\n",
      "538:\tlearn: 16.4384670\ttest: 30.0120696\tbest: 30.0120696 (538)\ttotal: 857ms\tremaining: 575ms\n",
      "539:\tlearn: 16.4287145\ttest: 30.0077154\tbest: 30.0077154 (539)\ttotal: 858ms\tremaining: 574ms\n",
      "540:\tlearn: 16.4219737\ttest: 30.0120933\tbest: 30.0077154 (539)\ttotal: 860ms\tremaining: 572ms\n",
      "541:\tlearn: 16.4171185\ttest: 30.0164280\tbest: 30.0077154 (539)\ttotal: 861ms\tremaining: 570ms\n",
      "542:\tlearn: 16.4102751\ttest: 30.0188277\tbest: 30.0077154 (539)\ttotal: 862ms\tremaining: 569ms\n",
      "543:\tlearn: 16.4070412\ttest: 30.0185659\tbest: 30.0077154 (539)\ttotal: 864ms\tremaining: 567ms\n",
      "544:\tlearn: 16.4036972\ttest: 30.0176045\tbest: 30.0077154 (539)\ttotal: 865ms\tremaining: 565ms\n",
      "545:\tlearn: 16.3974898\ttest: 30.0179648\tbest: 30.0077154 (539)\ttotal: 867ms\tremaining: 564ms\n",
      "546:\tlearn: 16.3902218\ttest: 30.0162470\tbest: 30.0077154 (539)\ttotal: 868ms\tremaining: 562ms\n",
      "547:\tlearn: 16.3858841\ttest: 30.0175291\tbest: 30.0077154 (539)\ttotal: 869ms\tremaining: 560ms\n",
      "548:\tlearn: 16.3819078\ttest: 30.0108649\tbest: 30.0077154 (539)\ttotal: 871ms\tremaining: 558ms\n",
      "549:\tlearn: 16.3745624\ttest: 29.9978482\tbest: 29.9978482 (549)\ttotal: 872ms\tremaining: 556ms\n",
      "550:\tlearn: 16.3668759\ttest: 30.0020004\tbest: 29.9978482 (549)\ttotal: 873ms\tremaining: 555ms\n",
      "551:\tlearn: 16.3664043\ttest: 30.0075055\tbest: 29.9978482 (549)\ttotal: 874ms\tremaining: 553ms\n",
      "552:\tlearn: 16.3630774\ttest: 30.0095908\tbest: 29.9978482 (549)\ttotal: 876ms\tremaining: 551ms\n",
      "553:\tlearn: 16.3582712\ttest: 29.9921497\tbest: 29.9921497 (553)\ttotal: 877ms\tremaining: 549ms\n",
      "554:\tlearn: 16.3524112\ttest: 29.9955027\tbest: 29.9921497 (553)\ttotal: 878ms\tremaining: 547ms\n",
      "555:\tlearn: 16.3479590\ttest: 29.9994500\tbest: 29.9921497 (553)\ttotal: 879ms\tremaining: 546ms\n",
      "556:\tlearn: 16.3441764\ttest: 29.9989323\tbest: 29.9921497 (553)\ttotal: 881ms\tremaining: 544ms\n",
      "557:\tlearn: 16.3399718\ttest: 29.9837947\tbest: 29.9837947 (557)\ttotal: 882ms\tremaining: 542ms\n",
      "558:\tlearn: 16.3365999\ttest: 29.9876650\tbest: 29.9837947 (557)\ttotal: 883ms\tremaining: 540ms\n",
      "559:\tlearn: 16.3288674\ttest: 29.9922703\tbest: 29.9837947 (557)\ttotal: 884ms\tremaining: 539ms\n",
      "560:\tlearn: 16.3251149\ttest: 30.0036760\tbest: 29.9837947 (557)\ttotal: 886ms\tremaining: 537ms\n",
      "561:\tlearn: 16.3231277\ttest: 30.0012000\tbest: 29.9837947 (557)\ttotal: 887ms\tremaining: 535ms\n",
      "562:\tlearn: 16.3159312\ttest: 30.0041017\tbest: 29.9837947 (557)\ttotal: 889ms\tremaining: 534ms\n",
      "563:\tlearn: 16.3125079\ttest: 30.0046298\tbest: 29.9837947 (557)\ttotal: 890ms\tremaining: 532ms\n",
      "564:\tlearn: 16.3072523\ttest: 30.0039391\tbest: 29.9837947 (557)\ttotal: 891ms\tremaining: 530ms\n",
      "565:\tlearn: 16.2994400\ttest: 29.9953579\tbest: 29.9837947 (557)\ttotal: 893ms\tremaining: 528ms\n",
      "566:\tlearn: 16.2918788\ttest: 30.0121020\tbest: 29.9837947 (557)\ttotal: 894ms\tremaining: 527ms\n",
      "567:\tlearn: 16.2893393\ttest: 30.0132773\tbest: 29.9837947 (557)\ttotal: 895ms\tremaining: 525ms\n",
      "568:\tlearn: 16.2879900\ttest: 30.0118674\tbest: 29.9837947 (557)\ttotal: 896ms\tremaining: 523ms\n",
      "569:\tlearn: 16.2813819\ttest: 30.0095754\tbest: 29.9837947 (557)\ttotal: 898ms\tremaining: 521ms\n",
      "570:\tlearn: 16.2785800\ttest: 30.0130223\tbest: 29.9837947 (557)\ttotal: 899ms\tremaining: 519ms\n",
      "571:\tlearn: 16.2741086\ttest: 30.0162795\tbest: 29.9837947 (557)\ttotal: 900ms\tremaining: 518ms\n",
      "572:\tlearn: 16.2716823\ttest: 30.0100839\tbest: 29.9837947 (557)\ttotal: 901ms\tremaining: 516ms\n",
      "573:\tlearn: 16.2595803\ttest: 30.0056044\tbest: 29.9837947 (557)\ttotal: 903ms\tremaining: 514ms\n",
      "574:\tlearn: 16.2494577\ttest: 30.0079100\tbest: 29.9837947 (557)\ttotal: 904ms\tremaining: 512ms\n",
      "575:\tlearn: 16.2456741\ttest: 30.0081334\tbest: 29.9837947 (557)\ttotal: 905ms\tremaining: 511ms\n",
      "576:\tlearn: 16.2404017\ttest: 30.0047452\tbest: 29.9837947 (557)\ttotal: 907ms\tremaining: 509ms\n",
      "577:\tlearn: 16.2365560\ttest: 30.0059279\tbest: 29.9837947 (557)\ttotal: 908ms\tremaining: 508ms\n",
      "578:\tlearn: 16.2291203\ttest: 30.0163995\tbest: 29.9837947 (557)\ttotal: 909ms\tremaining: 506ms\n",
      "579:\tlearn: 16.2235930\ttest: 30.0167213\tbest: 29.9837947 (557)\ttotal: 911ms\tremaining: 504ms\n",
      "580:\tlearn: 16.2106877\ttest: 30.0040927\tbest: 29.9837947 (557)\ttotal: 912ms\tremaining: 502ms\n",
      "581:\tlearn: 16.2039602\ttest: 30.0055762\tbest: 29.9837947 (557)\ttotal: 913ms\tremaining: 501ms\n",
      "582:\tlearn: 16.1984294\ttest: 30.0072753\tbest: 29.9837947 (557)\ttotal: 914ms\tremaining: 499ms\n",
      "583:\tlearn: 16.1915870\ttest: 30.0078139\tbest: 29.9837947 (557)\ttotal: 916ms\tremaining: 497ms\n",
      "584:\tlearn: 16.1891954\ttest: 30.0100437\tbest: 29.9837947 (557)\ttotal: 917ms\tremaining: 495ms\n",
      "585:\tlearn: 16.1839952\ttest: 30.0026924\tbest: 29.9837947 (557)\ttotal: 918ms\tremaining: 494ms\n",
      "586:\tlearn: 16.1772087\ttest: 30.0037771\tbest: 29.9837947 (557)\ttotal: 919ms\tremaining: 492ms\n",
      "587:\tlearn: 16.1718788\ttest: 30.0077404\tbest: 29.9837947 (557)\ttotal: 921ms\tremaining: 490ms\n",
      "588:\tlearn: 16.1654760\ttest: 30.0094460\tbest: 29.9837947 (557)\ttotal: 922ms\tremaining: 488ms\n",
      "589:\tlearn: 16.1593264\ttest: 29.9960680\tbest: 29.9837947 (557)\ttotal: 923ms\tremaining: 487ms\n",
      "590:\tlearn: 16.1535031\ttest: 29.9939446\tbest: 29.9837947 (557)\ttotal: 925ms\tremaining: 485ms\n",
      "591:\tlearn: 16.1462189\ttest: 29.9858945\tbest: 29.9837947 (557)\ttotal: 926ms\tremaining: 483ms\n",
      "592:\tlearn: 16.1402812\ttest: 29.9862738\tbest: 29.9837947 (557)\ttotal: 927ms\tremaining: 481ms\n",
      "593:\tlearn: 16.1349113\ttest: 29.9873841\tbest: 29.9837947 (557)\ttotal: 928ms\tremaining: 480ms\n",
      "594:\tlearn: 16.1320450\ttest: 29.9826000\tbest: 29.9826000 (594)\ttotal: 930ms\tremaining: 478ms\n",
      "595:\tlearn: 16.1287669\ttest: 29.9910783\tbest: 29.9826000 (594)\ttotal: 931ms\tremaining: 476ms\n",
      "596:\tlearn: 16.1256142\ttest: 29.9903622\tbest: 29.9826000 (594)\ttotal: 932ms\tremaining: 475ms\n",
      "597:\tlearn: 16.1209779\ttest: 29.9694075\tbest: 29.9694075 (597)\ttotal: 933ms\tremaining: 473ms\n",
      "598:\tlearn: 16.1138425\ttest: 29.9676059\tbest: 29.9676059 (598)\ttotal: 935ms\tremaining: 471ms\n",
      "599:\tlearn: 16.1123279\ttest: 29.9602373\tbest: 29.9602373 (599)\ttotal: 936ms\tremaining: 470ms\n",
      "600:\tlearn: 16.1094890\ttest: 29.9663937\tbest: 29.9602373 (599)\ttotal: 937ms\tremaining: 468ms\n",
      "601:\tlearn: 16.1027073\ttest: 29.9560560\tbest: 29.9560560 (601)\ttotal: 938ms\tremaining: 466ms\n",
      "602:\tlearn: 16.0936598\ttest: 29.9526976\tbest: 29.9526976 (602)\ttotal: 940ms\tremaining: 464ms\n",
      "603:\tlearn: 16.0907660\ttest: 29.9607888\tbest: 29.9526976 (602)\ttotal: 941ms\tremaining: 463ms\n",
      "604:\tlearn: 16.0865210\ttest: 29.9605591\tbest: 29.9526976 (602)\ttotal: 942ms\tremaining: 461ms\n",
      "605:\tlearn: 16.0801399\ttest: 29.9587234\tbest: 29.9526976 (602)\ttotal: 943ms\tremaining: 459ms\n",
      "606:\tlearn: 16.0748100\ttest: 29.9265569\tbest: 29.9265569 (606)\ttotal: 945ms\tremaining: 458ms\n",
      "607:\tlearn: 16.0681764\ttest: 29.9305181\tbest: 29.9265569 (606)\ttotal: 946ms\tremaining: 456ms\n",
      "608:\tlearn: 16.0653961\ttest: 29.9310760\tbest: 29.9265569 (606)\ttotal: 947ms\tremaining: 454ms\n",
      "609:\tlearn: 16.0603235\ttest: 29.9327256\tbest: 29.9265569 (606)\ttotal: 949ms\tremaining: 453ms\n",
      "610:\tlearn: 16.0544769\ttest: 29.9353281\tbest: 29.9265569 (606)\ttotal: 950ms\tremaining: 451ms\n",
      "611:\tlearn: 16.0519447\ttest: 29.9354494\tbest: 29.9265569 (606)\ttotal: 951ms\tremaining: 449ms\n",
      "612:\tlearn: 16.0440271\ttest: 29.9393258\tbest: 29.9265569 (606)\ttotal: 952ms\tremaining: 447ms\n",
      "613:\tlearn: 16.0390556\ttest: 29.9455549\tbest: 29.9265569 (606)\ttotal: 954ms\tremaining: 446ms\n",
      "614:\tlearn: 16.0299712\ttest: 29.9406658\tbest: 29.9265569 (606)\ttotal: 955ms\tremaining: 444ms\n",
      "615:\tlearn: 16.0229992\ttest: 29.9363919\tbest: 29.9265569 (606)\ttotal: 956ms\tremaining: 442ms\n",
      "616:\tlearn: 16.0176908\ttest: 29.9389474\tbest: 29.9265569 (606)\ttotal: 957ms\tremaining: 441ms\n",
      "617:\tlearn: 16.0090642\ttest: 29.9354852\tbest: 29.9265569 (606)\ttotal: 959ms\tremaining: 439ms\n",
      "618:\tlearn: 16.0029971\ttest: 29.9319107\tbest: 29.9265569 (606)\ttotal: 960ms\tremaining: 437ms\n",
      "619:\tlearn: 15.9991897\ttest: 29.9350550\tbest: 29.9265569 (606)\ttotal: 961ms\tremaining: 436ms\n",
      "620:\tlearn: 15.9945604\ttest: 29.9255491\tbest: 29.9255491 (620)\ttotal: 963ms\tremaining: 434ms\n",
      "621:\tlearn: 15.9885064\ttest: 29.9219214\tbest: 29.9219214 (621)\ttotal: 964ms\tremaining: 432ms\n",
      "622:\tlearn: 15.9848479\ttest: 29.9229645\tbest: 29.9219214 (621)\ttotal: 965ms\tremaining: 431ms\n",
      "623:\tlearn: 15.9842361\ttest: 29.9326746\tbest: 29.9219214 (621)\ttotal: 966ms\tremaining: 429ms\n",
      "624:\tlearn: 15.9772002\ttest: 29.9350183\tbest: 29.9219214 (621)\ttotal: 968ms\tremaining: 427ms\n",
      "625:\tlearn: 15.9720966\ttest: 29.9313640\tbest: 29.9219214 (621)\ttotal: 969ms\tremaining: 426ms\n",
      "626:\tlearn: 15.9673449\ttest: 29.9327615\tbest: 29.9219214 (621)\ttotal: 970ms\tremaining: 424ms\n",
      "627:\tlearn: 15.9616600\ttest: 29.9324879\tbest: 29.9219214 (621)\ttotal: 971ms\tremaining: 422ms\n",
      "628:\tlearn: 15.9562191\ttest: 29.9295567\tbest: 29.9219214 (621)\ttotal: 973ms\tremaining: 421ms\n",
      "629:\tlearn: 15.9531899\ttest: 29.9318536\tbest: 29.9219214 (621)\ttotal: 974ms\tremaining: 419ms\n",
      "630:\tlearn: 15.9437406\ttest: 29.9249903\tbest: 29.9219214 (621)\ttotal: 975ms\tremaining: 417ms\n",
      "631:\tlearn: 15.9422731\ttest: 29.9237022\tbest: 29.9219214 (621)\ttotal: 976ms\tremaining: 416ms\n",
      "632:\tlearn: 15.9366912\ttest: 29.9207921\tbest: 29.9207921 (632)\ttotal: 977ms\tremaining: 414ms\n",
      "633:\tlearn: 15.9337037\ttest: 29.9166535\tbest: 29.9166535 (633)\ttotal: 979ms\tremaining: 412ms\n",
      "634:\tlearn: 15.9296281\ttest: 29.9177449\tbest: 29.9166535 (633)\ttotal: 980ms\tremaining: 411ms\n",
      "635:\tlearn: 15.9246228\ttest: 29.9275151\tbest: 29.9166535 (633)\ttotal: 981ms\tremaining: 409ms\n",
      "636:\tlearn: 15.9230371\ttest: 29.9238384\tbest: 29.9166535 (633)\ttotal: 983ms\tremaining: 407ms\n",
      "637:\tlearn: 15.9177640\ttest: 29.9131157\tbest: 29.9131157 (637)\ttotal: 984ms\tremaining: 406ms\n",
      "638:\tlearn: 15.9131426\ttest: 29.9025865\tbest: 29.9025865 (638)\ttotal: 985ms\tremaining: 404ms\n",
      "639:\tlearn: 15.9062429\ttest: 29.9042070\tbest: 29.9025865 (638)\ttotal: 986ms\tremaining: 402ms\n",
      "640:\tlearn: 15.9031193\ttest: 29.9012398\tbest: 29.9012398 (640)\ttotal: 988ms\tremaining: 401ms\n",
      "641:\tlearn: 15.8967458\ttest: 29.9007586\tbest: 29.9007586 (641)\ttotal: 989ms\tremaining: 399ms\n",
      "642:\tlearn: 15.8877383\ttest: 29.9008780\tbest: 29.9007586 (641)\ttotal: 990ms\tremaining: 397ms\n",
      "643:\tlearn: 15.8823208\ttest: 29.8940550\tbest: 29.8940550 (643)\ttotal: 991ms\tremaining: 396ms\n",
      "644:\tlearn: 15.8778981\ttest: 29.8919416\tbest: 29.8919416 (644)\ttotal: 993ms\tremaining: 394ms\n",
      "645:\tlearn: 15.8647836\ttest: 29.8926155\tbest: 29.8919416 (644)\ttotal: 994ms\tremaining: 392ms\n",
      "646:\tlearn: 15.8608579\ttest: 29.8647811\tbest: 29.8647811 (646)\ttotal: 995ms\tremaining: 391ms\n",
      "647:\tlearn: 15.8562159\ttest: 29.8628384\tbest: 29.8628384 (647)\ttotal: 997ms\tremaining: 389ms\n",
      "648:\tlearn: 15.8517413\ttest: 29.8632694\tbest: 29.8628384 (647)\ttotal: 998ms\tremaining: 387ms\n",
      "649:\tlearn: 15.8460904\ttest: 29.8626179\tbest: 29.8626179 (649)\ttotal: 999ms\tremaining: 386ms\n",
      "650:\tlearn: 15.8424436\ttest: 29.8638091\tbest: 29.8626179 (649)\ttotal: 1s\tremaining: 384ms\n",
      "651:\tlearn: 15.8391489\ttest: 29.8649165\tbest: 29.8626179 (649)\ttotal: 1s\tremaining: 383ms\n",
      "652:\tlearn: 15.8329131\ttest: 29.8619029\tbest: 29.8619029 (652)\ttotal: 1s\tremaining: 381ms\n",
      "653:\tlearn: 15.8305513\ttest: 29.8671192\tbest: 29.8619029 (652)\ttotal: 1s\tremaining: 379ms\n",
      "654:\tlearn: 15.8260061\ttest: 29.8672634\tbest: 29.8619029 (652)\ttotal: 1s\tremaining: 378ms\n",
      "655:\tlearn: 15.8217120\ttest: 29.8583604\tbest: 29.8583604 (655)\ttotal: 1.01s\tremaining: 376ms\n",
      "656:\tlearn: 15.8173470\ttest: 29.8562884\tbest: 29.8562884 (656)\ttotal: 1.01s\tremaining: 374ms\n",
      "657:\tlearn: 15.8124165\ttest: 29.8567990\tbest: 29.8562884 (656)\ttotal: 1.01s\tremaining: 373ms\n",
      "658:\tlearn: 15.8049554\ttest: 29.8460969\tbest: 29.8460969 (658)\ttotal: 1.01s\tremaining: 371ms\n",
      "659:\tlearn: 15.7970605\ttest: 29.8422307\tbest: 29.8422307 (659)\ttotal: 1.01s\tremaining: 369ms\n",
      "660:\tlearn: 15.7952765\ttest: 29.8446413\tbest: 29.8422307 (659)\ttotal: 1.01s\tremaining: 368ms\n",
      "661:\tlearn: 15.7920993\ttest: 29.8360041\tbest: 29.8360041 (661)\ttotal: 1.01s\tremaining: 366ms\n",
      "662:\tlearn: 15.7908829\ttest: 29.8353240\tbest: 29.8353240 (662)\ttotal: 1.01s\tremaining: 364ms\n",
      "663:\tlearn: 15.7849319\ttest: 29.8336873\tbest: 29.8336873 (663)\ttotal: 1.02s\tremaining: 363ms\n",
      "664:\tlearn: 15.7818159\ttest: 29.8359811\tbest: 29.8336873 (663)\ttotal: 1.02s\tremaining: 361ms\n",
      "665:\tlearn: 15.7751504\ttest: 29.8388558\tbest: 29.8336873 (663)\ttotal: 1.02s\tremaining: 360ms\n",
      "666:\tlearn: 15.7728584\ttest: 29.8334499\tbest: 29.8334499 (666)\ttotal: 1.02s\tremaining: 358ms\n",
      "667:\tlearn: 15.7663100\ttest: 29.8338405\tbest: 29.8334499 (666)\ttotal: 1.02s\tremaining: 356ms\n",
      "668:\tlearn: 15.7629786\ttest: 29.8352136\tbest: 29.8334499 (666)\ttotal: 1.02s\tremaining: 355ms\n",
      "669:\tlearn: 15.7562869\ttest: 29.8364744\tbest: 29.8334499 (666)\ttotal: 1.02s\tremaining: 353ms\n",
      "670:\tlearn: 15.7511012\ttest: 29.8345925\tbest: 29.8334499 (666)\ttotal: 1.02s\tremaining: 351ms\n",
      "671:\tlearn: 15.7453773\ttest: 29.8377113\tbest: 29.8334499 (666)\ttotal: 1.03s\tremaining: 350ms\n",
      "672:\tlearn: 15.7406253\ttest: 29.8339729\tbest: 29.8334499 (666)\ttotal: 1.03s\tremaining: 348ms\n",
      "673:\tlearn: 15.7338680\ttest: 29.8229374\tbest: 29.8229374 (673)\ttotal: 1.03s\tremaining: 347ms\n",
      "674:\tlearn: 15.7295357\ttest: 29.8107579\tbest: 29.8107579 (674)\ttotal: 1.03s\tremaining: 345ms\n",
      "675:\tlearn: 15.7251733\ttest: 29.8081658\tbest: 29.8081658 (675)\ttotal: 1.03s\tremaining: 343ms\n",
      "676:\tlearn: 15.7241251\ttest: 29.8120909\tbest: 29.8081658 (675)\ttotal: 1.03s\tremaining: 342ms\n",
      "677:\tlearn: 15.7186998\ttest: 29.8132560\tbest: 29.8081658 (675)\ttotal: 1.03s\tremaining: 340ms\n",
      "678:\tlearn: 15.7105948\ttest: 29.8255143\tbest: 29.8081658 (675)\ttotal: 1.03s\tremaining: 339ms\n",
      "679:\tlearn: 15.7054580\ttest: 29.8289902\tbest: 29.8081658 (675)\ttotal: 1.04s\tremaining: 337ms\n",
      "680:\tlearn: 15.7004779\ttest: 29.8352824\tbest: 29.8081658 (675)\ttotal: 1.04s\tremaining: 335ms\n",
      "681:\tlearn: 15.6962544\ttest: 29.8302409\tbest: 29.8081658 (675)\ttotal: 1.04s\tremaining: 334ms\n",
      "682:\tlearn: 15.6895833\ttest: 29.8285053\tbest: 29.8081658 (675)\ttotal: 1.04s\tremaining: 332ms\n",
      "683:\tlearn: 15.6871088\ttest: 29.8192065\tbest: 29.8081658 (675)\ttotal: 1.04s\tremaining: 331ms\n",
      "684:\tlearn: 15.6815346\ttest: 29.8048540\tbest: 29.8048540 (684)\ttotal: 1.04s\tremaining: 329ms\n",
      "685:\tlearn: 15.6783854\ttest: 29.8109715\tbest: 29.8048540 (684)\ttotal: 1.04s\tremaining: 328ms\n",
      "686:\tlearn: 15.6765137\ttest: 29.8139615\tbest: 29.8048540 (684)\ttotal: 1.05s\tremaining: 326ms\n",
      "687:\tlearn: 15.6753260\ttest: 29.8156633\tbest: 29.8048540 (684)\ttotal: 1.05s\tremaining: 325ms\n",
      "688:\tlearn: 15.6697421\ttest: 29.8168036\tbest: 29.8048540 (684)\ttotal: 1.05s\tremaining: 323ms\n",
      "689:\tlearn: 15.6653836\ttest: 29.8174493\tbest: 29.8048540 (684)\ttotal: 1.05s\tremaining: 321ms\n",
      "690:\tlearn: 15.6634071\ttest: 29.8147713\tbest: 29.8048540 (684)\ttotal: 1.05s\tremaining: 320ms\n",
      "691:\tlearn: 15.6607496\ttest: 29.8175945\tbest: 29.8048540 (684)\ttotal: 1.05s\tremaining: 318ms\n",
      "692:\tlearn: 15.6580492\ttest: 29.8159950\tbest: 29.8048540 (684)\ttotal: 1.05s\tremaining: 317ms\n",
      "693:\tlearn: 15.6524368\ttest: 29.8119351\tbest: 29.8048540 (684)\ttotal: 1.05s\tremaining: 315ms\n",
      "694:\tlearn: 15.6477845\ttest: 29.8096366\tbest: 29.8048540 (684)\ttotal: 1.06s\tremaining: 313ms\n",
      "695:\tlearn: 15.6464383\ttest: 29.8141747\tbest: 29.8048540 (684)\ttotal: 1.06s\tremaining: 312ms\n",
      "696:\tlearn: 15.6398419\ttest: 29.8181095\tbest: 29.8048540 (684)\ttotal: 1.06s\tremaining: 310ms\n",
      "697:\tlearn: 15.6337781\ttest: 29.8207654\tbest: 29.8048540 (684)\ttotal: 1.06s\tremaining: 309ms\n",
      "698:\tlearn: 15.6272380\ttest: 29.8177607\tbest: 29.8048540 (684)\ttotal: 1.06s\tremaining: 307ms\n",
      "699:\tlearn: 15.6220971\ttest: 29.8171690\tbest: 29.8048540 (684)\ttotal: 1.06s\tremaining: 306ms\n",
      "700:\tlearn: 15.6205178\ttest: 29.8192114\tbest: 29.8048540 (684)\ttotal: 1.07s\tremaining: 304ms\n",
      "701:\tlearn: 15.6192585\ttest: 29.8176112\tbest: 29.8048540 (684)\ttotal: 1.07s\tremaining: 303ms\n",
      "702:\tlearn: 15.6109199\ttest: 29.8142601\tbest: 29.8048540 (684)\ttotal: 1.07s\tremaining: 301ms\n",
      "703:\tlearn: 15.6071400\ttest: 29.8146775\tbest: 29.8048540 (684)\ttotal: 1.07s\tremaining: 299ms\n",
      "704:\tlearn: 15.6055847\ttest: 29.8078605\tbest: 29.8048540 (684)\ttotal: 1.07s\tremaining: 298ms\n",
      "705:\tlearn: 15.6021291\ttest: 29.8050902\tbest: 29.8048540 (684)\ttotal: 1.07s\tremaining: 296ms\n",
      "706:\tlearn: 15.5960464\ttest: 29.8048256\tbest: 29.8048256 (706)\ttotal: 1.07s\tremaining: 295ms\n",
      "707:\tlearn: 15.5926406\ttest: 29.8058938\tbest: 29.8048256 (706)\ttotal: 1.07s\tremaining: 293ms\n",
      "708:\tlearn: 15.5831866\ttest: 29.8043767\tbest: 29.8043767 (708)\ttotal: 1.08s\tremaining: 292ms\n",
      "709:\tlearn: 15.5804123\ttest: 29.8041330\tbest: 29.8041330 (709)\ttotal: 1.08s\tremaining: 290ms\n",
      "710:\tlearn: 15.5753993\ttest: 29.8026062\tbest: 29.8026062 (710)\ttotal: 1.08s\tremaining: 289ms\n",
      "711:\tlearn: 15.5716514\ttest: 29.8023931\tbest: 29.8023931 (711)\ttotal: 1.08s\tremaining: 287ms\n",
      "712:\tlearn: 15.5684581\ttest: 29.8033393\tbest: 29.8023931 (711)\ttotal: 1.08s\tremaining: 285ms\n",
      "713:\tlearn: 15.5598985\ttest: 29.7951659\tbest: 29.7951659 (713)\ttotal: 1.08s\tremaining: 284ms\n",
      "714:\tlearn: 15.5546080\ttest: 29.7875662\tbest: 29.7875662 (714)\ttotal: 1.08s\tremaining: 282ms\n",
      "715:\tlearn: 15.5470205\ttest: 29.7932379\tbest: 29.7875662 (714)\ttotal: 1.09s\tremaining: 281ms\n",
      "716:\tlearn: 15.5407819\ttest: 29.7737865\tbest: 29.7737865 (716)\ttotal: 1.09s\tremaining: 279ms\n",
      "717:\tlearn: 15.5362689\ttest: 29.7741558\tbest: 29.7737865 (716)\ttotal: 1.09s\tremaining: 277ms\n",
      "718:\tlearn: 15.5317191\ttest: 29.7741007\tbest: 29.7737865 (716)\ttotal: 1.09s\tremaining: 276ms\n",
      "719:\tlearn: 15.5281973\ttest: 29.7719732\tbest: 29.7719732 (719)\ttotal: 1.09s\tremaining: 274ms\n",
      "720:\tlearn: 15.5205431\ttest: 29.7640436\tbest: 29.7640436 (720)\ttotal: 1.09s\tremaining: 273ms\n",
      "721:\tlearn: 15.5153269\ttest: 29.7578144\tbest: 29.7578144 (721)\ttotal: 1.09s\tremaining: 271ms\n",
      "722:\tlearn: 15.5124024\ttest: 29.7700040\tbest: 29.7578144 (721)\ttotal: 1.09s\tremaining: 270ms\n",
      "723:\tlearn: 15.5093115\ttest: 29.7689838\tbest: 29.7578144 (721)\ttotal: 1.1s\tremaining: 268ms\n",
      "724:\tlearn: 15.5024261\ttest: 29.7675144\tbest: 29.7578144 (721)\ttotal: 1.1s\tremaining: 267ms\n",
      "725:\tlearn: 15.4982191\ttest: 29.7562875\tbest: 29.7562875 (725)\ttotal: 1.1s\tremaining: 265ms\n",
      "726:\tlearn: 15.4913078\ttest: 29.7621138\tbest: 29.7562875 (725)\ttotal: 1.1s\tremaining: 263ms\n",
      "727:\tlearn: 15.4893614\ttest: 29.7571659\tbest: 29.7562875 (725)\ttotal: 1.1s\tremaining: 262ms\n",
      "728:\tlearn: 15.4847679\ttest: 29.7568271\tbest: 29.7562875 (725)\ttotal: 1.1s\tremaining: 260ms\n",
      "729:\tlearn: 15.4753413\ttest: 29.7538596\tbest: 29.7538596 (729)\ttotal: 1.1s\tremaining: 259ms\n",
      "730:\tlearn: 15.4706189\ttest: 29.7563843\tbest: 29.7538596 (729)\ttotal: 1.11s\tremaining: 257ms\n",
      "731:\tlearn: 15.4641739\ttest: 29.7445958\tbest: 29.7445958 (731)\ttotal: 1.11s\tremaining: 256ms\n",
      "732:\tlearn: 15.4584811\ttest: 29.7441658\tbest: 29.7441658 (732)\ttotal: 1.11s\tremaining: 254ms\n",
      "733:\tlearn: 15.4505692\ttest: 29.7419647\tbest: 29.7419647 (733)\ttotal: 1.11s\tremaining: 253ms\n",
      "734:\tlearn: 15.4453033\ttest: 29.7417654\tbest: 29.7417654 (734)\ttotal: 1.11s\tremaining: 251ms\n",
      "735:\tlearn: 15.4434381\ttest: 29.7418893\tbest: 29.7417654 (734)\ttotal: 1.11s\tremaining: 249ms\n",
      "736:\tlearn: 15.4407506\ttest: 29.7410144\tbest: 29.7410144 (736)\ttotal: 1.11s\tremaining: 248ms\n",
      "737:\tlearn: 15.4357475\ttest: 29.7376212\tbest: 29.7376212 (737)\ttotal: 1.11s\tremaining: 246ms\n",
      "738:\tlearn: 15.4319940\ttest: 29.7384143\tbest: 29.7376212 (737)\ttotal: 1.12s\tremaining: 245ms\n",
      "739:\tlearn: 15.4300784\ttest: 29.7392745\tbest: 29.7376212 (737)\ttotal: 1.12s\tremaining: 243ms\n",
      "740:\tlearn: 15.4263810\ttest: 29.7402947\tbest: 29.7376212 (737)\ttotal: 1.12s\tremaining: 242ms\n",
      "741:\tlearn: 15.4213130\ttest: 29.7434172\tbest: 29.7376212 (737)\ttotal: 1.12s\tremaining: 240ms\n",
      "742:\tlearn: 15.4202783\ttest: 29.7429839\tbest: 29.7376212 (737)\ttotal: 1.12s\tremaining: 238ms\n",
      "743:\tlearn: 15.4147680\ttest: 29.7435804\tbest: 29.7376212 (737)\ttotal: 1.12s\tremaining: 237ms\n",
      "744:\tlearn: 15.4079746\ttest: 29.7460374\tbest: 29.7376212 (737)\ttotal: 1.12s\tremaining: 235ms\n",
      "745:\tlearn: 15.4042611\ttest: 29.7430793\tbest: 29.7376212 (737)\ttotal: 1.13s\tremaining: 234ms\n",
      "746:\tlearn: 15.4017107\ttest: 29.7417504\tbest: 29.7376212 (737)\ttotal: 1.13s\tremaining: 232ms\n",
      "747:\tlearn: 15.3962980\ttest: 29.7418165\tbest: 29.7376212 (737)\ttotal: 1.13s\tremaining: 231ms\n",
      "748:\tlearn: 15.3922852\ttest: 29.7418476\tbest: 29.7376212 (737)\ttotal: 1.13s\tremaining: 229ms\n",
      "749:\tlearn: 15.3888630\ttest: 29.7526952\tbest: 29.7376212 (737)\ttotal: 1.13s\tremaining: 228ms\n",
      "750:\tlearn: 15.3858448\ttest: 29.7457697\tbest: 29.7376212 (737)\ttotal: 1.13s\tremaining: 226ms\n",
      "751:\tlearn: 15.3832439\ttest: 29.7482010\tbest: 29.7376212 (737)\ttotal: 1.13s\tremaining: 224ms\n",
      "752:\tlearn: 15.3750813\ttest: 29.7498662\tbest: 29.7376212 (737)\ttotal: 1.13s\tremaining: 223ms\n",
      "753:\tlearn: 15.3702277\ttest: 29.7528519\tbest: 29.7376212 (737)\ttotal: 1.14s\tremaining: 221ms\n",
      "754:\tlearn: 15.3691136\ttest: 29.7513575\tbest: 29.7376212 (737)\ttotal: 1.14s\tremaining: 220ms\n",
      "755:\tlearn: 15.3617410\ttest: 29.7536927\tbest: 29.7376212 (737)\ttotal: 1.14s\tremaining: 218ms\n",
      "756:\tlearn: 15.3578470\ttest: 29.7357500\tbest: 29.7357500 (756)\ttotal: 1.14s\tremaining: 217ms\n",
      "757:\tlearn: 15.3556024\ttest: 29.7397906\tbest: 29.7357500 (756)\ttotal: 1.14s\tremaining: 215ms\n",
      "758:\tlearn: 15.3515470\ttest: 29.7410896\tbest: 29.7357500 (756)\ttotal: 1.14s\tremaining: 214ms\n",
      "759:\tlearn: 15.3474972\ttest: 29.7393465\tbest: 29.7357500 (756)\ttotal: 1.14s\tremaining: 212ms\n",
      "760:\tlearn: 15.3411018\ttest: 29.7354774\tbest: 29.7354774 (760)\ttotal: 1.14s\tremaining: 211ms\n",
      "761:\tlearn: 15.3365792\ttest: 29.7339926\tbest: 29.7339926 (761)\ttotal: 1.15s\tremaining: 209ms\n",
      "762:\tlearn: 15.3290638\ttest: 29.7364863\tbest: 29.7339926 (761)\ttotal: 1.15s\tremaining: 207ms\n",
      "763:\tlearn: 15.3262844\ttest: 29.7345747\tbest: 29.7339926 (761)\ttotal: 1.15s\tremaining: 206ms\n",
      "764:\tlearn: 15.3214472\ttest: 29.7386389\tbest: 29.7339926 (761)\ttotal: 1.15s\tremaining: 204ms\n",
      "765:\tlearn: 15.3180759\ttest: 29.7451935\tbest: 29.7339926 (761)\ttotal: 1.15s\tremaining: 203ms\n",
      "766:\tlearn: 15.3127948\ttest: 29.7415206\tbest: 29.7339926 (761)\ttotal: 1.15s\tremaining: 201ms\n",
      "767:\tlearn: 15.3086850\ttest: 29.7448579\tbest: 29.7339926 (761)\ttotal: 1.15s\tremaining: 200ms\n",
      "768:\tlearn: 15.3017578\ttest: 29.7356925\tbest: 29.7339926 (761)\ttotal: 1.15s\tremaining: 198ms\n",
      "769:\tlearn: 15.2966621\ttest: 29.7433637\tbest: 29.7339926 (761)\ttotal: 1.16s\tremaining: 197ms\n",
      "770:\tlearn: 15.2945655\ttest: 29.7458042\tbest: 29.7339926 (761)\ttotal: 1.16s\tremaining: 195ms\n",
      "771:\tlearn: 15.2921124\ttest: 29.7461527\tbest: 29.7339926 (761)\ttotal: 1.16s\tremaining: 194ms\n",
      "772:\tlearn: 15.2842313\ttest: 29.7433377\tbest: 29.7339926 (761)\ttotal: 1.16s\tremaining: 192ms\n",
      "773:\tlearn: 15.2823299\ttest: 29.7435216\tbest: 29.7339926 (761)\ttotal: 1.16s\tremaining: 190ms\n",
      "774:\tlearn: 15.2799395\ttest: 29.7419465\tbest: 29.7339926 (761)\ttotal: 1.16s\tremaining: 189ms\n",
      "775:\tlearn: 15.2764384\ttest: 29.7417019\tbest: 29.7339926 (761)\ttotal: 1.16s\tremaining: 187ms\n",
      "776:\tlearn: 15.2704688\ttest: 29.7409321\tbest: 29.7339926 (761)\ttotal: 1.16s\tremaining: 186ms\n",
      "777:\tlearn: 15.2652016\ttest: 29.7369411\tbest: 29.7339926 (761)\ttotal: 1.17s\tremaining: 184ms\n",
      "778:\tlearn: 15.2571014\ttest: 29.7342815\tbest: 29.7339926 (761)\ttotal: 1.17s\tremaining: 183ms\n",
      "779:\tlearn: 15.2510401\ttest: 29.7358383\tbest: 29.7339926 (761)\ttotal: 1.17s\tremaining: 181ms\n",
      "780:\tlearn: 15.2464400\ttest: 29.7312025\tbest: 29.7312025 (780)\ttotal: 1.17s\tremaining: 180ms\n",
      "781:\tlearn: 15.2408573\ttest: 29.7326408\tbest: 29.7312025 (780)\ttotal: 1.17s\tremaining: 178ms\n",
      "782:\tlearn: 15.2316874\ttest: 29.7297906\tbest: 29.7297906 (782)\ttotal: 1.17s\tremaining: 177ms\n",
      "783:\tlearn: 15.2275799\ttest: 29.7387134\tbest: 29.7297906 (782)\ttotal: 1.17s\tremaining: 175ms\n",
      "784:\tlearn: 15.2258766\ttest: 29.7383178\tbest: 29.7297906 (782)\ttotal: 1.18s\tremaining: 174ms\n",
      "785:\tlearn: 15.2205977\ttest: 29.7414948\tbest: 29.7297906 (782)\ttotal: 1.18s\tremaining: 172ms\n",
      "786:\tlearn: 15.2172914\ttest: 29.7405031\tbest: 29.7297906 (782)\ttotal: 1.18s\tremaining: 171ms\n",
      "787:\tlearn: 15.2133028\ttest: 29.7317654\tbest: 29.7297906 (782)\ttotal: 1.18s\tremaining: 169ms\n",
      "788:\tlearn: 15.2099127\ttest: 29.7309193\tbest: 29.7297906 (782)\ttotal: 1.18s\tremaining: 168ms\n",
      "789:\tlearn: 15.2055065\ttest: 29.7270320\tbest: 29.7270320 (789)\ttotal: 1.18s\tremaining: 166ms\n",
      "790:\tlearn: 15.2023219\ttest: 29.7276754\tbest: 29.7270320 (789)\ttotal: 1.18s\tremaining: 165ms\n",
      "791:\tlearn: 15.1973886\ttest: 29.7201794\tbest: 29.7201794 (791)\ttotal: 1.18s\tremaining: 163ms\n",
      "792:\tlearn: 15.1935737\ttest: 29.7117577\tbest: 29.7117577 (792)\ttotal: 1.19s\tremaining: 161ms\n",
      "793:\tlearn: 15.1906816\ttest: 29.7107976\tbest: 29.7107976 (793)\ttotal: 1.19s\tremaining: 160ms\n",
      "794:\tlearn: 15.1859439\ttest: 29.7097486\tbest: 29.7097486 (794)\ttotal: 1.19s\tremaining: 158ms\n",
      "795:\tlearn: 15.1825202\ttest: 29.7205884\tbest: 29.7097486 (794)\ttotal: 1.19s\tremaining: 157ms\n",
      "796:\tlearn: 15.1807061\ttest: 29.7226183\tbest: 29.7097486 (794)\ttotal: 1.19s\tremaining: 155ms\n",
      "797:\tlearn: 15.1756316\ttest: 29.7188004\tbest: 29.7097486 (794)\ttotal: 1.19s\tremaining: 154ms\n",
      "798:\tlearn: 15.1685256\ttest: 29.7115032\tbest: 29.7097486 (794)\ttotal: 1.19s\tremaining: 152ms\n",
      "799:\tlearn: 15.1644898\ttest: 29.7102232\tbest: 29.7097486 (794)\ttotal: 1.19s\tremaining: 151ms\n",
      "800:\tlearn: 15.1628485\ttest: 29.7146138\tbest: 29.7097486 (794)\ttotal: 1.2s\tremaining: 149ms\n",
      "801:\tlearn: 15.1593418\ttest: 29.7141580\tbest: 29.7097486 (794)\ttotal: 1.2s\tremaining: 148ms\n",
      "802:\tlearn: 15.1521679\ttest: 29.7150113\tbest: 29.7097486 (794)\ttotal: 1.2s\tremaining: 146ms\n",
      "803:\tlearn: 15.1512204\ttest: 29.7195822\tbest: 29.7097486 (794)\ttotal: 1.2s\tremaining: 145ms\n",
      "804:\tlearn: 15.1473912\ttest: 29.7206596\tbest: 29.7097486 (794)\ttotal: 1.2s\tremaining: 143ms\n",
      "805:\tlearn: 15.1426684\ttest: 29.7138394\tbest: 29.7097486 (794)\ttotal: 1.2s\tremaining: 142ms\n",
      "806:\tlearn: 15.1381084\ttest: 29.7118570\tbest: 29.7097486 (794)\ttotal: 1.2s\tremaining: 140ms\n",
      "807:\tlearn: 15.1332062\ttest: 29.7115908\tbest: 29.7097486 (794)\ttotal: 1.2s\tremaining: 139ms\n",
      "808:\tlearn: 15.1316598\ttest: 29.7167962\tbest: 29.7097486 (794)\ttotal: 1.21s\tremaining: 137ms\n",
      "809:\tlearn: 15.1283437\ttest: 29.7160455\tbest: 29.7097486 (794)\ttotal: 1.21s\tremaining: 136ms\n",
      "810:\tlearn: 15.1243085\ttest: 29.6962164\tbest: 29.6962164 (810)\ttotal: 1.21s\tremaining: 134ms\n",
      "811:\tlearn: 15.1200849\ttest: 29.6964665\tbest: 29.6962164 (810)\ttotal: 1.21s\tremaining: 133ms\n",
      "812:\tlearn: 15.1130054\ttest: 29.6965781\tbest: 29.6962164 (810)\ttotal: 1.21s\tremaining: 131ms\n",
      "813:\tlearn: 15.1070677\ttest: 29.6884178\tbest: 29.6884178 (813)\ttotal: 1.21s\tremaining: 130ms\n",
      "814:\tlearn: 15.1043441\ttest: 29.6881097\tbest: 29.6881097 (814)\ttotal: 1.21s\tremaining: 128ms\n",
      "815:\tlearn: 15.0992042\ttest: 29.6910501\tbest: 29.6881097 (814)\ttotal: 1.22s\tremaining: 127ms\n",
      "816:\tlearn: 15.0955757\ttest: 29.6904489\tbest: 29.6881097 (814)\ttotal: 1.22s\tremaining: 125ms\n",
      "817:\tlearn: 15.0879090\ttest: 29.6924907\tbest: 29.6881097 (814)\ttotal: 1.22s\tremaining: 124ms\n",
      "818:\tlearn: 15.0866060\ttest: 29.6977416\tbest: 29.6881097 (814)\ttotal: 1.22s\tremaining: 122ms\n",
      "819:\tlearn: 15.0821905\ttest: 29.6965439\tbest: 29.6881097 (814)\ttotal: 1.22s\tremaining: 121ms\n",
      "820:\tlearn: 15.0777870\ttest: 29.6957642\tbest: 29.6881097 (814)\ttotal: 1.22s\tremaining: 119ms\n",
      "821:\tlearn: 15.0712040\ttest: 29.6869875\tbest: 29.6869875 (821)\ttotal: 1.22s\tremaining: 118ms\n",
      "822:\tlearn: 15.0656434\ttest: 29.6856001\tbest: 29.6856001 (822)\ttotal: 1.22s\tremaining: 116ms\n",
      "823:\tlearn: 15.0631123\ttest: 29.6792378\tbest: 29.6792378 (823)\ttotal: 1.23s\tremaining: 115ms\n",
      "824:\tlearn: 15.0584944\ttest: 29.6790872\tbest: 29.6790872 (824)\ttotal: 1.23s\tremaining: 113ms\n",
      "825:\tlearn: 15.0562071\ttest: 29.6798197\tbest: 29.6790872 (824)\ttotal: 1.23s\tremaining: 112ms\n",
      "826:\tlearn: 15.0512172\ttest: 29.6870092\tbest: 29.6790872 (824)\ttotal: 1.23s\tremaining: 110ms\n",
      "827:\tlearn: 15.0484014\ttest: 29.6883664\tbest: 29.6790872 (824)\ttotal: 1.23s\tremaining: 109ms\n",
      "828:\tlearn: 15.0460845\ttest: 29.6856775\tbest: 29.6790872 (824)\ttotal: 1.23s\tremaining: 107ms\n",
      "829:\tlearn: 15.0415054\ttest: 29.6724635\tbest: 29.6724635 (829)\ttotal: 1.23s\tremaining: 106ms\n",
      "830:\tlearn: 15.0381319\ttest: 29.6680222\tbest: 29.6680222 (830)\ttotal: 1.24s\tremaining: 104ms\n",
      "831:\tlearn: 15.0342504\ttest: 29.6716316\tbest: 29.6680222 (830)\ttotal: 1.24s\tremaining: 103ms\n",
      "832:\tlearn: 15.0288322\ttest: 29.6718854\tbest: 29.6680222 (830)\ttotal: 1.24s\tremaining: 101ms\n",
      "833:\tlearn: 15.0233973\ttest: 29.6727287\tbest: 29.6680222 (830)\ttotal: 1.24s\tremaining: 99.6ms\n",
      "834:\tlearn: 15.0193252\ttest: 29.6718645\tbest: 29.6680222 (830)\ttotal: 1.24s\tremaining: 98.1ms\n",
      "835:\tlearn: 15.0122712\ttest: 29.6776019\tbest: 29.6680222 (830)\ttotal: 1.24s\tremaining: 96.6ms\n",
      "836:\tlearn: 15.0071381\ttest: 29.6762885\tbest: 29.6680222 (830)\ttotal: 1.24s\tremaining: 95.1ms\n",
      "837:\tlearn: 15.0042784\ttest: 29.6766727\tbest: 29.6680222 (830)\ttotal: 1.25s\tremaining: 93.6ms\n",
      "838:\tlearn: 14.9980019\ttest: 29.6808276\tbest: 29.6680222 (830)\ttotal: 1.25s\tremaining: 92.1ms\n",
      "839:\tlearn: 14.9944168\ttest: 29.6779524\tbest: 29.6680222 (830)\ttotal: 1.25s\tremaining: 90.6ms\n",
      "840:\tlearn: 14.9899082\ttest: 29.6806407\tbest: 29.6680222 (830)\ttotal: 1.25s\tremaining: 89.1ms\n",
      "841:\tlearn: 14.9872842\ttest: 29.6754675\tbest: 29.6680222 (830)\ttotal: 1.25s\tremaining: 87.6ms\n",
      "842:\tlearn: 14.9837757\ttest: 29.6749794\tbest: 29.6680222 (830)\ttotal: 1.25s\tremaining: 86.1ms\n",
      "843:\tlearn: 14.9798481\ttest: 29.6741268\tbest: 29.6680222 (830)\ttotal: 1.25s\tremaining: 84.6ms\n",
      "844:\tlearn: 14.9771418\ttest: 29.6728292\tbest: 29.6680222 (830)\ttotal: 1.25s\tremaining: 83.1ms\n",
      "845:\tlearn: 14.9725098\ttest: 29.6705940\tbest: 29.6680222 (830)\ttotal: 1.25s\tremaining: 81.6ms\n",
      "846:\tlearn: 14.9705624\ttest: 29.6764211\tbest: 29.6680222 (830)\ttotal: 1.26s\tremaining: 80.1ms\n",
      "847:\tlearn: 14.9659910\ttest: 29.6782743\tbest: 29.6680222 (830)\ttotal: 1.26s\tremaining: 78.6ms\n",
      "848:\tlearn: 14.9608234\ttest: 29.6797236\tbest: 29.6680222 (830)\ttotal: 1.26s\tremaining: 77.1ms\n",
      "849:\tlearn: 14.9551998\ttest: 29.6857892\tbest: 29.6680222 (830)\ttotal: 1.26s\tremaining: 75.6ms\n",
      "850:\tlearn: 14.9541724\ttest: 29.6886087\tbest: 29.6680222 (830)\ttotal: 1.26s\tremaining: 74.1ms\n",
      "851:\tlearn: 14.9511397\ttest: 29.6881313\tbest: 29.6680222 (830)\ttotal: 1.26s\tremaining: 72.7ms\n",
      "852:\tlearn: 14.9420837\ttest: 29.6855787\tbest: 29.6680222 (830)\ttotal: 1.26s\tremaining: 71.2ms\n",
      "853:\tlearn: 14.9364395\ttest: 29.6852653\tbest: 29.6680222 (830)\ttotal: 1.26s\tremaining: 69.7ms\n",
      "854:\tlearn: 14.9336372\ttest: 29.6831915\tbest: 29.6680222 (830)\ttotal: 1.27s\tremaining: 68.2ms\n",
      "855:\tlearn: 14.9307910\ttest: 29.6784505\tbest: 29.6680222 (830)\ttotal: 1.27s\tremaining: 66.7ms\n",
      "856:\tlearn: 14.9284854\ttest: 29.6801621\tbest: 29.6680222 (830)\ttotal: 1.27s\tremaining: 65.2ms\n",
      "857:\tlearn: 14.9233743\ttest: 29.6797976\tbest: 29.6680222 (830)\ttotal: 1.27s\tremaining: 63.7ms\n",
      "858:\tlearn: 14.9165932\ttest: 29.6801859\tbest: 29.6680222 (830)\ttotal: 1.27s\tremaining: 62.2ms\n",
      "859:\tlearn: 14.9151618\ttest: 29.6826034\tbest: 29.6680222 (830)\ttotal: 1.27s\tremaining: 60.7ms\n",
      "860:\tlearn: 14.9119876\ttest: 29.6801088\tbest: 29.6680222 (830)\ttotal: 1.27s\tremaining: 59.2ms\n",
      "861:\tlearn: 14.9061481\ttest: 29.6733073\tbest: 29.6680222 (830)\ttotal: 1.28s\tremaining: 57.7ms\n",
      "862:\tlearn: 14.8988906\ttest: 29.6652509\tbest: 29.6652509 (862)\ttotal: 1.28s\tremaining: 56.2ms\n",
      "863:\tlearn: 14.8946272\ttest: 29.6635497\tbest: 29.6635497 (863)\ttotal: 1.28s\tremaining: 54.8ms\n",
      "864:\tlearn: 14.8885930\ttest: 29.6658368\tbest: 29.6635497 (863)\ttotal: 1.28s\tremaining: 53.3ms\n",
      "865:\tlearn: 14.8843719\ttest: 29.6705290\tbest: 29.6635497 (863)\ttotal: 1.28s\tremaining: 51.8ms\n",
      "866:\tlearn: 14.8815540\ttest: 29.6763321\tbest: 29.6635497 (863)\ttotal: 1.28s\tremaining: 50.3ms\n",
      "867:\tlearn: 14.8788444\ttest: 29.6712228\tbest: 29.6635497 (863)\ttotal: 1.28s\tremaining: 48.8ms\n",
      "868:\tlearn: 14.8754780\ttest: 29.6763381\tbest: 29.6635497 (863)\ttotal: 1.28s\tremaining: 47.3ms\n",
      "869:\tlearn: 14.8699037\ttest: 29.6696783\tbest: 29.6635497 (863)\ttotal: 1.29s\tremaining: 45.8ms\n",
      "870:\tlearn: 14.8663080\ttest: 29.6708917\tbest: 29.6635497 (863)\ttotal: 1.29s\tremaining: 44.3ms\n",
      "871:\tlearn: 14.8623793\ttest: 29.6710911\tbest: 29.6635497 (863)\ttotal: 1.29s\tremaining: 42.9ms\n",
      "872:\tlearn: 14.8580673\ttest: 29.6646051\tbest: 29.6635497 (863)\ttotal: 1.29s\tremaining: 41.4ms\n",
      "873:\tlearn: 14.8574392\ttest: 29.6634816\tbest: 29.6634816 (873)\ttotal: 1.29s\tremaining: 39.9ms\n",
      "874:\tlearn: 14.8541762\ttest: 29.6525540\tbest: 29.6525540 (874)\ttotal: 1.29s\tremaining: 38.4ms\n",
      "875:\tlearn: 14.8512128\ttest: 29.6549623\tbest: 29.6525540 (874)\ttotal: 1.29s\tremaining: 36.9ms\n",
      "876:\tlearn: 14.8466613\ttest: 29.6558811\tbest: 29.6525540 (874)\ttotal: 1.29s\tremaining: 35.4ms\n",
      "877:\tlearn: 14.8412978\ttest: 29.6515982\tbest: 29.6515982 (877)\ttotal: 1.3s\tremaining: 34ms\n",
      "878:\tlearn: 14.8366599\ttest: 29.6459172\tbest: 29.6459172 (878)\ttotal: 1.3s\tremaining: 32.5ms\n",
      "879:\tlearn: 14.8330582\ttest: 29.6457163\tbest: 29.6457163 (879)\ttotal: 1.3s\tremaining: 31ms\n",
      "880:\tlearn: 14.8310807\ttest: 29.6505301\tbest: 29.6457163 (879)\ttotal: 1.3s\tremaining: 29.5ms\n",
      "881:\tlearn: 14.8265643\ttest: 29.6501523\tbest: 29.6457163 (879)\ttotal: 1.3s\tremaining: 28ms\n",
      "882:\tlearn: 14.8230947\ttest: 29.6492935\tbest: 29.6457163 (879)\ttotal: 1.3s\tremaining: 26.6ms\n",
      "883:\tlearn: 14.8212483\ttest: 29.6476643\tbest: 29.6457163 (879)\ttotal: 1.3s\tremaining: 25.1ms\n",
      "884:\tlearn: 14.8181031\ttest: 29.6483338\tbest: 29.6457163 (879)\ttotal: 1.3s\tremaining: 23.6ms\n",
      "885:\tlearn: 14.8127313\ttest: 29.6454652\tbest: 29.6454652 (885)\ttotal: 1.31s\tremaining: 22.1ms\n",
      "886:\tlearn: 14.8101898\ttest: 29.6423359\tbest: 29.6423359 (886)\ttotal: 1.31s\tremaining: 20.6ms\n",
      "887:\tlearn: 14.8060861\ttest: 29.6422677\tbest: 29.6422677 (887)\ttotal: 1.31s\tremaining: 19.2ms\n",
      "888:\tlearn: 14.7992131\ttest: 29.6541571\tbest: 29.6422677 (887)\ttotal: 1.31s\tremaining: 17.7ms\n",
      "889:\tlearn: 14.7939543\ttest: 29.6413658\tbest: 29.6413658 (889)\ttotal: 1.31s\tremaining: 16.2ms\n",
      "890:\tlearn: 14.7889364\ttest: 29.6393444\tbest: 29.6393444 (890)\ttotal: 1.31s\tremaining: 14.7ms\n",
      "891:\tlearn: 14.7847108\ttest: 29.6292635\tbest: 29.6292635 (891)\ttotal: 1.31s\tremaining: 13.3ms\n",
      "892:\tlearn: 14.7815853\ttest: 29.6308487\tbest: 29.6292635 (891)\ttotal: 1.31s\tremaining: 11.8ms\n",
      "893:\tlearn: 14.7787725\ttest: 29.6306788\tbest: 29.6292635 (891)\ttotal: 1.32s\tremaining: 10.3ms\n",
      "894:\tlearn: 14.7738794\ttest: 29.6367551\tbest: 29.6292635 (891)\ttotal: 1.32s\tremaining: 8.83ms\n",
      "895:\tlearn: 14.7714130\ttest: 29.6366165\tbest: 29.6292635 (891)\ttotal: 1.32s\tremaining: 7.36ms\n",
      "896:\tlearn: 14.7676588\ttest: 29.6384370\tbest: 29.6292635 (891)\ttotal: 1.32s\tremaining: 5.89ms\n",
      "897:\tlearn: 14.7637251\ttest: 29.6260965\tbest: 29.6260965 (897)\ttotal: 1.32s\tremaining: 4.41ms\n",
      "898:\tlearn: 14.7596944\ttest: 29.6272985\tbest: 29.6260965 (897)\ttotal: 1.32s\tremaining: 2.94ms\n",
      "899:\tlearn: 14.7588763\ttest: 29.6324681\tbest: 29.6260965 (897)\ttotal: 1.32s\tremaining: 1.47ms\n",
      "900:\tlearn: 14.7588236\ttest: 29.6342270\tbest: 29.6260965 (897)\ttotal: 1.32s\tremaining: 0us\n",
      "\n",
      "bestTest = 29.62609651\n",
      "bestIteration = 897\n",
      "\n",
      "Shrink model to first 898 iterations.\n"
     ]
    },
    {
     "data": {
      "text/plain": [
       "<catboost.core.CatBoostRegressor at 0x18ea0a52e20>"
      ]
     },
     "execution_count": 52,
     "metadata": {},
     "output_type": "execute_result"
    }
   ],
   "source": [
    "model_c.fit(features_train_c, target_train_c, eval_set=(features_valid_c, target_valid_c))"
   ]
  },
  {
   "cell_type": "code",
   "execution_count": 53,
   "metadata": {},
   "outputs": [],
   "source": [
    "pred_test_c = model_c.predict(features_test_c)"
   ]
  },
  {
   "cell_type": "code",
   "execution_count": 54,
   "metadata": {},
   "outputs": [
    {
     "data": {
      "text/plain": [
       "54.41240746450365"
      ]
     },
     "execution_count": 54,
     "metadata": {},
     "output_type": "execute_result"
    }
   ],
   "source": [
    "mean_squared_error(target_test_c, pred_test_c) ** 0.5"
   ]
  },
  {
   "cell_type": "markdown",
   "metadata": {},
   "source": [
    "### LightGBM"
   ]
  },
  {
   "cell_type": "code",
   "execution_count": 55,
   "metadata": {},
   "outputs": [],
   "source": [
    "booster_ = lgb.LGBMRegressor(max_depth=6, n_estimators=301)"
   ]
  },
  {
   "cell_type": "code",
   "execution_count": 56,
   "metadata": {
    "scrolled": true
   },
   "outputs": [
    {
     "name": "stdout",
     "output_type": "stream",
     "text": [
      "[1]\tvalid_0's rmse: 52.3781\tvalid_0's l2: 2743.46\n",
      "[2]\tvalid_0's rmse: 49.4559\tvalid_0's l2: 2445.89\n",
      "[3]\tvalid_0's rmse: 46.6127\tvalid_0's l2: 2172.74\n",
      "[4]\tvalid_0's rmse: 44.1681\tvalid_0's l2: 1950.82\n",
      "[5]\tvalid_0's rmse: 42.1967\tvalid_0's l2: 1780.57\n",
      "[6]\tvalid_0's rmse: 40.6149\tvalid_0's l2: 1649.57\n",
      "[7]\tvalid_0's rmse: 39.2356\tvalid_0's l2: 1539.43\n",
      "[8]\tvalid_0's rmse: 38.0088\tvalid_0's l2: 1444.67\n",
      "[9]\tvalid_0's rmse: 36.5618\tvalid_0's l2: 1336.77\n",
      "[10]\tvalid_0's rmse: 35.6168\tvalid_0's l2: 1268.56\n",
      "[11]\tvalid_0's rmse: 34.8739\tvalid_0's l2: 1216.19\n",
      "[12]\tvalid_0's rmse: 33.845\tvalid_0's l2: 1145.48\n",
      "[13]\tvalid_0's rmse: 33.2093\tvalid_0's l2: 1102.86\n",
      "[14]\tvalid_0's rmse: 32.5382\tvalid_0's l2: 1058.74\n",
      "[15]\tvalid_0's rmse: 31.869\tvalid_0's l2: 1015.63\n",
      "[16]\tvalid_0's rmse: 31.0347\tvalid_0's l2: 963.15\n",
      "[17]\tvalid_0's rmse: 30.5908\tvalid_0's l2: 935.798\n",
      "[18]\tvalid_0's rmse: 29.9376\tvalid_0's l2: 896.257\n",
      "[19]\tvalid_0's rmse: 29.4172\tvalid_0's l2: 865.37\n",
      "[20]\tvalid_0's rmse: 29.0658\tvalid_0's l2: 844.818\n",
      "[21]\tvalid_0's rmse: 28.7451\tvalid_0's l2: 826.281\n",
      "[22]\tvalid_0's rmse: 28.3449\tvalid_0's l2: 803.434\n",
      "[23]\tvalid_0's rmse: 27.9991\tvalid_0's l2: 783.95\n",
      "[24]\tvalid_0's rmse: 27.6849\tvalid_0's l2: 766.453\n",
      "[25]\tvalid_0's rmse: 27.3308\tvalid_0's l2: 746.974\n",
      "[26]\tvalid_0's rmse: 27.1693\tvalid_0's l2: 738.168\n",
      "[27]\tvalid_0's rmse: 26.9381\tvalid_0's l2: 725.661\n",
      "[28]\tvalid_0's rmse: 26.8267\tvalid_0's l2: 719.674\n",
      "[29]\tvalid_0's rmse: 26.5476\tvalid_0's l2: 704.773\n",
      "[30]\tvalid_0's rmse: 26.3633\tvalid_0's l2: 695.024\n",
      "[31]\tvalid_0's rmse: 26.1865\tvalid_0's l2: 685.731\n",
      "[32]\tvalid_0's rmse: 25.9894\tvalid_0's l2: 675.451\n",
      "[33]\tvalid_0's rmse: 25.8212\tvalid_0's l2: 666.733\n",
      "[34]\tvalid_0's rmse: 25.6427\tvalid_0's l2: 657.549\n",
      "[35]\tvalid_0's rmse: 25.384\tvalid_0's l2: 644.349\n",
      "[36]\tvalid_0's rmse: 25.2887\tvalid_0's l2: 639.521\n",
      "[37]\tvalid_0's rmse: 25.1645\tvalid_0's l2: 633.252\n",
      "[38]\tvalid_0's rmse: 25.1237\tvalid_0's l2: 631.201\n",
      "[39]\tvalid_0's rmse: 25.0383\tvalid_0's l2: 626.917\n",
      "[40]\tvalid_0's rmse: 24.8959\tvalid_0's l2: 619.804\n",
      "[41]\tvalid_0's rmse: 24.8054\tvalid_0's l2: 615.307\n",
      "[42]\tvalid_0's rmse: 24.6827\tvalid_0's l2: 609.237\n",
      "[43]\tvalid_0's rmse: 24.5685\tvalid_0's l2: 603.61\n",
      "[44]\tvalid_0's rmse: 24.5636\tvalid_0's l2: 603.37\n",
      "[45]\tvalid_0's rmse: 24.4584\tvalid_0's l2: 598.214\n",
      "[46]\tvalid_0's rmse: 24.2278\tvalid_0's l2: 586.986\n",
      "[47]\tvalid_0's rmse: 24.138\tvalid_0's l2: 582.645\n",
      "[48]\tvalid_0's rmse: 23.9984\tvalid_0's l2: 575.922\n",
      "[49]\tvalid_0's rmse: 23.8843\tvalid_0's l2: 570.461\n",
      "[50]\tvalid_0's rmse: 23.805\tvalid_0's l2: 566.678\n",
      "[51]\tvalid_0's rmse: 23.7477\tvalid_0's l2: 563.953\n",
      "[52]\tvalid_0's rmse: 23.6785\tvalid_0's l2: 560.671\n",
      "[53]\tvalid_0's rmse: 23.661\tvalid_0's l2: 559.841\n",
      "[54]\tvalid_0's rmse: 23.5695\tvalid_0's l2: 555.521\n",
      "[55]\tvalid_0's rmse: 23.4149\tvalid_0's l2: 548.258\n",
      "[56]\tvalid_0's rmse: 23.3661\tvalid_0's l2: 545.972\n",
      "[57]\tvalid_0's rmse: 23.2457\tvalid_0's l2: 540.362\n",
      "[58]\tvalid_0's rmse: 23.2391\tvalid_0's l2: 540.054\n",
      "[59]\tvalid_0's rmse: 23.1425\tvalid_0's l2: 535.578\n",
      "[60]\tvalid_0's rmse: 23.0304\tvalid_0's l2: 530.401\n",
      "[61]\tvalid_0's rmse: 22.9628\tvalid_0's l2: 527.29\n",
      "[62]\tvalid_0's rmse: 22.8384\tvalid_0's l2: 521.594\n",
      "[63]\tvalid_0's rmse: 22.7851\tvalid_0's l2: 519.16\n",
      "[64]\tvalid_0's rmse: 22.6711\tvalid_0's l2: 513.979\n",
      "[65]\tvalid_0's rmse: 22.5863\tvalid_0's l2: 510.143\n",
      "[66]\tvalid_0's rmse: 22.5187\tvalid_0's l2: 507.093\n",
      "[67]\tvalid_0's rmse: 22.4911\tvalid_0's l2: 505.848\n",
      "[68]\tvalid_0's rmse: 22.3722\tvalid_0's l2: 500.516\n",
      "[69]\tvalid_0's rmse: 22.3514\tvalid_0's l2: 499.587\n",
      "[70]\tvalid_0's rmse: 22.2612\tvalid_0's l2: 495.561\n",
      "[71]\tvalid_0's rmse: 22.2018\tvalid_0's l2: 492.92\n",
      "[72]\tvalid_0's rmse: 22.1451\tvalid_0's l2: 490.403\n",
      "[73]\tvalid_0's rmse: 22.0989\tvalid_0's l2: 488.361\n",
      "[74]\tvalid_0's rmse: 22.0513\tvalid_0's l2: 486.258\n",
      "[75]\tvalid_0's rmse: 21.9969\tvalid_0's l2: 483.865\n",
      "[76]\tvalid_0's rmse: 21.921\tvalid_0's l2: 480.53\n",
      "[77]\tvalid_0's rmse: 21.8249\tvalid_0's l2: 476.325\n",
      "[78]\tvalid_0's rmse: 21.7689\tvalid_0's l2: 473.886\n",
      "[79]\tvalid_0's rmse: 21.7174\tvalid_0's l2: 471.646\n",
      "[80]\tvalid_0's rmse: 21.6757\tvalid_0's l2: 469.834\n",
      "[81]\tvalid_0's rmse: 21.6231\tvalid_0's l2: 467.559\n",
      "[82]\tvalid_0's rmse: 21.5294\tvalid_0's l2: 463.516\n",
      "[83]\tvalid_0's rmse: 21.4828\tvalid_0's l2: 461.511\n",
      "[84]\tvalid_0's rmse: 21.4366\tvalid_0's l2: 459.528\n",
      "[85]\tvalid_0's rmse: 21.3654\tvalid_0's l2: 456.479\n",
      "[86]\tvalid_0's rmse: 21.3251\tvalid_0's l2: 454.762\n",
      "[87]\tvalid_0's rmse: 21.2728\tvalid_0's l2: 452.53\n",
      "[88]\tvalid_0's rmse: 21.2422\tvalid_0's l2: 451.232\n",
      "[89]\tvalid_0's rmse: 21.2086\tvalid_0's l2: 449.805\n",
      "[90]\tvalid_0's rmse: 21.1235\tvalid_0's l2: 446.204\n",
      "[91]\tvalid_0's rmse: 21.0839\tvalid_0's l2: 444.529\n",
      "[92]\tvalid_0's rmse: 21.0471\tvalid_0's l2: 442.979\n",
      "[93]\tvalid_0's rmse: 21.0451\tvalid_0's l2: 442.898\n",
      "[94]\tvalid_0's rmse: 20.9922\tvalid_0's l2: 440.673\n",
      "[95]\tvalid_0's rmse: 20.9437\tvalid_0's l2: 438.637\n",
      "[96]\tvalid_0's rmse: 20.8967\tvalid_0's l2: 436.673\n",
      "[97]\tvalid_0's rmse: 20.8594\tvalid_0's l2: 435.112\n",
      "[98]\tvalid_0's rmse: 20.8125\tvalid_0's l2: 433.162\n",
      "[99]\tvalid_0's rmse: 20.7385\tvalid_0's l2: 430.087\n",
      "[100]\tvalid_0's rmse: 20.6274\tvalid_0's l2: 425.488\n"
     ]
    },
    {
     "data": {
      "text/plain": [
       "LGBMRegressor()"
      ]
     },
     "execution_count": 56,
     "metadata": {},
     "output_type": "execute_result"
    }
   ],
   "source": [
    "booster.fit(features_train, target_train, eval_set=[(features_valid_c, target_valid_c)], eval_metric='rmse')"
   ]
  },
  {
   "cell_type": "code",
   "execution_count": 57,
   "metadata": {},
   "outputs": [],
   "source": [
    "predicted_test_t = booster.predict(features_test_c)"
   ]
  },
  {
   "cell_type": "code",
   "execution_count": 58,
   "metadata": {},
   "outputs": [
    {
     "data": {
      "text/plain": [
       "43.39079269785423"
      ]
     },
     "execution_count": 58,
     "metadata": {},
     "output_type": "execute_result"
    }
   ],
   "source": [
    "mean_squared_error(target_test_c, predicted_test_t)**0.5"
   ]
  },
  {
   "cell_type": "markdown",
   "metadata": {},
   "source": [
    "### Вывод лучшее предсказание даёт модель LightBGM"
   ]
  },
  {
   "cell_type": "markdown",
   "metadata": {},
   "source": [
    "### Построим график сравнения предсказания лучшей модели и таргета на тесте."
   ]
  },
  {
   "cell_type": "code",
   "execution_count": 76,
   "metadata": {},
   "outputs": [
    {
     "data": {
      "image/png": "[encoded data removed]",
      "text/plain": [
       "<Figure size 1008x504 with 1 Axes>"
      ]
     },
     "metadata": {
      "needs_background": "light"
     },
     "output_type": "display_data"
    }
   ],
   "source": [
    "fig, ax = plt.subplots(figsize=(14,7))\n",
    "\n",
    "ax.plot(features_test.index[-25:-1] , predicted_test_t[-25:-1] , label='predict')\n",
    "ax.plot(target_test_c.index[-25:-1] , target_test_c[-25:-1] , label='target')\n",
    "ax.set_xlabel('date')\n",
    "ax.set_ylabel('orders')\n",
    "ax.set_title('compare')\n",
    "ax.legend()\n",
    "ax.grid()"
   ]
  },
  {
   "cell_type": "markdown",
   "metadata": {},
   "source": [
    "### Вывод\n",
    "**Модель справляется с поставленной задачей, хоть и немного занижает прогноз.**"
   ]
  }
 ],
 "metadata": {
  "ExecuteTimeLog": [
   {
    "duration": 63325,
    "start_time": "2022-04-25T13:12:16.621Z"
   },
   {
    "duration": 36,
    "start_time": "2022-04-25T13:13:19.948Z"
   },
   {
    "duration": 14,
    "start_time": "2022-04-25T13:13:19.986Z"
   },
   {
    "duration": 8,
    "start_time": "2022-04-25T13:13:20.002Z"
   },
   {
    "duration": 16,
    "start_time": "2022-04-25T13:15:08.210Z"
   },
   {
    "duration": 10,
    "start_time": "2022-04-25T13:15:08.747Z"
   },
   {
    "duration": 317,
    "start_time": "2022-04-25T13:15:09.089Z"
   },
   {
    "duration": 406,
    "start_time": "2022-04-25T13:15:09.408Z"
   },
   {
    "duration": 4,
    "start_time": "2022-04-25T13:15:10.802Z"
   },
   {
    "duration": 12,
    "start_time": "2022-04-25T13:15:12.460Z"
   },
   {
    "duration": 17,
    "start_time": "2022-04-25T13:15:13.184Z"
   },
   {
    "duration": 4,
    "start_time": "2022-04-25T13:15:13.899Z"
   },
   {
    "duration": 4,
    "start_time": "2022-04-25T13:15:14.488Z"
   },
   {
    "duration": 4,
    "start_time": "2022-04-25T13:15:14.661Z"
   },
   {
    "duration": 7,
    "start_time": "2022-04-25T13:15:16.038Z"
   },
   {
    "duration": 4,
    "start_time": "2022-04-25T13:15:16.451Z"
   },
   {
    "duration": 4,
    "start_time": "2022-04-25T13:15:16.665Z"
   },
   {
    "duration": 2,
    "start_time": "2022-04-25T13:15:17.000Z"
   },
   {
    "duration": 3,
    "start_time": "2022-04-25T13:15:17.214Z"
   },
   {
    "duration": 2,
    "start_time": "2022-04-25T13:15:17.543Z"
   },
   {
    "duration": 11,
    "start_time": "2022-04-25T13:15:18.304Z"
   },
   {
    "duration": 6,
    "start_time": "2022-04-25T13:15:19.025Z"
   },
   {
    "duration": 8,
    "start_time": "2022-04-25T13:15:19.185Z"
   },
   {
    "duration": 4,
    "start_time": "2022-04-25T13:15:19.345Z"
   },
   {
    "duration": 3,
    "start_time": "2022-04-25T13:15:19.482Z"
   },
   {
    "duration": 4,
    "start_time": "2022-04-25T13:15:19.631Z"
   },
   {
    "duration": 2,
    "start_time": "2022-04-25T13:15:19.792Z"
   },
   {
    "duration": 2,
    "start_time": "2022-04-25T13:15:19.937Z"
   },
   {
    "duration": 3,
    "start_time": "2022-04-25T13:15:20.092Z"
   },
   {
    "duration": 4,
    "start_time": "2022-04-25T13:15:20.243Z"
   },
   {
    "duration": 4,
    "start_time": "2022-04-25T13:15:20.402Z"
   },
   {
    "duration": 4,
    "start_time": "2022-04-25T13:15:20.553Z"
   },
   {
    "duration": 3,
    "start_time": "2022-04-25T13:15:20.696Z"
   },
   {
    "duration": 2,
    "start_time": "2022-04-25T13:15:20.864Z"
   },
   {
    "duration": 2,
    "start_time": "2022-04-25T13:15:21.031Z"
   },
   {
    "duration": 2,
    "start_time": "2022-04-25T13:15:21.166Z"
   },
   {
    "duration": 2,
    "start_time": "2022-04-25T13:15:21.357Z"
   },
   {
    "duration": 103,
    "start_time": "2022-04-25T13:15:21.516Z"
   },
   {
    "duration": 2,
    "start_time": "2022-04-25T13:15:21.690Z"
   },
   {
    "duration": 2,
    "start_time": "2022-04-25T13:15:21.842Z"
   },
   {
    "duration": 2,
    "start_time": "2022-04-25T13:15:22.192Z"
   },
   {
    "duration": 3,
    "start_time": "2022-04-25T13:15:22.352Z"
   },
   {
    "duration": 2,
    "start_time": "2022-04-25T13:15:22.518Z"
   },
   {
    "duration": 3,
    "start_time": "2022-04-25T13:15:34.566Z"
   },
   {
    "duration": 1298873,
    "start_time": "2022-04-25T13:15:35.155Z"
   },
   {
    "duration": 0,
    "start_time": "2022-04-25T13:37:14.030Z"
   },
   {
    "duration": 0,
    "start_time": "2022-04-25T13:37:14.031Z"
   },
   {
    "duration": 0,
    "start_time": "2022-04-25T13:37:14.032Z"
   },
   {
    "duration": 0,
    "start_time": "2022-04-25T13:37:14.033Z"
   },
   {
    "duration": 0,
    "start_time": "2022-04-25T13:37:14.034Z"
   },
   {
    "duration": 0,
    "start_time": "2022-04-25T13:37:14.035Z"
   },
   {
    "duration": 0,
    "start_time": "2022-04-25T13:37:14.037Z"
   },
   {
    "duration": 0,
    "start_time": "2022-04-25T13:37:14.037Z"
   },
   {
    "duration": 0,
    "start_time": "2022-04-25T13:37:14.038Z"
   },
   {
    "duration": 0,
    "start_time": "2022-04-25T13:37:14.039Z"
   },
   {
    "duration": 0,
    "start_time": "2022-04-25T13:37:14.040Z"
   },
   {
    "duration": 0,
    "start_time": "2022-04-25T13:37:14.042Z"
   },
   {
    "duration": 3,
    "start_time": "2022-04-25T13:37:20.640Z"
   },
   {
    "duration": 4061,
    "start_time": "2022-04-25T13:37:21.381Z"
   },
   {
    "duration": 4,
    "start_time": "2022-04-25T13:37:26.114Z"
   },
   {
    "duration": 6,
    "start_time": "2022-04-25T13:37:26.599Z"
   },
   {
    "duration": 3,
    "start_time": "2022-04-25T13:37:31.170Z"
   },
   {
    "duration": 12,
    "start_time": "2022-04-25T13:37:31.949Z"
   },
   {
    "duration": 12,
    "start_time": "2022-04-25T13:37:33.671Z"
   },
   {
    "duration": 12,
    "start_time": "2022-04-25T13:37:34.395Z"
   },
   {
    "duration": 5923,
    "start_time": "2022-04-25T13:38:19.696Z"
   },
   {
    "duration": 13,
    "start_time": "2022-04-25T13:38:28.564Z"
   },
   {
    "duration": 5,
    "start_time": "2022-04-25T13:38:29.444Z"
   }
  ],
  "kernelspec": {
   "display_name": "Python 3 (ipykernel)",
   "language": "python",
   "name": "python3"
  },
  "language_info": {
   "codemirror_mode": {
    "name": "ipython",
    "version": 3
   },
   "file_extension": ".py",
   "mimetype": "text/x-python",
   "name": "python",
   "nbconvert_exporter": "python",
   "pygments_lexer": "ipython3",
   "version": "3.9.7"
  },
  "toc": {
   "base_numbering": 1,
   "nav_menu": {},
   "number_sections": true,
   "sideBar": true,
   "skip_h1_title": true,
   "title_cell": "Содержание",
   "title_sidebar": "Contents",
   "toc_cell": true,
   "toc_position": {
    "height": "calc(100% - 180px)",
    "left": "10px",
    "top": "150px",
    "width": "426.667px"
   },
   "toc_section_display": true,
   "toc_window_display": false
  }
 },
 "nbformat": 4,
 "nbformat_minor": 2
}
