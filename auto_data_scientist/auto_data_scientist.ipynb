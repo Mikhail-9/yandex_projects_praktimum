{
 "cells": [
  {
   "cell_type": "markdown",
   "metadata": {},
   "source": [
    "# Определение стоимости автомобилей"
   ]
  },
  {
   "cell_type": "markdown",
   "metadata": {},
   "source": [
    "Сервис по продаже автомобилей с пробегом «Не бит, не крашен» разрабатывает приложение для привлечения новых клиентов. В нём можно быстро узнать рыночную стоимость своего автомобиля. В моём распоряжении исторические данные: технические характеристики, комплектации и цены автомобилей. Построю модель для определения стоимости. \n",
    "\n",
    "Ключевые метрики:\n",
    "\n",
    "- качество предсказания;\n",
    "- скорость предсказания;\n",
    "- время обучения."
   ]
  },
  {
   "cell_type": "markdown",
   "metadata": {},
   "source": [
    "<h1>Содержание<span class=\"tocSkip\"></span></h1>\n",
    "<div class=\"toc\"><ul class=\"toc-item\"><li><span><a href=\"#Подготовка-данных\" data-toc-modified-id=\"Подготовка-данных-1\"><span class=\"toc-item-num\">1&nbsp;&nbsp;</span>Подготовка данных</a></span><ul class=\"toc-item\"><li><span><a href=\"#Обработаем-выбросы\" data-toc-modified-id=\"Обработаем-выбросы-1.1\"><span class=\"toc-item-num\">1.1&nbsp;&nbsp;</span>Обработаем выбросы</a></span></li><li><span><a href=\"#Удалим-пустые-признаки-и-не-имеющие-отношения-к-машинам.\" data-toc-modified-id=\"Удалим-пустые-признаки-и-не-имеющие-отношения-к-машинам.-1.2\"><span class=\"toc-item-num\">1.2&nbsp;&nbsp;</span>Удалим пустые признаки и не имеющие отношения к машинам.</a></span></li></ul></li><li><span><a href=\"#Обучение-моделей\" data-toc-modified-id=\"Обучение-моделей-2\"><span class=\"toc-item-num\">2&nbsp;&nbsp;</span>Обучение моделей</a></span><ul class=\"toc-item\"><li><span><a href=\"#Используем-LightGBM\" data-toc-modified-id=\"Используем-LightGBM-2.1\"><span class=\"toc-item-num\">2.1&nbsp;&nbsp;</span>Используем LightGBM</a></span></li><li><span><a href=\"#Перебор-гиперпараметров\" data-toc-modified-id=\"Перебор-гиперпараметров-2.2\"><span class=\"toc-item-num\">2.2&nbsp;&nbsp;</span>Перебор гиперпараметров</a></span></li><li><span><a href=\"#Предикт-на-тесте\" data-toc-modified-id=\"Предикт-на-тесте-2.3\"><span class=\"toc-item-num\">2.3&nbsp;&nbsp;</span>Предикт на тесте</a></span></li><li><span><a href=\"#Используем-CatBoost\" data-toc-modified-id=\"Используем-CatBoost-2.4\"><span class=\"toc-item-num\">2.4&nbsp;&nbsp;</span>Используем CatBoost</a></span></li><li><span><a href=\"#Предикт-на-тесте\" data-toc-modified-id=\"Предикт-на-тесте-2.5\"><span class=\"toc-item-num\">2.5&nbsp;&nbsp;</span>Предикт на тесте</a></span></li><li><span><a href=\"#Интерпретация-признаков-модели\" data-toc-modified-id=\"Интерпретация-признаков-модели-2.6\"><span class=\"toc-item-num\">2.6&nbsp;&nbsp;</span>Интерпретация признаков модели</a></span></li><li><span><a href=\"#Используем-LinearRegression\" data-toc-modified-id=\"Используем-LinearRegression-2.7\"><span class=\"toc-item-num\">2.7&nbsp;&nbsp;</span>Используем LinearRegression</a></span></li></ul></li><li><span><a href=\"#Анализ-моделей\" data-toc-modified-id=\"Анализ-моделей-3\"><span class=\"toc-item-num\">3&nbsp;&nbsp;</span>Анализ моделей</a></span></li><li><span><a href=\"#Чек-лист-проверки\" data-toc-modified-id=\"Чек-лист-проверки-4\"><span class=\"toc-item-num\">4&nbsp;&nbsp;</span>Чек-лист проверки</a></span></li></ul></div>"
   ]
  },
  {
   "cell_type": "markdown",
   "metadata": {},
   "source": [
    "## Подготовка данных"
   ]
  },
  {
   "cell_type": "code",
   "execution_count": 1,
   "metadata": {},
   "outputs": [],
   "source": [
    "import pandas as pd\n",
    "import numpy as np\n",
    "from sklearn.model_selection import train_test_split\n",
    "from sklearn.metrics import mean_squared_error\n",
    "from sklearn.metrics import r2_score\n",
    "import lightgbm as lgb\n",
    "from sklearn.preprocessing import OrdinalEncoder\n",
    "from catboost import CatBoostRegressor\n",
    "import time\n",
    "from sklearn.model_selection import GridSearchCV\n",
    "from sklearn.preprocessing import OneHotEncoder\n",
    "from sklearn.linear_model import LinearRegression\n",
    "from sklearn.model_selection import cross_val_score"
   ]
  },
  {
   "cell_type": "code",
   "execution_count": 2,
   "metadata": {},
   "outputs": [],
   "source": [
    "try:\n",
    "    auto = pd.read_csv(\n",
    "        '/Users/bogda/anaconda3/projects/praktikum/project9_auto/autos.csv'\n",
    "    )\n",
    "except FileNotFoundError as e:\n",
    "    print(e)\n",
    "    auto = pd.read_csv('/datasets/autos.csv')"
   ]
  },
  {
   "cell_type": "code",
   "execution_count": 3,
   "metadata": {},
   "outputs": [
    {
     "data": {
      "text/html": [
       "<div>\n",
       "<style scoped>\n",
       "    .dataframe tbody tr th:only-of-type {\n",
       "        vertical-align: middle;\n",
       "    }\n",
       "\n",
       "    .dataframe tbody tr th {\n",
       "        vertical-align: top;\n",
       "    }\n",
       "\n",
       "    .dataframe thead th {\n",
       "        text-align: right;\n",
       "    }\n",
       "</style>\n",
       "<table border=\"1\" class=\"dataframe\">\n",
       "  <thead>\n",
       "    <tr style=\"text-align: right;\">\n",
       "      <th></th>\n",
       "      <th>DateCrawled</th>\n",
       "      <th>Price</th>\n",
       "      <th>VehicleType</th>\n",
       "      <th>RegistrationYear</th>\n",
       "      <th>Gearbox</th>\n",
       "      <th>Power</th>\n",
       "      <th>Model</th>\n",
       "      <th>Kilometer</th>\n",
       "      <th>RegistrationMonth</th>\n",
       "      <th>FuelType</th>\n",
       "      <th>Brand</th>\n",
       "      <th>NotRepaired</th>\n",
       "      <th>DateCreated</th>\n",
       "      <th>NumberOfPictures</th>\n",
       "      <th>PostalCode</th>\n",
       "      <th>LastSeen</th>\n",
       "    </tr>\n",
       "  </thead>\n",
       "  <tbody>\n",
       "    <tr>\n",
       "      <th>0</th>\n",
       "      <td>2016-03-24 11:52:17</td>\n",
       "      <td>480</td>\n",
       "      <td>NaN</td>\n",
       "      <td>1993</td>\n",
       "      <td>manual</td>\n",
       "      <td>0</td>\n",
       "      <td>golf</td>\n",
       "      <td>150000</td>\n",
       "      <td>0</td>\n",
       "      <td>petrol</td>\n",
       "      <td>volkswagen</td>\n",
       "      <td>NaN</td>\n",
       "      <td>2016-03-24 00:00:00</td>\n",
       "      <td>0</td>\n",
       "      <td>70435</td>\n",
       "      <td>2016-04-07 03:16:57</td>\n",
       "    </tr>\n",
       "    <tr>\n",
       "      <th>1</th>\n",
       "      <td>2016-03-24 10:58:45</td>\n",
       "      <td>18300</td>\n",
       "      <td>coupe</td>\n",
       "      <td>2011</td>\n",
       "      <td>manual</td>\n",
       "      <td>190</td>\n",
       "      <td>NaN</td>\n",
       "      <td>125000</td>\n",
       "      <td>5</td>\n",
       "      <td>gasoline</td>\n",
       "      <td>audi</td>\n",
       "      <td>yes</td>\n",
       "      <td>2016-03-24 00:00:00</td>\n",
       "      <td>0</td>\n",
       "      <td>66954</td>\n",
       "      <td>2016-04-07 01:46:50</td>\n",
       "    </tr>\n",
       "    <tr>\n",
       "      <th>2</th>\n",
       "      <td>2016-03-14 12:52:21</td>\n",
       "      <td>9800</td>\n",
       "      <td>suv</td>\n",
       "      <td>2004</td>\n",
       "      <td>auto</td>\n",
       "      <td>163</td>\n",
       "      <td>grand</td>\n",
       "      <td>125000</td>\n",
       "      <td>8</td>\n",
       "      <td>gasoline</td>\n",
       "      <td>jeep</td>\n",
       "      <td>NaN</td>\n",
       "      <td>2016-03-14 00:00:00</td>\n",
       "      <td>0</td>\n",
       "      <td>90480</td>\n",
       "      <td>2016-04-05 12:47:46</td>\n",
       "    </tr>\n",
       "    <tr>\n",
       "      <th>3</th>\n",
       "      <td>2016-03-17 16:54:04</td>\n",
       "      <td>1500</td>\n",
       "      <td>small</td>\n",
       "      <td>2001</td>\n",
       "      <td>manual</td>\n",
       "      <td>75</td>\n",
       "      <td>golf</td>\n",
       "      <td>150000</td>\n",
       "      <td>6</td>\n",
       "      <td>petrol</td>\n",
       "      <td>volkswagen</td>\n",
       "      <td>no</td>\n",
       "      <td>2016-03-17 00:00:00</td>\n",
       "      <td>0</td>\n",
       "      <td>91074</td>\n",
       "      <td>2016-03-17 17:40:17</td>\n",
       "    </tr>\n",
       "    <tr>\n",
       "      <th>4</th>\n",
       "      <td>2016-03-31 17:25:20</td>\n",
       "      <td>3600</td>\n",
       "      <td>small</td>\n",
       "      <td>2008</td>\n",
       "      <td>manual</td>\n",
       "      <td>69</td>\n",
       "      <td>fabia</td>\n",
       "      <td>90000</td>\n",
       "      <td>7</td>\n",
       "      <td>gasoline</td>\n",
       "      <td>skoda</td>\n",
       "      <td>no</td>\n",
       "      <td>2016-03-31 00:00:00</td>\n",
       "      <td>0</td>\n",
       "      <td>60437</td>\n",
       "      <td>2016-04-06 10:17:21</td>\n",
       "    </tr>\n",
       "  </tbody>\n",
       "</table>\n",
       "</div>"
      ],
      "text/plain": [
       "           DateCrawled  Price VehicleType  RegistrationYear Gearbox  Power  \\\n",
       "0  2016-03-24 11:52:17    480         NaN              1993  manual      0   \n",
       "1  2016-03-24 10:58:45  18300       coupe              2011  manual    190   \n",
       "2  2016-03-14 12:52:21   9800         suv              2004    auto    163   \n",
       "3  2016-03-17 16:54:04   1500       small              2001  manual     75   \n",
       "4  2016-03-31 17:25:20   3600       small              2008  manual     69   \n",
       "\n",
       "   Model  Kilometer  RegistrationMonth  FuelType       Brand NotRepaired  \\\n",
       "0   golf     150000                  0    petrol  volkswagen         NaN   \n",
       "1    NaN     125000                  5  gasoline        audi         yes   \n",
       "2  grand     125000                  8  gasoline        jeep         NaN   \n",
       "3   golf     150000                  6    petrol  volkswagen          no   \n",
       "4  fabia      90000                  7  gasoline       skoda          no   \n",
       "\n",
       "           DateCreated  NumberOfPictures  PostalCode             LastSeen  \n",
       "0  2016-03-24 00:00:00                 0       70435  2016-04-07 03:16:57  \n",
       "1  2016-03-24 00:00:00                 0       66954  2016-04-07 01:46:50  \n",
       "2  2016-03-14 00:00:00                 0       90480  2016-04-05 12:47:46  \n",
       "3  2016-03-17 00:00:00                 0       91074  2016-03-17 17:40:17  \n",
       "4  2016-03-31 00:00:00                 0       60437  2016-04-06 10:17:21  "
      ]
     },
     "execution_count": 3,
     "metadata": {},
     "output_type": "execute_result"
    }
   ],
   "source": [
    "auto.head()"
   ]
  },
  {
   "cell_type": "code",
   "execution_count": 4,
   "metadata": {},
   "outputs": [
    {
     "name": "stdout",
     "output_type": "stream",
     "text": [
      "<class 'pandas.core.frame.DataFrame'>\n",
      "RangeIndex: 354369 entries, 0 to 354368\n",
      "Data columns (total 16 columns):\n",
      " #   Column             Non-Null Count   Dtype \n",
      "---  ------             --------------   ----- \n",
      " 0   DateCrawled        354369 non-null  object\n",
      " 1   Price              354369 non-null  int64 \n",
      " 2   VehicleType        316879 non-null  object\n",
      " 3   RegistrationYear   354369 non-null  int64 \n",
      " 4   Gearbox            334536 non-null  object\n",
      " 5   Power              354369 non-null  int64 \n",
      " 6   Model              334664 non-null  object\n",
      " 7   Kilometer          354369 non-null  int64 \n",
      " 8   RegistrationMonth  354369 non-null  int64 \n",
      " 9   FuelType           321474 non-null  object\n",
      " 10  Brand              354369 non-null  object\n",
      " 11  NotRepaired        283215 non-null  object\n",
      " 12  DateCreated        354369 non-null  object\n",
      " 13  NumberOfPictures   354369 non-null  int64 \n",
      " 14  PostalCode         354369 non-null  int64 \n",
      " 15  LastSeen           354369 non-null  object\n",
      "dtypes: int64(7), object(9)\n",
      "memory usage: 43.3+ MB\n"
     ]
    }
   ],
   "source": [
    "auto.info()"
   ]
  },
  {
   "cell_type": "code",
   "execution_count": 5,
   "metadata": {},
   "outputs": [
    {
     "data": {
      "text/html": [
       "<div>\n",
       "<style scoped>\n",
       "    .dataframe tbody tr th:only-of-type {\n",
       "        vertical-align: middle;\n",
       "    }\n",
       "\n",
       "    .dataframe tbody tr th {\n",
       "        vertical-align: top;\n",
       "    }\n",
       "\n",
       "    .dataframe thead th {\n",
       "        text-align: right;\n",
       "    }\n",
       "</style>\n",
       "<table border=\"1\" class=\"dataframe\">\n",
       "  <thead>\n",
       "    <tr style=\"text-align: right;\">\n",
       "      <th></th>\n",
       "      <th>count</th>\n",
       "      <th>mean</th>\n",
       "      <th>std</th>\n",
       "      <th>min</th>\n",
       "      <th>25%</th>\n",
       "      <th>50%</th>\n",
       "      <th>75%</th>\n",
       "      <th>max</th>\n",
       "    </tr>\n",
       "  </thead>\n",
       "  <tbody>\n",
       "    <tr>\n",
       "      <th>Price</th>\n",
       "      <td>354369.0</td>\n",
       "      <td>4416.656776</td>\n",
       "      <td>4514.158514</td>\n",
       "      <td>0.0</td>\n",
       "      <td>1050.0</td>\n",
       "      <td>2700.0</td>\n",
       "      <td>6400.0</td>\n",
       "      <td>20000.0</td>\n",
       "    </tr>\n",
       "    <tr>\n",
       "      <th>RegistrationYear</th>\n",
       "      <td>354369.0</td>\n",
       "      <td>2004.234448</td>\n",
       "      <td>90.227958</td>\n",
       "      <td>1000.0</td>\n",
       "      <td>1999.0</td>\n",
       "      <td>2003.0</td>\n",
       "      <td>2008.0</td>\n",
       "      <td>9999.0</td>\n",
       "    </tr>\n",
       "    <tr>\n",
       "      <th>Power</th>\n",
       "      <td>354369.0</td>\n",
       "      <td>110.094337</td>\n",
       "      <td>189.850405</td>\n",
       "      <td>0.0</td>\n",
       "      <td>69.0</td>\n",
       "      <td>105.0</td>\n",
       "      <td>143.0</td>\n",
       "      <td>20000.0</td>\n",
       "    </tr>\n",
       "    <tr>\n",
       "      <th>Kilometer</th>\n",
       "      <td>354369.0</td>\n",
       "      <td>128211.172535</td>\n",
       "      <td>37905.341530</td>\n",
       "      <td>5000.0</td>\n",
       "      <td>125000.0</td>\n",
       "      <td>150000.0</td>\n",
       "      <td>150000.0</td>\n",
       "      <td>150000.0</td>\n",
       "    </tr>\n",
       "    <tr>\n",
       "      <th>RegistrationMonth</th>\n",
       "      <td>354369.0</td>\n",
       "      <td>5.714645</td>\n",
       "      <td>3.726421</td>\n",
       "      <td>0.0</td>\n",
       "      <td>3.0</td>\n",
       "      <td>6.0</td>\n",
       "      <td>9.0</td>\n",
       "      <td>12.0</td>\n",
       "    </tr>\n",
       "    <tr>\n",
       "      <th>NumberOfPictures</th>\n",
       "      <td>354369.0</td>\n",
       "      <td>0.000000</td>\n",
       "      <td>0.000000</td>\n",
       "      <td>0.0</td>\n",
       "      <td>0.0</td>\n",
       "      <td>0.0</td>\n",
       "      <td>0.0</td>\n",
       "      <td>0.0</td>\n",
       "    </tr>\n",
       "    <tr>\n",
       "      <th>PostalCode</th>\n",
       "      <td>354369.0</td>\n",
       "      <td>50508.689087</td>\n",
       "      <td>25783.096248</td>\n",
       "      <td>1067.0</td>\n",
       "      <td>30165.0</td>\n",
       "      <td>49413.0</td>\n",
       "      <td>71083.0</td>\n",
       "      <td>99998.0</td>\n",
       "    </tr>\n",
       "  </tbody>\n",
       "</table>\n",
       "</div>"
      ],
      "text/plain": [
       "                      count           mean           std     min       25%  \\\n",
       "Price              354369.0    4416.656776   4514.158514     0.0    1050.0   \n",
       "RegistrationYear   354369.0    2004.234448     90.227958  1000.0    1999.0   \n",
       "Power              354369.0     110.094337    189.850405     0.0      69.0   \n",
       "Kilometer          354369.0  128211.172535  37905.341530  5000.0  125000.0   \n",
       "RegistrationMonth  354369.0       5.714645      3.726421     0.0       3.0   \n",
       "NumberOfPictures   354369.0       0.000000      0.000000     0.0       0.0   \n",
       "PostalCode         354369.0   50508.689087  25783.096248  1067.0   30165.0   \n",
       "\n",
       "                        50%       75%       max  \n",
       "Price                2700.0    6400.0   20000.0  \n",
       "RegistrationYear     2003.0    2008.0    9999.0  \n",
       "Power                 105.0     143.0   20000.0  \n",
       "Kilometer          150000.0  150000.0  150000.0  \n",
       "RegistrationMonth       6.0       9.0      12.0  \n",
       "NumberOfPictures        0.0       0.0       0.0  \n",
       "PostalCode          49413.0   71083.0   99998.0  "
      ]
     },
     "execution_count": 5,
     "metadata": {},
     "output_type": "execute_result"
    }
   ],
   "source": [
    "auto.describe().T"
   ]
  },
  {
   "cell_type": "markdown",
   "metadata": {},
   "source": [
    "**Видим выбросы в RegistrationYear и Power. Есть пропущенные значения в VehicleType, Model, FeulType, NotRepaired обработаем ниже.**"
   ]
  },
  {
   "cell_type": "code",
   "execution_count": 6,
   "metadata": {},
   "outputs": [
    {
     "data": {
      "text/plain": [
       "array([nan, 'coupe', 'suv', 'small', 'sedan', 'convertible', 'bus',\n",
       "       'wagon', 'other'], dtype=object)"
      ]
     },
     "execution_count": 6,
     "metadata": {},
     "output_type": "execute_result"
    }
   ],
   "source": [
    "auto['VehicleType'].unique()"
   ]
  },
  {
   "cell_type": "code",
   "execution_count": 7,
   "metadata": {},
   "outputs": [],
   "source": [
    "auto['VehicleType'] = auto['VehicleType'].fillna('unknow')"
   ]
  },
  {
   "cell_type": "code",
   "execution_count": 8,
   "metadata": {},
   "outputs": [
    {
     "data": {
      "text/plain": [
       "array(['manual', 'auto', nan], dtype=object)"
      ]
     },
     "execution_count": 8,
     "metadata": {},
     "output_type": "execute_result"
    }
   ],
   "source": [
    "auto['Gearbox'].unique()"
   ]
  },
  {
   "cell_type": "code",
   "execution_count": 9,
   "metadata": {},
   "outputs": [
    {
     "data": {
      "text/plain": [
       "19833"
      ]
     },
     "execution_count": 9,
     "metadata": {},
     "output_type": "execute_result"
    }
   ],
   "source": [
    "auto['Gearbox'].isnull().sum()"
   ]
  },
  {
   "cell_type": "code",
   "execution_count": 76,
   "metadata": {},
   "outputs": [
    {
     "data": {
      "text/plain": [
       "0.9999915342481989"
      ]
     },
     "execution_count": 76,
     "metadata": {},
     "output_type": "execute_result"
    }
   ],
   "source": [
    "auto['Gearbox'].duplicated().mean()"
   ]
  },
  {
   "cell_type": "code",
   "execution_count": 80,
   "metadata": {},
   "outputs": [
    {
     "data": {
      "text/plain": [
       "0.0"
      ]
     },
     "execution_count": 80,
     "metadata": {},
     "output_type": "execute_result"
    }
   ],
   "source": [
    "auto['Gearbox'].isnull().sum() / len(auto['Gearbox'])"
   ]
  },
  {
   "cell_type": "code",
   "execution_count": 10,
   "metadata": {},
   "outputs": [],
   "source": [
    "auto['Gearbox'] = auto['Gearbox'].fillna('unknow')"
   ]
  },
  {
   "cell_type": "code",
   "execution_count": 11,
   "metadata": {},
   "outputs": [],
   "source": [
    "auto['Model'] = auto['Model'].fillna('unknow')"
   ]
  },
  {
   "cell_type": "code",
   "execution_count": 12,
   "metadata": {},
   "outputs": [],
   "source": [
    "auto['FuelType'] = auto['FuelType'].fillna('unknow')"
   ]
  },
  {
   "cell_type": "code",
   "execution_count": 13,
   "metadata": {},
   "outputs": [],
   "source": [
    "auto['NotRepaired'] = auto['NotRepaired'].fillna('unknow')"
   ]
  },
  {
   "cell_type": "markdown",
   "metadata": {},
   "source": [
    "### Обработаем выбросы"
   ]
  },
  {
   "cell_type": "markdown",
   "metadata": {},
   "source": [
    "**Автомобилей с мощностью 0 л.с. и 20000 не бывает, примем минимальную мощность за мощность \"Оки\" - 33 л.с. а максимальную за мощность Porsche 911 GT2 RS - 700 л.с., остльные значения заменим медианой.**"
   ]
  },
  {
   "cell_type": "code",
   "execution_count": 14,
   "metadata": {},
   "outputs": [],
   "source": [
    "median_p = auto['Power'].median()"
   ]
  },
  {
   "cell_type": "code",
   "execution_count": 15,
   "metadata": {
    "scrolled": true
   },
   "outputs": [
    {
     "name": "stderr",
     "output_type": "stream",
     "text": [
      "C:\\Users\\bogda\\AppData\\Local\\Temp/ipykernel_9428/2762156584.py:1: SettingWithCopyWarning: \n",
      "A value is trying to be set on a copy of a slice from a DataFrame.\n",
      "Try using .loc[row_indexer,col_indexer] = value instead\n",
      "\n",
      "See the caveats in the documentation: https://pandas.pydata.org/pandas-docs/stable/user_guide/indexing.html#returning-a-view-versus-a-copy\n",
      "  auto.loc[auto['Power'] < 33]['Power'] = median_p\n"
     ]
    }
   ],
   "source": [
    "auto.loc[auto['Power'] < 33]['Power'] = median_p"
   ]
  },
  {
   "cell_type": "code",
   "execution_count": 16,
   "metadata": {},
   "outputs": [
    {
     "name": "stderr",
     "output_type": "stream",
     "text": [
      "C:\\Users\\bogda\\AppData\\Local\\Temp/ipykernel_9428/136562776.py:1: SettingWithCopyWarning: \n",
      "A value is trying to be set on a copy of a slice from a DataFrame.\n",
      "Try using .loc[row_indexer,col_indexer] = value instead\n",
      "\n",
      "See the caveats in the documentation: https://pandas.pydata.org/pandas-docs/stable/user_guide/indexing.html#returning-a-view-versus-a-copy\n",
      "  auto.loc[auto['Power'] > 700]['Power'] = median_p\n"
     ]
    }
   ],
   "source": [
    "auto.loc[auto['Power'] > 700]['Power'] = median_p"
   ]
  },
  {
   "cell_type": "markdown",
   "metadata": {},
   "source": [
    "**Примем 1937 г. регистрации автомобиля за минимальное значение и текущий год за максимальное, остальное заменим медианой.**"
   ]
  },
  {
   "cell_type": "code",
   "execution_count": 17,
   "metadata": {},
   "outputs": [],
   "source": [
    "median_r = auto['RegistrationYear'].median()"
   ]
  },
  {
   "cell_type": "code",
   "execution_count": 18,
   "metadata": {},
   "outputs": [
    {
     "name": "stderr",
     "output_type": "stream",
     "text": [
      "C:\\Users\\bogda\\AppData\\Local\\Temp/ipykernel_9428/2987177897.py:1: SettingWithCopyWarning: \n",
      "A value is trying to be set on a copy of a slice from a DataFrame.\n",
      "Try using .loc[row_indexer,col_indexer] = value instead\n",
      "\n",
      "See the caveats in the documentation: https://pandas.pydata.org/pandas-docs/stable/user_guide/indexing.html#returning-a-view-versus-a-copy\n",
      "  auto.loc[auto['RegistrationYear'] < 1970]['RegistrationYear'] = median_r\n"
     ]
    }
   ],
   "source": [
    "auto.loc[auto['RegistrationYear'] < 1970]['RegistrationYear'] = median_r"
   ]
  },
  {
   "cell_type": "code",
   "execution_count": 19,
   "metadata": {
    "scrolled": true
   },
   "outputs": [
    {
     "name": "stderr",
     "output_type": "stream",
     "text": [
      "C:\\Users\\bogda\\AppData\\Local\\Temp/ipykernel_9428/632691518.py:1: SettingWithCopyWarning: \n",
      "A value is trying to be set on a copy of a slice from a DataFrame.\n",
      "Try using .loc[row_indexer,col_indexer] = value instead\n",
      "\n",
      "See the caveats in the documentation: https://pandas.pydata.org/pandas-docs/stable/user_guide/indexing.html#returning-a-view-versus-a-copy\n",
      "  auto.loc[auto['RegistrationYear'] > 2022]['RegistrationYear'] = median_r\n"
     ]
    }
   ],
   "source": [
    "auto.loc[auto['RegistrationYear'] > 2022]['RegistrationYear'] = median_r"
   ]
  },
  {
   "cell_type": "markdown",
   "metadata": {},
   "source": [
    "### Удалим пустые признаки и не имеющие отношения к машинам."
   ]
  },
  {
   "cell_type": "markdown",
   "metadata": {},
   "source": [
    "**NumberOfPictures - пустой столбец. DateCrawled, DateCreated дата скачивания анкеты и дата создания кароточки не влияют на цену. Lastseen,PostalCode последнее время активности пользователя в сети и почтовый код тоже.**"
   ]
  },
  {
   "cell_type": "code",
   "execution_count": 20,
   "metadata": {},
   "outputs": [],
   "source": [
    "auto_pre = auto.drop(['NumberOfPictures', 'DateCrawled', 'DateCreated', 'LastSeen', 'PostalCode'], axis=1)"
   ]
  },
  {
   "cell_type": "code",
   "execution_count": 21,
   "metadata": {},
   "outputs": [
    {
     "data": {
      "text/html": [
       "<div>\n",
       "<style scoped>\n",
       "    .dataframe tbody tr th:only-of-type {\n",
       "        vertical-align: middle;\n",
       "    }\n",
       "\n",
       "    .dataframe tbody tr th {\n",
       "        vertical-align: top;\n",
       "    }\n",
       "\n",
       "    .dataframe thead th {\n",
       "        text-align: right;\n",
       "    }\n",
       "</style>\n",
       "<table border=\"1\" class=\"dataframe\">\n",
       "  <thead>\n",
       "    <tr style=\"text-align: right;\">\n",
       "      <th></th>\n",
       "      <th>Price</th>\n",
       "      <th>VehicleType</th>\n",
       "      <th>RegistrationYear</th>\n",
       "      <th>Gearbox</th>\n",
       "      <th>Power</th>\n",
       "      <th>Model</th>\n",
       "      <th>Kilometer</th>\n",
       "      <th>RegistrationMonth</th>\n",
       "      <th>FuelType</th>\n",
       "      <th>Brand</th>\n",
       "      <th>NotRepaired</th>\n",
       "    </tr>\n",
       "  </thead>\n",
       "  <tbody>\n",
       "    <tr>\n",
       "      <th>0</th>\n",
       "      <td>480</td>\n",
       "      <td>unknow</td>\n",
       "      <td>1993</td>\n",
       "      <td>manual</td>\n",
       "      <td>0</td>\n",
       "      <td>golf</td>\n",
       "      <td>150000</td>\n",
       "      <td>0</td>\n",
       "      <td>petrol</td>\n",
       "      <td>volkswagen</td>\n",
       "      <td>unknow</td>\n",
       "    </tr>\n",
       "    <tr>\n",
       "      <th>1</th>\n",
       "      <td>18300</td>\n",
       "      <td>coupe</td>\n",
       "      <td>2011</td>\n",
       "      <td>manual</td>\n",
       "      <td>190</td>\n",
       "      <td>unknow</td>\n",
       "      <td>125000</td>\n",
       "      <td>5</td>\n",
       "      <td>gasoline</td>\n",
       "      <td>audi</td>\n",
       "      <td>yes</td>\n",
       "    </tr>\n",
       "    <tr>\n",
       "      <th>2</th>\n",
       "      <td>9800</td>\n",
       "      <td>suv</td>\n",
       "      <td>2004</td>\n",
       "      <td>auto</td>\n",
       "      <td>163</td>\n",
       "      <td>grand</td>\n",
       "      <td>125000</td>\n",
       "      <td>8</td>\n",
       "      <td>gasoline</td>\n",
       "      <td>jeep</td>\n",
       "      <td>unknow</td>\n",
       "    </tr>\n",
       "    <tr>\n",
       "      <th>3</th>\n",
       "      <td>1500</td>\n",
       "      <td>small</td>\n",
       "      <td>2001</td>\n",
       "      <td>manual</td>\n",
       "      <td>75</td>\n",
       "      <td>golf</td>\n",
       "      <td>150000</td>\n",
       "      <td>6</td>\n",
       "      <td>petrol</td>\n",
       "      <td>volkswagen</td>\n",
       "      <td>no</td>\n",
       "    </tr>\n",
       "    <tr>\n",
       "      <th>4</th>\n",
       "      <td>3600</td>\n",
       "      <td>small</td>\n",
       "      <td>2008</td>\n",
       "      <td>manual</td>\n",
       "      <td>69</td>\n",
       "      <td>fabia</td>\n",
       "      <td>90000</td>\n",
       "      <td>7</td>\n",
       "      <td>gasoline</td>\n",
       "      <td>skoda</td>\n",
       "      <td>no</td>\n",
       "    </tr>\n",
       "    <tr>\n",
       "      <th>...</th>\n",
       "      <td>...</td>\n",
       "      <td>...</td>\n",
       "      <td>...</td>\n",
       "      <td>...</td>\n",
       "      <td>...</td>\n",
       "      <td>...</td>\n",
       "      <td>...</td>\n",
       "      <td>...</td>\n",
       "      <td>...</td>\n",
       "      <td>...</td>\n",
       "      <td>...</td>\n",
       "    </tr>\n",
       "    <tr>\n",
       "      <th>354364</th>\n",
       "      <td>0</td>\n",
       "      <td>unknow</td>\n",
       "      <td>2005</td>\n",
       "      <td>manual</td>\n",
       "      <td>0</td>\n",
       "      <td>colt</td>\n",
       "      <td>150000</td>\n",
       "      <td>7</td>\n",
       "      <td>petrol</td>\n",
       "      <td>mitsubishi</td>\n",
       "      <td>yes</td>\n",
       "    </tr>\n",
       "    <tr>\n",
       "      <th>354365</th>\n",
       "      <td>2200</td>\n",
       "      <td>unknow</td>\n",
       "      <td>2005</td>\n",
       "      <td>unknow</td>\n",
       "      <td>0</td>\n",
       "      <td>unknow</td>\n",
       "      <td>20000</td>\n",
       "      <td>1</td>\n",
       "      <td>unknow</td>\n",
       "      <td>sonstige_autos</td>\n",
       "      <td>unknow</td>\n",
       "    </tr>\n",
       "    <tr>\n",
       "      <th>354366</th>\n",
       "      <td>1199</td>\n",
       "      <td>convertible</td>\n",
       "      <td>2000</td>\n",
       "      <td>auto</td>\n",
       "      <td>101</td>\n",
       "      <td>fortwo</td>\n",
       "      <td>125000</td>\n",
       "      <td>3</td>\n",
       "      <td>petrol</td>\n",
       "      <td>smart</td>\n",
       "      <td>no</td>\n",
       "    </tr>\n",
       "    <tr>\n",
       "      <th>354367</th>\n",
       "      <td>9200</td>\n",
       "      <td>bus</td>\n",
       "      <td>1996</td>\n",
       "      <td>manual</td>\n",
       "      <td>102</td>\n",
       "      <td>transporter</td>\n",
       "      <td>150000</td>\n",
       "      <td>3</td>\n",
       "      <td>gasoline</td>\n",
       "      <td>volkswagen</td>\n",
       "      <td>no</td>\n",
       "    </tr>\n",
       "    <tr>\n",
       "      <th>354368</th>\n",
       "      <td>3400</td>\n",
       "      <td>wagon</td>\n",
       "      <td>2002</td>\n",
       "      <td>manual</td>\n",
       "      <td>100</td>\n",
       "      <td>golf</td>\n",
       "      <td>150000</td>\n",
       "      <td>6</td>\n",
       "      <td>gasoline</td>\n",
       "      <td>volkswagen</td>\n",
       "      <td>unknow</td>\n",
       "    </tr>\n",
       "  </tbody>\n",
       "</table>\n",
       "<p>354369 rows × 11 columns</p>\n",
       "</div>"
      ],
      "text/plain": [
       "        Price  VehicleType  RegistrationYear Gearbox  Power        Model  \\\n",
       "0         480       unknow              1993  manual      0         golf   \n",
       "1       18300        coupe              2011  manual    190       unknow   \n",
       "2        9800          suv              2004    auto    163        grand   \n",
       "3        1500        small              2001  manual     75         golf   \n",
       "4        3600        small              2008  manual     69        fabia   \n",
       "...       ...          ...               ...     ...    ...          ...   \n",
       "354364      0       unknow              2005  manual      0         colt   \n",
       "354365   2200       unknow              2005  unknow      0       unknow   \n",
       "354366   1199  convertible              2000    auto    101       fortwo   \n",
       "354367   9200          bus              1996  manual    102  transporter   \n",
       "354368   3400        wagon              2002  manual    100         golf   \n",
       "\n",
       "        Kilometer  RegistrationMonth  FuelType           Brand NotRepaired  \n",
       "0          150000                  0    petrol      volkswagen      unknow  \n",
       "1          125000                  5  gasoline            audi         yes  \n",
       "2          125000                  8  gasoline            jeep      unknow  \n",
       "3          150000                  6    petrol      volkswagen          no  \n",
       "4           90000                  7  gasoline           skoda          no  \n",
       "...           ...                ...       ...             ...         ...  \n",
       "354364     150000                  7    petrol      mitsubishi         yes  \n",
       "354365      20000                  1    unknow  sonstige_autos      unknow  \n",
       "354366     125000                  3    petrol           smart          no  \n",
       "354367     150000                  3  gasoline      volkswagen          no  \n",
       "354368     150000                  6  gasoline      volkswagen      unknow  \n",
       "\n",
       "[354369 rows x 11 columns]"
      ]
     },
     "execution_count": 21,
     "metadata": {},
     "output_type": "execute_result"
    }
   ],
   "source": [
    "auto_pre"
   ]
  },
  {
   "cell_type": "markdown",
   "metadata": {},
   "source": [
    "## Обучение моделей"
   ]
  },
  {
   "cell_type": "markdown",
   "metadata": {},
   "source": [
    "### Используем LightGBM"
   ]
  },
  {
   "cell_type": "markdown",
   "metadata": {},
   "source": [
    "* кодируем..."
   ]
  },
  {
   "cell_type": "code",
   "execution_count": 22,
   "metadata": {},
   "outputs": [],
   "source": [
    "encoder = OrdinalEncoder()"
   ]
  },
  {
   "cell_type": "code",
   "execution_count": 23,
   "metadata": {},
   "outputs": [],
   "source": [
    "auto_ord = pd.DataFrame(encoder.fit_transform(auto_pre), columns=auto_pre.columns)"
   ]
  },
  {
   "cell_type": "code",
   "execution_count": 24,
   "metadata": {},
   "outputs": [
    {
     "data": {
      "text/html": [
       "<div>\n",
       "<style scoped>\n",
       "    .dataframe tbody tr th:only-of-type {\n",
       "        vertical-align: middle;\n",
       "    }\n",
       "\n",
       "    .dataframe tbody tr th {\n",
       "        vertical-align: top;\n",
       "    }\n",
       "\n",
       "    .dataframe thead th {\n",
       "        text-align: right;\n",
       "    }\n",
       "</style>\n",
       "<table border=\"1\" class=\"dataframe\">\n",
       "  <thead>\n",
       "    <tr style=\"text-align: right;\">\n",
       "      <th></th>\n",
       "      <th>Price</th>\n",
       "      <th>VehicleType</th>\n",
       "      <th>RegistrationYear</th>\n",
       "      <th>Gearbox</th>\n",
       "      <th>Power</th>\n",
       "      <th>Model</th>\n",
       "      <th>Kilometer</th>\n",
       "      <th>RegistrationMonth</th>\n",
       "      <th>FuelType</th>\n",
       "      <th>Brand</th>\n",
       "      <th>NotRepaired</th>\n",
       "    </tr>\n",
       "  </thead>\n",
       "  <tbody>\n",
       "    <tr>\n",
       "      <th>0</th>\n",
       "      <td>256.0</td>\n",
       "      <td>7.0</td>\n",
       "      <td>86.0</td>\n",
       "      <td>1.0</td>\n",
       "      <td>0.0</td>\n",
       "      <td>116.0</td>\n",
       "      <td>12.0</td>\n",
       "      <td>0.0</td>\n",
       "      <td>6.0</td>\n",
       "      <td>38.0</td>\n",
       "      <td>1.0</td>\n",
       "    </tr>\n",
       "    <tr>\n",
       "      <th>1</th>\n",
       "      <td>3587.0</td>\n",
       "      <td>2.0</td>\n",
       "      <td>104.0</td>\n",
       "      <td>1.0</td>\n",
       "      <td>190.0</td>\n",
       "      <td>228.0</td>\n",
       "      <td>11.0</td>\n",
       "      <td>5.0</td>\n",
       "      <td>2.0</td>\n",
       "      <td>1.0</td>\n",
       "      <td>2.0</td>\n",
       "    </tr>\n",
       "    <tr>\n",
       "      <th>2</th>\n",
       "      <td>2590.0</td>\n",
       "      <td>6.0</td>\n",
       "      <td>97.0</td>\n",
       "      <td>0.0</td>\n",
       "      <td>163.0</td>\n",
       "      <td>117.0</td>\n",
       "      <td>11.0</td>\n",
       "      <td>8.0</td>\n",
       "      <td>2.0</td>\n",
       "      <td>14.0</td>\n",
       "      <td>1.0</td>\n",
       "    </tr>\n",
       "    <tr>\n",
       "      <th>3</th>\n",
       "      <td>696.0</td>\n",
       "      <td>5.0</td>\n",
       "      <td>94.0</td>\n",
       "      <td>1.0</td>\n",
       "      <td>75.0</td>\n",
       "      <td>116.0</td>\n",
       "      <td>12.0</td>\n",
       "      <td>6.0</td>\n",
       "      <td>6.0</td>\n",
       "      <td>38.0</td>\n",
       "      <td>0.0</td>\n",
       "    </tr>\n",
       "    <tr>\n",
       "      <th>4</th>\n",
       "      <td>1333.0</td>\n",
       "      <td>5.0</td>\n",
       "      <td>101.0</td>\n",
       "      <td>1.0</td>\n",
       "      <td>69.0</td>\n",
       "      <td>101.0</td>\n",
       "      <td>9.0</td>\n",
       "      <td>7.0</td>\n",
       "      <td>2.0</td>\n",
       "      <td>31.0</td>\n",
       "      <td>0.0</td>\n",
       "    </tr>\n",
       "    <tr>\n",
       "      <th>...</th>\n",
       "      <td>...</td>\n",
       "      <td>...</td>\n",
       "      <td>...</td>\n",
       "      <td>...</td>\n",
       "      <td>...</td>\n",
       "      <td>...</td>\n",
       "      <td>...</td>\n",
       "      <td>...</td>\n",
       "      <td>...</td>\n",
       "      <td>...</td>\n",
       "      <td>...</td>\n",
       "    </tr>\n",
       "    <tr>\n",
       "      <th>354364</th>\n",
       "      <td>0.0</td>\n",
       "      <td>7.0</td>\n",
       "      <td>98.0</td>\n",
       "      <td>1.0</td>\n",
       "      <td>0.0</td>\n",
       "      <td>78.0</td>\n",
       "      <td>12.0</td>\n",
       "      <td>7.0</td>\n",
       "      <td>6.0</td>\n",
       "      <td>22.0</td>\n",
       "      <td>2.0</td>\n",
       "    </tr>\n",
       "    <tr>\n",
       "      <th>354365</th>\n",
       "      <td>923.0</td>\n",
       "      <td>7.0</td>\n",
       "      <td>98.0</td>\n",
       "      <td>2.0</td>\n",
       "      <td>0.0</td>\n",
       "      <td>228.0</td>\n",
       "      <td>2.0</td>\n",
       "      <td>1.0</td>\n",
       "      <td>7.0</td>\n",
       "      <td>33.0</td>\n",
       "      <td>1.0</td>\n",
       "    </tr>\n",
       "    <tr>\n",
       "      <th>354366</th>\n",
       "      <td>568.0</td>\n",
       "      <td>1.0</td>\n",
       "      <td>93.0</td>\n",
       "      <td>0.0</td>\n",
       "      <td>101.0</td>\n",
       "      <td>106.0</td>\n",
       "      <td>11.0</td>\n",
       "      <td>3.0</td>\n",
       "      <td>6.0</td>\n",
       "      <td>32.0</td>\n",
       "      <td>0.0</td>\n",
       "    </tr>\n",
       "    <tr>\n",
       "      <th>354367</th>\n",
       "      <td>2492.0</td>\n",
       "      <td>0.0</td>\n",
       "      <td>89.0</td>\n",
       "      <td>1.0</td>\n",
       "      <td>102.0</td>\n",
       "      <td>224.0</td>\n",
       "      <td>12.0</td>\n",
       "      <td>3.0</td>\n",
       "      <td>2.0</td>\n",
       "      <td>38.0</td>\n",
       "      <td>0.0</td>\n",
       "    </tr>\n",
       "    <tr>\n",
       "      <th>354368</th>\n",
       "      <td>1274.0</td>\n",
       "      <td>8.0</td>\n",
       "      <td>95.0</td>\n",
       "      <td>1.0</td>\n",
       "      <td>100.0</td>\n",
       "      <td>116.0</td>\n",
       "      <td>12.0</td>\n",
       "      <td>6.0</td>\n",
       "      <td>2.0</td>\n",
       "      <td>38.0</td>\n",
       "      <td>1.0</td>\n",
       "    </tr>\n",
       "  </tbody>\n",
       "</table>\n",
       "<p>354369 rows × 11 columns</p>\n",
       "</div>"
      ],
      "text/plain": [
       "         Price  VehicleType  RegistrationYear  Gearbox  Power  Model  \\\n",
       "0        256.0          7.0              86.0      1.0    0.0  116.0   \n",
       "1       3587.0          2.0             104.0      1.0  190.0  228.0   \n",
       "2       2590.0          6.0              97.0      0.0  163.0  117.0   \n",
       "3        696.0          5.0              94.0      1.0   75.0  116.0   \n",
       "4       1333.0          5.0             101.0      1.0   69.0  101.0   \n",
       "...        ...          ...               ...      ...    ...    ...   \n",
       "354364     0.0          7.0              98.0      1.0    0.0   78.0   \n",
       "354365   923.0          7.0              98.0      2.0    0.0  228.0   \n",
       "354366   568.0          1.0              93.0      0.0  101.0  106.0   \n",
       "354367  2492.0          0.0              89.0      1.0  102.0  224.0   \n",
       "354368  1274.0          8.0              95.0      1.0  100.0  116.0   \n",
       "\n",
       "        Kilometer  RegistrationMonth  FuelType  Brand  NotRepaired  \n",
       "0            12.0                0.0       6.0   38.0          1.0  \n",
       "1            11.0                5.0       2.0    1.0          2.0  \n",
       "2            11.0                8.0       2.0   14.0          1.0  \n",
       "3            12.0                6.0       6.0   38.0          0.0  \n",
       "4             9.0                7.0       2.0   31.0          0.0  \n",
       "...           ...                ...       ...    ...          ...  \n",
       "354364       12.0                7.0       6.0   22.0          2.0  \n",
       "354365        2.0                1.0       7.0   33.0          1.0  \n",
       "354366       11.0                3.0       6.0   32.0          0.0  \n",
       "354367       12.0                3.0       2.0   38.0          0.0  \n",
       "354368       12.0                6.0       2.0   38.0          1.0  \n",
       "\n",
       "[354369 rows x 11 columns]"
      ]
     },
     "execution_count": 24,
     "metadata": {},
     "output_type": "execute_result"
    }
   ],
   "source": [
    "auto_ord"
   ]
  },
  {
   "cell_type": "code",
   "execution_count": 25,
   "metadata": {},
   "outputs": [],
   "source": [
    "auto_train, auto_valid = train_test_split(auto_ord, test_size=0.4, random_state=77)\n",
    "auto_valid, auto_test = train_test_split(auto_valid, test_size=0.5, random_state=77)"
   ]
  },
  {
   "cell_type": "markdown",
   "metadata": {},
   "source": [
    "**Проверим размер выборок**"
   ]
  },
  {
   "cell_type": "code",
   "execution_count": 26,
   "metadata": {},
   "outputs": [
    {
     "data": {
      "text/html": [
       "<div>\n",
       "<style scoped>\n",
       "    .dataframe tbody tr th:only-of-type {\n",
       "        vertical-align: middle;\n",
       "    }\n",
       "\n",
       "    .dataframe tbody tr th {\n",
       "        vertical-align: top;\n",
       "    }\n",
       "\n",
       "    .dataframe thead th {\n",
       "        text-align: right;\n",
       "    }\n",
       "</style>\n",
       "<table border=\"1\" class=\"dataframe\">\n",
       "  <thead>\n",
       "    <tr style=\"text-align: right;\">\n",
       "      <th></th>\n",
       "      <th>Price</th>\n",
       "      <th>VehicleType</th>\n",
       "      <th>RegistrationYear</th>\n",
       "      <th>Gearbox</th>\n",
       "      <th>Power</th>\n",
       "      <th>Model</th>\n",
       "      <th>Kilometer</th>\n",
       "      <th>RegistrationMonth</th>\n",
       "      <th>FuelType</th>\n",
       "      <th>Brand</th>\n",
       "      <th>NotRepaired</th>\n",
       "    </tr>\n",
       "  </thead>\n",
       "  <tbody>\n",
       "    <tr>\n",
       "      <th>336806</th>\n",
       "      <td>909.0</td>\n",
       "      <td>4.0</td>\n",
       "      <td>98.0</td>\n",
       "      <td>1.0</td>\n",
       "      <td>136.0</td>\n",
       "      <td>10.0</td>\n",
       "      <td>12.0</td>\n",
       "      <td>3.0</td>\n",
       "      <td>6.0</td>\n",
       "      <td>25.0</td>\n",
       "      <td>0.0</td>\n",
       "    </tr>\n",
       "    <tr>\n",
       "      <th>252536</th>\n",
       "      <td>1115.0</td>\n",
       "      <td>5.0</td>\n",
       "      <td>95.0</td>\n",
       "      <td>0.0</td>\n",
       "      <td>75.0</td>\n",
       "      <td>83.0</td>\n",
       "      <td>2.0</td>\n",
       "      <td>1.0</td>\n",
       "      <td>6.0</td>\n",
       "      <td>24.0</td>\n",
       "      <td>0.0</td>\n",
       "    </tr>\n",
       "    <tr>\n",
       "      <th>199374</th>\n",
       "      <td>611.0</td>\n",
       "      <td>4.0</td>\n",
       "      <td>86.0</td>\n",
       "      <td>1.0</td>\n",
       "      <td>115.0</td>\n",
       "      <td>11.0</td>\n",
       "      <td>12.0</td>\n",
       "      <td>3.0</td>\n",
       "      <td>6.0</td>\n",
       "      <td>2.0</td>\n",
       "      <td>0.0</td>\n",
       "    </tr>\n",
       "    <tr>\n",
       "      <th>189687</th>\n",
       "      <td>0.0</td>\n",
       "      <td>7.0</td>\n",
       "      <td>110.0</td>\n",
       "      <td>1.0</td>\n",
       "      <td>170.0</td>\n",
       "      <td>15.0</td>\n",
       "      <td>12.0</td>\n",
       "      <td>0.0</td>\n",
       "      <td>4.0</td>\n",
       "      <td>2.0</td>\n",
       "      <td>1.0</td>\n",
       "    </tr>\n",
       "    <tr>\n",
       "      <th>184728</th>\n",
       "      <td>339.0</td>\n",
       "      <td>3.0</td>\n",
       "      <td>94.0</td>\n",
       "      <td>1.0</td>\n",
       "      <td>64.0</td>\n",
       "      <td>62.0</td>\n",
       "      <td>12.0</td>\n",
       "      <td>4.0</td>\n",
       "      <td>2.0</td>\n",
       "      <td>38.0</td>\n",
       "      <td>2.0</td>\n",
       "    </tr>\n",
       "    <tr>\n",
       "      <th>...</th>\n",
       "      <td>...</td>\n",
       "      <td>...</td>\n",
       "      <td>...</td>\n",
       "      <td>...</td>\n",
       "      <td>...</td>\n",
       "      <td>...</td>\n",
       "      <td>...</td>\n",
       "      <td>...</td>\n",
       "      <td>...</td>\n",
       "      <td>...</td>\n",
       "      <td>...</td>\n",
       "    </tr>\n",
       "    <tr>\n",
       "      <th>138904</th>\n",
       "      <td>1252.0</td>\n",
       "      <td>7.0</td>\n",
       "      <td>90.0</td>\n",
       "      <td>2.0</td>\n",
       "      <td>0.0</td>\n",
       "      <td>228.0</td>\n",
       "      <td>11.0</td>\n",
       "      <td>12.0</td>\n",
       "      <td>6.0</td>\n",
       "      <td>2.0</td>\n",
       "      <td>0.0</td>\n",
       "    </tr>\n",
       "    <tr>\n",
       "      <th>107813</th>\n",
       "      <td>1862.0</td>\n",
       "      <td>5.0</td>\n",
       "      <td>102.0</td>\n",
       "      <td>1.0</td>\n",
       "      <td>174.0</td>\n",
       "      <td>8.0</td>\n",
       "      <td>11.0</td>\n",
       "      <td>2.0</td>\n",
       "      <td>6.0</td>\n",
       "      <td>25.0</td>\n",
       "      <td>0.0</td>\n",
       "    </tr>\n",
       "    <tr>\n",
       "      <th>215275</th>\n",
       "      <td>1954.0</td>\n",
       "      <td>5.0</td>\n",
       "      <td>102.0</td>\n",
       "      <td>1.0</td>\n",
       "      <td>99.0</td>\n",
       "      <td>123.0</td>\n",
       "      <td>8.0</td>\n",
       "      <td>1.0</td>\n",
       "      <td>6.0</td>\n",
       "      <td>11.0</td>\n",
       "      <td>0.0</td>\n",
       "    </tr>\n",
       "    <tr>\n",
       "      <th>74335</th>\n",
       "      <td>2626.0</td>\n",
       "      <td>8.0</td>\n",
       "      <td>101.0</td>\n",
       "      <td>1.0</td>\n",
       "      <td>109.0</td>\n",
       "      <td>77.0</td>\n",
       "      <td>11.0</td>\n",
       "      <td>1.0</td>\n",
       "      <td>2.0</td>\n",
       "      <td>21.0</td>\n",
       "      <td>0.0</td>\n",
       "    </tr>\n",
       "    <tr>\n",
       "      <th>178903</th>\n",
       "      <td>2137.0</td>\n",
       "      <td>0.0</td>\n",
       "      <td>105.0</td>\n",
       "      <td>1.0</td>\n",
       "      <td>125.0</td>\n",
       "      <td>223.0</td>\n",
       "      <td>12.0</td>\n",
       "      <td>5.0</td>\n",
       "      <td>2.0</td>\n",
       "      <td>10.0</td>\n",
       "      <td>0.0</td>\n",
       "    </tr>\n",
       "  </tbody>\n",
       "</table>\n",
       "<p>212621 rows × 11 columns</p>\n",
       "</div>"
      ],
      "text/plain": [
       "         Price  VehicleType  RegistrationYear  Gearbox  Power  Model  \\\n",
       "336806   909.0          4.0              98.0      1.0  136.0   10.0   \n",
       "252536  1115.0          5.0              95.0      0.0   75.0   83.0   \n",
       "199374   611.0          4.0              86.0      1.0  115.0   11.0   \n",
       "189687     0.0          7.0             110.0      1.0  170.0   15.0   \n",
       "184728   339.0          3.0              94.0      1.0   64.0   62.0   \n",
       "...        ...          ...               ...      ...    ...    ...   \n",
       "138904  1252.0          7.0              90.0      2.0    0.0  228.0   \n",
       "107813  1862.0          5.0             102.0      1.0  174.0    8.0   \n",
       "215275  1954.0          5.0             102.0      1.0   99.0  123.0   \n",
       "74335   2626.0          8.0             101.0      1.0  109.0   77.0   \n",
       "178903  2137.0          0.0             105.0      1.0  125.0  223.0   \n",
       "\n",
       "        Kilometer  RegistrationMonth  FuelType  Brand  NotRepaired  \n",
       "336806       12.0                3.0       6.0   25.0          0.0  \n",
       "252536        2.0                1.0       6.0   24.0          0.0  \n",
       "199374       12.0                3.0       6.0    2.0          0.0  \n",
       "189687       12.0                0.0       4.0    2.0          1.0  \n",
       "184728       12.0                4.0       2.0   38.0          2.0  \n",
       "...           ...                ...       ...    ...          ...  \n",
       "138904       11.0               12.0       6.0    2.0          0.0  \n",
       "107813       11.0                2.0       6.0   25.0          0.0  \n",
       "215275        8.0                1.0       6.0   11.0          0.0  \n",
       "74335        11.0                1.0       2.0   21.0          0.0  \n",
       "178903       12.0                5.0       2.0   10.0          0.0  \n",
       "\n",
       "[212621 rows x 11 columns]"
      ]
     },
     "execution_count": 26,
     "metadata": {},
     "output_type": "execute_result"
    }
   ],
   "source": [
    "auto_train"
   ]
  },
  {
   "cell_type": "code",
   "execution_count": 27,
   "metadata": {},
   "outputs": [
    {
     "data": {
      "text/plain": [
       "0.5999988712330931"
      ]
     },
     "execution_count": 27,
     "metadata": {},
     "output_type": "execute_result"
    }
   ],
   "source": [
    "len(auto_train) / len(auto)"
   ]
  },
  {
   "cell_type": "code",
   "execution_count": 28,
   "metadata": {},
   "outputs": [
    {
     "data": {
      "text/html": [
       "<div>\n",
       "<style scoped>\n",
       "    .dataframe tbody tr th:only-of-type {\n",
       "        vertical-align: middle;\n",
       "    }\n",
       "\n",
       "    .dataframe tbody tr th {\n",
       "        vertical-align: top;\n",
       "    }\n",
       "\n",
       "    .dataframe thead th {\n",
       "        text-align: right;\n",
       "    }\n",
       "</style>\n",
       "<table border=\"1\" class=\"dataframe\">\n",
       "  <thead>\n",
       "    <tr style=\"text-align: right;\">\n",
       "      <th></th>\n",
       "      <th>Price</th>\n",
       "      <th>VehicleType</th>\n",
       "      <th>RegistrationYear</th>\n",
       "      <th>Gearbox</th>\n",
       "      <th>Power</th>\n",
       "      <th>Model</th>\n",
       "      <th>Kilometer</th>\n",
       "      <th>RegistrationMonth</th>\n",
       "      <th>FuelType</th>\n",
       "      <th>Brand</th>\n",
       "      <th>NotRepaired</th>\n",
       "    </tr>\n",
       "  </thead>\n",
       "  <tbody>\n",
       "    <tr>\n",
       "      <th>34765</th>\n",
       "      <td>1537.0</td>\n",
       "      <td>4.0</td>\n",
       "      <td>100.0</td>\n",
       "      <td>0.0</td>\n",
       "      <td>150.0</td>\n",
       "      <td>95.0</td>\n",
       "      <td>12.0</td>\n",
       "      <td>4.0</td>\n",
       "      <td>2.0</td>\n",
       "      <td>20.0</td>\n",
       "      <td>0.0</td>\n",
       "    </tr>\n",
       "    <tr>\n",
       "      <th>3473</th>\n",
       "      <td>1439.0</td>\n",
       "      <td>0.0</td>\n",
       "      <td>99.0</td>\n",
       "      <td>1.0</td>\n",
       "      <td>90.0</td>\n",
       "      <td>150.0</td>\n",
       "      <td>10.0</td>\n",
       "      <td>6.0</td>\n",
       "      <td>6.0</td>\n",
       "      <td>24.0</td>\n",
       "      <td>0.0</td>\n",
       "    </tr>\n",
       "    <tr>\n",
       "      <th>35654</th>\n",
       "      <td>1447.0</td>\n",
       "      <td>4.0</td>\n",
       "      <td>98.0</td>\n",
       "      <td>1.0</td>\n",
       "      <td>136.0</td>\n",
       "      <td>103.0</td>\n",
       "      <td>12.0</td>\n",
       "      <td>5.0</td>\n",
       "      <td>2.0</td>\n",
       "      <td>10.0</td>\n",
       "      <td>0.0</td>\n",
       "    </tr>\n",
       "    <tr>\n",
       "      <th>213254</th>\n",
       "      <td>1690.0</td>\n",
       "      <td>3.0</td>\n",
       "      <td>92.0</td>\n",
       "      <td>1.0</td>\n",
       "      <td>102.0</td>\n",
       "      <td>166.0</td>\n",
       "      <td>12.0</td>\n",
       "      <td>1.0</td>\n",
       "      <td>2.0</td>\n",
       "      <td>38.0</td>\n",
       "      <td>0.0</td>\n",
       "    </tr>\n",
       "    <tr>\n",
       "      <th>128016</th>\n",
       "      <td>1943.0</td>\n",
       "      <td>2.0</td>\n",
       "      <td>101.0</td>\n",
       "      <td>2.0</td>\n",
       "      <td>71.0</td>\n",
       "      <td>106.0</td>\n",
       "      <td>9.0</td>\n",
       "      <td>8.0</td>\n",
       "      <td>6.0</td>\n",
       "      <td>32.0</td>\n",
       "      <td>0.0</td>\n",
       "    </tr>\n",
       "    <tr>\n",
       "      <th>...</th>\n",
       "      <td>...</td>\n",
       "      <td>...</td>\n",
       "      <td>...</td>\n",
       "      <td>...</td>\n",
       "      <td>...</td>\n",
       "      <td>...</td>\n",
       "      <td>...</td>\n",
       "      <td>...</td>\n",
       "      <td>...</td>\n",
       "      <td>...</td>\n",
       "      <td>...</td>\n",
       "    </tr>\n",
       "    <tr>\n",
       "      <th>1978</th>\n",
       "      <td>2469.0</td>\n",
       "      <td>8.0</td>\n",
       "      <td>100.0</td>\n",
       "      <td>1.0</td>\n",
       "      <td>102.0</td>\n",
       "      <td>224.0</td>\n",
       "      <td>12.0</td>\n",
       "      <td>1.0</td>\n",
       "      <td>2.0</td>\n",
       "      <td>38.0</td>\n",
       "      <td>0.0</td>\n",
       "    </tr>\n",
       "    <tr>\n",
       "      <th>150583</th>\n",
       "      <td>242.0</td>\n",
       "      <td>5.0</td>\n",
       "      <td>83.0</td>\n",
       "      <td>1.0</td>\n",
       "      <td>52.0</td>\n",
       "      <td>228.0</td>\n",
       "      <td>12.0</td>\n",
       "      <td>7.0</td>\n",
       "      <td>6.0</td>\n",
       "      <td>35.0</td>\n",
       "      <td>0.0</td>\n",
       "    </tr>\n",
       "    <tr>\n",
       "      <th>294070</th>\n",
       "      <td>222.0</td>\n",
       "      <td>7.0</td>\n",
       "      <td>110.0</td>\n",
       "      <td>1.0</td>\n",
       "      <td>0.0</td>\n",
       "      <td>102.0</td>\n",
       "      <td>12.0</td>\n",
       "      <td>0.0</td>\n",
       "      <td>7.0</td>\n",
       "      <td>10.0</td>\n",
       "      <td>2.0</td>\n",
       "    </tr>\n",
       "    <tr>\n",
       "      <th>84331</th>\n",
       "      <td>1028.0</td>\n",
       "      <td>2.0</td>\n",
       "      <td>95.0</td>\n",
       "      <td>1.0</td>\n",
       "      <td>0.0</td>\n",
       "      <td>214.0</td>\n",
       "      <td>11.0</td>\n",
       "      <td>1.0</td>\n",
       "      <td>6.0</td>\n",
       "      <td>9.0</td>\n",
       "      <td>0.0</td>\n",
       "    </tr>\n",
       "    <tr>\n",
       "      <th>221001</th>\n",
       "      <td>696.0</td>\n",
       "      <td>8.0</td>\n",
       "      <td>95.0</td>\n",
       "      <td>1.0</td>\n",
       "      <td>131.0</td>\n",
       "      <td>154.0</td>\n",
       "      <td>12.0</td>\n",
       "      <td>4.0</td>\n",
       "      <td>2.0</td>\n",
       "      <td>10.0</td>\n",
       "      <td>0.0</td>\n",
       "    </tr>\n",
       "  </tbody>\n",
       "</table>\n",
       "<p>70874 rows × 11 columns</p>\n",
       "</div>"
      ],
      "text/plain": [
       "         Price  VehicleType  RegistrationYear  Gearbox  Power  Model  \\\n",
       "34765   1537.0          4.0             100.0      0.0  150.0   95.0   \n",
       "3473    1439.0          0.0              99.0      1.0   90.0  150.0   \n",
       "35654   1447.0          4.0              98.0      1.0  136.0  103.0   \n",
       "213254  1690.0          3.0              92.0      1.0  102.0  166.0   \n",
       "128016  1943.0          2.0             101.0      2.0   71.0  106.0   \n",
       "...        ...          ...               ...      ...    ...    ...   \n",
       "1978    2469.0          8.0             100.0      1.0  102.0  224.0   \n",
       "150583   242.0          5.0              83.0      1.0   52.0  228.0   \n",
       "294070   222.0          7.0             110.0      1.0    0.0  102.0   \n",
       "84331   1028.0          2.0              95.0      1.0    0.0  214.0   \n",
       "221001   696.0          8.0              95.0      1.0  131.0  154.0   \n",
       "\n",
       "        Kilometer  RegistrationMonth  FuelType  Brand  NotRepaired  \n",
       "34765        12.0                4.0       2.0   20.0          0.0  \n",
       "3473         10.0                6.0       6.0   24.0          0.0  \n",
       "35654        12.0                5.0       2.0   10.0          0.0  \n",
       "213254       12.0                1.0       2.0   38.0          0.0  \n",
       "128016        9.0                8.0       6.0   32.0          0.0  \n",
       "...           ...                ...       ...    ...          ...  \n",
       "1978         12.0                1.0       2.0   38.0          0.0  \n",
       "150583       12.0                7.0       6.0   35.0          0.0  \n",
       "294070       12.0                0.0       7.0   10.0          2.0  \n",
       "84331        11.0                1.0       6.0    9.0          0.0  \n",
       "221001       12.0                4.0       2.0   10.0          0.0  \n",
       "\n",
       "[70874 rows x 11 columns]"
      ]
     },
     "execution_count": 28,
     "metadata": {},
     "output_type": "execute_result"
    }
   ],
   "source": [
    "auto_valid"
   ]
  },
  {
   "cell_type": "code",
   "execution_count": 29,
   "metadata": {},
   "outputs": [
    {
     "data": {
      "text/plain": [
       "0.2000005643834534"
      ]
     },
     "execution_count": 29,
     "metadata": {},
     "output_type": "execute_result"
    }
   ],
   "source": [
    "len(auto_valid) / len(auto)"
   ]
  },
  {
   "cell_type": "code",
   "execution_count": 30,
   "metadata": {},
   "outputs": [
    {
     "data": {
      "text/html": [
       "<div>\n",
       "<style scoped>\n",
       "    .dataframe tbody tr th:only-of-type {\n",
       "        vertical-align: middle;\n",
       "    }\n",
       "\n",
       "    .dataframe tbody tr th {\n",
       "        vertical-align: top;\n",
       "    }\n",
       "\n",
       "    .dataframe thead th {\n",
       "        text-align: right;\n",
       "    }\n",
       "</style>\n",
       "<table border=\"1\" class=\"dataframe\">\n",
       "  <thead>\n",
       "    <tr style=\"text-align: right;\">\n",
       "      <th></th>\n",
       "      <th>Price</th>\n",
       "      <th>VehicleType</th>\n",
       "      <th>RegistrationYear</th>\n",
       "      <th>Gearbox</th>\n",
       "      <th>Power</th>\n",
       "      <th>Model</th>\n",
       "      <th>Kilometer</th>\n",
       "      <th>RegistrationMonth</th>\n",
       "      <th>FuelType</th>\n",
       "      <th>Brand</th>\n",
       "      <th>NotRepaired</th>\n",
       "    </tr>\n",
       "  </thead>\n",
       "  <tbody>\n",
       "    <tr>\n",
       "      <th>46010</th>\n",
       "      <td>1690.0</td>\n",
       "      <td>4.0</td>\n",
       "      <td>105.0</td>\n",
       "      <td>1.0</td>\n",
       "      <td>60.0</td>\n",
       "      <td>8.0</td>\n",
       "      <td>6.0</td>\n",
       "      <td>2.0</td>\n",
       "      <td>6.0</td>\n",
       "      <td>25.0</td>\n",
       "      <td>1.0</td>\n",
       "    </tr>\n",
       "    <tr>\n",
       "      <th>255055</th>\n",
       "      <td>0.0</td>\n",
       "      <td>3.0</td>\n",
       "      <td>91.0</td>\n",
       "      <td>1.0</td>\n",
       "      <td>102.0</td>\n",
       "      <td>11.0</td>\n",
       "      <td>12.0</td>\n",
       "      <td>10.0</td>\n",
       "      <td>6.0</td>\n",
       "      <td>2.0</td>\n",
       "      <td>0.0</td>\n",
       "    </tr>\n",
       "    <tr>\n",
       "      <th>24666</th>\n",
       "      <td>1674.0</td>\n",
       "      <td>8.0</td>\n",
       "      <td>96.0</td>\n",
       "      <td>0.0</td>\n",
       "      <td>170.0</td>\n",
       "      <td>95.0</td>\n",
       "      <td>12.0</td>\n",
       "      <td>4.0</td>\n",
       "      <td>2.0</td>\n",
       "      <td>20.0</td>\n",
       "      <td>0.0</td>\n",
       "    </tr>\n",
       "    <tr>\n",
       "      <th>78915</th>\n",
       "      <td>502.0</td>\n",
       "      <td>1.0</td>\n",
       "      <td>87.0</td>\n",
       "      <td>1.0</td>\n",
       "      <td>192.0</td>\n",
       "      <td>11.0</td>\n",
       "      <td>12.0</td>\n",
       "      <td>3.0</td>\n",
       "      <td>6.0</td>\n",
       "      <td>2.0</td>\n",
       "      <td>1.0</td>\n",
       "    </tr>\n",
       "    <tr>\n",
       "      <th>141315</th>\n",
       "      <td>2014.0</td>\n",
       "      <td>4.0</td>\n",
       "      <td>98.0</td>\n",
       "      <td>1.0</td>\n",
       "      <td>185.0</td>\n",
       "      <td>4.0</td>\n",
       "      <td>11.0</td>\n",
       "      <td>12.0</td>\n",
       "      <td>6.0</td>\n",
       "      <td>0.0</td>\n",
       "      <td>0.0</td>\n",
       "    </tr>\n",
       "    <tr>\n",
       "      <th>...</th>\n",
       "      <td>...</td>\n",
       "      <td>...</td>\n",
       "      <td>...</td>\n",
       "      <td>...</td>\n",
       "      <td>...</td>\n",
       "      <td>...</td>\n",
       "      <td>...</td>\n",
       "      <td>...</td>\n",
       "      <td>...</td>\n",
       "      <td>...</td>\n",
       "      <td>...</td>\n",
       "    </tr>\n",
       "    <tr>\n",
       "      <th>255713</th>\n",
       "      <td>169.0</td>\n",
       "      <td>5.0</td>\n",
       "      <td>92.0</td>\n",
       "      <td>1.0</td>\n",
       "      <td>75.0</td>\n",
       "      <td>103.0</td>\n",
       "      <td>12.0</td>\n",
       "      <td>2.0</td>\n",
       "      <td>6.0</td>\n",
       "      <td>10.0</td>\n",
       "      <td>2.0</td>\n",
       "    </tr>\n",
       "    <tr>\n",
       "      <th>350593</th>\n",
       "      <td>1663.0</td>\n",
       "      <td>7.0</td>\n",
       "      <td>110.0</td>\n",
       "      <td>2.0</td>\n",
       "      <td>125.0</td>\n",
       "      <td>154.0</td>\n",
       "      <td>12.0</td>\n",
       "      <td>0.0</td>\n",
       "      <td>7.0</td>\n",
       "      <td>10.0</td>\n",
       "      <td>1.0</td>\n",
       "    </tr>\n",
       "    <tr>\n",
       "      <th>311687</th>\n",
       "      <td>2293.0</td>\n",
       "      <td>7.0</td>\n",
       "      <td>111.0</td>\n",
       "      <td>1.0</td>\n",
       "      <td>110.0</td>\n",
       "      <td>149.0</td>\n",
       "      <td>12.0</td>\n",
       "      <td>9.0</td>\n",
       "      <td>7.0</td>\n",
       "      <td>27.0</td>\n",
       "      <td>0.0</td>\n",
       "    </tr>\n",
       "    <tr>\n",
       "      <th>323125</th>\n",
       "      <td>923.0</td>\n",
       "      <td>1.0</td>\n",
       "      <td>88.0</td>\n",
       "      <td>1.0</td>\n",
       "      <td>150.0</td>\n",
       "      <td>20.0</td>\n",
       "      <td>12.0</td>\n",
       "      <td>9.0</td>\n",
       "      <td>6.0</td>\n",
       "      <td>1.0</td>\n",
       "      <td>0.0</td>\n",
       "    </tr>\n",
       "    <tr>\n",
       "      <th>236012</th>\n",
       "      <td>107.0</td>\n",
       "      <td>7.0</td>\n",
       "      <td>109.0</td>\n",
       "      <td>1.0</td>\n",
       "      <td>90.0</td>\n",
       "      <td>98.0</td>\n",
       "      <td>12.0</td>\n",
       "      <td>5.0</td>\n",
       "      <td>7.0</td>\n",
       "      <td>10.0</td>\n",
       "      <td>0.0</td>\n",
       "    </tr>\n",
       "  </tbody>\n",
       "</table>\n",
       "<p>70874 rows × 11 columns</p>\n",
       "</div>"
      ],
      "text/plain": [
       "         Price  VehicleType  RegistrationYear  Gearbox  Power  Model  \\\n",
       "46010   1690.0          4.0             105.0      1.0   60.0    8.0   \n",
       "255055     0.0          3.0              91.0      1.0  102.0   11.0   \n",
       "24666   1674.0          8.0              96.0      0.0  170.0   95.0   \n",
       "78915    502.0          1.0              87.0      1.0  192.0   11.0   \n",
       "141315  2014.0          4.0              98.0      1.0  185.0    4.0   \n",
       "...        ...          ...               ...      ...    ...    ...   \n",
       "255713   169.0          5.0              92.0      1.0   75.0  103.0   \n",
       "350593  1663.0          7.0             110.0      2.0  125.0  154.0   \n",
       "311687  2293.0          7.0             111.0      1.0  110.0  149.0   \n",
       "323125   923.0          1.0              88.0      1.0  150.0   20.0   \n",
       "236012   107.0          7.0             109.0      1.0   90.0   98.0   \n",
       "\n",
       "        Kilometer  RegistrationMonth  FuelType  Brand  NotRepaired  \n",
       "46010         6.0                2.0       6.0   25.0          1.0  \n",
       "255055       12.0               10.0       6.0    2.0          0.0  \n",
       "24666        12.0                4.0       2.0   20.0          0.0  \n",
       "78915        12.0                3.0       6.0    2.0          1.0  \n",
       "141315       11.0               12.0       6.0    0.0          0.0  \n",
       "...           ...                ...       ...    ...          ...  \n",
       "255713       12.0                2.0       6.0   10.0          2.0  \n",
       "350593       12.0                0.0       7.0   10.0          1.0  \n",
       "311687       12.0                9.0       7.0   27.0          0.0  \n",
       "323125       12.0                9.0       6.0    1.0          0.0  \n",
       "236012       12.0                5.0       7.0   10.0          0.0  \n",
       "\n",
       "[70874 rows x 11 columns]"
      ]
     },
     "execution_count": 30,
     "metadata": {},
     "output_type": "execute_result"
    }
   ],
   "source": [
    "auto_test"
   ]
  },
  {
   "cell_type": "code",
   "execution_count": 31,
   "metadata": {},
   "outputs": [
    {
     "data": {
      "text/plain": [
       "0.2000005643834534"
      ]
     },
     "execution_count": 31,
     "metadata": {},
     "output_type": "execute_result"
    }
   ],
   "source": [
    "len(auto_test) / len(auto)"
   ]
  },
  {
   "cell_type": "code",
   "execution_count": 32,
   "metadata": {},
   "outputs": [],
   "source": [
    "features_train = auto_train.drop(['Price'], axis=1)\n",
    "target_train = auto_train['Price']\n",
    "features_valid = auto_valid.drop(['Price'], axis=1)\n",
    "target_valid = auto_valid['Price']\n",
    "features_test = auto_test.drop(['Price'], axis=1)\n",
    "target_test = auto_test['Price']"
   ]
  },
  {
   "cell_type": "code",
   "execution_count": 33,
   "metadata": {},
   "outputs": [],
   "source": [
    "booster = lgb.LGBMRegressor(n_estimators=1201, max_depth=21, random_state=77)"
   ]
  },
  {
   "cell_type": "code",
   "execution_count": 34,
   "metadata": {
    "scrolled": true
   },
   "outputs": [
    {
     "name": "stdout",
     "output_type": "stream",
     "text": [
      "[1]\tvalid_0's rmse: 895.115\tvalid_0's l2: 801231\n",
      "[2]\tvalid_0's rmse: 837.562\tvalid_0's l2: 701510\n",
      "[3]\tvalid_0's rmse: 786.714\tvalid_0's l2: 618920\n",
      "[4]\tvalid_0's rmse: 743.504\tvalid_0's l2: 552799\n",
      "[5]\tvalid_0's rmse: 705.19\tvalid_0's l2: 497293\n",
      "[6]\tvalid_0's rmse: 671.892\tvalid_0's l2: 451439\n",
      "[7]\tvalid_0's rmse: 642.259\tvalid_0's l2: 412496\n",
      "[8]\tvalid_0's rmse: 617.367\tvalid_0's l2: 381142\n",
      "[9]\tvalid_0's rmse: 595.293\tvalid_0's l2: 354374\n",
      "[10]\tvalid_0's rmse: 576.622\tvalid_0's l2: 332493\n",
      "[11]\tvalid_0's rmse: 559.689\tvalid_0's l2: 313252\n",
      "[12]\tvalid_0's rmse: 545.382\tvalid_0's l2: 297441\n",
      "[13]\tvalid_0's rmse: 532.823\tvalid_0's l2: 283900\n",
      "[14]\tvalid_0's rmse: 521.933\tvalid_0's l2: 272414\n",
      "[15]\tvalid_0's rmse: 512.181\tvalid_0's l2: 262330\n",
      "[16]\tvalid_0's rmse: 503.721\tvalid_0's l2: 253734\n",
      "[17]\tvalid_0's rmse: 495.523\tvalid_0's l2: 245543\n",
      "[18]\tvalid_0's rmse: 488.381\tvalid_0's l2: 238516\n",
      "[19]\tvalid_0's rmse: 482.345\tvalid_0's l2: 232657\n",
      "[20]\tvalid_0's rmse: 476.189\tvalid_0's l2: 226756\n",
      "[21]\tvalid_0's rmse: 470.933\tvalid_0's l2: 221778\n",
      "[22]\tvalid_0's rmse: 466.314\tvalid_0's l2: 217449\n",
      "[23]\tvalid_0's rmse: 462.247\tvalid_0's l2: 213673\n",
      "[24]\tvalid_0's rmse: 457.631\tvalid_0's l2: 209426\n",
      "[25]\tvalid_0's rmse: 454.202\tvalid_0's l2: 206300\n",
      "[26]\tvalid_0's rmse: 450.841\tvalid_0's l2: 203257\n",
      "[27]\tvalid_0's rmse: 447.893\tvalid_0's l2: 200608\n",
      "[28]\tvalid_0's rmse: 445.328\tvalid_0's l2: 198317\n",
      "[29]\tvalid_0's rmse: 443.128\tvalid_0's l2: 196363\n",
      "[30]\tvalid_0's rmse: 440.97\tvalid_0's l2: 194454\n",
      "[31]\tvalid_0's rmse: 439.26\tvalid_0's l2: 192950\n",
      "[32]\tvalid_0's rmse: 437.071\tvalid_0's l2: 191031\n",
      "[33]\tvalid_0's rmse: 435.358\tvalid_0's l2: 189536\n",
      "[34]\tvalid_0's rmse: 433.763\tvalid_0's l2: 188151\n",
      "[35]\tvalid_0's rmse: 431.894\tvalid_0's l2: 186533\n",
      "[36]\tvalid_0's rmse: 430.197\tvalid_0's l2: 185069\n",
      "[37]\tvalid_0's rmse: 428.836\tvalid_0's l2: 183900\n",
      "[38]\tvalid_0's rmse: 427.621\tvalid_0's l2: 182860\n",
      "[39]\tvalid_0's rmse: 426.515\tvalid_0's l2: 181915\n",
      "[40]\tvalid_0's rmse: 424.76\tvalid_0's l2: 180421\n",
      "[41]\tvalid_0's rmse: 423.93\tvalid_0's l2: 179716\n",
      "[42]\tvalid_0's rmse: 422.998\tvalid_0's l2: 178928\n",
      "[43]\tvalid_0's rmse: 421.583\tvalid_0's l2: 177732\n",
      "[44]\tvalid_0's rmse: 421.013\tvalid_0's l2: 177252\n",
      "[45]\tvalid_0's rmse: 419.862\tvalid_0's l2: 176284\n",
      "[46]\tvalid_0's rmse: 419.145\tvalid_0's l2: 175682\n",
      "[47]\tvalid_0's rmse: 418.038\tvalid_0's l2: 174756\n",
      "[48]\tvalid_0's rmse: 417.446\tvalid_0's l2: 174261\n",
      "[49]\tvalid_0's rmse: 416.895\tvalid_0's l2: 173802\n",
      "[50]\tvalid_0's rmse: 415.995\tvalid_0's l2: 173052\n",
      "[51]\tvalid_0's rmse: 415.493\tvalid_0's l2: 172635\n",
      "[52]\tvalid_0's rmse: 414.96\tvalid_0's l2: 172192\n",
      "[53]\tvalid_0's rmse: 414.278\tvalid_0's l2: 171626\n",
      "[54]\tvalid_0's rmse: 413.842\tvalid_0's l2: 171265\n",
      "[55]\tvalid_0's rmse: 413.203\tvalid_0's l2: 170736\n",
      "[56]\tvalid_0's rmse: 412.695\tvalid_0's l2: 170317\n",
      "[57]\tvalid_0's rmse: 412.438\tvalid_0's l2: 170105\n",
      "[58]\tvalid_0's rmse: 411.845\tvalid_0's l2: 169616\n",
      "[59]\tvalid_0's rmse: 411.352\tvalid_0's l2: 169210\n",
      "[60]\tvalid_0's rmse: 411.019\tvalid_0's l2: 168937\n",
      "[61]\tvalid_0's rmse: 410.539\tvalid_0's l2: 168543\n",
      "[62]\tvalid_0's rmse: 410.393\tvalid_0's l2: 168422\n",
      "[63]\tvalid_0's rmse: 409.964\tvalid_0's l2: 168071\n",
      "[64]\tvalid_0's rmse: 409.519\tvalid_0's l2: 167706\n",
      "[65]\tvalid_0's rmse: 409.311\tvalid_0's l2: 167536\n",
      "[66]\tvalid_0's rmse: 409.023\tvalid_0's l2: 167300\n",
      "[67]\tvalid_0's rmse: 408.748\tvalid_0's l2: 167075\n",
      "[68]\tvalid_0's rmse: 408.37\tvalid_0's l2: 166766\n",
      "[69]\tvalid_0's rmse: 408.165\tvalid_0's l2: 166598\n",
      "[70]\tvalid_0's rmse: 407.887\tvalid_0's l2: 166372\n",
      "[71]\tvalid_0's rmse: 407.503\tvalid_0's l2: 166058\n",
      "[72]\tvalid_0's rmse: 407.135\tvalid_0's l2: 165759\n",
      "[73]\tvalid_0's rmse: 406.935\tvalid_0's l2: 165596\n",
      "[74]\tvalid_0's rmse: 406.733\tvalid_0's l2: 165431\n",
      "[75]\tvalid_0's rmse: 406.503\tvalid_0's l2: 165245\n",
      "[76]\tvalid_0's rmse: 406.25\tvalid_0's l2: 165039\n",
      "[77]\tvalid_0's rmse: 406.157\tvalid_0's l2: 164963\n",
      "[78]\tvalid_0's rmse: 405.817\tvalid_0's l2: 164687\n",
      "[79]\tvalid_0's rmse: 405.498\tvalid_0's l2: 164429\n",
      "[80]\tvalid_0's rmse: 405.29\tvalid_0's l2: 164260\n",
      "[81]\tvalid_0's rmse: 405.053\tvalid_0's l2: 164068\n",
      "[82]\tvalid_0's rmse: 404.865\tvalid_0's l2: 163916\n",
      "[83]\tvalid_0's rmse: 404.623\tvalid_0's l2: 163720\n",
      "[84]\tvalid_0's rmse: 404.364\tvalid_0's l2: 163511\n",
      "[85]\tvalid_0's rmse: 404.143\tvalid_0's l2: 163332\n",
      "[86]\tvalid_0's rmse: 403.892\tvalid_0's l2: 163129\n",
      "[87]\tvalid_0's rmse: 403.564\tvalid_0's l2: 162864\n",
      "[88]\tvalid_0's rmse: 403.42\tvalid_0's l2: 162748\n",
      "[89]\tvalid_0's rmse: 403.234\tvalid_0's l2: 162597\n",
      "[90]\tvalid_0's rmse: 403.027\tvalid_0's l2: 162430\n",
      "[91]\tvalid_0's rmse: 402.916\tvalid_0's l2: 162342\n",
      "[92]\tvalid_0's rmse: 402.745\tvalid_0's l2: 162203\n",
      "[93]\tvalid_0's rmse: 402.526\tvalid_0's l2: 162027\n",
      "[94]\tvalid_0's rmse: 402.451\tvalid_0's l2: 161967\n",
      "[95]\tvalid_0's rmse: 402.348\tvalid_0's l2: 161884\n",
      "[96]\tvalid_0's rmse: 402.176\tvalid_0's l2: 161745\n",
      "[97]\tvalid_0's rmse: 402.068\tvalid_0's l2: 161658\n",
      "[98]\tvalid_0's rmse: 401.881\tvalid_0's l2: 161508\n",
      "[99]\tvalid_0's rmse: 401.775\tvalid_0's l2: 161423\n",
      "[100]\tvalid_0's rmse: 401.671\tvalid_0's l2: 161340\n",
      "[101]\tvalid_0's rmse: 401.595\tvalid_0's l2: 161278\n",
      "[102]\tvalid_0's rmse: 401.452\tvalid_0's l2: 161164\n",
      "[103]\tvalid_0's rmse: 401.322\tvalid_0's l2: 161059\n",
      "[104]\tvalid_0's rmse: 401.181\tvalid_0's l2: 160946\n",
      "[105]\tvalid_0's rmse: 401.008\tvalid_0's l2: 160808\n",
      "[106]\tvalid_0's rmse: 400.939\tvalid_0's l2: 160752\n",
      "[107]\tvalid_0's rmse: 400.793\tvalid_0's l2: 160635\n",
      "[108]\tvalid_0's rmse: 400.658\tvalid_0's l2: 160526\n",
      "[109]\tvalid_0's rmse: 400.574\tvalid_0's l2: 160460\n",
      "[110]\tvalid_0's rmse: 400.482\tvalid_0's l2: 160386\n",
      "[111]\tvalid_0's rmse: 400.308\tvalid_0's l2: 160247\n",
      "[112]\tvalid_0's rmse: 400.238\tvalid_0's l2: 160190\n",
      "[113]\tvalid_0's rmse: 400.068\tvalid_0's l2: 160054\n",
      "[114]\tvalid_0's rmse: 399.997\tvalid_0's l2: 159997\n",
      "[115]\tvalid_0's rmse: 399.923\tvalid_0's l2: 159939\n",
      "[116]\tvalid_0's rmse: 399.9\tvalid_0's l2: 159920\n",
      "[117]\tvalid_0's rmse: 399.808\tvalid_0's l2: 159846\n",
      "[118]\tvalid_0's rmse: 399.67\tvalid_0's l2: 159736\n",
      "[119]\tvalid_0's rmse: 399.563\tvalid_0's l2: 159650\n",
      "[120]\tvalid_0's rmse: 399.358\tvalid_0's l2: 159487\n",
      "[121]\tvalid_0's rmse: 399.298\tvalid_0's l2: 159439\n",
      "[122]\tvalid_0's rmse: 399.202\tvalid_0's l2: 159362\n",
      "[123]\tvalid_0's rmse: 399.076\tvalid_0's l2: 159262\n",
      "[124]\tvalid_0's rmse: 398.99\tvalid_0's l2: 159193\n",
      "[125]\tvalid_0's rmse: 398.832\tvalid_0's l2: 159067\n",
      "[126]\tvalid_0's rmse: 398.647\tvalid_0's l2: 158919\n",
      "[127]\tvalid_0's rmse: 398.468\tvalid_0's l2: 158777\n",
      "[128]\tvalid_0's rmse: 398.376\tvalid_0's l2: 158704\n",
      "[129]\tvalid_0's rmse: 398.255\tvalid_0's l2: 158607\n",
      "[130]\tvalid_0's rmse: 398.157\tvalid_0's l2: 158529\n",
      "[131]\tvalid_0's rmse: 398.088\tvalid_0's l2: 158474\n",
      "[132]\tvalid_0's rmse: 398.034\tvalid_0's l2: 158431\n",
      "[133]\tvalid_0's rmse: 397.941\tvalid_0's l2: 158357\n",
      "[134]\tvalid_0's rmse: 397.851\tvalid_0's l2: 158286\n",
      "[135]\tvalid_0's rmse: 397.738\tvalid_0's l2: 158196\n",
      "[136]\tvalid_0's rmse: 397.541\tvalid_0's l2: 158039\n",
      "[137]\tvalid_0's rmse: 397.431\tvalid_0's l2: 157952\n",
      "[138]\tvalid_0's rmse: 397.332\tvalid_0's l2: 157873\n",
      "[139]\tvalid_0's rmse: 397.191\tvalid_0's l2: 157761\n",
      "[140]\tvalid_0's rmse: 397.125\tvalid_0's l2: 157708\n",
      "[141]\tvalid_0's rmse: 397.028\tvalid_0's l2: 157631\n",
      "[142]\tvalid_0's rmse: 396.937\tvalid_0's l2: 157559\n",
      "[143]\tvalid_0's rmse: 396.852\tvalid_0's l2: 157491\n",
      "[144]\tvalid_0's rmse: 396.699\tvalid_0's l2: 157370\n",
      "[145]\tvalid_0's rmse: 396.571\tvalid_0's l2: 157268\n",
      "[146]\tvalid_0's rmse: 396.476\tvalid_0's l2: 157193\n",
      "[147]\tvalid_0's rmse: 396.421\tvalid_0's l2: 157150\n",
      "[148]\tvalid_0's rmse: 396.374\tvalid_0's l2: 157113\n",
      "[149]\tvalid_0's rmse: 396.221\tvalid_0's l2: 156991\n",
      "[150]\tvalid_0's rmse: 396.091\tvalid_0's l2: 156888\n",
      "[151]\tvalid_0's rmse: 395.958\tvalid_0's l2: 156783\n",
      "[152]\tvalid_0's rmse: 395.946\tvalid_0's l2: 156774\n",
      "[153]\tvalid_0's rmse: 395.853\tvalid_0's l2: 156699\n",
      "[154]\tvalid_0's rmse: 395.784\tvalid_0's l2: 156645\n",
      "[155]\tvalid_0's rmse: 395.719\tvalid_0's l2: 156594\n",
      "[156]\tvalid_0's rmse: 395.68\tvalid_0's l2: 156563\n",
      "[157]\tvalid_0's rmse: 395.566\tvalid_0's l2: 156472\n",
      "[158]\tvalid_0's rmse: 395.442\tvalid_0's l2: 156374\n",
      "[159]\tvalid_0's rmse: 395.369\tvalid_0's l2: 156317\n",
      "[160]\tvalid_0's rmse: 395.255\tvalid_0's l2: 156227\n",
      "[161]\tvalid_0's rmse: 395.167\tvalid_0's l2: 156157\n",
      "[162]\tvalid_0's rmse: 395.09\tvalid_0's l2: 156096\n",
      "[163]\tvalid_0's rmse: 395.03\tvalid_0's l2: 156049\n",
      "[164]\tvalid_0's rmse: 394.939\tvalid_0's l2: 155977\n",
      "[165]\tvalid_0's rmse: 394.84\tvalid_0's l2: 155898\n",
      "[166]\tvalid_0's rmse: 394.838\tvalid_0's l2: 155897\n",
      "[167]\tvalid_0's rmse: 394.805\tvalid_0's l2: 155871\n",
      "[168]\tvalid_0's rmse: 394.741\tvalid_0's l2: 155821\n",
      "[169]\tvalid_0's rmse: 394.724\tvalid_0's l2: 155807\n",
      "[170]\tvalid_0's rmse: 394.614\tvalid_0's l2: 155720\n",
      "[171]\tvalid_0's rmse: 394.563\tvalid_0's l2: 155680\n",
      "[172]\tvalid_0's rmse: 394.52\tvalid_0's l2: 155646\n",
      "[173]\tvalid_0's rmse: 394.477\tvalid_0's l2: 155612\n",
      "[174]\tvalid_0's rmse: 394.381\tvalid_0's l2: 155536\n",
      "[175]\tvalid_0's rmse: 394.24\tvalid_0's l2: 155425\n",
      "[176]\tvalid_0's rmse: 394.189\tvalid_0's l2: 155385\n",
      "[177]\tvalid_0's rmse: 394.154\tvalid_0's l2: 155357\n",
      "[178]\tvalid_0's rmse: 394.079\tvalid_0's l2: 155298\n",
      "[179]\tvalid_0's rmse: 393.994\tvalid_0's l2: 155231\n",
      "[180]\tvalid_0's rmse: 393.898\tvalid_0's l2: 155156\n",
      "[181]\tvalid_0's rmse: 393.829\tvalid_0's l2: 155101\n",
      "[182]\tvalid_0's rmse: 393.766\tvalid_0's l2: 155052\n",
      "[183]\tvalid_0's rmse: 393.714\tvalid_0's l2: 155011\n",
      "[184]\tvalid_0's rmse: 393.687\tvalid_0's l2: 154989\n",
      "[185]\tvalid_0's rmse: 393.555\tvalid_0's l2: 154885\n",
      "[186]\tvalid_0's rmse: 393.451\tvalid_0's l2: 154803\n",
      "[187]\tvalid_0's rmse: 393.412\tvalid_0's l2: 154773\n",
      "[188]\tvalid_0's rmse: 393.313\tvalid_0's l2: 154695\n",
      "[189]\tvalid_0's rmse: 393.248\tvalid_0's l2: 154644\n",
      "[190]\tvalid_0's rmse: 393.239\tvalid_0's l2: 154637\n",
      "[191]\tvalid_0's rmse: 393.217\tvalid_0's l2: 154619\n",
      "[192]\tvalid_0's rmse: 393.131\tvalid_0's l2: 154552\n",
      "[193]\tvalid_0's rmse: 393.104\tvalid_0's l2: 154531\n",
      "[194]\tvalid_0's rmse: 393.011\tvalid_0's l2: 154458\n",
      "[195]\tvalid_0's rmse: 392.985\tvalid_0's l2: 154437\n",
      "[196]\tvalid_0's rmse: 392.899\tvalid_0's l2: 154370\n",
      "[197]\tvalid_0's rmse: 392.878\tvalid_0's l2: 154353\n",
      "[198]\tvalid_0's rmse: 392.843\tvalid_0's l2: 154325\n",
      "[199]\tvalid_0's rmse: 392.834\tvalid_0's l2: 154319\n",
      "[200]\tvalid_0's rmse: 392.729\tvalid_0's l2: 154236\n",
      "[201]\tvalid_0's rmse: 392.695\tvalid_0's l2: 154209\n",
      "[202]\tvalid_0's rmse: 392.628\tvalid_0's l2: 154157\n",
      "[203]\tvalid_0's rmse: 392.587\tvalid_0's l2: 154125\n",
      "[204]\tvalid_0's rmse: 392.552\tvalid_0's l2: 154097\n",
      "[205]\tvalid_0's rmse: 392.523\tvalid_0's l2: 154075\n",
      "[206]\tvalid_0's rmse: 392.397\tvalid_0's l2: 153975\n",
      "[207]\tvalid_0's rmse: 392.372\tvalid_0's l2: 153956\n",
      "[208]\tvalid_0's rmse: 392.299\tvalid_0's l2: 153899\n",
      "[209]\tvalid_0's rmse: 392.207\tvalid_0's l2: 153826\n",
      "[210]\tvalid_0's rmse: 392.154\tvalid_0's l2: 153785\n",
      "[211]\tvalid_0's rmse: 392.123\tvalid_0's l2: 153760\n",
      "[212]\tvalid_0's rmse: 392.017\tvalid_0's l2: 153677\n",
      "[213]\tvalid_0's rmse: 391.997\tvalid_0's l2: 153662\n",
      "[214]\tvalid_0's rmse: 391.939\tvalid_0's l2: 153616\n",
      "[215]\tvalid_0's rmse: 391.861\tvalid_0's l2: 153555\n",
      "[216]\tvalid_0's rmse: 391.813\tvalid_0's l2: 153518\n",
      "[217]\tvalid_0's rmse: 391.686\tvalid_0's l2: 153418\n",
      "[218]\tvalid_0's rmse: 391.647\tvalid_0's l2: 153387\n",
      "[219]\tvalid_0's rmse: 391.624\tvalid_0's l2: 153369\n",
      "[220]\tvalid_0's rmse: 391.512\tvalid_0's l2: 153282\n",
      "[221]\tvalid_0's rmse: 391.444\tvalid_0's l2: 153228\n",
      "[222]\tvalid_0's rmse: 391.361\tvalid_0's l2: 153163\n",
      "[223]\tvalid_0's rmse: 391.354\tvalid_0's l2: 153158\n",
      "[224]\tvalid_0's rmse: 391.347\tvalid_0's l2: 153153\n",
      "[225]\tvalid_0's rmse: 391.353\tvalid_0's l2: 153157\n",
      "[226]\tvalid_0's rmse: 391.242\tvalid_0's l2: 153070\n",
      "[227]\tvalid_0's rmse: 391.114\tvalid_0's l2: 152970\n",
      "[228]\tvalid_0's rmse: 391.053\tvalid_0's l2: 152922\n",
      "[229]\tvalid_0's rmse: 390.999\tvalid_0's l2: 152880\n",
      "[230]\tvalid_0's rmse: 390.925\tvalid_0's l2: 152822\n",
      "[231]\tvalid_0's rmse: 390.896\tvalid_0's l2: 152800\n",
      "[232]\tvalid_0's rmse: 390.891\tvalid_0's l2: 152796\n",
      "[233]\tvalid_0's rmse: 390.854\tvalid_0's l2: 152767\n",
      "[234]\tvalid_0's rmse: 390.828\tvalid_0's l2: 152746\n",
      "[235]\tvalid_0's rmse: 390.777\tvalid_0's l2: 152707\n",
      "[236]\tvalid_0's rmse: 390.68\tvalid_0's l2: 152631\n",
      "[237]\tvalid_0's rmse: 390.613\tvalid_0's l2: 152579\n",
      "[238]\tvalid_0's rmse: 390.525\tvalid_0's l2: 152510\n",
      "[239]\tvalid_0's rmse: 390.415\tvalid_0's l2: 152424\n"
     ]
    },
    {
     "name": "stdout",
     "output_type": "stream",
     "text": [
      "[240]\tvalid_0's rmse: 390.303\tvalid_0's l2: 152337\n",
      "[241]\tvalid_0's rmse: 390.276\tvalid_0's l2: 152315\n",
      "[242]\tvalid_0's rmse: 390.261\tvalid_0's l2: 152304\n",
      "[243]\tvalid_0's rmse: 390.241\tvalid_0's l2: 152288\n",
      "[244]\tvalid_0's rmse: 390.159\tvalid_0's l2: 152224\n",
      "[245]\tvalid_0's rmse: 390.103\tvalid_0's l2: 152180\n",
      "[246]\tvalid_0's rmse: 390.016\tvalid_0's l2: 152112\n",
      "[247]\tvalid_0's rmse: 389.958\tvalid_0's l2: 152068\n",
      "[248]\tvalid_0's rmse: 389.917\tvalid_0's l2: 152036\n",
      "[249]\tvalid_0's rmse: 389.822\tvalid_0's l2: 151961\n",
      "[250]\tvalid_0's rmse: 389.808\tvalid_0's l2: 151950\n",
      "[251]\tvalid_0's rmse: 389.75\tvalid_0's l2: 151905\n",
      "[252]\tvalid_0's rmse: 389.728\tvalid_0's l2: 151888\n",
      "[253]\tvalid_0's rmse: 389.678\tvalid_0's l2: 151849\n",
      "[254]\tvalid_0's rmse: 389.617\tvalid_0's l2: 151801\n",
      "[255]\tvalid_0's rmse: 389.606\tvalid_0's l2: 151793\n",
      "[256]\tvalid_0's rmse: 389.6\tvalid_0's l2: 151788\n",
      "[257]\tvalid_0's rmse: 389.535\tvalid_0's l2: 151738\n",
      "[258]\tvalid_0's rmse: 389.476\tvalid_0's l2: 151692\n",
      "[259]\tvalid_0's rmse: 389.413\tvalid_0's l2: 151642\n",
      "[260]\tvalid_0's rmse: 389.314\tvalid_0's l2: 151565\n",
      "[261]\tvalid_0's rmse: 389.236\tvalid_0's l2: 151505\n",
      "[262]\tvalid_0's rmse: 389.199\tvalid_0's l2: 151476\n",
      "[263]\tvalid_0's rmse: 389.128\tvalid_0's l2: 151420\n",
      "[264]\tvalid_0's rmse: 389.035\tvalid_0's l2: 151349\n",
      "[265]\tvalid_0's rmse: 388.982\tvalid_0's l2: 151307\n",
      "[266]\tvalid_0's rmse: 388.913\tvalid_0's l2: 151253\n",
      "[267]\tvalid_0's rmse: 388.804\tvalid_0's l2: 151169\n",
      "[268]\tvalid_0's rmse: 388.792\tvalid_0's l2: 151159\n",
      "[269]\tvalid_0's rmse: 388.718\tvalid_0's l2: 151102\n",
      "[270]\tvalid_0's rmse: 388.662\tvalid_0's l2: 151059\n",
      "[271]\tvalid_0's rmse: 388.641\tvalid_0's l2: 151042\n",
      "[272]\tvalid_0's rmse: 388.575\tvalid_0's l2: 150991\n",
      "[273]\tvalid_0's rmse: 388.553\tvalid_0's l2: 150973\n",
      "[274]\tvalid_0's rmse: 388.503\tvalid_0's l2: 150934\n",
      "[275]\tvalid_0's rmse: 388.453\tvalid_0's l2: 150895\n",
      "[276]\tvalid_0's rmse: 388.415\tvalid_0's l2: 150867\n",
      "[277]\tvalid_0's rmse: 388.36\tvalid_0's l2: 150824\n",
      "[278]\tvalid_0's rmse: 388.318\tvalid_0's l2: 150791\n",
      "[279]\tvalid_0's rmse: 388.295\tvalid_0's l2: 150773\n",
      "[280]\tvalid_0's rmse: 388.299\tvalid_0's l2: 150776\n",
      "[281]\tvalid_0's rmse: 388.254\tvalid_0's l2: 150741\n",
      "[282]\tvalid_0's rmse: 388.203\tvalid_0's l2: 150702\n",
      "[283]\tvalid_0's rmse: 388.157\tvalid_0's l2: 150666\n",
      "[284]\tvalid_0's rmse: 388.119\tvalid_0's l2: 150636\n",
      "[285]\tvalid_0's rmse: 388.097\tvalid_0's l2: 150620\n",
      "[286]\tvalid_0's rmse: 388.021\tvalid_0's l2: 150560\n",
      "[287]\tvalid_0's rmse: 387.992\tvalid_0's l2: 150538\n",
      "[288]\tvalid_0's rmse: 387.984\tvalid_0's l2: 150532\n",
      "[289]\tvalid_0's rmse: 387.956\tvalid_0's l2: 150510\n",
      "[290]\tvalid_0's rmse: 387.95\tvalid_0's l2: 150505\n",
      "[291]\tvalid_0's rmse: 387.897\tvalid_0's l2: 150464\n",
      "[292]\tvalid_0's rmse: 387.886\tvalid_0's l2: 150456\n",
      "[293]\tvalid_0's rmse: 387.851\tvalid_0's l2: 150429\n",
      "[294]\tvalid_0's rmse: 387.777\tvalid_0's l2: 150371\n",
      "[295]\tvalid_0's rmse: 387.734\tvalid_0's l2: 150338\n",
      "[296]\tvalid_0's rmse: 387.708\tvalid_0's l2: 150317\n",
      "[297]\tvalid_0's rmse: 387.702\tvalid_0's l2: 150313\n",
      "[298]\tvalid_0's rmse: 387.689\tvalid_0's l2: 150303\n",
      "[299]\tvalid_0's rmse: 387.678\tvalid_0's l2: 150294\n",
      "[300]\tvalid_0's rmse: 387.604\tvalid_0's l2: 150237\n",
      "[301]\tvalid_0's rmse: 387.614\tvalid_0's l2: 150245\n",
      "[302]\tvalid_0's rmse: 387.595\tvalid_0's l2: 150230\n",
      "[303]\tvalid_0's rmse: 387.544\tvalid_0's l2: 150190\n",
      "[304]\tvalid_0's rmse: 387.516\tvalid_0's l2: 150169\n",
      "[305]\tvalid_0's rmse: 387.491\tvalid_0's l2: 150149\n",
      "[306]\tvalid_0's rmse: 387.439\tvalid_0's l2: 150109\n",
      "[307]\tvalid_0's rmse: 387.38\tvalid_0's l2: 150063\n",
      "[308]\tvalid_0's rmse: 387.37\tvalid_0's l2: 150055\n",
      "[309]\tvalid_0's rmse: 387.362\tvalid_0's l2: 150049\n",
      "[310]\tvalid_0's rmse: 387.301\tvalid_0's l2: 150002\n",
      "[311]\tvalid_0's rmse: 387.267\tvalid_0's l2: 149975\n",
      "[312]\tvalid_0's rmse: 387.221\tvalid_0's l2: 149940\n",
      "[313]\tvalid_0's rmse: 387.213\tvalid_0's l2: 149934\n",
      "[314]\tvalid_0's rmse: 387.171\tvalid_0's l2: 149902\n",
      "[315]\tvalid_0's rmse: 387.119\tvalid_0's l2: 149861\n",
      "[316]\tvalid_0's rmse: 387.061\tvalid_0's l2: 149816\n",
      "[317]\tvalid_0's rmse: 387.019\tvalid_0's l2: 149784\n",
      "[318]\tvalid_0's rmse: 386.992\tvalid_0's l2: 149763\n",
      "[319]\tvalid_0's rmse: 386.977\tvalid_0's l2: 149751\n",
      "[320]\tvalid_0's rmse: 386.946\tvalid_0's l2: 149728\n",
      "[321]\tvalid_0's rmse: 386.88\tvalid_0's l2: 149676\n",
      "[322]\tvalid_0's rmse: 386.866\tvalid_0's l2: 149665\n",
      "[323]\tvalid_0's rmse: 386.844\tvalid_0's l2: 149648\n",
      "[324]\tvalid_0's rmse: 386.837\tvalid_0's l2: 149643\n",
      "[325]\tvalid_0's rmse: 386.802\tvalid_0's l2: 149616\n",
      "[326]\tvalid_0's rmse: 386.782\tvalid_0's l2: 149600\n",
      "[327]\tvalid_0's rmse: 386.765\tvalid_0's l2: 149587\n",
      "[328]\tvalid_0's rmse: 386.698\tvalid_0's l2: 149535\n",
      "[329]\tvalid_0's rmse: 386.643\tvalid_0's l2: 149493\n",
      "[330]\tvalid_0's rmse: 386.565\tvalid_0's l2: 149433\n",
      "[331]\tvalid_0's rmse: 386.565\tvalid_0's l2: 149432\n",
      "[332]\tvalid_0's rmse: 386.577\tvalid_0's l2: 149442\n",
      "[333]\tvalid_0's rmse: 386.567\tvalid_0's l2: 149434\n",
      "[334]\tvalid_0's rmse: 386.537\tvalid_0's l2: 149410\n",
      "[335]\tvalid_0's rmse: 386.517\tvalid_0's l2: 149395\n",
      "[336]\tvalid_0's rmse: 386.492\tvalid_0's l2: 149376\n",
      "[337]\tvalid_0's rmse: 386.517\tvalid_0's l2: 149395\n",
      "[338]\tvalid_0's rmse: 386.479\tvalid_0's l2: 149366\n",
      "[339]\tvalid_0's rmse: 386.456\tvalid_0's l2: 149349\n",
      "[340]\tvalid_0's rmse: 386.456\tvalid_0's l2: 149348\n",
      "[341]\tvalid_0's rmse: 386.425\tvalid_0's l2: 149325\n",
      "[342]\tvalid_0's rmse: 386.405\tvalid_0's l2: 149309\n",
      "[343]\tvalid_0's rmse: 386.393\tvalid_0's l2: 149300\n",
      "[344]\tvalid_0's rmse: 386.37\tvalid_0's l2: 149282\n",
      "[345]\tvalid_0's rmse: 386.307\tvalid_0's l2: 149233\n",
      "[346]\tvalid_0's rmse: 386.265\tvalid_0's l2: 149201\n",
      "[347]\tvalid_0's rmse: 386.264\tvalid_0's l2: 149200\n",
      "[348]\tvalid_0's rmse: 386.279\tvalid_0's l2: 149211\n",
      "[349]\tvalid_0's rmse: 386.286\tvalid_0's l2: 149217\n",
      "[350]\tvalid_0's rmse: 386.228\tvalid_0's l2: 149172\n",
      "[351]\tvalid_0's rmse: 386.195\tvalid_0's l2: 149147\n",
      "[352]\tvalid_0's rmse: 386.169\tvalid_0's l2: 149126\n",
      "[353]\tvalid_0's rmse: 386.142\tvalid_0's l2: 149106\n",
      "[354]\tvalid_0's rmse: 386.143\tvalid_0's l2: 149106\n",
      "[355]\tvalid_0's rmse: 386.092\tvalid_0's l2: 149067\n",
      "[356]\tvalid_0's rmse: 386.086\tvalid_0's l2: 149063\n",
      "[357]\tvalid_0's rmse: 386.033\tvalid_0's l2: 149021\n",
      "[358]\tvalid_0's rmse: 386.017\tvalid_0's l2: 149009\n",
      "[359]\tvalid_0's rmse: 385.986\tvalid_0's l2: 148985\n",
      "[360]\tvalid_0's rmse: 385.955\tvalid_0's l2: 148961\n",
      "[361]\tvalid_0's rmse: 385.903\tvalid_0's l2: 148921\n",
      "[362]\tvalid_0's rmse: 385.887\tvalid_0's l2: 148909\n",
      "[363]\tvalid_0's rmse: 385.823\tvalid_0's l2: 148860\n",
      "[364]\tvalid_0's rmse: 385.826\tvalid_0's l2: 148862\n",
      "[365]\tvalid_0's rmse: 385.783\tvalid_0's l2: 148828\n",
      "[366]\tvalid_0's rmse: 385.796\tvalid_0's l2: 148838\n",
      "[367]\tvalid_0's rmse: 385.781\tvalid_0's l2: 148827\n",
      "[368]\tvalid_0's rmse: 385.749\tvalid_0's l2: 148802\n",
      "[369]\tvalid_0's rmse: 385.74\tvalid_0's l2: 148795\n",
      "[370]\tvalid_0's rmse: 385.678\tvalid_0's l2: 148748\n",
      "[371]\tvalid_0's rmse: 385.626\tvalid_0's l2: 148707\n",
      "[372]\tvalid_0's rmse: 385.584\tvalid_0's l2: 148675\n",
      "[373]\tvalid_0's rmse: 385.519\tvalid_0's l2: 148625\n",
      "[374]\tvalid_0's rmse: 385.476\tvalid_0's l2: 148592\n",
      "[375]\tvalid_0's rmse: 385.431\tvalid_0's l2: 148557\n",
      "[376]\tvalid_0's rmse: 385.383\tvalid_0's l2: 148520\n",
      "[377]\tvalid_0's rmse: 385.359\tvalid_0's l2: 148501\n",
      "[378]\tvalid_0's rmse: 385.342\tvalid_0's l2: 148488\n",
      "[379]\tvalid_0's rmse: 385.327\tvalid_0's l2: 148477\n",
      "[380]\tvalid_0's rmse: 385.292\tvalid_0's l2: 148450\n",
      "[381]\tvalid_0's rmse: 385.276\tvalid_0's l2: 148438\n",
      "[382]\tvalid_0's rmse: 385.272\tvalid_0's l2: 148435\n",
      "[383]\tvalid_0's rmse: 385.257\tvalid_0's l2: 148423\n",
      "[384]\tvalid_0's rmse: 385.227\tvalid_0's l2: 148400\n",
      "[385]\tvalid_0's rmse: 385.234\tvalid_0's l2: 148405\n",
      "[386]\tvalid_0's rmse: 385.233\tvalid_0's l2: 148404\n",
      "[387]\tvalid_0's rmse: 385.191\tvalid_0's l2: 148372\n",
      "[388]\tvalid_0's rmse: 385.152\tvalid_0's l2: 148342\n",
      "[389]\tvalid_0's rmse: 385.158\tvalid_0's l2: 148346\n",
      "[390]\tvalid_0's rmse: 385.18\tvalid_0's l2: 148363\n",
      "[391]\tvalid_0's rmse: 385.159\tvalid_0's l2: 148348\n",
      "[392]\tvalid_0's rmse: 385.112\tvalid_0's l2: 148311\n",
      "[393]\tvalid_0's rmse: 385.079\tvalid_0's l2: 148286\n",
      "[394]\tvalid_0's rmse: 385.044\tvalid_0's l2: 148259\n",
      "[395]\tvalid_0's rmse: 385.044\tvalid_0's l2: 148259\n",
      "[396]\tvalid_0's rmse: 385.001\tvalid_0's l2: 148226\n",
      "[397]\tvalid_0's rmse: 384.972\tvalid_0's l2: 148203\n",
      "[398]\tvalid_0's rmse: 384.967\tvalid_0's l2: 148200\n",
      "[399]\tvalid_0's rmse: 384.953\tvalid_0's l2: 148189\n",
      "[400]\tvalid_0's rmse: 384.946\tvalid_0's l2: 148183\n",
      "[401]\tvalid_0's rmse: 384.883\tvalid_0's l2: 148135\n",
      "[402]\tvalid_0's rmse: 384.864\tvalid_0's l2: 148121\n",
      "[403]\tvalid_0's rmse: 384.858\tvalid_0's l2: 148116\n",
      "[404]\tvalid_0's rmse: 384.834\tvalid_0's l2: 148097\n",
      "[405]\tvalid_0's rmse: 384.809\tvalid_0's l2: 148078\n"
     ]
    },
    {
     "name": "stdout",
     "output_type": "stream",
     "text": [
      "[406]\tvalid_0's rmse: 384.787\tvalid_0's l2: 148061\n",
      "[407]\tvalid_0's rmse: 384.755\tvalid_0's l2: 148036\n",
      "[408]\tvalid_0's rmse: 384.769\tvalid_0's l2: 148047\n",
      "[409]\tvalid_0's rmse: 384.754\tvalid_0's l2: 148035\n",
      "[410]\tvalid_0's rmse: 384.737\tvalid_0's l2: 148023\n",
      "[411]\tvalid_0's rmse: 384.702\tvalid_0's l2: 147996\n",
      "[412]\tvalid_0's rmse: 384.691\tvalid_0's l2: 147987\n",
      "[413]\tvalid_0's rmse: 384.671\tvalid_0's l2: 147971\n",
      "[414]\tvalid_0's rmse: 384.65\tvalid_0's l2: 147955\n",
      "[415]\tvalid_0's rmse: 384.631\tvalid_0's l2: 147941\n",
      "[416]\tvalid_0's rmse: 384.631\tvalid_0's l2: 147941\n",
      "[417]\tvalid_0's rmse: 384.604\tvalid_0's l2: 147920\n",
      "[418]\tvalid_0's rmse: 384.571\tvalid_0's l2: 147895\n",
      "[419]\tvalid_0's rmse: 384.552\tvalid_0's l2: 147880\n",
      "[420]\tvalid_0's rmse: 384.538\tvalid_0's l2: 147869\n",
      "[421]\tvalid_0's rmse: 384.535\tvalid_0's l2: 147867\n",
      "[422]\tvalid_0's rmse: 384.491\tvalid_0's l2: 147833\n",
      "[423]\tvalid_0's rmse: 384.448\tvalid_0's l2: 147801\n",
      "[424]\tvalid_0's rmse: 384.43\tvalid_0's l2: 147786\n",
      "[425]\tvalid_0's rmse: 384.411\tvalid_0's l2: 147772\n",
      "[426]\tvalid_0's rmse: 384.393\tvalid_0's l2: 147758\n",
      "[427]\tvalid_0's rmse: 384.378\tvalid_0's l2: 147746\n",
      "[428]\tvalid_0's rmse: 384.334\tvalid_0's l2: 147713\n",
      "[429]\tvalid_0's rmse: 384.321\tvalid_0's l2: 147703\n",
      "[430]\tvalid_0's rmse: 384.315\tvalid_0's l2: 147698\n",
      "[431]\tvalid_0's rmse: 384.307\tvalid_0's l2: 147692\n",
      "[432]\tvalid_0's rmse: 384.29\tvalid_0's l2: 147679\n",
      "[433]\tvalid_0's rmse: 384.27\tvalid_0's l2: 147664\n",
      "[434]\tvalid_0's rmse: 384.275\tvalid_0's l2: 147667\n",
      "[435]\tvalid_0's rmse: 384.272\tvalid_0's l2: 147665\n",
      "[436]\tvalid_0's rmse: 384.262\tvalid_0's l2: 147658\n",
      "[437]\tvalid_0's rmse: 384.257\tvalid_0's l2: 147653\n",
      "[438]\tvalid_0's rmse: 384.254\tvalid_0's l2: 147651\n",
      "[439]\tvalid_0's rmse: 384.24\tvalid_0's l2: 147641\n",
      "[440]\tvalid_0's rmse: 384.247\tvalid_0's l2: 147646\n",
      "[441]\tvalid_0's rmse: 384.221\tvalid_0's l2: 147626\n",
      "[442]\tvalid_0's rmse: 384.196\tvalid_0's l2: 147607\n",
      "[443]\tvalid_0's rmse: 384.183\tvalid_0's l2: 147597\n",
      "[444]\tvalid_0's rmse: 384.154\tvalid_0's l2: 147574\n",
      "[445]\tvalid_0's rmse: 384.144\tvalid_0's l2: 147567\n",
      "[446]\tvalid_0's rmse: 384.094\tvalid_0's l2: 147528\n",
      "[447]\tvalid_0's rmse: 384.072\tvalid_0's l2: 147511\n",
      "[448]\tvalid_0's rmse: 384.049\tvalid_0's l2: 147493\n",
      "[449]\tvalid_0's rmse: 384.008\tvalid_0's l2: 147462\n",
      "[450]\tvalid_0's rmse: 384.002\tvalid_0's l2: 147457\n",
      "[451]\tvalid_0's rmse: 383.969\tvalid_0's l2: 147432\n",
      "[452]\tvalid_0's rmse: 383.945\tvalid_0's l2: 147414\n",
      "[453]\tvalid_0's rmse: 383.924\tvalid_0's l2: 147397\n",
      "[454]\tvalid_0's rmse: 383.9\tvalid_0's l2: 147380\n",
      "[455]\tvalid_0's rmse: 383.864\tvalid_0's l2: 147351\n",
      "[456]\tvalid_0's rmse: 383.861\tvalid_0's l2: 147349\n",
      "[457]\tvalid_0's rmse: 383.833\tvalid_0's l2: 147328\n",
      "[458]\tvalid_0's rmse: 383.76\tvalid_0's l2: 147271\n",
      "[459]\tvalid_0's rmse: 383.763\tvalid_0's l2: 147274\n",
      "[460]\tvalid_0's rmse: 383.739\tvalid_0's l2: 147255\n",
      "[461]\tvalid_0's rmse: 383.706\tvalid_0's l2: 147231\n",
      "[462]\tvalid_0's rmse: 383.689\tvalid_0's l2: 147217\n",
      "[463]\tvalid_0's rmse: 383.658\tvalid_0's l2: 147194\n",
      "[464]\tvalid_0's rmse: 383.668\tvalid_0's l2: 147201\n",
      "[465]\tvalid_0's rmse: 383.655\tvalid_0's l2: 147191\n",
      "[466]\tvalid_0's rmse: 383.65\tvalid_0's l2: 147188\n",
      "[467]\tvalid_0's rmse: 383.66\tvalid_0's l2: 147195\n",
      "[468]\tvalid_0's rmse: 383.625\tvalid_0's l2: 147168\n",
      "[469]\tvalid_0's rmse: 383.608\tvalid_0's l2: 147155\n",
      "[470]\tvalid_0's rmse: 383.617\tvalid_0's l2: 147162\n",
      "[471]\tvalid_0's rmse: 383.613\tvalid_0's l2: 147159\n",
      "[472]\tvalid_0's rmse: 383.541\tvalid_0's l2: 147104\n",
      "[473]\tvalid_0's rmse: 383.533\tvalid_0's l2: 147097\n",
      "[474]\tvalid_0's rmse: 383.506\tvalid_0's l2: 147077\n",
      "[475]\tvalid_0's rmse: 383.476\tvalid_0's l2: 147054\n",
      "[476]\tvalid_0's rmse: 383.448\tvalid_0's l2: 147032\n",
      "[477]\tvalid_0's rmse: 383.399\tvalid_0's l2: 146995\n",
      "[478]\tvalid_0's rmse: 383.388\tvalid_0's l2: 146986\n",
      "[479]\tvalid_0's rmse: 383.348\tvalid_0's l2: 146956\n",
      "[480]\tvalid_0's rmse: 383.324\tvalid_0's l2: 146938\n",
      "[481]\tvalid_0's rmse: 383.287\tvalid_0's l2: 146909\n",
      "[482]\tvalid_0's rmse: 383.26\tvalid_0's l2: 146888\n",
      "[483]\tvalid_0's rmse: 383.229\tvalid_0's l2: 146864\n",
      "[484]\tvalid_0's rmse: 383.194\tvalid_0's l2: 146837\n",
      "[485]\tvalid_0's rmse: 383.173\tvalid_0's l2: 146821\n",
      "[486]\tvalid_0's rmse: 383.148\tvalid_0's l2: 146802\n",
      "[487]\tvalid_0's rmse: 383.109\tvalid_0's l2: 146773\n",
      "[488]\tvalid_0's rmse: 383.114\tvalid_0's l2: 146777\n",
      "[489]\tvalid_0's rmse: 383.111\tvalid_0's l2: 146774\n",
      "[490]\tvalid_0's rmse: 383.064\tvalid_0's l2: 146738\n",
      "[491]\tvalid_0's rmse: 383.07\tvalid_0's l2: 146742\n",
      "[492]\tvalid_0's rmse: 383.069\tvalid_0's l2: 146742\n",
      "[493]\tvalid_0's rmse: 383.054\tvalid_0's l2: 146730\n",
      "[494]\tvalid_0's rmse: 383.041\tvalid_0's l2: 146721\n",
      "[495]\tvalid_0's rmse: 383.021\tvalid_0's l2: 146705\n",
      "[496]\tvalid_0's rmse: 382.996\tvalid_0's l2: 146686\n",
      "[497]\tvalid_0's rmse: 382.973\tvalid_0's l2: 146668\n",
      "[498]\tvalid_0's rmse: 382.938\tvalid_0's l2: 146641\n",
      "[499]\tvalid_0's rmse: 382.923\tvalid_0's l2: 146630\n",
      "[500]\tvalid_0's rmse: 382.913\tvalid_0's l2: 146623\n",
      "[501]\tvalid_0's rmse: 382.895\tvalid_0's l2: 146608\n",
      "[502]\tvalid_0's rmse: 382.89\tvalid_0's l2: 146604\n",
      "[503]\tvalid_0's rmse: 382.857\tvalid_0's l2: 146579\n",
      "[504]\tvalid_0's rmse: 382.823\tvalid_0's l2: 146554\n",
      "[505]\tvalid_0's rmse: 382.798\tvalid_0's l2: 146534\n",
      "[506]\tvalid_0's rmse: 382.768\tvalid_0's l2: 146511\n",
      "[507]\tvalid_0's rmse: 382.766\tvalid_0's l2: 146509\n",
      "[508]\tvalid_0's rmse: 382.773\tvalid_0's l2: 146515\n",
      "[509]\tvalid_0's rmse: 382.75\tvalid_0's l2: 146497\n",
      "[510]\tvalid_0's rmse: 382.727\tvalid_0's l2: 146480\n",
      "[511]\tvalid_0's rmse: 382.698\tvalid_0's l2: 146458\n",
      "[512]\tvalid_0's rmse: 382.651\tvalid_0's l2: 146422\n",
      "[513]\tvalid_0's rmse: 382.641\tvalid_0's l2: 146414\n",
      "[514]\tvalid_0's rmse: 382.617\tvalid_0's l2: 146396\n",
      "[515]\tvalid_0's rmse: 382.613\tvalid_0's l2: 146393\n",
      "[516]\tvalid_0's rmse: 382.602\tvalid_0's l2: 146385\n",
      "[517]\tvalid_0's rmse: 382.586\tvalid_0's l2: 146372\n",
      "[518]\tvalid_0's rmse: 382.56\tvalid_0's l2: 146352\n",
      "[519]\tvalid_0's rmse: 382.535\tvalid_0's l2: 146333\n",
      "[520]\tvalid_0's rmse: 382.535\tvalid_0's l2: 146333\n",
      "[521]\tvalid_0's rmse: 382.524\tvalid_0's l2: 146325\n",
      "[522]\tvalid_0's rmse: 382.503\tvalid_0's l2: 146308\n",
      "[523]\tvalid_0's rmse: 382.476\tvalid_0's l2: 146288\n",
      "[524]\tvalid_0's rmse: 382.459\tvalid_0's l2: 146275\n",
      "[525]\tvalid_0's rmse: 382.433\tvalid_0's l2: 146255\n",
      "[526]\tvalid_0's rmse: 382.425\tvalid_0's l2: 146249\n",
      "[527]\tvalid_0's rmse: 382.42\tvalid_0's l2: 146245\n",
      "[528]\tvalid_0's rmse: 382.419\tvalid_0's l2: 146245\n",
      "[529]\tvalid_0's rmse: 382.384\tvalid_0's l2: 146217\n",
      "[530]\tvalid_0's rmse: 382.363\tvalid_0's l2: 146201\n",
      "[531]\tvalid_0's rmse: 382.356\tvalid_0's l2: 146196\n",
      "[532]\tvalid_0's rmse: 382.34\tvalid_0's l2: 146184\n",
      "[533]\tvalid_0's rmse: 382.328\tvalid_0's l2: 146174\n",
      "[534]\tvalid_0's rmse: 382.329\tvalid_0's l2: 146175\n",
      "[535]\tvalid_0's rmse: 382.318\tvalid_0's l2: 146167\n",
      "[536]\tvalid_0's rmse: 382.307\tvalid_0's l2: 146159\n",
      "[537]\tvalid_0's rmse: 382.263\tvalid_0's l2: 146125\n",
      "[538]\tvalid_0's rmse: 382.257\tvalid_0's l2: 146120\n",
      "[539]\tvalid_0's rmse: 382.226\tvalid_0's l2: 146096\n",
      "[540]\tvalid_0's rmse: 382.205\tvalid_0's l2: 146081\n",
      "[541]\tvalid_0's rmse: 382.211\tvalid_0's l2: 146085\n",
      "[542]\tvalid_0's rmse: 382.213\tvalid_0's l2: 146086\n",
      "[543]\tvalid_0's rmse: 382.214\tvalid_0's l2: 146088\n",
      "[544]\tvalid_0's rmse: 382.184\tvalid_0's l2: 146064\n",
      "[545]\tvalid_0's rmse: 382.182\tvalid_0's l2: 146063\n",
      "[546]\tvalid_0's rmse: 382.163\tvalid_0's l2: 146048\n",
      "[547]\tvalid_0's rmse: 382.146\tvalid_0's l2: 146035\n",
      "[548]\tvalid_0's rmse: 382.087\tvalid_0's l2: 145990\n",
      "[549]\tvalid_0's rmse: 382.081\tvalid_0's l2: 145986\n",
      "[550]\tvalid_0's rmse: 382.075\tvalid_0's l2: 145981\n",
      "[551]\tvalid_0's rmse: 382.062\tvalid_0's l2: 145971\n",
      "[552]\tvalid_0's rmse: 382.053\tvalid_0's l2: 145964\n",
      "[553]\tvalid_0's rmse: 382.049\tvalid_0's l2: 145961\n",
      "[554]\tvalid_0's rmse: 382.021\tvalid_0's l2: 145940\n",
      "[555]\tvalid_0's rmse: 382.02\tvalid_0's l2: 145939\n",
      "[556]\tvalid_0's rmse: 381.995\tvalid_0's l2: 145921\n",
      "[557]\tvalid_0's rmse: 381.971\tvalid_0's l2: 145902\n",
      "[558]\tvalid_0's rmse: 381.957\tvalid_0's l2: 145891\n",
      "[559]\tvalid_0's rmse: 381.94\tvalid_0's l2: 145878\n",
      "[560]\tvalid_0's rmse: 381.933\tvalid_0's l2: 145873\n",
      "[561]\tvalid_0's rmse: 381.895\tvalid_0's l2: 145844\n",
      "[562]\tvalid_0's rmse: 381.885\tvalid_0's l2: 145836\n",
      "[563]\tvalid_0's rmse: 381.865\tvalid_0's l2: 145821\n",
      "[564]\tvalid_0's rmse: 381.835\tvalid_0's l2: 145798\n",
      "[565]\tvalid_0's rmse: 381.799\tvalid_0's l2: 145770\n",
      "[566]\tvalid_0's rmse: 381.804\tvalid_0's l2: 145774\n",
      "[567]\tvalid_0's rmse: 381.779\tvalid_0's l2: 145755\n",
      "[568]\tvalid_0's rmse: 381.799\tvalid_0's l2: 145770\n",
      "[569]\tvalid_0's rmse: 381.8\tvalid_0's l2: 145771\n",
      "[570]\tvalid_0's rmse: 381.786\tvalid_0's l2: 145761\n",
      "[571]\tvalid_0's rmse: 381.753\tvalid_0's l2: 145735\n",
      "[572]\tvalid_0's rmse: 381.746\tvalid_0's l2: 145730\n",
      "[573]\tvalid_0's rmse: 381.737\tvalid_0's l2: 145723\n",
      "[574]\tvalid_0's rmse: 381.72\tvalid_0's l2: 145710\n",
      "[575]\tvalid_0's rmse: 381.724\tvalid_0's l2: 145713\n",
      "[576]\tvalid_0's rmse: 381.73\tvalid_0's l2: 145718\n",
      "[577]\tvalid_0's rmse: 381.714\tvalid_0's l2: 145705\n",
      "[578]\tvalid_0's rmse: 381.694\tvalid_0's l2: 145690\n",
      "[579]\tvalid_0's rmse: 381.679\tvalid_0's l2: 145679\n",
      "[580]\tvalid_0's rmse: 381.682\tvalid_0's l2: 145681\n",
      "[581]\tvalid_0's rmse: 381.688\tvalid_0's l2: 145685\n",
      "[582]\tvalid_0's rmse: 381.687\tvalid_0's l2: 145685\n",
      "[583]\tvalid_0's rmse: 381.679\tvalid_0's l2: 145679\n",
      "[584]\tvalid_0's rmse: 381.662\tvalid_0's l2: 145666\n",
      "[585]\tvalid_0's rmse: 381.64\tvalid_0's l2: 145649\n",
      "[586]\tvalid_0's rmse: 381.617\tvalid_0's l2: 145632\n",
      "[587]\tvalid_0's rmse: 381.614\tvalid_0's l2: 145629\n",
      "[588]\tvalid_0's rmse: 381.622\tvalid_0's l2: 145636\n",
      "[589]\tvalid_0's rmse: 381.601\tvalid_0's l2: 145619\n",
      "[590]\tvalid_0's rmse: 381.593\tvalid_0's l2: 145613\n",
      "[591]\tvalid_0's rmse: 381.563\tvalid_0's l2: 145590\n",
      "[592]\tvalid_0's rmse: 381.535\tvalid_0's l2: 145569\n",
      "[593]\tvalid_0's rmse: 381.521\tvalid_0's l2: 145558\n",
      "[594]\tvalid_0's rmse: 381.502\tvalid_0's l2: 145544\n",
      "[595]\tvalid_0's rmse: 381.482\tvalid_0's l2: 145529\n",
      "[596]\tvalid_0's rmse: 381.473\tvalid_0's l2: 145521\n",
      "[597]\tvalid_0's rmse: 381.455\tvalid_0's l2: 145508\n",
      "[598]\tvalid_0's rmse: 381.454\tvalid_0's l2: 145507\n",
      "[599]\tvalid_0's rmse: 381.443\tvalid_0's l2: 145499\n",
      "[600]\tvalid_0's rmse: 381.444\tvalid_0's l2: 145499\n",
      "[601]\tvalid_0's rmse: 381.418\tvalid_0's l2: 145480\n",
      "[602]\tvalid_0's rmse: 381.416\tvalid_0's l2: 145478\n",
      "[603]\tvalid_0's rmse: 381.392\tvalid_0's l2: 145460\n",
      "[604]\tvalid_0's rmse: 381.36\tvalid_0's l2: 145435\n",
      "[605]\tvalid_0's rmse: 381.342\tvalid_0's l2: 145422\n",
      "[606]\tvalid_0's rmse: 381.314\tvalid_0's l2: 145400\n",
      "[607]\tvalid_0's rmse: 381.29\tvalid_0's l2: 145382\n",
      "[608]\tvalid_0's rmse: 381.28\tvalid_0's l2: 145375\n",
      "[609]\tvalid_0's rmse: 381.264\tvalid_0's l2: 145362\n",
      "[610]\tvalid_0's rmse: 381.229\tvalid_0's l2: 145335\n",
      "[611]\tvalid_0's rmse: 381.219\tvalid_0's l2: 145328\n",
      "[612]\tvalid_0's rmse: 381.226\tvalid_0's l2: 145333\n",
      "[613]\tvalid_0's rmse: 381.229\tvalid_0's l2: 145335\n",
      "[614]\tvalid_0's rmse: 381.201\tvalid_0's l2: 145314\n",
      "[615]\tvalid_0's rmse: 381.175\tvalid_0's l2: 145295\n",
      "[616]\tvalid_0's rmse: 381.172\tvalid_0's l2: 145292\n",
      "[617]\tvalid_0's rmse: 381.177\tvalid_0's l2: 145296\n",
      "[618]\tvalid_0's rmse: 381.172\tvalid_0's l2: 145292\n",
      "[619]\tvalid_0's rmse: 381.154\tvalid_0's l2: 145278\n",
      "[620]\tvalid_0's rmse: 381.152\tvalid_0's l2: 145277\n",
      "[621]\tvalid_0's rmse: 381.159\tvalid_0's l2: 145283\n",
      "[622]\tvalid_0's rmse: 381.146\tvalid_0's l2: 145272\n",
      "[623]\tvalid_0's rmse: 381.151\tvalid_0's l2: 145276\n",
      "[624]\tvalid_0's rmse: 381.157\tvalid_0's l2: 145281\n",
      "[625]\tvalid_0's rmse: 381.14\tvalid_0's l2: 145268\n",
      "[626]\tvalid_0's rmse: 381.125\tvalid_0's l2: 145256\n"
     ]
    },
    {
     "name": "stdout",
     "output_type": "stream",
     "text": [
      "[627]\tvalid_0's rmse: 381.106\tvalid_0's l2: 145242\n",
      "[628]\tvalid_0's rmse: 381.097\tvalid_0's l2: 145235\n",
      "[629]\tvalid_0's rmse: 381.094\tvalid_0's l2: 145233\n",
      "[630]\tvalid_0's rmse: 381.064\tvalid_0's l2: 145210\n",
      "[631]\tvalid_0's rmse: 381.029\tvalid_0's l2: 145183\n",
      "[632]\tvalid_0's rmse: 381.008\tvalid_0's l2: 145167\n",
      "[633]\tvalid_0's rmse: 380.989\tvalid_0's l2: 145152\n",
      "[634]\tvalid_0's rmse: 380.986\tvalid_0's l2: 145151\n",
      "[635]\tvalid_0's rmse: 380.982\tvalid_0's l2: 145147\n",
      "[636]\tvalid_0's rmse: 380.959\tvalid_0's l2: 145130\n",
      "[637]\tvalid_0's rmse: 380.94\tvalid_0's l2: 145115\n",
      "[638]\tvalid_0's rmse: 380.914\tvalid_0's l2: 145096\n",
      "[639]\tvalid_0's rmse: 380.894\tvalid_0's l2: 145080\n",
      "[640]\tvalid_0's rmse: 380.903\tvalid_0's l2: 145087\n",
      "[641]\tvalid_0's rmse: 380.885\tvalid_0's l2: 145073\n",
      "[642]\tvalid_0's rmse: 380.846\tvalid_0's l2: 145044\n",
      "[643]\tvalid_0's rmse: 380.829\tvalid_0's l2: 145030\n",
      "[644]\tvalid_0's rmse: 380.816\tvalid_0's l2: 145021\n",
      "[645]\tvalid_0's rmse: 380.823\tvalid_0's l2: 145026\n",
      "[646]\tvalid_0's rmse: 380.834\tvalid_0's l2: 145034\n",
      "[647]\tvalid_0's rmse: 380.828\tvalid_0's l2: 145030\n",
      "[648]\tvalid_0's rmse: 380.847\tvalid_0's l2: 145045\n",
      "[649]\tvalid_0's rmse: 380.848\tvalid_0's l2: 145046\n",
      "[650]\tvalid_0's rmse: 380.832\tvalid_0's l2: 145033\n",
      "[651]\tvalid_0's rmse: 380.825\tvalid_0's l2: 145027\n",
      "[652]\tvalid_0's rmse: 380.824\tvalid_0's l2: 145027\n",
      "[653]\tvalid_0's rmse: 380.819\tvalid_0's l2: 145023\n",
      "[654]\tvalid_0's rmse: 380.809\tvalid_0's l2: 145016\n",
      "[655]\tvalid_0's rmse: 380.8\tvalid_0's l2: 145009\n",
      "[656]\tvalid_0's rmse: 380.798\tvalid_0's l2: 145007\n",
      "[657]\tvalid_0's rmse: 380.801\tvalid_0's l2: 145010\n",
      "[658]\tvalid_0's rmse: 380.789\tvalid_0's l2: 145001\n",
      "[659]\tvalid_0's rmse: 380.785\tvalid_0's l2: 144997\n",
      "[660]\tvalid_0's rmse: 380.764\tvalid_0's l2: 144981\n",
      "[661]\tvalid_0's rmse: 380.748\tvalid_0's l2: 144969\n",
      "[662]\tvalid_0's rmse: 380.729\tvalid_0's l2: 144955\n",
      "[663]\tvalid_0's rmse: 380.717\tvalid_0's l2: 144946\n",
      "[664]\tvalid_0's rmse: 380.689\tvalid_0's l2: 144924\n",
      "[665]\tvalid_0's rmse: 380.68\tvalid_0's l2: 144917\n",
      "[666]\tvalid_0's rmse: 380.683\tvalid_0's l2: 144920\n",
      "[667]\tvalid_0's rmse: 380.669\tvalid_0's l2: 144909\n",
      "[668]\tvalid_0's rmse: 380.651\tvalid_0's l2: 144895\n",
      "[669]\tvalid_0's rmse: 380.614\tvalid_0's l2: 144867\n",
      "[670]\tvalid_0's rmse: 380.594\tvalid_0's l2: 144852\n",
      "[671]\tvalid_0's rmse: 380.57\tvalid_0's l2: 144833\n",
      "[672]\tvalid_0's rmse: 380.571\tvalid_0's l2: 144834\n",
      "[673]\tvalid_0's rmse: 380.568\tvalid_0's l2: 144832\n",
      "[674]\tvalid_0's rmse: 380.573\tvalid_0's l2: 144836\n",
      "[675]\tvalid_0's rmse: 380.563\tvalid_0's l2: 144829\n",
      "[676]\tvalid_0's rmse: 380.555\tvalid_0's l2: 144822\n",
      "[677]\tvalid_0's rmse: 380.539\tvalid_0's l2: 144810\n",
      "[678]\tvalid_0's rmse: 380.533\tvalid_0's l2: 144805\n",
      "[679]\tvalid_0's rmse: 380.531\tvalid_0's l2: 144804\n",
      "[680]\tvalid_0's rmse: 380.525\tvalid_0's l2: 144800\n",
      "[681]\tvalid_0's rmse: 380.52\tvalid_0's l2: 144796\n",
      "[682]\tvalid_0's rmse: 380.517\tvalid_0's l2: 144793\n",
      "[683]\tvalid_0's rmse: 380.509\tvalid_0's l2: 144787\n",
      "[684]\tvalid_0's rmse: 380.481\tvalid_0's l2: 144766\n",
      "[685]\tvalid_0's rmse: 380.477\tvalid_0's l2: 144763\n",
      "[686]\tvalid_0's rmse: 380.475\tvalid_0's l2: 144762\n",
      "[687]\tvalid_0's rmse: 380.449\tvalid_0's l2: 144741\n",
      "[688]\tvalid_0's rmse: 380.441\tvalid_0's l2: 144735\n",
      "[689]\tvalid_0's rmse: 380.432\tvalid_0's l2: 144728\n",
      "[690]\tvalid_0's rmse: 380.433\tvalid_0's l2: 144729\n",
      "[691]\tvalid_0's rmse: 380.447\tvalid_0's l2: 144740\n",
      "[692]\tvalid_0's rmse: 380.441\tvalid_0's l2: 144736\n",
      "[693]\tvalid_0's rmse: 380.434\tvalid_0's l2: 144730\n",
      "[694]\tvalid_0's rmse: 380.436\tvalid_0's l2: 144732\n",
      "[695]\tvalid_0's rmse: 380.432\tvalid_0's l2: 144729\n",
      "[696]\tvalid_0's rmse: 380.418\tvalid_0's l2: 144718\n",
      "[697]\tvalid_0's rmse: 380.417\tvalid_0's l2: 144717\n",
      "[698]\tvalid_0's rmse: 380.4\tvalid_0's l2: 144704\n",
      "[699]\tvalid_0's rmse: 380.393\tvalid_0's l2: 144699\n",
      "[700]\tvalid_0's rmse: 380.388\tvalid_0's l2: 144695\n",
      "[701]\tvalid_0's rmse: 380.396\tvalid_0's l2: 144701\n",
      "[702]\tvalid_0's rmse: 380.382\tvalid_0's l2: 144691\n",
      "[703]\tvalid_0's rmse: 380.352\tvalid_0's l2: 144667\n",
      "[704]\tvalid_0's rmse: 380.344\tvalid_0's l2: 144661\n",
      "[705]\tvalid_0's rmse: 380.342\tvalid_0's l2: 144660\n",
      "[706]\tvalid_0's rmse: 380.339\tvalid_0's l2: 144658\n",
      "[707]\tvalid_0's rmse: 380.332\tvalid_0's l2: 144652\n",
      "[708]\tvalid_0's rmse: 380.335\tvalid_0's l2: 144655\n",
      "[709]\tvalid_0's rmse: 380.311\tvalid_0's l2: 144636\n",
      "[710]\tvalid_0's rmse: 380.302\tvalid_0's l2: 144629\n",
      "[711]\tvalid_0's rmse: 380.286\tvalid_0's l2: 144617\n",
      "[712]\tvalid_0's rmse: 380.28\tvalid_0's l2: 144613\n",
      "[713]\tvalid_0's rmse: 380.278\tvalid_0's l2: 144612\n",
      "[714]\tvalid_0's rmse: 380.281\tvalid_0's l2: 144613\n",
      "[715]\tvalid_0's rmse: 380.273\tvalid_0's l2: 144607\n",
      "[716]\tvalid_0's rmse: 380.273\tvalid_0's l2: 144607\n",
      "[717]\tvalid_0's rmse: 380.254\tvalid_0's l2: 144593\n",
      "[718]\tvalid_0's rmse: 380.256\tvalid_0's l2: 144594\n",
      "[719]\tvalid_0's rmse: 380.236\tvalid_0's l2: 144580\n",
      "[720]\tvalid_0's rmse: 380.241\tvalid_0's l2: 144583\n",
      "[721]\tvalid_0's rmse: 380.224\tvalid_0's l2: 144571\n",
      "[722]\tvalid_0's rmse: 380.218\tvalid_0's l2: 144565\n",
      "[723]\tvalid_0's rmse: 380.213\tvalid_0's l2: 144562\n",
      "[724]\tvalid_0's rmse: 380.179\tvalid_0's l2: 144536\n",
      "[725]\tvalid_0's rmse: 380.158\tvalid_0's l2: 144520\n",
      "[726]\tvalid_0's rmse: 380.138\tvalid_0's l2: 144505\n",
      "[727]\tvalid_0's rmse: 380.125\tvalid_0's l2: 144495\n",
      "[728]\tvalid_0's rmse: 380.122\tvalid_0's l2: 144492\n",
      "[729]\tvalid_0's rmse: 380.099\tvalid_0's l2: 144475\n",
      "[730]\tvalid_0's rmse: 380.093\tvalid_0's l2: 144471\n",
      "[731]\tvalid_0's rmse: 380.114\tvalid_0's l2: 144486\n",
      "[732]\tvalid_0's rmse: 380.126\tvalid_0's l2: 144496\n",
      "[733]\tvalid_0's rmse: 380.105\tvalid_0's l2: 144480\n",
      "[734]\tvalid_0's rmse: 380.098\tvalid_0's l2: 144475\n",
      "[735]\tvalid_0's rmse: 380.107\tvalid_0's l2: 144482\n",
      "[736]\tvalid_0's rmse: 380.098\tvalid_0's l2: 144474\n",
      "[737]\tvalid_0's rmse: 380.081\tvalid_0's l2: 144462\n",
      "[738]\tvalid_0's rmse: 380.079\tvalid_0's l2: 144460\n",
      "[739]\tvalid_0's rmse: 380.052\tvalid_0's l2: 144440\n",
      "[740]\tvalid_0's rmse: 380.032\tvalid_0's l2: 144424\n",
      "[741]\tvalid_0's rmse: 380.042\tvalid_0's l2: 144432\n",
      "[742]\tvalid_0's rmse: 380.028\tvalid_0's l2: 144421\n",
      "[743]\tvalid_0's rmse: 380.034\tvalid_0's l2: 144425\n",
      "[744]\tvalid_0's rmse: 379.999\tvalid_0's l2: 144399\n",
      "[745]\tvalid_0's rmse: 379.982\tvalid_0's l2: 144387\n",
      "[746]\tvalid_0's rmse: 379.968\tvalid_0's l2: 144376\n",
      "[747]\tvalid_0's rmse: 379.965\tvalid_0's l2: 144374\n",
      "[748]\tvalid_0's rmse: 379.976\tvalid_0's l2: 144382\n",
      "[749]\tvalid_0's rmse: 379.985\tvalid_0's l2: 144389\n",
      "[750]\tvalid_0's rmse: 379.983\tvalid_0's l2: 144387\n",
      "[751]\tvalid_0's rmse: 379.989\tvalid_0's l2: 144392\n",
      "[752]\tvalid_0's rmse: 379.979\tvalid_0's l2: 144384\n",
      "[753]\tvalid_0's rmse: 379.974\tvalid_0's l2: 144380\n",
      "[754]\tvalid_0's rmse: 379.965\tvalid_0's l2: 144374\n",
      "[755]\tvalid_0's rmse: 379.942\tvalid_0's l2: 144356\n",
      "[756]\tvalid_0's rmse: 379.923\tvalid_0's l2: 144341\n",
      "[757]\tvalid_0's rmse: 379.897\tvalid_0's l2: 144322\n",
      "[758]\tvalid_0's rmse: 379.893\tvalid_0's l2: 144318\n",
      "[759]\tvalid_0's rmse: 379.89\tvalid_0's l2: 144316\n",
      "[760]\tvalid_0's rmse: 379.885\tvalid_0's l2: 144313\n",
      "[761]\tvalid_0's rmse: 379.874\tvalid_0's l2: 144304\n",
      "[762]\tvalid_0's rmse: 379.868\tvalid_0's l2: 144299\n",
      "[763]\tvalid_0's rmse: 379.876\tvalid_0's l2: 144306\n",
      "[764]\tvalid_0's rmse: 379.865\tvalid_0's l2: 144297\n",
      "[765]\tvalid_0's rmse: 379.855\tvalid_0's l2: 144290\n",
      "[766]\tvalid_0's rmse: 379.832\tvalid_0's l2: 144272\n",
      "[767]\tvalid_0's rmse: 379.813\tvalid_0's l2: 144258\n",
      "[768]\tvalid_0's rmse: 379.8\tvalid_0's l2: 144248\n",
      "[769]\tvalid_0's rmse: 379.782\tvalid_0's l2: 144234\n",
      "[770]\tvalid_0's rmse: 379.777\tvalid_0's l2: 144231\n",
      "[771]\tvalid_0's rmse: 379.765\tvalid_0's l2: 144222\n",
      "[772]\tvalid_0's rmse: 379.739\tvalid_0's l2: 144201\n",
      "[773]\tvalid_0's rmse: 379.731\tvalid_0's l2: 144195\n",
      "[774]\tvalid_0's rmse: 379.723\tvalid_0's l2: 144190\n",
      "[775]\tvalid_0's rmse: 379.722\tvalid_0's l2: 144189\n",
      "[776]\tvalid_0's rmse: 379.709\tvalid_0's l2: 144179\n",
      "[777]\tvalid_0's rmse: 379.699\tvalid_0's l2: 144171\n",
      "[778]\tvalid_0's rmse: 379.68\tvalid_0's l2: 144157\n",
      "[779]\tvalid_0's rmse: 379.675\tvalid_0's l2: 144153\n",
      "[780]\tvalid_0's rmse: 379.673\tvalid_0's l2: 144151\n",
      "[781]\tvalid_0's rmse: 379.652\tvalid_0's l2: 144136\n",
      "[782]\tvalid_0's rmse: 379.645\tvalid_0's l2: 144130\n",
      "[783]\tvalid_0's rmse: 379.644\tvalid_0's l2: 144129\n",
      "[784]\tvalid_0's rmse: 379.643\tvalid_0's l2: 144129\n",
      "[785]\tvalid_0's rmse: 379.636\tvalid_0's l2: 144124\n",
      "[786]\tvalid_0's rmse: 379.652\tvalid_0's l2: 144136\n",
      "[787]\tvalid_0's rmse: 379.643\tvalid_0's l2: 144128\n",
      "[788]\tvalid_0's rmse: 379.64\tvalid_0's l2: 144126\n",
      "[789]\tvalid_0's rmse: 379.634\tvalid_0's l2: 144122\n",
      "[790]\tvalid_0's rmse: 379.616\tvalid_0's l2: 144109\n",
      "[791]\tvalid_0's rmse: 379.603\tvalid_0's l2: 144098\n",
      "[792]\tvalid_0's rmse: 379.604\tvalid_0's l2: 144099\n",
      "[793]\tvalid_0's rmse: 379.585\tvalid_0's l2: 144085\n",
      "[794]\tvalid_0's rmse: 379.585\tvalid_0's l2: 144084\n",
      "[795]\tvalid_0's rmse: 379.562\tvalid_0's l2: 144067\n",
      "[796]\tvalid_0's rmse: 379.571\tvalid_0's l2: 144074\n",
      "[797]\tvalid_0's rmse: 379.552\tvalid_0's l2: 144060\n",
      "[798]\tvalid_0's rmse: 379.539\tvalid_0's l2: 144050\n",
      "[799]\tvalid_0's rmse: 379.544\tvalid_0's l2: 144054\n",
      "[800]\tvalid_0's rmse: 379.528\tvalid_0's l2: 144042\n",
      "[801]\tvalid_0's rmse: 379.535\tvalid_0's l2: 144047\n",
      "[802]\tvalid_0's rmse: 379.539\tvalid_0's l2: 144050\n",
      "[803]\tvalid_0's rmse: 379.542\tvalid_0's l2: 144052\n",
      "[804]\tvalid_0's rmse: 379.547\tvalid_0's l2: 144056\n",
      "[805]\tvalid_0's rmse: 379.548\tvalid_0's l2: 144056\n",
      "[806]\tvalid_0's rmse: 379.538\tvalid_0's l2: 144049\n",
      "[807]\tvalid_0's rmse: 379.538\tvalid_0's l2: 144049\n",
      "[808]\tvalid_0's rmse: 379.534\tvalid_0's l2: 144046\n",
      "[809]\tvalid_0's rmse: 379.542\tvalid_0's l2: 144052\n",
      "[810]\tvalid_0's rmse: 379.542\tvalid_0's l2: 144052\n",
      "[811]\tvalid_0's rmse: 379.517\tvalid_0's l2: 144033\n",
      "[812]\tvalid_0's rmse: 379.497\tvalid_0's l2: 144018\n",
      "[813]\tvalid_0's rmse: 379.495\tvalid_0's l2: 144016\n",
      "[814]\tvalid_0's rmse: 379.487\tvalid_0's l2: 144010\n",
      "[815]\tvalid_0's rmse: 379.479\tvalid_0's l2: 144004\n",
      "[816]\tvalid_0's rmse: 379.465\tvalid_0's l2: 143994\n",
      "[817]\tvalid_0's rmse: 379.47\tvalid_0's l2: 143997\n",
      "[818]\tvalid_0's rmse: 379.475\tvalid_0's l2: 144002\n",
      "[819]\tvalid_0's rmse: 379.443\tvalid_0's l2: 143977\n",
      "[820]\tvalid_0's rmse: 379.426\tvalid_0's l2: 143964\n",
      "[821]\tvalid_0's rmse: 379.417\tvalid_0's l2: 143957\n",
      "[822]\tvalid_0's rmse: 379.407\tvalid_0's l2: 143950\n",
      "[823]\tvalid_0's rmse: 379.398\tvalid_0's l2: 143943\n",
      "[824]\tvalid_0's rmse: 379.37\tvalid_0's l2: 143922\n",
      "[825]\tvalid_0's rmse: 379.347\tvalid_0's l2: 143904\n",
      "[826]\tvalid_0's rmse: 379.317\tvalid_0's l2: 143882\n",
      "[827]\tvalid_0's rmse: 379.311\tvalid_0's l2: 143877\n",
      "[828]\tvalid_0's rmse: 379.322\tvalid_0's l2: 143885\n",
      "[829]\tvalid_0's rmse: 379.312\tvalid_0's l2: 143878\n",
      "[830]\tvalid_0's rmse: 379.3\tvalid_0's l2: 143869\n",
      "[831]\tvalid_0's rmse: 379.307\tvalid_0's l2: 143874\n",
      "[832]\tvalid_0's rmse: 379.316\tvalid_0's l2: 143881\n",
      "[833]\tvalid_0's rmse: 379.303\tvalid_0's l2: 143871\n",
      "[834]\tvalid_0's rmse: 379.283\tvalid_0's l2: 143855\n",
      "[835]\tvalid_0's rmse: 379.27\tvalid_0's l2: 143846\n",
      "[836]\tvalid_0's rmse: 379.276\tvalid_0's l2: 143850\n",
      "[837]\tvalid_0's rmse: 379.269\tvalid_0's l2: 143845\n",
      "[838]\tvalid_0's rmse: 379.266\tvalid_0's l2: 143843\n",
      "[839]\tvalid_0's rmse: 379.274\tvalid_0's l2: 143849\n",
      "[840]\tvalid_0's rmse: 379.251\tvalid_0's l2: 143831\n",
      "[841]\tvalid_0's rmse: 379.263\tvalid_0's l2: 143840\n",
      "[842]\tvalid_0's rmse: 379.258\tvalid_0's l2: 143836\n",
      "[843]\tvalid_0's rmse: 379.254\tvalid_0's l2: 143833\n",
      "[844]\tvalid_0's rmse: 379.255\tvalid_0's l2: 143835\n"
     ]
    },
    {
     "name": "stdout",
     "output_type": "stream",
     "text": [
      "[845]\tvalid_0's rmse: 379.237\tvalid_0's l2: 143821\n",
      "[846]\tvalid_0's rmse: 379.214\tvalid_0's l2: 143803\n",
      "[847]\tvalid_0's rmse: 379.218\tvalid_0's l2: 143806\n",
      "[848]\tvalid_0's rmse: 379.218\tvalid_0's l2: 143806\n",
      "[849]\tvalid_0's rmse: 379.211\tvalid_0's l2: 143801\n",
      "[850]\tvalid_0's rmse: 379.208\tvalid_0's l2: 143799\n",
      "[851]\tvalid_0's rmse: 379.182\tvalid_0's l2: 143779\n",
      "[852]\tvalid_0's rmse: 379.167\tvalid_0's l2: 143768\n",
      "[853]\tvalid_0's rmse: 379.141\tvalid_0's l2: 143748\n",
      "[854]\tvalid_0's rmse: 379.136\tvalid_0's l2: 143744\n",
      "[855]\tvalid_0's rmse: 379.096\tvalid_0's l2: 143714\n",
      "[856]\tvalid_0's rmse: 379.099\tvalid_0's l2: 143716\n",
      "[857]\tvalid_0's rmse: 379.082\tvalid_0's l2: 143703\n",
      "[858]\tvalid_0's rmse: 379.068\tvalid_0's l2: 143693\n",
      "[859]\tvalid_0's rmse: 379.05\tvalid_0's l2: 143679\n",
      "[860]\tvalid_0's rmse: 379.047\tvalid_0's l2: 143676\n",
      "[861]\tvalid_0's rmse: 379.036\tvalid_0's l2: 143668\n",
      "[862]\tvalid_0's rmse: 379.024\tvalid_0's l2: 143659\n",
      "[863]\tvalid_0's rmse: 379.014\tvalid_0's l2: 143652\n",
      "[864]\tvalid_0's rmse: 379.003\tvalid_0's l2: 143643\n",
      "[865]\tvalid_0's rmse: 378.982\tvalid_0's l2: 143627\n",
      "[866]\tvalid_0's rmse: 378.983\tvalid_0's l2: 143628\n",
      "[867]\tvalid_0's rmse: 378.969\tvalid_0's l2: 143617\n",
      "[868]\tvalid_0's rmse: 378.968\tvalid_0's l2: 143617\n",
      "[869]\tvalid_0's rmse: 378.959\tvalid_0's l2: 143610\n",
      "[870]\tvalid_0's rmse: 378.953\tvalid_0's l2: 143606\n",
      "[871]\tvalid_0's rmse: 378.952\tvalid_0's l2: 143604\n",
      "[872]\tvalid_0's rmse: 378.947\tvalid_0's l2: 143601\n",
      "[873]\tvalid_0's rmse: 378.937\tvalid_0's l2: 143593\n",
      "[874]\tvalid_0's rmse: 378.927\tvalid_0's l2: 143586\n",
      "[875]\tvalid_0's rmse: 378.913\tvalid_0's l2: 143575\n",
      "[876]\tvalid_0's rmse: 378.899\tvalid_0's l2: 143564\n",
      "[877]\tvalid_0's rmse: 378.891\tvalid_0's l2: 143559\n",
      "[878]\tvalid_0's rmse: 378.881\tvalid_0's l2: 143551\n",
      "[879]\tvalid_0's rmse: 378.855\tvalid_0's l2: 143531\n",
      "[880]\tvalid_0's rmse: 378.832\tvalid_0's l2: 143514\n",
      "[881]\tvalid_0's rmse: 378.824\tvalid_0's l2: 143508\n",
      "[882]\tvalid_0's rmse: 378.823\tvalid_0's l2: 143507\n",
      "[883]\tvalid_0's rmse: 378.817\tvalid_0's l2: 143503\n",
      "[884]\tvalid_0's rmse: 378.812\tvalid_0's l2: 143498\n",
      "[885]\tvalid_0's rmse: 378.793\tvalid_0's l2: 143484\n",
      "[886]\tvalid_0's rmse: 378.796\tvalid_0's l2: 143487\n",
      "[887]\tvalid_0's rmse: 378.814\tvalid_0's l2: 143500\n",
      "[888]\tvalid_0's rmse: 378.79\tvalid_0's l2: 143482\n",
      "[889]\tvalid_0's rmse: 378.772\tvalid_0's l2: 143468\n",
      "[890]\tvalid_0's rmse: 378.748\tvalid_0's l2: 143450\n",
      "[891]\tvalid_0's rmse: 378.756\tvalid_0's l2: 143456\n",
      "[892]\tvalid_0's rmse: 378.743\tvalid_0's l2: 143446\n",
      "[893]\tvalid_0's rmse: 378.736\tvalid_0's l2: 143441\n",
      "[894]\tvalid_0's rmse: 378.724\tvalid_0's l2: 143432\n",
      "[895]\tvalid_0's rmse: 378.705\tvalid_0's l2: 143418\n",
      "[896]\tvalid_0's rmse: 378.705\tvalid_0's l2: 143418\n",
      "[897]\tvalid_0's rmse: 378.678\tvalid_0's l2: 143397\n",
      "[898]\tvalid_0's rmse: 378.67\tvalid_0's l2: 143391\n",
      "[899]\tvalid_0's rmse: 378.65\tvalid_0's l2: 143376\n",
      "[900]\tvalid_0's rmse: 378.646\tvalid_0's l2: 143373\n",
      "[901]\tvalid_0's rmse: 378.653\tvalid_0's l2: 143378\n",
      "[902]\tvalid_0's rmse: 378.644\tvalid_0's l2: 143371\n",
      "[903]\tvalid_0's rmse: 378.642\tvalid_0's l2: 143369\n",
      "[904]\tvalid_0's rmse: 378.632\tvalid_0's l2: 143362\n",
      "[905]\tvalid_0's rmse: 378.635\tvalid_0's l2: 143365\n",
      "[906]\tvalid_0's rmse: 378.609\tvalid_0's l2: 143345\n",
      "[907]\tvalid_0's rmse: 378.588\tvalid_0's l2: 143329\n",
      "[908]\tvalid_0's rmse: 378.582\tvalid_0's l2: 143324\n",
      "[909]\tvalid_0's rmse: 378.579\tvalid_0's l2: 143322\n",
      "[910]\tvalid_0's rmse: 378.567\tvalid_0's l2: 143313\n",
      "[911]\tvalid_0's rmse: 378.576\tvalid_0's l2: 143320\n",
      "[912]\tvalid_0's rmse: 378.563\tvalid_0's l2: 143310\n",
      "[913]\tvalid_0's rmse: 378.553\tvalid_0's l2: 143302\n",
      "[914]\tvalid_0's rmse: 378.527\tvalid_0's l2: 143283\n",
      "[915]\tvalid_0's rmse: 378.52\tvalid_0's l2: 143277\n",
      "[916]\tvalid_0's rmse: 378.511\tvalid_0's l2: 143271\n",
      "[917]\tvalid_0's rmse: 378.507\tvalid_0's l2: 143268\n",
      "[918]\tvalid_0's rmse: 378.486\tvalid_0's l2: 143252\n",
      "[919]\tvalid_0's rmse: 378.472\tvalid_0's l2: 143241\n",
      "[920]\tvalid_0's rmse: 378.486\tvalid_0's l2: 143252\n",
      "[921]\tvalid_0's rmse: 378.473\tvalid_0's l2: 143242\n",
      "[922]\tvalid_0's rmse: 378.463\tvalid_0's l2: 143234\n",
      "[923]\tvalid_0's rmse: 378.461\tvalid_0's l2: 143233\n",
      "[924]\tvalid_0's rmse: 378.449\tvalid_0's l2: 143224\n",
      "[925]\tvalid_0's rmse: 378.448\tvalid_0's l2: 143223\n",
      "[926]\tvalid_0's rmse: 378.438\tvalid_0's l2: 143215\n",
      "[927]\tvalid_0's rmse: 378.424\tvalid_0's l2: 143204\n",
      "[928]\tvalid_0's rmse: 378.414\tvalid_0's l2: 143197\n",
      "[929]\tvalid_0's rmse: 378.415\tvalid_0's l2: 143198\n",
      "[930]\tvalid_0's rmse: 378.411\tvalid_0's l2: 143195\n",
      "[931]\tvalid_0's rmse: 378.403\tvalid_0's l2: 143189\n",
      "[932]\tvalid_0's rmse: 378.404\tvalid_0's l2: 143190\n",
      "[933]\tvalid_0's rmse: 378.399\tvalid_0's l2: 143186\n",
      "[934]\tvalid_0's rmse: 378.392\tvalid_0's l2: 143181\n",
      "[935]\tvalid_0's rmse: 378.391\tvalid_0's l2: 143180\n",
      "[936]\tvalid_0's rmse: 378.38\tvalid_0's l2: 143171\n",
      "[937]\tvalid_0's rmse: 378.373\tvalid_0's l2: 143166\n",
      "[938]\tvalid_0's rmse: 378.378\tvalid_0's l2: 143170\n",
      "[939]\tvalid_0's rmse: 378.374\tvalid_0's l2: 143167\n",
      "[940]\tvalid_0's rmse: 378.388\tvalid_0's l2: 143178\n",
      "[941]\tvalid_0's rmse: 378.377\tvalid_0's l2: 143169\n",
      "[942]\tvalid_0's rmse: 378.372\tvalid_0's l2: 143165\n",
      "[943]\tvalid_0's rmse: 378.383\tvalid_0's l2: 143173\n",
      "[944]\tvalid_0's rmse: 378.378\tvalid_0's l2: 143170\n",
      "[945]\tvalid_0's rmse: 378.369\tvalid_0's l2: 143163\n",
      "[946]\tvalid_0's rmse: 378.369\tvalid_0's l2: 143163\n",
      "[947]\tvalid_0's rmse: 378.364\tvalid_0's l2: 143159\n",
      "[948]\tvalid_0's rmse: 378.359\tvalid_0's l2: 143156\n",
      "[949]\tvalid_0's rmse: 378.355\tvalid_0's l2: 143153\n",
      "[950]\tvalid_0's rmse: 378.343\tvalid_0's l2: 143143\n",
      "[951]\tvalid_0's rmse: 378.343\tvalid_0's l2: 143143\n",
      "[952]\tvalid_0's rmse: 378.341\tvalid_0's l2: 143142\n",
      "[953]\tvalid_0's rmse: 378.332\tvalid_0's l2: 143135\n",
      "[954]\tvalid_0's rmse: 378.343\tvalid_0's l2: 143144\n",
      "[955]\tvalid_0's rmse: 378.334\tvalid_0's l2: 143137\n",
      "[956]\tvalid_0's rmse: 378.334\tvalid_0's l2: 143136\n",
      "[957]\tvalid_0's rmse: 378.34\tvalid_0's l2: 143141\n",
      "[958]\tvalid_0's rmse: 378.328\tvalid_0's l2: 143132\n",
      "[959]\tvalid_0's rmse: 378.309\tvalid_0's l2: 143118\n",
      "[960]\tvalid_0's rmse: 378.303\tvalid_0's l2: 143113\n",
      "[961]\tvalid_0's rmse: 378.308\tvalid_0's l2: 143117\n",
      "[962]\tvalid_0's rmse: 378.305\tvalid_0's l2: 143114\n",
      "[963]\tvalid_0's rmse: 378.295\tvalid_0's l2: 143107\n",
      "[964]\tvalid_0's rmse: 378.28\tvalid_0's l2: 143096\n",
      "[965]\tvalid_0's rmse: 378.263\tvalid_0's l2: 143083\n",
      "[966]\tvalid_0's rmse: 378.282\tvalid_0's l2: 143097\n",
      "[967]\tvalid_0's rmse: 378.264\tvalid_0's l2: 143084\n",
      "[968]\tvalid_0's rmse: 378.257\tvalid_0's l2: 143078\n",
      "[969]\tvalid_0's rmse: 378.246\tvalid_0's l2: 143070\n",
      "[970]\tvalid_0's rmse: 378.241\tvalid_0's l2: 143066\n",
      "[971]\tvalid_0's rmse: 378.232\tvalid_0's l2: 143060\n",
      "[972]\tvalid_0's rmse: 378.228\tvalid_0's l2: 143056\n",
      "[973]\tvalid_0's rmse: 378.227\tvalid_0's l2: 143056\n",
      "[974]\tvalid_0's rmse: 378.217\tvalid_0's l2: 143048\n",
      "[975]\tvalid_0's rmse: 378.206\tvalid_0's l2: 143040\n",
      "[976]\tvalid_0's rmse: 378.186\tvalid_0's l2: 143024\n",
      "[977]\tvalid_0's rmse: 378.184\tvalid_0's l2: 143023\n",
      "[978]\tvalid_0's rmse: 378.175\tvalid_0's l2: 143016\n",
      "[979]\tvalid_0's rmse: 378.177\tvalid_0's l2: 143018\n",
      "[980]\tvalid_0's rmse: 378.172\tvalid_0's l2: 143014\n",
      "[981]\tvalid_0's rmse: 378.159\tvalid_0's l2: 143004\n",
      "[982]\tvalid_0's rmse: 378.153\tvalid_0's l2: 142999\n",
      "[983]\tvalid_0's rmse: 378.151\tvalid_0's l2: 142998\n",
      "[984]\tvalid_0's rmse: 378.127\tvalid_0's l2: 142980\n",
      "[985]\tvalid_0's rmse: 378.114\tvalid_0's l2: 142970\n",
      "[986]\tvalid_0's rmse: 378.114\tvalid_0's l2: 142970\n",
      "[987]\tvalid_0's rmse: 378.102\tvalid_0's l2: 142961\n",
      "[988]\tvalid_0's rmse: 378.084\tvalid_0's l2: 142948\n",
      "[989]\tvalid_0's rmse: 378.075\tvalid_0's l2: 142940\n",
      "[990]\tvalid_0's rmse: 378.064\tvalid_0's l2: 142932\n",
      "[991]\tvalid_0's rmse: 378.042\tvalid_0's l2: 142916\n",
      "[992]\tvalid_0's rmse: 378.022\tvalid_0's l2: 142901\n",
      "[993]\tvalid_0's rmse: 378.015\tvalid_0's l2: 142895\n",
      "[994]\tvalid_0's rmse: 377.998\tvalid_0's l2: 142883\n",
      "[995]\tvalid_0's rmse: 377.99\tvalid_0's l2: 142877\n",
      "[996]\tvalid_0's rmse: 377.987\tvalid_0's l2: 142874\n",
      "[997]\tvalid_0's rmse: 377.979\tvalid_0's l2: 142868\n",
      "[998]\tvalid_0's rmse: 377.983\tvalid_0's l2: 142871\n",
      "[999]\tvalid_0's rmse: 377.975\tvalid_0's l2: 142865\n",
      "[1000]\tvalid_0's rmse: 377.976\tvalid_0's l2: 142866\n",
      "[1001]\tvalid_0's rmse: 377.972\tvalid_0's l2: 142863\n",
      "[1002]\tvalid_0's rmse: 377.971\tvalid_0's l2: 142862\n",
      "[1003]\tvalid_0's rmse: 377.966\tvalid_0's l2: 142859\n",
      "[1004]\tvalid_0's rmse: 377.962\tvalid_0's l2: 142855\n",
      "[1005]\tvalid_0's rmse: 377.972\tvalid_0's l2: 142863\n",
      "[1006]\tvalid_0's rmse: 377.956\tvalid_0's l2: 142851\n",
      "[1007]\tvalid_0's rmse: 377.938\tvalid_0's l2: 142837\n",
      "[1008]\tvalid_0's rmse: 377.913\tvalid_0's l2: 142818\n",
      "[1009]\tvalid_0's rmse: 377.911\tvalid_0's l2: 142817\n",
      "[1010]\tvalid_0's rmse: 377.912\tvalid_0's l2: 142818\n",
      "[1011]\tvalid_0's rmse: 377.894\tvalid_0's l2: 142804\n",
      "[1012]\tvalid_0's rmse: 377.867\tvalid_0's l2: 142784\n",
      "[1013]\tvalid_0's rmse: 377.863\tvalid_0's l2: 142781\n",
      "[1014]\tvalid_0's rmse: 377.847\tvalid_0's l2: 142768\n",
      "[1015]\tvalid_0's rmse: 377.856\tvalid_0's l2: 142775\n",
      "[1016]\tvalid_0's rmse: 377.861\tvalid_0's l2: 142779\n",
      "[1017]\tvalid_0's rmse: 377.838\tvalid_0's l2: 142762\n",
      "[1018]\tvalid_0's rmse: 377.842\tvalid_0's l2: 142765\n",
      "[1019]\tvalid_0's rmse: 377.844\tvalid_0's l2: 142766\n",
      "[1020]\tvalid_0's rmse: 377.836\tvalid_0's l2: 142760\n",
      "[1021]\tvalid_0's rmse: 377.827\tvalid_0's l2: 142754\n",
      "[1022]\tvalid_0's rmse: 377.84\tvalid_0's l2: 142763\n",
      "[1023]\tvalid_0's rmse: 377.846\tvalid_0's l2: 142768\n",
      "[1024]\tvalid_0's rmse: 377.841\tvalid_0's l2: 142764\n",
      "[1025]\tvalid_0's rmse: 377.832\tvalid_0's l2: 142757\n",
      "[1026]\tvalid_0's rmse: 377.821\tvalid_0's l2: 142749\n",
      "[1027]\tvalid_0's rmse: 377.811\tvalid_0's l2: 142741\n",
      "[1028]\tvalid_0's rmse: 377.799\tvalid_0's l2: 142732\n",
      "[1029]\tvalid_0's rmse: 377.798\tvalid_0's l2: 142731\n",
      "[1030]\tvalid_0's rmse: 377.792\tvalid_0's l2: 142727\n",
      "[1031]\tvalid_0's rmse: 377.798\tvalid_0's l2: 142731\n",
      "[1032]\tvalid_0's rmse: 377.786\tvalid_0's l2: 142722\n",
      "[1033]\tvalid_0's rmse: 377.786\tvalid_0's l2: 142722\n",
      "[1034]\tvalid_0's rmse: 377.791\tvalid_0's l2: 142726\n",
      "[1035]\tvalid_0's rmse: 377.786\tvalid_0's l2: 142722\n",
      "[1036]\tvalid_0's rmse: 377.788\tvalid_0's l2: 142724\n",
      "[1037]\tvalid_0's rmse: 377.777\tvalid_0's l2: 142715\n",
      "[1038]\tvalid_0's rmse: 377.772\tvalid_0's l2: 142712\n",
      "[1039]\tvalid_0's rmse: 377.783\tvalid_0's l2: 142720\n",
      "[1040]\tvalid_0's rmse: 377.779\tvalid_0's l2: 142717\n",
      "[1041]\tvalid_0's rmse: 377.766\tvalid_0's l2: 142707\n",
      "[1042]\tvalid_0's rmse: 377.749\tvalid_0's l2: 142694\n",
      "[1043]\tvalid_0's rmse: 377.746\tvalid_0's l2: 142692\n",
      "[1044]\tvalid_0's rmse: 377.732\tvalid_0's l2: 142682\n",
      "[1045]\tvalid_0's rmse: 377.718\tvalid_0's l2: 142671\n",
      "[1046]\tvalid_0's rmse: 377.7\tvalid_0's l2: 142657\n",
      "[1047]\tvalid_0's rmse: 377.701\tvalid_0's l2: 142658\n",
      "[1048]\tvalid_0's rmse: 377.706\tvalid_0's l2: 142662\n",
      "[1049]\tvalid_0's rmse: 377.705\tvalid_0's l2: 142661\n"
     ]
    },
    {
     "name": "stdout",
     "output_type": "stream",
     "text": [
      "[1050]\tvalid_0's rmse: 377.706\tvalid_0's l2: 142662\n",
      "[1051]\tvalid_0's rmse: 377.698\tvalid_0's l2: 142656\n",
      "[1052]\tvalid_0's rmse: 377.684\tvalid_0's l2: 142646\n",
      "[1053]\tvalid_0's rmse: 377.686\tvalid_0's l2: 142646\n",
      "[1054]\tvalid_0's rmse: 377.673\tvalid_0's l2: 142637\n",
      "[1055]\tvalid_0's rmse: 377.66\tvalid_0's l2: 142627\n",
      "[1056]\tvalid_0's rmse: 377.657\tvalid_0's l2: 142625\n",
      "[1057]\tvalid_0's rmse: 377.636\tvalid_0's l2: 142609\n",
      "[1058]\tvalid_0's rmse: 377.629\tvalid_0's l2: 142604\n",
      "[1059]\tvalid_0's rmse: 377.62\tvalid_0's l2: 142597\n",
      "[1060]\tvalid_0's rmse: 377.61\tvalid_0's l2: 142589\n",
      "[1061]\tvalid_0's rmse: 377.615\tvalid_0's l2: 142593\n",
      "[1062]\tvalid_0's rmse: 377.622\tvalid_0's l2: 142598\n",
      "[1063]\tvalid_0's rmse: 377.619\tvalid_0's l2: 142596\n",
      "[1064]\tvalid_0's rmse: 377.609\tvalid_0's l2: 142588\n",
      "[1065]\tvalid_0's rmse: 377.615\tvalid_0's l2: 142593\n",
      "[1066]\tvalid_0's rmse: 377.615\tvalid_0's l2: 142593\n",
      "[1067]\tvalid_0's rmse: 377.613\tvalid_0's l2: 142592\n",
      "[1068]\tvalid_0's rmse: 377.587\tvalid_0's l2: 142572\n",
      "[1069]\tvalid_0's rmse: 377.573\tvalid_0's l2: 142561\n",
      "[1070]\tvalid_0's rmse: 377.563\tvalid_0's l2: 142554\n",
      "[1071]\tvalid_0's rmse: 377.546\tvalid_0's l2: 142541\n",
      "[1072]\tvalid_0's rmse: 377.532\tvalid_0's l2: 142530\n",
      "[1073]\tvalid_0's rmse: 377.518\tvalid_0's l2: 142520\n",
      "[1074]\tvalid_0's rmse: 377.502\tvalid_0's l2: 142508\n",
      "[1075]\tvalid_0's rmse: 377.484\tvalid_0's l2: 142495\n",
      "[1076]\tvalid_0's rmse: 377.489\tvalid_0's l2: 142498\n",
      "[1077]\tvalid_0's rmse: 377.485\tvalid_0's l2: 142495\n",
      "[1078]\tvalid_0's rmse: 377.486\tvalid_0's l2: 142496\n",
      "[1079]\tvalid_0's rmse: 377.485\tvalid_0's l2: 142495\n",
      "[1080]\tvalid_0's rmse: 377.479\tvalid_0's l2: 142490\n",
      "[1081]\tvalid_0's rmse: 377.463\tvalid_0's l2: 142478\n",
      "[1082]\tvalid_0's rmse: 377.463\tvalid_0's l2: 142478\n",
      "[1083]\tvalid_0's rmse: 377.455\tvalid_0's l2: 142472\n",
      "[1084]\tvalid_0's rmse: 377.46\tvalid_0's l2: 142476\n",
      "[1085]\tvalid_0's rmse: 377.451\tvalid_0's l2: 142469\n",
      "[1086]\tvalid_0's rmse: 377.435\tvalid_0's l2: 142457\n",
      "[1087]\tvalid_0's rmse: 377.428\tvalid_0's l2: 142452\n",
      "[1088]\tvalid_0's rmse: 377.411\tvalid_0's l2: 142439\n",
      "[1089]\tvalid_0's rmse: 377.406\tvalid_0's l2: 142435\n",
      "[1090]\tvalid_0's rmse: 377.388\tvalid_0's l2: 142422\n",
      "[1091]\tvalid_0's rmse: 377.383\tvalid_0's l2: 142418\n",
      "[1092]\tvalid_0's rmse: 377.382\tvalid_0's l2: 142417\n",
      "[1093]\tvalid_0's rmse: 377.368\tvalid_0's l2: 142406\n",
      "[1094]\tvalid_0's rmse: 377.358\tvalid_0's l2: 142399\n",
      "[1095]\tvalid_0's rmse: 377.341\tvalid_0's l2: 142386\n",
      "[1096]\tvalid_0's rmse: 377.337\tvalid_0's l2: 142383\n",
      "[1097]\tvalid_0's rmse: 377.332\tvalid_0's l2: 142379\n",
      "[1098]\tvalid_0's rmse: 377.331\tvalid_0's l2: 142379\n",
      "[1099]\tvalid_0's rmse: 377.322\tvalid_0's l2: 142372\n",
      "[1100]\tvalid_0's rmse: 377.309\tvalid_0's l2: 142362\n",
      "[1101]\tvalid_0's rmse: 377.286\tvalid_0's l2: 142344\n",
      "[1102]\tvalid_0's rmse: 377.284\tvalid_0's l2: 142343\n",
      "[1103]\tvalid_0's rmse: 377.285\tvalid_0's l2: 142344\n",
      "[1104]\tvalid_0's rmse: 377.285\tvalid_0's l2: 142344\n",
      "[1105]\tvalid_0's rmse: 377.283\tvalid_0's l2: 142343\n",
      "[1106]\tvalid_0's rmse: 377.274\tvalid_0's l2: 142336\n",
      "[1107]\tvalid_0's rmse: 377.274\tvalid_0's l2: 142336\n",
      "[1108]\tvalid_0's rmse: 377.275\tvalid_0's l2: 142336\n",
      "[1109]\tvalid_0's rmse: 377.281\tvalid_0's l2: 142341\n",
      "[1110]\tvalid_0's rmse: 377.263\tvalid_0's l2: 142327\n",
      "[1111]\tvalid_0's rmse: 377.259\tvalid_0's l2: 142325\n",
      "[1112]\tvalid_0's rmse: 377.263\tvalid_0's l2: 142327\n",
      "[1113]\tvalid_0's rmse: 377.267\tvalid_0's l2: 142330\n",
      "[1114]\tvalid_0's rmse: 377.262\tvalid_0's l2: 142327\n",
      "[1115]\tvalid_0's rmse: 377.262\tvalid_0's l2: 142327\n",
      "[1116]\tvalid_0's rmse: 377.257\tvalid_0's l2: 142323\n",
      "[1117]\tvalid_0's rmse: 377.265\tvalid_0's l2: 142329\n",
      "[1118]\tvalid_0's rmse: 377.269\tvalid_0's l2: 142332\n",
      "[1119]\tvalid_0's rmse: 377.269\tvalid_0's l2: 142332\n",
      "[1120]\tvalid_0's rmse: 377.278\tvalid_0's l2: 142338\n",
      "[1121]\tvalid_0's rmse: 377.28\tvalid_0's l2: 142340\n",
      "[1122]\tvalid_0's rmse: 377.28\tvalid_0's l2: 142340\n",
      "[1123]\tvalid_0's rmse: 377.266\tvalid_0's l2: 142330\n",
      "[1124]\tvalid_0's rmse: 377.247\tvalid_0's l2: 142315\n",
      "[1125]\tvalid_0's rmse: 377.244\tvalid_0's l2: 142313\n",
      "[1126]\tvalid_0's rmse: 377.231\tvalid_0's l2: 142304\n",
      "[1127]\tvalid_0's rmse: 377.231\tvalid_0's l2: 142303\n",
      "[1128]\tvalid_0's rmse: 377.231\tvalid_0's l2: 142303\n",
      "[1129]\tvalid_0's rmse: 377.223\tvalid_0's l2: 142297\n",
      "[1130]\tvalid_0's rmse: 377.209\tvalid_0's l2: 142286\n",
      "[1131]\tvalid_0's rmse: 377.227\tvalid_0's l2: 142301\n",
      "[1132]\tvalid_0's rmse: 377.213\tvalid_0's l2: 142289\n",
      "[1133]\tvalid_0's rmse: 377.211\tvalid_0's l2: 142288\n",
      "[1134]\tvalid_0's rmse: 377.214\tvalid_0's l2: 142290\n",
      "[1135]\tvalid_0's rmse: 377.192\tvalid_0's l2: 142274\n",
      "[1136]\tvalid_0's rmse: 377.17\tvalid_0's l2: 142257\n",
      "[1137]\tvalid_0's rmse: 377.169\tvalid_0's l2: 142256\n",
      "[1138]\tvalid_0's rmse: 377.162\tvalid_0's l2: 142251\n",
      "[1139]\tvalid_0's rmse: 377.163\tvalid_0's l2: 142252\n",
      "[1140]\tvalid_0's rmse: 377.159\tvalid_0's l2: 142249\n",
      "[1141]\tvalid_0's rmse: 377.155\tvalid_0's l2: 142246\n",
      "[1142]\tvalid_0's rmse: 377.153\tvalid_0's l2: 142245\n",
      "[1143]\tvalid_0's rmse: 377.157\tvalid_0's l2: 142247\n",
      "[1144]\tvalid_0's rmse: 377.158\tvalid_0's l2: 142248\n",
      "[1145]\tvalid_0's rmse: 377.141\tvalid_0's l2: 142235\n",
      "[1146]\tvalid_0's rmse: 377.141\tvalid_0's l2: 142235\n",
      "[1147]\tvalid_0's rmse: 377.137\tvalid_0's l2: 142232\n",
      "[1148]\tvalid_0's rmse: 377.137\tvalid_0's l2: 142232\n",
      "[1149]\tvalid_0's rmse: 377.124\tvalid_0's l2: 142222\n",
      "[1150]\tvalid_0's rmse: 377.102\tvalid_0's l2: 142206\n",
      "[1151]\tvalid_0's rmse: 377.085\tvalid_0's l2: 142193\n",
      "[1152]\tvalid_0's rmse: 377.084\tvalid_0's l2: 142192\n",
      "[1153]\tvalid_0's rmse: 377.09\tvalid_0's l2: 142197\n",
      "[1154]\tvalid_0's rmse: 377.077\tvalid_0's l2: 142187\n",
      "[1155]\tvalid_0's rmse: 377.087\tvalid_0's l2: 142195\n",
      "[1156]\tvalid_0's rmse: 377.082\tvalid_0's l2: 142191\n",
      "[1157]\tvalid_0's rmse: 377.072\tvalid_0's l2: 142183\n",
      "[1158]\tvalid_0's rmse: 377.071\tvalid_0's l2: 142183\n",
      "[1159]\tvalid_0's rmse: 377.057\tvalid_0's l2: 142172\n",
      "[1160]\tvalid_0's rmse: 377.059\tvalid_0's l2: 142173\n",
      "[1161]\tvalid_0's rmse: 377.06\tvalid_0's l2: 142174\n",
      "[1162]\tvalid_0's rmse: 377.064\tvalid_0's l2: 142178\n",
      "[1163]\tvalid_0's rmse: 377.055\tvalid_0's l2: 142170\n",
      "[1164]\tvalid_0's rmse: 377.053\tvalid_0's l2: 142169\n",
      "[1165]\tvalid_0's rmse: 377.039\tvalid_0's l2: 142158\n",
      "[1166]\tvalid_0's rmse: 377.041\tvalid_0's l2: 142160\n",
      "[1167]\tvalid_0's rmse: 377.034\tvalid_0's l2: 142154\n",
      "[1168]\tvalid_0's rmse: 377.02\tvalid_0's l2: 142144\n",
      "[1169]\tvalid_0's rmse: 377.001\tvalid_0's l2: 142130\n",
      "[1170]\tvalid_0's rmse: 377.008\tvalid_0's l2: 142135\n",
      "[1171]\tvalid_0's rmse: 377.001\tvalid_0's l2: 142130\n",
      "[1172]\tvalid_0's rmse: 376.999\tvalid_0's l2: 142128\n",
      "[1173]\tvalid_0's rmse: 377\tvalid_0's l2: 142129\n",
      "[1174]\tvalid_0's rmse: 376.986\tvalid_0's l2: 142119\n",
      "[1175]\tvalid_0's rmse: 376.967\tvalid_0's l2: 142104\n",
      "[1176]\tvalid_0's rmse: 376.972\tvalid_0's l2: 142108\n",
      "[1177]\tvalid_0's rmse: 376.961\tvalid_0's l2: 142100\n",
      "[1178]\tvalid_0's rmse: 376.965\tvalid_0's l2: 142103\n",
      "[1179]\tvalid_0's rmse: 376.959\tvalid_0's l2: 142098\n",
      "[1180]\tvalid_0's rmse: 376.936\tvalid_0's l2: 142081\n",
      "[1181]\tvalid_0's rmse: 376.932\tvalid_0's l2: 142078\n",
      "[1182]\tvalid_0's rmse: 376.936\tvalid_0's l2: 142081\n",
      "[1183]\tvalid_0's rmse: 376.921\tvalid_0's l2: 142070\n",
      "[1184]\tvalid_0's rmse: 376.915\tvalid_0's l2: 142065\n",
      "[1185]\tvalid_0's rmse: 376.907\tvalid_0's l2: 142059\n",
      "[1186]\tvalid_0's rmse: 376.898\tvalid_0's l2: 142052\n",
      "[1187]\tvalid_0's rmse: 376.898\tvalid_0's l2: 142052\n",
      "[1188]\tvalid_0's rmse: 376.91\tvalid_0's l2: 142061\n",
      "[1189]\tvalid_0's rmse: 376.902\tvalid_0's l2: 142055\n",
      "[1190]\tvalid_0's rmse: 376.894\tvalid_0's l2: 142049\n",
      "[1191]\tvalid_0's rmse: 376.87\tvalid_0's l2: 142031\n",
      "[1192]\tvalid_0's rmse: 376.864\tvalid_0's l2: 142026\n",
      "[1193]\tvalid_0's rmse: 376.859\tvalid_0's l2: 142023\n",
      "[1194]\tvalid_0's rmse: 376.842\tvalid_0's l2: 142010\n",
      "[1195]\tvalid_0's rmse: 376.847\tvalid_0's l2: 142014\n",
      "[1196]\tvalid_0's rmse: 376.851\tvalid_0's l2: 142017\n",
      "[1197]\tvalid_0's rmse: 376.853\tvalid_0's l2: 142018\n",
      "[1198]\tvalid_0's rmse: 376.834\tvalid_0's l2: 142004\n",
      "[1199]\tvalid_0's rmse: 376.827\tvalid_0's l2: 141999\n",
      "[1200]\tvalid_0's rmse: 376.814\tvalid_0's l2: 141989\n",
      "[1201]\tvalid_0's rmse: 376.81\tvalid_0's l2: 141986\n",
      "\\\\3.573214292526245 seconds///\n"
     ]
    }
   ],
   "source": [
    "start_time = time.time()\n",
    "booster.fit(features_train, target_train, eval_set=[(features_valid, target_valid)], eval_metric='rmse')\n",
    "print('\\\\\\%s seconds///' % (time.time() - start_time))"
   ]
  },
  {
   "cell_type": "markdown",
   "metadata": {},
   "source": [
    "### Перебор гиперпараметров"
   ]
  },
  {
   "cell_type": "code",
   "execution_count": 35,
   "metadata": {},
   "outputs": [],
   "source": [
    "param_boost = {'n_estimators': range (1, 1500, 300), \n",
    "                'max_depth': range (1, 35, 5)}"
   ]
  },
  {
   "cell_type": "code",
   "execution_count": 36,
   "metadata": {},
   "outputs": [],
   "source": [
    "grid = GridSearchCV(booster, param_grid=param_boost, scoring='neg_root_mean_squared_error', n_jobs=-1)"
   ]
  },
  {
   "cell_type": "code",
   "execution_count": 37,
   "metadata": {},
   "outputs": [
    {
     "name": "stdout",
     "output_type": "stream",
     "text": [
      "\\\\169.9857039451599 seconds///\n"
     ]
    }
   ],
   "source": [
    "start_time = time.time()\n",
    "grid.fit(features_train, target_train)\n",
    "print('\\\\\\%s seconds///' % (time.time() - start_time))"
   ]
  },
  {
   "cell_type": "code",
   "execution_count": 38,
   "metadata": {},
   "outputs": [
    {
     "data": {
      "text/plain": [
       "{'max_depth': 21, 'n_estimators': 1201}"
      ]
     },
     "execution_count": 38,
     "metadata": {},
     "output_type": "execute_result"
    }
   ],
   "source": [
    "grid.best_params_"
   ]
  },
  {
   "cell_type": "code",
   "execution_count": 39,
   "metadata": {},
   "outputs": [
    {
     "name": "stdout",
     "output_type": "stream",
     "text": [
      "RMSE 375.6599684051903\n"
     ]
    }
   ],
   "source": [
    "print('RMSE', grid.best_score_ * -1)"
   ]
  },
  {
   "cell_type": "code",
   "execution_count": 40,
   "metadata": {
    "scrolled": true
   },
   "outputs": [
    {
     "data": {
      "text/plain": [
       "{'mean_fit_time': array([ 0.28311591,  1.74382005,  3.37671199,  4.75812693,  6.08597903,\n",
       "         0.38110738,  3.68223348,  6.7506969 ,  8.94142957, 11.35515246,\n",
       "         0.33449807,  3.25503254,  5.47662191,  8.14978771, 10.28121219,\n",
       "         0.31877036,  3.32615924,  5.70756178,  7.74875417,  9.69900293,\n",
       "         0.31956034,  3.36175413,  5.70579948,  7.87974734,  9.83445029,\n",
       "         0.31071811,  3.3442946 ,  5.44868445,  7.87706003,  9.65170517,\n",
       "         0.32269411,  3.31992807,  5.60153551,  8.12347932,  9.24494276]),\n",
       " 'std_fit_time': array([0.00561312, 0.04764482, 0.29617206, 0.32171603, 0.34097471,\n",
       "        0.01719632, 0.08704186, 0.34433988, 0.19514137, 0.24459214,\n",
       "        0.00824988, 0.14174995, 0.28208721, 0.21333633, 0.70031311,\n",
       "        0.02119507, 0.05761416, 0.0623076 , 0.06614049, 0.23662865,\n",
       "        0.01195187, 0.04903517, 0.32642303, 0.11966533, 0.23568579,\n",
       "        0.01080508, 0.06274016, 0.07325953, 0.05659683, 0.20292855,\n",
       "        0.021126  , 0.02826186, 0.05691897, 0.12238251, 0.9869337 ]),\n",
       " 'mean_score_time': array([0.01988564, 0.26179662, 0.52538452, 0.89983644, 1.19755197,\n",
       "        0.02707524, 0.93040237, 2.26432214, 4.11303253, 9.15883155,\n",
       "        0.02918406, 0.81098561, 2.01386704, 3.25646663, 5.06856303,\n",
       "        0.02500038, 0.86240621, 1.87481947, 3.1225318 , 4.52392645,\n",
       "        0.02118359, 0.82773714, 1.85445766, 3.18367114, 4.65352664,\n",
       "        0.02500129, 0.84427028, 1.91564069, 3.1090651 , 4.6959085 ,\n",
       "        0.02426367, 0.83957214, 1.97116332, 3.23115668, 3.19042726]),\n",
       " 'std_score_time': array([0.00484812, 0.00498969, 0.01568308, 0.01419466, 0.01962735,\n",
       "        0.00256937, 0.02586617, 0.06197251, 0.10190598, 0.64047107,\n",
       "        0.0049572 , 0.01956654, 0.18267017, 0.12983684, 0.17469689,\n",
       "        0.00765419, 0.05090975, 0.0329328 , 0.08929245, 0.18727022,\n",
       "        0.00479396, 0.02369249, 0.05335653, 0.03398158, 0.24857455,\n",
       "        0.00765639, 0.02271612, 0.02690586, 0.09300823, 0.06413718,\n",
       "        0.00718009, 0.01043134, 0.0429888 , 0.13249719, 0.59301998]),\n",
       " 'param_max_depth': masked_array(data=[1, 1, 1, 1, 1, 6, 6, 6, 6, 6, 11, 11, 11, 11, 11, 16,\n",
       "                    16, 16, 16, 16, 21, 21, 21, 21, 21, 26, 26, 26, 26, 26,\n",
       "                    31, 31, 31, 31, 31],\n",
       "              mask=[False, False, False, False, False, False, False, False,\n",
       "                    False, False, False, False, False, False, False, False,\n",
       "                    False, False, False, False, False, False, False, False,\n",
       "                    False, False, False, False, False, False, False, False,\n",
       "                    False, False, False],\n",
       "        fill_value='?',\n",
       "             dtype=object),\n",
       " 'param_n_estimators': masked_array(data=[1, 301, 601, 901, 1201, 1, 301, 601, 901, 1201, 1, 301,\n",
       "                    601, 901, 1201, 1, 301, 601, 901, 1201, 1, 301, 601,\n",
       "                    901, 1201, 1, 301, 601, 901, 1201, 1, 301, 601, 901,\n",
       "                    1201],\n",
       "              mask=[False, False, False, False, False, False, False, False,\n",
       "                    False, False, False, False, False, False, False, False,\n",
       "                    False, False, False, False, False, False, False, False,\n",
       "                    False, False, False, False, False, False, False, False,\n",
       "                    False, False, False],\n",
       "        fill_value='?',\n",
       "             dtype=object),\n",
       " 'params': [{'max_depth': 1, 'n_estimators': 1},\n",
       "  {'max_depth': 1, 'n_estimators': 301},\n",
       "  {'max_depth': 1, 'n_estimators': 601},\n",
       "  {'max_depth': 1, 'n_estimators': 901},\n",
       "  {'max_depth': 1, 'n_estimators': 1201},\n",
       "  {'max_depth': 6, 'n_estimators': 1},\n",
       "  {'max_depth': 6, 'n_estimators': 301},\n",
       "  {'max_depth': 6, 'n_estimators': 601},\n",
       "  {'max_depth': 6, 'n_estimators': 901},\n",
       "  {'max_depth': 6, 'n_estimators': 1201},\n",
       "  {'max_depth': 11, 'n_estimators': 1},\n",
       "  {'max_depth': 11, 'n_estimators': 301},\n",
       "  {'max_depth': 11, 'n_estimators': 601},\n",
       "  {'max_depth': 11, 'n_estimators': 901},\n",
       "  {'max_depth': 11, 'n_estimators': 1201},\n",
       "  {'max_depth': 16, 'n_estimators': 1},\n",
       "  {'max_depth': 16, 'n_estimators': 301},\n",
       "  {'max_depth': 16, 'n_estimators': 601},\n",
       "  {'max_depth': 16, 'n_estimators': 901},\n",
       "  {'max_depth': 16, 'n_estimators': 1201},\n",
       "  {'max_depth': 21, 'n_estimators': 1},\n",
       "  {'max_depth': 21, 'n_estimators': 301},\n",
       "  {'max_depth': 21, 'n_estimators': 601},\n",
       "  {'max_depth': 21, 'n_estimators': 901},\n",
       "  {'max_depth': 21, 'n_estimators': 1201},\n",
       "  {'max_depth': 26, 'n_estimators': 1},\n",
       "  {'max_depth': 26, 'n_estimators': 301},\n",
       "  {'max_depth': 26, 'n_estimators': 601},\n",
       "  {'max_depth': 26, 'n_estimators': 901},\n",
       "  {'max_depth': 26, 'n_estimators': 1201},\n",
       "  {'max_depth': 31, 'n_estimators': 1},\n",
       "  {'max_depth': 31, 'n_estimators': 301},\n",
       "  {'max_depth': 31, 'n_estimators': 601},\n",
       "  {'max_depth': 31, 'n_estimators': 901},\n",
       "  {'max_depth': 31, 'n_estimators': 1201}],\n",
       " 'split0_test_score': array([-932.76269401, -488.44988554, -474.61794797, -467.97915215,\n",
       "        -463.67862574, -897.28387511, -392.08255025, -385.85223361,\n",
       "        -382.85707437, -380.54373392, -897.04785193, -390.22902136,\n",
       "        -383.53677153, -380.35603057, -378.70543086, -897.04785193,\n",
       "        -389.43212432, -382.84615991, -379.88082749, -378.16537642,\n",
       "        -897.04785193, -388.85900349, -382.24025502, -379.09780297,\n",
       "        -377.32866541, -897.04785193, -388.85900349, -382.24025502,\n",
       "        -379.09780297, -377.32866541, -897.04785193, -388.85900349,\n",
       "        -382.24025502, -379.09780297, -377.32866541]),\n",
       " 'split1_test_score': array([-934.1482189 , -480.97328859, -466.71975019, -459.94646792,\n",
       "        -455.7595851 , -898.63975305, -386.9375059 , -381.73147254,\n",
       "        -379.41488619, -378.18570182, -898.4539812 , -385.09669618,\n",
       "        -379.25948534, -376.99505001, -375.68572529, -898.4539812 ,\n",
       "        -385.6549425 , -379.70303722, -377.33914789, -376.10892751,\n",
       "        -898.4539812 , -385.50744231, -379.91897115, -377.76653046,\n",
       "        -376.34383021, -898.4539812 , -385.50744231, -379.91897115,\n",
       "        -377.76653046, -376.34383021, -898.4539812 , -385.50744231,\n",
       "        -379.91897115, -377.76653046, -376.34383021]),\n",
       " 'split2_test_score': array([-931.86227923, -482.87091933, -468.75773167, -462.16637081,\n",
       "        -457.99791789, -896.81969172, -385.77975959, -379.38854032,\n",
       "        -376.82225903, -375.21060256, -896.61937738, -385.11012963,\n",
       "        -379.09500496, -375.99209822, -374.6775668 , -896.61937738,\n",
       "        -385.28481275, -379.0030556 , -375.88260062, -374.46193363,\n",
       "        -896.61937738, -384.92965467, -378.71822654, -375.46211524,\n",
       "        -374.15216159, -896.61937738, -384.92965467, -378.71822654,\n",
       "        -375.46211524, -374.15216159, -896.61937738, -384.92965467,\n",
       "        -378.71822654, -375.46211524, -374.15216159]),\n",
       " 'split3_test_score': array([-930.5923977 , -482.3670676 , -467.99402872, -461.25736584,\n",
       "        -456.92681536, -895.39402874, -386.24839615, -379.87760785,\n",
       "        -377.09435867, -375.41263326, -895.03799844, -383.97594136,\n",
       "        -377.97425482, -375.39948265, -373.98247585, -895.03799844,\n",
       "        -383.5951771 , -377.462749  , -375.32398308, -373.79803618,\n",
       "        -895.03799844, -384.08371905, -377.71644021, -375.16588972,\n",
       "        -373.71606931, -895.03799844, -384.08371905, -377.71644021,\n",
       "        -375.16588972, -373.71606931, -895.03799844, -384.08371905,\n",
       "        -377.71644021, -375.16588972, -373.71606931]),\n",
       " 'split4_test_score': array([-934.12513659, -482.32158354, -467.83429442, -461.14464284,\n",
       "        -456.83596247, -899.18989917, -388.07412846, -381.88131956,\n",
       "        -379.40824626, -377.847239  , -899.03133167, -386.07247795,\n",
       "        -379.74947414, -377.37935258, -376.03595096, -899.03133167,\n",
       "        -386.34392621, -380.02203937, -377.56787554, -376.21619461,\n",
       "        -899.03133167, -386.34392621, -380.26116349, -378.12768529,\n",
       "        -376.75911551, -899.03133167, -386.34392621, -380.26116349,\n",
       "        -378.12768529, -376.75911551, -899.03133167, -386.34392621,\n",
       "        -380.26116349, -378.12768529, -376.75911551]),\n",
       " 'mean_test_score': array([-932.69814529, -483.39654892, -469.18475059, -462.49879991,\n",
       "        -458.23978131, -897.46544956, -387.82446807, -381.74623478,\n",
       "        -379.1193649 , -377.43998211, -897.23810812, -386.0968533 ,\n",
       "        -379.92299816, -377.2244028 , -375.81742995, -897.23810812,\n",
       "        -386.06219658, -379.80740822, -377.19888692, -375.75009367,\n",
       "        -897.23810812, -385.94474915, -379.77101128, -377.12400474,\n",
       "        -375.65996841, -897.23810812, -385.94474915, -379.77101128,\n",
       "        -377.12400474, -375.65996841, -897.23810812, -385.94474915,\n",
       "        -379.77101128, -377.12400474, -375.65996841]),\n",
       " 'std_test_score': array([1.36205941, 2.60384602, 2.79355531, 2.82963136, 2.81017746,\n",
       "        1.34858977, 2.26473537, 2.27719924, 2.16880626, 1.97157338,\n",
       "        1.4109221 , 2.17014342, 1.8980459 , 1.71654378, 1.6169101 ,\n",
       "        1.4109221 , 1.91270234, 1.75700778, 1.58723061, 1.52640016,\n",
       "        1.4109221 , 1.63323653, 1.52898162, 1.54351447, 1.45000456,\n",
       "        1.4109221 , 1.63323653, 1.52898162, 1.54351447, 1.45000456,\n",
       "        1.4109221 , 1.63323653, 1.52898162, 1.54351447, 1.45000456]),\n",
       " 'rank_test_score': array([35, 28, 27, 26, 25, 34, 24, 18, 12, 11, 29, 23, 17, 10,  5, 29, 22,\n",
       "        16,  9,  4, 29, 19, 13,  6,  1, 29, 19, 13,  6,  1, 29, 19, 13,  6,\n",
       "         1])}"
      ]
     },
     "execution_count": 40,
     "metadata": {},
     "output_type": "execute_result"
    }
   ],
   "source": [
    "grid.cv_results_"
   ]
  },
  {
   "cell_type": "markdown",
   "metadata": {},
   "source": [
    "### Предикт на тесте"
   ]
  },
  {
   "cell_type": "code",
   "execution_count": 41,
   "metadata": {},
   "outputs": [
    {
     "name": "stdout",
     "output_type": "stream",
     "text": [
      "---0.750126838684082 seconds---\n"
     ]
    }
   ],
   "source": [
    "start_time = time.time()\n",
    "predicted_test = booster.predict(features_test)\n",
    "print('---%s seconds---' % (time.time() - start_time))\n"
   ]
  },
  {
   "cell_type": "code",
   "execution_count": 42,
   "metadata": {},
   "outputs": [
    {
     "data": {
      "text/plain": [
       "373.61353626973727"
      ]
     },
     "execution_count": 42,
     "metadata": {},
     "output_type": "execute_result"
    }
   ],
   "source": [
    "mean_squared_error(target_test, predicted_test)**0.5\n"
   ]
  },
  {
   "cell_type": "code",
   "execution_count": 43,
   "metadata": {},
   "outputs": [
    {
     "name": "stdout",
     "output_type": "stream",
     "text": [
      "Test  R2: 0.85\n"
     ]
    }
   ],
   "source": [
    "print(\"Test  R2: %.2f\"%booster.score(features_test, target_test))"
   ]
  },
  {
   "cell_type": "markdown",
   "metadata": {},
   "source": [
    "###  Используем CatBoost"
   ]
  },
  {
   "cell_type": "markdown",
   "metadata": {},
   "source": [
    "**Не кодируем...**"
   ]
  },
  {
   "cell_type": "code",
   "execution_count": 44,
   "metadata": {},
   "outputs": [],
   "source": [
    "train, valid = train_test_split(auto_pre, test_size=0.4, random_state=77)\n",
    "valid, test = train_test_split(valid, test_size=0.5, random_state=77)"
   ]
  },
  {
   "cell_type": "code",
   "execution_count": 45,
   "metadata": {
    "scrolled": true
   },
   "outputs": [
    {
     "data": {
      "text/plain": [
       "Index(['Price', 'VehicleType', 'RegistrationYear', 'Gearbox', 'Power', 'Model',\n",
       "       'Kilometer', 'RegistrationMonth', 'FuelType', 'Brand', 'NotRepaired'],\n",
       "      dtype='object')"
      ]
     },
     "execution_count": 45,
     "metadata": {},
     "output_type": "execute_result"
    }
   ],
   "source": [
    "auto_pre.columns"
   ]
  },
  {
   "cell_type": "code",
   "execution_count": 46,
   "metadata": {},
   "outputs": [],
   "source": [
    "X = ['VehicleType', 'RegistrationYear', 'Gearbox', 'Power', 'Model',\n",
    "       'Kilometer', 'RegistrationMonth', 'FuelType', 'Brand', 'NotRepaired']"
   ]
  },
  {
   "cell_type": "code",
   "execution_count": 47,
   "metadata": {},
   "outputs": [
    {
     "data": {
      "text/plain": [
       "Index(['VehicleType', 'Gearbox', 'Model', 'FuelType', 'Brand', 'NotRepaired'], dtype='object')"
      ]
     },
     "execution_count": 47,
     "metadata": {},
     "output_type": "execute_result"
    }
   ],
   "source": [
    " auto_pre.select_dtypes(include='object').columns"
   ]
  },
  {
   "cell_type": "code",
   "execution_count": 48,
   "metadata": {},
   "outputs": [],
   "source": [
    "cat_features = ['VehicleType', 'Gearbox', 'Model', 'FuelType', 'Brand', 'NotRepaired']"
   ]
  },
  {
   "cell_type": "code",
   "execution_count": 49,
   "metadata": {},
   "outputs": [],
   "source": [
    "y = ['Price']"
   ]
  },
  {
   "cell_type": "markdown",
   "metadata": {},
   "source": [
    "### Перебор гиперпараметров"
   ]
  },
  {
   "cell_type": "markdown",
   "metadata": {},
   "source": [
    "**Базовые**"
   ]
  },
  {
   "cell_type": "code",
   "execution_count": 50,
   "metadata": {},
   "outputs": [],
   "source": [
    "params = {'cat_features': cat_features,\n",
    "         'random_state': 77,\n",
    "         'verbose': 100}"
   ]
  },
  {
   "cell_type": "markdown",
   "metadata": {},
   "source": [
    "**Уменьшим learning rate**"
   ]
  },
  {
   "cell_type": "code",
   "execution_count": 51,
   "metadata": {},
   "outputs": [],
   "source": [
    "params_l = {'cat_features': cat_features,\n",
    "         'random_state': 77,\n",
    "         'verbose': 100,\n",
    "         'learning_rate': 0.06}"
   ]
  },
  {
   "cell_type": "markdown",
   "metadata": {},
   "source": [
    "**Увеличим глубину**"
   ]
  },
  {
   "cell_type": "code",
   "execution_count": 52,
   "metadata": {},
   "outputs": [],
   "source": [
    "params_ld = {'cat_features': cat_features,\n",
    "         'random_state': 77,\n",
    "         'verbose': 100,\n",
    "         'learning_rate': 0.06,\n",
    "         'depth':10}"
   ]
  },
  {
   "cell_type": "markdown",
   "metadata": {},
   "source": [
    "**Обучим модели с различными параметрами**"
   ]
  },
  {
   "cell_type": "code",
   "execution_count": 53,
   "metadata": {},
   "outputs": [],
   "source": [
    "model = CatBoostRegressor(**params)"
   ]
  },
  {
   "cell_type": "code",
   "execution_count": 54,
   "metadata": {},
   "outputs": [
    {
     "name": "stdout",
     "output_type": "stream",
     "text": [
      "Learning rate set to 0.126883\n",
      "0:\tlearn: 4164.2340642\ttest: 4144.0982490\tbest: 4144.0982490 (0)\ttotal: 312ms\tremaining: 5m 11s\n",
      "100:\tlearn: 1876.1370395\ttest: 1901.5540769\tbest: 1901.5540769 (100)\ttotal: 13.2s\tremaining: 1m 57s\n",
      "200:\tlearn: 1800.3567235\ttest: 1841.0226403\tbest: 1841.0226403 (200)\ttotal: 25.8s\tremaining: 1m 42s\n",
      "300:\tlearn: 1763.9416144\ttest: 1815.2017467\tbest: 1815.2017467 (300)\ttotal: 38.3s\tremaining: 1m 28s\n",
      "400:\tlearn: 1738.3376849\ttest: 1798.0906004\tbest: 1798.0906004 (400)\ttotal: 51.1s\tremaining: 1m 16s\n",
      "500:\tlearn: 1718.2789593\ttest: 1786.8609183\tbest: 1786.8609183 (500)\ttotal: 1m 3s\tremaining: 1m 3s\n",
      "600:\tlearn: 1698.9834460\ttest: 1775.8293537\tbest: 1775.8013174 (599)\ttotal: 1m 16s\tremaining: 50.8s\n",
      "700:\tlearn: 1685.4507982\ttest: 1770.3871784\tbest: 1770.3871784 (700)\ttotal: 1m 29s\tremaining: 38.3s\n",
      "800:\tlearn: 1672.8819216\ttest: 1765.3863677\tbest: 1765.3863677 (800)\ttotal: 1m 42s\tremaining: 25.5s\n",
      "900:\tlearn: 1660.5423221\ttest: 1759.8440696\tbest: 1759.8440696 (900)\ttotal: 1m 56s\tremaining: 12.8s\n",
      "999:\tlearn: 1650.7746720\ttest: 1756.1684776\tbest: 1756.1684776 (999)\ttotal: 2m 9s\tremaining: 0us\n",
      "\n",
      "bestTest = 1756.168478\n",
      "bestIteration = 999\n",
      "\n",
      "+++130.15712571144104 sec+++\n"
     ]
    }
   ],
   "source": [
    "start_time = time.time()\n",
    "model.fit(train[X], train[y], eval_set=(valid[X], valid[y]))\n",
    "print('+++%s sec+++' % (time.time() - start_time))"
   ]
  },
  {
   "cell_type": "code",
   "execution_count": 55,
   "metadata": {},
   "outputs": [],
   "source": [
    "model_l = CatBoostRegressor(**params_l)"
   ]
  },
  {
   "cell_type": "code",
   "execution_count": 56,
   "metadata": {},
   "outputs": [
    {
     "name": "stdout",
     "output_type": "stream",
     "text": [
      "0:\tlearn: 4348.2627610\ttest: 4327.3406653\tbest: 4327.3406653 (0)\ttotal: 129ms\tremaining: 2m 9s\n",
      "100:\tlearn: 1974.2306966\ttest: 1990.2080386\tbest: 1990.2080386 (100)\ttotal: 12.4s\tremaining: 1m 50s\n",
      "200:\tlearn: 1884.6447792\ttest: 1909.5468753\tbest: 1909.5468753 (200)\ttotal: 24.9s\tremaining: 1m 39s\n",
      "300:\tlearn: 1836.1632933\ttest: 1867.6687151\tbest: 1867.6687151 (300)\ttotal: 38.1s\tremaining: 1m 28s\n",
      "400:\tlearn: 1804.6932577\ttest: 1842.8080396\tbest: 1842.8080396 (400)\ttotal: 50.7s\tremaining: 1m 15s\n",
      "500:\tlearn: 1783.1902721\ttest: 1827.6058810\tbest: 1827.6058810 (500)\ttotal: 1m 3s\tremaining: 1m 3s\n",
      "600:\tlearn: 1766.0384941\ttest: 1816.1812438\tbest: 1816.1691306 (599)\ttotal: 1m 16s\tremaining: 51s\n",
      "700:\tlearn: 1752.1510637\ttest: 1807.3389876\tbest: 1807.3389876 (700)\ttotal: 1m 30s\tremaining: 38.4s\n",
      "800:\tlearn: 1741.4414237\ttest: 1801.0976972\tbest: 1801.0976972 (800)\ttotal: 1m 42s\tremaining: 25.5s\n",
      "900:\tlearn: 1730.7097693\ttest: 1794.8017852\tbest: 1794.8017852 (900)\ttotal: 1m 55s\tremaining: 12.7s\n",
      "999:\tlearn: 1722.2752747\ttest: 1789.9902039\tbest: 1789.9902039 (999)\ttotal: 2m 8s\tremaining: 0us\n",
      "\n",
      "bestTest = 1789.990204\n",
      "bestIteration = 999\n",
      "\n",
      "+++129.33375883102417 sec+++\n"
     ]
    }
   ],
   "source": [
    "start_time = time.time()\n",
    "model_l.fit(train[X], train[y], eval_set=(valid[X], valid[y]))\n",
    "print('+++%s sec+++' % (time.time() - start_time))"
   ]
  },
  {
   "cell_type": "code",
   "execution_count": 57,
   "metadata": {},
   "outputs": [],
   "source": [
    "model_ld = CatBoostRegressor(**params_ld)"
   ]
  },
  {
   "cell_type": "code",
   "execution_count": 58,
   "metadata": {},
   "outputs": [
    {
     "name": "stdout",
     "output_type": "stream",
     "text": [
      "0:\tlearn: 4326.7357024\ttest: 4305.2120729\tbest: 4305.2120729 (0)\ttotal: 205ms\tremaining: 3m 24s\n",
      "100:\tlearn: 1827.5146525\ttest: 1873.0278442\tbest: 1873.0278442 (100)\ttotal: 18.8s\tremaining: 2m 47s\n",
      "200:\tlearn: 1728.4147848\ttest: 1805.9498530\tbest: 1805.9498530 (200)\ttotal: 38.3s\tremaining: 2m 32s\n",
      "300:\tlearn: 1669.9146376\ttest: 1775.6830403\tbest: 1775.6830403 (300)\ttotal: 57.8s\tremaining: 2m 14s\n",
      "400:\tlearn: 1629.5125194\ttest: 1758.2439656\tbest: 1758.2439656 (400)\ttotal: 1m 18s\tremaining: 1m 56s\n",
      "500:\tlearn: 1601.1659546\ttest: 1748.0174363\tbest: 1748.0174363 (500)\ttotal: 1m 38s\tremaining: 1m 38s\n",
      "600:\tlearn: 1578.2561726\ttest: 1740.7249301\tbest: 1740.7249301 (600)\ttotal: 1m 59s\tremaining: 1m 19s\n",
      "700:\tlearn: 1556.6693847\ttest: 1734.6498429\tbest: 1734.6498429 (700)\ttotal: 2m 18s\tremaining: 59.2s\n",
      "800:\tlearn: 1535.4672351\ttest: 1729.1992082\tbest: 1729.1992082 (800)\ttotal: 2m 40s\tremaining: 39.8s\n",
      "900:\tlearn: 1516.4051665\ttest: 1725.1929836\tbest: 1725.1903882 (899)\ttotal: 3m 1s\tremaining: 19.9s\n",
      "999:\tlearn: 1498.7688650\ttest: 1722.2576084\tbest: 1722.2293800 (998)\ttotal: 3m 21s\tremaining: 0us\n",
      "\n",
      "bestTest = 1722.22938\n",
      "bestIteration = 998\n",
      "\n",
      "Shrink model to first 999 iterations.\n",
      "+++203.3143117427826 sec+++\n"
     ]
    }
   ],
   "source": [
    "start_time = time.time()\n",
    "model_ld.fit(train[X], train[y], eval_set=(valid[X], valid[y]))\n",
    "print('+++%s sec+++' % (time.time() - start_time))"
   ]
  },
  {
   "cell_type": "markdown",
   "metadata": {},
   "source": [
    "####  Вывод\n",
    "**Ручное назначение параметра Depth привело к незначительному улучшению метрики, используем её в дальнейшем**"
   ]
  },
  {
   "cell_type": "markdown",
   "metadata": {},
   "source": [
    "### Предикт на тесте"
   ]
  },
  {
   "cell_type": "code",
   "execution_count": 60,
   "metadata": {},
   "outputs": [
    {
     "name": "stdout",
     "output_type": "stream",
     "text": [
      "--- 0.19759273529052734 seconds ---\n"
     ]
    }
   ],
   "source": [
    "start_time = time.time()\n",
    "test_pred = model.predict(test[X])\n",
    "print(\"--- %s seconds ---\" % (time.time() - start_time))"
   ]
  },
  {
   "cell_type": "code",
   "execution_count": 61,
   "metadata": {},
   "outputs": [
    {
     "name": "stdout",
     "output_type": "stream",
     "text": [
      "--- 0.305600643157959 seconds ---\n"
     ]
    }
   ],
   "source": [
    "start_time = time.time()\n",
    "test_pred = model_ld.predict(test[X])\n",
    "print(\"--- %s seconds ---\" % (time.time() - start_time))"
   ]
  },
  {
   "cell_type": "markdown",
   "metadata": {},
   "source": [
    "#### Вывод\n",
    "**Три процента качества предсказания ведут к почти двукратному ухудшению скорости предсказания и времени обучения. Вернемся к предустановленным параметрам**"
   ]
  },
  {
   "cell_type": "code",
   "execution_count": 62,
   "metadata": {},
   "outputs": [
    {
     "data": {
      "text/plain": [
       "1704.1089047119826"
      ]
     },
     "execution_count": 62,
     "metadata": {},
     "output_type": "execute_result"
    }
   ],
   "source": [
    "mean_squared_error(test[y], test_pred) ** 0.5"
   ]
  },
  {
   "cell_type": "code",
   "execution_count": 63,
   "metadata": {},
   "outputs": [
    {
     "data": {
      "text/plain": [
       "0.8579151123859945"
      ]
     },
     "execution_count": 63,
     "metadata": {},
     "output_type": "execute_result"
    }
   ],
   "source": [
    "r2_score(test[y], test_pred)"
   ]
  },
  {
   "cell_type": "markdown",
   "metadata": {},
   "source": [
    "### Интерпретация признаков модели"
   ]
  },
  {
   "cell_type": "code",
   "execution_count": 64,
   "metadata": {},
   "outputs": [
    {
     "data": {
      "text/html": [
       "<div>\n",
       "<style scoped>\n",
       "    .dataframe tbody tr th:only-of-type {\n",
       "        vertical-align: middle;\n",
       "    }\n",
       "\n",
       "    .dataframe tbody tr th {\n",
       "        vertical-align: top;\n",
       "    }\n",
       "\n",
       "    .dataframe thead th {\n",
       "        text-align: right;\n",
       "    }\n",
       "</style>\n",
       "<table border=\"1\" class=\"dataframe\">\n",
       "  <thead>\n",
       "    <tr style=\"text-align: right;\">\n",
       "      <th></th>\n",
       "      <th>Feature Id</th>\n",
       "      <th>Importances</th>\n",
       "    </tr>\n",
       "  </thead>\n",
       "  <tbody>\n",
       "    <tr>\n",
       "      <th>0</th>\n",
       "      <td>RegistrationYear</td>\n",
       "      <td>38.180602</td>\n",
       "    </tr>\n",
       "    <tr>\n",
       "      <th>1</th>\n",
       "      <td>Power</td>\n",
       "      <td>21.696413</td>\n",
       "    </tr>\n",
       "    <tr>\n",
       "      <th>2</th>\n",
       "      <td>VehicleType</td>\n",
       "      <td>11.067203</td>\n",
       "    </tr>\n",
       "    <tr>\n",
       "      <th>3</th>\n",
       "      <td>Kilometer</td>\n",
       "      <td>9.736305</td>\n",
       "    </tr>\n",
       "    <tr>\n",
       "      <th>4</th>\n",
       "      <td>Brand</td>\n",
       "      <td>7.931206</td>\n",
       "    </tr>\n",
       "    <tr>\n",
       "      <th>5</th>\n",
       "      <td>Model</td>\n",
       "      <td>4.835362</td>\n",
       "    </tr>\n",
       "    <tr>\n",
       "      <th>6</th>\n",
       "      <td>NotRepaired</td>\n",
       "      <td>3.440595</td>\n",
       "    </tr>\n",
       "    <tr>\n",
       "      <th>7</th>\n",
       "      <td>FuelType</td>\n",
       "      <td>1.717480</td>\n",
       "    </tr>\n",
       "    <tr>\n",
       "      <th>8</th>\n",
       "      <td>Gearbox</td>\n",
       "      <td>0.923453</td>\n",
       "    </tr>\n",
       "    <tr>\n",
       "      <th>9</th>\n",
       "      <td>RegistrationMonth</td>\n",
       "      <td>0.471381</td>\n",
       "    </tr>\n",
       "  </tbody>\n",
       "</table>\n",
       "</div>"
      ],
      "text/plain": [
       "          Feature Id  Importances\n",
       "0   RegistrationYear    38.180602\n",
       "1              Power    21.696413\n",
       "2        VehicleType    11.067203\n",
       "3          Kilometer     9.736305\n",
       "4              Brand     7.931206\n",
       "5              Model     4.835362\n",
       "6        NotRepaired     3.440595\n",
       "7           FuelType     1.717480\n",
       "8            Gearbox     0.923453\n",
       "9  RegistrationMonth     0.471381"
      ]
     },
     "execution_count": 64,
     "metadata": {},
     "output_type": "execute_result"
    }
   ],
   "source": [
    "model.get_feature_importance(prettified=True)"
   ]
  },
  {
   "cell_type": "markdown",
   "metadata": {},
   "source": [
    "###  Используем LinearRegression"
   ]
  },
  {
   "cell_type": "markdown",
   "metadata": {},
   "source": [
    "**Исходя из алгоритма лежащего в основе модели, перекодируем признаки правильным методом, исключив dummy - ловушку.**"
   ]
  },
  {
   "cell_type": "code",
   "execution_count": 65,
   "metadata": {},
   "outputs": [],
   "source": [
    "auto_ohe = pd.get_dummies(auto_pre, drop_first=True, columns=cat_features)"
   ]
  },
  {
   "cell_type": "code",
   "execution_count": 66,
   "metadata": {},
   "outputs": [
    {
     "data": {
      "text/html": [
       "<div>\n",
       "<style scoped>\n",
       "    .dataframe tbody tr th:only-of-type {\n",
       "        vertical-align: middle;\n",
       "    }\n",
       "\n",
       "    .dataframe tbody tr th {\n",
       "        vertical-align: top;\n",
       "    }\n",
       "\n",
       "    .dataframe thead th {\n",
       "        text-align: right;\n",
       "    }\n",
       "</style>\n",
       "<table border=\"1\" class=\"dataframe\">\n",
       "  <thead>\n",
       "    <tr style=\"text-align: right;\">\n",
       "      <th></th>\n",
       "      <th>Price</th>\n",
       "      <th>RegistrationYear</th>\n",
       "      <th>Power</th>\n",
       "      <th>Kilometer</th>\n",
       "      <th>RegistrationMonth</th>\n",
       "      <th>VehicleType_convertible</th>\n",
       "      <th>VehicleType_coupe</th>\n",
       "      <th>VehicleType_other</th>\n",
       "      <th>VehicleType_sedan</th>\n",
       "      <th>VehicleType_small</th>\n",
       "      <th>...</th>\n",
       "      <th>Brand_smart</th>\n",
       "      <th>Brand_sonstige_autos</th>\n",
       "      <th>Brand_subaru</th>\n",
       "      <th>Brand_suzuki</th>\n",
       "      <th>Brand_toyota</th>\n",
       "      <th>Brand_trabant</th>\n",
       "      <th>Brand_volkswagen</th>\n",
       "      <th>Brand_volvo</th>\n",
       "      <th>NotRepaired_unknow</th>\n",
       "      <th>NotRepaired_yes</th>\n",
       "    </tr>\n",
       "  </thead>\n",
       "  <tbody>\n",
       "    <tr>\n",
       "      <th>0</th>\n",
       "      <td>480</td>\n",
       "      <td>1993</td>\n",
       "      <td>0</td>\n",
       "      <td>150000</td>\n",
       "      <td>0</td>\n",
       "      <td>0</td>\n",
       "      <td>0</td>\n",
       "      <td>0</td>\n",
       "      <td>0</td>\n",
       "      <td>0</td>\n",
       "      <td>...</td>\n",
       "      <td>0</td>\n",
       "      <td>0</td>\n",
       "      <td>0</td>\n",
       "      <td>0</td>\n",
       "      <td>0</td>\n",
       "      <td>0</td>\n",
       "      <td>1</td>\n",
       "      <td>0</td>\n",
       "      <td>1</td>\n",
       "      <td>0</td>\n",
       "    </tr>\n",
       "    <tr>\n",
       "      <th>1</th>\n",
       "      <td>18300</td>\n",
       "      <td>2011</td>\n",
       "      <td>190</td>\n",
       "      <td>125000</td>\n",
       "      <td>5</td>\n",
       "      <td>0</td>\n",
       "      <td>1</td>\n",
       "      <td>0</td>\n",
       "      <td>0</td>\n",
       "      <td>0</td>\n",
       "      <td>...</td>\n",
       "      <td>0</td>\n",
       "      <td>0</td>\n",
       "      <td>0</td>\n",
       "      <td>0</td>\n",
       "      <td>0</td>\n",
       "      <td>0</td>\n",
       "      <td>0</td>\n",
       "      <td>0</td>\n",
       "      <td>0</td>\n",
       "      <td>1</td>\n",
       "    </tr>\n",
       "    <tr>\n",
       "      <th>2</th>\n",
       "      <td>9800</td>\n",
       "      <td>2004</td>\n",
       "      <td>163</td>\n",
       "      <td>125000</td>\n",
       "      <td>8</td>\n",
       "      <td>0</td>\n",
       "      <td>0</td>\n",
       "      <td>0</td>\n",
       "      <td>0</td>\n",
       "      <td>0</td>\n",
       "      <td>...</td>\n",
       "      <td>0</td>\n",
       "      <td>0</td>\n",
       "      <td>0</td>\n",
       "      <td>0</td>\n",
       "      <td>0</td>\n",
       "      <td>0</td>\n",
       "      <td>0</td>\n",
       "      <td>0</td>\n",
       "      <td>1</td>\n",
       "      <td>0</td>\n",
       "    </tr>\n",
       "    <tr>\n",
       "      <th>3</th>\n",
       "      <td>1500</td>\n",
       "      <td>2001</td>\n",
       "      <td>75</td>\n",
       "      <td>150000</td>\n",
       "      <td>6</td>\n",
       "      <td>0</td>\n",
       "      <td>0</td>\n",
       "      <td>0</td>\n",
       "      <td>0</td>\n",
       "      <td>1</td>\n",
       "      <td>...</td>\n",
       "      <td>0</td>\n",
       "      <td>0</td>\n",
       "      <td>0</td>\n",
       "      <td>0</td>\n",
       "      <td>0</td>\n",
       "      <td>0</td>\n",
       "      <td>1</td>\n",
       "      <td>0</td>\n",
       "      <td>0</td>\n",
       "      <td>0</td>\n",
       "    </tr>\n",
       "    <tr>\n",
       "      <th>4</th>\n",
       "      <td>3600</td>\n",
       "      <td>2008</td>\n",
       "      <td>69</td>\n",
       "      <td>90000</td>\n",
       "      <td>7</td>\n",
       "      <td>0</td>\n",
       "      <td>0</td>\n",
       "      <td>0</td>\n",
       "      <td>0</td>\n",
       "      <td>1</td>\n",
       "      <td>...</td>\n",
       "      <td>0</td>\n",
       "      <td>0</td>\n",
       "      <td>0</td>\n",
       "      <td>0</td>\n",
       "      <td>0</td>\n",
       "      <td>0</td>\n",
       "      <td>0</td>\n",
       "      <td>0</td>\n",
       "      <td>0</td>\n",
       "      <td>0</td>\n",
       "    </tr>\n",
       "    <tr>\n",
       "      <th>...</th>\n",
       "      <td>...</td>\n",
       "      <td>...</td>\n",
       "      <td>...</td>\n",
       "      <td>...</td>\n",
       "      <td>...</td>\n",
       "      <td>...</td>\n",
       "      <td>...</td>\n",
       "      <td>...</td>\n",
       "      <td>...</td>\n",
       "      <td>...</td>\n",
       "      <td>...</td>\n",
       "      <td>...</td>\n",
       "      <td>...</td>\n",
       "      <td>...</td>\n",
       "      <td>...</td>\n",
       "      <td>...</td>\n",
       "      <td>...</td>\n",
       "      <td>...</td>\n",
       "      <td>...</td>\n",
       "      <td>...</td>\n",
       "      <td>...</td>\n",
       "    </tr>\n",
       "    <tr>\n",
       "      <th>354364</th>\n",
       "      <td>0</td>\n",
       "      <td>2005</td>\n",
       "      <td>0</td>\n",
       "      <td>150000</td>\n",
       "      <td>7</td>\n",
       "      <td>0</td>\n",
       "      <td>0</td>\n",
       "      <td>0</td>\n",
       "      <td>0</td>\n",
       "      <td>0</td>\n",
       "      <td>...</td>\n",
       "      <td>0</td>\n",
       "      <td>0</td>\n",
       "      <td>0</td>\n",
       "      <td>0</td>\n",
       "      <td>0</td>\n",
       "      <td>0</td>\n",
       "      <td>0</td>\n",
       "      <td>0</td>\n",
       "      <td>0</td>\n",
       "      <td>1</td>\n",
       "    </tr>\n",
       "    <tr>\n",
       "      <th>354365</th>\n",
       "      <td>2200</td>\n",
       "      <td>2005</td>\n",
       "      <td>0</td>\n",
       "      <td>20000</td>\n",
       "      <td>1</td>\n",
       "      <td>0</td>\n",
       "      <td>0</td>\n",
       "      <td>0</td>\n",
       "      <td>0</td>\n",
       "      <td>0</td>\n",
       "      <td>...</td>\n",
       "      <td>0</td>\n",
       "      <td>1</td>\n",
       "      <td>0</td>\n",
       "      <td>0</td>\n",
       "      <td>0</td>\n",
       "      <td>0</td>\n",
       "      <td>0</td>\n",
       "      <td>0</td>\n",
       "      <td>1</td>\n",
       "      <td>0</td>\n",
       "    </tr>\n",
       "    <tr>\n",
       "      <th>354366</th>\n",
       "      <td>1199</td>\n",
       "      <td>2000</td>\n",
       "      <td>101</td>\n",
       "      <td>125000</td>\n",
       "      <td>3</td>\n",
       "      <td>1</td>\n",
       "      <td>0</td>\n",
       "      <td>0</td>\n",
       "      <td>0</td>\n",
       "      <td>0</td>\n",
       "      <td>...</td>\n",
       "      <td>1</td>\n",
       "      <td>0</td>\n",
       "      <td>0</td>\n",
       "      <td>0</td>\n",
       "      <td>0</td>\n",
       "      <td>0</td>\n",
       "      <td>0</td>\n",
       "      <td>0</td>\n",
       "      <td>0</td>\n",
       "      <td>0</td>\n",
       "    </tr>\n",
       "    <tr>\n",
       "      <th>354367</th>\n",
       "      <td>9200</td>\n",
       "      <td>1996</td>\n",
       "      <td>102</td>\n",
       "      <td>150000</td>\n",
       "      <td>3</td>\n",
       "      <td>0</td>\n",
       "      <td>0</td>\n",
       "      <td>0</td>\n",
       "      <td>0</td>\n",
       "      <td>0</td>\n",
       "      <td>...</td>\n",
       "      <td>0</td>\n",
       "      <td>0</td>\n",
       "      <td>0</td>\n",
       "      <td>0</td>\n",
       "      <td>0</td>\n",
       "      <td>0</td>\n",
       "      <td>1</td>\n",
       "      <td>0</td>\n",
       "      <td>0</td>\n",
       "      <td>0</td>\n",
       "    </tr>\n",
       "    <tr>\n",
       "      <th>354368</th>\n",
       "      <td>3400</td>\n",
       "      <td>2002</td>\n",
       "      <td>100</td>\n",
       "      <td>150000</td>\n",
       "      <td>6</td>\n",
       "      <td>0</td>\n",
       "      <td>0</td>\n",
       "      <td>0</td>\n",
       "      <td>0</td>\n",
       "      <td>0</td>\n",
       "      <td>...</td>\n",
       "      <td>0</td>\n",
       "      <td>0</td>\n",
       "      <td>0</td>\n",
       "      <td>0</td>\n",
       "      <td>0</td>\n",
       "      <td>0</td>\n",
       "      <td>1</td>\n",
       "      <td>0</td>\n",
       "      <td>1</td>\n",
       "      <td>0</td>\n",
       "    </tr>\n",
       "  </tbody>\n",
       "</table>\n",
       "<p>354369 rows × 313 columns</p>\n",
       "</div>"
      ],
      "text/plain": [
       "        Price  RegistrationYear  Power  Kilometer  RegistrationMonth  \\\n",
       "0         480              1993      0     150000                  0   \n",
       "1       18300              2011    190     125000                  5   \n",
       "2        9800              2004    163     125000                  8   \n",
       "3        1500              2001     75     150000                  6   \n",
       "4        3600              2008     69      90000                  7   \n",
       "...       ...               ...    ...        ...                ...   \n",
       "354364      0              2005      0     150000                  7   \n",
       "354365   2200              2005      0      20000                  1   \n",
       "354366   1199              2000    101     125000                  3   \n",
       "354367   9200              1996    102     150000                  3   \n",
       "354368   3400              2002    100     150000                  6   \n",
       "\n",
       "        VehicleType_convertible  VehicleType_coupe  VehicleType_other  \\\n",
       "0                             0                  0                  0   \n",
       "1                             0                  1                  0   \n",
       "2                             0                  0                  0   \n",
       "3                             0                  0                  0   \n",
       "4                             0                  0                  0   \n",
       "...                         ...                ...                ...   \n",
       "354364                        0                  0                  0   \n",
       "354365                        0                  0                  0   \n",
       "354366                        1                  0                  0   \n",
       "354367                        0                  0                  0   \n",
       "354368                        0                  0                  0   \n",
       "\n",
       "        VehicleType_sedan  VehicleType_small  ...  Brand_smart  \\\n",
       "0                       0                  0  ...            0   \n",
       "1                       0                  0  ...            0   \n",
       "2                       0                  0  ...            0   \n",
       "3                       0                  1  ...            0   \n",
       "4                       0                  1  ...            0   \n",
       "...                   ...                ...  ...          ...   \n",
       "354364                  0                  0  ...            0   \n",
       "354365                  0                  0  ...            0   \n",
       "354366                  0                  0  ...            1   \n",
       "354367                  0                  0  ...            0   \n",
       "354368                  0                  0  ...            0   \n",
       "\n",
       "        Brand_sonstige_autos  Brand_subaru  Brand_suzuki  Brand_toyota  \\\n",
       "0                          0             0             0             0   \n",
       "1                          0             0             0             0   \n",
       "2                          0             0             0             0   \n",
       "3                          0             0             0             0   \n",
       "4                          0             0             0             0   \n",
       "...                      ...           ...           ...           ...   \n",
       "354364                     0             0             0             0   \n",
       "354365                     1             0             0             0   \n",
       "354366                     0             0             0             0   \n",
       "354367                     0             0             0             0   \n",
       "354368                     0             0             0             0   \n",
       "\n",
       "        Brand_trabant  Brand_volkswagen  Brand_volvo  NotRepaired_unknow  \\\n",
       "0                   0                 1            0                   1   \n",
       "1                   0                 0            0                   0   \n",
       "2                   0                 0            0                   1   \n",
       "3                   0                 1            0                   0   \n",
       "4                   0                 0            0                   0   \n",
       "...               ...               ...          ...                 ...   \n",
       "354364              0                 0            0                   0   \n",
       "354365              0                 0            0                   1   \n",
       "354366              0                 0            0                   0   \n",
       "354367              0                 1            0                   0   \n",
       "354368              0                 1            0                   1   \n",
       "\n",
       "        NotRepaired_yes  \n",
       "0                     0  \n",
       "1                     1  \n",
       "2                     0  \n",
       "3                     0  \n",
       "4                     0  \n",
       "...                 ...  \n",
       "354364                1  \n",
       "354365                0  \n",
       "354366                0  \n",
       "354367                0  \n",
       "354368                0  \n",
       "\n",
       "[354369 rows x 313 columns]"
      ]
     },
     "execution_count": 66,
     "metadata": {},
     "output_type": "execute_result"
    }
   ],
   "source": [
    "auto_ohe"
   ]
  },
  {
   "cell_type": "code",
   "execution_count": 67,
   "metadata": {},
   "outputs": [],
   "source": [
    "features = auto_ohe.drop('Price', axis=1)"
   ]
  },
  {
   "cell_type": "code",
   "execution_count": 68,
   "metadata": {},
   "outputs": [],
   "source": [
    "target = auto_ohe['Price']"
   ]
  },
  {
   "cell_type": "code",
   "execution_count": 69,
   "metadata": {},
   "outputs": [],
   "source": [
    "features_train, features_valid, target_train, target_valid = train_test_split(features, target, test_size=0.4, random_state=77)\n",
    "features_valid, features_test, target_valid, target_test = train_test_split(features, target, test_size=0.5, random_state=77)"
   ]
  },
  {
   "cell_type": "code",
   "execution_count": 70,
   "metadata": {},
   "outputs": [
    {
     "name": "stdout",
     "output_type": "stream",
     "text": [
      "--- 2.6868371963500977 seconds ---\n"
     ]
    }
   ],
   "source": [
    "start_time = time.time()\n",
    "model = LinearRegression()\n",
    "model.fit(features_train, target_train)\n",
    "print(\"--- %s seconds ---\" % (time.time() - start_time))"
   ]
  },
  {
   "cell_type": "code",
   "execution_count": 71,
   "metadata": {},
   "outputs": [
    {
     "name": "stdout",
     "output_type": "stream",
     "text": [
      "--- 0.38778185844421387 seconds ---\n"
     ]
    }
   ],
   "source": [
    "start_time = time.time()\n",
    "pred = model.predict(features_test)\n",
    "print(\"--- %s seconds ---\" % (time.time() - start_time))"
   ]
  },
  {
   "cell_type": "code",
   "execution_count": 72,
   "metadata": {},
   "outputs": [
    {
     "data": {
      "text/plain": [
       "3168.0523977339503"
      ]
     },
     "execution_count": 72,
     "metadata": {},
     "output_type": "execute_result"
    }
   ],
   "source": [
    "mean_squared_error(target_test, pred) ** 0.5"
   ]
  },
  {
   "cell_type": "code",
   "execution_count": 73,
   "metadata": {},
   "outputs": [
    {
     "data": {
      "text/plain": [
       "0.5058865409946078"
      ]
     },
     "execution_count": 73,
     "metadata": {},
     "output_type": "execute_result"
    }
   ],
   "source": [
    "r2_score(target_test, pred)"
   ]
  },
  {
   "cell_type": "markdown",
   "metadata": {},
   "source": [
    "## Анализ моделей"
   ]
  },
  {
   "cell_type": "markdown",
   "metadata": {},
   "source": [
    "* Время обучения модели CatBoost - 126s , RMSE - 1704 , что больше и хуже чем у LightGBM время обучения модели - 5s, RMSE 373 . Возможно сказался метод кодировки переменных он не увеличивает количество признаков, а вписывает их в существующие. Или т.к. RMSE считается в единицах целевого показателя,а LightGBM кодирована в сторону уменьшения, то использовать её для сравнения не коректно, другая относительная метрика R2_score показывает паритет 0.85. Скорость предсказания у CatBoost почти в четыре раза выше 0.20 против 0.75 секунд. LinearRegression работает быстро скорость обучения 2.5 c. , скорость предсказания 0.36. Но точность примерно в два раза хуже RMSE 3168 , r2 0.50."
   ]
  },
  {
   "cell_type": "markdown",
   "metadata": {},
   "source": [
    "###  Вывод\n",
    "**Если необходимо качество предсказания и нет очень большой нагрузки по скорости предсказания, то выбераем LightGBM. Если критична скорость предсказания и можно пожертвовать скоростью обучения и в небольшой степени качеством предсказания то CatBoost.**"
   ]
  }
 ],
 "metadata": {
  "ExecuteTimeLog": [
   {
    "duration": 1335,
    "start_time": "2022-04-17T18:48:41.745Z"
   },
   {
    "duration": 710,
    "start_time": "2022-04-17T18:48:43.082Z"
   },
   {
    "duration": 18,
    "start_time": "2022-04-17T18:48:43.794Z"
   },
   {
    "duration": 126,
    "start_time": "2022-04-17T18:48:43.823Z"
   },
   {
    "duration": 103,
    "start_time": "2022-04-17T18:48:43.951Z"
   },
   {
    "duration": 18,
    "start_time": "2022-04-17T18:48:44.056Z"
   },
   {
    "duration": 14,
    "start_time": "2022-04-17T18:48:44.076Z"
   },
   {
    "duration": 38,
    "start_time": "2022-04-17T18:48:44.091Z"
   },
   {
    "duration": 21,
    "start_time": "2022-04-17T18:48:44.133Z"
   },
   {
    "duration": 16,
    "start_time": "2022-04-17T18:48:44.156Z"
   },
   {
    "duration": 16,
    "start_time": "2022-04-17T18:48:44.173Z"
   },
   {
    "duration": 4,
    "start_time": "2022-04-17T18:48:44.190Z"
   },
   {
    "duration": 46,
    "start_time": "2022-04-17T18:48:44.195Z"
   },
   {
    "duration": 26,
    "start_time": "2022-04-17T18:48:44.243Z"
   },
   {
    "duration": 5,
    "start_time": "2022-04-17T18:48:44.271Z"
   },
   {
    "duration": 15,
    "start_time": "2022-04-17T18:48:44.277Z"
   },
   {
    "duration": 41,
    "start_time": "2022-04-17T18:48:44.293Z"
   },
   {
    "duration": 19,
    "start_time": "2022-04-17T18:48:44.337Z"
   },
   {
    "duration": 16,
    "start_time": "2022-04-17T18:48:44.358Z"
   },
   {
    "duration": 18,
    "start_time": "2022-04-17T18:48:44.375Z"
   },
   {
    "duration": 39,
    "start_time": "2022-04-17T18:48:44.395Z"
   },
   {
    "duration": 19,
    "start_time": "2022-04-17T18:48:44.436Z"
   },
   {
    "duration": 3,
    "start_time": "2022-04-17T18:48:44.456Z"
   },
   {
    "duration": 679,
    "start_time": "2022-04-17T18:48:44.461Z"
   },
   {
    "duration": 20,
    "start_time": "2022-04-17T18:48:45.142Z"
   },
   {
    "duration": 80,
    "start_time": "2022-04-17T18:48:45.164Z"
   },
   {
    "duration": 19,
    "start_time": "2022-04-17T18:48:45.246Z"
   },
   {
    "duration": 21,
    "start_time": "2022-04-17T18:48:45.269Z"
   },
   {
    "duration": 35,
    "start_time": "2022-04-17T18:48:45.292Z"
   },
   {
    "duration": 21,
    "start_time": "2022-04-17T18:48:45.329Z"
   },
   {
    "duration": 5,
    "start_time": "2022-04-17T18:48:45.352Z"
   },
   {
    "duration": 981586,
    "start_time": "2022-04-17T18:48:45.359Z"
   },
   {
    "duration": 3,
    "start_time": "2022-04-17T19:05:06.947Z"
   },
   {
    "duration": 11523,
    "start_time": "2022-04-17T19:05:06.952Z"
   },
   {
    "duration": 5,
    "start_time": "2022-04-17T19:05:18.477Z"
   },
   {
    "duration": 11581,
    "start_time": "2022-04-17T19:05:18.484Z"
   },
   {
    "duration": 165,
    "start_time": "2022-04-17T19:05:30.066Z"
   },
   {
    "duration": 5,
    "start_time": "2022-04-17T19:05:30.233Z"
   },
   {
    "duration": 4,
    "start_time": "2022-04-17T19:05:30.239Z"
   },
   {
    "duration": 24,
    "start_time": "2022-04-17T19:05:30.245Z"
   },
   {
    "duration": 9,
    "start_time": "2022-04-17T19:05:30.271Z"
   },
   {
    "duration": 5,
    "start_time": "2022-04-17T19:05:30.281Z"
   },
   {
    "duration": 10,
    "start_time": "2022-04-17T19:05:30.288Z"
   },
   {
    "duration": 12,
    "start_time": "2022-04-17T19:05:30.300Z"
   },
   {
    "duration": 221545,
    "start_time": "2022-04-17T19:05:30.313Z"
   },
   {
    "duration": 726,
    "start_time": "2022-04-17T19:09:11.859Z"
   },
   {
    "duration": 8,
    "start_time": "2022-04-17T19:09:12.587Z"
   },
   {
    "duration": 10,
    "start_time": "2022-04-17T19:09:12.597Z"
   },
   {
    "duration": 18,
    "start_time": "2022-04-17T19:09:12.623Z"
   },
   {
    "duration": 1330,
    "start_time": "2022-04-20T15:05:04.752Z"
   },
   {
    "duration": 721,
    "start_time": "2022-04-20T15:05:06.084Z"
   },
   {
    "duration": 33,
    "start_time": "2022-04-20T15:05:06.806Z"
   },
   {
    "duration": 118,
    "start_time": "2022-04-20T15:05:06.840Z"
   },
   {
    "duration": 98,
    "start_time": "2022-04-20T15:05:06.961Z"
   },
   {
    "duration": 18,
    "start_time": "2022-04-20T15:05:07.061Z"
   },
   {
    "duration": 20,
    "start_time": "2022-04-20T15:05:07.080Z"
   },
   {
    "duration": 26,
    "start_time": "2022-04-20T15:05:07.102Z"
   },
   {
    "duration": 19,
    "start_time": "2022-04-20T15:05:07.129Z"
   },
   {
    "duration": 22,
    "start_time": "2022-04-20T15:05:07.150Z"
   },
   {
    "duration": 14,
    "start_time": "2022-04-20T15:05:07.174Z"
   },
   {
    "duration": 34,
    "start_time": "2022-04-20T15:05:07.190Z"
   },
   {
    "duration": 20,
    "start_time": "2022-04-20T15:05:07.226Z"
   },
   {
    "duration": 27,
    "start_time": "2022-04-20T15:05:07.250Z"
   },
   {
    "duration": 12,
    "start_time": "2022-04-20T15:05:07.278Z"
   },
   {
    "duration": 37,
    "start_time": "2022-04-20T15:05:07.291Z"
   },
   {
    "duration": 11,
    "start_time": "2022-04-20T15:05:07.330Z"
   },
   {
    "duration": 25,
    "start_time": "2022-04-20T15:05:07.342Z"
   },
   {
    "duration": 17,
    "start_time": "2022-04-20T15:05:07.369Z"
   },
   {
    "duration": 6,
    "start_time": "2022-04-20T15:05:07.387Z"
   },
   {
    "duration": 697,
    "start_time": "2022-04-20T15:05:07.394Z"
   },
   {
    "duration": 21,
    "start_time": "2022-04-20T15:05:08.093Z"
   },
   {
    "duration": 61,
    "start_time": "2022-04-20T15:05:08.115Z"
   },
   {
    "duration": 19,
    "start_time": "2022-04-20T15:05:08.178Z"
   },
   {
    "duration": 27,
    "start_time": "2022-04-20T15:05:08.199Z"
   },
   {
    "duration": 23,
    "start_time": "2022-04-20T15:05:08.227Z"
   },
   {
    "duration": 8,
    "start_time": "2022-04-20T15:05:08.252Z"
   },
   {
    "duration": 24,
    "start_time": "2022-04-20T15:05:08.261Z"
   },
   {
    "duration": 11,
    "start_time": "2022-04-20T15:05:08.287Z"
   },
   {
    "duration": 34,
    "start_time": "2022-04-20T15:05:08.299Z"
   },
   {
    "duration": 5,
    "start_time": "2022-04-20T15:05:08.335Z"
   },
   {
    "duration": 61093,
    "start_time": "2022-04-20T15:05:08.341Z"
   },
   {
    "duration": 2,
    "start_time": "2022-04-20T15:06:09.436Z"
   },
   {
    "duration": 5,
    "start_time": "2022-04-20T15:06:09.440Z"
   },
   {
    "duration": 5520698,
    "start_time": "2022-04-20T15:06:09.446Z"
   },
   {
    "duration": 4,
    "start_time": "2022-04-20T16:38:10.145Z"
   },
   {
    "duration": 75,
    "start_time": "2022-04-20T16:38:10.150Z"
   },
   {
    "duration": 7398,
    "start_time": "2022-04-20T16:38:10.226Z"
   },
   {
    "duration": 5,
    "start_time": "2022-04-20T16:38:17.626Z"
   },
   {
    "duration": 7356,
    "start_time": "2022-04-20T16:38:17.632Z"
   },
   {
    "duration": 99,
    "start_time": "2022-04-20T16:38:25.024Z"
   },
   {
    "duration": 4,
    "start_time": "2022-04-20T16:38:25.125Z"
   },
   {
    "duration": 9,
    "start_time": "2022-04-20T16:38:25.130Z"
   },
   {
    "duration": 25,
    "start_time": "2022-04-20T16:38:25.141Z"
   },
   {
    "duration": 2,
    "start_time": "2022-04-20T16:38:25.167Z"
   },
   {
    "duration": 5,
    "start_time": "2022-04-20T16:38:25.171Z"
   },
   {
    "duration": 6,
    "start_time": "2022-04-20T16:38:25.177Z"
   },
   {
    "duration": 4,
    "start_time": "2022-04-20T16:38:25.185Z"
   },
   {
    "duration": 226156,
    "start_time": "2022-04-20T16:38:25.191Z"
   },
   {
    "duration": 615,
    "start_time": "2022-04-20T16:42:11.349Z"
   },
   {
    "duration": 7,
    "start_time": "2022-04-20T16:42:11.966Z"
   },
   {
    "duration": 9,
    "start_time": "2022-04-20T16:42:11.974Z"
   },
   {
    "duration": 12,
    "start_time": "2022-04-20T16:42:11.984Z"
   },
   {
    "duration": 699,
    "start_time": "2022-04-20T16:42:11.997Z"
   },
   {
    "duration": 40,
    "start_time": "2022-04-20T16:42:12.697Z"
   },
   {
    "duration": 199,
    "start_time": "2022-04-20T16:42:12.739Z"
   },
   {
    "duration": 2,
    "start_time": "2022-04-20T16:42:12.940Z"
   },
   {
    "duration": 629,
    "start_time": "2022-04-20T16:42:12.944Z"
   },
   {
    "duration": 17649,
    "start_time": "2022-04-20T16:42:13.575Z"
   },
   {
    "duration": 597,
    "start_time": "2022-04-20T16:42:31.227Z"
   },
   {
    "duration": 96,
    "start_time": "2022-04-20T16:42:31.829Z"
   },
   {
    "duration": 6,
    "start_time": "2022-04-20T16:42:31.926Z"
   },
   {
    "duration": 1418,
    "start_time": "2022-04-21T15:20:14.086Z"
   },
   {
    "duration": 794,
    "start_time": "2022-04-21T15:20:15.506Z"
   },
   {
    "duration": 18,
    "start_time": "2022-04-21T15:20:16.302Z"
   },
   {
    "duration": 140,
    "start_time": "2022-04-21T15:20:16.322Z"
   },
   {
    "duration": 98,
    "start_time": "2022-04-21T15:20:16.463Z"
   },
   {
    "duration": 21,
    "start_time": "2022-04-21T15:20:16.563Z"
   },
   {
    "duration": 34,
    "start_time": "2022-04-21T15:20:16.585Z"
   },
   {
    "duration": 39,
    "start_time": "2022-04-21T15:20:16.621Z"
   },
   {
    "duration": 23,
    "start_time": "2022-04-21T15:20:16.661Z"
   },
   {
    "duration": 20,
    "start_time": "2022-04-21T15:20:16.687Z"
   },
   {
    "duration": 21,
    "start_time": "2022-04-21T15:20:16.708Z"
   },
   {
    "duration": 36,
    "start_time": "2022-04-21T15:20:16.731Z"
   },
   {
    "duration": 21,
    "start_time": "2022-04-21T15:20:16.769Z"
   },
   {
    "duration": 10,
    "start_time": "2022-04-21T15:20:16.792Z"
   },
   {
    "duration": 22,
    "start_time": "2022-04-21T15:20:16.803Z"
   },
   {
    "duration": 29,
    "start_time": "2022-04-21T15:20:16.826Z"
   },
   {
    "duration": 10,
    "start_time": "2022-04-21T15:20:16.856Z"
   },
   {
    "duration": 8,
    "start_time": "2022-04-21T15:20:16.868Z"
   },
   {
    "duration": 5,
    "start_time": "2022-04-21T15:20:16.878Z"
   },
   {
    "duration": 32,
    "start_time": "2022-04-21T15:20:16.884Z"
   },
   {
    "duration": 40,
    "start_time": "2022-04-21T15:20:16.918Z"
   },
   {
    "duration": 4,
    "start_time": "2022-04-21T15:20:16.960Z"
   },
   {
    "duration": 701,
    "start_time": "2022-04-21T15:20:16.965Z"
   },
   {
    "duration": 18,
    "start_time": "2022-04-21T15:20:17.668Z"
   },
   {
    "duration": 72,
    "start_time": "2022-04-21T15:20:17.688Z"
   },
   {
    "duration": 20,
    "start_time": "2022-04-21T15:20:17.762Z"
   },
   {
    "duration": 5,
    "start_time": "2022-04-21T15:20:17.784Z"
   },
   {
    "duration": 105,
    "start_time": "2022-04-21T15:20:17.795Z"
   },
   {
    "duration": 5,
    "start_time": "2022-04-21T15:20:17.903Z"
   },
   {
    "duration": 19,
    "start_time": "2022-04-21T15:20:17.910Z"
   },
   {
    "duration": 25,
    "start_time": "2022-04-21T15:20:17.931Z"
   },
   {
    "duration": 23,
    "start_time": "2022-04-21T15:20:17.958Z"
   },
   {
    "duration": 8,
    "start_time": "2022-04-21T15:20:17.983Z"
   },
   {
    "duration": 259972,
    "start_time": "2022-04-21T15:20:17.993Z"
   },
   {
    "duration": 3,
    "start_time": "2022-04-21T15:24:37.967Z"
   },
   {
    "duration": 6,
    "start_time": "2022-04-21T15:24:37.972Z"
   },
   {
    "duration": 1050499,
    "start_time": "2022-04-21T15:24:37.980Z"
   },
   {
    "duration": 0,
    "start_time": "2022-04-21T15:42:08.481Z"
   },
   {
    "duration": 0,
    "start_time": "2022-04-21T15:42:08.482Z"
   },
   {
    "duration": 0,
    "start_time": "2022-04-21T15:42:08.483Z"
   },
   {
    "duration": 0,
    "start_time": "2022-04-21T15:42:08.484Z"
   },
   {
    "duration": 0,
    "start_time": "2022-04-21T15:42:08.485Z"
   },
   {
    "duration": 0,
    "start_time": "2022-04-21T15:42:08.486Z"
   },
   {
    "duration": 0,
    "start_time": "2022-04-21T15:42:08.487Z"
   },
   {
    "duration": 0,
    "start_time": "2022-04-21T15:42:08.488Z"
   },
   {
    "duration": 0,
    "start_time": "2022-04-21T15:42:08.489Z"
   },
   {
    "duration": 0,
    "start_time": "2022-04-21T15:42:08.490Z"
   },
   {
    "duration": 0,
    "start_time": "2022-04-21T15:42:08.491Z"
   },
   {
    "duration": 0,
    "start_time": "2022-04-21T15:42:08.492Z"
   },
   {
    "duration": 0,
    "start_time": "2022-04-21T15:42:08.493Z"
   },
   {
    "duration": 0,
    "start_time": "2022-04-21T15:42:08.494Z"
   },
   {
    "duration": 0,
    "start_time": "2022-04-21T15:42:08.495Z"
   },
   {
    "duration": 0,
    "start_time": "2022-04-21T15:42:08.496Z"
   },
   {
    "duration": 0,
    "start_time": "2022-04-21T15:42:08.497Z"
   },
   {
    "duration": 0,
    "start_time": "2022-04-21T15:42:08.498Z"
   },
   {
    "duration": 0,
    "start_time": "2022-04-21T15:42:08.499Z"
   },
   {
    "duration": 0,
    "start_time": "2022-04-21T15:42:08.500Z"
   },
   {
    "duration": 0,
    "start_time": "2022-04-21T15:42:08.501Z"
   },
   {
    "duration": 0,
    "start_time": "2022-04-21T15:42:08.502Z"
   },
   {
    "duration": 0,
    "start_time": "2022-04-21T15:42:08.505Z"
   },
   {
    "duration": 1,
    "start_time": "2022-04-21T15:42:08.506Z"
   },
   {
    "duration": 0,
    "start_time": "2022-04-21T15:42:08.554Z"
   },
   {
    "duration": 0,
    "start_time": "2022-04-21T15:42:08.555Z"
   },
   {
    "duration": 0,
    "start_time": "2022-04-21T15:42:08.557Z"
   },
   {
    "duration": 0,
    "start_time": "2022-04-21T15:42:08.558Z"
   },
   {
    "duration": 0,
    "start_time": "2022-04-21T15:42:08.560Z"
   },
   {
    "duration": 0,
    "start_time": "2022-04-21T15:42:08.560Z"
   },
   {
    "duration": 0,
    "start_time": "2022-04-21T15:42:08.561Z"
   },
   {
    "duration": 0,
    "start_time": "2022-04-21T15:42:08.563Z"
   },
   {
    "duration": 0,
    "start_time": "2022-04-21T15:42:08.563Z"
   },
   {
    "duration": 0,
    "start_time": "2022-04-21T15:42:08.565Z"
   },
   {
    "duration": 0,
    "start_time": "2022-04-21T15:42:08.566Z"
   },
   {
    "duration": 0,
    "start_time": "2022-04-21T15:42:08.567Z"
   },
   {
    "duration": 8092,
    "start_time": "2022-04-21T15:42:19.663Z"
   },
   {
    "duration": 7,
    "start_time": "2022-04-21T15:42:27.757Z"
   },
   {
    "duration": 8135,
    "start_time": "2022-04-21T15:42:27.766Z"
   },
   {
    "duration": 133,
    "start_time": "2022-04-21T15:42:35.903Z"
   },
   {
    "duration": 4,
    "start_time": "2022-04-21T15:42:36.038Z"
   },
   {
    "duration": 13,
    "start_time": "2022-04-21T15:42:36.044Z"
   },
   {
    "duration": 27,
    "start_time": "2022-04-21T15:42:36.059Z"
   },
   {
    "duration": 3,
    "start_time": "2022-04-21T15:42:36.088Z"
   },
   {
    "duration": 12,
    "start_time": "2022-04-21T15:42:36.092Z"
   },
   {
    "duration": 6,
    "start_time": "2022-04-21T15:42:36.107Z"
   },
   {
    "duration": 4,
    "start_time": "2022-04-21T15:42:36.115Z"
   },
   {
    "duration": 5,
    "start_time": "2022-04-21T15:42:36.121Z"
   },
   {
    "duration": 8,
    "start_time": "2022-04-21T15:42:36.127Z"
   },
   {
    "duration": 147998,
    "start_time": "2022-04-21T15:42:36.137Z"
   },
   {
    "duration": 0,
    "start_time": "2022-04-21T15:45:04.137Z"
   },
   {
    "duration": 0,
    "start_time": "2022-04-21T15:45:04.138Z"
   },
   {
    "duration": 0,
    "start_time": "2022-04-21T15:45:04.139Z"
   },
   {
    "duration": 0,
    "start_time": "2022-04-21T15:45:04.140Z"
   },
   {
    "duration": 0,
    "start_time": "2022-04-21T15:45:04.141Z"
   },
   {
    "duration": 0,
    "start_time": "2022-04-21T15:45:04.142Z"
   },
   {
    "duration": 0,
    "start_time": "2022-04-21T15:45:04.143Z"
   },
   {
    "duration": 0,
    "start_time": "2022-04-21T15:45:04.144Z"
   },
   {
    "duration": 0,
    "start_time": "2022-04-21T15:45:04.145Z"
   },
   {
    "duration": 0,
    "start_time": "2022-04-21T15:45:04.146Z"
   },
   {
    "duration": 0,
    "start_time": "2022-04-21T15:45:04.147Z"
   },
   {
    "duration": 0,
    "start_time": "2022-04-21T15:45:04.150Z"
   },
   {
    "duration": 0,
    "start_time": "2022-04-21T15:45:04.151Z"
   },
   {
    "duration": 0,
    "start_time": "2022-04-21T15:45:04.152Z"
   },
   {
    "duration": 0,
    "start_time": "2022-04-21T15:45:04.152Z"
   },
   {
    "duration": 0,
    "start_time": "2022-04-21T15:45:04.153Z"
   },
   {
    "duration": 0,
    "start_time": "2022-04-21T15:45:04.154Z"
   },
   {
    "duration": 0,
    "start_time": "2022-04-21T15:45:04.155Z"
   },
   {
    "duration": 0,
    "start_time": "2022-04-21T15:45:04.156Z"
   },
   {
    "duration": 1389,
    "start_time": "2022-04-21T15:45:15.773Z"
   },
   {
    "duration": 777,
    "start_time": "2022-04-21T15:45:17.164Z"
   },
   {
    "duration": 24,
    "start_time": "2022-04-21T15:45:17.942Z"
   },
   {
    "duration": 134,
    "start_time": "2022-04-21T15:45:17.967Z"
   },
   {
    "duration": 102,
    "start_time": "2022-04-21T15:45:18.102Z"
   },
   {
    "duration": 20,
    "start_time": "2022-04-21T15:45:18.310Z"
   },
   {
    "duration": 20,
    "start_time": "2022-04-21T15:45:18.901Z"
   },
   {
    "duration": 20,
    "start_time": "2022-04-21T15:45:19.083Z"
   },
   {
    "duration": 17,
    "start_time": "2022-04-21T15:45:19.256Z"
   },
   {
    "duration": 20,
    "start_time": "2022-04-21T15:45:19.550Z"
   },
   {
    "duration": 21,
    "start_time": "2022-04-21T15:45:20.378Z"
   },
   {
    "duration": 20,
    "start_time": "2022-04-21T15:45:20.555Z"
   },
   {
    "duration": 22,
    "start_time": "2022-04-21T15:45:20.801Z"
   },
   {
    "duration": 11,
    "start_time": "2022-04-21T15:45:21.786Z"
   },
   {
    "duration": 21,
    "start_time": "2022-04-21T15:45:22.068Z"
   },
   {
    "duration": 6,
    "start_time": "2022-04-21T15:45:22.278Z"
   },
   {
    "duration": 10,
    "start_time": "2022-04-21T15:45:23.896Z"
   },
   {
    "duration": 8,
    "start_time": "2022-04-21T15:45:24.106Z"
   },
   {
    "duration": 5,
    "start_time": "2022-04-21T15:45:24.319Z"
   },
   {
    "duration": 26,
    "start_time": "2022-04-21T15:45:26.675Z"
   },
   {
    "duration": 18,
    "start_time": "2022-04-21T15:45:28.117Z"
   },
   {
    "duration": 3,
    "start_time": "2022-04-21T15:49:08.056Z"
   },
   {
    "duration": 693,
    "start_time": "2022-04-21T15:49:11.379Z"
   },
   {
    "duration": 18,
    "start_time": "2022-04-21T15:49:12.963Z"
   },
   {
    "duration": 59,
    "start_time": "2022-04-21T15:49:17.017Z"
   },
   {
    "duration": 17,
    "start_time": "2022-04-21T15:49:29.859Z"
   },
   {
    "duration": 115,
    "start_time": "2022-04-21T15:49:45.691Z"
   },
   {
    "duration": 4,
    "start_time": "2022-04-21T15:49:46.536Z"
   },
   {
    "duration": 3,
    "start_time": "2022-04-21T15:49:47.308Z"
   },
   {
    "duration": 26,
    "start_time": "2022-04-21T15:49:51.388Z"
   },
   {
    "duration": 3,
    "start_time": "2022-04-21T15:49:52.796Z"
   },
   {
    "duration": 3,
    "start_time": "2022-04-21T15:49:53.847Z"
   },
   {
    "duration": 128,
    "start_time": "2022-04-21T15:49:54.764Z"
   },
   {
    "duration": 1395,
    "start_time": "2022-04-21T15:53:02.352Z"
   },
   {
    "duration": 814,
    "start_time": "2022-04-21T15:53:03.749Z"
   },
   {
    "duration": 19,
    "start_time": "2022-04-21T15:53:04.566Z"
   },
   {
    "duration": 141,
    "start_time": "2022-04-21T15:53:04.587Z"
   },
   {
    "duration": 93,
    "start_time": "2022-04-21T15:53:04.730Z"
   },
   {
    "duration": 19,
    "start_time": "2022-04-21T15:53:04.825Z"
   },
   {
    "duration": 19,
    "start_time": "2022-04-21T15:53:05.202Z"
   },
   {
    "duration": 20,
    "start_time": "2022-04-21T15:53:05.415Z"
   },
   {
    "duration": 15,
    "start_time": "2022-04-21T15:53:05.602Z"
   },
   {
    "duration": 19,
    "start_time": "2022-04-21T15:53:05.974Z"
   },
   {
    "duration": 24,
    "start_time": "2022-04-21T15:53:06.754Z"
   },
   {
    "duration": 20,
    "start_time": "2022-04-21T15:53:06.966Z"
   },
   {
    "duration": 20,
    "start_time": "2022-04-21T15:53:07.171Z"
   },
   {
    "duration": 10,
    "start_time": "2022-04-21T15:53:07.877Z"
   },
   {
    "duration": 26,
    "start_time": "2022-04-21T15:53:08.052Z"
   },
   {
    "duration": 7,
    "start_time": "2022-04-21T15:53:08.264Z"
   },
   {
    "duration": 10,
    "start_time": "2022-04-21T15:53:09.106Z"
   },
   {
    "duration": 8,
    "start_time": "2022-04-21T15:53:09.319Z"
   },
   {
    "duration": 5,
    "start_time": "2022-04-21T15:53:09.527Z"
   },
   {
    "duration": 27,
    "start_time": "2022-04-21T15:53:13.571Z"
   },
   {
    "duration": 22,
    "start_time": "2022-04-21T15:53:15.152Z"
   },
   {
    "duration": 3,
    "start_time": "2022-04-21T15:53:19.668Z"
   },
   {
    "duration": 688,
    "start_time": "2022-04-21T15:53:22.578Z"
   },
   {
    "duration": 17,
    "start_time": "2022-04-21T15:53:24.127Z"
   },
   {
    "duration": 60,
    "start_time": "2022-04-21T15:53:25.144Z"
   },
   {
    "duration": 17,
    "start_time": "2022-04-21T15:53:32.603Z"
   },
   {
    "duration": 177,
    "start_time": "2022-04-21T15:53:33.343Z"
   },
   {
    "duration": 69,
    "start_time": "2022-04-21T15:54:36.950Z"
   },
   {
    "duration": 76,
    "start_time": "2022-04-21T15:55:22.381Z"
   },
   {
    "duration": 2420,
    "start_time": "2022-04-21T15:57:11.241Z"
   },
   {
    "duration": 27609,
    "start_time": "2022-04-21T15:58:09.351Z"
   },
   {
    "duration": 19871,
    "start_time": "2022-04-21T15:59:01.110Z"
   },
   {
    "duration": 115,
    "start_time": "2022-04-21T15:59:45.054Z"
   },
   {
    "duration": 2,
    "start_time": "2022-04-21T15:59:49.472Z"
   },
   {
    "duration": 3,
    "start_time": "2022-04-21T16:00:03.969Z"
   },
   {
    "duration": 28718,
    "start_time": "2022-04-21T16:01:14.349Z"
   },
   {
    "duration": 19,
    "start_time": "2022-04-21T16:04:19.149Z"
   },
   {
    "duration": 18671,
    "start_time": "2022-04-21T16:04:43.706Z"
   },
   {
    "duration": 880,
    "start_time": "2022-04-21T16:05:21.386Z"
   },
   {
    "duration": 38,
    "start_time": "2022-04-21T16:05:22.404Z"
   },
   {
    "duration": 195,
    "start_time": "2022-04-21T16:05:23.846Z"
   },
   {
    "duration": 3,
    "start_time": "2022-04-21T16:05:24.232Z"
   },
   {
    "duration": 729,
    "start_time": "2022-04-21T16:05:24.690Z"
   },
   {
    "duration": 38948,
    "start_time": "2022-04-21T16:05:25.421Z"
   },
   {
    "duration": 688,
    "start_time": "2022-04-21T16:06:04.372Z"
   },
   {
    "duration": 104,
    "start_time": "2022-04-21T16:06:05.063Z"
   },
   {
    "duration": 26,
    "start_time": "2022-04-21T16:06:05.169Z"
   },
   {
    "duration": 1410,
    "start_time": "2022-04-21T16:08:01.885Z"
   },
   {
    "duration": 839,
    "start_time": "2022-04-21T16:08:05.000Z"
   },
   {
    "duration": 19,
    "start_time": "2022-04-21T16:08:07.809Z"
   },
   {
    "duration": 135,
    "start_time": "2022-04-21T16:08:08.196Z"
   },
   {
    "duration": 95,
    "start_time": "2022-04-21T16:08:08.584Z"
   },
   {
    "duration": 20,
    "start_time": "2022-04-21T16:08:09.919Z"
   },
   {
    "duration": 23,
    "start_time": "2022-04-21T16:08:10.739Z"
   },
   {
    "duration": 30,
    "start_time": "2022-04-21T16:08:10.939Z"
   },
   {
    "duration": 17,
    "start_time": "2022-04-21T16:08:11.187Z"
   },
   {
    "duration": 21,
    "start_time": "2022-04-21T16:08:11.819Z"
   },
   {
    "duration": 19,
    "start_time": "2022-04-21T16:08:12.873Z"
   },
   {
    "duration": 19,
    "start_time": "2022-04-21T16:08:13.090Z"
   },
   {
    "duration": 25,
    "start_time": "2022-04-21T16:08:13.332Z"
   },
   {
    "duration": 14,
    "start_time": "2022-04-21T16:08:14.143Z"
   },
   {
    "duration": 26,
    "start_time": "2022-04-21T16:08:14.351Z"
   },
   {
    "duration": 6,
    "start_time": "2022-04-21T16:08:14.531Z"
   },
   {
    "duration": 14,
    "start_time": "2022-04-21T16:08:15.448Z"
   },
   {
    "duration": 8,
    "start_time": "2022-04-21T16:08:15.650Z"
   },
   {
    "duration": 5,
    "start_time": "2022-04-21T16:08:15.868Z"
   },
   {
    "duration": 26,
    "start_time": "2022-04-21T16:08:17.374Z"
   },
   {
    "duration": 18,
    "start_time": "2022-04-21T16:08:18.007Z"
   },
   {
    "duration": 2,
    "start_time": "2022-04-21T16:08:19.836Z"
   },
   {
    "duration": 705,
    "start_time": "2022-04-21T16:08:20.714Z"
   },
   {
    "duration": 19,
    "start_time": "2022-04-21T16:08:21.420Z"
   },
   {
    "duration": 73,
    "start_time": "2022-04-21T16:08:21.440Z"
   },
   {
    "duration": 18,
    "start_time": "2022-04-21T16:08:23.317Z"
   },
   {
    "duration": 4,
    "start_time": "2022-04-21T16:08:23.633Z"
   },
   {
    "duration": 18,
    "start_time": "2022-04-21T16:08:23.916Z"
   },
   {
    "duration": 3,
    "start_time": "2022-04-21T16:08:24.198Z"
   },
   {
    "duration": 19,
    "start_time": "2022-04-21T16:08:24.411Z"
   },
   {
    "duration": 4,
    "start_time": "2022-04-21T16:08:24.623Z"
   },
   {
    "duration": 16,
    "start_time": "2022-04-21T16:08:25.006Z"
   },
   {
    "duration": 3,
    "start_time": "2022-04-21T16:08:25.215Z"
   },
   {
    "duration": 1469,
    "start_time": "2022-04-21T16:09:01.066Z"
   },
   {
    "duration": 816,
    "start_time": "2022-04-21T16:09:03.566Z"
   },
   {
    "duration": 20,
    "start_time": "2022-04-21T16:09:05.285Z"
   },
   {
    "duration": 131,
    "start_time": "2022-04-21T16:09:05.671Z"
   },
   {
    "duration": 90,
    "start_time": "2022-04-21T16:09:06.093Z"
   },
   {
    "duration": 20,
    "start_time": "2022-04-21T16:09:08.132Z"
   },
   {
    "duration": 25,
    "start_time": "2022-04-21T16:09:09.152Z"
   },
   {
    "duration": 19,
    "start_time": "2022-04-21T16:09:09.367Z"
   },
   {
    "duration": 17,
    "start_time": "2022-04-21T16:09:09.612Z"
   },
   {
    "duration": 19,
    "start_time": "2022-04-21T16:09:10.209Z"
   },
   {
    "duration": 25,
    "start_time": "2022-04-21T16:09:11.049Z"
   },
   {
    "duration": 20,
    "start_time": "2022-04-21T16:09:11.268Z"
   },
   {
    "duration": 27,
    "start_time": "2022-04-21T16:09:11.439Z"
   },
   {
    "duration": 10,
    "start_time": "2022-04-21T16:09:12.179Z"
   },
   {
    "duration": 22,
    "start_time": "2022-04-21T16:09:12.387Z"
   },
   {
    "duration": 6,
    "start_time": "2022-04-21T16:09:12.598Z"
   },
   {
    "duration": 10,
    "start_time": "2022-04-21T16:09:14.218Z"
   },
   {
    "duration": 7,
    "start_time": "2022-04-21T16:09:14.429Z"
   },
   {
    "duration": 5,
    "start_time": "2022-04-21T16:09:14.600Z"
   },
   {
    "duration": 26,
    "start_time": "2022-04-21T16:09:16.994Z"
   },
   {
    "duration": 17,
    "start_time": "2022-04-21T16:09:18.717Z"
   },
   {
    "duration": 3,
    "start_time": "2022-04-21T16:09:25.925Z"
   },
   {
    "duration": 719,
    "start_time": "2022-04-21T16:09:28.469Z"
   },
   {
    "duration": 18,
    "start_time": "2022-04-21T16:09:29.190Z"
   },
   {
    "duration": 66,
    "start_time": "2022-04-21T16:09:32.827Z"
   },
   {
    "duration": 21,
    "start_time": "2022-04-21T16:09:37.909Z"
   },
   {
    "duration": 4,
    "start_time": "2022-04-21T16:09:38.193Z"
   },
   {
    "duration": 18,
    "start_time": "2022-04-21T16:09:38.614Z"
   },
   {
    "duration": 4,
    "start_time": "2022-04-21T16:09:38.968Z"
   },
   {
    "duration": 21,
    "start_time": "2022-04-21T16:09:39.467Z"
   },
   {
    "duration": 4,
    "start_time": "2022-04-21T16:09:39.880Z"
   },
   {
    "duration": 21,
    "start_time": "2022-04-21T16:09:43.150Z"
   },
   {
    "duration": 3,
    "start_time": "2022-04-21T16:09:45.087Z"
   },
   {
    "duration": 200764,
    "start_time": "2022-04-21T16:09:49.312Z"
   },
   {
    "duration": 8029,
    "start_time": "2022-04-21T16:13:10.079Z"
   },
   {
    "duration": 7,
    "start_time": "2022-04-21T16:13:18.110Z"
   },
   {
    "duration": 7977,
    "start_time": "2022-04-21T16:13:18.120Z"
   },
   {
    "duration": 143,
    "start_time": "2022-04-21T16:13:26.099Z"
   },
   {
    "duration": 4,
    "start_time": "2022-04-21T16:13:26.243Z"
   },
   {
    "duration": 19,
    "start_time": "2022-04-21T16:13:26.249Z"
   },
   {
    "duration": 27,
    "start_time": "2022-04-21T16:13:26.269Z"
   },
   {
    "duration": 3,
    "start_time": "2022-04-21T16:13:26.298Z"
   },
   {
    "duration": 6,
    "start_time": "2022-04-21T16:13:26.303Z"
   },
   {
    "duration": 16,
    "start_time": "2022-04-21T16:13:26.310Z"
   },
   {
    "duration": 16,
    "start_time": "2022-04-21T16:13:26.328Z"
   },
   {
    "duration": 6,
    "start_time": "2022-04-21T16:13:26.345Z"
   },
   {
    "duration": 20,
    "start_time": "2022-04-21T16:13:26.352Z"
   },
   {
    "duration": 256792,
    "start_time": "2022-04-21T16:13:26.374Z"
   },
   {
    "duration": 26392,
    "start_time": "2022-04-21T16:17:43.168Z"
   },
   {
    "duration": 707,
    "start_time": "2022-04-21T16:18:09.561Z"
   },
   {
    "duration": 8,
    "start_time": "2022-04-21T16:18:10.270Z"
   },
   {
    "duration": 10,
    "start_time": "2022-04-21T16:18:10.280Z"
   },
   {
    "duration": 15,
    "start_time": "2022-04-21T16:18:10.292Z"
   },
   {
    "duration": 888,
    "start_time": "2022-04-21T16:18:10.309Z"
   },
   {
    "duration": 41,
    "start_time": "2022-04-21T16:18:11.199Z"
   },
   {
    "duration": 205,
    "start_time": "2022-04-21T16:18:11.242Z"
   },
   {
    "duration": 13,
    "start_time": "2022-04-21T16:18:11.448Z"
   },
   {
    "duration": 699,
    "start_time": "2022-04-21T16:18:11.467Z"
   },
   {
    "duration": 44002,
    "start_time": "2022-04-21T16:18:12.169Z"
   },
   {
    "duration": 890,
    "start_time": "2022-04-21T16:18:56.173Z"
   },
   {
    "duration": 90,
    "start_time": "2022-04-21T16:18:57.073Z"
   },
   {
    "duration": 6,
    "start_time": "2022-04-21T16:18:57.167Z"
   },
   {
    "duration": 28593,
    "start_time": "2022-04-21T16:18:57.174Z"
   },
   {
    "duration": 1584,
    "start_time": "2022-04-22T10:48:58.104Z"
   },
   {
    "duration": 837,
    "start_time": "2022-04-22T10:48:59.691Z"
   },
   {
    "duration": 19,
    "start_time": "2022-04-22T10:49:00.530Z"
   },
   {
    "duration": 148,
    "start_time": "2022-04-22T10:49:00.552Z"
   },
   {
    "duration": 102,
    "start_time": "2022-04-22T10:49:00.702Z"
   },
   {
    "duration": 22,
    "start_time": "2022-04-22T10:49:00.806Z"
   },
   {
    "duration": 42,
    "start_time": "2022-04-22T10:49:00.830Z"
   },
   {
    "duration": 21,
    "start_time": "2022-04-22T10:49:00.874Z"
   },
   {
    "duration": 30,
    "start_time": "2022-04-22T10:49:00.897Z"
   },
   {
    "duration": 23,
    "start_time": "2022-04-22T10:49:00.929Z"
   },
   {
    "duration": 35,
    "start_time": "2022-04-22T10:49:00.954Z"
   },
   {
    "duration": 25,
    "start_time": "2022-04-22T10:49:00.991Z"
   },
   {
    "duration": 23,
    "start_time": "2022-04-22T10:49:01.018Z"
   },
   {
    "duration": 25,
    "start_time": "2022-04-22T10:49:01.043Z"
   },
   {
    "duration": 36,
    "start_time": "2022-04-22T10:49:01.069Z"
   },
   {
    "duration": 26,
    "start_time": "2022-04-22T10:49:01.106Z"
   },
   {
    "duration": 19,
    "start_time": "2022-04-22T10:49:01.134Z"
   },
   {
    "duration": 7,
    "start_time": "2022-04-22T10:49:01.155Z"
   },
   {
    "duration": 15,
    "start_time": "2022-04-22T10:49:01.164Z"
   },
   {
    "duration": 30,
    "start_time": "2022-04-22T10:49:01.181Z"
   },
   {
    "duration": 32,
    "start_time": "2022-04-22T10:49:01.212Z"
   },
   {
    "duration": 24,
    "start_time": "2022-04-22T10:49:01.246Z"
   },
   {
    "duration": 770,
    "start_time": "2022-04-22T10:49:01.272Z"
   },
   {
    "duration": 24,
    "start_time": "2022-04-22T10:49:02.045Z"
   },
   {
    "duration": 73,
    "start_time": "2022-04-22T10:49:02.071Z"
   },
   {
    "duration": 20,
    "start_time": "2022-04-22T10:49:02.145Z"
   },
   {
    "duration": 19,
    "start_time": "2022-04-22T10:49:02.167Z"
   },
   {
    "duration": 77,
    "start_time": "2022-04-22T10:49:02.189Z"
   },
   {
    "duration": 9,
    "start_time": "2022-04-22T10:49:02.268Z"
   },
   {
    "duration": 28,
    "start_time": "2022-04-22T10:49:02.279Z"
   },
   {
    "duration": 8,
    "start_time": "2022-04-22T10:49:02.309Z"
   },
   {
    "duration": 27,
    "start_time": "2022-04-22T10:49:02.319Z"
   },
   {
    "duration": 9,
    "start_time": "2022-04-22T10:49:02.348Z"
   },
   {
    "duration": 85135,
    "start_time": "2022-04-22T10:49:02.359Z"
   },
   {
    "duration": 3,
    "start_time": "2022-04-22T10:50:27.496Z"
   },
   {
    "duration": 10,
    "start_time": "2022-04-22T10:50:27.501Z"
   },
   {
    "duration": 384820,
    "start_time": "2022-04-22T10:50:27.513Z"
   },
   {
    "duration": 0,
    "start_time": "2022-04-22T10:56:52.335Z"
   },
   {
    "duration": 0,
    "start_time": "2022-04-22T10:56:52.336Z"
   },
   {
    "duration": 0,
    "start_time": "2022-04-22T10:56:52.337Z"
   },
   {
    "duration": 0,
    "start_time": "2022-04-22T10:56:52.338Z"
   },
   {
    "duration": 0,
    "start_time": "2022-04-22T10:56:52.339Z"
   },
   {
    "duration": 0,
    "start_time": "2022-04-22T10:56:52.341Z"
   },
   {
    "duration": 0,
    "start_time": "2022-04-22T10:56:52.342Z"
   },
   {
    "duration": 0,
    "start_time": "2022-04-22T10:56:52.343Z"
   },
   {
    "duration": 0,
    "start_time": "2022-04-22T10:56:52.344Z"
   },
   {
    "duration": 0,
    "start_time": "2022-04-22T10:56:52.345Z"
   },
   {
    "duration": 0,
    "start_time": "2022-04-22T10:56:52.346Z"
   },
   {
    "duration": 0,
    "start_time": "2022-04-22T10:56:52.347Z"
   },
   {
    "duration": 0,
    "start_time": "2022-04-22T10:56:52.348Z"
   },
   {
    "duration": 0,
    "start_time": "2022-04-22T10:56:52.349Z"
   },
   {
    "duration": 0,
    "start_time": "2022-04-22T10:56:52.350Z"
   },
   {
    "duration": 0,
    "start_time": "2022-04-22T10:56:52.351Z"
   },
   {
    "duration": 0,
    "start_time": "2022-04-22T10:56:52.352Z"
   },
   {
    "duration": 0,
    "start_time": "2022-04-22T10:56:52.353Z"
   },
   {
    "duration": 0,
    "start_time": "2022-04-22T10:56:52.354Z"
   },
   {
    "duration": 0,
    "start_time": "2022-04-22T10:56:52.355Z"
   },
   {
    "duration": 0,
    "start_time": "2022-04-22T10:56:52.357Z"
   },
   {
    "duration": 0,
    "start_time": "2022-04-22T10:56:52.393Z"
   },
   {
    "duration": 0,
    "start_time": "2022-04-22T10:56:52.394Z"
   },
   {
    "duration": 0,
    "start_time": "2022-04-22T10:56:52.396Z"
   },
   {
    "duration": 0,
    "start_time": "2022-04-22T10:56:52.397Z"
   },
   {
    "duration": 0,
    "start_time": "2022-04-22T10:56:52.398Z"
   },
   {
    "duration": 0,
    "start_time": "2022-04-22T10:56:52.400Z"
   },
   {
    "duration": 0,
    "start_time": "2022-04-22T10:56:52.401Z"
   },
   {
    "duration": 0,
    "start_time": "2022-04-22T10:56:52.402Z"
   },
   {
    "duration": 0,
    "start_time": "2022-04-22T10:56:52.406Z"
   },
   {
    "duration": 0,
    "start_time": "2022-04-22T10:56:52.407Z"
   },
   {
    "duration": 0,
    "start_time": "2022-04-22T10:56:52.407Z"
   },
   {
    "duration": 0,
    "start_time": "2022-04-22T10:56:52.408Z"
   },
   {
    "duration": 0,
    "start_time": "2022-04-22T10:56:52.409Z"
   },
   {
    "duration": 0,
    "start_time": "2022-04-22T10:56:52.410Z"
   },
   {
    "duration": 0,
    "start_time": "2022-04-22T10:56:52.411Z"
   },
   {
    "duration": 0,
    "start_time": "2022-04-22T10:56:52.412Z"
   },
   {
    "duration": 39331,
    "start_time": "2022-04-22T10:57:17.689Z"
   },
   {
    "duration": 0,
    "start_time": "2022-04-22T10:57:57.023Z"
   },
   {
    "duration": 0,
    "start_time": "2022-04-22T10:57:57.024Z"
   },
   {
    "duration": 0,
    "start_time": "2022-04-22T10:57:57.025Z"
   },
   {
    "duration": 0,
    "start_time": "2022-04-22T10:57:57.026Z"
   },
   {
    "duration": 0,
    "start_time": "2022-04-22T10:57:57.027Z"
   },
   {
    "duration": 0,
    "start_time": "2022-04-22T10:57:57.028Z"
   },
   {
    "duration": 0,
    "start_time": "2022-04-22T10:57:57.029Z"
   },
   {
    "duration": 1,
    "start_time": "2022-04-22T10:57:57.030Z"
   },
   {
    "duration": 0,
    "start_time": "2022-04-22T10:57:57.032Z"
   },
   {
    "duration": 0,
    "start_time": "2022-04-22T10:57:57.092Z"
   },
   {
    "duration": 0,
    "start_time": "2022-04-22T10:57:57.094Z"
   },
   {
    "duration": 1,
    "start_time": "2022-04-22T10:57:57.094Z"
   },
   {
    "duration": 0,
    "start_time": "2022-04-22T10:57:57.096Z"
   },
   {
    "duration": 0,
    "start_time": "2022-04-22T10:57:57.097Z"
   },
   {
    "duration": 0,
    "start_time": "2022-04-22T10:57:57.098Z"
   },
   {
    "duration": 0,
    "start_time": "2022-04-22T10:57:57.099Z"
   },
   {
    "duration": 0,
    "start_time": "2022-04-22T10:57:57.100Z"
   },
   {
    "duration": 0,
    "start_time": "2022-04-22T10:57:57.101Z"
   },
   {
    "duration": 0,
    "start_time": "2022-04-22T10:57:57.102Z"
   },
   {
    "duration": 0,
    "start_time": "2022-04-22T10:57:57.103Z"
   },
   {
    "duration": 0,
    "start_time": "2022-04-22T10:57:57.104Z"
   },
   {
    "duration": 0,
    "start_time": "2022-04-22T10:57:57.105Z"
   },
   {
    "duration": 0,
    "start_time": "2022-04-22T10:57:57.106Z"
   },
   {
    "duration": 0,
    "start_time": "2022-04-22T10:57:57.107Z"
   },
   {
    "duration": 0,
    "start_time": "2022-04-22T10:57:57.108Z"
   },
   {
    "duration": 0,
    "start_time": "2022-04-22T10:57:57.109Z"
   },
   {
    "duration": 0,
    "start_time": "2022-04-22T10:57:57.111Z"
   },
   {
    "duration": 0,
    "start_time": "2022-04-22T10:57:57.111Z"
   },
   {
    "duration": 0,
    "start_time": "2022-04-22T10:57:57.112Z"
   },
   {
    "duration": 0,
    "start_time": "2022-04-22T10:57:57.114Z"
   },
   {
    "duration": 0,
    "start_time": "2022-04-22T10:57:57.114Z"
   },
   {
    "duration": 0,
    "start_time": "2022-04-22T10:57:57.116Z"
   },
   {
    "duration": 0,
    "start_time": "2022-04-22T10:57:57.116Z"
   },
   {
    "duration": 0,
    "start_time": "2022-04-22T10:57:57.117Z"
   },
   {
    "duration": 0,
    "start_time": "2022-04-22T10:57:57.119Z"
   },
   {
    "duration": 0,
    "start_time": "2022-04-22T10:57:57.120Z"
   },
   {
    "duration": 0,
    "start_time": "2022-04-22T10:57:57.121Z"
   }
  ],
  "kernelspec": {
   "display_name": "Python 3 (ipykernel)",
   "language": "python",
   "name": "python3"
  },
  "language_info": {
   "codemirror_mode": {
    "name": "ipython",
    "version": 3
   },
   "file_extension": ".py",
   "mimetype": "text/x-python",
   "name": "python",
   "nbconvert_exporter": "python",
   "pygments_lexer": "ipython3",
   "version": "3.9.7"
  },
  "toc": {
   "base_numbering": 1,
   "nav_menu": {},
   "number_sections": true,
   "sideBar": true,
   "skip_h1_title": true,
   "title_cell": "Содержание",
   "title_sidebar": "Содержание",
   "toc_cell": true,
   "toc_position": {
    "height": "861.111px",
    "left": "989px",
    "top": "349.441px",
    "width": "512.205px"
   },
   "toc_section_display": true,
   "toc_window_display": false
  }
 },
 "nbformat": 4,
 "nbformat_minor": 2
}
