{
 "cells": [
  {
   "cell_type": "markdown",
   "metadata": {},
   "source": [
    "# Исследование объявлений о продаже квартир\n",
    "\n",
    "В нашем распоряжении данные сервиса Яндекс.Недвижимость — архив объявлений о продаже квартир в Санкт-Петербурге и соседних населённых пунктах за несколько лет. Нужно научиться определять рыночную стоимость объектов недвижимости. Моя задача — установить параметры. Это позволит построить автоматизированную систему: она отследит аномалии и мошенническую деятельность. \n",
    "\n",
    "Особенности данных. По каждой квартире на продажу доступны два вида данных. Первые вписаны пользователем, вторые получены автоматически на основе картографических данных. Например, расстояние до центра, аэропорта, ближайшего парка и водоёма. "
   ]
  },
  {
   "cell_type": "markdown",
   "metadata": {
    "toc": true
   },
   "source": [
    "<h1>Содержание<span class=\"tocSkip\"></span></h1>\n",
    "<div class=\"toc\"><ul class=\"toc-item\"><li><span><a href=\"#Изучение-данных-из-файла\" data-toc-modified-id=\"Изучение-данных-из-файла-1\"><span class=\"toc-item-num\">1&nbsp;&nbsp;</span>Изучение данных из файла</a></span><ul class=\"toc-item\"><li><span><a href=\"#Вывод\" data-toc-modified-id=\"Вывод-1.1\"><span class=\"toc-item-num\">1.1&nbsp;&nbsp;</span>Вывод</a></span></li></ul></li><li><span><a href=\"#Предобработка-данных\" data-toc-modified-id=\"Предобработка-данных-2\"><span class=\"toc-item-num\">2&nbsp;&nbsp;</span>Предобработка данных</a></span></li><li><span><a href=\"#Расчёты-и-добавление-результатов-в-таблицу\" data-toc-modified-id=\"Расчёты-и-добавление-результатов-в-таблицу-3\"><span class=\"toc-item-num\">3&nbsp;&nbsp;</span>Расчёты и добавление результатов в таблицу</a></span></li><li><span><a href=\"#Исследовательский-анализ-данных\" data-toc-modified-id=\"Исследовательский-анализ-данных-4\"><span class=\"toc-item-num\">4&nbsp;&nbsp;</span>Исследовательский анализ данных</a></span><ul class=\"toc-item\"><li><ul class=\"toc-item\"><li><span><a href=\"#Вывод\" data-toc-modified-id=\"Вывод-4.0.1\"><span class=\"toc-item-num\">4.0.1&nbsp;&nbsp;</span>Вывод</a></span></li></ul></li><li><span><a href=\"#Изучим-факторы-влияющие-на-стоимость-квартиры\" data-toc-modified-id=\"Изучим-факторы-влияющие-на-стоимость-квартиры-4.1\"><span class=\"toc-item-num\">4.1&nbsp;&nbsp;</span>Изучим факторы влияющие на стоимость квартиры</a></span></li><li><span><a href=\"#Построим-зависимотсь-цены-от-площади.\" data-toc-modified-id=\"Построим-зависимотсь-цены-от-площади.-4.2\"><span class=\"toc-item-num\">4.2&nbsp;&nbsp;</span>Построим зависимотсь цены от площади.</a></span><ul class=\"toc-item\"><li><span><a href=\"#Вывод\" data-toc-modified-id=\"Вывод-4.2.1\"><span class=\"toc-item-num\">4.2.1&nbsp;&nbsp;</span>Вывод</a></span></li></ul></li><li><span><a href=\"#Построим-зависимотсь-между-числом-комнат-и-ценой\" data-toc-modified-id=\"Построим-зависимотсь-между-числом-комнат-и-ценой-4.3\"><span class=\"toc-item-num\">4.3&nbsp;&nbsp;</span>Построим зависимотсь между числом комнат и ценой</a></span><ul class=\"toc-item\"><li><span><a href=\"#Вывод\" data-toc-modified-id=\"Вывод-4.3.1\"><span class=\"toc-item-num\">4.3.1&nbsp;&nbsp;</span>Вывод</a></span></li></ul></li><li><span><a href=\"#Посмотрим-зависимоть-между-ценой-и-этажем.\" data-toc-modified-id=\"Посмотрим-зависимоть-между-ценой-и-этажем.-4.4\"><span class=\"toc-item-num\">4.4&nbsp;&nbsp;</span>Посмотрим зависимоть между ценой и этажем.</a></span><ul class=\"toc-item\"><li><span><a href=\"#Вывод\" data-toc-modified-id=\"Вывод-4.4.1\"><span class=\"toc-item-num\">4.4.1&nbsp;&nbsp;</span>Вывод</a></span></li></ul></li><li><span><a href=\"#Построим-зависимость-цены-от-удаленности-от-центра\" data-toc-modified-id=\"Построим-зависимость-цены-от-удаленности-от-центра-4.5\"><span class=\"toc-item-num\">4.5&nbsp;&nbsp;</span>Построим зависимость цены от удаленности от центра</a></span><ul class=\"toc-item\"><li><span><a href=\"#Вывод\" data-toc-modified-id=\"Вывод-4.5.1\"><span class=\"toc-item-num\">4.5.1&nbsp;&nbsp;</span>Вывод</a></span></li></ul></li><li><span><a href=\"#Изучим-зависимоть-от-дня-недели,-месяца-и-года.\" data-toc-modified-id=\"Изучим-зависимоть-от-дня-недели,-месяца-и-года.-4.6\"><span class=\"toc-item-num\">4.6&nbsp;&nbsp;</span>Изучим зависимоть от дня недели, месяца и года.</a></span><ul class=\"toc-item\"><li><span><a href=\"#Вывод\" data-toc-modified-id=\"Вывод-4.6.1\"><span class=\"toc-item-num\">4.6.1&nbsp;&nbsp;</span>Вывод</a></span></li></ul></li><li><span><a href=\"#Найдём-минимальную-и-максимальную-стоимость-кв.м.-в-городах-с-наибольшим-количеством-объявлений.\" data-toc-modified-id=\"Найдём-минимальную-и-максимальную-стоимость-кв.м.-в-городах-с-наибольшим-количеством-объявлений.-4.7\"><span class=\"toc-item-num\">4.7&nbsp;&nbsp;</span>Найдём минимальную и максимальную стоимость кв.м. в городах с наибольшим количеством объявлений.</a></span><ul class=\"toc-item\"><li><span><a href=\"#Вывод\" data-toc-modified-id=\"Вывод-4.7.1\"><span class=\"toc-item-num\">4.7.1&nbsp;&nbsp;</span>Вывод</a></span></li></ul></li><li><span><a href=\"#Найдём-денежный-центр-Санкт-Петербурга.\" data-toc-modified-id=\"Найдём-денежный-центр-Санкт-Петербурга.-4.8\"><span class=\"toc-item-num\">4.8&nbsp;&nbsp;</span>Найдём денежный центр Санкт-Петербурга.</a></span><ul class=\"toc-item\"><li><span><a href=\"#Вывод\" data-toc-modified-id=\"Вывод-4.8.1\"><span class=\"toc-item-num\">4.8.1&nbsp;&nbsp;</span>Вывод</a></span></li></ul></li><li><span><a href=\"#Анализ-квартир-в-центре\" data-toc-modified-id=\"Анализ-квартир-в-центре-4.9\"><span class=\"toc-item-num\">4.9&nbsp;&nbsp;</span>Анализ квартир в центре</a></span></li><li><span><a href=\"#Зависимость-цены-от-площади,-числа-комнат,-этажа,-удаленности-от-центра,-дат-размещения.\" data-toc-modified-id=\"Зависимость-цены-от-площади,-числа-комнат,-этажа,-удаленности-от-центра,-дат-размещения.-4.10\"><span class=\"toc-item-num\">4.10&nbsp;&nbsp;</span>Зависимость цены от площади, числа комнат, этажа, удаленности от центра, дат размещения.</a></span><ul class=\"toc-item\"><li><span><a href=\"#Вывод\" data-toc-modified-id=\"Вывод-4.10.1\"><span class=\"toc-item-num\">4.10.1&nbsp;&nbsp;</span>Вывод</a></span></li></ul></li></ul></li><li><span><a href=\"#Общий-вывод\" data-toc-modified-id=\"Общий-вывод-5\"><span class=\"toc-item-num\">5&nbsp;&nbsp;</span>Общий вывод</a></span></li><li><span><a href=\"#Чек-лист-готовности-проекта\" data-toc-modified-id=\"Чек-лист-готовности-проекта-6\"><span class=\"toc-item-num\">6&nbsp;&nbsp;</span>Чек-лист готовности проекта</a></span></li></ul></div>"
   ]
  },
  {
   "cell_type": "markdown",
   "metadata": {},
   "source": [
    "## Изучение данных из файла"
   ]
  },
  {
   "cell_type": "code",
   "execution_count": 1,
   "metadata": {},
   "outputs": [],
   "source": [
    "import pandas as pd\n",
    "import matplotlib.pyplot as plt\n",
    "import numpy as np"
   ]
  },
  {
   "cell_type": "code",
   "execution_count": 2,
   "metadata": {},
   "outputs": [
    {
     "data": {
      "text/html": [
       "<div>\n",
       "<style scoped>\n",
       "    .dataframe tbody tr th:only-of-type {\n",
       "        vertical-align: middle;\n",
       "    }\n",
       "\n",
       "    .dataframe tbody tr th {\n",
       "        vertical-align: top;\n",
       "    }\n",
       "\n",
       "    .dataframe thead th {\n",
       "        text-align: right;\n",
       "    }\n",
       "</style>\n",
       "<table border=\"1\" class=\"dataframe\">\n",
       "  <thead>\n",
       "    <tr style=\"text-align: right;\">\n",
       "      <th></th>\n",
       "      <th>total_images</th>\n",
       "      <th>last_price</th>\n",
       "      <th>total_area</th>\n",
       "      <th>first_day_exposition</th>\n",
       "      <th>rooms</th>\n",
       "      <th>ceiling_height</th>\n",
       "      <th>floors_total</th>\n",
       "      <th>living_area</th>\n",
       "      <th>floor</th>\n",
       "      <th>is_apartment</th>\n",
       "      <th>...</th>\n",
       "      <th>kitchen_area</th>\n",
       "      <th>balcony</th>\n",
       "      <th>locality_name</th>\n",
       "      <th>airports_nearest</th>\n",
       "      <th>cityCenters_nearest</th>\n",
       "      <th>parks_around3000</th>\n",
       "      <th>parks_nearest</th>\n",
       "      <th>ponds_around3000</th>\n",
       "      <th>ponds_nearest</th>\n",
       "      <th>days_exposition</th>\n",
       "    </tr>\n",
       "  </thead>\n",
       "  <tbody>\n",
       "    <tr>\n",
       "      <th>0</th>\n",
       "      <td>20</td>\n",
       "      <td>13000000.0</td>\n",
       "      <td>108.00</td>\n",
       "      <td>2019-03-07T00:00:00</td>\n",
       "      <td>3</td>\n",
       "      <td>2.70</td>\n",
       "      <td>16.0</td>\n",
       "      <td>51.00</td>\n",
       "      <td>8</td>\n",
       "      <td>NaN</td>\n",
       "      <td>...</td>\n",
       "      <td>25.00</td>\n",
       "      <td>NaN</td>\n",
       "      <td>Санкт-Петербург</td>\n",
       "      <td>18863.0</td>\n",
       "      <td>16028.0</td>\n",
       "      <td>1.0</td>\n",
       "      <td>482.0</td>\n",
       "      <td>2.0</td>\n",
       "      <td>755.0</td>\n",
       "      <td>NaN</td>\n",
       "    </tr>\n",
       "    <tr>\n",
       "      <th>1</th>\n",
       "      <td>7</td>\n",
       "      <td>3350000.0</td>\n",
       "      <td>40.40</td>\n",
       "      <td>2018-12-04T00:00:00</td>\n",
       "      <td>1</td>\n",
       "      <td>NaN</td>\n",
       "      <td>11.0</td>\n",
       "      <td>18.60</td>\n",
       "      <td>1</td>\n",
       "      <td>NaN</td>\n",
       "      <td>...</td>\n",
       "      <td>11.00</td>\n",
       "      <td>2.0</td>\n",
       "      <td>посёлок Шушары</td>\n",
       "      <td>12817.0</td>\n",
       "      <td>18603.0</td>\n",
       "      <td>0.0</td>\n",
       "      <td>NaN</td>\n",
       "      <td>0.0</td>\n",
       "      <td>NaN</td>\n",
       "      <td>81.0</td>\n",
       "    </tr>\n",
       "    <tr>\n",
       "      <th>2</th>\n",
       "      <td>10</td>\n",
       "      <td>5196000.0</td>\n",
       "      <td>56.00</td>\n",
       "      <td>2015-08-20T00:00:00</td>\n",
       "      <td>2</td>\n",
       "      <td>NaN</td>\n",
       "      <td>5.0</td>\n",
       "      <td>34.30</td>\n",
       "      <td>4</td>\n",
       "      <td>NaN</td>\n",
       "      <td>...</td>\n",
       "      <td>8.30</td>\n",
       "      <td>0.0</td>\n",
       "      <td>Санкт-Петербург</td>\n",
       "      <td>21741.0</td>\n",
       "      <td>13933.0</td>\n",
       "      <td>1.0</td>\n",
       "      <td>90.0</td>\n",
       "      <td>2.0</td>\n",
       "      <td>574.0</td>\n",
       "      <td>558.0</td>\n",
       "    </tr>\n",
       "    <tr>\n",
       "      <th>3</th>\n",
       "      <td>0</td>\n",
       "      <td>64900000.0</td>\n",
       "      <td>159.00</td>\n",
       "      <td>2015-07-24T00:00:00</td>\n",
       "      <td>3</td>\n",
       "      <td>NaN</td>\n",
       "      <td>14.0</td>\n",
       "      <td>NaN</td>\n",
       "      <td>9</td>\n",
       "      <td>NaN</td>\n",
       "      <td>...</td>\n",
       "      <td>NaN</td>\n",
       "      <td>0.0</td>\n",
       "      <td>Санкт-Петербург</td>\n",
       "      <td>28098.0</td>\n",
       "      <td>6800.0</td>\n",
       "      <td>2.0</td>\n",
       "      <td>84.0</td>\n",
       "      <td>3.0</td>\n",
       "      <td>234.0</td>\n",
       "      <td>424.0</td>\n",
       "    </tr>\n",
       "    <tr>\n",
       "      <th>4</th>\n",
       "      <td>2</td>\n",
       "      <td>10000000.0</td>\n",
       "      <td>100.00</td>\n",
       "      <td>2018-06-19T00:00:00</td>\n",
       "      <td>2</td>\n",
       "      <td>3.03</td>\n",
       "      <td>14.0</td>\n",
       "      <td>32.00</td>\n",
       "      <td>13</td>\n",
       "      <td>NaN</td>\n",
       "      <td>...</td>\n",
       "      <td>41.00</td>\n",
       "      <td>NaN</td>\n",
       "      <td>Санкт-Петербург</td>\n",
       "      <td>31856.0</td>\n",
       "      <td>8098.0</td>\n",
       "      <td>2.0</td>\n",
       "      <td>112.0</td>\n",
       "      <td>1.0</td>\n",
       "      <td>48.0</td>\n",
       "      <td>121.0</td>\n",
       "    </tr>\n",
       "    <tr>\n",
       "      <th>5</th>\n",
       "      <td>10</td>\n",
       "      <td>2890000.0</td>\n",
       "      <td>30.40</td>\n",
       "      <td>2018-09-10T00:00:00</td>\n",
       "      <td>1</td>\n",
       "      <td>NaN</td>\n",
       "      <td>12.0</td>\n",
       "      <td>14.40</td>\n",
       "      <td>5</td>\n",
       "      <td>NaN</td>\n",
       "      <td>...</td>\n",
       "      <td>9.10</td>\n",
       "      <td>NaN</td>\n",
       "      <td>городской посёлок Янино-1</td>\n",
       "      <td>NaN</td>\n",
       "      <td>NaN</td>\n",
       "      <td>NaN</td>\n",
       "      <td>NaN</td>\n",
       "      <td>NaN</td>\n",
       "      <td>NaN</td>\n",
       "      <td>55.0</td>\n",
       "    </tr>\n",
       "    <tr>\n",
       "      <th>6</th>\n",
       "      <td>6</td>\n",
       "      <td>3700000.0</td>\n",
       "      <td>37.30</td>\n",
       "      <td>2017-11-02T00:00:00</td>\n",
       "      <td>1</td>\n",
       "      <td>NaN</td>\n",
       "      <td>26.0</td>\n",
       "      <td>10.60</td>\n",
       "      <td>6</td>\n",
       "      <td>NaN</td>\n",
       "      <td>...</td>\n",
       "      <td>14.40</td>\n",
       "      <td>1.0</td>\n",
       "      <td>посёлок Парголово</td>\n",
       "      <td>52996.0</td>\n",
       "      <td>19143.0</td>\n",
       "      <td>0.0</td>\n",
       "      <td>NaN</td>\n",
       "      <td>0.0</td>\n",
       "      <td>NaN</td>\n",
       "      <td>155.0</td>\n",
       "    </tr>\n",
       "    <tr>\n",
       "      <th>7</th>\n",
       "      <td>5</td>\n",
       "      <td>7915000.0</td>\n",
       "      <td>71.60</td>\n",
       "      <td>2019-04-18T00:00:00</td>\n",
       "      <td>2</td>\n",
       "      <td>NaN</td>\n",
       "      <td>24.0</td>\n",
       "      <td>NaN</td>\n",
       "      <td>22</td>\n",
       "      <td>NaN</td>\n",
       "      <td>...</td>\n",
       "      <td>18.90</td>\n",
       "      <td>2.0</td>\n",
       "      <td>Санкт-Петербург</td>\n",
       "      <td>23982.0</td>\n",
       "      <td>11634.0</td>\n",
       "      <td>0.0</td>\n",
       "      <td>NaN</td>\n",
       "      <td>0.0</td>\n",
       "      <td>NaN</td>\n",
       "      <td>NaN</td>\n",
       "    </tr>\n",
       "    <tr>\n",
       "      <th>8</th>\n",
       "      <td>20</td>\n",
       "      <td>2900000.0</td>\n",
       "      <td>33.16</td>\n",
       "      <td>2018-05-23T00:00:00</td>\n",
       "      <td>1</td>\n",
       "      <td>NaN</td>\n",
       "      <td>27.0</td>\n",
       "      <td>15.43</td>\n",
       "      <td>26</td>\n",
       "      <td>NaN</td>\n",
       "      <td>...</td>\n",
       "      <td>8.81</td>\n",
       "      <td>NaN</td>\n",
       "      <td>посёлок Мурино</td>\n",
       "      <td>NaN</td>\n",
       "      <td>NaN</td>\n",
       "      <td>NaN</td>\n",
       "      <td>NaN</td>\n",
       "      <td>NaN</td>\n",
       "      <td>NaN</td>\n",
       "      <td>189.0</td>\n",
       "    </tr>\n",
       "    <tr>\n",
       "      <th>9</th>\n",
       "      <td>18</td>\n",
       "      <td>5400000.0</td>\n",
       "      <td>61.00</td>\n",
       "      <td>2017-02-26T00:00:00</td>\n",
       "      <td>3</td>\n",
       "      <td>2.50</td>\n",
       "      <td>9.0</td>\n",
       "      <td>43.60</td>\n",
       "      <td>7</td>\n",
       "      <td>NaN</td>\n",
       "      <td>...</td>\n",
       "      <td>6.50</td>\n",
       "      <td>2.0</td>\n",
       "      <td>Санкт-Петербург</td>\n",
       "      <td>50898.0</td>\n",
       "      <td>15008.0</td>\n",
       "      <td>0.0</td>\n",
       "      <td>NaN</td>\n",
       "      <td>0.0</td>\n",
       "      <td>NaN</td>\n",
       "      <td>289.0</td>\n",
       "    </tr>\n",
       "  </tbody>\n",
       "</table>\n",
       "<p>10 rows × 22 columns</p>\n",
       "</div>"
      ],
      "text/plain": [
       "   total_images  last_price  total_area first_day_exposition  rooms  \\\n",
       "0            20  13000000.0      108.00  2019-03-07T00:00:00      3   \n",
       "1             7   3350000.0       40.40  2018-12-04T00:00:00      1   \n",
       "2            10   5196000.0       56.00  2015-08-20T00:00:00      2   \n",
       "3             0  64900000.0      159.00  2015-07-24T00:00:00      3   \n",
       "4             2  10000000.0      100.00  2018-06-19T00:00:00      2   \n",
       "5            10   2890000.0       30.40  2018-09-10T00:00:00      1   \n",
       "6             6   3700000.0       37.30  2017-11-02T00:00:00      1   \n",
       "7             5   7915000.0       71.60  2019-04-18T00:00:00      2   \n",
       "8            20   2900000.0       33.16  2018-05-23T00:00:00      1   \n",
       "9            18   5400000.0       61.00  2017-02-26T00:00:00      3   \n",
       "\n",
       "   ceiling_height  floors_total  living_area  floor is_apartment  ...  \\\n",
       "0            2.70          16.0        51.00      8          NaN  ...   \n",
       "1             NaN          11.0        18.60      1          NaN  ...   \n",
       "2             NaN           5.0        34.30      4          NaN  ...   \n",
       "3             NaN          14.0          NaN      9          NaN  ...   \n",
       "4            3.03          14.0        32.00     13          NaN  ...   \n",
       "5             NaN          12.0        14.40      5          NaN  ...   \n",
       "6             NaN          26.0        10.60      6          NaN  ...   \n",
       "7             NaN          24.0          NaN     22          NaN  ...   \n",
       "8             NaN          27.0        15.43     26          NaN  ...   \n",
       "9            2.50           9.0        43.60      7          NaN  ...   \n",
       "\n",
       "   kitchen_area  balcony              locality_name  airports_nearest  \\\n",
       "0         25.00      NaN            Санкт-Петербург           18863.0   \n",
       "1         11.00      2.0             посёлок Шушары           12817.0   \n",
       "2          8.30      0.0            Санкт-Петербург           21741.0   \n",
       "3           NaN      0.0            Санкт-Петербург           28098.0   \n",
       "4         41.00      NaN            Санкт-Петербург           31856.0   \n",
       "5          9.10      NaN  городской посёлок Янино-1               NaN   \n",
       "6         14.40      1.0          посёлок Парголово           52996.0   \n",
       "7         18.90      2.0            Санкт-Петербург           23982.0   \n",
       "8          8.81      NaN             посёлок Мурино               NaN   \n",
       "9          6.50      2.0            Санкт-Петербург           50898.0   \n",
       "\n",
       "  cityCenters_nearest  parks_around3000  parks_nearest  ponds_around3000  \\\n",
       "0             16028.0               1.0          482.0               2.0   \n",
       "1             18603.0               0.0            NaN               0.0   \n",
       "2             13933.0               1.0           90.0               2.0   \n",
       "3              6800.0               2.0           84.0               3.0   \n",
       "4              8098.0               2.0          112.0               1.0   \n",
       "5                 NaN               NaN            NaN               NaN   \n",
       "6             19143.0               0.0            NaN               0.0   \n",
       "7             11634.0               0.0            NaN               0.0   \n",
       "8                 NaN               NaN            NaN               NaN   \n",
       "9             15008.0               0.0            NaN               0.0   \n",
       "\n",
       "   ponds_nearest  days_exposition  \n",
       "0          755.0              NaN  \n",
       "1            NaN             81.0  \n",
       "2          574.0            558.0  \n",
       "3          234.0            424.0  \n",
       "4           48.0            121.0  \n",
       "5            NaN             55.0  \n",
       "6            NaN            155.0  \n",
       "7            NaN              NaN  \n",
       "8            NaN            189.0  \n",
       "9            NaN            289.0  \n",
       "\n",
       "[10 rows x 22 columns]"
      ]
     },
     "metadata": {},
     "output_type": "display_data"
    },
    {
     "name": "stdout",
     "output_type": "stream",
     "text": [
      "<class 'pandas.core.frame.DataFrame'>\n",
      "RangeIndex: 23699 entries, 0 to 23698\n",
      "Data columns (total 22 columns):\n",
      " #   Column                Non-Null Count  Dtype  \n",
      "---  ------                --------------  -----  \n",
      " 0   total_images          23699 non-null  int64  \n",
      " 1   last_price            23699 non-null  float64\n",
      " 2   total_area            23699 non-null  float64\n",
      " 3   first_day_exposition  23699 non-null  object \n",
      " 4   rooms                 23699 non-null  int64  \n",
      " 5   ceiling_height        14504 non-null  float64\n",
      " 6   floors_total          23613 non-null  float64\n",
      " 7   living_area           21796 non-null  float64\n",
      " 8   floor                 23699 non-null  int64  \n",
      " 9   is_apartment          2775 non-null   object \n",
      " 10  studio                23699 non-null  bool   \n",
      " 11  open_plan             23699 non-null  bool   \n",
      " 12  kitchen_area          21421 non-null  float64\n",
      " 13  balcony               12180 non-null  float64\n",
      " 14  locality_name         23650 non-null  object \n",
      " 15  airports_nearest      18157 non-null  float64\n",
      " 16  cityCenters_nearest   18180 non-null  float64\n",
      " 17  parks_around3000      18181 non-null  float64\n",
      " 18  parks_nearest         8079 non-null   float64\n",
      " 19  ponds_around3000      18181 non-null  float64\n",
      " 20  ponds_nearest         9110 non-null   float64\n",
      " 21  days_exposition       20518 non-null  float64\n",
      "dtypes: bool(2), float64(14), int64(3), object(3)\n",
      "memory usage: 3.7+ MB\n"
     ]
    }
   ],
   "source": [
    "r_estate = pd.read_csv('/Users/bogda/anaconda3/projects/praktikum/project3_ real_estate/real_estate_data.csv', sep='\\t')\n",
    "display(r_estate.head(10))\n",
    "r_estate.info()"
   ]
  },
  {
   "cell_type": "markdown",
   "metadata": {},
   "source": [
    "**Посмотрим уникальные значения**"
   ]
  },
  {
   "cell_type": "code",
   "execution_count": 3,
   "metadata": {},
   "outputs": [
    {
     "data": {
      "text/plain": [
       "array([20,  7, 10,  0,  2,  6,  5, 18,  9,  1, 16, 11,  8, 12, 13,  3, 15,\n",
       "       17, 14, 19, 32,  4, 35, 39, 23, 21, 27, 30, 24, 25, 28, 31, 22, 29,\n",
       "       26, 50, 42, 37], dtype=int64)"
      ]
     },
     "execution_count": 3,
     "metadata": {},
     "output_type": "execute_result"
    }
   ],
   "source": [
    "r_estate['total_images'].unique()"
   ]
  },
  {
   "cell_type": "code",
   "execution_count": 4,
   "metadata": {},
   "outputs": [
    {
     "data": {
      "text/plain": [
       "array([13000000.,  3350000.,  5196000., ...,  6151120., 21400000.,\n",
       "       11475000.])"
      ]
     },
     "execution_count": 4,
     "metadata": {},
     "output_type": "execute_result"
    }
   ],
   "source": [
    "r_estate['last_price'].unique()"
   ]
  },
  {
   "cell_type": "markdown",
   "metadata": {},
   "source": [
    "**Возьмем десять минимальных**"
   ]
  },
  {
   "cell_type": "code",
   "execution_count": 5,
   "metadata": {},
   "outputs": [
    {
     "data": {
      "text/plain": [
       "8793      12190.0\n",
       "14911    430000.0\n",
       "17456    430000.0\n",
       "16274    440000.0\n",
       "5698     450000.0\n",
       "9581     450000.0\n",
       "16219    450000.0\n",
       "17676    450000.0\n",
       "18867    470000.0\n",
       "21912    470000.0\n",
       "Name: last_price, dtype: float64"
      ]
     },
     "execution_count": 5,
     "metadata": {},
     "output_type": "execute_result"
    }
   ],
   "source": [
    "r_estate['last_price'].nsmallest(10)"
   ]
  },
  {
   "cell_type": "markdown",
   "metadata": {},
   "source": [
    " **Проверим подозрительно минимальные**"
   ]
  },
  {
   "cell_type": "code",
   "execution_count": 6,
   "metadata": {},
   "outputs": [
    {
     "data": {
      "text/plain": [
       "total_images                              7\n",
       "last_price                          12190.0\n",
       "total_area                            109.0\n",
       "first_day_exposition    2019-03-20T00:00:00\n",
       "rooms                                     2\n",
       "ceiling_height                         2.75\n",
       "floors_total                           25.0\n",
       "living_area                            32.0\n",
       "floor                                    25\n",
       "is_apartment                            NaN\n",
       "studio                                False\n",
       "open_plan                             False\n",
       "kitchen_area                           40.5\n",
       "balcony                                 NaN\n",
       "locality_name               Санкт-Петербург\n",
       "airports_nearest                    36421.0\n",
       "cityCenters_nearest                  9176.0\n",
       "parks_around3000                        1.0\n",
       "parks_nearest                         805.0\n",
       "ponds_around3000                        0.0\n",
       "ponds_nearest                           NaN\n",
       "days_exposition                         8.0\n",
       "Name: 8793, dtype: object"
      ]
     },
     "execution_count": 6,
     "metadata": {},
     "output_type": "execute_result"
    }
   ],
   "source": [
    "r_estate.loc[8793]"
   ]
  },
  {
   "cell_type": "code",
   "execution_count": 7,
   "metadata": {},
   "outputs": [
    {
     "data": {
      "text/plain": [
       "total_images                                5\n",
       "last_price                           430000.0\n",
       "total_area                               54.0\n",
       "first_day_exposition      2018-06-26T00:00:00\n",
       "rooms                                       2\n",
       "ceiling_height                            NaN\n",
       "floors_total                              3.0\n",
       "living_area                               NaN\n",
       "floor                                       3\n",
       "is_apartment                              NaN\n",
       "studio                                  False\n",
       "open_plan                               False\n",
       "kitchen_area                              NaN\n",
       "balcony                                   NaN\n",
       "locality_name           посёлок станции Свирь\n",
       "airports_nearest                          NaN\n",
       "cityCenters_nearest                       NaN\n",
       "parks_around3000                          NaN\n",
       "parks_nearest                             NaN\n",
       "ponds_around3000                          NaN\n",
       "ponds_nearest                             NaN\n",
       "days_exposition                          44.0\n",
       "Name: 14911, dtype: object"
      ]
     },
     "execution_count": 7,
     "metadata": {},
     "output_type": "execute_result"
    }
   ],
   "source": [
    "r_estate.loc[14911]"
   ]
  },
  {
   "cell_type": "code",
   "execution_count": 8,
   "metadata": {},
   "outputs": [
    {
     "data": {
      "text/plain": [
       "total_images                              7\n",
       "last_price                         430000.0\n",
       "total_area                             30.4\n",
       "first_day_exposition    2019-04-22T00:00:00\n",
       "rooms                                     1\n",
       "ceiling_height                          NaN\n",
       "floors_total                            2.0\n",
       "living_area                            16.0\n",
       "floor                                     1\n",
       "is_apartment                            NaN\n",
       "studio                                False\n",
       "open_plan                             False\n",
       "kitchen_area                            6.0\n",
       "balcony                                 NaN\n",
       "locality_name                        Сланцы\n",
       "airports_nearest                        NaN\n",
       "cityCenters_nearest                     NaN\n",
       "parks_around3000                        NaN\n",
       "parks_nearest                           NaN\n",
       "ponds_around3000                        NaN\n",
       "ponds_nearest                           NaN\n",
       "days_exposition                         NaN\n",
       "Name: 17456, dtype: object"
      ]
     },
     "execution_count": 8,
     "metadata": {},
     "output_type": "execute_result"
    }
   ],
   "source": [
    "r_estate.loc[17456]"
   ]
  },
  {
   "cell_type": "markdown",
   "metadata": {},
   "source": [
    " **Посмотрим десять максимальных**"
   ]
  },
  {
   "cell_type": "code",
   "execution_count": 9,
   "metadata": {},
   "outputs": [
    {
     "data": {
      "text/plain": [
       "12971    763000000.0\n",
       "19540    420000000.0\n",
       "14706    401300000.0\n",
       "1436     330000000.0\n",
       "15651    300000000.0\n",
       "22831    289238400.0\n",
       "16461    245000000.0\n",
       "13749    240000000.0\n",
       "5893     230000000.0\n",
       "8900     190870000.0\n",
       "Name: last_price, dtype: float64"
      ]
     },
     "execution_count": 9,
     "metadata": {},
     "output_type": "execute_result"
    }
   ],
   "source": [
    "r_estate['last_price'].nlargest(10)"
   ]
  },
  {
   "cell_type": "markdown",
   "metadata": {},
   "source": [
    "**Проверим подозрительно максимальное**"
   ]
  },
  {
   "cell_type": "code",
   "execution_count": 10,
   "metadata": {},
   "outputs": [
    {
     "data": {
      "text/plain": [
       "total_images                             19\n",
       "last_price                      763000000.0\n",
       "total_area                            400.0\n",
       "first_day_exposition    2017-09-30T00:00:00\n",
       "rooms                                     7\n",
       "ceiling_height                          NaN\n",
       "floors_total                           10.0\n",
       "living_area                           250.0\n",
       "floor                                    10\n",
       "is_apartment                            NaN\n",
       "studio                                False\n",
       "open_plan                             False\n",
       "kitchen_area                            NaN\n",
       "balcony                                 2.0\n",
       "locality_name               Санкт-Петербург\n",
       "airports_nearest                    25108.0\n",
       "cityCenters_nearest                  3956.0\n",
       "parks_around3000                        1.0\n",
       "parks_nearest                         530.0\n",
       "ponds_around3000                        3.0\n",
       "ponds_nearest                         756.0\n",
       "days_exposition                        33.0\n",
       "Name: 12971, dtype: object"
      ]
     },
     "execution_count": 10,
     "metadata": {},
     "output_type": "execute_result"
    }
   ],
   "source": [
    "r_estate.loc[12971]"
   ]
  },
  {
   "cell_type": "code",
   "execution_count": 11,
   "metadata": {},
   "outputs": [
    {
     "data": {
      "text/plain": [
       "total_images                              8\n",
       "last_price                      420000000.0\n",
       "total_area                            900.0\n",
       "first_day_exposition    2017-12-06T00:00:00\n",
       "rooms                                    12\n",
       "ceiling_height                          2.8\n",
       "floors_total                           25.0\n",
       "living_area                           409.7\n",
       "floor                                    25\n",
       "is_apartment                            NaN\n",
       "studio                                False\n",
       "open_plan                             False\n",
       "kitchen_area                          112.0\n",
       "balcony                                 NaN\n",
       "locality_name               Санкт-Петербург\n",
       "airports_nearest                    30706.0\n",
       "cityCenters_nearest                  7877.0\n",
       "parks_around3000                        0.0\n",
       "parks_nearest                           NaN\n",
       "ponds_around3000                        2.0\n",
       "ponds_nearest                         318.0\n",
       "days_exposition                       106.0\n",
       "Name: 19540, dtype: object"
      ]
     },
     "execution_count": 11,
     "metadata": {},
     "output_type": "execute_result"
    }
   ],
   "source": [
    "r_estate.loc[19540]"
   ]
  },
  {
   "cell_type": "code",
   "execution_count": 12,
   "metadata": {},
   "outputs": [
    {
     "data": {
      "text/plain": [
       "total_images                             15\n",
       "last_price                      401300000.0\n",
       "total_area                            401.0\n",
       "first_day_exposition    2016-02-20T00:00:00\n",
       "rooms                                     5\n",
       "ceiling_height                          NaN\n",
       "floors_total                            9.0\n",
       "living_area                           204.0\n",
       "floor                                     9\n",
       "is_apartment                          False\n",
       "studio                                False\n",
       "open_plan                             False\n",
       "kitchen_area                           24.0\n",
       "balcony                                 3.0\n",
       "locality_name               Санкт-Петербург\n",
       "airports_nearest                    21912.0\n",
       "cityCenters_nearest                  2389.0\n",
       "parks_around3000                        1.0\n",
       "parks_nearest                         545.0\n",
       "ponds_around3000                        1.0\n",
       "ponds_nearest                         478.0\n",
       "days_exposition                       393.0\n",
       "Name: 14706, dtype: object"
      ]
     },
     "execution_count": 12,
     "metadata": {},
     "output_type": "execute_result"
    }
   ],
   "source": [
    "r_estate.loc[14706]"
   ]
  },
  {
   "cell_type": "code",
   "execution_count": 13,
   "metadata": {},
   "outputs": [
    {
     "data": {
      "text/plain": [
       "total_images                             13\n",
       "last_price                      190870000.0\n",
       "total_area                            268.0\n",
       "first_day_exposition    2016-03-25T00:00:00\n",
       "rooms                                     3\n",
       "ceiling_height                          NaN\n",
       "floors_total                            8.0\n",
       "living_area                           132.0\n",
       "floor                                     7\n",
       "is_apartment                            NaN\n",
       "studio                                False\n",
       "open_plan                             False\n",
       "kitchen_area                           40.0\n",
       "balcony                                 NaN\n",
       "locality_name               Санкт-Петербург\n",
       "airports_nearest                    32440.0\n",
       "cityCenters_nearest                  5297.0\n",
       "parks_around3000                        0.0\n",
       "parks_nearest                           NaN\n",
       "ponds_around3000                        2.0\n",
       "ponds_nearest                         198.0\n",
       "days_exposition                       901.0\n",
       "Name: 8900, dtype: object"
      ]
     },
     "execution_count": 13,
     "metadata": {},
     "output_type": "execute_result"
    }
   ],
   "source": [
    "r_estate.loc[8900]"
   ]
  },
  {
   "cell_type": "markdown",
   "metadata": {},
   "source": [
    " **Посмотрим уникальные значения**"
   ]
  },
  {
   "cell_type": "code",
   "execution_count": 14,
   "metadata": {},
   "outputs": [
    {
     "data": {
      "text/plain": [
       "array([108.  ,  40.4 ,  56.  , ...,  66.86, 133.81,  76.75])"
      ]
     },
     "execution_count": 14,
     "metadata": {},
     "output_type": "execute_result"
    }
   ],
   "source": [
    "r_estate['total_area'].unique() "
   ]
  },
  {
   "cell_type": "markdown",
   "metadata": {},
   "source": [
    "**Изучим минимальные**"
   ]
  },
  {
   "cell_type": "code",
   "execution_count": 15,
   "metadata": {},
   "outputs": [
    {
     "data": {
      "text/plain": [
       "19904    12.0\n",
       "17961    13.0\n",
       "19546    13.0\n",
       "19807    13.0\n",
       "19558    13.2\n",
       "19642    14.0\n",
       "12040    15.0\n",
       "16949    15.0\n",
       "8886     15.5\n",
       "9412     16.0\n",
       "Name: total_area, dtype: float64"
      ]
     },
     "execution_count": 15,
     "metadata": {},
     "output_type": "execute_result"
    }
   ],
   "source": [
    "r_estate['total_area'].nsmallest(10)"
   ]
  },
  {
   "cell_type": "code",
   "execution_count": 16,
   "metadata": {},
   "outputs": [
    {
     "data": {
      "text/plain": [
       "total_images                              4\n",
       "last_price                        2400000.0\n",
       "total_area                             12.0\n",
       "first_day_exposition    2017-07-19T00:00:00\n",
       "rooms                                     1\n",
       "ceiling_height                         2.55\n",
       "floors_total                            5.0\n",
       "living_area                            10.0\n",
       "floor                                     2\n",
       "is_apartment                            NaN\n",
       "studio                                False\n",
       "open_plan                             False\n",
       "kitchen_area                            NaN\n",
       "balcony                                 NaN\n",
       "locality_name               Санкт-Петербург\n",
       "airports_nearest                    21314.0\n",
       "cityCenters_nearest                   964.0\n",
       "parks_around3000                        1.0\n",
       "parks_nearest                         886.0\n",
       "ponds_around3000                        2.0\n",
       "ponds_nearest                          45.0\n",
       "days_exposition                       200.0\n",
       "Name: 19904, dtype: object"
      ]
     },
     "execution_count": 16,
     "metadata": {},
     "output_type": "execute_result"
    }
   ],
   "source": [
    "r_estate.loc[19904]"
   ]
  },
  {
   "cell_type": "code",
   "execution_count": 17,
   "metadata": {},
   "outputs": [
    {
     "data": {
      "text/plain": [
       "total_images                              2\n",
       "last_price                        1686000.0\n",
       "total_area                             13.2\n",
       "first_day_exposition    2018-12-17T00:00:00\n",
       "rooms                                     1\n",
       "ceiling_height                          NaN\n",
       "floors_total                            5.0\n",
       "living_area                             NaN\n",
       "floor                                     1\n",
       "is_apartment                            NaN\n",
       "studio                                False\n",
       "open_plan                             False\n",
       "kitchen_area                            NaN\n",
       "balcony                                 NaN\n",
       "locality_name               Санкт-Петербург\n",
       "airports_nearest                    19891.0\n",
       "cityCenters_nearest                  4165.0\n",
       "parks_around3000                        1.0\n",
       "parks_nearest                         361.0\n",
       "ponds_around3000                        1.0\n",
       "ponds_nearest                         155.0\n",
       "days_exposition                        19.0\n",
       "Name: 19558, dtype: object"
      ]
     },
     "execution_count": 17,
     "metadata": {},
     "output_type": "execute_result"
    }
   ],
   "source": [
    "r_estate.loc[19558]"
   ]
  },
  {
   "cell_type": "code",
   "execution_count": 18,
   "metadata": {},
   "outputs": [
    {
     "data": {
      "text/plain": [
       "total_images                              5\n",
       "last_price                        2100000.0\n",
       "total_area                             16.0\n",
       "first_day_exposition    2017-12-10T00:00:00\n",
       "rooms                                     0\n",
       "ceiling_height                          NaN\n",
       "floors_total                            6.0\n",
       "living_area                            13.0\n",
       "floor                                     1\n",
       "is_apartment                            NaN\n",
       "studio                                False\n",
       "open_plan                              True\n",
       "kitchen_area                            NaN\n",
       "balcony                                 NaN\n",
       "locality_name               Санкт-Петербург\n",
       "airports_nearest                    20735.0\n",
       "cityCenters_nearest                  2111.0\n",
       "parks_around3000                        2.0\n",
       "parks_nearest                         228.0\n",
       "ponds_around3000                        3.0\n",
       "ponds_nearest                          72.0\n",
       "days_exposition                         3.0\n",
       "Name: 9412, dtype: object"
      ]
     },
     "execution_count": 18,
     "metadata": {},
     "output_type": "execute_result"
    }
   ],
   "source": [
    "r_estate.loc[9412]"
   ]
  },
  {
   "cell_type": "markdown",
   "metadata": {},
   "source": [
    "**Посчитаем объекты площадью меньше 20м.кв. для оценки их влияния в случае удаления, влияние минимально можно удалить**"
   ]
  },
  {
   "cell_type": "code",
   "execution_count": 19,
   "metadata": {},
   "outputs": [
    {
     "data": {
      "text/plain": [
       "27"
      ]
     },
     "execution_count": 19,
     "metadata": {},
     "output_type": "execute_result"
    }
   ],
   "source": [
    "r_estate.query('total_area < 20')['total_area'].count()"
   ]
  },
  {
   "cell_type": "markdown",
   "metadata": {},
   "source": [
    "***Изучим максимальные значения*"
   ]
  },
  {
   "cell_type": "code",
   "execution_count": 20,
   "metadata": {},
   "outputs": [
    {
     "data": {
      "text/plain": [
       "19540    900.0\n",
       "12859    631.2\n",
       "3117     631.0\n",
       "15651    618.0\n",
       "5358     590.0\n",
       "4237     517.0\n",
       "8018     507.0\n",
       "5893     500.0\n",
       "15016    500.0\n",
       "12401    495.0\n",
       "Name: total_area, dtype: float64"
      ]
     },
     "execution_count": 20,
     "metadata": {},
     "output_type": "execute_result"
    }
   ],
   "source": [
    "r_estate['total_area'].nlargest(10)"
   ]
  },
  {
   "cell_type": "code",
   "execution_count": 21,
   "metadata": {},
   "outputs": [
    {
     "data": {
      "text/plain": [
       "total_images                              8\n",
       "last_price                      420000000.0\n",
       "total_area                            900.0\n",
       "first_day_exposition    2017-12-06T00:00:00\n",
       "rooms                                    12\n",
       "ceiling_height                          2.8\n",
       "floors_total                           25.0\n",
       "living_area                           409.7\n",
       "floor                                    25\n",
       "is_apartment                            NaN\n",
       "studio                                False\n",
       "open_plan                             False\n",
       "kitchen_area                          112.0\n",
       "balcony                                 NaN\n",
       "locality_name               Санкт-Петербург\n",
       "airports_nearest                    30706.0\n",
       "cityCenters_nearest                  7877.0\n",
       "parks_around3000                        0.0\n",
       "parks_nearest                           NaN\n",
       "ponds_around3000                        2.0\n",
       "ponds_nearest                         318.0\n",
       "days_exposition                       106.0\n",
       "Name: 19540, dtype: object"
      ]
     },
     "execution_count": 21,
     "metadata": {},
     "output_type": "execute_result"
    }
   ],
   "source": [
    "r_estate.loc[19540]"
   ]
  },
  {
   "cell_type": "code",
   "execution_count": 22,
   "metadata": {},
   "outputs": [
    {
     "data": {
      "text/plain": [
       "total_images                             20\n",
       "last_price                      140000000.0\n",
       "total_area                            631.2\n",
       "first_day_exposition    2019-04-09T00:00:00\n",
       "rooms                                     7\n",
       "ceiling_height                          3.9\n",
       "floors_total                            4.0\n",
       "living_area                           322.3\n",
       "floor                                     4\n",
       "is_apartment                            NaN\n",
       "studio                                False\n",
       "open_plan                             False\n",
       "kitchen_area                           19.5\n",
       "balcony                                 1.0\n",
       "locality_name               Санкт-Петербург\n",
       "airports_nearest                    25707.0\n",
       "cityCenters_nearest                  4972.0\n",
       "parks_around3000                        0.0\n",
       "parks_nearest                           NaN\n",
       "ponds_around3000                        2.0\n",
       "ponds_nearest                         210.0\n",
       "days_exposition                         NaN\n",
       "Name: 12859, dtype: object"
      ]
     },
     "execution_count": 22,
     "metadata": {},
     "output_type": "execute_result"
    }
   ],
   "source": [
    "r_estate.loc[12859]"
   ]
  },
  {
   "cell_type": "code",
   "execution_count": 23,
   "metadata": {},
   "outputs": [
    {
     "data": {
      "text/plain": [
       "total_images                             19\n",
       "last_price                      140000000.0\n",
       "total_area                            631.0\n",
       "first_day_exposition    2019-03-30T00:00:00\n",
       "rooms                                     7\n",
       "ceiling_height                          NaN\n",
       "floors_total                            5.0\n",
       "living_area                             NaN\n",
       "floor                                     5\n",
       "is_apartment                            NaN\n",
       "studio                                False\n",
       "open_plan                             False\n",
       "kitchen_area                           60.0\n",
       "balcony                                 NaN\n",
       "locality_name               Санкт-Петербург\n",
       "airports_nearest                    25707.0\n",
       "cityCenters_nearest                  4972.0\n",
       "parks_around3000                        0.0\n",
       "parks_nearest                           NaN\n",
       "ponds_around3000                        2.0\n",
       "ponds_nearest                         210.0\n",
       "days_exposition                         NaN\n",
       "Name: 3117, dtype: object"
      ]
     },
     "execution_count": 23,
     "metadata": {},
     "output_type": "execute_result"
    }
   ],
   "source": [
    "r_estate.loc[3117]"
   ]
  },
  {
   "cell_type": "markdown",
   "metadata": {},
   "source": [
    "**При изучении уникальных значений обнаружены нулевые**"
   ]
  },
  {
   "cell_type": "code",
   "execution_count": 24,
   "metadata": {},
   "outputs": [
    {
     "data": {
      "text/plain": [
       "array([ 3,  1,  2,  4,  5,  6,  0,  7, 11,  8, 14, 10, 15,  9, 19, 16, 12],\n",
       "      dtype=int64)"
      ]
     },
     "execution_count": 24,
     "metadata": {},
     "output_type": "execute_result"
    }
   ],
   "source": [
    "r_estate['rooms'].unique()"
   ]
  },
  {
   "cell_type": "markdown",
   "metadata": {},
   "source": [
    "**Изучим минимальные**"
   ]
  },
  {
   "cell_type": "code",
   "execution_count": 25,
   "metadata": {},
   "outputs": [
    {
     "data": {
      "text/plain": [
       "144    0\n",
       "349    0\n",
       "440    0\n",
       "508    0\n",
       "608    0\n",
       "697    0\n",
       "716    0\n",
       "780    0\n",
       "839    0\n",
       "946    0\n",
       "Name: rooms, dtype: int64"
      ]
     },
     "execution_count": 25,
     "metadata": {},
     "output_type": "execute_result"
    }
   ],
   "source": [
    "r_estate['rooms'].nsmallest(10)"
   ]
  },
  {
   "cell_type": "markdown",
   "metadata": {},
   "source": [
    " **Посчитаем количество нулевых комнат**"
   ]
  },
  {
   "cell_type": "code",
   "execution_count": 26,
   "metadata": {},
   "outputs": [
    {
     "data": {
      "text/plain": [
       "197"
      ]
     },
     "execution_count": 26,
     "metadata": {},
     "output_type": "execute_result"
    }
   ],
   "source": [
    "r_estate.query('rooms == 0')['rooms'].count()"
   ]
  },
  {
   "cell_type": "code",
   "execution_count": 27,
   "metadata": {},
   "outputs": [
    {
     "data": {
      "text/plain": [
       "total_images                              1\n",
       "last_price                        2450000.0\n",
       "total_area                             27.0\n",
       "first_day_exposition    2017-03-30T00:00:00\n",
       "rooms                                     0\n",
       "ceiling_height                          NaN\n",
       "floors_total                           24.0\n",
       "living_area                            15.5\n",
       "floor                                     2\n",
       "is_apartment                            NaN\n",
       "studio                                 True\n",
       "open_plan                             False\n",
       "kitchen_area                            NaN\n",
       "balcony                                 2.0\n",
       "locality_name                посёлок Мурино\n",
       "airports_nearest                        NaN\n",
       "cityCenters_nearest                     NaN\n",
       "parks_around3000                        NaN\n",
       "parks_nearest                           NaN\n",
       "ponds_around3000                        NaN\n",
       "ponds_nearest                           NaN\n",
       "days_exposition                       181.0\n",
       "Name: 144, dtype: object"
      ]
     },
     "execution_count": 27,
     "metadata": {},
     "output_type": "execute_result"
    }
   ],
   "source": [
    "r_estate.loc[144]"
   ]
  },
  {
   "cell_type": "code",
   "execution_count": 28,
   "metadata": {},
   "outputs": [
    {
     "data": {
      "text/plain": [
       "total_images                              4\n",
       "last_price                        2320000.0\n",
       "total_area                             25.0\n",
       "first_day_exposition    2017-09-27T00:00:00\n",
       "rooms                                     0\n",
       "ceiling_height                          NaN\n",
       "floors_total                           14.0\n",
       "living_area                            17.0\n",
       "floor                                     1\n",
       "is_apartment                            NaN\n",
       "studio                                False\n",
       "open_plan                              True\n",
       "kitchen_area                            NaN\n",
       "balcony                                 0.0\n",
       "locality_name               деревня Кудрово\n",
       "airports_nearest                        NaN\n",
       "cityCenters_nearest                     NaN\n",
       "parks_around3000                        NaN\n",
       "parks_nearest                           NaN\n",
       "ponds_around3000                        NaN\n",
       "ponds_nearest                           NaN\n",
       "days_exposition                        45.0\n",
       "Name: 349, dtype: object"
      ]
     },
     "execution_count": 28,
     "metadata": {},
     "output_type": "execute_result"
    }
   ],
   "source": [
    "r_estate.loc[349]"
   ]
  },
  {
   "cell_type": "code",
   "execution_count": 29,
   "metadata": {},
   "outputs": [
    {
     "data": {
      "text/plain": [
       "total_images                              8\n",
       "last_price                        2480000.0\n",
       "total_area                            27.11\n",
       "first_day_exposition    2018-03-12T00:00:00\n",
       "rooms                                     0\n",
       "ceiling_height                          NaN\n",
       "floors_total                           17.0\n",
       "living_area                           24.75\n",
       "floor                                     4\n",
       "is_apartment                            NaN\n",
       "studio                                 True\n",
       "open_plan                             False\n",
       "kitchen_area                            NaN\n",
       "balcony                                 2.0\n",
       "locality_name               Санкт-Петербург\n",
       "airports_nearest                    38171.0\n",
       "cityCenters_nearest                 15015.0\n",
       "parks_around3000                        0.0\n",
       "parks_nearest                           NaN\n",
       "ponds_around3000                        2.0\n",
       "ponds_nearest                         982.0\n",
       "days_exposition                        64.0\n",
       "Name: 440, dtype: object"
      ]
     },
     "execution_count": 29,
     "metadata": {},
     "output_type": "execute_result"
    }
   ],
   "source": [
    "r_estate.loc[440]"
   ]
  },
  {
   "cell_type": "code",
   "execution_count": 30,
   "metadata": {},
   "outputs": [
    {
     "data": {
      "text/plain": [
       "197"
      ]
     },
     "execution_count": 30,
     "metadata": {},
     "output_type": "execute_result"
    }
   ],
   "source": [
    "r_estate.query('((studio == True) | (open_plan == True)) & (rooms == 0)')['rooms'].count() "
   ]
  },
  {
   "cell_type": "markdown",
   "metadata": {},
   "source": [
    "###### Вывод - предположим что это квартиры студии или с открытой планировкой"
   ]
  },
  {
   "cell_type": "markdown",
   "metadata": {},
   "source": [
    "**Изучим крайние значения**"
   ]
  },
  {
   "cell_type": "code",
   "execution_count": 31,
   "metadata": {},
   "outputs": [
    {
     "data": {
      "text/plain": [
       "14498    19\n",
       "18848    16\n",
       "5358     15\n",
       "866      14\n",
       "20829    14\n",
       "19540    12\n",
       "648      11\n",
       "9688     11\n",
       "4149     10\n",
       "18119    10\n",
       "Name: rooms, dtype: int64"
      ]
     },
     "execution_count": 31,
     "metadata": {},
     "output_type": "execute_result"
    }
   ],
   "source": [
    "r_estate['rooms'].nlargest(10)"
   ]
  },
  {
   "cell_type": "code",
   "execution_count": 32,
   "metadata": {},
   "outputs": [
    {
     "data": {
      "text/plain": [
       "total_images                              6\n",
       "last_price                       32250000.0\n",
       "total_area                            374.6\n",
       "first_day_exposition    2018-06-09T00:00:00\n",
       "rooms                                    19\n",
       "ceiling_height                          NaN\n",
       "floors_total                            5.0\n",
       "living_area                           264.5\n",
       "floor                                     2\n",
       "is_apartment                            NaN\n",
       "studio                                False\n",
       "open_plan                             False\n",
       "kitchen_area                           27.6\n",
       "balcony                                 NaN\n",
       "locality_name               Санкт-Петербург\n",
       "airports_nearest                    19497.0\n",
       "cityCenters_nearest                  3574.0\n",
       "parks_around3000                        0.0\n",
       "parks_nearest                           NaN\n",
       "ponds_around3000                        2.0\n",
       "ponds_nearest                         548.0\n",
       "days_exposition                       114.0\n",
       "Name: 14498, dtype: object"
      ]
     },
     "execution_count": 32,
     "metadata": {},
     "output_type": "execute_result"
    }
   ],
   "source": [
    "r_estate.loc[14498]"
   ]
  },
  {
   "cell_type": "code",
   "execution_count": 33,
   "metadata": {},
   "outputs": [
    {
     "data": {
      "text/plain": [
       "total_images                              6\n",
       "last_price                       28500000.0\n",
       "total_area                            270.0\n",
       "first_day_exposition    2015-03-02T00:00:00\n",
       "rooms                                    16\n",
       "ceiling_height                          3.0\n",
       "floors_total                            4.0\n",
       "living_area                           180.0\n",
       "floor                                     4\n",
       "is_apartment                            NaN\n",
       "studio                                False\n",
       "open_plan                             False\n",
       "kitchen_area                           13.0\n",
       "balcony                                 1.0\n",
       "locality_name               Санкт-Петербург\n",
       "airports_nearest                    23575.0\n",
       "cityCenters_nearest                  4142.0\n",
       "parks_around3000                        1.0\n",
       "parks_nearest                         516.0\n",
       "ponds_around3000                        0.0\n",
       "ponds_nearest                           NaN\n",
       "days_exposition                      1365.0\n",
       "Name: 18848, dtype: object"
      ]
     },
     "execution_count": 33,
     "metadata": {},
     "output_type": "execute_result"
    }
   ],
   "source": [
    "r_estate.loc[18848]"
   ]
  },
  {
   "cell_type": "code",
   "execution_count": 34,
   "metadata": {},
   "outputs": [
    {
     "data": {
      "text/plain": [
       "total_images                             20\n",
       "last_price                       65000000.0\n",
       "total_area                            590.0\n",
       "first_day_exposition    2019-02-14T00:00:00\n",
       "rooms                                    15\n",
       "ceiling_height                          3.5\n",
       "floors_total                            6.0\n",
       "living_area                           409.0\n",
       "floor                                     3\n",
       "is_apartment                            NaN\n",
       "studio                                False\n",
       "open_plan                             False\n",
       "kitchen_area                          100.0\n",
       "balcony                                 NaN\n",
       "locality_name               Санкт-Петербург\n",
       "airports_nearest                    24447.0\n",
       "cityCenters_nearest                  4666.0\n",
       "parks_around3000                        1.0\n",
       "parks_nearest                         767.0\n",
       "ponds_around3000                        0.0\n",
       "ponds_nearest                           NaN\n",
       "days_exposition                        14.0\n",
       "Name: 5358, dtype: object"
      ]
     },
     "execution_count": 34,
     "metadata": {},
     "output_type": "execute_result"
    }
   ],
   "source": [
    "r_estate.loc[5358]"
   ]
  },
  {
   "cell_type": "code",
   "execution_count": 35,
   "metadata": {},
   "outputs": [
    {
     "data": {
      "text/plain": [
       "1     8047\n",
       "2     7940\n",
       "3     5814\n",
       "4     1180\n",
       "5      326\n",
       "0      197\n",
       "6      105\n",
       "7       59\n",
       "8       12\n",
       "9        8\n",
       "10       3\n",
       "11       2\n",
       "14       2\n",
       "15       1\n",
       "19       1\n",
       "16       1\n",
       "12       1\n",
       "Name: rooms, dtype: int64"
      ]
     },
     "execution_count": 35,
     "metadata": {},
     "output_type": "execute_result"
    }
   ],
   "source": [
    "r_estate['rooms'].value_counts()"
   ]
  },
  {
   "cell_type": "markdown",
   "metadata": {},
   "source": [
    " **Запросим уникальные значения, есть неприемлимые рассмотрим поближе**"
   ]
  },
  {
   "cell_type": "code",
   "execution_count": 36,
   "metadata": {},
   "outputs": [
    {
     "data": {
      "text/plain": [
       "array([  2.7 ,    nan,   3.03,   2.5 ,   2.67,   2.56,   3.05,   2.75,\n",
       "         2.6 ,   2.9 ,   2.8 ,   2.55,   3.  ,   2.65,   3.2 ,   2.61,\n",
       "         3.25,   3.45,   2.77,   2.85,   2.64,   2.57,   4.15,   3.5 ,\n",
       "         3.3 ,   2.71,   4.  ,   2.47,   2.73,   2.84,   3.1 ,   2.34,\n",
       "         3.4 ,   3.06,   2.72,   2.54,   2.51,   2.78,   2.76,  25.  ,\n",
       "         2.58,   3.7 ,   2.52,   5.2 ,   2.87,   2.66,   2.59,   2.  ,\n",
       "         2.45,   3.6 ,   2.92,   3.11,   3.13,   3.8 ,   3.15,   3.55,\n",
       "         3.16,   3.62,   3.12,   2.53,   2.74,   2.96,   2.46,   5.3 ,\n",
       "         5.  ,   2.79,   2.95,   4.06,   2.94,   3.82,   3.54,   3.53,\n",
       "         2.83,   4.7 ,   2.4 ,   3.38,   3.01,   5.6 ,   3.65,   3.9 ,\n",
       "         3.18,   3.35,   2.3 ,   3.57,   2.48,   2.62,   2.82,   3.98,\n",
       "         2.63,   3.83,   3.52,   3.95,   3.75,   2.88,   3.67,   3.87,\n",
       "         3.66,   3.85,   3.86,   4.19,   3.24,   4.8 ,   4.5 ,   4.2 ,\n",
       "         3.36,  32.  ,   3.08,   3.68,   3.07,   3.37,   3.09,   8.  ,\n",
       "         3.26,   3.34,   2.81,   3.44,   2.97,   3.14,   4.37,   2.68,\n",
       "         3.22,   3.27,  27.  ,   4.1 ,   2.93,   3.46,  24.  ,   3.47,\n",
       "         3.33,   3.63,   3.32,  26.  ,   1.2 ,   8.3 ,   2.98,   2.86,\n",
       "         3.17,   4.4 ,   3.28,   3.04,   4.45,   5.5 ,   3.84,   3.23,\n",
       "         3.02,   3.21,   3.43,   3.78,   4.3 ,   3.39,   2.69,   3.31,\n",
       "         4.65,   3.56,   2.2 ,   3.51,   3.93,   3.42,   2.99,   3.49,\n",
       "        14.  ,   4.14,   2.91,   3.88,   1.75,   4.25,   3.29,  20.  ,\n",
       "         2.25,   3.76,   3.69,   6.  ,  22.6 ,   2.89,   3.58,   5.8 ,\n",
       "        27.5 ,   2.49,   4.9 ,   3.48,  10.3 ,   1.  , 100.  ,   3.59])"
      ]
     },
     "execution_count": 36,
     "metadata": {},
     "output_type": "execute_result"
    }
   ],
   "source": [
    "r_estate['ceiling_height'].unique()"
   ]
  },
  {
   "cell_type": "markdown",
   "metadata": {},
   "source": [
    "**Рассмотрим минимальные**"
   ]
  },
  {
   "cell_type": "code",
   "execution_count": 37,
   "metadata": {},
   "outputs": [
    {
     "data": {
      "text/plain": [
       "22590    1.00\n",
       "5712     1.20\n",
       "16934    1.75\n",
       "552      2.00\n",
       "2572     2.00\n",
       "4212     2.00\n",
       "5850     2.00\n",
       "11352    2.00\n",
       "16446    2.00\n",
       "16884    2.00\n",
       "Name: ceiling_height, dtype: float64"
      ]
     },
     "execution_count": 37,
     "metadata": {},
     "output_type": "execute_result"
    }
   ],
   "source": [
    "r_estate['ceiling_height'].nsmallest(10)"
   ]
  },
  {
   "cell_type": "code",
   "execution_count": 38,
   "metadata": {},
   "outputs": [
    {
     "data": {
      "text/plain": [
       "total_images                             16\n",
       "last_price                        6000000.0\n",
       "total_area                             55.0\n",
       "first_day_exposition    2018-10-31T00:00:00\n",
       "rooms                                     2\n",
       "ceiling_height                          1.0\n",
       "floors_total                           12.0\n",
       "living_area                            32.4\n",
       "floor                                     7\n",
       "is_apartment                            NaN\n",
       "studio                                False\n",
       "open_plan                             False\n",
       "kitchen_area                           10.0\n",
       "balcony                                 NaN\n",
       "locality_name               Санкт-Петербург\n",
       "airports_nearest                    33053.0\n",
       "cityCenters_nearest                 14217.0\n",
       "parks_around3000                        2.0\n",
       "parks_nearest                         293.0\n",
       "ponds_around3000                        2.0\n",
       "ponds_nearest                         289.0\n",
       "days_exposition                        13.0\n",
       "Name: 22590, dtype: object"
      ]
     },
     "execution_count": 38,
     "metadata": {},
     "output_type": "execute_result"
    }
   ],
   "source": [
    "r_estate.loc[22590]"
   ]
  },
  {
   "cell_type": "code",
   "execution_count": 39,
   "metadata": {},
   "outputs": [
    {
     "data": {
      "text/plain": [
       "total_images                                5\n",
       "last_price                          1500000.0\n",
       "total_area                               42.8\n",
       "first_day_exposition      2017-08-14T00:00:00\n",
       "rooms                                       2\n",
       "ceiling_height                            1.2\n",
       "floors_total                              2.0\n",
       "living_area                              27.5\n",
       "floor                                       1\n",
       "is_apartment                              NaN\n",
       "studio                                  False\n",
       "open_plan                               False\n",
       "kitchen_area                              5.2\n",
       "balcony                                   NaN\n",
       "locality_name           городской посёлок Мга\n",
       "airports_nearest                          NaN\n",
       "cityCenters_nearest                       NaN\n",
       "parks_around3000                          NaN\n",
       "parks_nearest                             NaN\n",
       "ponds_around3000                          NaN\n",
       "ponds_nearest                             NaN\n",
       "days_exposition                         248.0\n",
       "Name: 5712, dtype: object"
      ]
     },
     "execution_count": 39,
     "metadata": {},
     "output_type": "execute_result"
    }
   ],
   "source": [
    "r_estate.loc[5712]"
   ]
  },
  {
   "cell_type": "code",
   "execution_count": 40,
   "metadata": {},
   "outputs": [
    {
     "data": {
      "text/plain": [
       "total_images                              5\n",
       "last_price                        4100000.0\n",
       "total_area                             40.0\n",
       "first_day_exposition    2017-10-17T00:00:00\n",
       "rooms                                     1\n",
       "ceiling_height                         1.75\n",
       "floors_total                           37.0\n",
       "living_area                            17.4\n",
       "floor                                     5\n",
       "is_apartment                            NaN\n",
       "studio                                False\n",
       "open_plan                             False\n",
       "kitchen_area                           8.34\n",
       "balcony                                 NaN\n",
       "locality_name               Санкт-Петербург\n",
       "airports_nearest                    18732.0\n",
       "cityCenters_nearest                 20444.0\n",
       "parks_around3000                        0.0\n",
       "parks_nearest                           NaN\n",
       "ponds_around3000                        3.0\n",
       "ponds_nearest                          80.0\n",
       "days_exposition                        71.0\n",
       "Name: 16934, dtype: object"
      ]
     },
     "execution_count": 40,
     "metadata": {},
     "output_type": "execute_result"
    }
   ],
   "source": [
    "r_estate.loc[16934]"
   ]
  },
  {
   "cell_type": "markdown",
   "metadata": {},
   "source": [
    "**Изучим максимальные**"
   ]
  },
  {
   "cell_type": "code",
   "execution_count": 41,
   "metadata": {},
   "outputs": [
    {
     "data": {
      "text/plain": [
       "22869    100.0\n",
       "3148      32.0\n",
       "22336     32.0\n",
       "21377     27.5\n",
       "4876      27.0\n",
       "5246      27.0\n",
       "5807      27.0\n",
       "10773     27.0\n",
       "17857     27.0\n",
       "20478     27.0\n",
       "Name: ceiling_height, dtype: float64"
      ]
     },
     "execution_count": 41,
     "metadata": {},
     "output_type": "execute_result"
    }
   ],
   "source": [
    "r_estate['ceiling_height'].nlargest(10)"
   ]
  },
  {
   "cell_type": "code",
   "execution_count": 42,
   "metadata": {},
   "outputs": [
    {
     "data": {
      "text/plain": [
       "total_images                              0\n",
       "last_price                       15000000.0\n",
       "total_area                             25.0\n",
       "first_day_exposition    2018-07-25T00:00:00\n",
       "rooms                                     1\n",
       "ceiling_height                        100.0\n",
       "floors_total                            5.0\n",
       "living_area                            14.0\n",
       "floor                                     5\n",
       "is_apartment                           True\n",
       "studio                                False\n",
       "open_plan                             False\n",
       "kitchen_area                           11.0\n",
       "balcony                                 5.0\n",
       "locality_name               Санкт-Петербург\n",
       "airports_nearest                    34963.0\n",
       "cityCenters_nearest                  8283.0\n",
       "parks_around3000                        1.0\n",
       "parks_nearest                         223.0\n",
       "ponds_around3000                        3.0\n",
       "ponds_nearest                          30.0\n",
       "days_exposition                        19.0\n",
       "Name: 22869, dtype: object"
      ]
     },
     "execution_count": 42,
     "metadata": {},
     "output_type": "execute_result"
    }
   ],
   "source": [
    "r_estate.loc[22869]"
   ]
  },
  {
   "cell_type": "code",
   "execution_count": 43,
   "metadata": {},
   "outputs": [
    {
     "data": {
      "text/plain": [
       "total_images                             14\n",
       "last_price                        2900000.0\n",
       "total_area                             75.0\n",
       "first_day_exposition    2018-11-12T00:00:00\n",
       "rooms                                     3\n",
       "ceiling_height                         32.0\n",
       "floors_total                            3.0\n",
       "living_area                            53.0\n",
       "floor                                     2\n",
       "is_apartment                            NaN\n",
       "studio                                False\n",
       "open_plan                             False\n",
       "kitchen_area                            8.0\n",
       "balcony                                 NaN\n",
       "locality_name                        Волхов\n",
       "airports_nearest                        NaN\n",
       "cityCenters_nearest                     NaN\n",
       "parks_around3000                        NaN\n",
       "parks_nearest                           NaN\n",
       "ponds_around3000                        NaN\n",
       "ponds_nearest                           NaN\n",
       "days_exposition                         NaN\n",
       "Name: 3148, dtype: object"
      ]
     },
     "execution_count": 43,
     "metadata": {},
     "output_type": "execute_result"
    }
   ],
   "source": [
    "r_estate.loc[3148]"
   ]
  },
  {
   "cell_type": "code",
   "execution_count": 44,
   "metadata": {},
   "outputs": [
    {
     "data": {
      "text/plain": [
       "total_images                             19\n",
       "last_price                        9999000.0\n",
       "total_area                             92.4\n",
       "first_day_exposition    2019-04-05T00:00:00\n",
       "rooms                                     2\n",
       "ceiling_height                         32.0\n",
       "floors_total                            6.0\n",
       "living_area                            55.5\n",
       "floor                                     5\n",
       "is_apartment                          False\n",
       "studio                                False\n",
       "open_plan                             False\n",
       "kitchen_area                           16.5\n",
       "balcony                                 4.0\n",
       "locality_name               Санкт-Петербург\n",
       "airports_nearest                    18838.0\n",
       "cityCenters_nearest                  3506.0\n",
       "parks_around3000                        0.0\n",
       "parks_nearest                           NaN\n",
       "ponds_around3000                        3.0\n",
       "ponds_nearest                         511.0\n",
       "days_exposition                         NaN\n",
       "Name: 22336, dtype: object"
      ]
     },
     "execution_count": 44,
     "metadata": {},
     "output_type": "execute_result"
    }
   ],
   "source": [
    "r_estate.loc[22336]"
   ]
  },
  {
   "cell_type": "markdown",
   "metadata": {},
   "source": [
    " **Посчитаем пропущенные значения**"
   ]
  },
  {
   "cell_type": "code",
   "execution_count": 45,
   "metadata": {},
   "outputs": [
    {
     "data": {
      "text/plain": [
       "9195"
      ]
     },
     "execution_count": 45,
     "metadata": {},
     "output_type": "execute_result"
    }
   ],
   "source": [
    "r_estate['ceiling_height'].isna().sum()"
   ]
  },
  {
   "cell_type": "code",
   "execution_count": 46,
   "metadata": {},
   "outputs": [
    {
     "data": {
      "text/plain": [
       "array([16., 11.,  5., 14., 12., 26., 24., 27.,  9.,  6., 17., 25.,  3.,\n",
       "       23., 19., 18.,  4., 22.,  8.,  2., 10.,  7., 13., 15., nan, 20.,\n",
       "       28., 36., 21., 35., 34., 60.,  1., 29., 33., 52., 37.])"
      ]
     },
     "execution_count": 46,
     "metadata": {},
     "output_type": "execute_result"
    }
   ],
   "source": [
    "r_estate['floors_total'].unique() "
   ]
  },
  {
   "cell_type": "code",
   "execution_count": 47,
   "metadata": {},
   "outputs": [
    {
     "data": {
      "text/plain": [
       "86"
      ]
     },
     "execution_count": 47,
     "metadata": {},
     "output_type": "execute_result"
    }
   ],
   "source": [
    "r_estate['floors_total'].isna().sum() "
   ]
  },
  {
   "cell_type": "code",
   "execution_count": 48,
   "metadata": {},
   "outputs": [
    {
     "data": {
      "text/plain": [
       "3076    1.0\n",
       "4379    1.0\n",
       "5300    1.0\n",
       "5698    1.0\n",
       "5787    1.0\n",
       "7962    1.0\n",
       "8335    1.0\n",
       "8388    1.0\n",
       "9517    1.0\n",
       "9752    1.0\n",
       "Name: floors_total, dtype: float64"
      ]
     },
     "execution_count": 48,
     "metadata": {},
     "output_type": "execute_result"
    }
   ],
   "source": [
    "r_estate['floors_total'].nsmallest(10)"
   ]
  },
  {
   "cell_type": "markdown",
   "metadata": {},
   "source": [
    "**Одноэтажные дома прекрасное место для жизни, но скорейй всего это частный сектор, т.е. не предмет исследования.**"
   ]
  },
  {
   "cell_type": "markdown",
   "metadata": {},
   "source": [
    "**Изучим крайнии значения**"
   ]
  },
  {
   "cell_type": "code",
   "execution_count": 49,
   "metadata": {},
   "outputs": [
    {
     "data": {
      "text/plain": [
       "total_images                             20\n",
       "last_price                        2000000.0\n",
       "total_area                             80.0\n",
       "first_day_exposition    2018-01-03T00:00:00\n",
       "rooms                                     3\n",
       "ceiling_height                          NaN\n",
       "floors_total                            1.0\n",
       "living_area                            48.5\n",
       "floor                                     1\n",
       "is_apartment                            NaN\n",
       "studio                                False\n",
       "open_plan                             False\n",
       "kitchen_area                           10.0\n",
       "balcony                                 NaN\n",
       "locality_name                      Волосово\n",
       "airports_nearest                        NaN\n",
       "cityCenters_nearest                     NaN\n",
       "parks_around3000                        NaN\n",
       "parks_nearest                           NaN\n",
       "ponds_around3000                        NaN\n",
       "ponds_nearest                           NaN\n",
       "days_exposition                        44.0\n",
       "Name: 3076, dtype: object"
      ]
     },
     "execution_count": 49,
     "metadata": {},
     "output_type": "execute_result"
    }
   ],
   "source": [
    "r_estate.loc[3076]"
   ]
  },
  {
   "cell_type": "code",
   "execution_count": 50,
   "metadata": {},
   "outputs": [
    {
     "data": {
      "text/plain": [
       "total_images                                         5\n",
       "last_price                                   5300000.0\n",
       "total_area                                        58.5\n",
       "first_day_exposition               2017-11-15T00:00:00\n",
       "rooms                                                2\n",
       "ceiling_height                                     NaN\n",
       "floors_total                                       1.0\n",
       "living_area                                       31.6\n",
       "floor                                                1\n",
       "is_apartment                                       NaN\n",
       "studio                                           False\n",
       "open_plan                                        False\n",
       "kitchen_area                                       9.4\n",
       "balcony                                            NaN\n",
       "locality_name           поселок городского типа Рощино\n",
       "airports_nearest                                   NaN\n",
       "cityCenters_nearest                                NaN\n",
       "parks_around3000                                   NaN\n",
       "parks_nearest                                      NaN\n",
       "ponds_around3000                                   NaN\n",
       "ponds_nearest                                      NaN\n",
       "days_exposition                                  226.0\n",
       "Name: 4379, dtype: object"
      ]
     },
     "execution_count": 50,
     "metadata": {},
     "output_type": "execute_result"
    }
   ],
   "source": [
    "r_estate.loc[4379]"
   ]
  },
  {
   "cell_type": "code",
   "execution_count": 51,
   "metadata": {},
   "outputs": [
    {
     "data": {
      "text/plain": [
       "total_images                                 5\n",
       "last_price                           2990000.0\n",
       "total_area                                60.0\n",
       "first_day_exposition       2018-11-15T00:00:00\n",
       "rooms                                        3\n",
       "ceiling_height                             NaN\n",
       "floors_total                               1.0\n",
       "living_area                               50.0\n",
       "floor                                        1\n",
       "is_apartment                               NaN\n",
       "studio                                   False\n",
       "open_plan                                False\n",
       "kitchen_area                              10.0\n",
       "balcony                                    NaN\n",
       "locality_name           поселок станции Вещево\n",
       "airports_nearest                           NaN\n",
       "cityCenters_nearest                        NaN\n",
       "parks_around3000                           NaN\n",
       "parks_nearest                              NaN\n",
       "ponds_around3000                           NaN\n",
       "ponds_nearest                              NaN\n",
       "days_exposition                           40.0\n",
       "Name: 5300, dtype: object"
      ]
     },
     "execution_count": 51,
     "metadata": {},
     "output_type": "execute_result"
    }
   ],
   "source": [
    "r_estate.loc[5300]"
   ]
  },
  {
   "cell_type": "code",
   "execution_count": 52,
   "metadata": {},
   "outputs": [
    {
     "data": {
      "text/plain": [
       "25"
      ]
     },
     "execution_count": 52,
     "metadata": {},
     "output_type": "execute_result"
    }
   ],
   "source": [
    "r_estate[r_estate['floors_total'] == 1]['floors_total'].count()"
   ]
  },
  {
   "cell_type": "markdown",
   "metadata": {},
   "source": [
    " **25 частных домов можно удалить**"
   ]
  },
  {
   "cell_type": "code",
   "execution_count": 53,
   "metadata": {},
   "outputs": [
    {
     "data": {
      "text/plain": [
       "2253     60.0\n",
       "16731    52.0\n",
       "16934    37.0\n",
       "397      36.0\n",
       "5807     36.0\n",
       "11079    36.0\n",
       "871      35.0\n",
       "1060     35.0\n",
       "1917     35.0\n",
       "2966     35.0\n",
       "Name: floors_total, dtype: float64"
      ]
     },
     "execution_count": 53,
     "metadata": {},
     "output_type": "execute_result"
    }
   ],
   "source": [
    "r_estate['floors_total'].nlargest(10)"
   ]
  },
  {
   "cell_type": "code",
   "execution_count": 54,
   "metadata": {},
   "outputs": [
    {
     "data": {
      "text/plain": [
       "total_images                             12\n",
       "last_price                        3800000.0\n",
       "total_area                             45.5\n",
       "first_day_exposition    2018-06-28T00:00:00\n",
       "rooms                                     2\n",
       "ceiling_height                         2.88\n",
       "floors_total                           60.0\n",
       "living_area                            27.4\n",
       "floor                                     4\n",
       "is_apartment                            NaN\n",
       "studio                                False\n",
       "open_plan                             False\n",
       "kitchen_area                            7.4\n",
       "balcony                                 NaN\n",
       "locality_name                     Кронштадт\n",
       "airports_nearest                    67763.0\n",
       "cityCenters_nearest                 49488.0\n",
       "parks_around3000                        2.0\n",
       "parks_nearest                         342.0\n",
       "ponds_around3000                        3.0\n",
       "ponds_nearest                         614.0\n",
       "days_exposition                       166.0\n",
       "Name: 2253, dtype: object"
      ]
     },
     "execution_count": 54,
     "metadata": {},
     "output_type": "execute_result"
    }
   ],
   "source": [
    "r_estate.loc[2253] # но не в Крондштадте"
   ]
  },
  {
   "cell_type": "code",
   "execution_count": 55,
   "metadata": {},
   "outputs": [
    {
     "data": {
      "text/plain": [
       "total_images                              9\n",
       "last_price                        3978000.0\n",
       "total_area                             40.0\n",
       "first_day_exposition    2018-09-24T00:00:00\n",
       "rooms                                     1\n",
       "ceiling_height                         2.65\n",
       "floors_total                           52.0\n",
       "living_area                            10.5\n",
       "floor                                    18\n",
       "is_apartment                            NaN\n",
       "studio                                False\n",
       "open_plan                             False\n",
       "kitchen_area                           14.0\n",
       "balcony                                 NaN\n",
       "locality_name               Санкт-Петербург\n",
       "airports_nearest                    20728.0\n",
       "cityCenters_nearest                 12978.0\n",
       "parks_around3000                        1.0\n",
       "parks_nearest                         793.0\n",
       "ponds_around3000                        0.0\n",
       "ponds_nearest                           NaN\n",
       "days_exposition                        45.0\n",
       "Name: 16731, dtype: object"
      ]
     },
     "execution_count": 55,
     "metadata": {},
     "output_type": "execute_result"
    }
   ],
   "source": [
    "r_estate.loc[16731] # высоковат дом"
   ]
  },
  {
   "cell_type": "markdown",
   "metadata": {},
   "source": [
    " **Пара небоскребов это нормально, но не в Кронштадте**"
   ]
  },
  {
   "cell_type": "markdown",
   "metadata": {},
   "source": [
    "**Изучим крайниие значения**"
   ]
  },
  {
   "cell_type": "code",
   "execution_count": 56,
   "metadata": {},
   "outputs": [
    {
     "data": {
      "text/plain": [
       "total_images                              5\n",
       "last_price                        4100000.0\n",
       "total_area                             40.0\n",
       "first_day_exposition    2017-10-17T00:00:00\n",
       "rooms                                     1\n",
       "ceiling_height                         1.75\n",
       "floors_total                           37.0\n",
       "living_area                            17.4\n",
       "floor                                     5\n",
       "is_apartment                            NaN\n",
       "studio                                False\n",
       "open_plan                             False\n",
       "kitchen_area                           8.34\n",
       "balcony                                 NaN\n",
       "locality_name               Санкт-Петербург\n",
       "airports_nearest                    18732.0\n",
       "cityCenters_nearest                 20444.0\n",
       "parks_around3000                        0.0\n",
       "parks_nearest                           NaN\n",
       "ponds_around3000                        3.0\n",
       "ponds_nearest                          80.0\n",
       "days_exposition                        71.0\n",
       "Name: 16934, dtype: object"
      ]
     },
     "execution_count": 56,
     "metadata": {},
     "output_type": "execute_result"
    }
   ],
   "source": [
    "r_estate.loc[16934]"
   ]
  },
  {
   "cell_type": "code",
   "execution_count": 57,
   "metadata": {},
   "outputs": [
    {
     "data": {
      "text/plain": [
       "array([51.  , 18.6 , 34.3 , ..., 31.65, 13.59, 42.55])"
      ]
     },
     "execution_count": 57,
     "metadata": {},
     "output_type": "execute_result"
    }
   ],
   "source": [
    "r_estate['living_area'].unique()"
   ]
  },
  {
   "cell_type": "code",
   "execution_count": 58,
   "metadata": {},
   "outputs": [
    {
     "data": {
      "text/plain": [
       "13915     2.0\n",
       "21758     2.0\n",
       "3242      3.0\n",
       "23574     3.0\n",
       "17582     5.0\n",
       "         ... \n",
       "20229    27.8\n",
       "20324    27.8\n",
       "20560    27.8\n",
       "21155    27.8\n",
       "22786    27.8\n",
       "Name: living_area, Length: 8848, dtype: float64"
      ]
     },
     "execution_count": 58,
     "metadata": {},
     "output_type": "execute_result"
    }
   ],
   "source": [
    "r_estate['living_area'].nsmallest(8848)"
   ]
  },
  {
   "cell_type": "markdown",
   "metadata": {},
   "source": [
    " **Маловаты комнатки**"
   ]
  },
  {
   "cell_type": "code",
   "execution_count": 59,
   "metadata": {},
   "outputs": [
    {
     "data": {
      "text/plain": [
       "total_images                             20\n",
       "last_price                        6350000.0\n",
       "total_area                             52.0\n",
       "first_day_exposition    2018-02-06T00:00:00\n",
       "rooms                                     2\n",
       "ceiling_height                          3.0\n",
       "floors_total                            6.0\n",
       "living_area                             2.0\n",
       "floor                                     2\n",
       "is_apartment                            NaN\n",
       "studio                                False\n",
       "open_plan                             False\n",
       "kitchen_area                            9.0\n",
       "balcony                                 NaN\n",
       "locality_name               Санкт-Петербург\n",
       "airports_nearest                    32453.0\n",
       "cityCenters_nearest                  6521.0\n",
       "parks_around3000                        0.0\n",
       "parks_nearest                           NaN\n",
       "ponds_around3000                        1.0\n",
       "ponds_nearest                        1012.0\n",
       "days_exposition                        91.0\n",
       "Name: 13915, dtype: object"
      ]
     },
     "execution_count": 59,
     "metadata": {},
     "output_type": "execute_result"
    }
   ],
   "source": [
    "r_estate.loc[13915]"
   ]
  },
  {
   "cell_type": "code",
   "execution_count": 60,
   "metadata": {},
   "outputs": [
    {
     "data": {
      "text/plain": [
       "total_images                              0\n",
       "last_price                        2330000.0\n",
       "total_area                             23.0\n",
       "first_day_exposition    2018-01-01T00:00:00\n",
       "rooms                                     0\n",
       "ceiling_height                          NaN\n",
       "floors_total                           24.0\n",
       "living_area                             2.0\n",
       "floor                                    22\n",
       "is_apartment                            NaN\n",
       "studio                                 True\n",
       "open_plan                             False\n",
       "kitchen_area                            NaN\n",
       "balcony                                 NaN\n",
       "locality_name                посёлок Мурино\n",
       "airports_nearest                        NaN\n",
       "cityCenters_nearest                     NaN\n",
       "parks_around3000                        NaN\n",
       "parks_nearest                           NaN\n",
       "ponds_around3000                        NaN\n",
       "ponds_nearest                           NaN\n",
       "days_exposition                        66.0\n",
       "Name: 21758, dtype: object"
      ]
     },
     "execution_count": 60,
     "metadata": {},
     "output_type": "execute_result"
    }
   ],
   "source": [
    "r_estate.loc[21758]"
   ]
  },
  {
   "cell_type": "code",
   "execution_count": 61,
   "metadata": {},
   "outputs": [
    {
     "data": {
      "text/plain": [
       "total_images                              7\n",
       "last_price                        4440000.0\n",
       "total_area                             41.0\n",
       "first_day_exposition    2017-07-02T00:00:00\n",
       "rooms                                     1\n",
       "ceiling_height                          NaN\n",
       "floors_total                           17.0\n",
       "living_area                             3.0\n",
       "floor                                    17\n",
       "is_apartment                            NaN\n",
       "studio                                False\n",
       "open_plan                             False\n",
       "kitchen_area                           11.0\n",
       "balcony                                 NaN\n",
       "locality_name               Санкт-Петербург\n",
       "airports_nearest                    19272.0\n",
       "cityCenters_nearest                 13073.0\n",
       "parks_around3000                        0.0\n",
       "parks_nearest                           NaN\n",
       "ponds_around3000                        0.0\n",
       "ponds_nearest                           NaN\n",
       "days_exposition                       216.0\n",
       "Name: 3242, dtype: object"
      ]
     },
     "execution_count": 61,
     "metadata": {},
     "output_type": "execute_result"
    }
   ],
   "source": [
    "r_estate.loc[3242]"
   ]
  },
  {
   "cell_type": "code",
   "execution_count": 62,
   "metadata": {},
   "outputs": [
    {
     "data": {
      "text/plain": [
       "8882"
      ]
     },
     "execution_count": 62,
     "metadata": {},
     "output_type": "execute_result"
    }
   ],
   "source": [
    "r_estate.query('living_area < 28')['living_area'].count()"
   ]
  },
  {
   "cell_type": "markdown",
   "metadata": {},
   "source": [
    "**Продолжаем изучение крайних значений**"
   ]
  },
  {
   "cell_type": "code",
   "execution_count": 63,
   "metadata": {},
   "outputs": [
    {
     "data": {
      "text/plain": [
       "19540    409.7\n",
       "5358     409.0\n",
       "12401    347.5\n",
       "4237     332.0\n",
       "12859    322.3\n",
       "660      312.5\n",
       "8018     301.5\n",
       "14088    300.0\n",
       "20273    279.6\n",
       "22494    274.0\n",
       "Name: living_area, dtype: float64"
      ]
     },
     "execution_count": 63,
     "metadata": {},
     "output_type": "execute_result"
    }
   ],
   "source": [
    "r_estate['living_area'].nlargest(10)"
   ]
  },
  {
   "cell_type": "code",
   "execution_count": 64,
   "metadata": {},
   "outputs": [
    {
     "data": {
      "text/plain": [
       "total_images                             20\n",
       "last_price                       65000000.0\n",
       "total_area                            590.0\n",
       "first_day_exposition    2019-02-14T00:00:00\n",
       "rooms                                    15\n",
       "ceiling_height                          3.5\n",
       "floors_total                            6.0\n",
       "living_area                           409.0\n",
       "floor                                     3\n",
       "is_apartment                            NaN\n",
       "studio                                False\n",
       "open_plan                             False\n",
       "kitchen_area                          100.0\n",
       "balcony                                 NaN\n",
       "locality_name               Санкт-Петербург\n",
       "airports_nearest                    24447.0\n",
       "cityCenters_nearest                  4666.0\n",
       "parks_around3000                        1.0\n",
       "parks_nearest                         767.0\n",
       "ponds_around3000                        0.0\n",
       "ponds_nearest                           NaN\n",
       "days_exposition                        14.0\n",
       "Name: 5358, dtype: object"
      ]
     },
     "execution_count": 64,
     "metadata": {},
     "output_type": "execute_result"
    }
   ],
   "source": [
    "r_estate.loc[5358]"
   ]
  },
  {
   "cell_type": "code",
   "execution_count": 65,
   "metadata": {},
   "outputs": [
    {
     "data": {
      "text/plain": [
       "total_images                             20\n",
       "last_price                       91500000.0\n",
       "total_area                            495.0\n",
       "first_day_exposition    2017-06-19T00:00:00\n",
       "rooms                                     7\n",
       "ceiling_height                         4.65\n",
       "floors_total                            7.0\n",
       "living_area                           347.5\n",
       "floor                                     7\n",
       "is_apartment                            NaN\n",
       "studio                                False\n",
       "open_plan                             False\n",
       "kitchen_area                           25.0\n",
       "balcony                                 0.0\n",
       "locality_name               Санкт-Петербург\n",
       "airports_nearest                        NaN\n",
       "cityCenters_nearest                  5735.0\n",
       "parks_around3000                        2.0\n",
       "parks_nearest                         110.0\n",
       "ponds_around3000                        0.0\n",
       "ponds_nearest                           NaN\n",
       "days_exposition                        14.0\n",
       "Name: 12401, dtype: object"
      ]
     },
     "execution_count": 65,
     "metadata": {},
     "output_type": "execute_result"
    }
   ],
   "source": [
    "r_estate.loc[12401]"
   ]
  },
  {
   "cell_type": "code",
   "execution_count": 66,
   "metadata": {},
   "outputs": [
    {
     "data": {
      "text/plain": [
       "1903"
      ]
     },
     "execution_count": 66,
     "metadata": {},
     "output_type": "execute_result"
    }
   ],
   "source": [
    "r_estate['living_area'].isna().sum()"
   ]
  },
  {
   "cell_type": "code",
   "execution_count": 67,
   "metadata": {},
   "outputs": [
    {
     "data": {
      "text/plain": [
       "array([ 8,  1,  4,  9, 13,  5,  6, 22, 26,  7,  3,  2, 11, 15, 18, 10, 19,\n",
       "       16, 20, 27, 25, 17, 14, 12, 21, 28, 24, 23, 30, 29, 32, 33, 31],\n",
       "      dtype=int64)"
      ]
     },
     "execution_count": 67,
     "metadata": {},
     "output_type": "execute_result"
    }
   ],
   "source": [
    "r_estate['floor'].unique()"
   ]
  },
  {
   "cell_type": "code",
   "execution_count": 68,
   "metadata": {},
   "outputs": [
    {
     "data": {
      "text/plain": [
       "array([nan, False, True], dtype=object)"
      ]
     },
     "execution_count": 68,
     "metadata": {},
     "output_type": "execute_result"
    }
   ],
   "source": [
    "r_estate['is_apartment'].unique()"
   ]
  },
  {
   "cell_type": "markdown",
   "metadata": {},
   "source": [
    "**Есть пропущенные значения, не тот тип данных. Исправим ниже.**"
   ]
  },
  {
   "cell_type": "code",
   "execution_count": 69,
   "metadata": {},
   "outputs": [
    {
     "data": {
      "text/plain": [
       "array([False,  True])"
      ]
     },
     "execution_count": 69,
     "metadata": {},
     "output_type": "execute_result"
    }
   ],
   "source": [
    "r_estate['studio'].unique()"
   ]
  },
  {
   "cell_type": "markdown",
   "metadata": {},
   "source": [
    " **Проверим нет ли многокомнатных студий**"
   ]
  },
  {
   "cell_type": "code",
   "execution_count": 70,
   "metadata": {},
   "outputs": [
    {
     "data": {
      "text/plain": [
       "0"
      ]
     },
     "execution_count": 70,
     "metadata": {},
     "output_type": "execute_result"
    }
   ],
   "source": [
    "r_estate.query('(rooms > 1) & (studio == True)')['rooms'].count()"
   ]
  },
  {
   "cell_type": "code",
   "execution_count": 71,
   "metadata": {},
   "outputs": [
    {
     "data": {
      "text/plain": [
       "array([False,  True])"
      ]
     },
     "execution_count": 71,
     "metadata": {},
     "output_type": "execute_result"
    }
   ],
   "source": [
    "r_estate['open_plan'].unique()"
   ]
  },
  {
   "cell_type": "markdown",
   "metadata": {},
   "source": [
    "Ок"
   ]
  },
  {
   "cell_type": "code",
   "execution_count": 72,
   "metadata": {},
   "outputs": [
    {
     "data": {
      "text/plain": [
       "array([ 25.  ,  11.  ,   8.3 ,    nan,  41.  ,   9.1 ,  14.4 ,  18.9 ,\n",
       "         8.81,   6.5 ,   8.5 ,   6.  ,   9.  ,   5.2 ,   8.  ,   7.6 ,\n",
       "         5.6 ,  12.  ,   5.7 ,   6.1 ,  19.6 ,  15.  ,   7.  ,   9.2 ,\n",
       "        11.7 ,  13.4 ,  17.  ,   6.3 ,  11.6 ,   8.8 ,  10.  ,  17.6 ,\n",
       "         7.5 ,   9.5 ,  50.  ,  15.5 ,  10.7 ,  11.1 ,  20.  ,  11.9 ,\n",
       "        16.  ,   5.3 ,  11.5 ,   7.2 ,   6.2 ,  10.4 ,   7.1 ,   4.9 ,\n",
       "         7.3 ,  11.95,  10.2 ,   6.4 ,   5.5 ,  13.  ,   8.4 ,  23.6 ,\n",
       "        10.8 ,  18.3 ,   5.  ,   8.2 ,  24.  ,  23.8 ,   6.6 ,  26.85,\n",
       "        15.4 ,   7.8 ,  33.8 ,   5.4 ,  12.72,  12.2 ,  19.  ,  12.4 ,\n",
       "         7.9 ,  10.3 ,   9.8 ,  17.5 ,  14.7 ,  20.91,  21.3 ,  10.6 ,\n",
       "        10.9 ,   9.7 ,   7.7 ,  12.5 ,  11.4 ,   8.6 ,  11.24,  14.1 ,\n",
       "        15.7 ,  13.29,  14.  ,  12.9 ,  12.7 ,  16.5 ,   9.36,  21.5 ,\n",
       "        35.  ,  10.5 ,   8.7 ,  19.3 ,  21.4 ,  40.  ,  49.2 ,  11.52,\n",
       "         8.9 ,   9.6 ,  30.  ,  14.2 ,   8.1 ,  10.44,   4.5 ,  16.3 ,\n",
       "        11.2 ,  18.4 ,   7.4 ,  11.3 ,   9.4 ,  13.1 ,  10.19,   7.06,\n",
       "        22.  ,  36.  ,   5.1 ,  18.7 ,   9.9 ,  14.3 ,  18.  ,  23.  ,\n",
       "        19.4 ,  11.8 ,  13.3 ,  17.7 ,  23.1 ,  10.63,  21.1 ,  11.33,\n",
       "        13.5 ,  19.5 ,  13.2 ,  17.2 ,  77.  ,  13.8 ,  12.3 ,   9.3 ,\n",
       "         5.8 ,  26.1 ,  12.88,   9.28,  16.1 ,  14.5 ,  31.  ,   5.9 ,\n",
       "        10.1 ,  23.4 ,  16.2 ,  19.2 ,  28.6 ,  15.1 ,  26.4 ,   8.98,\n",
       "        10.59,  17.9 ,  16.8 ,  11.27,  16.74,   9.57,  23.43,  15.2 ,\n",
       "         8.07,  12.24,  13.39,  36.6 ,  10.84,  15.3 ,  18.5 ,  23.9 ,\n",
       "        19.7 ,  19.9 ,  22.1 ,  10.35,  10.69,  16.9 ,   5.49,  31.2 ,\n",
       "         6.8 ,   8.29,   6.7 ,  13.6 ,  16.6 ,  10.75,  18.8 ,  17.8 ,\n",
       "         2.  ,   6.77,  11.06,  12.6 ,   7.71,  27.  ,  11.35,  13.31,\n",
       "        63.  ,  21.  ,  20.6 ,  11.78,  20.5 ,  13.79,  20.52,   5.75,\n",
       "        66.  ,  18.78,  23.5 ,  24.3 ,   6.9 ,  14.8 ,   8.87,  14.9 ,\n",
       "         8.71,   9.95,  17.53,  42.6 ,  25.2 ,   8.31,   9.67,  16.7 ,\n",
       "        14.61,  32.  ,  22.4 ,  16.4 ,   6.36,  17.1 ,  13.14,  18.2 ,\n",
       "         9.18,  13.7 ,  15.61,  22.31,   9.45,  29.  ,  14.49,   5.35,\n",
       "        29.9 ,  25.1 ,   8.08,  13.11,   6.25,  26.  ,  35.35,  12.8 ,\n",
       "        30.2 ,  10.09,  46.  ,  32.1 ,  11.29,  14.56,  11.11,  11.49,\n",
       "        13.67,  16.72,  24.5 ,  11.14,  20.9 ,  11.05,   4.  ,  14.84,\n",
       "         8.21,  12.18,  25.34,   9.25,   8.65,  13.9 ,  13.53,  15.09,\n",
       "         9.39,  18.6 ,  15.9 ,  24.7 ,  12.35,  20.8 ,  27.4 ,   7.17,\n",
       "         3.  ,   8.23,  24.03,   9.17,  43.  ,  10.45,  11.39,  19.92,\n",
       "        20.2 ,  10.72,  20.07,  11.81,  18.45,  10.51,  39.  ,  10.91,\n",
       "         6.73,  11.85,  37.8 ,   4.8 , 100.7 ,  21.6 ,   5.78,  12.1 ,\n",
       "        11.28,   9.97,  10.68,  21.2 ,  10.56,   9.68,   8.25,   4.7 ,\n",
       "        17.4 ,  10.02,  40.2 ,  11.62,  14.6 ,  11.71,  13.69,  18.1 ,\n",
       "        22.22,  17.3 ,   6.35,  23.3 ,  10.88,   6.76,  28.  ,  10.29,\n",
       "        11.63,  25.6 ,  19.1 ,  15.6 ,  21.87,   3.2 ,  12.27,  10.39,\n",
       "        10.89,  60.  ,  11.53,   5.68,  10.55,  33.  ,   3.8 ,  36.2 ,\n",
       "         9.22,   5.62,  38.  ,  21.9 ,  12.17,  19.8 ,  37.  ,   4.2 ,\n",
       "        21.7 ,  12.38,  11.46,   7.89,  31.7 ,  24.4 ,  14.57,  30.9 ,\n",
       "        10.15,  12.05,   9.27,  15.33,   6.58,   9.93,  35.05,  25.3 ,\n",
       "        28.8 ,  13.05,  29.4 ,  36.5 ,   7.92,  15.8 ,  15.69,  42.  ,\n",
       "         7.85,  13.16,  12.86,  48.  ,  30.5 ,  29.3 ,  45.  ,   9.32,\n",
       "        44.  ,   5.74,  11.26,  13.38,  14.31,  26.6 ,   6.55,  10.52,\n",
       "         6.72,  13.02,  11.17,  56.2 ,  12.52,  28.2 ,  12.29,  11.59,\n",
       "         8.38,   5.47,  10.18,  10.64,  18.88,   9.89,  36.3 ,  12.92,\n",
       "        23.53,  37.7 ,  10.36,  14.05,   9.04,  10.78,  14.24,  13.42,\n",
       "        32.8 ,  20.16,  10.12,   7.12,  17.64,  23.25,  11.41,  11.42,\n",
       "        40.4 ,  31.47,  13.55,  13.28,  14.55,   9.38,   8.32,  11.55,\n",
       "        13.81,  24.1 ,  11.51,   7.65,   9.91,  16.83,  11.34, 100.  ,\n",
       "        11.16,  18.34,  34.19,   6.02,  18.07,  20.1 ,  12.08,   7.18,\n",
       "         8.11,   8.05,   8.06,  12.96,  42.4 ,   8.93,  44.9 ,  10.62,\n",
       "         9.72,  22.5 ,  11.18,  10.22,  51.  ,  21.8 ,  10.94,  13.49,\n",
       "        31.73,  70.  ,  25.7 ,   5.86,   7.63,  11.47,  13.25,  22.2 ,\n",
       "        19.35,  17.28,  14.04,  39.9 ,  21.76,   4.3 ,  10.06,   8.19,\n",
       "        28.4 ,  22.7 ,  14.74,  11.12,  25.11,  14.02,  13.06,   8.01,\n",
       "        20.38,   5.53,  46.8 ,  11.31,  17.85,  20.7 ,  34.78,   9.46,\n",
       "         6.31,  42.5 ,   9.48,  43.4 ,  11.57,  12.44,  14.46,  12.58,\n",
       "        12.47,   7.95,  16.32,  15.26,  12.23,  11.37,  27.9 ,   8.58,\n",
       "        19.51,  12.39,   9.65,   9.05,   6.84,  20.3 ,  26.5 ,  63.4 ,\n",
       "        41.9 ,   6.82,  11.36,  10.08,  10.54,   9.16,  14.95,  12.84,\n",
       "        22.9 ,   8.76,  10.03,   9.35,  11.13,   7.87,   2.89,  45.5 ,\n",
       "         7.36,  24.9 ,   9.59,   7.97,   9.85,  33.9 ,  42.8 ,   7.86,\n",
       "         5.25,  10.26,   5.33,  12.85,   9.51,  58.4 ,  10.34,  23.71,\n",
       "        19.42,   6.83,  11.92,  13.17,  13.27,  11.84,  12.56,  53.1 ,\n",
       "        20.56,  41.3 ,   9.01,   8.73,   5.82,   3.7 ,   2.4 ,  31.8 ,\n",
       "        42.7 ,  40.5 ,  12.02,   8.57,  12.76,   8.66,  11.04,  40.3 ,\n",
       "        15.83,  18.59,   9.37,  23.38,  10.42,  13.93,   7.54,  23.42,\n",
       "        13.64,   5.61,  19.45,  17.59,  29.1 ,   5.65,  15.42,  11.09,\n",
       "        11.73,  15.72,  25.4 ,  10.25,  10.38,  13.41,   5.23,   9.09,\n",
       "        11.45,  11.74,  14.64,  12.14,   8.84,  16.66,  10.27,   3.5 ,\n",
       "        12.55,  32.55,  16.26,   6.62,  10.33,  13.26,  32.3 ,  23.2 ,\n",
       "        14.14,   9.62,  34.  ,  10.92,  10.58,  22.8 ,  15.85,   7.78,\n",
       "         8.94,   9.82,  34.7 ,   8.45,  15.62,  22.3 ,  14.17,  15.39,\n",
       "        56.  ,   8.43,  87.2 ,  12.66,   8.35,   8.47,  22.72,   9.52,\n",
       "        28.1 ,  14.97,   4.6 ,   5.29,  10.49,  15.07,  15.37,  20.31,\n",
       "        23.28,   8.54,  30.59,  27.57,   9.71,  28.63,   9.98,  37.9 ,\n",
       "         6.91,  25.9 ,  47.  ,  51.8 ,  14.27,  40.7 ,  19.61,   9.44,\n",
       "        27.76,  25.86,  36.4 ,  15.78,  10.05,  26.2 ,  10.32,  19.39,\n",
       "         9.77,  29.5 ,  13.73,  10.71,  10.73,  13.84,   6.19,  28.5 ,\n",
       "        16.25,  13.47,   4.4 ,  43.2 ,  27.5 ,  11.67,  44.7 ,  12.57,\n",
       "        16.27,   6.28,  12.01,  37.6 ,  13.35,   3.4 ,   8.61,   8.96,\n",
       "        34.8 ,  27.3 ,  10.24,   8.15,  35.5 ,   4.1 ,  10.43,  16.46,\n",
       "         7.19,  62.  ,  34.3 ,  48.5 ,  30.6 ,  17.55,  10.74,  13.24,\n",
       "         5.91,   9.43,  20.92,   8.13,  33.1 ,  10.37,  16.77,   6.27,\n",
       "        26.8 ,  12.37,  22.6 ,  33.6 ,   9.76,  16.92,  15.54,   6.23,\n",
       "        15.35,  37.5 ,  21.82,   7.94,  34.1 ,   6.03,  15.55,   8.44,\n",
       "        43.8 ,  29.09,  18.93,  12.75,   6.33,  24.8 ,   5.64,  22.43,\n",
       "        39.1 ,  27.6 ,   7.48,  32.7 ,   5.44,   6.22,   7.41,  27.1 ,\n",
       "        17.06,  75.  ,  34.51,   6.26,  35.6 ,   9.83,  54.3 ,  28.7 ,\n",
       "         3.3 ,  13.63,  62.5 ,  10.47,  11.87,  28.3 ,  11.25,   5.42,\n",
       "        18.25,   8.82,   9.58,   5.04,  13.52,  11.44,   8.48,  13.21,\n",
       "         8.03,  16.89,  26.9 ,  35.4 ,  13.95,  14.72,   9.34,  64.  ,\n",
       "        37.78,  23.7 ,  29.8 ,   6.95,  16.05,  11.65,  38.1 ,  10.99,\n",
       "        10.86,   8.85,  14.65,   9.24,  16.45,   7.84,  93.2 ,   9.79,\n",
       "         7.03,  17.12,   5.28,  12.53,  14.51,   9.31,  31.6 ,  72.  ,\n",
       "         6.86,  11.07,  14.06,  93.  ,   6.93,  15.15,  32.9 ,   8.34,\n",
       "        55.7 ,  24.89,  35.9 ,  22.78,  16.47,  38.86,  18.16,   8.69,\n",
       "        25.5 ,  22.46,  13.74,  54.2 ,  19.21,  31.5 ,  12.11,  11.98,\n",
       "        10.17,  35.7 ,  12.71,   2.3 ,  16.07,   9.42,  20.77,  28.64,\n",
       "        13.86,  10.01,  24.2 ,  12.45,  12.87,  14.33,  12.15,  39.7 ,\n",
       "        65.  ,   5.06,  14.29,  14.43,  25.02,   8.52,  11.56,  12.89,\n",
       "         8.63,  13.32,  16.42,   5.31,  14.77,  27.2 ,   9.26,  14.93,\n",
       "        31.4 ,   9.06,   6.61,  20.4 ,   6.65,  19.19,  20.24,  13.77,\n",
       "         6.37,  53.  ,  14.58,   9.19,   8.67,  21.22, 112.  ,  13.58,\n",
       "        12.03,  10.87,  19.28,  16.48,  32.6 ,   9.08,  12.69,   8.09,\n",
       "         5.21,  12.83,  54.  ,  11.64, 107.  ,   1.3 ,  55.5 ,  48.3 ,\n",
       "         9.11,  21.53,  29.86,  28.52,  15.43,  15.57,  13.43,  19.94,\n",
       "         8.77,  50.2 ,  15.03,  16.38,  13.33,  12.43,  17.61,   9.66,\n",
       "        12.32,  58.  ,  24.6 ,   6.47,  41.1 ,   8.12,  21.25,  10.13,\n",
       "        41.6 ,  49.4 ,  12.25,  28.56,  11.69,  14.85,  15.18,   8.02,\n",
       "        11.22,   8.95,  34.6 ,  29.2 ,   9.73,  10.46,  26.7 ,  29.7 ,\n",
       "        32.4 ,  12.93,  12.63,  15.24,   8.18,  22.15,  11.43,   7.02,\n",
       "        11.93,   7.09,   6.16,   7.15,  13.65,  10.79,  14.98,  34.4 ,\n",
       "         5.14,   9.75,   5.59,  35.1 ,  13.04,  10.95,  16.03,   9.13,\n",
       "        17.44,  40.1 ,   5.85,   6.24,  21.74,  31.3 ,  30.8 ,  16.88,\n",
       "        21.55,  18.55,  17.87,  13.83])"
      ]
     },
     "execution_count": 72,
     "metadata": {},
     "output_type": "execute_result"
    }
   ],
   "source": [
    "r_estate['kitchen_area'].unique()"
   ]
  },
  {
   "cell_type": "markdown",
   "metadata": {},
   "source": [
    "**Изучим крайние**"
   ]
  },
  {
   "cell_type": "code",
   "execution_count": 73,
   "metadata": {},
   "outputs": [
    {
     "data": {
      "text/plain": [
       "20217    1.3\n",
       "906      2.0\n",
       "6262     2.0\n",
       "9138     2.0\n",
       "11033    2.0\n",
       "16367    2.0\n",
       "19642    2.0\n",
       "21419    2.0\n",
       "17834    2.3\n",
       "8729     2.4\n",
       "Name: kitchen_area, dtype: float64"
      ]
     },
     "execution_count": 73,
     "metadata": {},
     "output_type": "execute_result"
    }
   ],
   "source": [
    "r_estate['kitchen_area'].nsmallest(10)"
   ]
  },
  {
   "cell_type": "code",
   "execution_count": 74,
   "metadata": {},
   "outputs": [
    {
     "data": {
      "text/plain": [
       "total_images                              7\n",
       "last_price                        4250000.0\n",
       "total_area                             28.5\n",
       "first_day_exposition    2019-05-01T00:00:00\n",
       "rooms                                     1\n",
       "ceiling_height                          2.8\n",
       "floors_total                           14.0\n",
       "living_area                            19.5\n",
       "floor                                    10\n",
       "is_apartment                            NaN\n",
       "studio                                False\n",
       "open_plan                             False\n",
       "kitchen_area                            1.3\n",
       "balcony                                 NaN\n",
       "locality_name               Санкт-Петербург\n",
       "airports_nearest                    37199.0\n",
       "cityCenters_nearest                 12721.0\n",
       "parks_around3000                        0.0\n",
       "parks_nearest                           NaN\n",
       "ponds_around3000                        0.0\n",
       "ponds_nearest                           NaN\n",
       "days_exposition                         NaN\n",
       "Name: 20217, dtype: object"
      ]
     },
     "execution_count": 74,
     "metadata": {},
     "output_type": "execute_result"
    }
   ],
   "source": [
    "r_estate.loc[20217]"
   ]
  },
  {
   "cell_type": "code",
   "execution_count": 75,
   "metadata": {},
   "outputs": [
    {
     "data": {
      "text/plain": [
       "total_images                             15\n",
       "last_price                        2600000.0\n",
       "total_area                             27.0\n",
       "first_day_exposition    2017-07-10T00:00:00\n",
       "rooms                                     1\n",
       "ceiling_height                         2.75\n",
       "floors_total                           23.0\n",
       "living_area                            18.0\n",
       "floor                                    18\n",
       "is_apartment                            NaN\n",
       "studio                                False\n",
       "open_plan                             False\n",
       "kitchen_area                            2.0\n",
       "balcony                                 0.0\n",
       "locality_name               Санкт-Петербург\n",
       "airports_nearest                    22131.0\n",
       "cityCenters_nearest                 17459.0\n",
       "parks_around3000                        0.0\n",
       "parks_nearest                           NaN\n",
       "ponds_around3000                        1.0\n",
       "ponds_nearest                         411.0\n",
       "days_exposition                        10.0\n",
       "Name: 906, dtype: object"
      ]
     },
     "execution_count": 75,
     "metadata": {},
     "output_type": "execute_result"
    }
   ],
   "source": [
    "r_estate.loc[906]"
   ]
  },
  {
   "cell_type": "code",
   "execution_count": 76,
   "metadata": {},
   "outputs": [
    {
     "data": {
      "text/plain": [
       "total_images                              9\n",
       "last_price                        3100000.0\n",
       "total_area                             24.0\n",
       "first_day_exposition    2018-06-25T00:00:00\n",
       "rooms                                     2\n",
       "ceiling_height                          3.0\n",
       "floors_total                            5.0\n",
       "living_area                            16.0\n",
       "floor                                     5\n",
       "is_apartment                            NaN\n",
       "studio                                False\n",
       "open_plan                             False\n",
       "kitchen_area                            2.0\n",
       "balcony                                 NaN\n",
       "locality_name               Санкт-Петербург\n",
       "airports_nearest                    31960.0\n",
       "cityCenters_nearest                  4914.0\n",
       "parks_around3000                        2.0\n",
       "parks_nearest                         426.0\n",
       "ponds_around3000                        1.0\n",
       "ponds_nearest                         936.0\n",
       "days_exposition                        54.0\n",
       "Name: 6262, dtype: object"
      ]
     },
     "execution_count": 76,
     "metadata": {},
     "output_type": "execute_result"
    }
   ],
   "source": [
    "r_estate.loc[6262] # изучим крайнии, странное...удалим!)"
   ]
  },
  {
   "cell_type": "markdown",
   "metadata": {},
   "source": [
    " **Посчитаем не нулевые значения меньше 6 м(кухня в \"хрущевке\")**"
   ]
  },
  {
   "cell_type": "code",
   "execution_count": 77,
   "metadata": {},
   "outputs": [
    {
     "data": {
      "text/plain": [
       "1703"
      ]
     },
     "execution_count": 77,
     "metadata": {},
     "output_type": "execute_result"
    }
   ],
   "source": [
    "r_estate.query('kitchen_area < 6')['kitchen_area'].count()"
   ]
  },
  {
   "cell_type": "markdown",
   "metadata": {},
   "source": [
    "**Посчитаем пропущенные значения**"
   ]
  },
  {
   "cell_type": "code",
   "execution_count": 78,
   "metadata": {},
   "outputs": [
    {
     "data": {
      "text/plain": [
       "2278"
      ]
     },
     "execution_count": 78,
     "metadata": {},
     "output_type": "execute_result"
    }
   ],
   "source": [
    "r_estate['kitchen_area'].isna().sum() "
   ]
  },
  {
   "cell_type": "markdown",
   "metadata": {},
   "source": [
    " **Посчитаем пропущенные значения где кухни быть не должно**"
   ]
  },
  {
   "cell_type": "code",
   "execution_count": 79,
   "metadata": {},
   "outputs": [
    {
     "data": {
      "text/plain": [
       "216"
      ]
     },
     "execution_count": 79,
     "metadata": {},
     "output_type": "execute_result"
    }
   ],
   "source": [
    "r_estate.query('(studio == True  ) | (open_plan == True  )')['kitchen_area'].isna().sum()"
   ]
  },
  {
   "cell_type": "markdown",
   "metadata": {},
   "source": [
    "**Изучим крайние**"
   ]
  },
  {
   "cell_type": "code",
   "execution_count": 80,
   "metadata": {},
   "outputs": [
    {
     "data": {
      "text/plain": [
       "19540    112.0\n",
       "20215    107.0\n",
       "2489     100.7\n",
       "5358     100.0\n",
       "16239     93.2\n",
       "16797     93.0\n",
       "10867     87.2\n",
       "492       77.0\n",
       "4394      77.0\n",
       "14644     75.0\n",
       "16647     72.0\n",
       "6193      70.0\n",
       "15651     70.0\n",
       "1085      66.0\n",
       "18447     65.0\n",
       "22980     65.0\n",
       "15780     64.0\n",
       "17912     64.0\n",
       "19499     64.0\n",
       "7543      63.4\n",
       "Name: kitchen_area, dtype: float64"
      ]
     },
     "execution_count": 80,
     "metadata": {},
     "output_type": "execute_result"
    }
   ],
   "source": [
    "r_estate['kitchen_area'].nlargest(20)"
   ]
  },
  {
   "cell_type": "code",
   "execution_count": 81,
   "metadata": {},
   "outputs": [
    {
     "data": {
      "text/plain": [
       "total_images                              2\n",
       "last_price                       85000000.0\n",
       "total_area                            249.7\n",
       "first_day_exposition    2018-02-01T00:00:00\n",
       "rooms                                     3\n",
       "ceiling_height                          NaN\n",
       "floors_total                           10.0\n",
       "living_area                            72.0\n",
       "floor                                     9\n",
       "is_apartment                            NaN\n",
       "studio                                False\n",
       "open_plan                             False\n",
       "kitchen_area                          107.0\n",
       "balcony                                 4.0\n",
       "locality_name               Санкт-Петербург\n",
       "airports_nearest                    31532.0\n",
       "cityCenters_nearest                  4624.0\n",
       "parks_around3000                        1.0\n",
       "parks_nearest                        2218.0\n",
       "ponds_around3000                        2.0\n",
       "ponds_nearest                          99.0\n",
       "days_exposition                        26.0\n",
       "Name: 20215, dtype: object"
      ]
     },
     "execution_count": 81,
     "metadata": {},
     "output_type": "execute_result"
    }
   ],
   "source": [
    "r_estate.loc[20215]"
   ]
  },
  {
   "cell_type": "code",
   "execution_count": 82,
   "metadata": {},
   "outputs": [
    {
     "data": {
      "text/plain": [
       "total_images                              9\n",
       "last_price                       12500000.0\n",
       "total_area                            255.0\n",
       "first_day_exposition    2017-04-21T00:00:00\n",
       "rooms                                     3\n",
       "ceiling_height                          NaN\n",
       "floors_total                            2.0\n",
       "living_area                           153.9\n",
       "floor                                     2\n",
       "is_apartment                            NaN\n",
       "studio                                False\n",
       "open_plan                             False\n",
       "kitchen_area                          100.7\n",
       "balcony                                 0.0\n",
       "locality_name               Санкт-Петербург\n",
       "airports_nearest                    29544.0\n",
       "cityCenters_nearest                  6916.0\n",
       "parks_around3000                        0.0\n",
       "parks_nearest                           NaN\n",
       "ponds_around3000                        3.0\n",
       "ponds_nearest                         198.0\n",
       "days_exposition                       102.0\n",
       "Name: 2489, dtype: object"
      ]
     },
     "execution_count": 82,
     "metadata": {},
     "output_type": "execute_result"
    }
   ],
   "source": [
    "r_estate.loc[2489]"
   ]
  },
  {
   "cell_type": "code",
   "execution_count": 83,
   "metadata": {
    "scrolled": true
   },
   "outputs": [
    {
     "data": {
      "text/plain": [
       "total_images                             20\n",
       "last_price                       65000000.0\n",
       "total_area                            590.0\n",
       "first_day_exposition    2019-02-14T00:00:00\n",
       "rooms                                    15\n",
       "ceiling_height                          3.5\n",
       "floors_total                            6.0\n",
       "living_area                           409.0\n",
       "floor                                     3\n",
       "is_apartment                            NaN\n",
       "studio                                False\n",
       "open_plan                             False\n",
       "kitchen_area                          100.0\n",
       "balcony                                 NaN\n",
       "locality_name               Санкт-Петербург\n",
       "airports_nearest                    24447.0\n",
       "cityCenters_nearest                  4666.0\n",
       "parks_around3000                        1.0\n",
       "parks_nearest                         767.0\n",
       "ponds_around3000                        0.0\n",
       "ponds_nearest                           NaN\n",
       "days_exposition                        14.0\n",
       "Name: 5358, dtype: object"
      ]
     },
     "execution_count": 83,
     "metadata": {},
     "output_type": "execute_result"
    }
   ],
   "source": [
    "r_estate.loc[5358] "
   ]
  },
  {
   "cell_type": "code",
   "execution_count": 84,
   "metadata": {},
   "outputs": [
    {
     "data": {
      "text/plain": [
       "array([nan,  2.,  0.,  1.,  5.,  4.,  3.])"
      ]
     },
     "execution_count": 84,
     "metadata": {},
     "output_type": "execute_result"
    }
   ],
   "source": [
    "r_estate['balcony'].unique()"
   ]
  },
  {
   "cell_type": "markdown",
   "metadata": {},
   "source": [
    "**Посчитаем пропуски**"
   ]
  },
  {
   "cell_type": "code",
   "execution_count": 85,
   "metadata": {},
   "outputs": [
    {
     "data": {
      "text/plain": [
       "11519"
      ]
     },
     "execution_count": 85,
     "metadata": {},
     "output_type": "execute_result"
    }
   ],
   "source": [
    "r_estate['balcony'].isna().sum()"
   ]
  },
  {
   "cell_type": "code",
   "execution_count": 86,
   "metadata": {},
   "outputs": [
    {
     "data": {
      "text/plain": [
       "array(['Санкт-Петербург', 'посёлок Шушары', 'городской посёлок Янино-1',\n",
       "       'посёлок Парголово', 'посёлок Мурино', 'Ломоносов', 'Сертолово',\n",
       "       'Петергоф', 'Пушкин', 'деревня Кудрово', 'Коммунар', 'Колпино',\n",
       "       'поселок городского типа Красный Бор', 'Гатчина', 'поселок Мурино',\n",
       "       'деревня Фёдоровское', 'Выборг', 'Кронштадт', 'Кировск',\n",
       "       'деревня Новое Девяткино', 'посёлок Металлострой',\n",
       "       'посёлок городского типа Лебяжье',\n",
       "       'посёлок городского типа Сиверский', 'поселок Молодцово',\n",
       "       'поселок городского типа Кузьмоловский',\n",
       "       'садовое товарищество Новая Ропша', 'Павловск',\n",
       "       'деревня Пикколово', 'Всеволожск', 'Волхов', 'Кингисепп',\n",
       "       'Приозерск', 'Сестрорецк', 'деревня Куттузи', 'посёлок Аннино',\n",
       "       'поселок городского типа Ефимовский', 'посёлок Плодовое',\n",
       "       'деревня Заклинье', 'поселок Торковичи', 'поселок Первомайское',\n",
       "       'Красное Село', 'посёлок Понтонный', 'Сясьстрой', 'деревня Старая',\n",
       "       'деревня Лесколово', 'посёлок Новый Свет', 'Сланцы',\n",
       "       'село Путилово', 'Ивангород', 'Мурино', 'Шлиссельбург',\n",
       "       'Никольское', 'Зеленогорск', 'Сосновый Бор', 'поселок Новый Свет',\n",
       "       'деревня Оржицы', 'деревня Кальтино', 'Кудрово',\n",
       "       'поселок Романовка', 'посёлок Бугры', 'поселок Бугры',\n",
       "       'поселок городского типа Рощино', 'Кириши', 'Луга', 'Волосово',\n",
       "       'Отрадное', 'село Павлово', 'поселок Оредеж', 'село Копорье',\n",
       "       'посёлок городского типа Красный Бор', 'посёлок Молодёжное',\n",
       "       'Тихвин', 'посёлок Победа', 'деревня Нурма',\n",
       "       'поселок городского типа Синявино', 'Тосно',\n",
       "       'посёлок городского типа Кузьмоловский', 'посёлок Стрельна',\n",
       "       'Бокситогорск', 'посёлок Александровская', 'деревня Лопухинка',\n",
       "       'Пикалёво', 'поселок Терволово',\n",
       "       'поселок городского типа Советский', 'Подпорожье',\n",
       "       'посёлок Петровское', 'посёлок городского типа Токсово',\n",
       "       'поселок Сельцо', 'посёлок городского типа Вырица',\n",
       "       'деревня Кипень', 'деревня Келози', 'деревня Вартемяги',\n",
       "       'посёлок Тельмана', 'поселок Севастьяново',\n",
       "       'городской поселок Большая Ижора', nan,\n",
       "       'городской посёлок Павлово', 'деревня Агалатово',\n",
       "       'посёлок Новогорелово', 'городской посёлок Лесогорский',\n",
       "       'деревня Лаголово', 'поселок Цвелодубово',\n",
       "       'поселок городского типа Рахья', 'поселок городского типа Вырица',\n",
       "       'деревня Белогорка', 'поселок Заводской',\n",
       "       'городской посёлок Новоселье', 'деревня Большие Колпаны',\n",
       "       'деревня Горбунки', 'деревня Батово', 'деревня Заневка',\n",
       "       'деревня Иссад', 'Приморск', 'городской посёлок Фёдоровское',\n",
       "       'деревня Мистолово', 'Новая Ладога', 'поселок Зимитицы',\n",
       "       'поселок Барышево', 'деревня Разметелево',\n",
       "       'поселок городского типа имени Свердлова', 'деревня Пеники',\n",
       "       'поселок Рябово', 'деревня Пудомяги', 'поселок станции Корнево',\n",
       "       'деревня Низино', 'деревня Бегуницы', 'посёлок Поляны',\n",
       "       'городской посёлок Мга', 'поселок Елизаветино',\n",
       "       'посёлок городского типа Кузнечное', 'деревня Колтуши',\n",
       "       'поселок Запорожское', 'посёлок городского типа Рощино',\n",
       "       'деревня Гостилицы', 'деревня Малое Карлино',\n",
       "       'посёлок Мичуринское', 'посёлок городского типа имени Морозова',\n",
       "       'посёлок Песочный', 'посёлок Сосново', 'деревня Аро',\n",
       "       'поселок Ильичёво', 'посёлок городского типа Тайцы',\n",
       "       'деревня Малое Верево', 'деревня Извара', 'поселок станции Вещево',\n",
       "       'село Паша', 'деревня Калитино',\n",
       "       'посёлок городского типа Ульяновка', 'деревня Чудской Бор',\n",
       "       'поселок городского типа Дубровка', 'деревня Мины',\n",
       "       'поселок Войсковицы', 'посёлок городского типа имени Свердлова',\n",
       "       'деревня Коркино', 'посёлок Ропша',\n",
       "       'поселок городского типа Приладожский', 'посёлок Щеглово',\n",
       "       'посёлок Гаврилово', 'Лодейное Поле', 'деревня Рабитицы',\n",
       "       'поселок городского типа Никольский', 'деревня Кузьмолово',\n",
       "       'деревня Малые Колпаны', 'поселок Тельмана',\n",
       "       'посёлок Петро-Славянка', 'городской посёлок Назия',\n",
       "       'посёлок Репино', 'посёлок Ильичёво', 'поселок Углово',\n",
       "       'поселок Старая Малукса', 'садовое товарищество Рахья',\n",
       "       'поселок Аннино', 'поселок Победа', 'деревня Меньково',\n",
       "       'деревня Старые Бегуницы', 'посёлок Сапёрный', 'поселок Семрино',\n",
       "       'поселок Гаврилово', 'поселок Глажево', 'поселок Кобринское',\n",
       "       'деревня Гарболово', 'деревня Юкки',\n",
       "       'поселок станции Приветнинское', 'деревня Мануйлово',\n",
       "       'деревня Пчева', 'поселок Поляны', 'поселок Цвылёво',\n",
       "       'поселок Мельниково', 'посёлок Пудость', 'посёлок Усть-Луга',\n",
       "       'Светогорск', 'Любань', 'поселок Селезнёво',\n",
       "       'поселок городского типа Рябово', 'Каменногорск', 'деревня Кривко',\n",
       "       'поселок Глебычево', 'деревня Парицы', 'поселок Жилпосёлок',\n",
       "       'посёлок городского типа Мга', 'городской поселок Янино-1',\n",
       "       'посёлок Войскорово', 'село Никольское', 'посёлок Терволово',\n",
       "       'поселок Стеклянный', 'посёлок городского типа Важины',\n",
       "       'посёлок Мыза-Ивановка', 'село Русско-Высоцкое',\n",
       "       'поселок городского типа Лебяжье',\n",
       "       'поселок городского типа Форносово', 'село Старая Ладога',\n",
       "       'поселок Житково', 'городской посёлок Виллози', 'деревня Лампово',\n",
       "       'деревня Шпаньково', 'деревня Лаврики', 'посёлок Сумино',\n",
       "       'посёлок Возрождение', 'деревня Старосиверская',\n",
       "       'посёлок Кикерино', 'поселок Возрождение',\n",
       "       'деревня Старое Хинколово', 'посёлок Пригородный',\n",
       "       'посёлок Торфяное', 'городской посёлок Будогощь',\n",
       "       'поселок Суходолье', 'поселок Красная Долина', 'деревня Хапо-Ое',\n",
       "       'поселок городского типа Дружная Горка', 'поселок Лисий Нос',\n",
       "       'деревня Яльгелево', 'посёлок Стеклянный', 'село Рождествено',\n",
       "       'деревня Старополье', 'посёлок Левашово', 'деревня Сяськелево',\n",
       "       'деревня Камышовка',\n",
       "       'садоводческое некоммерческое товарищество Лесная Поляна',\n",
       "       'деревня Хязельки', 'поселок Жилгородок',\n",
       "       'посёлок городского типа Павлово', 'деревня Ялгино',\n",
       "       'поселок Новый Учхоз', 'городской посёлок Рощино',\n",
       "       'поселок Гончарово', 'поселок Почап', 'посёлок Сапёрное',\n",
       "       'посёлок Платформа 69-й километр', 'поселок Каложицы',\n",
       "       'деревня Фалилеево', 'деревня Пельгора',\n",
       "       'поселок городского типа Лесогорский', 'деревня Торошковичи',\n",
       "       'посёлок Белоостров', 'посёлок Алексеевка', 'поселок Серебрянский',\n",
       "       'поселок Лукаши', 'поселок Петровское', 'деревня Щеглово',\n",
       "       'поселок Мичуринское', 'деревня Тарасово', 'поселок Кингисеппский',\n",
       "       'посёлок при железнодорожной станции Вещево', 'поселок Ушаки',\n",
       "       'деревня Котлы', 'деревня Сижно', 'деревня Торосово',\n",
       "       'посёлок Форт Красная Горка', 'поселок городского типа Токсово',\n",
       "       'деревня Новолисино', 'посёлок станции Громово', 'деревня Глинка',\n",
       "       'посёлок Мельниково', 'поселок городского типа Назия',\n",
       "       'деревня Старая Пустошь', 'поселок Коммунары', 'поселок Починок',\n",
       "       'посёлок городского типа Вознесенье', 'деревня Разбегаево',\n",
       "       'посёлок городского типа Рябово', 'поселок Гладкое',\n",
       "       'посёлок при железнодорожной станции Приветнинское',\n",
       "       'поселок Тёсово-4', 'посёлок Жилгородок', 'деревня Бор',\n",
       "       'посёлок Коробицыно', 'деревня Большая Вруда', 'деревня Курковицы',\n",
       "       'посёлок Лисий Нос', 'городской посёлок Советский',\n",
       "       'посёлок Кобралово', 'деревня Суоранда', 'поселок Кобралово',\n",
       "       'поселок городского типа Кондратьево',\n",
       "       'коттеджный поселок Счастье', 'поселок Любань', 'деревня Реброво',\n",
       "       'деревня Зимитицы', 'деревня Тойворово', 'поселок Семиозерье',\n",
       "       'поселок Лесное', 'поселок Совхозный', 'поселок Усть-Луга',\n",
       "       'посёлок Ленинское', 'посёлок Суйда',\n",
       "       'посёлок городского типа Форносово', 'деревня Нижние Осельки',\n",
       "       'посёлок станции Свирь', 'поселок Перово', 'Высоцк',\n",
       "       'поселок Гарболово', 'село Шум', 'поселок Котельский',\n",
       "       'поселок станции Лужайка', 'деревня Большая Пустомержа',\n",
       "       'поселок Красносельское', 'деревня Вахнова Кара', 'деревня Пижма',\n",
       "       'коттеджный поселок Кивеннапа Север', 'поселок Коробицыно',\n",
       "       'поселок Ромашки', 'посёлок Перово', 'деревня Каськово',\n",
       "       'деревня Куровицы', 'посёлок Плоское', 'поселок Сумино',\n",
       "       'поселок городского типа Большая Ижора', 'поселок Кирпичное',\n",
       "       'деревня Ям-Тесово', 'деревня Раздолье', 'деревня Терпилицы',\n",
       "       'посёлок Шугозеро', 'деревня Ваганово', 'поселок Пушное',\n",
       "       'садовое товарищество Садко', 'посёлок Усть-Ижора',\n",
       "       'деревня Выскатка', 'городской посёлок Свирьстрой',\n",
       "       'поселок Громово', 'деревня Кисельня', 'посёлок Старая Малукса',\n",
       "       'деревня Трубников Бор', 'поселок Калитино',\n",
       "       'посёлок Высокоключевой', 'садовое товарищество Приладожский',\n",
       "       'посёлок Пансионат Зелёный Бор', 'деревня Ненимяки',\n",
       "       'поселок Пансионат Зелёный Бор', 'деревня Снегирёвка',\n",
       "       'деревня Рапполово', 'деревня Пустынка', 'поселок Рабитицы',\n",
       "       'деревня Большой Сабск', 'деревня Русско', 'деревня Лупполово',\n",
       "       'деревня Большое Рейзино', 'деревня Малая Романовка',\n",
       "       'поселок Дружноселье', 'поселок Пчевжа', 'поселок Володарское',\n",
       "       'деревня Нижняя', 'коттеджный посёлок Лесное', 'деревня Тихковицы',\n",
       "       'деревня Борисова Грива', 'посёлок Дзержинского'], dtype=object)"
      ]
     },
     "execution_count": 86,
     "metadata": {},
     "output_type": "execute_result"
    }
   ],
   "source": [
    "r_estate['locality_name'].unique() # запросим уникальные"
   ]
  },
  {
   "cell_type": "code",
   "execution_count": 87,
   "metadata": {},
   "outputs": [
    {
     "data": {
      "text/plain": [
       "array([18863., 12817., 21741., ..., 11751., 20151., 24665.])"
      ]
     },
     "execution_count": 87,
     "metadata": {},
     "output_type": "execute_result"
    }
   ],
   "source": [
    "r_estate['airports_nearest'].unique() "
   ]
  },
  {
   "cell_type": "code",
   "execution_count": 88,
   "metadata": {},
   "outputs": [
    {
     "data": {
      "text/plain": [
       "5542"
      ]
     },
     "execution_count": 88,
     "metadata": {},
     "output_type": "execute_result"
    }
   ],
   "source": [
    "r_estate['airports_nearest'].isna().sum()"
   ]
  },
  {
   "cell_type": "markdown",
   "metadata": {},
   "source": [
    "**Посчитаем целевой столбец**"
   ]
  },
  {
   "cell_type": "code",
   "execution_count": 89,
   "metadata": {},
   "outputs": [
    {
     "data": {
      "text/plain": [
       "15721"
      ]
     },
     "execution_count": 89,
     "metadata": {},
     "output_type": "execute_result"
    }
   ],
   "source": [
    "r_estate[r_estate['locality_name'] == 'Санкт-Петербург']['locality_name'].count() "
   ]
  },
  {
   "cell_type": "markdown",
   "metadata": {},
   "source": [
    " **Посчитаем наличие значений удаленности по целевому столбцу**"
   ]
  },
  {
   "cell_type": "code",
   "execution_count": 90,
   "metadata": {},
   "outputs": [
    {
     "data": {
      "text/plain": [
       "15636"
      ]
     },
     "execution_count": 90,
     "metadata": {},
     "output_type": "execute_result"
    }
   ],
   "source": [
    "r_estate[r_estate['locality_name'] == 'Санкт-Петербург']['airports_nearest'].count()"
   ]
  },
  {
   "cell_type": "code",
   "execution_count": 91,
   "metadata": {},
   "outputs": [
    {
     "data": {
      "text/plain": [
       "array([16028., 18603., 13933., ..., 27977.,  7262.,  6263.])"
      ]
     },
     "execution_count": 91,
     "metadata": {},
     "output_type": "execute_result"
    }
   ],
   "source": [
    "r_estate['cityCenters_nearest'].unique()"
   ]
  },
  {
   "cell_type": "code",
   "execution_count": 92,
   "metadata": {},
   "outputs": [
    {
     "data": {
      "text/plain": [
       "5519"
      ]
     },
     "execution_count": 92,
     "metadata": {},
     "output_type": "execute_result"
    }
   ],
   "source": [
    "r_estate['cityCenters_nearest'].isna().sum()"
   ]
  },
  {
   "cell_type": "code",
   "execution_count": 93,
   "metadata": {},
   "outputs": [
    {
     "data": {
      "text/plain": [
       "15660"
      ]
     },
     "execution_count": 93,
     "metadata": {},
     "output_type": "execute_result"
    }
   ],
   "source": [
    "r_estate[r_estate['locality_name'] == 'Санкт-Петербург']['cityCenters_nearest'].count()"
   ]
  },
  {
   "cell_type": "code",
   "execution_count": 94,
   "metadata": {},
   "outputs": [
    {
     "data": {
      "text/plain": [
       "array([ 1.,  0.,  2., nan,  3.])"
      ]
     },
     "execution_count": 94,
     "metadata": {},
     "output_type": "execute_result"
    }
   ],
   "source": [
    "r_estate['parks_around3000'].unique()"
   ]
  },
  {
   "cell_type": "code",
   "execution_count": 95,
   "metadata": {},
   "outputs": [
    {
     "data": {
      "text/plain": [
       "1     0.0\n",
       "6     0.0\n",
       "7     0.0\n",
       "9     0.0\n",
       "11    0.0\n",
       "14    0.0\n",
       "17    0.0\n",
       "19    0.0\n",
       "20    0.0\n",
       "25    0.0\n",
       "Name: parks_around3000, dtype: float64"
      ]
     },
     "execution_count": 95,
     "metadata": {},
     "output_type": "execute_result"
    }
   ],
   "source": [
    "r_estate['parks_around3000'].nsmallest(10)"
   ]
  },
  {
   "cell_type": "code",
   "execution_count": 96,
   "metadata": {},
   "outputs": [
    {
     "data": {
      "text/plain": [
       "16     3.0\n",
       "24     3.0\n",
       "72     3.0\n",
       "107    3.0\n",
       "140    3.0\n",
       "235    3.0\n",
       "302    3.0\n",
       "317    3.0\n",
       "464    3.0\n",
       "480    3.0\n",
       "Name: parks_around3000, dtype: float64"
      ]
     },
     "execution_count": 96,
     "metadata": {},
     "output_type": "execute_result"
    }
   ],
   "source": [
    "r_estate['parks_around3000'].nlargest(10)"
   ]
  },
  {
   "cell_type": "code",
   "execution_count": 97,
   "metadata": {},
   "outputs": [
    {
     "data": {
      "text/plain": [
       "array([4.820e+02,       nan, 9.000e+01, 8.400e+01, 1.120e+02, 3.100e+02,\n",
       "       2.940e+02, 5.900e+02, 4.200e+02, 7.590e+02, 2.480e+02, 5.170e+02,\n",
       "       4.110e+02, 4.520e+02, 5.320e+02, 4.590e+02, 7.250e+02, 4.700e+01,\n",
       "       6.200e+02, 6.750e+02, 5.310e+02, 5.260e+02, 2.710e+02, 3.630e+02,\n",
       "       6.480e+02, 3.820e+02, 3.340e+02, 1.670e+02, 4.450e+02, 2.310e+02,\n",
       "       5.110e+02, 7.510e+02, 6.660e+02, 3.840e+02, 1.270e+02, 2.410e+02,\n",
       "       4.880e+02, 1.560e+02, 5.760e+02, 2.850e+02, 6.330e+02, 1.500e+01,\n",
       "       2.150e+02, 5.330e+02, 1.410e+02, 3.660e+02, 3.410e+02, 5.890e+02,\n",
       "       3.440e+02, 5.080e+02, 4.170e+02, 7.620e+02, 4.410e+02, 5.590e+02,\n",
       "       7.490e+02, 1.230e+02, 5.010e+02, 1.000e+01, 1.133e+03, 1.205e+03,\n",
       "       5.160e+02, 8.600e+02, 2.760e+02, 9.800e+02, 4.630e+02, 5.910e+02,\n",
       "       2.390e+02, 6.510e+02, 1.021e+03, 4.850e+02, 5.860e+02, 3.700e+02,\n",
       "       6.880e+02, 2.750e+02, 5.460e+02, 4.660e+02, 1.390e+02, 2.510e+02,\n",
       "       5.370e+02, 6.270e+02, 1.040e+02, 4.500e+02, 6.570e+02, 5.780e+02,\n",
       "       7.700e+01, 1.210e+02, 3.140e+02, 1.950e+02, 5.560e+02, 4.690e+02,\n",
       "       7.500e+01, 3.980e+02, 6.810e+02, 5.000e+01, 9.200e+01, 9.290e+02,\n",
       "       3.200e+02, 5.100e+02, 7.410e+02, 3.570e+02, 2.295e+03, 6.340e+02,\n",
       "       3.770e+02, 6.110e+02, 3.490e+02, 4.510e+02, 6.410e+02, 3.740e+02,\n",
       "       8.350e+02, 9.300e+01, 5.130e+02, 3.010e+02, 1.620e+02, 1.510e+03,\n",
       "       5.190e+02, 3.600e+01, 5.570e+02, 4.210e+02, 1.060e+02, 5.400e+02,\n",
       "       6.300e+02, 3.850e+02, 4.710e+02, 3.250e+02, 8.030e+02, 4.010e+02,\n",
       "       1.850e+02, 7.830e+02, 3.920e+02, 4.680e+02, 1.820e+02, 2.870e+02,\n",
       "       3.090e+02, 5.050e+02, 1.870e+02, 4.530e+02, 3.880e+02, 6.350e+02,\n",
       "       6.530e+02, 2.900e+02, 5.380e+02, 2.260e+02, 7.980e+02, 6.800e+02,\n",
       "       4.160e+02, 4.120e+02, 1.380e+02, 6.370e+02, 8.160e+02, 7.020e+02,\n",
       "       6.060e+02, 1.520e+02, 2.102e+03, 4.600e+02, 5.960e+02, 6.040e+02,\n",
       "       3.280e+02, 6.760e+02, 5.340e+02, 5.580e+02, 4.720e+02, 1.443e+03,\n",
       "       1.590e+02, 1.900e+01, 5.300e+01, 2.070e+02, 4.980e+02, 5.200e+02,\n",
       "       6.450e+02, 1.610e+02, 7.690e+02, 5.800e+02, 3.780e+02, 4.940e+02,\n",
       "       7.140e+02, 4.640e+02, 4.460e+02, 2.200e+02, 8.020e+02, 2.880e+02,\n",
       "       5.150e+02, 6.010e+02, 1.920e+02, 4.560e+02, 1.700e+02, 6.320e+02,\n",
       "       5.870e+02, 6.430e+02, 9.090e+02, 2.910e+02, 6.870e+02, 7.840e+02,\n",
       "       5.060e+02, 4.350e+02, 4.830e+02, 5.200e+01, 1.750e+02, 4.610e+02,\n",
       "       2.330e+02, 2.137e+03, 2.010e+02, 5.630e+02, 9.680e+02, 2.380e+02,\n",
       "       4.760e+02, 1.300e+01, 3.670e+02, 7.350e+02, 1.770e+02, 2.920e+02,\n",
       "       4.700e+02, 5.700e+01, 3.930e+02, 4.960e+02, 1.496e+03, 1.570e+02,\n",
       "       4.390e+02, 7.070e+02, 2.890e+02, 5.990e+02, 9.370e+02, 5.500e+02,\n",
       "       3.990e+02, 3.370e+02, 1.188e+03, 6.100e+01, 2.650e+02, 1.810e+02,\n",
       "       5.360e+02, 2.950e+02, 2.590e+02, 5.210e+02, 2.630e+02, 2.360e+02,\n",
       "       3.910e+02, 4.330e+02, 2.430e+02, 3.680e+02, 4.810e+02, 4.030e+02,\n",
       "       4.250e+02, 7.560e+02, 7.120e+02, 1.940e+02, 2.580e+02, 4.910e+02,\n",
       "       1.470e+02, 6.720e+02, 7.370e+02, 7.000e+02, 3.260e+02, 6.800e+01,\n",
       "       3.360e+02, 5.410e+02, 8.700e+01, 8.230e+02, 5.720e+02, 2.340e+02,\n",
       "       2.245e+03, 4.920e+02, 2.110e+02, 2.700e+01, 2.520e+02, 3.300e+02,\n",
       "       4.200e+01, 6.960e+02, 3.430e+02, 1.960e+02, 2.500e+02, 1.730e+02,\n",
       "       5.920e+02, 4.580e+02, 6.900e+02, 4.970e+02, 1.731e+03, 3.060e+02,\n",
       "       8.420e+02, 1.510e+02, 6.550e+02, 5.070e+02, 4.430e+02, 5.680e+02,\n",
       "       2.270e+02, 6.260e+02, 1.100e+02, 6.500e+02, 8.050e+02, 6.460e+02,\n",
       "       3.020e+02, 3.040e+02, 6.580e+02, 3.180e+02, 2.780e+02, 2.470e+02,\n",
       "       9.340e+02, 2.180e+02, 1.600e+02, 5.420e+02, 7.210e+02, 6.680e+02,\n",
       "       4.570e+02, 3.860e+02, 2.610e+02, 4.140e+02, 2.840e+02, 8.430e+02,\n",
       "       1.440e+02, 1.830e+02, 5.970e+02, 7.900e+02, 6.090e+02, 9.510e+02,\n",
       "       2.100e+02, 1.530e+02, 2.170e+02, 7.100e+02, 1.065e+03, 1.740e+02,\n",
       "       3.500e+01, 4.400e+02, 3.810e+02, 1.100e+01, 8.110e+02, 6.830e+02,\n",
       "       3.350e+02, 1.630e+02, 3.650e+02, 9.200e+02, 6.240e+02, 4.780e+02,\n",
       "       8.500e+02, 5.240e+02, 5.540e+02, 1.550e+02, 8.980e+02, 3.800e+02,\n",
       "       7.150e+02, 2.790e+02, 3.310e+02, 7.390e+02, 1.370e+02, 6.910e+02,\n",
       "       5.100e+01, 5.810e+02, 5.700e+02, 6.440e+02, 2.400e+02, 1.490e+02,\n",
       "       3.640e+02, 1.756e+03, 2.130e+02, 6.380e+02, 1.103e+03, 2.460e+02,\n",
       "       7.600e+01, 1.114e+03, 1.600e+01, 1.790e+02, 5.690e+02, 5.470e+02,\n",
       "       5.520e+02, 9.420e+02, 1.340e+02, 7.380e+02, 7.820e+02, 6.500e+01,\n",
       "       3.890e+02, 4.620e+02, 3.580e+02, 1.780e+02, 6.920e+02, 9.330e+02,\n",
       "       6.820e+02, 6.770e+02, 6.390e+02, 2.000e+01, 1.145e+03, 6.520e+02,\n",
       "       5.350e+02, 6.740e+02, 5.290e+02, 3.540e+02, 4.890e+02, 3.064e+03,\n",
       "       4.470e+02, 5.090e+02, 5.280e+02, 8.300e+02, 1.660e+02, 6.710e+02,\n",
       "       8.700e+02, 6.310e+02, 4.800e+02, 4.070e+02, 3.150e+02, 7.800e+01,\n",
       "       5.740e+02, 9.450e+02, 8.080e+02, 1.080e+02, 3.110e+02, 4.740e+02,\n",
       "       1.514e+03, 3.120e+02, 4.320e+02, 2.570e+02, 9.270e+02, 3.800e+01,\n",
       "       2.230e+02, 8.310e+02, 2.700e+02, 2.665e+03, 2.090e+02, 9.100e+01,\n",
       "       4.480e+02, 6.600e+02, 1.360e+02, 2.060e+02, 1.640e+02, 4.930e+02,\n",
       "       4.420e+02, 7.330e+02, 2.888e+03, 2.300e+02, 3.330e+02, 3.760e+02,\n",
       "       5.650e+02, 9.810e+02, 1.980e+02, 5.600e+02, 5.770e+02, 3.420e+02,\n",
       "       5.610e+02, 2.420e+02, 2.276e+03, 3.590e+02, 1.264e+03, 5.250e+02,\n",
       "       5.450e+02, 2.990e+02, 9.790e+02, 2.930e+02, 3.320e+02, 7.200e+01,\n",
       "       2.450e+02, 4.090e+02, 1.477e+03, 1.140e+02, 5.800e+01, 5.530e+02,\n",
       "       5.880e+02, 3.700e+01, 3.940e+02, 3.600e+02, 5.550e+02, 4.870e+02,\n",
       "       6.190e+02, 7.400e+01, 3.730e+02, 6.210e+02, 2.080e+02, 7.040e+02,\n",
       "       4.990e+02, 5.620e+02, 4.080e+02, 6.170e+02, 1.342e+03, 4.220e+02,\n",
       "       2.560e+02, 5.230e+02, 2.467e+03, 4.550e+02, 6.840e+02, 1.320e+02,\n",
       "       6.030e+02, 6.970e+02, 4.260e+02, 3.900e+02, 2.000e+02, 4.340e+02,\n",
       "       5.480e+02, 5.940e+02, 5.040e+02, 4.100e+01, 1.050e+02, 5.430e+02,\n",
       "       5.440e+02, 8.260e+02, 3.000e+01, 5.020e+02, 7.530e+02, 8.930e+02,\n",
       "       3.870e+02, 1.930e+02, 8.010e+02, 9.400e+01, 6.250e+02, 7.060e+02,\n",
       "       6.360e+02, 3.460e+02, 7.190e+02, 7.170e+02, 2.290e+02, 4.770e+02,\n",
       "       7.320e+02, 6.670e+02, 4.840e+02, 5.300e+02, 8.880e+02, 9.380e+02,\n",
       "       2.348e+03, 3.030e+02, 9.650e+02, 5.140e+02, 5.900e+01, 5.220e+02,\n",
       "       9.000e+00, 6.790e+02, 2.209e+03, 1.880e+02, 6.950e+02, 9.610e+02,\n",
       "       1.304e+03, 3.270e+02, 1.028e+03, 3.790e+02, 7.660e+02, 1.097e+03,\n",
       "       8.900e+02, 4.150e+02, 2.860e+02, 3.560e+02, 8.670e+02, 7.910e+02,\n",
       "       1.300e+02, 8.800e+01, 2.905e+03, 3.070e+02, 6.690e+02, 3.710e+02,\n",
       "       5.030e+02, 4.440e+02, 1.424e+03, 5.660e+02, 1.007e+03, 5.930e+02,\n",
       "       1.362e+03, 3.610e+02, 1.499e+03, 9.600e+01, 1.480e+02, 1.260e+02,\n",
       "       1.690e+02, 6.600e+01, 9.040e+02, 1.272e+03, 6.490e+02, 7.960e+02,\n",
       "       3.900e+01, 1.767e+03, 7.420e+02, 3.620e+02, 2.820e+02, 9.170e+02,\n",
       "       5.510e+02, 5.120e+02, 4.900e+01, 3.230e+02, 2.300e+01, 2.160e+02,\n",
       "       7.800e+02, 6.160e+02, 6.400e+02, 4.240e+02, 1.077e+03, 1.049e+03,\n",
       "       6.980e+02, 3.500e+02, 4.790e+02, 7.870e+02, 1.586e+03, 3.190e+02,\n",
       "       8.290e+02, 2.800e+02, 4.900e+02, 6.000e+02, 4.230e+02, 6.620e+02,\n",
       "       9.160e+02, 2.810e+02, 7.780e+02, 2.690e+02, 1.350e+02, 4.950e+02,\n",
       "       8.790e+02, 1.416e+03, 2.280e+02, 4.130e+02, 7.630e+02, 2.030e+02,\n",
       "       7.310e+02, 4.370e+02, 5.850e+02, 3.400e+02, 1.213e+03, 6.020e+02,\n",
       "       7.890e+02, 8.860e+02, 7.240e+02, 9.700e+01, 7.010e+02, 2.220e+02,\n",
       "       3.000e+02, 4.600e+01, 4.270e+02, 4.280e+02, 2.660e+02, 4.310e+02,\n",
       "       2.100e+01, 3.970e+02, 6.280e+02, 3.050e+02, 2.120e+02, 6.220e+02,\n",
       "       1.700e+01, 2.550e+02, 1.910e+02, 2.066e+03, 1.650e+02, 3.550e+02,\n",
       "       1.280e+02, 3.830e+02, 2.320e+02, 5.180e+02, 4.000e+02, 7.610e+02,\n",
       "       3.220e+02, 8.560e+02, 1.200e+03, 3.520e+02, 2.847e+03, 6.730e+02,\n",
       "       6.860e+02, 9.630e+02, 5.390e+02, 1.420e+02, 1.860e+02, 4.040e+02,\n",
       "       1.802e+03, 2.620e+02, 6.230e+02, 8.500e+01, 2.240e+02, 8.270e+02,\n",
       "       7.090e+02, 4.360e+02, 4.060e+02, 7.360e+02, 4.730e+02, 9.150e+02,\n",
       "       3.290e+02, 5.750e+02, 4.500e+01, 1.181e+03, 6.140e+02, 2.600e+02,\n",
       "       2.409e+03, 8.170e+02, 9.970e+02, 5.790e+02, 2.830e+02, 1.186e+03,\n",
       "       1.596e+03, 8.100e+01, 1.800e+01, 6.940e+02, 3.480e+02, 3.530e+02,\n",
       "       1.020e+02, 1.720e+02, 5.830e+02, 1.290e+02, 2.530e+02, 7.110e+02,\n",
       "       1.190e+03, 4.650e+02, 5.490e+02, 6.100e+02, 8.140e+02, 7.160e+02,\n",
       "       2.770e+02, 8.340e+02, 1.326e+03, 1.240e+02, 3.170e+02, 9.360e+02,\n",
       "       3.390e+02, 8.120e+02, 4.490e+02, 4.190e+02, 3.450e+02, 1.170e+02,\n",
       "       1.840e+02, 9.500e+01, 2.960e+02, 1.580e+02, 7.440e+02, 6.050e+02,\n",
       "       1.228e+03, 5.950e+02, 9.060e+02, 8.090e+02, 5.270e+02, 7.650e+02,\n",
       "       5.600e+01, 6.420e+02, 6.300e+01, 2.416e+03, 8.300e+01, 9.730e+02,\n",
       "       2.670e+02, 2.350e+02, 6.850e+02, 1.970e+02, 6.130e+02, 5.640e+02,\n",
       "       6.180e+02, 3.080e+02, 2.640e+02, 1.199e+03, 1.008e+03, 8.460e+02,\n",
       "       1.074e+03, 1.990e+02, 6.700e+01, 2.400e+01, 7.670e+02, 1.069e+03,\n",
       "       8.200e+01, 3.300e+01, 3.130e+02, 4.670e+02, 1.053e+03, 7.030e+02,\n",
       "       2.740e+02, 6.700e+02, 1.710e+02, 1.010e+02, 6.630e+02, 1.942e+03,\n",
       "       8.000e+02, 6.120e+02, 9.560e+02, 7.640e+02, 2.200e+01, 4.180e+02,\n",
       "       1.130e+02, 4.300e+02, 1.256e+03, 4.860e+02, 6.150e+02, 1.722e+03,\n",
       "       8.620e+02, 6.200e+01, 6.890e+02, 4.290e+02, 3.160e+02, 1.648e+03,\n",
       "       5.000e+02, 2.711e+03, 2.540e+02, 3.720e+02, 1.951e+03, 5.840e+02,\n",
       "       4.020e+02, 7.280e+02, 3.750e+02, 7.290e+02, 6.070e+02, 8.520e+02,\n",
       "       7.180e+02, 2.020e+02, 2.970e+02, 1.760e+02, 1.040e+03, 4.750e+02,\n",
       "       7.050e+02, 3.950e+02, 2.980e+02, 4.100e+02, 4.000e+01, 1.098e+03,\n",
       "       2.633e+03, 1.354e+03, 3.240e+02, 8.060e+02, 6.650e+02, 4.300e+01,\n",
       "       9.190e+02, 6.540e+02, 1.500e+02, 9.660e+02, 3.380e+02, 1.310e+02,\n",
       "       9.210e+02, 7.460e+02, 6.990e+02, 7.540e+02, 7.860e+02, 1.909e+03,\n",
       "       6.290e+02, 1.248e+03, 2.720e+02, 2.747e+03, 7.230e+02, 9.740e+02,\n",
       "       2.040e+02, 7.920e+02, 4.400e+01, 1.680e+02, 1.562e+03, 8.410e+02,\n",
       "       6.080e+02, 9.430e+02, 1.022e+03, 2.250e+02, 2.490e+02, 2.880e+03,\n",
       "       1.160e+02, 5.710e+02, 5.500e+01, 8.680e+02, 3.960e+02, 1.540e+02,\n",
       "       1.180e+02, 1.481e+03, 5.980e+02, 9.520e+02, 8.200e+02, 1.090e+02,\n",
       "       2.218e+03, 1.150e+02, 2.440e+02, 7.100e+01, 2.210e+02, 8.730e+02,\n",
       "       8.690e+02, 2.050e+02, 3.400e+01, 6.900e+01, 8.590e+02, 9.670e+02,\n",
       "       1.150e+03, 5.400e+01, 6.400e+01, 3.510e+02, 7.000e+00, 1.400e+02,\n",
       "       1.086e+03, 1.460e+02, 1.299e+03, 1.501e+03, 6.610e+02, 2.026e+03,\n",
       "       9.130e+02, 5.670e+02, 2.730e+02, 8.040e+02, 7.750e+02, 1.200e+02,\n",
       "       3.470e+02, 8.580e+02, 1.330e+02, 1.030e+02, 4.540e+02, 1.000e+02,\n",
       "       8.280e+02, 4.050e+02, 4.800e+01, 7.220e+02, 1.887e+03, 1.809e+03,\n",
       "       3.690e+02, 8.870e+02, 8.390e+02, 7.270e+02, 1.120e+03, 7.700e+02,\n",
       "       1.900e+02, 1.250e+02, 1.057e+03, 8.610e+02, 3.190e+03, 9.320e+02,\n",
       "       7.400e+02, 8.480e+02, 1.191e+03, 2.131e+03, 8.750e+02, 7.710e+02,\n",
       "       1.041e+03, 3.210e+02, 6.930e+02, 8.600e+01, 2.370e+02, 1.215e+03,\n",
       "       7.970e+02, 3.000e+00, 9.030e+02, 1.790e+03, 1.094e+03, 7.480e+02,\n",
       "       6.560e+02, 7.680e+02, 6.590e+02, 8.320e+02, 9.900e+01, 1.220e+02,\n",
       "       1.800e+02, 5.820e+02, 1.620e+03, 2.800e+01, 7.260e+02, 1.364e+03,\n",
       "       6.000e+01, 7.550e+02, 7.300e+02, 9.410e+02, 1.190e+02, 1.200e+01,\n",
       "       7.300e+01, 1.070e+02, 1.211e+03, 1.270e+03, 9.930e+02, 1.400e+03,\n",
       "       1.000e+00, 9.800e+01, 7.080e+02, 8.890e+02, 7.580e+02, 1.450e+02,\n",
       "       7.450e+02, 8.660e+02, 1.568e+03, 1.079e+03, 8.630e+02, 1.400e+01,\n",
       "       4.380e+02, 1.148e+03, 1.061e+03, 7.930e+02, 8.850e+02, 2.489e+03,\n",
       "       5.730e+02, 7.990e+02, 1.361e+03, 6.780e+02, 7.790e+02, 1.423e+03,\n",
       "       1.064e+03, 1.564e+03, 2.555e+03, 2.427e+03, 9.690e+02, 7.130e+02,\n",
       "       2.532e+03, 1.011e+03, 1.890e+02, 8.530e+02, 3.013e+03, 1.312e+03,\n",
       "       2.190e+02, 8.450e+02, 6.470e+02, 7.940e+02, 1.329e+03, 8.220e+02,\n",
       "       1.262e+03, 1.073e+03, 1.798e+03, 9.850e+02, 1.657e+03, 7.880e+02,\n",
       "       6.640e+02, 3.200e+01, 7.570e+02, 2.680e+02, 8.000e+01, 2.768e+03,\n",
       "       2.009e+03, 8.470e+02, 7.600e+02, 1.167e+03, 4.000e+00, 2.984e+03])"
      ]
     },
     "execution_count": 97,
     "metadata": {},
     "output_type": "execute_result"
    }
   ],
   "source": [
    "r_estate['parks_nearest'].unique()"
   ]
  },
  {
   "cell_type": "code",
   "execution_count": 98,
   "metadata": {},
   "outputs": [
    {
     "data": {
      "text/plain": [
       "0        482.0\n",
       "1          NaN\n",
       "2         90.0\n",
       "3         84.0\n",
       "4        112.0\n",
       "         ...  \n",
       "23694    796.0\n",
       "23695      NaN\n",
       "23696      NaN\n",
       "23697    173.0\n",
       "23698      NaN\n",
       "Name: parks_nearest, Length: 23699, dtype: float64"
      ]
     },
     "execution_count": 98,
     "metadata": {},
     "output_type": "execute_result"
    }
   ],
   "source": [
    "r_estate['parks_nearest']"
   ]
  },
  {
   "cell_type": "code",
   "execution_count": 99,
   "metadata": {},
   "outputs": [
    {
     "data": {
      "text/plain": [
       "array([  nan,   81.,  558., ..., 1360., 1007.,  971.])"
      ]
     },
     "execution_count": 99,
     "metadata": {},
     "output_type": "execute_result"
    }
   ],
   "source": [
    "r_estate['days_exposition'].unique()"
   ]
  },
  {
   "cell_type": "code",
   "execution_count": 100,
   "metadata": {},
   "outputs": [
    {
     "data": {
      "text/plain": [
       "1632     1.0\n",
       "13061    2.0\n",
       "16053    2.0\n",
       "16212    2.0\n",
       "294      3.0\n",
       "582      3.0\n",
       "952      3.0\n",
       "1298     3.0\n",
       "1416     3.0\n",
       "1501     3.0\n",
       "Name: days_exposition, dtype: float64"
      ]
     },
     "execution_count": 100,
     "metadata": {},
     "output_type": "execute_result"
    }
   ],
   "source": [
    "r_estate['days_exposition'].nsmallest(10)"
   ]
  },
  {
   "cell_type": "code",
   "execution_count": 101,
   "metadata": {},
   "outputs": [
    {
     "data": {
      "text/plain": [
       "total_images                             19\n",
       "last_price                        4000000.0\n",
       "total_area                             49.9\n",
       "first_day_exposition    2019-05-01T00:00:00\n",
       "rooms                                     2\n",
       "ceiling_height                          2.5\n",
       "floors_total                            9.0\n",
       "living_area                            25.0\n",
       "floor                                     1\n",
       "is_apartment                            NaN\n",
       "studio                                False\n",
       "open_plan                             False\n",
       "kitchen_area                           10.0\n",
       "balcony                                 NaN\n",
       "locality_name               Санкт-Петербург\n",
       "airports_nearest                    13567.0\n",
       "cityCenters_nearest                 14384.0\n",
       "parks_around3000                        1.0\n",
       "parks_nearest                          20.0\n",
       "ponds_around3000                        1.0\n",
       "ponds_nearest                         681.0\n",
       "days_exposition                         1.0\n",
       "Name: 1632, dtype: object"
      ]
     },
     "execution_count": 101,
     "metadata": {},
     "output_type": "execute_result"
    }
   ],
   "source": [
    "r_estate.loc[1632]"
   ]
  },
  {
   "cell_type": "code",
   "execution_count": 102,
   "metadata": {},
   "outputs": [
    {
     "data": {
      "text/plain": [
       "18843    1580.0\n",
       "1109     1572.0\n",
       "9553     1553.0\n",
       "1885     1513.0\n",
       "6691     1512.0\n",
       "20969    1512.0\n",
       "14093    1497.0\n",
       "15313    1489.0\n",
       "19123    1485.0\n",
       "11955    1484.0\n",
       "Name: days_exposition, dtype: float64"
      ]
     },
     "execution_count": 102,
     "metadata": {},
     "output_type": "execute_result"
    }
   ],
   "source": [
    "r_estate['days_exposition'].nlargest(10)"
   ]
  },
  {
   "cell_type": "code",
   "execution_count": 103,
   "metadata": {},
   "outputs": [
    {
     "data": {
      "text/plain": [
       "total_images                                 11\n",
       "last_price                            3500000.0\n",
       "total_area                                 48.2\n",
       "first_day_exposition        2014-12-15T00:00:00\n",
       "rooms                                         2\n",
       "ceiling_height                              2.5\n",
       "floors_total                                5.0\n",
       "living_area                                27.4\n",
       "floor                                         2\n",
       "is_apartment                                NaN\n",
       "studio                                    False\n",
       "open_plan                                 False\n",
       "kitchen_area                                7.7\n",
       "balcony                                     3.0\n",
       "locality_name           деревня Новое Девяткино\n",
       "airports_nearest                            NaN\n",
       "cityCenters_nearest                         NaN\n",
       "parks_around3000                            NaN\n",
       "parks_nearest                               NaN\n",
       "ponds_around3000                            NaN\n",
       "ponds_nearest                               NaN\n",
       "days_exposition                          1580.0\n",
       "Name: 18843, dtype: object"
      ]
     },
     "execution_count": 103,
     "metadata": {},
     "output_type": "execute_result"
    }
   ],
   "source": [
    "r_estate.loc[18843]"
   ]
  },
  {
   "cell_type": "code",
   "execution_count": 104,
   "metadata": {},
   "outputs": [
    {
     "data": {
      "text/plain": [
       "3181"
      ]
     },
     "execution_count": 104,
     "metadata": {},
     "output_type": "execute_result"
    }
   ],
   "source": [
    "r_estate['days_exposition'].isna().sum()"
   ]
  },
  {
   "cell_type": "markdown",
   "metadata": {},
   "source": [
    "### Вывод"
   ]
  },
  {
   "cell_type": "markdown",
   "metadata": {},
   "source": [
    "Необходима предобработка.\n",
    "*  **'total_images'** всё ок.\n",
    "*  **'last_price'** лишняя точность - привести к int. Проверили крайние значения, поправить строку 8793,предположим что            упустили    три    ноля в цене. Остальные на границе с финляндией цена адекватна оставляем (учтём в дальнейшем).\n",
    "\n",
    "*  **'total_area'** минимальные площади характерны для комнат а не для квартир, это отдельный рынок он не является предметом      нашего исследования удалим все объекты площадью меньше 20 метров(минимальный размер студии) и почти максимальный для            комнаты. Остальные значения хоть и смогут повляиять на среднее, оставим и изучим в дальнейшем.\n",
    "*  **'first_day_exposition'** привести к временному формату\n",
    "*  **'rooms'** есть значения равные 0, но так обозначаются квартиры студии и квартиры с открытой планировкой, поэтому              изменять его не будем, для простоты дальнейшего поиска.\n",
    "\n",
    "*  **'cieiling_height'** много пропусков заполним медианным значением, но сначала крайнии значения приведем к                      одному.Минимальные к 2.4 т.к. это минимальная высота потолков по СНИПАМ с учетом отделки, максимальные приведём к 4.2 м. ,      выше встречается, но это исключение которым можно принебречь.По пропускам обратить внимание etl инженеров.Эти данные есть\n",
    "   их можно найти и вставить даже если пользователи не знают их, либо проблема в выгрузке.\n",
    "*  **'floors_total'** излишняя точность, заменить на int. Небольшая нехватка значений заменить на медианное.\n",
    "   в паре строк 2253,16731 поменять этажность на 12(обычная многоэтажка судя по площадям), т.к. такой этажности домов в Санкт-    Петербурге нет. Одноэтажные 25 шт.  дома отбрасываем т.к. это скорей всего частный сектор, т.е. не квартиры.\n",
    "*  **'living_area'** есть объекты с жилой площадью меньше разрешенной СНИПАМИ(14 кв.м комната),есть пустые значения, более 8500 строк(очень        много для выборки) с жилой площадью менее 28 кв.м. это мало вероятно т.к. стандартаная двухкомнатная это 28-30 кв.м. жилой      площади а двухкомнатные это большая доля рынка, взамосвязи не нашел, поэтому приведем в зависимость от количества комнат        составив функцию однойй строки.\n",
    "*  **'floor'** подозрительно всё в порядке)))\n",
    "*  **'is_apartment'** привести к bool, значения NaN заменить на False, т.к. аппартаменты очень маленький сегмент недвижимости\n",
    "   небольшое количество данных это нормально и NaN это скорей всего не апартаменты.\n",
    "*  **'studio'** ok\n",
    "*  **'open_plan'** ok\n",
    "*  **'kitchen_area'** заменим на медианное значения в NaN и там где кухня меньше 6 метров приведм к 7, по СНИПАМ кухня 8 метров    но есть большоё количество построенного жилья с кухней 6-8 м. Максимальные значения оставим т.к. выборочная проверка            показала, что  это дорогие объекты с большой площадью, где кухня может быть больших размеров.\n",
    "*  **'balcony'** Привести к bool т.к балкон либо есть, либо его нет и для наших целей количество не имеет значения.                Предположим что пропущенные значения это просто отсутствие балконов, присвоим им False.\n",
    "*  **'locality_name'** удалим пропущенные\n",
    "*  **'airports_nearest'** в 85-ти пропущенных значений по целевому столбцу (Санкт-Петербург) заполним пропуски                    медианными, остальные приравняем к нулю т.к. близость аэропорта имеет смысл только для Санкт-Петербурга. Приведём к int,        округлим до киллометра. Переименовать в airport_nearest.\n",
    "*  **'cityCenters_nearest'** переименуем 'city_сenter_nearest', привести к int , округлить до километра,\n",
    "   в 61-ом пропущенных значений по целевому столбцу (Санкт-Петербург) заполнить пропуски медианными, остальные к нулю.\n",
    "*  **'parks_around3000'** привести к int, обнулим пропуски для перевода в int.\n",
    "*  **'parks_nearest'** привести к int,много пустых значений,но это связано с малым числом парков скорей всего.Обнулим для\n",
    "   перевода в int, в нашем исследовании не применяется.\n",
    "*  **'ponds_around3000'**, **'ponds_nearest'** аналогично паркам\n",
    "*  **'days_exposition'** приведём к int, заполним недостающие значения медианными\n",
    "   \n",
    "\n"
   ]
  },
  {
   "cell_type": "markdown",
   "metadata": {},
   "source": [
    "## Предобработка данных"
   ]
  },
  {
   "cell_type": "code",
   "execution_count": 105,
   "metadata": {},
   "outputs": [],
   "source": [
    "estate_new = r_estate"
   ]
  },
  {
   "cell_type": "code",
   "execution_count": 106,
   "metadata": {},
   "outputs": [],
   "source": [
    "estate_new['total_images'] = estate_new['total_images'].astype('uint8')"
   ]
  },
  {
   "cell_type": "markdown",
   "metadata": {},
   "source": [
    " **Поменяем на int**"
   ]
  },
  {
   "cell_type": "code",
   "execution_count": 107,
   "metadata": {},
   "outputs": [],
   "source": [
    "estate_new['last_price'] = estate_new['last_price'].astype('int')"
   ]
  },
  {
   "cell_type": "markdown",
   "metadata": {},
   "source": [
    " **Заменим одну ячейку**"
   ]
  },
  {
   "cell_type": "code",
   "execution_count": 108,
   "metadata": {},
   "outputs": [],
   "source": [
    "estate_new.loc[8793,'last_price'] = 12190000"
   ]
  },
  {
   "cell_type": "code",
   "execution_count": 109,
   "metadata": {},
   "outputs": [
    {
     "data": {
      "text/plain": [
       "23699"
      ]
     },
     "execution_count": 109,
     "metadata": {},
     "output_type": "execute_result"
    }
   ],
   "source": [
    "estate_new.shape[0]"
   ]
  },
  {
   "cell_type": "markdown",
   "metadata": {},
   "source": [
    " **Удалим комнаты**"
   ]
  },
  {
   "cell_type": "code",
   "execution_count": 110,
   "metadata": {},
   "outputs": [],
   "source": [
    "estate_new.drop(estate_new[estate_new['total_area'] < 20].index, inplace=True)"
   ]
  },
  {
   "cell_type": "code",
   "execution_count": 111,
   "metadata": {},
   "outputs": [],
   "source": [
    "estate_new['total_area'] = estate_new['total_area'].astype('float16')"
   ]
  },
  {
   "cell_type": "markdown",
   "metadata": {},
   "source": [
    " **Проверим колво строк, должно стать на 27 меньше**"
   ]
  },
  {
   "cell_type": "code",
   "execution_count": 112,
   "metadata": {},
   "outputs": [
    {
     "data": {
      "text/plain": [
       "23672"
      ]
     },
     "execution_count": 112,
     "metadata": {},
     "output_type": "execute_result"
    }
   ],
   "source": [
    "estate_new.shape[0]"
   ]
  },
  {
   "cell_type": "markdown",
   "metadata": {},
   "source": [
    "**Поменяем на datetime**"
   ]
  },
  {
   "cell_type": "code",
   "execution_count": 113,
   "metadata": {},
   "outputs": [],
   "source": [
    "estate_new['first_day_exposition'] = pd.to_datetime(estate_new['first_day_exposition'], format='%Y-%m-%dT%H:%M:%S')"
   ]
  },
  {
   "cell_type": "code",
   "execution_count": 114,
   "metadata": {},
   "outputs": [
    {
     "name": "stdout",
     "output_type": "stream",
     "text": [
      "<class 'pandas.core.frame.DataFrame'>\n",
      "Int64Index: 23672 entries, 0 to 23698\n",
      "Data columns (total 22 columns):\n",
      " #   Column                Non-Null Count  Dtype         \n",
      "---  ------                --------------  -----         \n",
      " 0   total_images          23672 non-null  uint8         \n",
      " 1   last_price            23672 non-null  int32         \n",
      " 2   total_area            23672 non-null  float16       \n",
      " 3   first_day_exposition  23672 non-null  datetime64[ns]\n",
      " 4   rooms                 23672 non-null  int64         \n",
      " 5   ceiling_height        14488 non-null  float64       \n",
      " 6   floors_total          23586 non-null  float64       \n",
      " 7   living_area           21778 non-null  float64       \n",
      " 8   floor                 23672 non-null  int64         \n",
      " 9   is_apartment          2771 non-null   object        \n",
      " 10  studio                23672 non-null  bool          \n",
      " 11  open_plan             23672 non-null  bool          \n",
      " 12  kitchen_area          21417 non-null  float64       \n",
      " 13  balcony               12176 non-null  float64       \n",
      " 14  locality_name         23623 non-null  object        \n",
      " 15  airports_nearest      18136 non-null  float64       \n",
      " 16  cityCenters_nearest   18159 non-null  float64       \n",
      " 17  parks_around3000      18160 non-null  float64       \n",
      " 18  parks_nearest         8069 non-null   float64       \n",
      " 19  ponds_around3000      18160 non-null  float64       \n",
      " 20  ponds_nearest         9095 non-null   float64       \n",
      " 21  days_exposition       20491 non-null  float64       \n",
      "dtypes: bool(2), datetime64[ns](1), float16(1), float64(12), int32(1), int64(2), object(2), uint8(1)\n",
      "memory usage: 3.5+ MB\n"
     ]
    }
   ],
   "source": [
    "estate_new.info()"
   ]
  },
  {
   "cell_type": "code",
   "execution_count": 115,
   "metadata": {},
   "outputs": [
    {
     "data": {
      "text/plain": [
       "array([ 3,  1,  2,  4,  5,  6,  0,  7, 11,  8, 14, 10, 15,  9, 19, 16, 12],\n",
       "      dtype=int64)"
      ]
     },
     "execution_count": 115,
     "metadata": {},
     "output_type": "execute_result"
    }
   ],
   "source": [
    "estate_new['rooms'].unique()"
   ]
  },
  {
   "cell_type": "code",
   "execution_count": 116,
   "metadata": {},
   "outputs": [
    {
     "data": {
      "text/plain": [
       "0"
      ]
     },
     "execution_count": 116,
     "metadata": {},
     "output_type": "execute_result"
    }
   ],
   "source": [
    "estate_new['rooms'].isna().sum()"
   ]
  },
  {
   "cell_type": "code",
   "execution_count": 117,
   "metadata": {},
   "outputs": [],
   "source": [
    "estate_new['rooms'] = estate_new['rooms'].astype('uint8')"
   ]
  },
  {
   "cell_type": "markdown",
   "metadata": {},
   "source": [
    " **Посчитаем значения до изменений**"
   ]
  },
  {
   "cell_type": "code",
   "execution_count": 118,
   "metadata": {},
   "outputs": [
    {
     "data": {
      "text/plain": [
       "21"
      ]
     },
     "execution_count": 118,
     "metadata": {},
     "output_type": "execute_result"
    }
   ],
   "source": [
    "estate_new.query('ceiling_height < 2.4')['ceiling_height'].count()"
   ]
  },
  {
   "cell_type": "markdown",
   "metadata": {},
   "source": [
    " **Заменим на минимально возможные**"
   ]
  },
  {
   "cell_type": "code",
   "execution_count": 119,
   "metadata": {},
   "outputs": [],
   "source": [
    "estate_new.loc[estate_new['ceiling_height'] < 2.4, 'ceiling_height'] = 2.4"
   ]
  },
  {
   "cell_type": "markdown",
   "metadata": {},
   "source": [
    " **Посчитаем значения после изменений**"
   ]
  },
  {
   "cell_type": "code",
   "execution_count": 120,
   "metadata": {},
   "outputs": [
    {
     "data": {
      "text/plain": [
       "0"
      ]
     },
     "execution_count": 120,
     "metadata": {},
     "output_type": "execute_result"
    }
   ],
   "source": [
    "estate_new.query('ceiling_height < 2.4')['ceiling_height'].count()"
   ]
  },
  {
   "cell_type": "markdown",
   "metadata": {},
   "source": [
    "**Посчитаем значения до изменений**"
   ]
  },
  {
   "cell_type": "code",
   "execution_count": 121,
   "metadata": {},
   "outputs": [
    {
     "data": {
      "text/plain": [
       "57"
      ]
     },
     "execution_count": 121,
     "metadata": {},
     "output_type": "execute_result"
    }
   ],
   "source": [
    "estate_new.query('ceiling_height > 4.2')['ceiling_height'].count() "
   ]
  },
  {
   "cell_type": "markdown",
   "metadata": {},
   "source": [
    "**Заменим на максимально возможные**"
   ]
  },
  {
   "cell_type": "code",
   "execution_count": 122,
   "metadata": {},
   "outputs": [],
   "source": [
    "estate_new.loc[estate_new['ceiling_height'] > 4.2, 'ceiling_height'] = 4.2 "
   ]
  },
  {
   "cell_type": "markdown",
   "metadata": {},
   "source": [
    "**Проверка**"
   ]
  },
  {
   "cell_type": "code",
   "execution_count": 123,
   "metadata": {},
   "outputs": [
    {
     "data": {
      "text/plain": [
       "0"
      ]
     },
     "execution_count": 123,
     "metadata": {},
     "output_type": "execute_result"
    }
   ],
   "source": [
    "estate_new.query('ceiling_height > 4.2')['ceiling_height'].count()"
   ]
  },
  {
   "cell_type": "markdown",
   "metadata": {},
   "source": [
    "**Посчитаем пропущенные в столбце**"
   ]
  },
  {
   "cell_type": "code",
   "execution_count": 124,
   "metadata": {},
   "outputs": [
    {
     "data": {
      "text/plain": [
       "9184"
      ]
     },
     "execution_count": 124,
     "metadata": {},
     "output_type": "execute_result"
    }
   ],
   "source": [
    "estate_new['ceiling_height'].isna().sum()"
   ]
  },
  {
   "cell_type": "markdown",
   "metadata": {},
   "source": [
    " **Заменим пропуски на медианное**"
   ]
  },
  {
   "cell_type": "code",
   "execution_count": 125,
   "metadata": {},
   "outputs": [],
   "source": [
    "estate_new['ceiling_height'] = estate_new['ceiling_height'].fillna(estate_new['ceiling_height'].median())"
   ]
  },
  {
   "cell_type": "markdown",
   "metadata": {},
   "source": [
    " **Проверка**"
   ]
  },
  {
   "cell_type": "code",
   "execution_count": 126,
   "metadata": {},
   "outputs": [
    {
     "data": {
      "text/plain": [
       "0"
      ]
     },
     "execution_count": 126,
     "metadata": {},
     "output_type": "execute_result"
    }
   ],
   "source": [
    "estate_new['ceiling_height'].isna().sum()"
   ]
  },
  {
   "cell_type": "code",
   "execution_count": 127,
   "metadata": {},
   "outputs": [],
   "source": [
    "estate_new['ceiling_height'] = estate_new['ceiling_height'].astype('float16')"
   ]
  },
  {
   "cell_type": "markdown",
   "metadata": {},
   "source": [
    " **Проверка на всякий случай, вдруг что удалили случайно)))**"
   ]
  },
  {
   "cell_type": "code",
   "execution_count": 128,
   "metadata": {},
   "outputs": [
    {
     "data": {
      "text/plain": [
       "23672"
      ]
     },
     "execution_count": 128,
     "metadata": {},
     "output_type": "execute_result"
    }
   ],
   "source": [
    "estate_new.shape[0]"
   ]
  },
  {
   "cell_type": "code",
   "execution_count": 129,
   "metadata": {},
   "outputs": [
    {
     "name": "stdout",
     "output_type": "stream",
     "text": [
      "<class 'pandas.core.frame.DataFrame'>\n",
      "Int64Index: 23672 entries, 0 to 23698\n",
      "Data columns (total 22 columns):\n",
      " #   Column                Non-Null Count  Dtype         \n",
      "---  ------                --------------  -----         \n",
      " 0   total_images          23672 non-null  uint8         \n",
      " 1   last_price            23672 non-null  int32         \n",
      " 2   total_area            23672 non-null  float16       \n",
      " 3   first_day_exposition  23672 non-null  datetime64[ns]\n",
      " 4   rooms                 23672 non-null  uint8         \n",
      " 5   ceiling_height        23672 non-null  float16       \n",
      " 6   floors_total          23586 non-null  float64       \n",
      " 7   living_area           21778 non-null  float64       \n",
      " 8   floor                 23672 non-null  int64         \n",
      " 9   is_apartment          2771 non-null   object        \n",
      " 10  studio                23672 non-null  bool          \n",
      " 11  open_plan             23672 non-null  bool          \n",
      " 12  kitchen_area          21417 non-null  float64       \n",
      " 13  balcony               12176 non-null  float64       \n",
      " 14  locality_name         23623 non-null  object        \n",
      " 15  airports_nearest      18136 non-null  float64       \n",
      " 16  cityCenters_nearest   18159 non-null  float64       \n",
      " 17  parks_around3000      18160 non-null  float64       \n",
      " 18  parks_nearest         8069 non-null   float64       \n",
      " 19  ponds_around3000      18160 non-null  float64       \n",
      " 20  ponds_nearest         9095 non-null   float64       \n",
      " 21  days_exposition       20491 non-null  float64       \n",
      "dtypes: bool(2), datetime64[ns](1), float16(2), float64(11), int32(1), int64(1), object(2), uint8(2)\n",
      "memory usage: 3.2+ MB\n"
     ]
    }
   ],
   "source": [
    "estate_new.info()"
   ]
  },
  {
   "cell_type": "code",
   "execution_count": 130,
   "metadata": {},
   "outputs": [],
   "source": [
    "estate_new.loc[2253,'floors_total'] = 12 "
   ]
  },
  {
   "cell_type": "code",
   "execution_count": 131,
   "metadata": {},
   "outputs": [],
   "source": [
    "estate_new.loc[16731,'floors_total'] = 12"
   ]
  },
  {
   "cell_type": "markdown",
   "metadata": {},
   "source": [
    " **Посчитаем пропуски**"
   ]
  },
  {
   "cell_type": "code",
   "execution_count": 132,
   "metadata": {},
   "outputs": [
    {
     "data": {
      "text/plain": [
       "86"
      ]
     },
     "execution_count": 132,
     "metadata": {},
     "output_type": "execute_result"
    }
   ],
   "source": [
    "estate_new['floors_total'].isna().sum()"
   ]
  },
  {
   "cell_type": "markdown",
   "metadata": {},
   "source": [
    " **Заменим пропущенные на медианное**"
   ]
  },
  {
   "cell_type": "code",
   "execution_count": 133,
   "metadata": {},
   "outputs": [],
   "source": [
    "estate_new['floors_total'] = estate_new['floors_total'].fillna(estate_new['floors_total'].median())"
   ]
  },
  {
   "cell_type": "markdown",
   "metadata": {},
   "source": [
    " **Приведём к int**"
   ]
  },
  {
   "cell_type": "code",
   "execution_count": 134,
   "metadata": {},
   "outputs": [],
   "source": [
    "estate_new['floors_total'] = estate_new['floors_total'].astype('int')"
   ]
  },
  {
   "cell_type": "markdown",
   "metadata": {},
   "source": [
    " **Удалим частный сектор**"
   ]
  },
  {
   "cell_type": "code",
   "execution_count": 135,
   "metadata": {},
   "outputs": [],
   "source": [
    "estate_new.drop(estate_new[estate_new['floors_total'] == 1].index, inplace=True)"
   ]
  },
  {
   "cell_type": "code",
   "execution_count": 136,
   "metadata": {},
   "outputs": [],
   "source": [
    "estate_new['floors_total'] = estate_new['floors_total'].astype('uint8')"
   ]
  },
  {
   "cell_type": "code",
   "execution_count": 137,
   "metadata": {},
   "outputs": [],
   "source": [
    "estate_new['living_area'] = estate_new['living_area'].fillna(estate_new['living_area'].median())"
   ]
  },
  {
   "cell_type": "code",
   "execution_count": 138,
   "metadata": {},
   "outputs": [
    {
     "data": {
      "text/plain": [
       "0"
      ]
     },
     "execution_count": 138,
     "metadata": {},
     "output_type": "execute_result"
    }
   ],
   "source": [
    "estate_new['living_area'].isna().sum()"
   ]
  },
  {
   "cell_type": "markdown",
   "metadata": {},
   "source": [
    " **Создадим функцию жилой площади от количества комнат в квартире**"
   ]
  },
  {
   "cell_type": "code",
   "execution_count": 139,
   "metadata": {},
   "outputs": [],
   "source": [
    "snyp = 16\n",
    "def living_area(row):\n",
    "    rooms = row['rooms']\n",
    "    if rooms == 0:\n",
    "        return snyp*rooms           "
   ]
  },
  {
   "cell_type": "code",
   "execution_count": 140,
   "metadata": {},
   "outputs": [],
   "source": [
    "estate_new.loc[estate_new['living_area'] < 28, 'living_area'] = estate_new[estate_new['living_area'] < 28].apply(living_area, axis=1)"
   ]
  },
  {
   "cell_type": "code",
   "execution_count": 141,
   "metadata": {},
   "outputs": [],
   "source": [
    "#estate_new.loc[estate_new['living_area'] < 28, 'living_area'] = estate_new.loc[estate_new['living_area'] < 28, 'living_area'].median() # для 8500 значений меньше 28кв.м. применим медианное "
   ]
  },
  {
   "cell_type": "code",
   "execution_count": 142,
   "metadata": {},
   "outputs": [],
   "source": [
    "estate_new['living_area'] = estate_new['living_area'].astype('float16')"
   ]
  },
  {
   "cell_type": "code",
   "execution_count": 143,
   "metadata": {},
   "outputs": [
    {
     "data": {
      "text/plain": [
       "144       0.0000\n",
       "349       0.0000\n",
       "440       0.0000\n",
       "508       0.0000\n",
       "697       0.0000\n",
       "          ...   \n",
       "18724    40.9375\n",
       "376      41.0000\n",
       "1056     41.0000\n",
       "1084     41.0000\n",
       "1134     41.0000\n",
       "Name: living_area, Length: 8900, dtype: float16"
      ]
     },
     "execution_count": 143,
     "metadata": {},
     "output_type": "execute_result"
    }
   ],
   "source": [
    "r_estate['living_area'].nsmallest(8900)"
   ]
  },
  {
   "cell_type": "code",
   "execution_count": 144,
   "metadata": {},
   "outputs": [],
   "source": [
    "estate_new['floor'] = estate_new['floor'].astype('uint8')"
   ]
  },
  {
   "cell_type": "markdown",
   "metadata": {},
   "source": [
    " **Посчитаем пропуски**"
   ]
  },
  {
   "cell_type": "code",
   "execution_count": 145,
   "metadata": {},
   "outputs": [
    {
     "data": {
      "text/plain": [
       "20877"
      ]
     },
     "execution_count": 145,
     "metadata": {},
     "output_type": "execute_result"
    }
   ],
   "source": [
    "estate_new['is_apartment'].isna().sum()"
   ]
  },
  {
   "cell_type": "markdown",
   "metadata": {},
   "source": [
    " **Заменим на false**"
   ]
  },
  {
   "cell_type": "code",
   "execution_count": 146,
   "metadata": {},
   "outputs": [],
   "source": [
    "estate_new['is_apartment'] = estate_new['is_apartment'].fillna(False)"
   ]
  },
  {
   "cell_type": "code",
   "execution_count": 147,
   "metadata": {},
   "outputs": [
    {
     "data": {
      "text/plain": [
       "array([False,  True])"
      ]
     },
     "execution_count": 147,
     "metadata": {},
     "output_type": "execute_result"
    }
   ],
   "source": [
    "estate_new['is_apartment'].unique()"
   ]
  },
  {
   "cell_type": "markdown",
   "metadata": {},
   "source": [
    " **Заменим на bool**"
   ]
  },
  {
   "cell_type": "code",
   "execution_count": 148,
   "metadata": {},
   "outputs": [],
   "source": [
    "estate_new['is_apartment'] = estate_new['is_apartment'].astype('bool')"
   ]
  },
  {
   "cell_type": "code",
   "execution_count": 149,
   "metadata": {
    "scrolled": true
   },
   "outputs": [
    {
     "name": "stdout",
     "output_type": "stream",
     "text": [
      "<class 'pandas.core.frame.DataFrame'>\n",
      "Int64Index: 23647 entries, 0 to 23698\n",
      "Data columns (total 22 columns):\n",
      " #   Column                Non-Null Count  Dtype         \n",
      "---  ------                --------------  -----         \n",
      " 0   total_images          23647 non-null  uint8         \n",
      " 1   last_price            23647 non-null  int32         \n",
      " 2   total_area            23647 non-null  float16       \n",
      " 3   first_day_exposition  23647 non-null  datetime64[ns]\n",
      " 4   rooms                 23647 non-null  uint8         \n",
      " 5   ceiling_height        23647 non-null  float16       \n",
      " 6   floors_total          23647 non-null  uint8         \n",
      " 7   living_area           14957 non-null  float16       \n",
      " 8   floor                 23647 non-null  uint8         \n",
      " 9   is_apartment          23647 non-null  bool          \n",
      " 10  studio                23647 non-null  bool          \n",
      " 11  open_plan             23647 non-null  bool          \n",
      " 12  kitchen_area          21398 non-null  float64       \n",
      " 13  balcony               12175 non-null  float64       \n",
      " 14  locality_name         23598 non-null  object        \n",
      " 15  airports_nearest      18130 non-null  float64       \n",
      " 16  cityCenters_nearest   18153 non-null  float64       \n",
      " 17  parks_around3000      18154 non-null  float64       \n",
      " 18  parks_nearest         8068 non-null   float64       \n",
      " 19  ponds_around3000      18154 non-null  float64       \n",
      " 20  ponds_nearest         9091 non-null   float64       \n",
      " 21  days_exposition       20471 non-null  float64       \n",
      "dtypes: bool(3), datetime64[ns](1), float16(3), float64(9), int32(1), object(1), uint8(4)\n",
      "memory usage: 2.5+ MB\n"
     ]
    }
   ],
   "source": [
    "estate_new.info()"
   ]
  },
  {
   "cell_type": "code",
   "execution_count": 150,
   "metadata": {},
   "outputs": [],
   "source": [
    "estate_new.loc[estate_new['kitchen_area'] < 6, 'kitchen_area'] = 7"
   ]
  },
  {
   "cell_type": "code",
   "execution_count": 151,
   "metadata": {},
   "outputs": [
    {
     "data": {
      "text/plain": [
       "2249"
      ]
     },
     "execution_count": 151,
     "metadata": {},
     "output_type": "execute_result"
    }
   ],
   "source": [
    "estate_new['kitchen_area'].isna().sum()"
   ]
  },
  {
   "cell_type": "code",
   "execution_count": 152,
   "metadata": {},
   "outputs": [],
   "source": [
    "estate_new['kitchen_area'] = estate_new['kitchen_area'].fillna(estate_new['kitchen_area'].median())"
   ]
  },
  {
   "cell_type": "code",
   "execution_count": 153,
   "metadata": {},
   "outputs": [],
   "source": [
    "estate_new['kitchen_area'] = estate_new['kitchen_area'].astype('float16')"
   ]
  },
  {
   "cell_type": "markdown",
   "metadata": {},
   "source": [
    "**Заменим тип данных на менее памятиёмкий**"
   ]
  },
  {
   "cell_type": "code",
   "execution_count": 154,
   "metadata": {},
   "outputs": [
    {
     "data": {
      "text/plain": [
       "0"
      ]
     },
     "execution_count": 154,
     "metadata": {},
     "output_type": "execute_result"
    }
   ],
   "source": [
    "estate_new['kitchen_area'].isna().sum()"
   ]
  },
  {
   "cell_type": "markdown",
   "metadata": {},
   "source": [
    " **Больше одного балкона заменим на True**"
   ]
  },
  {
   "cell_type": "code",
   "execution_count": 155,
   "metadata": {},
   "outputs": [],
   "source": [
    "estate_new.loc[estate_new['balcony'] >= 1, 'balcony'] = True"
   ]
  },
  {
   "cell_type": "markdown",
   "metadata": {},
   "source": [
    " **Пропущенные значения примем за False**"
   ]
  },
  {
   "cell_type": "code",
   "execution_count": 156,
   "metadata": {},
   "outputs": [],
   "source": [
    "estate_new['balcony'] = estate_new['balcony'].fillna(False)"
   ]
  },
  {
   "cell_type": "markdown",
   "metadata": {},
   "source": [
    " **Поменяем значение на bool**"
   ]
  },
  {
   "cell_type": "code",
   "execution_count": 157,
   "metadata": {},
   "outputs": [],
   "source": [
    "estate_new['balcony'] = estate_new['balcony'].astype('bool')"
   ]
  },
  {
   "cell_type": "markdown",
   "metadata": {},
   "source": [
    " **Посчитаем пропуски**"
   ]
  },
  {
   "cell_type": "code",
   "execution_count": 158,
   "metadata": {},
   "outputs": [
    {
     "data": {
      "text/plain": [
       "49"
      ]
     },
     "execution_count": 158,
     "metadata": {},
     "output_type": "execute_result"
    }
   ],
   "source": [
    "estate_new['locality_name'].isna().sum()"
   ]
  },
  {
   "cell_type": "code",
   "execution_count": 159,
   "metadata": {
    "scrolled": true
   },
   "outputs": [
    {
     "name": "stdout",
     "output_type": "stream",
     "text": [
      "<class 'pandas.core.frame.DataFrame'>\n",
      "Int64Index: 23647 entries, 0 to 23698\n",
      "Data columns (total 22 columns):\n",
      " #   Column                Non-Null Count  Dtype         \n",
      "---  ------                --------------  -----         \n",
      " 0   total_images          23647 non-null  uint8         \n",
      " 1   last_price            23647 non-null  int32         \n",
      " 2   total_area            23647 non-null  float16       \n",
      " 3   first_day_exposition  23647 non-null  datetime64[ns]\n",
      " 4   rooms                 23647 non-null  uint8         \n",
      " 5   ceiling_height        23647 non-null  float16       \n",
      " 6   floors_total          23647 non-null  uint8         \n",
      " 7   living_area           14957 non-null  float16       \n",
      " 8   floor                 23647 non-null  uint8         \n",
      " 9   is_apartment          23647 non-null  bool          \n",
      " 10  studio                23647 non-null  bool          \n",
      " 11  open_plan             23647 non-null  bool          \n",
      " 12  kitchen_area          23647 non-null  float16       \n",
      " 13  balcony               23647 non-null  bool          \n",
      " 14  locality_name         23598 non-null  object        \n",
      " 15  airports_nearest      18130 non-null  float64       \n",
      " 16  cityCenters_nearest   18153 non-null  float64       \n",
      " 17  parks_around3000      18154 non-null  float64       \n",
      " 18  parks_nearest         8068 non-null   float64       \n",
      " 19  ponds_around3000      18154 non-null  float64       \n",
      " 20  ponds_nearest         9091 non-null   float64       \n",
      " 21  days_exposition       20471 non-null  float64       \n",
      "dtypes: bool(4), datetime64[ns](1), float16(4), float64(7), int32(1), object(1), uint8(4)\n",
      "memory usage: 2.3+ MB\n"
     ]
    }
   ],
   "source": [
    "estate_new.info()"
   ]
  },
  {
   "cell_type": "markdown",
   "metadata": {},
   "source": [
    " **Удалим пропуски**"
   ]
  },
  {
   "cell_type": "code",
   "execution_count": 160,
   "metadata": {},
   "outputs": [],
   "source": [
    "estate_new.dropna(subset=['locality_name'], inplace=True)"
   ]
  },
  {
   "cell_type": "markdown",
   "metadata": {},
   "source": [
    "**Проверка**"
   ]
  },
  {
   "cell_type": "code",
   "execution_count": 161,
   "metadata": {
    "scrolled": true
   },
   "outputs": [
    {
     "name": "stdout",
     "output_type": "stream",
     "text": [
      "<class 'pandas.core.frame.DataFrame'>\n",
      "Int64Index: 23598 entries, 0 to 23698\n",
      "Data columns (total 22 columns):\n",
      " #   Column                Non-Null Count  Dtype         \n",
      "---  ------                --------------  -----         \n",
      " 0   total_images          23598 non-null  uint8         \n",
      " 1   last_price            23598 non-null  int32         \n",
      " 2   total_area            23598 non-null  float16       \n",
      " 3   first_day_exposition  23598 non-null  datetime64[ns]\n",
      " 4   rooms                 23598 non-null  uint8         \n",
      " 5   ceiling_height        23598 non-null  float16       \n",
      " 6   floors_total          23598 non-null  uint8         \n",
      " 7   living_area           14919 non-null  float16       \n",
      " 8   floor                 23598 non-null  uint8         \n",
      " 9   is_apartment          23598 non-null  bool          \n",
      " 10  studio                23598 non-null  bool          \n",
      " 11  open_plan             23598 non-null  bool          \n",
      " 12  kitchen_area          23598 non-null  float16       \n",
      " 13  balcony               23598 non-null  bool          \n",
      " 14  locality_name         23598 non-null  object        \n",
      " 15  airports_nearest      18089 non-null  float64       \n",
      " 16  cityCenters_nearest   18112 non-null  float64       \n",
      " 17  parks_around3000      18113 non-null  float64       \n",
      " 18  parks_nearest         8053 non-null   float64       \n",
      " 19  ponds_around3000      18113 non-null  float64       \n",
      " 20  ponds_nearest         9066 non-null   float64       \n",
      " 21  days_exposition       20423 non-null  float64       \n",
      "dtypes: bool(4), datetime64[ns](1), float16(4), float64(7), int32(1), object(1), uint8(4)\n",
      "memory usage: 2.3+ MB\n"
     ]
    }
   ],
   "source": [
    "estate_new.info()"
   ]
  },
  {
   "cell_type": "code",
   "execution_count": 162,
   "metadata": {},
   "outputs": [
    {
     "data": {
      "text/plain": [
       "0"
      ]
     },
     "execution_count": 162,
     "metadata": {},
     "output_type": "execute_result"
    }
   ],
   "source": [
    "estate_new['locality_name'].isna().sum()"
   ]
  },
  {
   "cell_type": "code",
   "execution_count": 163,
   "metadata": {},
   "outputs": [],
   "source": [
    "estate_new.loc[estate_new['locality_name'] == 'Санкт-Петербург', 'cityCenters_nearest'] = estate_new.loc[estate_new['locality_name'] == 'Санкт-Петербург', 'cityCenters_nearest'].fillna(estate_new['cityCenters_nearest'].median())"
   ]
  },
  {
   "cell_type": "code",
   "execution_count": 164,
   "metadata": {},
   "outputs": [],
   "source": [
    "estate_new.loc[estate_new['locality_name'] == 'Санкт-Петербург', 'cityCenters_nearest'] = estate_new.loc[estate_new['locality_name'] == 'Санкт-Петербург', 'cityCenters_nearest'].fillna(estate_new['cityCenters_nearest'].median())"
   ]
  },
  {
   "cell_type": "markdown",
   "metadata": {},
   "source": [
    " **Проверка**"
   ]
  },
  {
   "cell_type": "code",
   "execution_count": 165,
   "metadata": {},
   "outputs": [
    {
     "data": {
      "text/plain": [
       "15615"
      ]
     },
     "execution_count": 165,
     "metadata": {},
     "output_type": "execute_result"
    }
   ],
   "source": [
    "estate_new[estate_new['locality_name'] == 'Санкт-Петербург']['airports_nearest'].count()"
   ]
  },
  {
   "cell_type": "markdown",
   "metadata": {},
   "source": [
    " **Приведём к киллометрам, заполним пропуски нулями**"
   ]
  },
  {
   "cell_type": "code",
   "execution_count": 166,
   "metadata": {},
   "outputs": [],
   "source": [
    "estate_new['airports_nearest'] = estate_new['airports_nearest'].fillna(0) / 1000"
   ]
  },
  {
   "cell_type": "code",
   "execution_count": 167,
   "metadata": {},
   "outputs": [
    {
     "data": {
      "text/plain": [
       "count    23598.000000\n",
       "mean        22.078847\n",
       "std         16.456663\n",
       "min          0.000000\n",
       "25%         10.256500\n",
       "50%         21.876000\n",
       "75%         34.392000\n",
       "max         84.869000\n",
       "Name: airports_nearest, dtype: float64"
      ]
     },
     "execution_count": 167,
     "metadata": {},
     "output_type": "execute_result"
    }
   ],
   "source": [
    "estate_new['airports_nearest'].describe()"
   ]
  },
  {
   "cell_type": "markdown",
   "metadata": {},
   "source": [
    "**Приведём к uint8**"
   ]
  },
  {
   "cell_type": "code",
   "execution_count": 168,
   "metadata": {},
   "outputs": [],
   "source": [
    "estate_new['airports_nearest'] = estate_new['airports_nearest'].astype('uint8') "
   ]
  },
  {
   "cell_type": "markdown",
   "metadata": {},
   "source": [
    "**Проверка**"
   ]
  },
  {
   "cell_type": "code",
   "execution_count": 169,
   "metadata": {
    "scrolled": true
   },
   "outputs": [
    {
     "data": {
      "text/html": [
       "<div>\n",
       "<style scoped>\n",
       "    .dataframe tbody tr th:only-of-type {\n",
       "        vertical-align: middle;\n",
       "    }\n",
       "\n",
       "    .dataframe tbody tr th {\n",
       "        vertical-align: top;\n",
       "    }\n",
       "\n",
       "    .dataframe thead th {\n",
       "        text-align: right;\n",
       "    }\n",
       "</style>\n",
       "<table border=\"1\" class=\"dataframe\">\n",
       "  <thead>\n",
       "    <tr style=\"text-align: right;\">\n",
       "      <th></th>\n",
       "      <th>total_images</th>\n",
       "      <th>last_price</th>\n",
       "      <th>total_area</th>\n",
       "      <th>first_day_exposition</th>\n",
       "      <th>rooms</th>\n",
       "      <th>ceiling_height</th>\n",
       "      <th>floors_total</th>\n",
       "      <th>living_area</th>\n",
       "      <th>floor</th>\n",
       "      <th>is_apartment</th>\n",
       "      <th>...</th>\n",
       "      <th>kitchen_area</th>\n",
       "      <th>balcony</th>\n",
       "      <th>locality_name</th>\n",
       "      <th>airports_nearest</th>\n",
       "      <th>cityCenters_nearest</th>\n",
       "      <th>parks_around3000</th>\n",
       "      <th>parks_nearest</th>\n",
       "      <th>ponds_around3000</th>\n",
       "      <th>ponds_nearest</th>\n",
       "      <th>days_exposition</th>\n",
       "    </tr>\n",
       "  </thead>\n",
       "  <tbody>\n",
       "    <tr>\n",
       "      <th>0</th>\n",
       "      <td>20</td>\n",
       "      <td>13000000</td>\n",
       "      <td>108.00000</td>\n",
       "      <td>2019-03-07</td>\n",
       "      <td>3</td>\n",
       "      <td>2.699219</td>\n",
       "      <td>16</td>\n",
       "      <td>51.0000</td>\n",
       "      <td>8</td>\n",
       "      <td>False</td>\n",
       "      <td>...</td>\n",
       "      <td>25.000000</td>\n",
       "      <td>False</td>\n",
       "      <td>Санкт-Петербург</td>\n",
       "      <td>18</td>\n",
       "      <td>16028.0</td>\n",
       "      <td>1.0</td>\n",
       "      <td>482.0</td>\n",
       "      <td>2.0</td>\n",
       "      <td>755.0</td>\n",
       "      <td>NaN</td>\n",
       "    </tr>\n",
       "    <tr>\n",
       "      <th>1</th>\n",
       "      <td>7</td>\n",
       "      <td>3350000</td>\n",
       "      <td>40.40625</td>\n",
       "      <td>2018-12-04</td>\n",
       "      <td>1</td>\n",
       "      <td>2.650391</td>\n",
       "      <td>11</td>\n",
       "      <td>NaN</td>\n",
       "      <td>1</td>\n",
       "      <td>False</td>\n",
       "      <td>...</td>\n",
       "      <td>11.000000</td>\n",
       "      <td>True</td>\n",
       "      <td>посёлок Шушары</td>\n",
       "      <td>12</td>\n",
       "      <td>18603.0</td>\n",
       "      <td>0.0</td>\n",
       "      <td>NaN</td>\n",
       "      <td>0.0</td>\n",
       "      <td>NaN</td>\n",
       "      <td>81.0</td>\n",
       "    </tr>\n",
       "    <tr>\n",
       "      <th>2</th>\n",
       "      <td>10</td>\n",
       "      <td>5196000</td>\n",
       "      <td>56.00000</td>\n",
       "      <td>2015-08-20</td>\n",
       "      <td>2</td>\n",
       "      <td>2.650391</td>\n",
       "      <td>5</td>\n",
       "      <td>34.3125</td>\n",
       "      <td>4</td>\n",
       "      <td>False</td>\n",
       "      <td>...</td>\n",
       "      <td>8.296875</td>\n",
       "      <td>False</td>\n",
       "      <td>Санкт-Петербург</td>\n",
       "      <td>21</td>\n",
       "      <td>13933.0</td>\n",
       "      <td>1.0</td>\n",
       "      <td>90.0</td>\n",
       "      <td>2.0</td>\n",
       "      <td>574.0</td>\n",
       "      <td>558.0</td>\n",
       "    </tr>\n",
       "    <tr>\n",
       "      <th>3</th>\n",
       "      <td>0</td>\n",
       "      <td>64900000</td>\n",
       "      <td>159.00000</td>\n",
       "      <td>2015-07-24</td>\n",
       "      <td>3</td>\n",
       "      <td>2.650391</td>\n",
       "      <td>14</td>\n",
       "      <td>30.0000</td>\n",
       "      <td>9</td>\n",
       "      <td>False</td>\n",
       "      <td>...</td>\n",
       "      <td>9.101562</td>\n",
       "      <td>False</td>\n",
       "      <td>Санкт-Петербург</td>\n",
       "      <td>28</td>\n",
       "      <td>6800.0</td>\n",
       "      <td>2.0</td>\n",
       "      <td>84.0</td>\n",
       "      <td>3.0</td>\n",
       "      <td>234.0</td>\n",
       "      <td>424.0</td>\n",
       "    </tr>\n",
       "    <tr>\n",
       "      <th>4</th>\n",
       "      <td>2</td>\n",
       "      <td>10000000</td>\n",
       "      <td>100.00000</td>\n",
       "      <td>2018-06-19</td>\n",
       "      <td>2</td>\n",
       "      <td>3.029297</td>\n",
       "      <td>14</td>\n",
       "      <td>32.0000</td>\n",
       "      <td>13</td>\n",
       "      <td>False</td>\n",
       "      <td>...</td>\n",
       "      <td>41.000000</td>\n",
       "      <td>False</td>\n",
       "      <td>Санкт-Петербург</td>\n",
       "      <td>31</td>\n",
       "      <td>8098.0</td>\n",
       "      <td>2.0</td>\n",
       "      <td>112.0</td>\n",
       "      <td>1.0</td>\n",
       "      <td>48.0</td>\n",
       "      <td>121.0</td>\n",
       "    </tr>\n",
       "  </tbody>\n",
       "</table>\n",
       "<p>5 rows × 22 columns</p>\n",
       "</div>"
      ],
      "text/plain": [
       "   total_images  last_price  total_area first_day_exposition  rooms  \\\n",
       "0            20    13000000   108.00000           2019-03-07      3   \n",
       "1             7     3350000    40.40625           2018-12-04      1   \n",
       "2            10     5196000    56.00000           2015-08-20      2   \n",
       "3             0    64900000   159.00000           2015-07-24      3   \n",
       "4             2    10000000   100.00000           2018-06-19      2   \n",
       "\n",
       "   ceiling_height  floors_total  living_area  floor  is_apartment  ...  \\\n",
       "0        2.699219            16      51.0000      8         False  ...   \n",
       "1        2.650391            11          NaN      1         False  ...   \n",
       "2        2.650391             5      34.3125      4         False  ...   \n",
       "3        2.650391            14      30.0000      9         False  ...   \n",
       "4        3.029297            14      32.0000     13         False  ...   \n",
       "\n",
       "   kitchen_area  balcony    locality_name  airports_nearest  \\\n",
       "0     25.000000    False  Санкт-Петербург                18   \n",
       "1     11.000000     True   посёлок Шушары                12   \n",
       "2      8.296875    False  Санкт-Петербург                21   \n",
       "3      9.101562    False  Санкт-Петербург                28   \n",
       "4     41.000000    False  Санкт-Петербург                31   \n",
       "\n",
       "  cityCenters_nearest  parks_around3000  parks_nearest  ponds_around3000  \\\n",
       "0             16028.0               1.0          482.0               2.0   \n",
       "1             18603.0               0.0            NaN               0.0   \n",
       "2             13933.0               1.0           90.0               2.0   \n",
       "3              6800.0               2.0           84.0               3.0   \n",
       "4              8098.0               2.0          112.0               1.0   \n",
       "\n",
       "   ponds_nearest  days_exposition  \n",
       "0          755.0              NaN  \n",
       "1            NaN             81.0  \n",
       "2          574.0            558.0  \n",
       "3          234.0            424.0  \n",
       "4           48.0            121.0  \n",
       "\n",
       "[5 rows x 22 columns]"
      ]
     },
     "execution_count": 169,
     "metadata": {},
     "output_type": "execute_result"
    }
   ],
   "source": [
    "estate_new.head()"
   ]
  },
  {
   "cell_type": "markdown",
   "metadata": {},
   "source": [
    " **Заполним медианными значениями по целевому столбцу**"
   ]
  },
  {
   "cell_type": "code",
   "execution_count": 170,
   "metadata": {},
   "outputs": [],
   "source": [
    "estate_new.loc[estate_new['locality_name'] == 'Санкт-Петербург', 'cityCenters_nearest'] = estate_new.loc[estate_new['locality_name'] == 'Санкт-Петербург', 'cityCenters_nearest'].fillna(estate_new['cityCenters_nearest'].median())"
   ]
  },
  {
   "cell_type": "markdown",
   "metadata": {},
   "source": [
    " **Приведм к киллометрам, заполним пропуски**"
   ]
  },
  {
   "cell_type": "code",
   "execution_count": 171,
   "metadata": {},
   "outputs": [],
   "source": [
    "estate_new['cityCenters_nearest'] = estate_new['cityCenters_nearest'].fillna(0) / 1000"
   ]
  },
  {
   "cell_type": "markdown",
   "metadata": {},
   "source": [
    "**Приведем к int**"
   ]
  },
  {
   "cell_type": "code",
   "execution_count": 172,
   "metadata": {},
   "outputs": [],
   "source": [
    "estate_new['cityCenters_nearest'] = estate_new['cityCenters_nearest'].astype('uint8') "
   ]
  },
  {
   "cell_type": "markdown",
   "metadata": {},
   "source": [
    "**Проверка**"
   ]
  },
  {
   "cell_type": "code",
   "execution_count": 173,
   "metadata": {},
   "outputs": [
    {
     "data": {
      "text/html": [
       "<div>\n",
       "<style scoped>\n",
       "    .dataframe tbody tr th:only-of-type {\n",
       "        vertical-align: middle;\n",
       "    }\n",
       "\n",
       "    .dataframe tbody tr th {\n",
       "        vertical-align: top;\n",
       "    }\n",
       "\n",
       "    .dataframe thead th {\n",
       "        text-align: right;\n",
       "    }\n",
       "</style>\n",
       "<table border=\"1\" class=\"dataframe\">\n",
       "  <thead>\n",
       "    <tr style=\"text-align: right;\">\n",
       "      <th></th>\n",
       "      <th>total_images</th>\n",
       "      <th>last_price</th>\n",
       "      <th>total_area</th>\n",
       "      <th>first_day_exposition</th>\n",
       "      <th>rooms</th>\n",
       "      <th>ceiling_height</th>\n",
       "      <th>floors_total</th>\n",
       "      <th>living_area</th>\n",
       "      <th>floor</th>\n",
       "      <th>is_apartment</th>\n",
       "      <th>...</th>\n",
       "      <th>kitchen_area</th>\n",
       "      <th>balcony</th>\n",
       "      <th>locality_name</th>\n",
       "      <th>airports_nearest</th>\n",
       "      <th>cityCenters_nearest</th>\n",
       "      <th>parks_around3000</th>\n",
       "      <th>parks_nearest</th>\n",
       "      <th>ponds_around3000</th>\n",
       "      <th>ponds_nearest</th>\n",
       "      <th>days_exposition</th>\n",
       "    </tr>\n",
       "  </thead>\n",
       "  <tbody>\n",
       "    <tr>\n",
       "      <th>0</th>\n",
       "      <td>20</td>\n",
       "      <td>13000000</td>\n",
       "      <td>108.00000</td>\n",
       "      <td>2019-03-07</td>\n",
       "      <td>3</td>\n",
       "      <td>2.699219</td>\n",
       "      <td>16</td>\n",
       "      <td>51.0000</td>\n",
       "      <td>8</td>\n",
       "      <td>False</td>\n",
       "      <td>...</td>\n",
       "      <td>25.000000</td>\n",
       "      <td>False</td>\n",
       "      <td>Санкт-Петербург</td>\n",
       "      <td>18</td>\n",
       "      <td>16</td>\n",
       "      <td>1.0</td>\n",
       "      <td>482.0</td>\n",
       "      <td>2.0</td>\n",
       "      <td>755.0</td>\n",
       "      <td>NaN</td>\n",
       "    </tr>\n",
       "    <tr>\n",
       "      <th>1</th>\n",
       "      <td>7</td>\n",
       "      <td>3350000</td>\n",
       "      <td>40.40625</td>\n",
       "      <td>2018-12-04</td>\n",
       "      <td>1</td>\n",
       "      <td>2.650391</td>\n",
       "      <td>11</td>\n",
       "      <td>NaN</td>\n",
       "      <td>1</td>\n",
       "      <td>False</td>\n",
       "      <td>...</td>\n",
       "      <td>11.000000</td>\n",
       "      <td>True</td>\n",
       "      <td>посёлок Шушары</td>\n",
       "      <td>12</td>\n",
       "      <td>18</td>\n",
       "      <td>0.0</td>\n",
       "      <td>NaN</td>\n",
       "      <td>0.0</td>\n",
       "      <td>NaN</td>\n",
       "      <td>81.0</td>\n",
       "    </tr>\n",
       "    <tr>\n",
       "      <th>2</th>\n",
       "      <td>10</td>\n",
       "      <td>5196000</td>\n",
       "      <td>56.00000</td>\n",
       "      <td>2015-08-20</td>\n",
       "      <td>2</td>\n",
       "      <td>2.650391</td>\n",
       "      <td>5</td>\n",
       "      <td>34.3125</td>\n",
       "      <td>4</td>\n",
       "      <td>False</td>\n",
       "      <td>...</td>\n",
       "      <td>8.296875</td>\n",
       "      <td>False</td>\n",
       "      <td>Санкт-Петербург</td>\n",
       "      <td>21</td>\n",
       "      <td>13</td>\n",
       "      <td>1.0</td>\n",
       "      <td>90.0</td>\n",
       "      <td>2.0</td>\n",
       "      <td>574.0</td>\n",
       "      <td>558.0</td>\n",
       "    </tr>\n",
       "    <tr>\n",
       "      <th>3</th>\n",
       "      <td>0</td>\n",
       "      <td>64900000</td>\n",
       "      <td>159.00000</td>\n",
       "      <td>2015-07-24</td>\n",
       "      <td>3</td>\n",
       "      <td>2.650391</td>\n",
       "      <td>14</td>\n",
       "      <td>30.0000</td>\n",
       "      <td>9</td>\n",
       "      <td>False</td>\n",
       "      <td>...</td>\n",
       "      <td>9.101562</td>\n",
       "      <td>False</td>\n",
       "      <td>Санкт-Петербург</td>\n",
       "      <td>28</td>\n",
       "      <td>6</td>\n",
       "      <td>2.0</td>\n",
       "      <td>84.0</td>\n",
       "      <td>3.0</td>\n",
       "      <td>234.0</td>\n",
       "      <td>424.0</td>\n",
       "    </tr>\n",
       "    <tr>\n",
       "      <th>4</th>\n",
       "      <td>2</td>\n",
       "      <td>10000000</td>\n",
       "      <td>100.00000</td>\n",
       "      <td>2018-06-19</td>\n",
       "      <td>2</td>\n",
       "      <td>3.029297</td>\n",
       "      <td>14</td>\n",
       "      <td>32.0000</td>\n",
       "      <td>13</td>\n",
       "      <td>False</td>\n",
       "      <td>...</td>\n",
       "      <td>41.000000</td>\n",
       "      <td>False</td>\n",
       "      <td>Санкт-Петербург</td>\n",
       "      <td>31</td>\n",
       "      <td>8</td>\n",
       "      <td>2.0</td>\n",
       "      <td>112.0</td>\n",
       "      <td>1.0</td>\n",
       "      <td>48.0</td>\n",
       "      <td>121.0</td>\n",
       "    </tr>\n",
       "  </tbody>\n",
       "</table>\n",
       "<p>5 rows × 22 columns</p>\n",
       "</div>"
      ],
      "text/plain": [
       "   total_images  last_price  total_area first_day_exposition  rooms  \\\n",
       "0            20    13000000   108.00000           2019-03-07      3   \n",
       "1             7     3350000    40.40625           2018-12-04      1   \n",
       "2            10     5196000    56.00000           2015-08-20      2   \n",
       "3             0    64900000   159.00000           2015-07-24      3   \n",
       "4             2    10000000   100.00000           2018-06-19      2   \n",
       "\n",
       "   ceiling_height  floors_total  living_area  floor  is_apartment  ...  \\\n",
       "0        2.699219            16      51.0000      8         False  ...   \n",
       "1        2.650391            11          NaN      1         False  ...   \n",
       "2        2.650391             5      34.3125      4         False  ...   \n",
       "3        2.650391            14      30.0000      9         False  ...   \n",
       "4        3.029297            14      32.0000     13         False  ...   \n",
       "\n",
       "   kitchen_area  balcony    locality_name  airports_nearest  \\\n",
       "0     25.000000    False  Санкт-Петербург                18   \n",
       "1     11.000000     True   посёлок Шушары                12   \n",
       "2      8.296875    False  Санкт-Петербург                21   \n",
       "3      9.101562    False  Санкт-Петербург                28   \n",
       "4     41.000000    False  Санкт-Петербург                31   \n",
       "\n",
       "  cityCenters_nearest  parks_around3000  parks_nearest  ponds_around3000  \\\n",
       "0                  16               1.0          482.0               2.0   \n",
       "1                  18               0.0            NaN               0.0   \n",
       "2                  13               1.0           90.0               2.0   \n",
       "3                   6               2.0           84.0               3.0   \n",
       "4                   8               2.0          112.0               1.0   \n",
       "\n",
       "   ponds_nearest  days_exposition  \n",
       "0          755.0              NaN  \n",
       "1            NaN             81.0  \n",
       "2          574.0            558.0  \n",
       "3          234.0            424.0  \n",
       "4           48.0            121.0  \n",
       "\n",
       "[5 rows x 22 columns]"
      ]
     },
     "execution_count": 173,
     "metadata": {},
     "output_type": "execute_result"
    }
   ],
   "source": [
    "estate_new.head()"
   ]
  },
  {
   "cell_type": "markdown",
   "metadata": {},
   "source": [
    " **Предположим, что не везде есть парки и заменим на 0**"
   ]
  },
  {
   "cell_type": "code",
   "execution_count": 174,
   "metadata": {},
   "outputs": [
    {
     "data": {
      "text/plain": [
       "5485"
      ]
     },
     "execution_count": 174,
     "metadata": {},
     "output_type": "execute_result"
    }
   ],
   "source": [
    "estate_new['parks_around3000'].isna().sum()"
   ]
  },
  {
   "cell_type": "markdown",
   "metadata": {},
   "source": [
    "**Замена**"
   ]
  },
  {
   "cell_type": "code",
   "execution_count": 175,
   "metadata": {},
   "outputs": [],
   "source": [
    "estate_new['parks_around3000'] = estate_new['parks_around3000'].fillna(0)"
   ]
  },
  {
   "cell_type": "code",
   "execution_count": 176,
   "metadata": {},
   "outputs": [],
   "source": [
    "estate_new['parks_around3000'] = estate_new['parks_around3000'].astype('uint8')  "
   ]
  },
  {
   "cell_type": "markdown",
   "metadata": {},
   "source": [
    " **Проверка**"
   ]
  },
  {
   "cell_type": "code",
   "execution_count": 177,
   "metadata": {},
   "outputs": [
    {
     "data": {
      "text/html": [
       "<div>\n",
       "<style scoped>\n",
       "    .dataframe tbody tr th:only-of-type {\n",
       "        vertical-align: middle;\n",
       "    }\n",
       "\n",
       "    .dataframe tbody tr th {\n",
       "        vertical-align: top;\n",
       "    }\n",
       "\n",
       "    .dataframe thead th {\n",
       "        text-align: right;\n",
       "    }\n",
       "</style>\n",
       "<table border=\"1\" class=\"dataframe\">\n",
       "  <thead>\n",
       "    <tr style=\"text-align: right;\">\n",
       "      <th></th>\n",
       "      <th>total_images</th>\n",
       "      <th>last_price</th>\n",
       "      <th>total_area</th>\n",
       "      <th>first_day_exposition</th>\n",
       "      <th>rooms</th>\n",
       "      <th>ceiling_height</th>\n",
       "      <th>floors_total</th>\n",
       "      <th>living_area</th>\n",
       "      <th>floor</th>\n",
       "      <th>is_apartment</th>\n",
       "      <th>...</th>\n",
       "      <th>kitchen_area</th>\n",
       "      <th>balcony</th>\n",
       "      <th>locality_name</th>\n",
       "      <th>airports_nearest</th>\n",
       "      <th>cityCenters_nearest</th>\n",
       "      <th>parks_around3000</th>\n",
       "      <th>parks_nearest</th>\n",
       "      <th>ponds_around3000</th>\n",
       "      <th>ponds_nearest</th>\n",
       "      <th>days_exposition</th>\n",
       "    </tr>\n",
       "  </thead>\n",
       "  <tbody>\n",
       "    <tr>\n",
       "      <th>0</th>\n",
       "      <td>20</td>\n",
       "      <td>13000000</td>\n",
       "      <td>108.00000</td>\n",
       "      <td>2019-03-07</td>\n",
       "      <td>3</td>\n",
       "      <td>2.699219</td>\n",
       "      <td>16</td>\n",
       "      <td>51.0000</td>\n",
       "      <td>8</td>\n",
       "      <td>False</td>\n",
       "      <td>...</td>\n",
       "      <td>25.000000</td>\n",
       "      <td>False</td>\n",
       "      <td>Санкт-Петербург</td>\n",
       "      <td>18</td>\n",
       "      <td>16</td>\n",
       "      <td>1</td>\n",
       "      <td>482.0</td>\n",
       "      <td>2.0</td>\n",
       "      <td>755.0</td>\n",
       "      <td>NaN</td>\n",
       "    </tr>\n",
       "    <tr>\n",
       "      <th>1</th>\n",
       "      <td>7</td>\n",
       "      <td>3350000</td>\n",
       "      <td>40.40625</td>\n",
       "      <td>2018-12-04</td>\n",
       "      <td>1</td>\n",
       "      <td>2.650391</td>\n",
       "      <td>11</td>\n",
       "      <td>NaN</td>\n",
       "      <td>1</td>\n",
       "      <td>False</td>\n",
       "      <td>...</td>\n",
       "      <td>11.000000</td>\n",
       "      <td>True</td>\n",
       "      <td>посёлок Шушары</td>\n",
       "      <td>12</td>\n",
       "      <td>18</td>\n",
       "      <td>0</td>\n",
       "      <td>NaN</td>\n",
       "      <td>0.0</td>\n",
       "      <td>NaN</td>\n",
       "      <td>81.0</td>\n",
       "    </tr>\n",
       "    <tr>\n",
       "      <th>2</th>\n",
       "      <td>10</td>\n",
       "      <td>5196000</td>\n",
       "      <td>56.00000</td>\n",
       "      <td>2015-08-20</td>\n",
       "      <td>2</td>\n",
       "      <td>2.650391</td>\n",
       "      <td>5</td>\n",
       "      <td>34.3125</td>\n",
       "      <td>4</td>\n",
       "      <td>False</td>\n",
       "      <td>...</td>\n",
       "      <td>8.296875</td>\n",
       "      <td>False</td>\n",
       "      <td>Санкт-Петербург</td>\n",
       "      <td>21</td>\n",
       "      <td>13</td>\n",
       "      <td>1</td>\n",
       "      <td>90.0</td>\n",
       "      <td>2.0</td>\n",
       "      <td>574.0</td>\n",
       "      <td>558.0</td>\n",
       "    </tr>\n",
       "    <tr>\n",
       "      <th>3</th>\n",
       "      <td>0</td>\n",
       "      <td>64900000</td>\n",
       "      <td>159.00000</td>\n",
       "      <td>2015-07-24</td>\n",
       "      <td>3</td>\n",
       "      <td>2.650391</td>\n",
       "      <td>14</td>\n",
       "      <td>30.0000</td>\n",
       "      <td>9</td>\n",
       "      <td>False</td>\n",
       "      <td>...</td>\n",
       "      <td>9.101562</td>\n",
       "      <td>False</td>\n",
       "      <td>Санкт-Петербург</td>\n",
       "      <td>28</td>\n",
       "      <td>6</td>\n",
       "      <td>2</td>\n",
       "      <td>84.0</td>\n",
       "      <td>3.0</td>\n",
       "      <td>234.0</td>\n",
       "      <td>424.0</td>\n",
       "    </tr>\n",
       "    <tr>\n",
       "      <th>4</th>\n",
       "      <td>2</td>\n",
       "      <td>10000000</td>\n",
       "      <td>100.00000</td>\n",
       "      <td>2018-06-19</td>\n",
       "      <td>2</td>\n",
       "      <td>3.029297</td>\n",
       "      <td>14</td>\n",
       "      <td>32.0000</td>\n",
       "      <td>13</td>\n",
       "      <td>False</td>\n",
       "      <td>...</td>\n",
       "      <td>41.000000</td>\n",
       "      <td>False</td>\n",
       "      <td>Санкт-Петербург</td>\n",
       "      <td>31</td>\n",
       "      <td>8</td>\n",
       "      <td>2</td>\n",
       "      <td>112.0</td>\n",
       "      <td>1.0</td>\n",
       "      <td>48.0</td>\n",
       "      <td>121.0</td>\n",
       "    </tr>\n",
       "  </tbody>\n",
       "</table>\n",
       "<p>5 rows × 22 columns</p>\n",
       "</div>"
      ],
      "text/plain": [
       "   total_images  last_price  total_area first_day_exposition  rooms  \\\n",
       "0            20    13000000   108.00000           2019-03-07      3   \n",
       "1             7     3350000    40.40625           2018-12-04      1   \n",
       "2            10     5196000    56.00000           2015-08-20      2   \n",
       "3             0    64900000   159.00000           2015-07-24      3   \n",
       "4             2    10000000   100.00000           2018-06-19      2   \n",
       "\n",
       "   ceiling_height  floors_total  living_area  floor  is_apartment  ...  \\\n",
       "0        2.699219            16      51.0000      8         False  ...   \n",
       "1        2.650391            11          NaN      1         False  ...   \n",
       "2        2.650391             5      34.3125      4         False  ...   \n",
       "3        2.650391            14      30.0000      9         False  ...   \n",
       "4        3.029297            14      32.0000     13         False  ...   \n",
       "\n",
       "   kitchen_area  balcony    locality_name  airports_nearest  \\\n",
       "0     25.000000    False  Санкт-Петербург                18   \n",
       "1     11.000000     True   посёлок Шушары                12   \n",
       "2      8.296875    False  Санкт-Петербург                21   \n",
       "3      9.101562    False  Санкт-Петербург                28   \n",
       "4     41.000000    False  Санкт-Петербург                31   \n",
       "\n",
       "  cityCenters_nearest  parks_around3000  parks_nearest  ponds_around3000  \\\n",
       "0                  16                 1          482.0               2.0   \n",
       "1                  18                 0            NaN               0.0   \n",
       "2                  13                 1           90.0               2.0   \n",
       "3                   6                 2           84.0               3.0   \n",
       "4                   8                 2          112.0               1.0   \n",
       "\n",
       "   ponds_nearest  days_exposition  \n",
       "0          755.0              NaN  \n",
       "1            NaN             81.0  \n",
       "2          574.0            558.0  \n",
       "3          234.0            424.0  \n",
       "4           48.0            121.0  \n",
       "\n",
       "[5 rows x 22 columns]"
      ]
     },
     "execution_count": 177,
     "metadata": {},
     "output_type": "execute_result"
    }
   ],
   "source": [
    "estate_new.head()"
   ]
  },
  {
   "cell_type": "markdown",
   "metadata": {},
   "source": [
    " **Предположим, что не везде есть парки и заменим на 0**"
   ]
  },
  {
   "cell_type": "code",
   "execution_count": 178,
   "metadata": {},
   "outputs": [
    {
     "data": {
      "text/plain": [
       "15545"
      ]
     },
     "execution_count": 178,
     "metadata": {},
     "output_type": "execute_result"
    }
   ],
   "source": [
    "estate_new['parks_nearest'].isna().sum()"
   ]
  },
  {
   "cell_type": "code",
   "execution_count": 179,
   "metadata": {},
   "outputs": [],
   "source": [
    "estate_new['parks_nearest'] = estate_new['parks_nearest']/1000"
   ]
  },
  {
   "cell_type": "markdown",
   "metadata": {},
   "source": [
    " **Замена**"
   ]
  },
  {
   "cell_type": "code",
   "execution_count": 180,
   "metadata": {},
   "outputs": [],
   "source": [
    "estate_new['parks_nearest'] = estate_new['parks_nearest'].fillna(0)"
   ]
  },
  {
   "cell_type": "code",
   "execution_count": 181,
   "metadata": {},
   "outputs": [],
   "source": [
    "estate_new['parks_nearest'] = estate_new['parks_nearest'].astype('uint8') "
   ]
  },
  {
   "cell_type": "markdown",
   "metadata": {},
   "source": [
    " **Замена**"
   ]
  },
  {
   "cell_type": "code",
   "execution_count": 182,
   "metadata": {},
   "outputs": [],
   "source": [
    "estate_new['ponds_around3000'] = estate_new['ponds_around3000'].fillna(0)"
   ]
  },
  {
   "cell_type": "code",
   "execution_count": 183,
   "metadata": {},
   "outputs": [
    {
     "data": {
      "text/plain": [
       "count    23598.000000\n",
       "mean         0.590389\n",
       "std          0.883489\n",
       "min          0.000000\n",
       "25%          0.000000\n",
       "50%          0.000000\n",
       "75%          1.000000\n",
       "max          3.000000\n",
       "Name: ponds_around3000, dtype: float64"
      ]
     },
     "execution_count": 183,
     "metadata": {},
     "output_type": "execute_result"
    }
   ],
   "source": [
    "estate_new['ponds_around3000'].describe()"
   ]
  },
  {
   "cell_type": "code",
   "execution_count": 184,
   "metadata": {},
   "outputs": [],
   "source": [
    "estate_new['ponds_around3000'] = estate_new['ponds_around3000'].astype('uint8')"
   ]
  },
  {
   "cell_type": "code",
   "execution_count": 185,
   "metadata": {},
   "outputs": [],
   "source": [
    "estate_new['ponds_nearest'] = estate_new['ponds_nearest'].fillna(0)"
   ]
  },
  {
   "cell_type": "code",
   "execution_count": 186,
   "metadata": {},
   "outputs": [],
   "source": [
    "estate_new['ponds_nearest'] = estate_new['ponds_nearest']/1000"
   ]
  },
  {
   "cell_type": "code",
   "execution_count": 187,
   "metadata": {},
   "outputs": [
    {
     "data": {
      "text/plain": [
       "count    23598.000000\n",
       "mean         0.199070\n",
       "std          0.305202\n",
       "min          0.000000\n",
       "25%          0.000000\n",
       "50%          0.000000\n",
       "75%          0.390000\n",
       "max          1.344000\n",
       "Name: ponds_nearest, dtype: float64"
      ]
     },
     "execution_count": 187,
     "metadata": {},
     "output_type": "execute_result"
    }
   ],
   "source": [
    "estate_new['ponds_nearest'].describe()"
   ]
  },
  {
   "cell_type": "code",
   "execution_count": 188,
   "metadata": {},
   "outputs": [],
   "source": [
    "estate_new['ponds_nearest'] = estate_new['ponds_nearest'].astype('float16') "
   ]
  },
  {
   "cell_type": "code",
   "execution_count": 189,
   "metadata": {},
   "outputs": [
    {
     "data": {
      "text/html": [
       "<div>\n",
       "<style scoped>\n",
       "    .dataframe tbody tr th:only-of-type {\n",
       "        vertical-align: middle;\n",
       "    }\n",
       "\n",
       "    .dataframe tbody tr th {\n",
       "        vertical-align: top;\n",
       "    }\n",
       "\n",
       "    .dataframe thead th {\n",
       "        text-align: right;\n",
       "    }\n",
       "</style>\n",
       "<table border=\"1\" class=\"dataframe\">\n",
       "  <thead>\n",
       "    <tr style=\"text-align: right;\">\n",
       "      <th></th>\n",
       "      <th>total_images</th>\n",
       "      <th>last_price</th>\n",
       "      <th>total_area</th>\n",
       "      <th>first_day_exposition</th>\n",
       "      <th>rooms</th>\n",
       "      <th>ceiling_height</th>\n",
       "      <th>floors_total</th>\n",
       "      <th>living_area</th>\n",
       "      <th>floor</th>\n",
       "      <th>is_apartment</th>\n",
       "      <th>...</th>\n",
       "      <th>kitchen_area</th>\n",
       "      <th>balcony</th>\n",
       "      <th>locality_name</th>\n",
       "      <th>airports_nearest</th>\n",
       "      <th>cityCenters_nearest</th>\n",
       "      <th>parks_around3000</th>\n",
       "      <th>parks_nearest</th>\n",
       "      <th>ponds_around3000</th>\n",
       "      <th>ponds_nearest</th>\n",
       "      <th>days_exposition</th>\n",
       "    </tr>\n",
       "  </thead>\n",
       "  <tbody>\n",
       "    <tr>\n",
       "      <th>0</th>\n",
       "      <td>20</td>\n",
       "      <td>13000000</td>\n",
       "      <td>108.00000</td>\n",
       "      <td>2019-03-07</td>\n",
       "      <td>3</td>\n",
       "      <td>2.699219</td>\n",
       "      <td>16</td>\n",
       "      <td>51.0000</td>\n",
       "      <td>8</td>\n",
       "      <td>False</td>\n",
       "      <td>...</td>\n",
       "      <td>25.000000</td>\n",
       "      <td>False</td>\n",
       "      <td>Санкт-Петербург</td>\n",
       "      <td>18</td>\n",
       "      <td>16</td>\n",
       "      <td>1</td>\n",
       "      <td>0</td>\n",
       "      <td>2</td>\n",
       "      <td>0.754883</td>\n",
       "      <td>NaN</td>\n",
       "    </tr>\n",
       "    <tr>\n",
       "      <th>1</th>\n",
       "      <td>7</td>\n",
       "      <td>3350000</td>\n",
       "      <td>40.40625</td>\n",
       "      <td>2018-12-04</td>\n",
       "      <td>1</td>\n",
       "      <td>2.650391</td>\n",
       "      <td>11</td>\n",
       "      <td>NaN</td>\n",
       "      <td>1</td>\n",
       "      <td>False</td>\n",
       "      <td>...</td>\n",
       "      <td>11.000000</td>\n",
       "      <td>True</td>\n",
       "      <td>посёлок Шушары</td>\n",
       "      <td>12</td>\n",
       "      <td>18</td>\n",
       "      <td>0</td>\n",
       "      <td>0</td>\n",
       "      <td>0</td>\n",
       "      <td>0.000000</td>\n",
       "      <td>81.0</td>\n",
       "    </tr>\n",
       "    <tr>\n",
       "      <th>2</th>\n",
       "      <td>10</td>\n",
       "      <td>5196000</td>\n",
       "      <td>56.00000</td>\n",
       "      <td>2015-08-20</td>\n",
       "      <td>2</td>\n",
       "      <td>2.650391</td>\n",
       "      <td>5</td>\n",
       "      <td>34.3125</td>\n",
       "      <td>4</td>\n",
       "      <td>False</td>\n",
       "      <td>...</td>\n",
       "      <td>8.296875</td>\n",
       "      <td>False</td>\n",
       "      <td>Санкт-Петербург</td>\n",
       "      <td>21</td>\n",
       "      <td>13</td>\n",
       "      <td>1</td>\n",
       "      <td>0</td>\n",
       "      <td>2</td>\n",
       "      <td>0.574219</td>\n",
       "      <td>558.0</td>\n",
       "    </tr>\n",
       "    <tr>\n",
       "      <th>3</th>\n",
       "      <td>0</td>\n",
       "      <td>64900000</td>\n",
       "      <td>159.00000</td>\n",
       "      <td>2015-07-24</td>\n",
       "      <td>3</td>\n",
       "      <td>2.650391</td>\n",
       "      <td>14</td>\n",
       "      <td>30.0000</td>\n",
       "      <td>9</td>\n",
       "      <td>False</td>\n",
       "      <td>...</td>\n",
       "      <td>9.101562</td>\n",
       "      <td>False</td>\n",
       "      <td>Санкт-Петербург</td>\n",
       "      <td>28</td>\n",
       "      <td>6</td>\n",
       "      <td>2</td>\n",
       "      <td>0</td>\n",
       "      <td>3</td>\n",
       "      <td>0.234009</td>\n",
       "      <td>424.0</td>\n",
       "    </tr>\n",
       "    <tr>\n",
       "      <th>4</th>\n",
       "      <td>2</td>\n",
       "      <td>10000000</td>\n",
       "      <td>100.00000</td>\n",
       "      <td>2018-06-19</td>\n",
       "      <td>2</td>\n",
       "      <td>3.029297</td>\n",
       "      <td>14</td>\n",
       "      <td>32.0000</td>\n",
       "      <td>13</td>\n",
       "      <td>False</td>\n",
       "      <td>...</td>\n",
       "      <td>41.000000</td>\n",
       "      <td>False</td>\n",
       "      <td>Санкт-Петербург</td>\n",
       "      <td>31</td>\n",
       "      <td>8</td>\n",
       "      <td>2</td>\n",
       "      <td>0</td>\n",
       "      <td>1</td>\n",
       "      <td>0.048004</td>\n",
       "      <td>121.0</td>\n",
       "    </tr>\n",
       "  </tbody>\n",
       "</table>\n",
       "<p>5 rows × 22 columns</p>\n",
       "</div>"
      ],
      "text/plain": [
       "   total_images  last_price  total_area first_day_exposition  rooms  \\\n",
       "0            20    13000000   108.00000           2019-03-07      3   \n",
       "1             7     3350000    40.40625           2018-12-04      1   \n",
       "2            10     5196000    56.00000           2015-08-20      2   \n",
       "3             0    64900000   159.00000           2015-07-24      3   \n",
       "4             2    10000000   100.00000           2018-06-19      2   \n",
       "\n",
       "   ceiling_height  floors_total  living_area  floor  is_apartment  ...  \\\n",
       "0        2.699219            16      51.0000      8         False  ...   \n",
       "1        2.650391            11          NaN      1         False  ...   \n",
       "2        2.650391             5      34.3125      4         False  ...   \n",
       "3        2.650391            14      30.0000      9         False  ...   \n",
       "4        3.029297            14      32.0000     13         False  ...   \n",
       "\n",
       "   kitchen_area  balcony    locality_name  airports_nearest  \\\n",
       "0     25.000000    False  Санкт-Петербург                18   \n",
       "1     11.000000     True   посёлок Шушары                12   \n",
       "2      8.296875    False  Санкт-Петербург                21   \n",
       "3      9.101562    False  Санкт-Петербург                28   \n",
       "4     41.000000    False  Санкт-Петербург                31   \n",
       "\n",
       "  cityCenters_nearest  parks_around3000  parks_nearest  ponds_around3000  \\\n",
       "0                  16                 1              0                 2   \n",
       "1                  18                 0              0                 0   \n",
       "2                  13                 1              0                 2   \n",
       "3                   6                 2              0                 3   \n",
       "4                   8                 2              0                 1   \n",
       "\n",
       "   ponds_nearest  days_exposition  \n",
       "0       0.754883              NaN  \n",
       "1       0.000000             81.0  \n",
       "2       0.574219            558.0  \n",
       "3       0.234009            424.0  \n",
       "4       0.048004            121.0  \n",
       "\n",
       "[5 rows x 22 columns]"
      ]
     },
     "execution_count": 189,
     "metadata": {},
     "output_type": "execute_result"
    }
   ],
   "source": [
    "estate_new.head()"
   ]
  },
  {
   "cell_type": "code",
   "execution_count": 190,
   "metadata": {},
   "outputs": [],
   "source": [
    "estate_new['days_exposition'] = estate_new['days_exposition'].fillna(estate_new['days_exposition'].median())"
   ]
  },
  {
   "cell_type": "code",
   "execution_count": 191,
   "metadata": {},
   "outputs": [],
   "source": [
    "estate_new['days_exposition'] = estate_new['days_exposition'].astype('int16')"
   ]
  },
  {
   "cell_type": "code",
   "execution_count": 192,
   "metadata": {},
   "outputs": [],
   "source": [
    "estate_new.set_axis(['total_images','last_price','total_area','first_day_exposition','rooms','ceiling_height',\n",
    "                     'floors_total','living_area','floor','is_apartment','studio','open_plan','kitchen_area',\n",
    "                     'balcony','locality_name','airport_nearest','city_center_nearest','parks_around3000',\n",
    "                     'parks_nearest','ponds_around3000','ponds_nearest','days_exposition'], axis='columns',\n",
    "                    inplace=True\n",
    ")"
   ]
  },
  {
   "cell_type": "code",
   "execution_count": 193,
   "metadata": {},
   "outputs": [
    {
     "data": {
      "text/html": [
       "<div>\n",
       "<style scoped>\n",
       "    .dataframe tbody tr th:only-of-type {\n",
       "        vertical-align: middle;\n",
       "    }\n",
       "\n",
       "    .dataframe tbody tr th {\n",
       "        vertical-align: top;\n",
       "    }\n",
       "\n",
       "    .dataframe thead th {\n",
       "        text-align: right;\n",
       "    }\n",
       "</style>\n",
       "<table border=\"1\" class=\"dataframe\">\n",
       "  <thead>\n",
       "    <tr style=\"text-align: right;\">\n",
       "      <th></th>\n",
       "      <th>total_images</th>\n",
       "      <th>last_price</th>\n",
       "      <th>total_area</th>\n",
       "      <th>first_day_exposition</th>\n",
       "      <th>rooms</th>\n",
       "      <th>ceiling_height</th>\n",
       "      <th>floors_total</th>\n",
       "      <th>living_area</th>\n",
       "      <th>floor</th>\n",
       "      <th>is_apartment</th>\n",
       "      <th>...</th>\n",
       "      <th>kitchen_area</th>\n",
       "      <th>balcony</th>\n",
       "      <th>locality_name</th>\n",
       "      <th>airport_nearest</th>\n",
       "      <th>city_center_nearest</th>\n",
       "      <th>parks_around3000</th>\n",
       "      <th>parks_nearest</th>\n",
       "      <th>ponds_around3000</th>\n",
       "      <th>ponds_nearest</th>\n",
       "      <th>days_exposition</th>\n",
       "    </tr>\n",
       "  </thead>\n",
       "  <tbody>\n",
       "    <tr>\n",
       "      <th>0</th>\n",
       "      <td>20</td>\n",
       "      <td>13000000</td>\n",
       "      <td>108.00000</td>\n",
       "      <td>2019-03-07</td>\n",
       "      <td>3</td>\n",
       "      <td>2.699219</td>\n",
       "      <td>16</td>\n",
       "      <td>51.0000</td>\n",
       "      <td>8</td>\n",
       "      <td>False</td>\n",
       "      <td>...</td>\n",
       "      <td>25.000000</td>\n",
       "      <td>False</td>\n",
       "      <td>Санкт-Петербург</td>\n",
       "      <td>18</td>\n",
       "      <td>16</td>\n",
       "      <td>1</td>\n",
       "      <td>0</td>\n",
       "      <td>2</td>\n",
       "      <td>0.754883</td>\n",
       "      <td>95</td>\n",
       "    </tr>\n",
       "    <tr>\n",
       "      <th>1</th>\n",
       "      <td>7</td>\n",
       "      <td>3350000</td>\n",
       "      <td>40.40625</td>\n",
       "      <td>2018-12-04</td>\n",
       "      <td>1</td>\n",
       "      <td>2.650391</td>\n",
       "      <td>11</td>\n",
       "      <td>NaN</td>\n",
       "      <td>1</td>\n",
       "      <td>False</td>\n",
       "      <td>...</td>\n",
       "      <td>11.000000</td>\n",
       "      <td>True</td>\n",
       "      <td>посёлок Шушары</td>\n",
       "      <td>12</td>\n",
       "      <td>18</td>\n",
       "      <td>0</td>\n",
       "      <td>0</td>\n",
       "      <td>0</td>\n",
       "      <td>0.000000</td>\n",
       "      <td>81</td>\n",
       "    </tr>\n",
       "    <tr>\n",
       "      <th>2</th>\n",
       "      <td>10</td>\n",
       "      <td>5196000</td>\n",
       "      <td>56.00000</td>\n",
       "      <td>2015-08-20</td>\n",
       "      <td>2</td>\n",
       "      <td>2.650391</td>\n",
       "      <td>5</td>\n",
       "      <td>34.3125</td>\n",
       "      <td>4</td>\n",
       "      <td>False</td>\n",
       "      <td>...</td>\n",
       "      <td>8.296875</td>\n",
       "      <td>False</td>\n",
       "      <td>Санкт-Петербург</td>\n",
       "      <td>21</td>\n",
       "      <td>13</td>\n",
       "      <td>1</td>\n",
       "      <td>0</td>\n",
       "      <td>2</td>\n",
       "      <td>0.574219</td>\n",
       "      <td>558</td>\n",
       "    </tr>\n",
       "    <tr>\n",
       "      <th>3</th>\n",
       "      <td>0</td>\n",
       "      <td>64900000</td>\n",
       "      <td>159.00000</td>\n",
       "      <td>2015-07-24</td>\n",
       "      <td>3</td>\n",
       "      <td>2.650391</td>\n",
       "      <td>14</td>\n",
       "      <td>30.0000</td>\n",
       "      <td>9</td>\n",
       "      <td>False</td>\n",
       "      <td>...</td>\n",
       "      <td>9.101562</td>\n",
       "      <td>False</td>\n",
       "      <td>Санкт-Петербург</td>\n",
       "      <td>28</td>\n",
       "      <td>6</td>\n",
       "      <td>2</td>\n",
       "      <td>0</td>\n",
       "      <td>3</td>\n",
       "      <td>0.234009</td>\n",
       "      <td>424</td>\n",
       "    </tr>\n",
       "    <tr>\n",
       "      <th>4</th>\n",
       "      <td>2</td>\n",
       "      <td>10000000</td>\n",
       "      <td>100.00000</td>\n",
       "      <td>2018-06-19</td>\n",
       "      <td>2</td>\n",
       "      <td>3.029297</td>\n",
       "      <td>14</td>\n",
       "      <td>32.0000</td>\n",
       "      <td>13</td>\n",
       "      <td>False</td>\n",
       "      <td>...</td>\n",
       "      <td>41.000000</td>\n",
       "      <td>False</td>\n",
       "      <td>Санкт-Петербург</td>\n",
       "      <td>31</td>\n",
       "      <td>8</td>\n",
       "      <td>2</td>\n",
       "      <td>0</td>\n",
       "      <td>1</td>\n",
       "      <td>0.048004</td>\n",
       "      <td>121</td>\n",
       "    </tr>\n",
       "  </tbody>\n",
       "</table>\n",
       "<p>5 rows × 22 columns</p>\n",
       "</div>"
      ],
      "text/plain": [
       "   total_images  last_price  total_area first_day_exposition  rooms  \\\n",
       "0            20    13000000   108.00000           2019-03-07      3   \n",
       "1             7     3350000    40.40625           2018-12-04      1   \n",
       "2            10     5196000    56.00000           2015-08-20      2   \n",
       "3             0    64900000   159.00000           2015-07-24      3   \n",
       "4             2    10000000   100.00000           2018-06-19      2   \n",
       "\n",
       "   ceiling_height  floors_total  living_area  floor  is_apartment  ...  \\\n",
       "0        2.699219            16      51.0000      8         False  ...   \n",
       "1        2.650391            11          NaN      1         False  ...   \n",
       "2        2.650391             5      34.3125      4         False  ...   \n",
       "3        2.650391            14      30.0000      9         False  ...   \n",
       "4        3.029297            14      32.0000     13         False  ...   \n",
       "\n",
       "   kitchen_area  balcony    locality_name  airport_nearest  \\\n",
       "0     25.000000    False  Санкт-Петербург               18   \n",
       "1     11.000000     True   посёлок Шушары               12   \n",
       "2      8.296875    False  Санкт-Петербург               21   \n",
       "3      9.101562    False  Санкт-Петербург               28   \n",
       "4     41.000000    False  Санкт-Петербург               31   \n",
       "\n",
       "  city_center_nearest  parks_around3000  parks_nearest  ponds_around3000  \\\n",
       "0                  16                 1              0                 2   \n",
       "1                  18                 0              0                 0   \n",
       "2                  13                 1              0                 2   \n",
       "3                   6                 2              0                 3   \n",
       "4                   8                 2              0                 1   \n",
       "\n",
       "   ponds_nearest  days_exposition  \n",
       "0       0.754883               95  \n",
       "1       0.000000               81  \n",
       "2       0.574219              558  \n",
       "3       0.234009              424  \n",
       "4       0.048004              121  \n",
       "\n",
       "[5 rows x 22 columns]"
      ]
     },
     "execution_count": 193,
     "metadata": {},
     "output_type": "execute_result"
    }
   ],
   "source": [
    "estate_new.head()"
   ]
  },
  {
   "cell_type": "markdown",
   "metadata": {},
   "source": [
    "**Красота)**"
   ]
  },
  {
   "cell_type": "code",
   "execution_count": 194,
   "metadata": {},
   "outputs": [
    {
     "name": "stdout",
     "output_type": "stream",
     "text": [
      "<class 'pandas.core.frame.DataFrame'>\n",
      "Int64Index: 23598 entries, 0 to 23698\n",
      "Data columns (total 22 columns):\n",
      " #   Column                Non-Null Count  Dtype         \n",
      "---  ------                --------------  -----         \n",
      " 0   total_images          23598 non-null  uint8         \n",
      " 1   last_price            23598 non-null  int32         \n",
      " 2   total_area            23598 non-null  float16       \n",
      " 3   first_day_exposition  23598 non-null  datetime64[ns]\n",
      " 4   rooms                 23598 non-null  uint8         \n",
      " 5   ceiling_height        23598 non-null  float16       \n",
      " 6   floors_total          23598 non-null  uint8         \n",
      " 7   living_area           14919 non-null  float16       \n",
      " 8   floor                 23598 non-null  uint8         \n",
      " 9   is_apartment          23598 non-null  bool          \n",
      " 10  studio                23598 non-null  bool          \n",
      " 11  open_plan             23598 non-null  bool          \n",
      " 12  kitchen_area          23598 non-null  float16       \n",
      " 13  balcony               23598 non-null  bool          \n",
      " 14  locality_name         23598 non-null  object        \n",
      " 15  airport_nearest       23598 non-null  uint8         \n",
      " 16  city_center_nearest   23598 non-null  uint8         \n",
      " 17  parks_around3000      23598 non-null  uint8         \n",
      " 18  parks_nearest         23598 non-null  uint8         \n",
      " 19  ponds_around3000      23598 non-null  uint8         \n",
      " 20  ponds_nearest         23598 non-null  float16       \n",
      " 21  days_exposition       23598 non-null  int16         \n",
      "dtypes: bool(4), datetime64[ns](1), float16(5), int16(1), int32(1), object(1), uint8(9)\n",
      "memory usage: 1.2+ MB\n"
     ]
    }
   ],
   "source": [
    "estate_new.info()"
   ]
  },
  {
   "cell_type": "markdown",
   "metadata": {},
   "source": [
    "## Расчёты и добавление результатов в таблицу"
   ]
  },
  {
   "cell_type": "markdown",
   "metadata": {},
   "source": [
    " **Цена за квадратный метр**"
   ]
  },
  {
   "cell_type": "code",
   "execution_count": 195,
   "metadata": {},
   "outputs": [],
   "source": [
    "estate_new['sqr_price'] = (estate_new['last_price'] / estate_new['total_area']).astype('int')"
   ]
  },
  {
   "cell_type": "markdown",
   "metadata": {},
   "source": [
    " **День недели размещения**"
   ]
  },
  {
   "cell_type": "code",
   "execution_count": 196,
   "metadata": {},
   "outputs": [],
   "source": [
    "estate_new['week_day'] = (estate_new['first_day_exposition'].dt.weekday).astype('uint8')"
   ]
  },
  {
   "cell_type": "markdown",
   "metadata": {},
   "source": [
    " **Месяц размещения**"
   ]
  },
  {
   "cell_type": "code",
   "execution_count": 197,
   "metadata": {},
   "outputs": [],
   "source": [
    "estate_new['month'] = (pd.DatetimeIndex(estate_new['first_day_exposition']).month).astype('uint8')"
   ]
  },
  {
   "cell_type": "markdown",
   "metadata": {},
   "source": [
    " **Год размещения**"
   ]
  },
  {
   "cell_type": "code",
   "execution_count": 198,
   "metadata": {},
   "outputs": [],
   "source": [
    "estate_new['year'] = (pd.DatetimeIndex(estate_new['first_day_exposition']).year).astype('int16')"
   ]
  },
  {
   "cell_type": "code",
   "execution_count": 199,
   "metadata": {},
   "outputs": [
    {
     "data": {
      "text/html": [
       "<div>\n",
       "<style scoped>\n",
       "    .dataframe tbody tr th:only-of-type {\n",
       "        vertical-align: middle;\n",
       "    }\n",
       "\n",
       "    .dataframe tbody tr th {\n",
       "        vertical-align: top;\n",
       "    }\n",
       "\n",
       "    .dataframe thead th {\n",
       "        text-align: right;\n",
       "    }\n",
       "</style>\n",
       "<table border=\"1\" class=\"dataframe\">\n",
       "  <thead>\n",
       "    <tr style=\"text-align: right;\">\n",
       "      <th></th>\n",
       "      <th>total_images</th>\n",
       "      <th>last_price</th>\n",
       "      <th>total_area</th>\n",
       "      <th>first_day_exposition</th>\n",
       "      <th>rooms</th>\n",
       "      <th>ceiling_height</th>\n",
       "      <th>floors_total</th>\n",
       "      <th>living_area</th>\n",
       "      <th>floor</th>\n",
       "      <th>is_apartment</th>\n",
       "      <th>...</th>\n",
       "      <th>city_center_nearest</th>\n",
       "      <th>parks_around3000</th>\n",
       "      <th>parks_nearest</th>\n",
       "      <th>ponds_around3000</th>\n",
       "      <th>ponds_nearest</th>\n",
       "      <th>days_exposition</th>\n",
       "      <th>sqr_price</th>\n",
       "      <th>week_day</th>\n",
       "      <th>month</th>\n",
       "      <th>year</th>\n",
       "    </tr>\n",
       "  </thead>\n",
       "  <tbody>\n",
       "    <tr>\n",
       "      <th>0</th>\n",
       "      <td>20</td>\n",
       "      <td>13000000</td>\n",
       "      <td>108.00000</td>\n",
       "      <td>2019-03-07</td>\n",
       "      <td>3</td>\n",
       "      <td>2.699219</td>\n",
       "      <td>16</td>\n",
       "      <td>51.0000</td>\n",
       "      <td>8</td>\n",
       "      <td>False</td>\n",
       "      <td>...</td>\n",
       "      <td>16</td>\n",
       "      <td>1</td>\n",
       "      <td>0</td>\n",
       "      <td>2</td>\n",
       "      <td>0.754883</td>\n",
       "      <td>95</td>\n",
       "      <td>120370</td>\n",
       "      <td>3</td>\n",
       "      <td>3</td>\n",
       "      <td>2019</td>\n",
       "    </tr>\n",
       "    <tr>\n",
       "      <th>1</th>\n",
       "      <td>7</td>\n",
       "      <td>3350000</td>\n",
       "      <td>40.40625</td>\n",
       "      <td>2018-12-04</td>\n",
       "      <td>1</td>\n",
       "      <td>2.650391</td>\n",
       "      <td>11</td>\n",
       "      <td>NaN</td>\n",
       "      <td>1</td>\n",
       "      <td>False</td>\n",
       "      <td>...</td>\n",
       "      <td>18</td>\n",
       "      <td>0</td>\n",
       "      <td>0</td>\n",
       "      <td>0</td>\n",
       "      <td>0.000000</td>\n",
       "      <td>81</td>\n",
       "      <td>82907</td>\n",
       "      <td>1</td>\n",
       "      <td>12</td>\n",
       "      <td>2018</td>\n",
       "    </tr>\n",
       "    <tr>\n",
       "      <th>2</th>\n",
       "      <td>10</td>\n",
       "      <td>5196000</td>\n",
       "      <td>56.00000</td>\n",
       "      <td>2015-08-20</td>\n",
       "      <td>2</td>\n",
       "      <td>2.650391</td>\n",
       "      <td>5</td>\n",
       "      <td>34.3125</td>\n",
       "      <td>4</td>\n",
       "      <td>False</td>\n",
       "      <td>...</td>\n",
       "      <td>13</td>\n",
       "      <td>1</td>\n",
       "      <td>0</td>\n",
       "      <td>2</td>\n",
       "      <td>0.574219</td>\n",
       "      <td>558</td>\n",
       "      <td>92785</td>\n",
       "      <td>3</td>\n",
       "      <td>8</td>\n",
       "      <td>2015</td>\n",
       "    </tr>\n",
       "    <tr>\n",
       "      <th>3</th>\n",
       "      <td>0</td>\n",
       "      <td>64900000</td>\n",
       "      <td>159.00000</td>\n",
       "      <td>2015-07-24</td>\n",
       "      <td>3</td>\n",
       "      <td>2.650391</td>\n",
       "      <td>14</td>\n",
       "      <td>30.0000</td>\n",
       "      <td>9</td>\n",
       "      <td>False</td>\n",
       "      <td>...</td>\n",
       "      <td>6</td>\n",
       "      <td>2</td>\n",
       "      <td>0</td>\n",
       "      <td>3</td>\n",
       "      <td>0.234009</td>\n",
       "      <td>424</td>\n",
       "      <td>408176</td>\n",
       "      <td>4</td>\n",
       "      <td>7</td>\n",
       "      <td>2015</td>\n",
       "    </tr>\n",
       "    <tr>\n",
       "      <th>4</th>\n",
       "      <td>2</td>\n",
       "      <td>10000000</td>\n",
       "      <td>100.00000</td>\n",
       "      <td>2018-06-19</td>\n",
       "      <td>2</td>\n",
       "      <td>3.029297</td>\n",
       "      <td>14</td>\n",
       "      <td>32.0000</td>\n",
       "      <td>13</td>\n",
       "      <td>False</td>\n",
       "      <td>...</td>\n",
       "      <td>8</td>\n",
       "      <td>2</td>\n",
       "      <td>0</td>\n",
       "      <td>1</td>\n",
       "      <td>0.048004</td>\n",
       "      <td>121</td>\n",
       "      <td>100000</td>\n",
       "      <td>1</td>\n",
       "      <td>6</td>\n",
       "      <td>2018</td>\n",
       "    </tr>\n",
       "  </tbody>\n",
       "</table>\n",
       "<p>5 rows × 26 columns</p>\n",
       "</div>"
      ],
      "text/plain": [
       "   total_images  last_price  total_area first_day_exposition  rooms  \\\n",
       "0            20    13000000   108.00000           2019-03-07      3   \n",
       "1             7     3350000    40.40625           2018-12-04      1   \n",
       "2            10     5196000    56.00000           2015-08-20      2   \n",
       "3             0    64900000   159.00000           2015-07-24      3   \n",
       "4             2    10000000   100.00000           2018-06-19      2   \n",
       "\n",
       "   ceiling_height  floors_total  living_area  floor  is_apartment  ...  \\\n",
       "0        2.699219            16      51.0000      8         False  ...   \n",
       "1        2.650391            11          NaN      1         False  ...   \n",
       "2        2.650391             5      34.3125      4         False  ...   \n",
       "3        2.650391            14      30.0000      9         False  ...   \n",
       "4        3.029297            14      32.0000     13         False  ...   \n",
       "\n",
       "   city_center_nearest  parks_around3000  parks_nearest  ponds_around3000  \\\n",
       "0                   16                 1              0                 2   \n",
       "1                   18                 0              0                 0   \n",
       "2                   13                 1              0                 2   \n",
       "3                    6                 2              0                 3   \n",
       "4                    8                 2              0                 1   \n",
       "\n",
       "  ponds_nearest  days_exposition  sqr_price  week_day  month  year  \n",
       "0      0.754883               95     120370         3      3  2019  \n",
       "1      0.000000               81      82907         1     12  2018  \n",
       "2      0.574219              558      92785         3      8  2015  \n",
       "3      0.234009              424     408176         4      7  2015  \n",
       "4      0.048004              121     100000         1      6  2018  \n",
       "\n",
       "[5 rows x 26 columns]"
      ]
     },
     "execution_count": 199,
     "metadata": {},
     "output_type": "execute_result"
    }
   ],
   "source": [
    "estate_new.head()"
   ]
  },
  {
   "cell_type": "code",
   "execution_count": 200,
   "metadata": {},
   "outputs": [],
   "source": [
    "def floor_is(row):    \n",
    "    floor = row['floor']\n",
    "    floors_total = row['floors_total']      \n",
    "    if floor == 1:\n",
    "        return \"первый\"\n",
    "    elif floor == floors_total:\n",
    "        return \"последний\"\n",
    "    return \"другой\""
   ]
  },
  {
   "cell_type": "markdown",
   "metadata": {},
   "source": [
    " **Присвоим столбцу значения через функцию**"
   ]
  },
  {
   "cell_type": "code",
   "execution_count": 201,
   "metadata": {},
   "outputs": [],
   "source": [
    "estate_new['floor_is'] = estate_new.apply(floor_is, axis=1)"
   ]
  },
  {
   "cell_type": "code",
   "execution_count": 202,
   "metadata": {},
   "outputs": [
    {
     "data": {
      "text/html": [
       "<div>\n",
       "<style scoped>\n",
       "    .dataframe tbody tr th:only-of-type {\n",
       "        vertical-align: middle;\n",
       "    }\n",
       "\n",
       "    .dataframe tbody tr th {\n",
       "        vertical-align: top;\n",
       "    }\n",
       "\n",
       "    .dataframe thead th {\n",
       "        text-align: right;\n",
       "    }\n",
       "</style>\n",
       "<table border=\"1\" class=\"dataframe\">\n",
       "  <thead>\n",
       "    <tr style=\"text-align: right;\">\n",
       "      <th></th>\n",
       "      <th>total_images</th>\n",
       "      <th>last_price</th>\n",
       "      <th>total_area</th>\n",
       "      <th>first_day_exposition</th>\n",
       "      <th>rooms</th>\n",
       "      <th>ceiling_height</th>\n",
       "      <th>floors_total</th>\n",
       "      <th>living_area</th>\n",
       "      <th>floor</th>\n",
       "      <th>is_apartment</th>\n",
       "      <th>...</th>\n",
       "      <th>parks_around3000</th>\n",
       "      <th>parks_nearest</th>\n",
       "      <th>ponds_around3000</th>\n",
       "      <th>ponds_nearest</th>\n",
       "      <th>days_exposition</th>\n",
       "      <th>sqr_price</th>\n",
       "      <th>week_day</th>\n",
       "      <th>month</th>\n",
       "      <th>year</th>\n",
       "      <th>floor_is</th>\n",
       "    </tr>\n",
       "  </thead>\n",
       "  <tbody>\n",
       "    <tr>\n",
       "      <th>0</th>\n",
       "      <td>20</td>\n",
       "      <td>13000000</td>\n",
       "      <td>108.00000</td>\n",
       "      <td>2019-03-07</td>\n",
       "      <td>3</td>\n",
       "      <td>2.699219</td>\n",
       "      <td>16</td>\n",
       "      <td>51.0000</td>\n",
       "      <td>8</td>\n",
       "      <td>False</td>\n",
       "      <td>...</td>\n",
       "      <td>1</td>\n",
       "      <td>0</td>\n",
       "      <td>2</td>\n",
       "      <td>0.754883</td>\n",
       "      <td>95</td>\n",
       "      <td>120370</td>\n",
       "      <td>3</td>\n",
       "      <td>3</td>\n",
       "      <td>2019</td>\n",
       "      <td>другой</td>\n",
       "    </tr>\n",
       "    <tr>\n",
       "      <th>1</th>\n",
       "      <td>7</td>\n",
       "      <td>3350000</td>\n",
       "      <td>40.40625</td>\n",
       "      <td>2018-12-04</td>\n",
       "      <td>1</td>\n",
       "      <td>2.650391</td>\n",
       "      <td>11</td>\n",
       "      <td>NaN</td>\n",
       "      <td>1</td>\n",
       "      <td>False</td>\n",
       "      <td>...</td>\n",
       "      <td>0</td>\n",
       "      <td>0</td>\n",
       "      <td>0</td>\n",
       "      <td>0.000000</td>\n",
       "      <td>81</td>\n",
       "      <td>82907</td>\n",
       "      <td>1</td>\n",
       "      <td>12</td>\n",
       "      <td>2018</td>\n",
       "      <td>первый</td>\n",
       "    </tr>\n",
       "    <tr>\n",
       "      <th>2</th>\n",
       "      <td>10</td>\n",
       "      <td>5196000</td>\n",
       "      <td>56.00000</td>\n",
       "      <td>2015-08-20</td>\n",
       "      <td>2</td>\n",
       "      <td>2.650391</td>\n",
       "      <td>5</td>\n",
       "      <td>34.3125</td>\n",
       "      <td>4</td>\n",
       "      <td>False</td>\n",
       "      <td>...</td>\n",
       "      <td>1</td>\n",
       "      <td>0</td>\n",
       "      <td>2</td>\n",
       "      <td>0.574219</td>\n",
       "      <td>558</td>\n",
       "      <td>92785</td>\n",
       "      <td>3</td>\n",
       "      <td>8</td>\n",
       "      <td>2015</td>\n",
       "      <td>другой</td>\n",
       "    </tr>\n",
       "    <tr>\n",
       "      <th>3</th>\n",
       "      <td>0</td>\n",
       "      <td>64900000</td>\n",
       "      <td>159.00000</td>\n",
       "      <td>2015-07-24</td>\n",
       "      <td>3</td>\n",
       "      <td>2.650391</td>\n",
       "      <td>14</td>\n",
       "      <td>30.0000</td>\n",
       "      <td>9</td>\n",
       "      <td>False</td>\n",
       "      <td>...</td>\n",
       "      <td>2</td>\n",
       "      <td>0</td>\n",
       "      <td>3</td>\n",
       "      <td>0.234009</td>\n",
       "      <td>424</td>\n",
       "      <td>408176</td>\n",
       "      <td>4</td>\n",
       "      <td>7</td>\n",
       "      <td>2015</td>\n",
       "      <td>другой</td>\n",
       "    </tr>\n",
       "    <tr>\n",
       "      <th>4</th>\n",
       "      <td>2</td>\n",
       "      <td>10000000</td>\n",
       "      <td>100.00000</td>\n",
       "      <td>2018-06-19</td>\n",
       "      <td>2</td>\n",
       "      <td>3.029297</td>\n",
       "      <td>14</td>\n",
       "      <td>32.0000</td>\n",
       "      <td>13</td>\n",
       "      <td>False</td>\n",
       "      <td>...</td>\n",
       "      <td>2</td>\n",
       "      <td>0</td>\n",
       "      <td>1</td>\n",
       "      <td>0.048004</td>\n",
       "      <td>121</td>\n",
       "      <td>100000</td>\n",
       "      <td>1</td>\n",
       "      <td>6</td>\n",
       "      <td>2018</td>\n",
       "      <td>другой</td>\n",
       "    </tr>\n",
       "  </tbody>\n",
       "</table>\n",
       "<p>5 rows × 27 columns</p>\n",
       "</div>"
      ],
      "text/plain": [
       "   total_images  last_price  total_area first_day_exposition  rooms  \\\n",
       "0            20    13000000   108.00000           2019-03-07      3   \n",
       "1             7     3350000    40.40625           2018-12-04      1   \n",
       "2            10     5196000    56.00000           2015-08-20      2   \n",
       "3             0    64900000   159.00000           2015-07-24      3   \n",
       "4             2    10000000   100.00000           2018-06-19      2   \n",
       "\n",
       "   ceiling_height  floors_total  living_area  floor  is_apartment  ...  \\\n",
       "0        2.699219            16      51.0000      8         False  ...   \n",
       "1        2.650391            11          NaN      1         False  ...   \n",
       "2        2.650391             5      34.3125      4         False  ...   \n",
       "3        2.650391            14      30.0000      9         False  ...   \n",
       "4        3.029297            14      32.0000     13         False  ...   \n",
       "\n",
       "   parks_around3000  parks_nearest  ponds_around3000  ponds_nearest  \\\n",
       "0                 1              0                 2       0.754883   \n",
       "1                 0              0                 0       0.000000   \n",
       "2                 1              0                 2       0.574219   \n",
       "3                 2              0                 3       0.234009   \n",
       "4                 2              0                 1       0.048004   \n",
       "\n",
       "  days_exposition  sqr_price  week_day  month  year  floor_is  \n",
       "0              95     120370         3      3  2019    другой  \n",
       "1              81      82907         1     12  2018    первый  \n",
       "2             558      92785         3      8  2015    другой  \n",
       "3             424     408176         4      7  2015    другой  \n",
       "4             121     100000         1      6  2018    другой  \n",
       "\n",
       "[5 rows x 27 columns]"
      ]
     },
     "execution_count": 202,
     "metadata": {},
     "output_type": "execute_result"
    }
   ],
   "source": [
    "estate_new.head()"
   ]
  },
  {
   "cell_type": "markdown",
   "metadata": {},
   "source": [
    " **Соотношение жилой площади к общей**"
   ]
  },
  {
   "cell_type": "code",
   "execution_count": 203,
   "metadata": {},
   "outputs": [],
   "source": [
    "estate_new['living_total'] = estate_new['living_area'] / estate_new['total_area']"
   ]
  },
  {
   "cell_type": "markdown",
   "metadata": {},
   "source": [
    " **Соотношение площади кухни к общей**"
   ]
  },
  {
   "cell_type": "code",
   "execution_count": 204,
   "metadata": {},
   "outputs": [],
   "source": [
    "estate_new['kitchen_total'] = estate_new['kitchen_area'] / estate_new['total_area']"
   ]
  },
  {
   "cell_type": "code",
   "execution_count": 205,
   "metadata": {},
   "outputs": [],
   "source": [
    "pd.options.display.float_format = '{:,.2f}'.format"
   ]
  },
  {
   "cell_type": "code",
   "execution_count": 206,
   "metadata": {},
   "outputs": [
    {
     "data": {
      "text/html": [
       "<div>\n",
       "<style scoped>\n",
       "    .dataframe tbody tr th:only-of-type {\n",
       "        vertical-align: middle;\n",
       "    }\n",
       "\n",
       "    .dataframe tbody tr th {\n",
       "        vertical-align: top;\n",
       "    }\n",
       "\n",
       "    .dataframe thead th {\n",
       "        text-align: right;\n",
       "    }\n",
       "</style>\n",
       "<table border=\"1\" class=\"dataframe\">\n",
       "  <thead>\n",
       "    <tr style=\"text-align: right;\">\n",
       "      <th></th>\n",
       "      <th>total_images</th>\n",
       "      <th>last_price</th>\n",
       "      <th>total_area</th>\n",
       "      <th>first_day_exposition</th>\n",
       "      <th>rooms</th>\n",
       "      <th>ceiling_height</th>\n",
       "      <th>floors_total</th>\n",
       "      <th>living_area</th>\n",
       "      <th>floor</th>\n",
       "      <th>is_apartment</th>\n",
       "      <th>...</th>\n",
       "      <th>ponds_around3000</th>\n",
       "      <th>ponds_nearest</th>\n",
       "      <th>days_exposition</th>\n",
       "      <th>sqr_price</th>\n",
       "      <th>week_day</th>\n",
       "      <th>month</th>\n",
       "      <th>year</th>\n",
       "      <th>floor_is</th>\n",
       "      <th>living_total</th>\n",
       "      <th>kitchen_total</th>\n",
       "    </tr>\n",
       "  </thead>\n",
       "  <tbody>\n",
       "    <tr>\n",
       "      <th>0</th>\n",
       "      <td>20</td>\n",
       "      <td>13000000</td>\n",
       "      <td>108.00</td>\n",
       "      <td>2019-03-07</td>\n",
       "      <td>3</td>\n",
       "      <td>2.70</td>\n",
       "      <td>16</td>\n",
       "      <td>51.00</td>\n",
       "      <td>8</td>\n",
       "      <td>False</td>\n",
       "      <td>...</td>\n",
       "      <td>2</td>\n",
       "      <td>0.75</td>\n",
       "      <td>95</td>\n",
       "      <td>120370</td>\n",
       "      <td>3</td>\n",
       "      <td>3</td>\n",
       "      <td>2019</td>\n",
       "      <td>другой</td>\n",
       "      <td>0.47</td>\n",
       "      <td>0.23</td>\n",
       "    </tr>\n",
       "    <tr>\n",
       "      <th>1</th>\n",
       "      <td>7</td>\n",
       "      <td>3350000</td>\n",
       "      <td>40.41</td>\n",
       "      <td>2018-12-04</td>\n",
       "      <td>1</td>\n",
       "      <td>2.65</td>\n",
       "      <td>11</td>\n",
       "      <td>NaN</td>\n",
       "      <td>1</td>\n",
       "      <td>False</td>\n",
       "      <td>...</td>\n",
       "      <td>0</td>\n",
       "      <td>0.00</td>\n",
       "      <td>81</td>\n",
       "      <td>82907</td>\n",
       "      <td>1</td>\n",
       "      <td>12</td>\n",
       "      <td>2018</td>\n",
       "      <td>первый</td>\n",
       "      <td>NaN</td>\n",
       "      <td>0.27</td>\n",
       "    </tr>\n",
       "    <tr>\n",
       "      <th>2</th>\n",
       "      <td>10</td>\n",
       "      <td>5196000</td>\n",
       "      <td>56.00</td>\n",
       "      <td>2015-08-20</td>\n",
       "      <td>2</td>\n",
       "      <td>2.65</td>\n",
       "      <td>5</td>\n",
       "      <td>34.31</td>\n",
       "      <td>4</td>\n",
       "      <td>False</td>\n",
       "      <td>...</td>\n",
       "      <td>2</td>\n",
       "      <td>0.57</td>\n",
       "      <td>558</td>\n",
       "      <td>92785</td>\n",
       "      <td>3</td>\n",
       "      <td>8</td>\n",
       "      <td>2015</td>\n",
       "      <td>другой</td>\n",
       "      <td>0.61</td>\n",
       "      <td>0.15</td>\n",
       "    </tr>\n",
       "    <tr>\n",
       "      <th>3</th>\n",
       "      <td>0</td>\n",
       "      <td>64900000</td>\n",
       "      <td>159.00</td>\n",
       "      <td>2015-07-24</td>\n",
       "      <td>3</td>\n",
       "      <td>2.65</td>\n",
       "      <td>14</td>\n",
       "      <td>30.00</td>\n",
       "      <td>9</td>\n",
       "      <td>False</td>\n",
       "      <td>...</td>\n",
       "      <td>3</td>\n",
       "      <td>0.23</td>\n",
       "      <td>424</td>\n",
       "      <td>408176</td>\n",
       "      <td>4</td>\n",
       "      <td>7</td>\n",
       "      <td>2015</td>\n",
       "      <td>другой</td>\n",
       "      <td>0.19</td>\n",
       "      <td>0.06</td>\n",
       "    </tr>\n",
       "    <tr>\n",
       "      <th>4</th>\n",
       "      <td>2</td>\n",
       "      <td>10000000</td>\n",
       "      <td>100.00</td>\n",
       "      <td>2018-06-19</td>\n",
       "      <td>2</td>\n",
       "      <td>3.03</td>\n",
       "      <td>14</td>\n",
       "      <td>32.00</td>\n",
       "      <td>13</td>\n",
       "      <td>False</td>\n",
       "      <td>...</td>\n",
       "      <td>1</td>\n",
       "      <td>0.05</td>\n",
       "      <td>121</td>\n",
       "      <td>100000</td>\n",
       "      <td>1</td>\n",
       "      <td>6</td>\n",
       "      <td>2018</td>\n",
       "      <td>другой</td>\n",
       "      <td>0.32</td>\n",
       "      <td>0.41</td>\n",
       "    </tr>\n",
       "  </tbody>\n",
       "</table>\n",
       "<p>5 rows × 29 columns</p>\n",
       "</div>"
      ],
      "text/plain": [
       "   total_images  last_price  total_area first_day_exposition  rooms  \\\n",
       "0            20    13000000      108.00           2019-03-07      3   \n",
       "1             7     3350000       40.41           2018-12-04      1   \n",
       "2            10     5196000       56.00           2015-08-20      2   \n",
       "3             0    64900000      159.00           2015-07-24      3   \n",
       "4             2    10000000      100.00           2018-06-19      2   \n",
       "\n",
       "   ceiling_height  floors_total  living_area  floor  is_apartment  ...  \\\n",
       "0            2.70            16        51.00      8         False  ...   \n",
       "1            2.65            11          NaN      1         False  ...   \n",
       "2            2.65             5        34.31      4         False  ...   \n",
       "3            2.65            14        30.00      9         False  ...   \n",
       "4            3.03            14        32.00     13         False  ...   \n",
       "\n",
       "   ponds_around3000  ponds_nearest  days_exposition  sqr_price week_day  \\\n",
       "0                 2           0.75               95     120370        3   \n",
       "1                 0           0.00               81      82907        1   \n",
       "2                 2           0.57              558      92785        3   \n",
       "3                 3           0.23              424     408176        4   \n",
       "4                 1           0.05              121     100000        1   \n",
       "\n",
       "   month  year  floor_is  living_total  kitchen_total  \n",
       "0      3  2019    другой          0.47           0.23  \n",
       "1     12  2018    первый           NaN           0.27  \n",
       "2      8  2015    другой          0.61           0.15  \n",
       "3      7  2015    другой          0.19           0.06  \n",
       "4      6  2018    другой          0.32           0.41  \n",
       "\n",
       "[5 rows x 29 columns]"
      ]
     },
     "execution_count": 206,
     "metadata": {},
     "output_type": "execute_result"
    }
   ],
   "source": [
    "estate_new.head()"
   ]
  },
  {
   "cell_type": "markdown",
   "metadata": {},
   "source": [
    "## Исследовательский анализ данных"
   ]
  },
  {
   "cell_type": "markdown",
   "metadata": {},
   "source": [
    " **Запросим числовое описание данных для колонки**"
   ]
  },
  {
   "cell_type": "code",
   "execution_count": 207,
   "metadata": {},
   "outputs": [
    {
     "data": {
      "text/plain": [
       "count   23,598.00\n",
       "mean          inf\n",
       "std           inf\n",
       "min         20.00\n",
       "25%         40.00\n",
       "50%         52.00\n",
       "75%         69.81\n",
       "max        900.00\n",
       "Name: total_area, dtype: float64"
      ]
     },
     "execution_count": 207,
     "metadata": {},
     "output_type": "execute_result"
    }
   ],
   "source": [
    "estate_new['total_area'].describe()"
   ]
  },
  {
   "cell_type": "code",
   "execution_count": 208,
   "metadata": {},
   "outputs": [
    {
     "data": {
      "text/plain": [
       "Text(0, 0.5, 'частота наблюдений, шт.')"
      ]
     },
     "execution_count": 208,
     "metadata": {},
     "output_type": "execute_result"
    },
    {
     "data": {
      "image/png": "[encoded data removed]",
      "text/plain": [
       "<Figure size 1296x648 with 1 Axes>"
      ]
     },
     "metadata": {
      "needs_background": "light"
     },
     "output_type": "display_data"
    }
   ],
   "source": [
    "estate_new.plot(y='total_area', bins=30, kind='hist', legend=True, grid=True, figsize=(18,9))\n",
    "plt.xlabel('общая площадь, кв.м.', fontweight='bold', fontsize='17', horizontalalignment='center')\n",
    "plt.ylabel('частота наблюдений, шт.', fontsize='17', horizontalalignment='center', fontweight='bold')"
   ]
  },
  {
   "cell_type": "code",
   "execution_count": 209,
   "metadata": {
    "scrolled": true
   },
   "outputs": [
    {
     "data": {
      "text/plain": [
       "Text(0, 0.5, 'общая площадь, кв.м.')"
      ]
     },
     "execution_count": 209,
     "metadata": {},
     "output_type": "execute_result"
    },
    {
     "data": {
      "image/png": "[encoded data removed]",
      "text/plain": [
       "<Figure size 1296x648 with 1 Axes>"
      ]
     },
     "metadata": {
      "needs_background": "light"
     },
     "output_type": "display_data"
    }
   ],
   "source": [
    "estate_new.plot(y='total_area', kind='box', legend=True, ylim=(0,130), grid=True, figsize=(18,9))\n",
    "plt.ylabel('общая площадь, кв.м.', fontweight='bold', fontsize='17', horizontalalignment='center')\n"
   ]
  },
  {
   "cell_type": "markdown",
   "metadata": {},
   "source": [
    "**Основные данные по площадям скоцентрированы в диапозонах 20-50,50-70 и в меньшей степени 70-115 кв.м. и коррелируют с количеством комнат в квартире.**"
   ]
  },
  {
   "cell_type": "code",
   "execution_count": 210,
   "metadata": {},
   "outputs": [
    {
     "data": {
      "text/plain": [
       "count        23,598.00\n",
       "mean      6,550,873.60\n",
       "std      10,906,356.66\n",
       "min         430,000.00\n",
       "25%       3,430,875.00\n",
       "50%       4,650,000.00\n",
       "75%       6,800,000.00\n",
       "max     763,000,000.00\n",
       "Name: last_price, dtype: float64"
      ]
     },
     "execution_count": 210,
     "metadata": {},
     "output_type": "execute_result"
    }
   ],
   "source": [
    "estate_new['last_price'].describe()"
   ]
  },
  {
   "cell_type": "code",
   "execution_count": 211,
   "metadata": {},
   "outputs": [
    {
     "data": {
      "text/plain": [
       "Text(0, 0.5, 'частота наблюдений, шт.')"
      ]
     },
     "execution_count": 211,
     "metadata": {},
     "output_type": "execute_result"
    },
    {
     "data": {
      "image/png": "[encoded data removed]",
      "text/plain": [
       "<Figure size 1296x648 with 1 Axes>"
      ]
     },
     "metadata": {
      "needs_background": "light"
     },
     "output_type": "display_data"
    }
   ],
   "source": [
    "estate_new.plot(y='last_price', bins=50, kind='hist',xlim=(0,200000000), legend=True, grid=True, figsize=(18,9))\n",
    "plt.xlabel('стоимость руб.', fontweight='bold', fontsize='17', horizontalalignment='center')\n",
    "plt.ylabel('частота наблюдений, шт.', fontsize='17', horizontalalignment='center', fontweight='bold')"
   ]
  },
  {
   "cell_type": "code",
   "execution_count": 212,
   "metadata": {},
   "outputs": [
    {
     "data": {
      "text/plain": [
       "Text(0, 0.5, 'стоимость руб.')"
      ]
     },
     "execution_count": 212,
     "metadata": {},
     "output_type": "execute_result"
    },
    {
     "data": {
      "image/png": "[encoded data removed]",
      "text/plain": [
       "<Figure size 1296x648 with 1 Axes>"
      ]
     },
     "metadata": {
      "needs_background": "light"
     },
     "output_type": "display_data"
    }
   ],
   "source": [
    "estate_new.plot(y='last_price', kind='box', legend=True, ylim=(0,12000000), grid=True, figsize=(18,9))\n",
    "plt.ylabel('стоимость руб.', fontweight='bold', fontsize='17', horizontalalignment='center')"
   ]
  },
  {
   "cell_type": "markdown",
   "metadata": {},
   "source": [
    "**от 3430000 до 6800000 рублей,вот та, сумма что вам должно хватить на покупку квартиры в Санкт-Петербурге**"
   ]
  },
  {
   "cell_type": "code",
   "execution_count": 213,
   "metadata": {},
   "outputs": [
    {
     "data": {
      "text/plain": [
       "count   23,598.00\n",
       "mean         2.07\n",
       "std          1.08\n",
       "min          0.00\n",
       "25%          1.00\n",
       "50%          2.00\n",
       "75%          3.00\n",
       "max         19.00\n",
       "Name: rooms, dtype: float64"
      ]
     },
     "execution_count": 213,
     "metadata": {},
     "output_type": "execute_result"
    }
   ],
   "source": [
    "estate_new['rooms'].describe()"
   ]
  },
  {
   "cell_type": "code",
   "execution_count": 214,
   "metadata": {},
   "outputs": [
    {
     "data": {
      "text/plain": [
       "Text(0, 0.5, 'частота наблюдений, шт.')"
      ]
     },
     "execution_count": 214,
     "metadata": {},
     "output_type": "execute_result"
    },
    {
     "data": {
      "image/png": "[encoded data removed]",
      "text/plain": [
       "<Figure size 1296x648 with 1 Axes>"
      ]
     },
     "metadata": {
      "needs_background": "light"
     },
     "output_type": "display_data"
    }
   ],
   "source": [
    "estate_new.plot(y='rooms', bins=30, kind='hist',xlim=(0,12), legend=True, grid=True, figsize=(18,9))\n",
    "plt.xlabel('количество комнат', fontweight='bold', fontsize='17', horizontalalignment='center')\n",
    "plt.ylabel('частота наблюдений, шт.', fontsize='17', horizontalalignment='center', fontweight='bold')"
   ]
  },
  {
   "cell_type": "markdown",
   "metadata": {},
   "source": [
    "**Однокомнатные, двухкомнатные, трёхкомнатные,четырёхкомнатные остальное экзотика.**"
   ]
  },
  {
   "cell_type": "code",
   "execution_count": 215,
   "metadata": {},
   "outputs": [
    {
     "data": {
      "text/plain": [
       "count   23,598.00\n",
       "mean         2.70\n",
       "std          0.22\n",
       "min          2.40\n",
       "25%          2.60\n",
       "50%          2.65\n",
       "75%          2.70\n",
       "max          4.20\n",
       "Name: ceiling_height, dtype: float64"
      ]
     },
     "execution_count": 215,
     "metadata": {},
     "output_type": "execute_result"
    }
   ],
   "source": [
    "estate_new['ceiling_height'].describe()"
   ]
  },
  {
   "cell_type": "code",
   "execution_count": 216,
   "metadata": {},
   "outputs": [
    {
     "data": {
      "text/plain": [
       "Text(0, 0.5, 'частота наблюдений, шт.')"
      ]
     },
     "execution_count": 216,
     "metadata": {},
     "output_type": "execute_result"
    },
    {
     "data": {
      "image/png": "[encoded data removed]",
      "text/plain": [
       "<Figure size 1296x648 with 1 Axes>"
      ]
     },
     "metadata": {
      "needs_background": "light"
     },
     "output_type": "display_data"
    }
   ],
   "source": [
    "estate_new.plot(y='ceiling_height', bins=30, kind='hist', legend=True, grid=True, figsize=(18,9))\n",
    "plt.xlabel('высота потолков, м.', fontweight='bold', fontsize='17', horizontalalignment='center')\n",
    "plt.ylabel('частота наблюдений, шт.', fontsize='17', horizontalalignment='center', fontweight='bold')"
   ]
  },
  {
   "cell_type": "markdown",
   "metadata": {},
   "source": [
    "**Вывод 2.625 м. такой высоты, потолок в вашей квартире, если нет то вы большой оригинал)))**"
   ]
  },
  {
   "cell_type": "code",
   "execution_count": 217,
   "metadata": {},
   "outputs": [
    {
     "data": {
      "text/plain": [
       "count   23,598.00\n",
       "mean       169.35\n",
       "std        206.66\n",
       "min          1.00\n",
       "25%         45.00\n",
       "50%         95.00\n",
       "75%        198.00\n",
       "max      1,580.00\n",
       "Name: days_exposition, dtype: float64"
      ]
     },
     "execution_count": 217,
     "metadata": {},
     "output_type": "execute_result"
    }
   ],
   "source": [
    "estate_new['days_exposition'].describe()"
   ]
  },
  {
   "cell_type": "code",
   "execution_count": 218,
   "metadata": {},
   "outputs": [
    {
     "data": {
      "text/plain": [
       "Text(0, 0.5, 'частота наблюдений, шт.')"
      ]
     },
     "execution_count": 218,
     "metadata": {},
     "output_type": "execute_result"
    },
    {
     "data": {
      "image/png": "[encoded data removed]",
      "text/plain": [
       "<Figure size 1296x648 with 1 Axes>"
      ]
     },
     "metadata": {
      "needs_background": "light"
     },
     "output_type": "display_data"
    }
   ],
   "source": [
    "estate_new.plot(y='days_exposition', bins=30, kind='hist', xlim=(0,430), legend=True, grid=True, figsize=(18,9))\n",
    "plt.xlabel('время продажи, дни.', fontweight='bold', fontsize='17', horizontalalignment='center')\n",
    "plt.ylabel('частота наблюдений, шт.', fontsize='17', horizontalalignment='center', fontweight='bold')"
   ]
  },
  {
   "cell_type": "code",
   "execution_count": 219,
   "metadata": {},
   "outputs": [
    {
     "data": {
      "text/plain": [
       "Text(0, 0.5, 'время продажи, дни')"
      ]
     },
     "execution_count": 219,
     "metadata": {},
     "output_type": "execute_result"
    },
    {
     "data": {
      "image/png": "[encoded data removed]",
      "text/plain": [
       "<Figure size 1296x648 with 1 Axes>"
      ]
     },
     "metadata": {
      "needs_background": "light"
     },
     "output_type": "display_data"
    }
   ],
   "source": [
    "estate_new.plot(y='days_exposition', kind='box', legend=True, ylim=(0,430), grid=True, figsize=(18,9))\n",
    "plt.ylabel('время продажи, дни', fontweight='bold', fontsize='17', horizontalalignment='center')"
   ]
  },
  {
   "cell_type": "markdown",
   "metadata": {},
   "source": [
    "#### Вывод\n",
    "* **обычно продажа занимает 55-110 дней**\n",
    "* **можно считать, что время продажи необычайно быстро, если оно меньше 45 дней**\n",
    "* **можно считать, что время продажи необычайно долго, если оно больше 198 дней, и совсем всё плохо если оно больше 400 дней**"
   ]
  },
  {
   "cell_type": "markdown",
   "metadata": {},
   "source": [
    "### Изучим факторы влияющие на стоимость квартиры"
   ]
  },
  {
   "cell_type": "markdown",
   "metadata": {},
   "source": [
    "### Построим зависимотсь цены от площади."
   ]
  },
  {
   "cell_type": "code",
   "execution_count": 220,
   "metadata": {},
   "outputs": [
    {
     "data": {
      "text/plain": [
       "<AxesSubplot:xlabel='last_price', ylabel='total_area'>"
      ]
     },
     "execution_count": 220,
     "metadata": {},
     "output_type": "execute_result"
    },
    {
     "data": {
      "image/png": "[encoded data removed]",
      "text/plain": [
       "<Figure size 648x648 with 1 Axes>"
      ]
     },
     "metadata": {
      "needs_background": "light"
     },
     "output_type": "display_data"
    }
   ],
   "source": [
    "estate_new.plot(x='last_price', y='total_area', kind='scatter', alpha=0.5, figsize=(9,9), grid=True)"
   ]
  },
  {
   "cell_type": "code",
   "execution_count": 221,
   "metadata": {},
   "outputs": [
    {
     "data": {
      "text/plain": [
       "0.6539803251983931"
      ]
     },
     "execution_count": 221,
     "metadata": {},
     "output_type": "execute_result"
    }
   ],
   "source": [
    "estate_new['last_price'].corr(estate_new['total_area'])"
   ]
  },
  {
   "cell_type": "markdown",
   "metadata": {},
   "source": [
    "#### Вывод\n",
    "**Зависимоть между ценой и общей площадью ярко выраженная.**"
   ]
  },
  {
   "cell_type": "markdown",
   "metadata": {},
   "source": [
    "### Построим зависимотсь между числом комнат и ценой"
   ]
  },
  {
   "cell_type": "code",
   "execution_count": 222,
   "metadata": {},
   "outputs": [
    {
     "data": {
      "text/plain": [
       "<AxesSubplot:xlabel='rooms', ylabel='last_price'>"
      ]
     },
     "execution_count": 222,
     "metadata": {},
     "output_type": "execute_result"
    },
    {
     "data": {
      "image/png": "[encoded data removed]",
      "text/plain": [
       "<Figure size 576x432 with 1 Axes>"
      ]
     },
     "metadata": {
      "needs_background": "light"
     },
     "output_type": "display_data"
    }
   ],
   "source": [
    "estate_new.plot(x='rooms', y='last_price', kind='scatter', figsize=(8, 6),grid=True, alpha=0.5)"
   ]
  },
  {
   "cell_type": "code",
   "execution_count": 223,
   "metadata": {},
   "outputs": [
    {
     "data": {
      "text/plain": [
       "0.36340233742925004"
      ]
     },
     "execution_count": 223,
     "metadata": {},
     "output_type": "execute_result"
    }
   ],
   "source": [
    "estate_new['last_price'].corr(estate_new['rooms'])"
   ]
  },
  {
   "cell_type": "markdown",
   "metadata": {},
   "source": [
    "#### Вывод \n",
    "**Рост цены наблюдается до трёхкомнатых квартир, далее увеличение количества комнат не ведёт к такой прямой связи, что подтверждает и низкий коффициент корреляции.**"
   ]
  },
  {
   "cell_type": "markdown",
   "metadata": {},
   "source": [
    "### Посмотрим зависимоть между ценой и этажем.\n"
   ]
  },
  {
   "cell_type": "code",
   "execution_count": 224,
   "metadata": {},
   "outputs": [
    {
     "data": {
      "text/plain": [
       "<AxesSubplot:xlabel='floor_is', ylabel='last_price'>"
      ]
     },
     "execution_count": 224,
     "metadata": {},
     "output_type": "execute_result"
    },
    {
     "data": {
      "image/png": "[encoded data removed]",
      "text/plain": [
       "<Figure size 576x432 with 1 Axes>"
      ]
     },
     "metadata": {
      "needs_background": "light"
     },
     "output_type": "display_data"
    }
   ],
   "source": [
    "estate_new.plot(x='floor_is', y='last_price', kind='scatter', alpha=0.5, figsize=(8, 6),grid=True)"
   ]
  },
  {
   "cell_type": "markdown",
   "metadata": {},
   "source": [
    "#### Вывод\n",
    "**'Не первый и не последний' такие слова риэлторы слашат часто, но на цену влияет первый, последний в пределах разумного.**\n",
    "\n"
   ]
  },
  {
   "cell_type": "markdown",
   "metadata": {},
   "source": [
    "### Построим зависимость цены от удаленности от центра\n",
    "\n"
   ]
  },
  {
   "cell_type": "code",
   "execution_count": 225,
   "metadata": {},
   "outputs": [
    {
     "data": {
      "text/plain": [
       "<AxesSubplot:xlabel='city_center_nearest', ylabel='last_price'>"
      ]
     },
     "execution_count": 225,
     "metadata": {},
     "output_type": "execute_result"
    },
    {
     "data": {
      "image/png": "[encoded data removed]",
      "text/plain": [
       "<Figure size 576x432 with 1 Axes>"
      ]
     },
     "metadata": {
      "needs_background": "light"
     },
     "output_type": "display_data"
    }
   ],
   "source": [
    "estate_new.plot(x='city_center_nearest', y='last_price', kind='scatter',figsize=(8, 6),grid=True, alpha=0.5) "
   ]
  },
  {
   "cell_type": "markdown",
   "metadata": {},
   "source": [
    "#### Вывод\n",
    "**Видим три пика самый центр где встречаются крайнии значения, рядом с центром но цена в три раза ниже , третье кольцо но цены уже не в разы меньше, и плавный спад на окраинах.**"
   ]
  },
  {
   "cell_type": "markdown",
   "metadata": {},
   "source": [
    "### Изучим зависимоть от дня недели, месяца и года."
   ]
  },
  {
   "cell_type": "code",
   "execution_count": 226,
   "metadata": {},
   "outputs": [
    {
     "data": {
      "text/plain": [
       "<AxesSubplot:xlabel='last_price', ylabel='week_day'>"
      ]
     },
     "execution_count": 226,
     "metadata": {},
     "output_type": "execute_result"
    },
    {
     "data": {
      "image/png": "[encoded data removed]",
      "text/plain": [
       "<Figure size 576x432 with 1 Axes>"
      ]
     },
     "metadata": {
      "needs_background": "light"
     },
     "output_type": "display_data"
    }
   ],
   "source": [
    "estate_new.plot(x='last_price', y='week_day', kind='scatter',figsize=(8, 6),grid=True, alpha=0.5)"
   ]
  },
  {
   "cell_type": "code",
   "execution_count": 227,
   "metadata": {},
   "outputs": [
    {
     "data": {
      "text/plain": [
       "<AxesSubplot:xlabel='last_price', ylabel='month'>"
      ]
     },
     "execution_count": 227,
     "metadata": {},
     "output_type": "execute_result"
    },
    {
     "data": {
      "image/png": "[encoded data removed]",
      "text/plain": [
       "<Figure size 576x432 with 1 Axes>"
      ]
     },
     "metadata": {
      "needs_background": "light"
     },
     "output_type": "display_data"
    }
   ],
   "source": [
    "estate_new.plot(x='last_price', y='month', kind='scatter',figsize=(8, 6),grid=True, alpha=0.5)"
   ]
  },
  {
   "cell_type": "code",
   "execution_count": 228,
   "metadata": {},
   "outputs": [
    {
     "data": {
      "text/plain": [
       "<AxesSubplot:xlabel='last_price', ylabel='year'>"
      ]
     },
     "execution_count": 228,
     "metadata": {},
     "output_type": "execute_result"
    },
    {
     "data": {
      "image/png": "[encoded data removed]",
      "text/plain": [
       "<Figure size 576x432 with 1 Axes>"
      ]
     },
     "metadata": {
      "needs_background": "light"
     },
     "output_type": "display_data"
    }
   ],
   "source": [
    "estate_new.plot(x='last_price', y='year', kind='scatter',figsize=(8, 6),grid=True, alpha=0.5)"
   ]
  },
  {
   "cell_type": "markdown",
   "metadata": {},
   "source": [
    "#### Вывод\n",
    "* **Уровень предложения влияет на цену в следующем году, нехватка предложения в 2014,2016 м привела к роcту цен в 2015,2017, как избыток в 2017м к просадке по цене в 2018.**\n",
    "* **B воскресенье августа 2014 го года был самый лучший момент для покупки недвижимости, а в четверг декабря 2017 лучше было не покупать:)**"
   ]
  },
  {
   "cell_type": "markdown",
   "metadata": {},
   "source": [
    "### Найдём минимальную и максимальную стоимость кв.м. в городах с наибольшим количеством объявлений."
   ]
  },
  {
   "cell_type": "markdown",
   "metadata": {},
   "source": [
    "**Cписок городв**"
   ]
  },
  {
   "cell_type": "code",
   "execution_count": 229,
   "metadata": {},
   "outputs": [
    {
     "data": {
      "text/plain": [
       "['Санкт-Петербург',\n",
       " 'посёлок Мурино',\n",
       " 'посёлок Шушары',\n",
       " 'Всеволожск',\n",
       " 'Пушкин',\n",
       " 'Колпино',\n",
       " 'посёлок Парголово',\n",
       " 'Гатчина',\n",
       " 'деревня Кудрово',\n",
       " 'Выборг']"
      ]
     },
     "execution_count": 229,
     "metadata": {},
     "output_type": "execute_result"
    }
   ],
   "source": [
    "estate_new['locality_name'].value_counts().head(10).index.tolist() "
   ]
  },
  {
   "cell_type": "code",
   "execution_count": 230,
   "metadata": {},
   "outputs": [],
   "source": [
    "top = estate_new['locality_name'].isin(['Санкт-Петербург',\n",
    " 'посёлок Мурино',\n",
    " 'посёлок Шушары',\n",
    " 'Всеволожск',\n",
    " 'Пушкин',\n",
    " 'Колпино',\n",
    " 'посёлок Парголово',\n",
    " 'Гатчина',\n",
    " 'деревня Кудрово',\n",
    " 'Выборг'])"
   ]
  },
  {
   "cell_type": "markdown",
   "metadata": {},
   "source": [
    " **Cгрупируем и отсортируем**"
   ]
  },
  {
   "cell_type": "code",
   "execution_count": 231,
   "metadata": {},
   "outputs": [],
   "source": [
    "table = estate_new[top].pivot_table(\n",
    "        values='sqr_price', \n",
    "        index=['locality_name'],\n",
    "    ).sort_values(by='sqr_price', ascending=False)"
   ]
  },
  {
   "cell_type": "code",
   "execution_count": 232,
   "metadata": {},
   "outputs": [
    {
     "name": "stdout",
     "output_type": "stream",
     "text": [
      "                   sqr_price\n",
      "locality_name               \n",
      "Санкт-Петербург   114,832.80\n",
      "Пушкин            103,081.92\n",
      "деревня Кудрово    92,471.85\n",
      "посёлок Парголово  90,176.05\n",
      "посёлок Мурино     85,752.74\n",
      "посёлок Шушары     78,654.53\n",
      "Колпино            75,424.09\n",
      "Гатчина            68,745.83\n",
      "Всеволожск         68,652.85\n",
      "Выборг             58,140.89\n"
     ]
    }
   ],
   "source": [
    "print(table)"
   ]
  },
  {
   "cell_type": "markdown",
   "metadata": {},
   "source": [
    "**Выведем сводную таблицу со стоимостью квадратного метра и количеством объявлений в ТОП-10 населенных пунктов**"
   ]
  },
  {
   "cell_type": "code",
   "execution_count": 233,
   "metadata": {},
   "outputs": [],
   "source": [
    "frame = estate_new['locality_name'].value_counts().head(10).to_frame()"
   ]
  },
  {
   "cell_type": "code",
   "execution_count": 234,
   "metadata": {},
   "outputs": [
    {
     "data": {
      "text/html": [
       "<div>\n",
       "<style scoped>\n",
       "    .dataframe tbody tr th:only-of-type {\n",
       "        vertical-align: middle;\n",
       "    }\n",
       "\n",
       "    .dataframe tbody tr th {\n",
       "        vertical-align: top;\n",
       "    }\n",
       "\n",
       "    .dataframe thead th {\n",
       "        text-align: right;\n",
       "    }\n",
       "</style>\n",
       "<table border=\"1\" class=\"dataframe\">\n",
       "  <thead>\n",
       "    <tr style=\"text-align: right;\">\n",
       "      <th></th>\n",
       "      <th>sqr_price</th>\n",
       "      <th>locality_name</th>\n",
       "    </tr>\n",
       "    <tr>\n",
       "      <th>locality_name</th>\n",
       "      <th></th>\n",
       "      <th></th>\n",
       "    </tr>\n",
       "  </thead>\n",
       "  <tbody>\n",
       "    <tr>\n",
       "      <th>Санкт-Петербург</th>\n",
       "      <td>114,832.80</td>\n",
       "      <td>15700</td>\n",
       "    </tr>\n",
       "    <tr>\n",
       "      <th>Пушкин</th>\n",
       "      <td>103,081.92</td>\n",
       "      <td>368</td>\n",
       "    </tr>\n",
       "    <tr>\n",
       "      <th>деревня Кудрово</th>\n",
       "      <td>92,471.85</td>\n",
       "      <td>299</td>\n",
       "    </tr>\n",
       "    <tr>\n",
       "      <th>посёлок Парголово</th>\n",
       "      <td>90,176.05</td>\n",
       "      <td>327</td>\n",
       "    </tr>\n",
       "    <tr>\n",
       "      <th>посёлок Мурино</th>\n",
       "      <td>85,752.74</td>\n",
       "      <td>522</td>\n",
       "    </tr>\n",
       "    <tr>\n",
       "      <th>посёлок Шушары</th>\n",
       "      <td>78,654.53</td>\n",
       "      <td>439</td>\n",
       "    </tr>\n",
       "    <tr>\n",
       "      <th>Колпино</th>\n",
       "      <td>75,424.09</td>\n",
       "      <td>338</td>\n",
       "    </tr>\n",
       "    <tr>\n",
       "      <th>Гатчина</th>\n",
       "      <td>68,745.83</td>\n",
       "      <td>307</td>\n",
       "    </tr>\n",
       "    <tr>\n",
       "      <th>Всеволожск</th>\n",
       "      <td>68,652.85</td>\n",
       "      <td>398</td>\n",
       "    </tr>\n",
       "    <tr>\n",
       "      <th>Выборг</th>\n",
       "      <td>58,140.89</td>\n",
       "      <td>237</td>\n",
       "    </tr>\n",
       "  </tbody>\n",
       "</table>\n",
       "</div>"
      ],
      "text/plain": [
       "                   sqr_price  locality_name\n",
       "locality_name                              \n",
       "Санкт-Петербург   114,832.80          15700\n",
       "Пушкин            103,081.92            368\n",
       "деревня Кудрово    92,471.85            299\n",
       "посёлок Парголово  90,176.05            327\n",
       "посёлок Мурино     85,752.74            522\n",
       "посёлок Шушары     78,654.53            439\n",
       "Колпино            75,424.09            338\n",
       "Гатчина            68,745.83            307\n",
       "Всеволожск         68,652.85            398\n",
       "Выборг             58,140.89            237"
      ]
     },
     "execution_count": 234,
     "metadata": {},
     "output_type": "execute_result"
    }
   ],
   "source": [
    "table.join(frame)"
   ]
  },
  {
   "cell_type": "markdown",
   "metadata": {},
   "source": [
    "#### Вывод\n",
    "**В топ 10 городах минимальная стоимость квадратного метра в Выборге 58142 рублей, максимальная в Санкт-Петербурге 114833 рублей, по уровню цен в первой пятёрке можно предположить, что это ближайший пригород**"
   ]
  },
  {
   "cell_type": "markdown",
   "metadata": {},
   "source": [
    "### Найдём денежный центр Санкт-Петербурга."
   ]
  },
  {
   "cell_type": "code",
   "execution_count": 235,
   "metadata": {},
   "outputs": [
    {
     "data": {
      "text/plain": [
       "Text(0, 0.5, 'стоимость, руб.')"
      ]
     },
     "execution_count": 235,
     "metadata": {},
     "output_type": "execute_result"
    },
    {
     "data": {
      "image/png": "[encoded data removed]",
      "text/plain": [
       "<Figure size 864x360 with 1 Axes>"
      ]
     },
     "metadata": {
      "needs_background": "light"
     },
     "output_type": "display_data"
    }
   ],
   "source": [
    "(\n",
    "    estate_new.query('locality_name == \"Санкт-Петербург\"')\n",
    "    .pivot_table(index='city_center_nearest', values='last_price')\n",
    "    .plot(grid=True, figsize=(12, 5))\n",
    ")\n",
    "plt.xlabel('расстояние до центра, км.', fontweight='bold', fontsize='17', horizontalalignment='center')\n",
    "plt.ylabel('стоимость, руб.', fontsize='17', horizontalalignment='center', fontweight='bold')"
   ]
  },
  {
   "cell_type": "markdown",
   "metadata": {},
   "source": [
    "#### Вывод\n",
    "**Радиус 2,5 км это денежный центр.**"
   ]
  },
  {
   "cell_type": "markdown",
   "metadata": {},
   "source": [
    "### Анализ квартир в центре"
   ]
  },
  {
   "cell_type": "code",
   "execution_count": 236,
   "metadata": {},
   "outputs": [],
   "source": [
    "estate_center = estate_new.query('city_center_nearest < 2.5')"
   ]
  },
  {
   "cell_type": "code",
   "execution_count": 237,
   "metadata": {},
   "outputs": [
    {
     "data": {
      "text/plain": [
       "count   6,054.00\n",
       "mean         inf\n",
       "std          inf\n",
       "min        20.00\n",
       "25%        37.09\n",
       "50%        48.41\n",
       "75%        63.23\n",
       "max       517.00\n",
       "Name: total_area, dtype: float64"
      ]
     },
     "execution_count": 237,
     "metadata": {},
     "output_type": "execute_result"
    }
   ],
   "source": [
    "estate_center['total_area'].describe()"
   ]
  },
  {
   "cell_type": "code",
   "execution_count": 238,
   "metadata": {},
   "outputs": [
    {
     "data": {
      "text/plain": [
       "Text(0, 0.5, 'частота наблюдений, шт.')"
      ]
     },
     "execution_count": 238,
     "metadata": {},
     "output_type": "execute_result"
    },
    {
     "data": {
      "image/png": "[encoded data removed]",
      "text/plain": [
       "<Figure size 1296x648 with 1 Axes>"
      ]
     },
     "metadata": {
      "needs_background": "light"
     },
     "output_type": "display_data"
    }
   ],
   "source": [
    "estate_center.plot(y='total_area', bins=30, kind='hist', legend=True, grid=True, figsize=(18,9))\n",
    "plt.xlabel('общая площадь, кв.м.', fontweight='bold', fontsize='17', horizontalalignment='center')\n",
    "plt.ylabel('частота наблюдений, шт.', fontsize='17', horizontalalignment='center', fontweight='bold')"
   ]
  },
  {
   "cell_type": "code",
   "execution_count": 239,
   "metadata": {},
   "outputs": [
    {
     "data": {
      "text/plain": [
       "Text(0, 0.5, 'площадь, кв.м.')"
      ]
     },
     "execution_count": 239,
     "metadata": {},
     "output_type": "execute_result"
    },
    {
     "data": {
      "image/png": "[encoded data removed]",
      "text/plain": [
       "<Figure size 1296x648 with 1 Axes>"
      ]
     },
     "metadata": {
      "needs_background": "light"
     },
     "output_type": "display_data"
    }
   ],
   "source": [
    "estate_center.plot(y='total_area', kind='box', legend=True, ylim=(0,103), grid=True, figsize=(18,9))\n",
    "plt.ylabel('площадь, кв.м.', fontweight='bold', fontsize='17', horizontalalignment='center')"
   ]
  },
  {
   "cell_type": "markdown",
   "metadata": {},
   "source": [
    "###### Квартиры в центре пусть на немного ,но меньше."
   ]
  },
  {
   "cell_type": "code",
   "execution_count": 240,
   "metadata": {},
   "outputs": [
    {
     "data": {
      "text/plain": [
       "count         6,054.00\n",
       "mean      4,592,103.56\n",
       "std      10,940,072.57\n",
       "min         430,000.00\n",
       "25%       2,100,000.00\n",
       "50%       2,980,000.00\n",
       "75%       4,200,000.00\n",
       "max     401,300,000.00\n",
       "Name: last_price, dtype: float64"
      ]
     },
     "execution_count": 240,
     "metadata": {},
     "output_type": "execute_result"
    }
   ],
   "source": [
    "estate_center['last_price'].describe()"
   ]
  },
  {
   "cell_type": "code",
   "execution_count": 241,
   "metadata": {},
   "outputs": [
    {
     "data": {
      "text/plain": [
       "Text(0, 0.5, 'частота наблюдений, шт.')"
      ]
     },
     "execution_count": 241,
     "metadata": {},
     "output_type": "execute_result"
    },
    {
     "data": {
      "image/png": "[encoded data removed]",
      "text/plain": [
       "<Figure size 1296x648 with 1 Axes>"
      ]
     },
     "metadata": {
      "needs_background": "light"
     },
     "output_type": "display_data"
    }
   ],
   "source": [
    "estate_center.plot(y='last_price', bins=30, kind='hist',xlim=(-100000,200000000), legend=True, grid=True, figsize=(18,9))\n",
    "plt.xlabel('стоимость, руб.', fontweight='bold', fontsize='17', horizontalalignment='center')\n",
    "plt.ylabel('частота наблюдений, шт.', fontsize='17', horizontalalignment='center', fontweight='bold')"
   ]
  },
  {
   "cell_type": "code",
   "execution_count": 242,
   "metadata": {},
   "outputs": [
    {
     "data": {
      "text/plain": [
       "Text(0, 0.5, 'стоимость, руб')"
      ]
     },
     "execution_count": 242,
     "metadata": {},
     "output_type": "execute_result"
    },
    {
     "data": {
      "image/png": "[encoded data removed]",
      "text/plain": [
       "<Figure size 1296x648 with 1 Axes>"
      ]
     },
     "metadata": {
      "needs_background": "light"
     },
     "output_type": "display_data"
    }
   ],
   "source": [
    "estate_center.plot(y='last_price', kind='box', legend=True, ylim=(0,8000000), grid=True, figsize=(18,9))\n",
    "plt.ylabel('стоимость, руб', fontweight='bold', fontsize='17', horizontalalignment='center')"
   ]
  },
  {
   "cell_type": "markdown",
   "metadata": {},
   "source": [
    "###### И самое интересное дешевле."
   ]
  },
  {
   "cell_type": "code",
   "execution_count": 243,
   "metadata": {},
   "outputs": [
    {
     "data": {
      "text/plain": [
       "count   6,054.00\n",
       "mean        1.98\n",
       "std         1.04\n",
       "min         0.00\n",
       "25%         1.00\n",
       "50%         2.00\n",
       "75%         3.00\n",
       "max        14.00\n",
       "Name: rooms, dtype: float64"
      ]
     },
     "execution_count": 243,
     "metadata": {},
     "output_type": "execute_result"
    }
   ],
   "source": [
    "estate_center['rooms'].describe()"
   ]
  },
  {
   "cell_type": "code",
   "execution_count": 244,
   "metadata": {},
   "outputs": [
    {
     "data": {
      "text/plain": [
       "Text(0, 0.5, 'частота наблюдений, шт.')"
      ]
     },
     "execution_count": 244,
     "metadata": {},
     "output_type": "execute_result"
    },
    {
     "data": {
      "image/png": "[encoded data removed]",
      "text/plain": [
       "<Figure size 1296x648 with 1 Axes>"
      ]
     },
     "metadata": {
      "needs_background": "light"
     },
     "output_type": "display_data"
    }
   ],
   "source": [
    "estate_center.plot(y='rooms', bins=30, kind='hist',xlim=(0,12), legend=True, grid=True, figsize=(18,9))\n",
    "plt.xlabel('количество комнат, шт.', fontweight='bold', fontsize='17', horizontalalignment='center')\n",
    "plt.ylabel('частота наблюдений, шт.', fontsize='17', horizontalalignment='center', fontweight='bold')"
   ]
  },
  {
   "cell_type": "markdown",
   "metadata": {},
   "source": [
    "###### Распределение по комнатам такое-же"
   ]
  },
  {
   "cell_type": "code",
   "execution_count": 245,
   "metadata": {},
   "outputs": [
    {
     "data": {
      "text/plain": [
       "count   6,054.00\n",
       "mean        2.69\n",
       "std         0.23\n",
       "min         2.40\n",
       "25%         2.60\n",
       "50%         2.65\n",
       "75%         2.65\n",
       "max         4.20\n",
       "Name: ceiling_height, dtype: float64"
      ]
     },
     "execution_count": 245,
     "metadata": {},
     "output_type": "execute_result"
    }
   ],
   "source": [
    "estate_center['ceiling_height'].describe()"
   ]
  },
  {
   "cell_type": "code",
   "execution_count": 257,
   "metadata": {},
   "outputs": [
    {
     "data": {
      "text/plain": [
       "Text(0, 0.5, 'частота наблюдений, шт.')"
      ]
     },
     "execution_count": 257,
     "metadata": {},
     "output_type": "execute_result"
    },
    {
     "data": {
      "image/png": "[encoded data removed]",
      "text/plain": [
       "<Figure size 1296x648 with 1 Axes>"
      ]
     },
     "metadata": {
      "needs_background": "light"
     },
     "output_type": "display_data"
    }
   ],
   "source": [
    "estate_center.plot(y='ceiling_height', bins=30, kind='hist',xlim=(2,5), legend=True, grid=True, figsize=(18,9))\n",
    "plt.xlabel('высота потолков, м.', fontweight='bold', fontsize='17', horizontalalignment='center')\n",
    "plt.ylabel('частота наблюдений, шт.', fontsize='17', horizontalalignment='center', fontweight='bold')"
   ]
  },
  {
   "cell_type": "markdown",
   "metadata": {},
   "source": [
    "###### Потолки хоть на чуть-чуть но меньше."
   ]
  },
  {
   "cell_type": "markdown",
   "metadata": {},
   "source": [
    "### Зависимость цены от площади, числа комнат, этажа, удаленности от центра, дат размещения."
   ]
  },
  {
   "cell_type": "code",
   "execution_count": 247,
   "metadata": {},
   "outputs": [
    {
     "data": {
      "text/plain": [
       "<AxesSubplot:xlabel='last_price', ylabel='total_area'>"
      ]
     },
     "execution_count": 247,
     "metadata": {},
     "output_type": "execute_result"
    },
    {
     "data": {
      "image/png": "[encoded data removed]",
      "text/plain": [
       "<Figure size 648x648 with 1 Axes>"
      ]
     },
     "metadata": {
      "needs_background": "light"
     },
     "output_type": "display_data"
    }
   ],
   "source": [
    "estate_center.plot(x='last_price', y='total_area', kind='scatter', alpha=0.5, figsize=(9,9), grid=True)"
   ]
  },
  {
   "cell_type": "code",
   "execution_count": 248,
   "metadata": {},
   "outputs": [
    {
     "data": {
      "text/plain": [
       "0.5952179472103598"
      ]
     },
     "execution_count": 248,
     "metadata": {},
     "output_type": "execute_result"
    }
   ],
   "source": [
    "estate_center['last_price'].corr(estate_center['total_area'])"
   ]
  },
  {
   "cell_type": "code",
   "execution_count": 249,
   "metadata": {},
   "outputs": [
    {
     "data": {
      "text/plain": [
       "<AxesSubplot:xlabel='rooms', ylabel='last_price'>"
      ]
     },
     "execution_count": 249,
     "metadata": {},
     "output_type": "execute_result"
    },
    {
     "data": {
      "image/png": "[encoded data removed]",
      "text/plain": [
       "<Figure size 648x648 with 1 Axes>"
      ]
     },
     "metadata": {
      "needs_background": "light"
     },
     "output_type": "display_data"
    }
   ],
   "source": [
    "estate_center.plot(x='rooms', y='last_price', kind='scatter', alpha=0.5, figsize=(9,9), grid=True)"
   ]
  },
  {
   "cell_type": "code",
   "execution_count": 250,
   "metadata": {},
   "outputs": [
    {
     "data": {
      "text/plain": [
       "0.2993119964269754"
      ]
     },
     "execution_count": 250,
     "metadata": {},
     "output_type": "execute_result"
    }
   ],
   "source": [
    "estate_center['last_price'].corr(estate_center['rooms'])"
   ]
  },
  {
   "cell_type": "code",
   "execution_count": 251,
   "metadata": {},
   "outputs": [
    {
     "data": {
      "text/plain": [
       "<AxesSubplot:xlabel='floor_is', ylabel='last_price'>"
      ]
     },
     "execution_count": 251,
     "metadata": {},
     "output_type": "execute_result"
    },
    {
     "data": {
      "image/png": "[encoded data removed]",
      "text/plain": [
       "<Figure size 648x648 with 1 Axes>"
      ]
     },
     "metadata": {
      "needs_background": "light"
     },
     "output_type": "display_data"
    }
   ],
   "source": [
    "estate_center.plot(x='floor_is', y='last_price', kind='scatter', alpha=0.5, figsize=(9,9), grid=True)"
   ]
  },
  {
   "cell_type": "code",
   "execution_count": 252,
   "metadata": {},
   "outputs": [
    {
     "data": {
      "text/plain": [
       "<AxesSubplot:xlabel='city_center_nearest', ylabel='last_price'>"
      ]
     },
     "execution_count": 252,
     "metadata": {},
     "output_type": "execute_result"
    },
    {
     "data": {
      "image/png": "[encoded data removed]",
      "text/plain": [
       "<Figure size 648x648 with 1 Axes>"
      ]
     },
     "metadata": {
      "needs_background": "light"
     },
     "output_type": "display_data"
    }
   ],
   "source": [
    "estate_center.plot(x='city_center_nearest', y='last_price', kind='scatter', alpha=0.5, figsize=(9,9), grid=True)"
   ]
  },
  {
   "cell_type": "code",
   "execution_count": 253,
   "metadata": {},
   "outputs": [
    {
     "data": {
      "text/plain": [
       "<AxesSubplot:xlabel='last_price', ylabel='week_day'>"
      ]
     },
     "execution_count": 253,
     "metadata": {},
     "output_type": "execute_result"
    },
    {
     "data": {
      "image/png": "[encoded data removed]",
      "text/plain": [
       "<Figure size 576x432 with 1 Axes>"
      ]
     },
     "metadata": {
      "needs_background": "light"
     },
     "output_type": "display_data"
    }
   ],
   "source": [
    "estate_center.plot(x='last_price', y='week_day', kind='scatter',figsize=(8, 6),grid=True, alpha=0.5)"
   ]
  },
  {
   "cell_type": "code",
   "execution_count": 254,
   "metadata": {},
   "outputs": [
    {
     "data": {
      "text/plain": [
       "<AxesSubplot:xlabel='last_price', ylabel='month'>"
      ]
     },
     "execution_count": 254,
     "metadata": {},
     "output_type": "execute_result"
    },
    {
     "data": {
      "image/png": "[encoded data removed]",
      "text/plain": [
       "<Figure size 576x432 with 1 Axes>"
      ]
     },
     "metadata": {
      "needs_background": "light"
     },
     "output_type": "display_data"
    }
   ],
   "source": [
    "estate_center.plot(x='last_price', y='month', kind='scatter',figsize=(8, 6),grid=True, alpha=0.5)"
   ]
  },
  {
   "cell_type": "code",
   "execution_count": 255,
   "metadata": {},
   "outputs": [
    {
     "data": {
      "text/plain": [
       "<AxesSubplot:xlabel='last_price', ylabel='year'>"
      ]
     },
     "execution_count": 255,
     "metadata": {},
     "output_type": "execute_result"
    },
    {
     "data": {
      "image/png": "[encoded data removed]",
      "text/plain": [
       "<Figure size 576x432 with 1 Axes>"
      ]
     },
     "metadata": {
      "needs_background": "light"
     },
     "output_type": "display_data"
    }
   ],
   "source": [
    "estate_center.plot(x='last_price', y='year', kind='scatter',figsize=(8, 6),grid=True, alpha=0.5)"
   ]
  },
  {
   "cell_type": "markdown",
   "metadata": {},
   "source": [
    "#### Вывод\n",
    "**Отсутствует зависимоть от расстояния до центра, более ярко выражен день размещения среда как самый дорогой а в остальном все также как и в квартирах что не в центре.**"
   ]
  },
  {
   "cell_type": "markdown",
   "metadata": {},
   "source": [
    "## Общий вывод"
   ]
  },
  {
   "cell_type": "markdown",
   "metadata": {},
   "source": [
    "**Исследования рынка недвижимости Санкт-Петербурга**\n",
    "\n",
    "**Изучив сырые данные пришёл к следующим выводам**\n",
    "*  **'last_price'** лишняя точность - привести к int. Проверили крайние значения, поправить строку 8793,предположим что            упустили    три    ноля в цене. Остальные на границе с финляндией цена адекватна оставляем (учтём в дальнейшем).\n",
    "*  **'total_area'** минимальные площади характерны для комнат а не для квартир, это отдельный рынок он не является предметом      нашего исследования удалим все объекты площадью меньше 20 метров(минимальный размер студии) и почти максимальный для            комнаты. Остальные значения хоть и смогут повляиять на среднее, оставим и изучим в дальнейшем.\n",
    "*  **'first_day_exposition'** привести к временному формату\n",
    "*  **'cieiling_height'** много пропусков заполним медианным значением, но сначала крайнии значения приведем к                      одному.Минимальные к 2.4 т.к. это минимальная высота потолков по СНИПАМ с учетом отделки, максимальные приведём к 4.2 м. ,      выше встречается, но это исключение которым можно принебречь.По пропускам обратить внимание etl инженеров.Эти данные есть\n",
    "   их можно найти и вставить даже если пользователи не знают их, либо проблема в выгрузке.\n",
    "*  **'floors_total'** излишняя точность, заменить на int. Небольшая нехватка значений заменить на медианное.\n",
    "   уделить внимание внесению частного сектора.\n",
    "*  **'living_area'** есть объекты с жилой площадью меньше разрешенной СНИПАМИ(14 кв.м комната),есть пустые значения, более 8500    строк(очень много для выборки) с жилой площадью менее 28 кв.м. это мало вероятно т.к. стандартаная двухкомнатная это 28-30      кв.м. жилой      площади а двухкомнатные это большая доля рынка, взамосвязи не нашел, поэтому приведем в зависимость от        количества комнат        составив функцию однойй строки.\n",
    "*  **'floor'** подозрительно всё в порядке)))\n",
    "*  **'is_apartment'** привести к bool, значения NaN заменить на False, т.к. аппартаменты очень маленький сегмент недвижимости\n",
    "   небольшое количество данных это нормально и NaN это скорей всего не апартаменты.\n",
    "*  **'kitchen_area'** заменим на медианное значения в NaN и там где кухня меньше 6 метров приведм к 7, по СНИПАМ кухня 8 метров    но есть большоё количество построенного жилья с кухней 6-8 м. Максимальные значения оставим т.к. выборочная проверка            показала, что  это дорогие объекты с большой площадью, где кухня может быть больших размеров.\n",
    "*  **'balcony'** Привести к bool т.к балкон либо есть, либо его нет и для наших целей количество не имеет значения.                Предположим что пропущенные значения это просто отсутствие балконов, присвоим им False.\n",
    "*  **'airports_nearest'** в 85-ти пропущенных значений по целевому столбцу (Санкт-Петербург) заполним пропуски                    медианными, остальные приравняем к нулю т.к. близость аэропорта имеет смысл только для Санкт-Петербурга. Приведём к int,        округлим до киллометра. Переименовать в airport_nearest.\n",
    "*  **'cityCenters_nearest'** переименуем 'city_сenter_nearest', привести к int , округлить до километра,\n",
    "   в 61-ом пропущенных значений по целевому столбцу (Санкт-Петербург) заполнить пропуски медианными, остальные к нулю.\n",
    "\n",
    "** Необходимо согласовать форму выгрузки.**\n",
    "\n",
    "**В процессе исследования произвёл расчеты и добавил в таблицу следующие данные:**\n",
    "* цену квадратного метра\n",
    "* день недели, месяц и год публикации объявления\n",
    "* разбивку по этажам-первый,последний,другой\n",
    "* соотношение жилой площади к общей\n",
    "* отношение площади кухни к общей площади\n",
    "\n",
    "**В результате исследовательсокго анализа я ответил на следующие вопросы:**\n",
    "\n",
    "**Установил срок продажи**\n",
    "\n",
    "* обычно продажа занимает 55-110 дней\n",
    "  можно считать, что время продажи необычайно быстро, если оно меньше 45 дней\n",
    "  можно считать, что время продажи необычайно долго, если оно больше 198 дней, и совсем всё плохо если оно больше 400 дней\n",
    "\n",
    "**Установил факторы влияющие на цену квартиры**\n",
    "\n",
    "* площадь квартиры прямо влияет на цену\n",
    "* количество комнат с увеличением их влияние снижается\n",
    "* удаленность от центра тем больше влияет чем ближе квартира к центру\n",
    "* располдожение квартиры на первом этаже сильно снижает цену,в то время как на последнем немногим меньше чем на других этаж\n",
    "* есть зависимоть от дня недели в который размещается объявление в воскресенье самые дешевые в четверг самые дорогие\n",
    "* самый лучший месяц для покупки август а самый дорогой декабрь\n",
    "* разница по годам обусловлена общим изменением цен но она есть это 2014 недорого и 2017 пик цен.\n",
    "\n",
    "**Расчитал максимальную и минимальную цену за квадратный метр в населенных пунктах с максимальным количеством объявлений:**\n",
    "\n",
    "* Санкт_Петербург 114833 рубля за кв.м. Выборг 58142 рубля за кв.м. \n",
    "\n",
    "**Определил область вхождения в центр:**\n",
    "\n",
    "* Это окружность радиусом 2,5 километра\n",
    "\n",
    "**Выделил квартиры в центре для сравнения с остальными**\n",
    "\n",
    "* квартиры в центре меньше, дешевле, с более низкими потолками, но не нарушают общих принципов ценообразования.\n",
    "\n",
    "\n",
    "   \n",
    "\n",
    "\n"
   ]
  }
 ],
 "metadata": {
  "kernelspec": {
   "display_name": "Python 3 (ipykernel)",
   "language": "python",
   "name": "python3"
  },
  "language_info": {
   "codemirror_mode": {
    "name": "ipython",
    "version": 3
   },
   "file_extension": ".py",
   "mimetype": "text/x-python",
   "name": "python",
   "nbconvert_exporter": "python",
   "pygments_lexer": "ipython3",
   "version": "3.9.7"
  },
  "toc": {
   "base_numbering": 1,
   "nav_menu": {},
   "number_sections": true,
   "sideBar": true,
   "skip_h1_title": true,
   "title_cell": "Содержание",
   "title_sidebar": "Contents",
   "toc_cell": true,
   "toc_position": {
    "height": "calc(100% - 180px)",
    "left": "10px",
    "top": "150px",
    "width": "568.889px"
   },
   "toc_section_display": true,
   "toc_window_display": true
  }
 },
 "nbformat": 4,
 "nbformat_minor": 2
}
