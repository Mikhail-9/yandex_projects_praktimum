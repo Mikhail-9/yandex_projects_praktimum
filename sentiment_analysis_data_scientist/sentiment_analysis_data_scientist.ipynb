{
 "cells": [
  {
   "cell_type": "markdown",
   "id": "33b1b234",
   "metadata": {
    "toc": true
   },
   "source": [
    "<h1>Table of Contents<span class=\"tocSkip\"></span></h1>\n",
    "<div class=\"toc\"><ul class=\"toc-item\"><li><span><a href=\"#Сентимент-анализ---классификация-тональности-текста\" data-toc-modified-id=\"Сентимент-анализ---классификация-тональности-текста-1\"><span class=\"toc-item-num\">1&nbsp;&nbsp;</span>Сентимент анализ - классификация тональности текста</a></span><ul class=\"toc-item\"><li><span><a href=\"#Задача-провести-сентимент-анализ-лемматизированного-текста.\" data-toc-modified-id=\"Задача-провести-сентимент-анализ-лемматизированного-текста.-1.1\"><span class=\"toc-item-num\">1.1&nbsp;&nbsp;</span>Задача провести сентимент анализ лемматизированного текста.</a></span></li></ul></li></ul></div>"
   ]
  },
  {
   "cell_type": "markdown",
   "id": "7beec0ff",
   "metadata": {},
   "source": [
    "# Сентимент анализ - классификация тональности текста"
   ]
  },
  {
   "cell_type": "markdown",
   "id": "004a3114",
   "metadata": {},
   "source": [
    "## Задача провести сентимент анализ лемматизированного текста."
   ]
  },
  {
   "cell_type": "markdown",
   "id": "fd9b76fb",
   "metadata": {},
   "source": [
    "**Проведем анализ тональности текста, выявляя эмоционально окрашенные слова.\n",
    "Оценить тональность — значит отметить текст как позитивный или негативный. То есть мы решаем задачу классификации, где целевой признак равен «1» для положительного текста и «0» для отрицательного. Признаки — это слова из корпуса и их величины TF-IDF для каждого текста.**"
   ]
  },
  {
   "cell_type": "code",
   "execution_count": 85,
   "id": "55d3c5b2",
   "metadata": {},
   "outputs": [],
   "source": [
    "import pandas as pd\n",
    "import nltk\n",
    "from nltk.corpus import stopwords\n",
    "from sklearn.feature_extraction.text import CountVectorizer\n",
    "from sklearn.linear_model import LogisticRegression \n",
    "from sklearn.feature_extraction.text import TfidfVectorizer "
   ]
  },
  {
   "cell_type": "code",
   "execution_count": 86,
   "id": "25364aab",
   "metadata": {},
   "outputs": [],
   "source": [
    "data = pd.read_csv(\n",
    "        '/Users/bogda/anaconda3/projects/praktikum/project_sentiment/tweets_lemm_train.csv')\n"
   ]
  },
  {
   "cell_type": "code",
   "execution_count": 87,
   "id": "f2328500",
   "metadata": {},
   "outputs": [],
   "source": [
    "data_test = pd.read_csv(\n",
    "        '/Users/bogda/anaconda3/projects/praktikum/project_sentiment/tweets_lemm_test.csv')\n"
   ]
  },
  {
   "cell_type": "markdown",
   "id": "707c7ed8",
   "metadata": {},
   "source": [
    "**Обучающий текст**"
   ]
  },
  {
   "cell_type": "code",
   "execution_count": 88,
   "id": "40f91219",
   "metadata": {},
   "outputs": [
    {
     "data": {
      "text/html": [
       "<div>\n",
       "<style scoped>\n",
       "    .dataframe tbody tr th:only-of-type {\n",
       "        vertical-align: middle;\n",
       "    }\n",
       "\n",
       "    .dataframe tbody tr th {\n",
       "        vertical-align: top;\n",
       "    }\n",
       "\n",
       "    .dataframe thead th {\n",
       "        text-align: right;\n",
       "    }\n",
       "</style>\n",
       "<table border=\"1\" class=\"dataframe\">\n",
       "  <thead>\n",
       "    <tr style=\"text-align: right;\">\n",
       "      <th></th>\n",
       "      <th>text</th>\n",
       "      <th>positive</th>\n",
       "      <th>lemm_text</th>\n",
       "    </tr>\n",
       "  </thead>\n",
       "  <tbody>\n",
       "    <tr>\n",
       "      <th>0</th>\n",
       "      <td>@first_timee хоть я и школота, но поверь, у на...</td>\n",
       "      <td>1</td>\n",
       "      <td>хоть я и школотый но поверь у мы то же самый о...</td>\n",
       "    </tr>\n",
       "    <tr>\n",
       "      <th>1</th>\n",
       "      <td>Да, все-таки он немного похож на него. Но мой ...</td>\n",
       "      <td>1</td>\n",
       "      <td>да весь таки он немного похожий на он но мой м...</td>\n",
       "    </tr>\n",
       "    <tr>\n",
       "      <th>2</th>\n",
       "      <td>RT @KatiaCheh: Ну ты идиотка) я испугалась за ...</td>\n",
       "      <td>1</td>\n",
       "      <td>ну ты идиотка я испугаться за ты</td>\n",
       "    </tr>\n",
       "    <tr>\n",
       "      <th>3</th>\n",
       "      <td>RT @digger2912: \"Кто то в углу сидит и погибае...</td>\n",
       "      <td>1</td>\n",
       "      <td>кто то в угол сидеть и погибать от голод а мы ...</td>\n",
       "    </tr>\n",
       "    <tr>\n",
       "      <th>4</th>\n",
       "      <td>@irina_dyshkant Вот что значит страшилка :D\\r\\...</td>\n",
       "      <td>1</td>\n",
       "      <td>вот что значит страшилка но блин посмотреть ве...</td>\n",
       "    </tr>\n",
       "    <tr>\n",
       "      <th>...</th>\n",
       "      <td>...</td>\n",
       "      <td>...</td>\n",
       "      <td>...</td>\n",
       "    </tr>\n",
       "    <tr>\n",
       "      <th>4995</th>\n",
       "      <td>Вроде дружили 10 лет и в один момент все разру...</td>\n",
       "      <td>0</td>\n",
       "      <td>вроде дружить год и в один момент весь разруши...</td>\n",
       "    </tr>\n",
       "    <tr>\n",
       "      <th>4996</th>\n",
       "      <td>@m_gulko \\r\\nПоэтому и поздравляю заранее, что...</td>\n",
       "      <td>0</td>\n",
       "      <td>поэтому и поздравлять заранее что не получитьс...</td>\n",
       "    </tr>\n",
       "    <tr>\n",
       "      <th>4997</th>\n",
       "      <td>RT @kubudojede: черт, ну зачем они переделали ...</td>\n",
       "      <td>0</td>\n",
       "      <td>черта ну зачем они переделать</td>\n",
       "    </tr>\n",
       "    <tr>\n",
       "      <th>4998</th>\n",
       "      <td>RT @xidewojopiba: Вроде бы и любим друг друга,...</td>\n",
       "      <td>0</td>\n",
       "      <td>вроде бы и любим друг друг и быть вместе не мо...</td>\n",
       "    </tr>\n",
       "    <tr>\n",
       "      <th>4999</th>\n",
       "      <td>Одна из самых скучных суббот за последнее врем...</td>\n",
       "      <td>0</td>\n",
       "      <td>один из самый скучный суббота за последний вре...</td>\n",
       "    </tr>\n",
       "  </tbody>\n",
       "</table>\n",
       "<p>5000 rows × 3 columns</p>\n",
       "</div>"
      ],
      "text/plain": [
       "                                                   text  positive  \\\n",
       "0     @first_timee хоть я и школота, но поверь, у на...         1   \n",
       "1     Да, все-таки он немного похож на него. Но мой ...         1   \n",
       "2     RT @KatiaCheh: Ну ты идиотка) я испугалась за ...         1   \n",
       "3     RT @digger2912: \"Кто то в углу сидит и погибае...         1   \n",
       "4     @irina_dyshkant Вот что значит страшилка :D\\r\\...         1   \n",
       "...                                                 ...       ...   \n",
       "4995  Вроде дружили 10 лет и в один момент все разру...         0   \n",
       "4996  @m_gulko \\r\\nПоэтому и поздравляю заранее, что...         0   \n",
       "4997  RT @kubudojede: черт, ну зачем они переделали ...         0   \n",
       "4998  RT @xidewojopiba: Вроде бы и любим друг друга,...         0   \n",
       "4999  Одна из самых скучных суббот за последнее врем...         0   \n",
       "\n",
       "                                              lemm_text  \n",
       "0     хоть я и школотый но поверь у мы то же самый о...  \n",
       "1     да весь таки он немного похожий на он но мой м...  \n",
       "2                     ну ты идиотка я испугаться за ты   \n",
       "3     кто то в угол сидеть и погибать от голод а мы ...  \n",
       "4     вот что значит страшилка но блин посмотреть ве...  \n",
       "...                                                 ...  \n",
       "4995  вроде дружить год и в один момент весь разруши...  \n",
       "4996  поэтому и поздравлять заранее что не получитьс...  \n",
       "4997                     черта ну зачем они переделать   \n",
       "4998  вроде бы и любим друг друг и быть вместе не мо...  \n",
       "4999  один из самый скучный суббота за последний вре...  \n",
       "\n",
       "[5000 rows x 3 columns]"
      ]
     },
     "execution_count": 88,
     "metadata": {},
     "output_type": "execute_result"
    }
   ],
   "source": [
    "data"
   ]
  },
  {
   "cell_type": "markdown",
   "id": "5d297f10",
   "metadata": {},
   "source": [
    "**Тестовый текст**"
   ]
  },
  {
   "cell_type": "code",
   "execution_count": 89,
   "id": "0ce2f693",
   "metadata": {},
   "outputs": [
    {
     "data": {
      "text/html": [
       "<div>\n",
       "<style scoped>\n",
       "    .dataframe tbody tr th:only-of-type {\n",
       "        vertical-align: middle;\n",
       "    }\n",
       "\n",
       "    .dataframe tbody tr th {\n",
       "        vertical-align: top;\n",
       "    }\n",
       "\n",
       "    .dataframe thead th {\n",
       "        text-align: right;\n",
       "    }\n",
       "</style>\n",
       "<table border=\"1\" class=\"dataframe\">\n",
       "  <thead>\n",
       "    <tr style=\"text-align: right;\">\n",
       "      <th></th>\n",
       "      <th>text</th>\n",
       "      <th>lemm_text</th>\n",
       "    </tr>\n",
       "  </thead>\n",
       "  <tbody>\n",
       "    <tr>\n",
       "      <th>0</th>\n",
       "      <td>RT @tiredfennel: если криса так интересуют дет...</td>\n",
       "      <td>если крис так интересовать ребёнок то либо они...</td>\n",
       "    </tr>\n",
       "    <tr>\n",
       "      <th>1</th>\n",
       "      <td>@xsealord по 200 руб. в месяц можно разместить...</td>\n",
       "      <td>по рубль в месяц можно разместить ссылка на те...</td>\n",
       "    </tr>\n",
       "    <tr>\n",
       "      <th>2</th>\n",
       "      <td>@haosANDlaw @Etishkindyx учитывая, что сейчас ...</td>\n",
       "      <td>учитывать что сейчас преобладать один половина...</td>\n",
       "    </tr>\n",
       "    <tr>\n",
       "      <th>3</th>\n",
       "      <td>Товарищ    :) Но я никак не могу отдельно не о...</td>\n",
       "      <td>товарищ но я никак не мочь отдельно не отметит...</td>\n",
       "    </tr>\n",
       "    <tr>\n",
       "      <th>4</th>\n",
       "      <td>RT @BodyaNick: Квн был отличный !) Оооочень по...</td>\n",
       "      <td>квн быть отличный оооочень понравиться женский...</td>\n",
       "    </tr>\n",
       "    <tr>\n",
       "      <th>...</th>\n",
       "      <td>...</td>\n",
       "      <td>...</td>\n",
       "    </tr>\n",
       "    <tr>\n",
       "      <th>2995</th>\n",
       "      <td>жуйк, ачивки в контре — зло! мой младший брат ...</td>\n",
       "      <td>жуйк ачивка в контра зло мой младший брат втян...</td>\n",
       "    </tr>\n",
       "    <tr>\n",
       "      <th>2996</th>\n",
       "      <td>Не хочу идти на танцы :( http://t.co/5OdPjbYXOC</td>\n",
       "      <td>не хотеть идти на танец</td>\n",
       "    </tr>\n",
       "    <tr>\n",
       "      <th>2997</th>\n",
       "      <td>На улице пусто!ни людей,ни машин,наверно холод...</td>\n",
       "      <td>на улица пусто ни человек ни машина наверно хо...</td>\n",
       "    </tr>\n",
       "    <tr>\n",
       "      <th>2998</th>\n",
       "      <td>По-моему мы и ходили за водкой в три часа за э...</td>\n",
       "      <td>по мой мы и ходить за водка в три час за это ч...</td>\n",
       "    </tr>\n",
       "    <tr>\n",
       "      <th>2999</th>\n",
       "      <td>Р.В сказал,что с утра будет самостоятельная,ну...</td>\n",
       "      <td>р в сказать что с утро быть самостоятельный ну...</td>\n",
       "    </tr>\n",
       "  </tbody>\n",
       "</table>\n",
       "<p>3000 rows × 2 columns</p>\n",
       "</div>"
      ],
      "text/plain": [
       "                                                   text  \\\n",
       "0     RT @tiredfennel: если криса так интересуют дет...   \n",
       "1     @xsealord по 200 руб. в месяц можно разместить...   \n",
       "2     @haosANDlaw @Etishkindyx учитывая, что сейчас ...   \n",
       "3     Товарищ    :) Но я никак не могу отдельно не о...   \n",
       "4     RT @BodyaNick: Квн был отличный !) Оооочень по...   \n",
       "...                                                 ...   \n",
       "2995  жуйк, ачивки в контре — зло! мой младший брат ...   \n",
       "2996    Не хочу идти на танцы :( http://t.co/5OdPjbYXOC   \n",
       "2997  На улице пусто!ни людей,ни машин,наверно холод...   \n",
       "2998  По-моему мы и ходили за водкой в три часа за э...   \n",
       "2999  Р.В сказал,что с утра будет самостоятельная,ну...   \n",
       "\n",
       "                                              lemm_text  \n",
       "0     если крис так интересовать ребёнок то либо они...  \n",
       "1     по рубль в месяц можно разместить ссылка на те...  \n",
       "2     учитывать что сейчас преобладать один половина...  \n",
       "3     товарищ но я никак не мочь отдельно не отметит...  \n",
       "4     квн быть отличный оооочень понравиться женский...  \n",
       "...                                                 ...  \n",
       "2995  жуйк ачивка в контра зло мой младший брат втян...  \n",
       "2996                           не хотеть идти на танец   \n",
       "2997  на улица пусто ни человек ни машина наверно хо...  \n",
       "2998  по мой мы и ходить за водка в три час за это ч...  \n",
       "2999  р в сказать что с утро быть самостоятельный ну...  \n",
       "\n",
       "[3000 rows x 2 columns]"
      ]
     },
     "execution_count": 89,
     "metadata": {},
     "output_type": "execute_result"
    }
   ],
   "source": [
    "data_test"
   ]
  },
  {
   "cell_type": "markdown",
   "id": "e6c63e38",
   "metadata": {},
   "source": [
    "**Выделим таргет**"
   ]
  },
  {
   "cell_type": "code",
   "execution_count": 90,
   "id": "bf119066",
   "metadata": {},
   "outputs": [],
   "source": [
    "corpus_train = data['lemm_text'].values.astype('U')\n",
    "target = data['positive']"
   ]
  },
  {
   "cell_type": "code",
   "execution_count": 91,
   "id": "e0380d0d",
   "metadata": {},
   "outputs": [],
   "source": [
    "corpus_test = data_test['lemm_text'].values.astype('U')"
   ]
  },
  {
   "cell_type": "markdown",
   "id": "59ed37cd",
   "metadata": {},
   "source": [
    "**Загрузим стоп-слова**"
   ]
  },
  {
   "cell_type": "code",
   "execution_count": 92,
   "id": "3d35b434",
   "metadata": {},
   "outputs": [
    {
     "name": "stderr",
     "output_type": "stream",
     "text": [
      "[nltk_data] Downloading package stopwords to\n",
      "[nltk_data]     C:\\Users\\bogda\\AppData\\Roaming\\nltk_data...\n",
      "[nltk_data]   Package stopwords is already up-to-date!\n"
     ]
    },
    {
     "data": {
      "text/plain": [
       "True"
      ]
     },
     "execution_count": 92,
     "metadata": {},
     "output_type": "execute_result"
    }
   ],
   "source": [
    "nltk.download('stopwords')"
   ]
  },
  {
   "cell_type": "markdown",
   "id": "2c66e79d",
   "metadata": {},
   "source": [
    "**Русифицирующий пакет**"
   ]
  },
  {
   "cell_type": "code",
   "execution_count": 93,
   "id": "4caafab0",
   "metadata": {},
   "outputs": [],
   "source": [
    "stopwords = set(stopwords.words('russian'))"
   ]
  },
  {
   "cell_type": "markdown",
   "id": "6dd0ec88",
   "metadata": {},
   "source": [
    "**Сщздадим счетчик векторизатор со стоп-словами**"
   ]
  },
  {
   "cell_type": "code",
   "execution_count": 94,
   "id": "dd7eeacf",
   "metadata": {},
   "outputs": [],
   "source": [
    "count_tf_idf = TfidfVectorizer(stop_words=stopwords) "
   ]
  },
  {
   "cell_type": "markdown",
   "id": "65ebcc59",
   "metadata": {},
   "source": [
    "**Обучим**"
   ]
  },
  {
   "cell_type": "code",
   "execution_count": 95,
   "id": "7a969b6f",
   "metadata": {},
   "outputs": [],
   "source": [
    "tf_idf_train = count_tf_idf.fit_transform(corpus_train)"
   ]
  },
  {
   "cell_type": "code",
   "execution_count": 96,
   "id": "4d5fb008",
   "metadata": {},
   "outputs": [],
   "source": [
    "tf_idf_test = count_tf_idf.transform(corpus_test)"
   ]
  },
  {
   "cell_type": "markdown",
   "id": "4b57790c",
   "metadata": {},
   "source": [
    "**Применим векторизованные тексты к логистической регресии**"
   ]
  },
  {
   "cell_type": "code",
   "execution_count": 97,
   "id": "3c47720f",
   "metadata": {},
   "outputs": [],
   "source": [
    "model = LogisticRegression(random_state=77)"
   ]
  },
  {
   "cell_type": "code",
   "execution_count": 98,
   "id": "87bdef75",
   "metadata": {},
   "outputs": [
    {
     "data": {
      "text/plain": [
       "LogisticRegression(random_state=77)"
      ]
     },
     "execution_count": 98,
     "metadata": {},
     "output_type": "execute_result"
    }
   ],
   "source": [
    "model.fit(tf_idf_train, target)"
   ]
  },
  {
   "cell_type": "code",
   "execution_count": 99,
   "id": "cc7987d7",
   "metadata": {},
   "outputs": [],
   "source": [
    "predictions = model.predict(tf_idf_test)"
   ]
  },
  {
   "cell_type": "markdown",
   "id": "4c464733",
   "metadata": {},
   "source": [
    "**Выгрузим**"
   ]
  },
  {
   "cell_type": "code",
   "execution_count": 101,
   "id": "18fe9f38",
   "metadata": {},
   "outputs": [],
   "source": [
    "submission = pd.DataFrame({'positive':predictions})\n",
    "submission.to_csv('predictions', index=False)"
   ]
  },
  {
   "cell_type": "code",
   "execution_count": null,
   "id": "c999a777",
   "metadata": {},
   "outputs": [],
   "source": []
  }
 ],
 "metadata": {
  "kernelspec": {
   "display_name": "Python 3 (ipykernel)",
   "language": "python",
   "name": "python3"
  },
  "language_info": {
   "codemirror_mode": {
    "name": "ipython",
    "version": 3
   },
   "file_extension": ".py",
   "mimetype": "text/x-python",
   "name": "python",
   "nbconvert_exporter": "python",
   "pygments_lexer": "ipython3",
   "version": "3.9.7"
  },
  "toc": {
   "base_numbering": 1,
   "nav_menu": {},
   "number_sections": true,
   "sideBar": true,
   "skip_h1_title": false,
   "title_cell": "Table of Contents",
   "title_sidebar": "Contents",
   "toc_cell": true,
   "toc_position": {},
   "toc_section_display": true,
   "toc_window_display": false
  }
 },
 "nbformat": 4,
 "nbformat_minor": 5
}
