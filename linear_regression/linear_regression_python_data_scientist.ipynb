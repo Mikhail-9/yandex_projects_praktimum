{
 "cells": [
  {
   "cell_type": "markdown",
   "id": "34c280e4",
   "metadata": {
    "toc": true
   },
   "source": [
    "<h1>Table of Contents<span class=\"tocSkip\"></span></h1>\n",
    "<div class=\"toc\"><ul class=\"toc-item\"><li><span><a href=\"#Введение\" data-toc-modified-id=\"Введение-1\"><span class=\"toc-item-num\">1&nbsp;&nbsp;</span>Введение</a></span></li></ul></div>"
   ]
  },
  {
   "cell_type": "markdown",
   "id": "e0ca64c8",
   "metadata": {},
   "source": [
    "# Введение\n",
    "**Напишем на Python код линейной регрессии**"
   ]
  },
  {
   "cell_type": "code",
   "execution_count": 1,
   "id": "cac04d12",
   "metadata": {},
   "outputs": [],
   "source": [
    "import numpy as np\n",
    "import pandas as pd\n",
    "from sklearn.metrics import r2_score"
   ]
  },
  {
   "cell_type": "code",
   "execution_count": 2,
   "id": "e5d2e8c7",
   "metadata": {},
   "outputs": [],
   "source": [
    "columns = ['комнаты', 'площадь', 'кухня', 'пл. жилая', 'этаж', 'всего этажей', 'цена']\n",
    "\n",
    "data = pd.DataFrame([\n",
    "    [1, 38.5, 6.9, 18.9, 3, 5, 4200000],\n",
    "    [1, 38.0, 8.5, 19.2, 9, 17, 3500000],\n",
    "    [1, 34.7, 10.3, 19.8, 1, 9, 5100000],\n",
    "    [1, 45.9, 11.1, 17.5, 11, 23, 6300000],\n",
    "    [1, 42.4, 10.0, 19.9, 6, 14, 5900000],\n",
    "    [1, 46.0, 10.2, 20.5, 3, 12, 8100000],\n",
    "    [2, 77.7, 13.2, 39.3, 3, 17, 7400000],\n",
    "    [2, 69.8, 11.1, 31.4, 12, 23, 7200000],\n",
    "    [2, 78.2, 19.4, 33.2, 4, 9, 6800000],\n",
    "    [2, 55.5, 7.8, 29.6, 1, 25, 9300000],\n",
    "    [2, 74.3, 16.0, 34.2, 14, 17, 10600000],\n",
    "    [2, 78.3, 12.3, 42.6, 23, 23, 8500000],\n",
    "    [2, 74.0, 18.1, 49.0, 8, 9, 6000000],\n",
    "    [2, 91.4, 20.1, 60.4, 2, 10, 7200000],\n",
    "    [3, 85.0, 17.8, 56.1, 14, 14, 12500000],\n",
    "    [3, 79.8, 9.8, 44.8, 9, 10, 13200000],\n",
    "    [3, 72.0, 10.2, 37.3, 7, 9, 15100000],\n",
    "    [3, 95.3, 11.0, 51.5, 15, 23, 9800000],\n",
    "    [3, 69.3, 8.5, 39.3, 4, 9, 11400000],\n",
    "    [3, 89.8, 11.2, 58.2, 24, 25, 16300000],\n",
    "], columns=columns)"
   ]
  },
  {
   "cell_type": "code",
   "execution_count": 3,
   "id": "f9982987",
   "metadata": {},
   "outputs": [],
   "source": [
    "features = data.drop('цена', axis=1)\n",
    "target = data['цена']"
   ]
  },
  {
   "cell_type": "code",
   "execution_count": 4,
   "id": "fbe0527c",
   "metadata": {},
   "outputs": [],
   "source": [
    "class LinearRegression:\n",
    "    def fit(self, train_features, train_target):\n",
    "        X = np.concatenate((np.ones((train_features.shape[0], 1)), train_features), axis=1)\n",
    "        y = train_target\n",
    "        w = np.linalg.inv(X.T @ X) @ X.T @ y\n",
    "        self.w = w[1:]\n",
    "        self.w0 = w[0]\n",
    "\n",
    "    def predict(self, test_features):\n",
    "        return test_features.dot(self.w) + self.w0"
   ]
  },
  {
   "cell_type": "code",
   "execution_count": 5,
   "id": "c294a755",
   "metadata": {},
   "outputs": [
    {
     "name": "stdout",
     "output_type": "stream",
     "text": [
      "0.7781189439686584\n"
     ]
    }
   ],
   "source": [
    "model = LinearRegression()\n",
    "model.fit(features, target)\n",
    "predictions = model.predict(features)\n",
    "print(r2_score(target, predictions))"
   ]
  }
 ],
 "metadata": {
  "kernelspec": {
   "display_name": "Python 3 (ipykernel)",
   "language": "python",
   "name": "python3"
  },
  "language_info": {
   "codemirror_mode": {
    "name": "ipython",
    "version": 3
   },
   "file_extension": ".py",
   "mimetype": "text/x-python",
   "name": "python",
   "nbconvert_exporter": "python",
   "pygments_lexer": "ipython3",
   "version": "3.9.7"
  },
  "toc": {
   "base_numbering": 1,
   "nav_menu": {},
   "number_sections": true,
   "sideBar": true,
   "skip_h1_title": false,
   "title_cell": "Table of Contents",
   "title_sidebar": "Contents",
   "toc_cell": true,
   "toc_position": {},
   "toc_section_display": true,
   "toc_window_display": true
  }
 },
 "nbformat": 4,
 "nbformat_minor": 5
}
